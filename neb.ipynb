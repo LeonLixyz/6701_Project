{
 "cells": [
  {
   "cell_type": "code",
   "execution_count": 3,
   "metadata": {
    "id": "5ezErBs_WtU2",
    "scrolled": true
   },
   "outputs": [],
   "source": [
    "import numpy as np\n",
    "import copy\n",
    "import os\n",
    "np.seterr(all='raise') \n",
    "import argparse\n",
    "import csv\n",
    "import matplotlib\n",
    "import matplotlib.pyplot as plt\n",
    "from tqdm import tqdm\n",
    "import pickle\n",
    "from datetime import datetime\n",
    "import scipy\n",
    "from scipy import stats\n",
    "from scipy.special import gamma, digamma, loggamma"
   ]
  },
  {
   "cell_type": "code",
   "execution_count": 4,
   "metadata": {
    "scrolled": true
   },
   "outputs": [],
   "source": [
    "import os\n",
    "cwd = os.getcwd()\n",
    "BOW_PATH = cwd + \"/Data/ap.dat\" \n",
    "VOCAB_PATH = cwd + \"/Data/vocab.txt\""
   ]
  },
  {
   "cell_type": "code",
   "execution_count": 5,
   "metadata": {},
   "outputs": [],
   "source": [
    "PATH = os.getcwd()"
   ]
  },
  {
   "cell_type": "code",
   "execution_count": 6,
   "metadata": {
    "id": "kWpRHrPt1TzB",
    "scrolled": true
   },
   "outputs": [],
   "source": [
    "\n",
    "\n",
    "# Topic Exch. Dirichlet hyperparameter (mixture components)\n",
    "ETA = 0.01 # Set to 100/V\n",
    "\n",
    "# Topic Proportion Dirichlet hyperparameter (mixture proportions)\n",
    "ALPHA = 0.1 # Set to\n",
    "\n",
    "# Maximum number of iterations (Might not use)\n",
    "MAX_ITER = 100\n",
    "\n",
    "# Number of CAVI iterations\n",
    "N_TRIALS = 1\n",
    "\n",
    "# Test data size\n",
    "N_TEST = 10"
   ]
  },
  {
   "cell_type": "markdown",
   "metadata": {
    "id": "d_mjDK9okh7_"
   },
   "source": [
    "## Helper "
   ]
  },
  {
   "cell_type": "code",
   "execution_count": 7,
   "metadata": {
    "id": "HlESYOYNkkqf",
    "scrolled": true
   },
   "outputs": [],
   "source": [
    "def compute_logsumexp(scores):\n",
    "    # Take the max of the scores\n",
    "    max_score = np.max(scores, axis=0)\n",
    "\n",
    "    # Subtract scores by max and exponentiate\n",
    "    exp_scores = np.exp(scores - max_score)\n",
    "\n",
    "    # Compute denominator\n",
    "    sum_exp = np.sum(exp_scores)\n",
    "\n",
    "    # Compute log-sum-exp\n",
    "    log_sum_exp = np.log(sum_exp) + max_score\n",
    "\n",
    "    return log_sum_exp\n",
    "\n",
    "\n",
    "# Loads the AP article dataset\n",
    "def load_data():\n",
    "    # Load index-to-word mapping\n",
    "    print('Loading index-to-word mapping...')\n",
    "\n",
    "    with open(VOCAB_PATH, 'r') as fh:\n",
    "        raw_lines = fh.readlines()\n",
    "\n",
    "    idx_to_words = [word.strip() for word in raw_lines]\n",
    "    V = len(idx_to_words)\n",
    "\n",
    "    # Load article BoW representations\n",
    "    print('Loading article bag-of-word representations...')\n",
    "\n",
    "    with open(BOW_PATH, 'r') as fh:\n",
    "        raw_lines = fh.readlines()\n",
    "        N = len(raw_lines)\n",
    "        print('{} articles found.'.format(N))\n",
    "\n",
    "    articles = np.zeros((N,V))\n",
    "    nonzero_idxs = []\n",
    "\n",
    "    # Process each article\n",
    "    for i in tqdm(range(N)):\n",
    "        split = raw_lines[i].split(' ')\n",
    "        n_words = int(split[0]) # Number of words in the article\n",
    "        split = split[1:] # BoW representations\n",
    "\n",
    "        article = np.zeros((V,)) # Sparse V-vector\n",
    "        nonzero_idx = [] # List of indices that have non-zero counts\n",
    "\n",
    "        for bow in split:\n",
    "            bow = bow.strip()\n",
    "            word_idx, count = bow.split(':')\n",
    "\n",
    "            nonzero_idx.append(int(word_idx))\n",
    "            article[int(word_idx)] = count\n",
    "\n",
    "        # Check if article words parsed correctly\n",
    "        try:\n",
    "            assert(len(nonzero_idx) == n_words)\n",
    "        except:\n",
    "            raise AssertionError('{}, {}'.format(len(nonzero_idx), n_words))\n",
    "\n",
    "        articles[i] = article\n",
    "        nonzero_idxs.append(sorted(nonzero_idx))\n",
    "\n",
    "    return idx_to_words, articles, nonzero_idxs\n",
    "\n",
    "\n",
    "# Initializes the variational parameters for CAVI\n",
    "def init_var_param(train_articles, C):\n",
    "    print('Initializing variational parameters...')\n",
    "\n",
    "    # Number of articles, vocabulary size\n",
    "    N, V = train_articles.shape\n",
    "\n",
    "    # Topics (initializing LAMBDA for BETA)\n",
    "    LAMBDA = np.random.uniform(low=0.01, high=1.0, size=(C,V))\n",
    "\n",
    "    # Topic Proportions (initializing GAMMA for THETA)\n",
    "    GAMMA = np.ones((N,C)) # Uniform prior\n",
    "\n",
    "    # Topic Assignments (initializing PHI for Z)\n",
    "    # Shape: (N,n_words,C) (Note: n_words is vacriable)\n",
    "    PHI = []\n",
    "\n",
    "    for article in train_articles:\n",
    "        n_words = np.sum((article > 0).astype('int32'))\n",
    "        article_phi = np.ones((n_words,C))\n",
    "        article_phi = article_phi / C # Initialize to 1/C\n",
    "\n",
    "        PHI.append(article_phi)\n",
    "\n",
    "    return LAMBDA, GAMMA, PHI"
   ]
  },
  {
   "cell_type": "markdown",
   "metadata": {
    "id": "HDFGoyyjWJRL"
   },
   "source": [
    "# Energy Function"
   ]
  },
  {
   "cell_type": "code",
   "execution_count": 8,
   "metadata": {
    "id": "Puo4_e7iVwpE",
    "scrolled": true
   },
   "outputs": [],
   "source": [
    "def E(p_list,k):\n",
    "    E = 0\n",
    "    for i in range(len(p_list) -1):\n",
    "        E += L(p_list[i]) + 0.5 * k * np.linalg.norm(p_list[i+1] - p_list[i])\n",
    "    E += 0.5 * k * np.linalg.norm(p_list[-1] - p_list[-2])\n",
    "\n",
    "    return E"
   ]
  },
  {
   "cell_type": "code",
   "execution_count": 9,
   "metadata": {
    "id": "EilS_L3YkAD0",
    "scrolled": true
   },
   "outputs": [],
   "source": [
    "def L(LAMBDA, GAMMA, PHI, train_articles, train_nonzero_idxs, C):\n",
    "    #compute elbo\n",
    "    elbo = 0\n",
    "    \n",
    "    # Number of articles, vocabulary size\n",
    "    N, V = train_articles.shape\n",
    "    \n",
    "    # Add expected log joint\n",
    "    ## First term: \\sum_{k=1}^C E[log p(BETA_k)]\n",
    "    E_log_p_beta = 0\n",
    "    for k in range(C):\n",
    "        E_log_p_beta += (ETA-1) * np.sum(digamma(LAMBDA[k]) - digamma(np.sum(LAMBDA[k])))\n",
    "    \n",
    "    elbo += E_log_p_beta\n",
    "    \n",
    "    ## Second term: \\sum_{i=1}^N E[log p(THETA_i)]\n",
    "    E_log_p_theta = 0\n",
    "    for i in range(N):\n",
    "        E_log_p_theta += (ALPHA-1) * np.sum(digamma(GAMMA[i]) - digamma(np.sum(GAMMA[i])))\n",
    "\n",
    "    elbo += E_log_p_theta\n",
    "    \n",
    "    ## Third term:\n",
    "    ## \\sum_{i=1}^N \\sum_{j=1}^M \\sum_{k=1}^C\n",
    "    ## (E[log p(Z_ij|THETA_i)] + E[log p(X_ij)|BETA,Z_ij)])\n",
    "    E_log_p_xz = 0\n",
    "    for i in range(N):\n",
    "        article = train_articles[i]\n",
    "        nonzero_idx = train_nonzero_idxs[i]\n",
    "        \n",
    "        corr_idx = 0\n",
    "        for idx in nonzero_idx:\n",
    "            ### E[log p(Z_ij|THETA_i)]\n",
    "            E_log_p_xz += article[idx] * np.sum(PHI[i][corr_idx] * (digamma(GAMMA[i]) - digamma(np.sum(GAMMA[i]))))\n",
    "            \n",
    "            ### E[log p(X_ij|BETA,Z_ij)]\n",
    "            E_log_p_xz += article[idx] * np.sum(PHI[i][corr_idx] * (digamma(LAMBDA[:,idx]) - digamma(np.sum(LAMBDA, axis=1))))\n",
    "            \n",
    "            corr_idx += 1\n",
    "        # Check if number of updates match with number of words\n",
    "        assert(corr_idx == len(nonzero_idx))\n",
    "        \n",
    "    elbo += E_log_p_xz\n",
    "        \n",
    "    # Add entropy\n",
    "    ## Fourth term: -\\sum_{k=1}^C E[log q(BETA_k)]\n",
    "    E_log_q_beta = 0\n",
    "    for k in range(C):\n",
    "        E_log_q_beta += -loggamma(np.sum(LAMBDA[k])) + np.sum(loggamma(LAMBDA[k]))\n",
    "        E_log_q_beta += -np.sum((LAMBDA[k]-1) * (digamma(LAMBDA[k]) - digamma(np.sum(LAMBDA[k]))))\n",
    "    \n",
    "    elbo += E_log_q_beta\n",
    "    \n",
    "    ## Fifth term: -\\sum_{i=1}^N E[log q(THETA_i)]\n",
    "    E_log_q_theta = 0\n",
    "    for i in range(N):\n",
    "        E_log_q_theta += -loggamma(np.sum(GAMMA[i])) + np.sum(loggamma(GAMMA[i]))\n",
    "        E_log_q_theta += -np.sum((GAMMA[i]-1) * (digamma(GAMMA[i]) - digamma(np.sum(GAMMA[i]))))\n",
    "\n",
    "    elbo += E_log_q_theta\n",
    "    \n",
    "    \n",
    "    ## Sixth term: -\\sum_{i=1}^N \\sum_{j=1}^M (E[log q(Z_ij)])\n",
    "    E_log_q_z = 0\n",
    "    for i in range(N):\n",
    "        article = train_articles[i]\n",
    "        nonzero_idx = train_nonzero_idxs[i]\n",
    "\n",
    "        corr_idx = 0\n",
    "        for idx in nonzero_idx:\n",
    "            E_log_q_z += -article[idx] * np.sum(PHI[i][corr_idx] * np.log(PHI[i][corr_idx]))\n",
    "\n",
    "            corr_idx += 1\n",
    "\n",
    "        # Check if number of updates match with number of words\n",
    "        assert(corr_idx == len(nonzero_idx))\n",
    "\n",
    "    elbo += E_log_q_z\n",
    "\n",
    "    print('ELBO: {}'.format(elbo))\n",
    "\n",
    "    return elbo\n",
    "    \n",
    "\n",
    "def dLdp(LAMBDA, GAMMA, PHI, train_articles, train_nonzero_idxs, C): \n",
    "    predict_flag = False \n",
    "    LAMBDA_t = copy.deepcopy(LAMBDA) # Shape: (C,V)\n",
    "    GAMMA_t = copy.deepcopy(GAMMA) # Shape: (N,C)\n",
    "    PHI_t = copy.deepcopy(PHI) # Shape: (N,n_words,C)\n",
    "\n",
    "    N, V = train_articles.shape\n",
    "\n",
    "    for i in tqdm(range(N)):\n",
    "        article = train_articles[i]\n",
    "        nonzero_idx = train_nonzero_idxs[i]\n",
    "\n",
    "        # Fetch for PHI_ij update\n",
    "        GAMMA_i_t = copy.deepcopy(GAMMA_t[i]) # C-vector\n",
    "\n",
    "        # For each word in document\n",
    "        corr_idx = 0\n",
    "\n",
    "        # Iterate through each word with non-zero count on document\n",
    "        for idx in nonzero_idx:\n",
    "            log_PHI_ij = np.zeros((C,))\n",
    "\n",
    "            for k in range(C):\n",
    "                # Fetch for PHI_ij update\n",
    "                LAMBDA_k_t = copy.deepcopy(LAMBDA_t[k]) # V-vector\n",
    "\n",
    "                exponent = digamma(GAMMA_i_t[k]) - digamma(np.sum(GAMMA_i_t))\n",
    "                exponent += digamma(LAMBDA_k_t[idx]) - digamma(np.sum(LAMBDA_k_t))\n",
    "                log_PHI_ij[k] = exponent\n",
    "\n",
    "            # Normalize using log-sum-exp trick\n",
    "            PHI_ij = np.exp(log_PHI_ij - compute_logsumexp(log_PHI_ij))\n",
    "            try:\n",
    "                assert(np.abs(np.sum(PHI_ij) - 1) < 1e-6)\n",
    "            except:\n",
    "                raise AssertionError('phi_ij: {}, Sum: {}'.format(PHI_ij, np.sum(PHI_ij)))\n",
    "\n",
    "            PHI_t[i][corr_idx] = PHI_ij\n",
    "            corr_idx += 1\n",
    "\n",
    "        # Check if number of updates match with number of words\n",
    "        assert(corr_idx == len(nonzero_idx))\n",
    "\n",
    "        # Update GAMMA_i\n",
    "        GAMMA_i_t = np.zeros((C,)) + ALPHA\n",
    "\n",
    "        for k in range(C):\n",
    "            GAMMA_i_t[k] += np.sum(article[nonzero_idx] * PHI_t[i][:,k])\n",
    "\n",
    "        GAMMA_t[i] = GAMMA_i_t\n",
    "\n",
    "    if not predict_flag:\n",
    "        # For each topic\n",
    "        print('Updating LAMBDA')\n",
    "\n",
    "        for k in tqdm(range(C)):\n",
    "            LAMBDA_k_t = np.zeros((V,)) + ETA\n",
    "\n",
    "            # For each document\n",
    "            for i in range(N):\n",
    "                article = train_articles[i]\n",
    "                nonzero_idx = train_nonzero_idxs[i]\n",
    "\n",
    "                # For each word in document\n",
    "                corr_idx = 0\n",
    "\n",
    "                for idx in nonzero_idx:\n",
    "                    LAMBDA_k_t[idx] += article[idx] * PHI_t[i][corr_idx][k]\n",
    "                    corr_idx +=1\n",
    "\n",
    "                # Check if number of updates match with number of words\n",
    "                assert(corr_idx == len(nonzero_idx))\n",
    "\n",
    "            LAMBDA_t[k] = LAMBDA_k_t \n",
    "    grad_LAMBDA = LAMBDA_t - LAMBDA\n",
    "    grad_GAMMA = GAMMA_t - GAMMA \n",
    "    grad_PHI = [phi_t - phi for (phi_t,phi) in zip(PHI_t, PHI)]\n",
    "\n",
    "    return grad_LAMBDA, grad_GAMMA, grad_PHI"
   ]
  },
  {
   "cell_type": "code",
   "execution_count": 10,
   "metadata": {
    "id": "p4yLX4yAybi8",
    "scrolled": true
   },
   "outputs": [],
   "source": [
    "def tau(i, p_list, train_articles, train_nonzero_idxs, C):\n",
    "    #p_list is a list of lists of parameters in which a list is [LAMBDA, GAMMA, PHI] \n",
    "    LAMBDA_1, GAMMA_1, PHI_1 = p_list[i] \n",
    "    LAMBDA_0, GAMMA_0, PHI_0 = p_list[i-1] \n",
    "    LAMBDA_2, GAMMA_2, PHI_2 = p_list[i+1] \n",
    "\n",
    "    if compute_elbo( LAMBDA_2, GAMMA_2, PHI_2, train_articles, train_nonzero_idxs, C) > compute_elbo( LAMBDA_0, GAMMA_0, PHI_0 , train_articles, train_nonzero_idxs, C): \n",
    "        flat_Lam = np.reshape((LAMBDA_2-LAMBDA_1).flatten(),((LAMBDA_2-LAMBDA_1).flatten().shape[0],1))\n",
    "        #print(flat_Lam.shape)\n",
    "        flat_Gam = np.reshape((GAMMA_2 - GAMMA_1).flatten(),((GAMMA_2 - GAMMA_1).flatten().shape[0],1))\n",
    "        #print(flat_Gam.shape)\n",
    "        flat_vector = np.vstack((flat_Lam, flat_Gam))\n",
    "        #print(flat_vector.shape)\n",
    "\n",
    "        #flat_Phi = (PHI_2-PHI_1).flatten() \n",
    "        dif_PHI = [Phi_2-Phi_1 for (Phi_2,Phi_1) in zip(PHI_2,PHI_1)] \n",
    "        for dif in dif_PHI: \n",
    "            flat_dif = dif.flatten().reshape(dif.flatten().shape[0],1)\n",
    "            #print(flat_dif.shape)\n",
    "            flat_vector = np.vstack((flat_vector, flat_dif)) \n",
    "\n",
    "        norm = np.linalg.norm(flat_vector)+ 1e-30\n",
    "\n",
    "        lam_dif = (LAMBDA_2-LAMBDA_1)/norm\n",
    "        gam_dif = (GAMMA_2 - GAMMA_1)/norm \n",
    "        PHI_dif = [dif_phi/norm for dif_phi in dif_PHI]\n",
    "\n",
    "        return [lam_dif, gam_dif, PHI_dif]\n",
    "    #TODO: what is the right way to normalize \n",
    "    else: \n",
    "        flat_Lam = np.reshape((LAMBDA_1-LAMBDA_0).flatten(),((LAMBDA_1-LAMBDA_0).flatten().shape[0],1))\n",
    "        #print(flat_Lam.shape)\n",
    "        flat_Gam = np.reshape((GAMMA_1 - GAMMA_0).flatten(),((GAMMA_1 - GAMMA_0).flatten().shape[0],1))\n",
    "        #print(flat_Gam.shape)\n",
    "        flat_vector = np.vstack((flat_Lam, flat_Gam))\n",
    "\n",
    "        #flat_Phi = (PHI_1-PHI_0).flatten() \n",
    "        dif_PHI = [Phi_1-Phi_0 for (Phi_1,Phi_0) in zip(PHI_1,PHI_0)] \n",
    "        for dif in dif_PHI: \n",
    "            flat_dif = dif.flatten().reshape(dif.flatten().shape[0],1)\n",
    "            flat_vector = np.vstack((flat_vector, flat_dif)) \n",
    "\n",
    "        norm = np.linalg.norm(flat_vector)+ 1e-30\n",
    "        lam_dif = (LAMBDA_1-LAMBDA_0)/norm\n",
    "        gam_dif = (GAMMA_1 - GAMMA_0)/norm \n",
    "        PHI_dif = [dif_phi/norm for dif_phi in dif_PHI]\n",
    "\n",
    "        return [lam_dif, gam_dif, PHI_dif]\n",
    "        #return [(LAMBDA_1-LAMBDA_0)/norm, (GAMMA_1 - GAMMA_0)/norm, [dif_phi for dif_phi in dif_PHI/norm]]"
   ]
  },
  {
   "cell_type": "code",
   "execution_count": 11,
   "metadata": {
    "id": "Ab8VCXFoiWMH",
    "scrolled": true
   },
   "outputs": [],
   "source": [
    "def F_L(i, p_list, train_articles, train_nonzero_idxs, C):\n",
    "\n",
    "  LAMBDA, GAMMA, PHI = p_list[i]\n",
    "  tau_Lam, tau_Gam, tau_Phi = tau(i, p_list, train_articles, train_nonzero_idxs, C)\n",
    "  grad_LAMBDA, grad_GAMMA, grad_PHI = dLdp(LAMBDA, GAMMA, PHI, train_articles, train_nonzero_idxs, C)\n",
    "  grad_dot_tau_Lam = np.multiply(grad_LAMBDA , tau_Lam)\n",
    "  grad_dot_tau_Gam = np.multiply(grad_GAMMA , tau_Gam)\n",
    "  grad_dot_tau_Phi = [np.multiply(grad_p ,tau_p) for (grad_p, tau_p) in zip (grad_PHI, tau_Phi)]\n",
    "  F_L_Lam = -(grad_LAMBDA - grad_dot_tau_Lam*tau_Lam )\n",
    "  F_L_Gam = -(grad_GAMMA - grad_dot_tau_Gam*tau_Gam )\n",
    "  F_L_Phi = [-(grad_p - gdt_p*tau_p) for (grad_p, gdt_p, tau_p) in zip (grad_PHI, grad_dot_tau_Phi, tau_Phi) ]\n",
    "  return F_L_Lam, F_L_Gam, F_L_Phi\n",
    "  #return -(dLdp(p_list[i]) - np.dot(dLdp(p_list[i]), tau(i, p_list)) *  tau(i, p_list))\n",
    "\n",
    "def F_s(i, k, p_list):\n",
    "  LAMBDA_1, GAMMA_1, PHI_1 = p_list[i] \n",
    "  LAMBDA_2, GAMMA_2, PHI_2 = p_list[i+1]  \n",
    "  k_LAMBDA_Diff =  k * (LAMBDA_1 - LAMBDA_2)\n",
    "  k_GAMMA_Diff =  k * (GAMMA_1 - GAMMA_2)\n",
    "  k_PHI_Diff = [k*(curr - next) for (curr,next) in zip(PHI_1,PHI_2)]\n",
    "\n",
    "  return k_LAMBDA_Diff, k_GAMMA_Diff, k_PHI_Diff"
   ]
  },
  {
   "cell_type": "code",
   "execution_count": 12,
   "metadata": {
    "id": "0P0hj0ll4Bri",
    "scrolled": true
   },
   "outputs": [],
   "source": [
    "def init(theta_1, theta_2, N):\n",
    "    LAMBDA_1, GAMMA_1, PHI_1 = theta_1\n",
    "    LAMBDA_2, GAMMA_2, PHI_2 = theta_2\n",
    "\n",
    "    interval = np.linspace(0,1,N+1)\n",
    "  \n",
    "    p_list = []\n",
    "\n",
    "    for i in interval:\n",
    "        NEW_LAMBDA = (LAMBDA_2 - LAMBDA_1) * i + LAMBDA_1\n",
    "        NEW_GAMMA = (GAMMA_2 - GAMMA_1) * i + GAMMA_1\n",
    "        NEW_PHI = [(Phi_2 - Phi_1) * i + Phi_1 for (Phi_1,Phi_2) in zip(PHI_1,PHI_2)]\n",
    "        p_list.append([NEW_LAMBDA, NEW_GAMMA, NEW_PHI]) \n",
    "\n",
    "\n",
    "    return p_list"
   ]
  },
  {
   "cell_type": "code",
   "execution_count": 13,
   "metadata": {
    "scrolled": true
   },
   "outputs": [
    {
     "data": {
      "text/plain": [
       "array([0. , 0.5, 1. ])"
      ]
     },
     "execution_count": 13,
     "metadata": {},
     "output_type": "execute_result"
    }
   ],
   "source": [
    "np.linspace(0,1,3)"
   ]
  },
  {
   "cell_type": "markdown",
   "metadata": {
    "id": "VD98dHsTtHGn"
   },
   "source": [
    "##Load data and get parameters "
   ]
  },
  {
   "cell_type": "code",
   "execution_count": 14,
   "metadata": {
    "id": "7j8yNBC9thHM",
    "scrolled": true
   },
   "outputs": [],
   "source": [
    "cwd = os.getcwd()\n",
    "BOW_PATH = cwd + \"/Data/ap.dat\" \n",
    "VOCAB_PATH = cwd + \"/Data/vocab.txt\" \n",
    "\n",
    "# Topic Exch. Dirichlet hyperparameter (mixture components)\n",
    "ETA = 0.01 # Set to 100/V\n",
    "\n",
    "# Topic Proportion Dirichlet hyperparameter (mixture proportions)\n",
    "ALPHA = 0.1 # Set to\n",
    "\n",
    "# Maximum number of iterations (Might not use)\n",
    "MAX_ITER = 100\n",
    "\n",
    "# Number of CAVI iterations\n",
    "N_TRIALS = 1\n",
    "\n",
    "# Test data size\n",
    "N_TEST = 10\n",
    "\n",
    "# Computes the softmax for a given set of scores\n",
    "# Scores will be log probability of each assignment\n",
    "# Note: Uses log-sum-exp trick to avoid overflow/underflow\n",
    "def compute_logsumexp(scores):\n",
    "    # Take the max of the scores\n",
    "    max_score = np.max(scores, axis=0)\n",
    "\n",
    "    # Subtract scores by max and exponentiate\n",
    "    # result = \n",
    "    exp_scores = np.exp(scores - max_score)\n",
    "\n",
    "    # Compute denominator\n",
    "    sum_exp = np.sum(exp_scores)\n",
    "\n",
    "    # Compute log-sum-exp\n",
    "    log_sum_exp = np.log(sum_exp) + max_score\n",
    "\n",
    "    return log_sum_exp\n",
    "\n",
    "# Loads the AP article dataset\n",
    "def load_data():\n",
    "    # Load index-to-word mapping\n",
    "    print('Loading index-to-word mapping...')\n",
    "\n",
    "    with open(VOCAB_PATH, 'r') as fh:\n",
    "        raw_lines = fh.readlines()\n",
    "\n",
    "    idx_to_words = [word.strip() for word in raw_lines]\n",
    "    V = len(idx_to_words)\n",
    "\n",
    "    # Load article BoW representations\n",
    "    print('Loading article bag-of-word representations...')\n",
    "\n",
    "    with open(BOW_PATH, 'r') as fh:\n",
    "        raw_lines = fh.readlines()\n",
    "        N = len(raw_lines)\n",
    "        print('{} articles found.'.format(N))\n",
    "\n",
    "    articles = np.zeros((N,V))\n",
    "    nonzero_idxs = []\n",
    "\n",
    "    # Process each article\n",
    "    for i in tqdm(range(N)):\n",
    "        split = raw_lines[i].split(' ')\n",
    "        n_words = int(split[0]) # Number of words in the article\n",
    "        split = split[1:] # BoW representations\n",
    "\n",
    "        article = np.zeros((V,)) # Sparse V-vector\n",
    "        nonzero_idx = [] # List of indices that have non-zero counts\n",
    "\n",
    "        for bow in split:\n",
    "            bow = bow.strip()\n",
    "            word_idx, count = bow.split(':')\n",
    "\n",
    "            nonzero_idx.append(int(word_idx))\n",
    "            article[int(word_idx)] = count\n",
    "\n",
    "        # Check if article words parsed correctly\n",
    "        try:\n",
    "            assert(len(nonzero_idx) == n_words)\n",
    "        except:\n",
    "            raise AssertionError('{}, {}'.format(len(nonzero_idx), n_words))\n",
    "\n",
    "        articles[i] = article\n",
    "        nonzero_idxs.append(sorted(nonzero_idx))\n",
    "\n",
    "    return idx_to_words, articles, nonzero_idxs\n",
    "\n",
    "\n",
    "\n",
    "\n",
    "\n",
    "# Initializes the variational parameters for CAVI\n",
    "def init_var_param(train_articles, C):\n",
    "    print('Initializing variational parameters...')\n",
    "\n",
    "    # Number of articles, vocabulary size\n",
    "    N, V = train_articles.shape\n",
    "\n",
    "    # Topics (initializing LAMBDA for BETA)\n",
    "    LAMBDA = np.random.uniform(low=0.01, high=1.0, size=(C,V))\n",
    "\n",
    "    # Topic Proportions (initializing GAMMA for THETA)\n",
    "    GAMMA = np.ones((N,C)) # Uniform prior\n",
    "\n",
    "    # Topic Assignments (initializing PHI for Z)\n",
    "    # Shape: (N,n_words,C) (Note: n_words is vacriable)\n",
    "    PHI = []\n",
    "\n",
    "    for article in train_articles:\n",
    "        n_words = np.sum((article > 0).astype('int32'))\n",
    "        article_phi = np.ones((n_words,C))\n",
    "        article_phi = article_phi / C # Initialize to 1/C\n",
    "\n",
    "        PHI.append(article_phi)\n",
    "\n",
    "    return LAMBDA, GAMMA, PHI\n",
    "\n",
    "# Compute ELBO\n",
    "def compute_elbo(LAMBDA, GAMMA, PHI, train_articles, train_nonzero_idxs, C):\n",
    "    elbo = 0\n",
    "\n",
    "    # Number of articles, vocabulary size\n",
    "    N, V = train_articles.shape\n",
    "\n",
    "    # Add expected log joint\n",
    "    ## First term: \\sum_{k=1}^C E[log p(BETA_k)]\n",
    "    E_log_p_beta = 0\n",
    "    for k in range(C):\n",
    "        E_log_p_beta += (ETA-1) * np.sum(digamma(LAMBDA[k]) - digamma(np.sum(LAMBDA[k])))\n",
    "\n",
    "    elbo += E_log_p_beta\n",
    "\n",
    "    ## Second term: \\sum_{i=1}^N E[log p(THETA_i)]\n",
    "    E_log_p_theta = 0\n",
    "    for i in range(N):\n",
    "        E_log_p_theta += (ALPHA-1) * np.sum(digamma(GAMMA[i]) - digamma(np.sum(GAMMA[i])))\n",
    "\n",
    "    elbo += E_log_p_theta\n",
    "\n",
    "    ## Third term:\n",
    "    ## \\sum_{i=1}^N \\sum_{j=1}^M \\sum_{k=1}^C\n",
    "    ## (E[log p(Z_ij|THETA_i)] + E[log p(X_ij)|BETA,Z_ij)])\n",
    "    E_log_p_xz = 0\n",
    "    for i in range(N):\n",
    "        article = train_articles[i]\n",
    "        nonzero_idx = train_nonzero_idxs[i]\n",
    "\n",
    "        corr_idx = 0\n",
    "\n",
    "        for idx in nonzero_idx:\n",
    "            ### E[log p(Z_ij|THETA_i)]\n",
    "            E_log_p_xz += article[idx] * np.sum(PHI[i][corr_idx] * (digamma(GAMMA[i]) - digamma(np.sum(GAMMA[i]))))\n",
    "\n",
    "            ### E[log p(X_ij|BETA,Z_ij)]\n",
    "            E_log_p_xz += article[idx] * np.sum(PHI[i][corr_idx] * (digamma(LAMBDA[:,idx]) - digamma(np.sum(LAMBDA, axis=1))))\n",
    "\n",
    "            corr_idx += 1\n",
    "\n",
    "        # Check if number of updates match with number of words\n",
    "        assert(corr_idx == len(nonzero_idx))\n",
    "\n",
    "    elbo += E_log_p_xz\n",
    "\n",
    "    # Add entropy\n",
    "    ## Fourth term: -\\sum_{k=1}^C E[log q(BETA_k)]\n",
    "    E_log_q_beta = 0\n",
    "    for k in range(C):\n",
    "        E_log_q_beta += -loggamma(np.sum(LAMBDA[k])) + np.sum(loggamma(LAMBDA[k]))\n",
    "        E_log_q_beta += -np.sum((LAMBDA[k]-1) * (digamma(LAMBDA[k]) - digamma(np.sum(LAMBDA[k]))))\n",
    "\n",
    "    elbo += E_log_q_beta\n",
    "\n",
    "    ## Fifth term: -\\sum_{i=1}^N E[log q(THETA_i)]\n",
    "    E_log_q_theta = 0\n",
    "    for i in range(N):\n",
    "        E_log_q_theta += -loggamma(np.sum(GAMMA[i])) + np.sum(loggamma(GAMMA[i]))\n",
    "        E_log_q_theta += -np.sum((GAMMA[i]-1) * (digamma(GAMMA[i]) - digamma(np.sum(GAMMA[i]))))\n",
    "\n",
    "    elbo += E_log_q_theta\n",
    "\n",
    "    ## Sixth term: -\\sum_{i=1}^N \\sum_{j=1}^M (E[log q(Z_ij)])\n",
    "    E_log_q_z = 0\n",
    "    for i in range(N):\n",
    "        article = train_articles[i]\n",
    "        nonzero_idx = train_nonzero_idxs[i]\n",
    "\n",
    "        corr_idx = 0\n",
    "        for idx in nonzero_idx:\n",
    "            #print(PHI[i][corr_idx])\n",
    "            #print(type(PHI[i][corr_idx]))\n",
    "            #print(PHI[i][corr_idx]+1e-1)\n",
    "            E_log_q_z += -article[idx] * np.sum(PHI[i][corr_idx] * np.log(np.abs((PHI[i][corr_idx]+1e-6))/(np.linalg.norm(PHI[i][corr_idx]+1e-6)+1e-20)))\n",
    "            #E_log_q_z += -article[idx] * np.sum(PHI[i][corr_idx] * np.log(np.minimum(PHI[i][corr_idx],1e-9)))/(np.linalg.norm(PHI[i][corr_idx])+1e-20)\n",
    "            #E_log_q_z += -article[idx] * np.sum(PHI[i][corr_idx] * np.log(np.abs(PHI[i][corr_idx])))\n",
    "\n",
    "            corr_idx += 1\n",
    "\n",
    "        # Check if number of updates match with number of words\n",
    "        assert(corr_idx == len(nonzero_idx))\n",
    "\n",
    "    elbo += E_log_q_z\n",
    "\n",
    "    print('ELBO: {}'.format(elbo))\n",
    "\n",
    "    return elbo\n",
    "\n",
    "# Runs CAVI for LDA\n",
    "# TODO: Change max iteration to convergence criterion\n",
    "def run_cavi(LAMBDA, GAMMA, PHI, train_articles, train_nonzero_idxs, C, max_iter, predict_flag=False):\n",
    "    # Unpack initial variational parameters\n",
    "    LAMBDA_t = copy.deepcopy(LAMBDA) # Shape: (C,V)\n",
    "    GAMMA_t = copy.deepcopy(GAMMA) # Shape: (N,C)\n",
    "    PHI_t = copy.deepcopy(PHI) # Shape: (N,n_words,C)\n",
    "\n",
    "    # Number of articles, vocabulary size\n",
    "    N, V = train_articles.shape\n",
    "\n",
    "    elbos = []\n",
    "\n",
    "    print('Running CAVI for LDA (C: {}, Iter: {})...'.format(C, max_iter))\n",
    "    for t in range(max_iter):\n",
    "        print('Iteration {}'.format(t+1))\n",
    "        print('Updating PHI and GAMMA')\n",
    "\n",
    "        # For each document\n",
    "        for i in tqdm(range(N)):\n",
    "            article = train_articles[i]\n",
    "            nonzero_idx = train_nonzero_idxs[i]\n",
    "\n",
    "            # Fetch for PHI_ij update\n",
    "            GAMMA_i_t = copy.deepcopy(GAMMA_t[i]) # C-vector\n",
    "\n",
    "            # For each word in document\n",
    "            corr_idx = 0\n",
    "\n",
    "            # Iterate through each word with non-zero count on document\n",
    "            for idx in nonzero_idx:\n",
    "                log_PHI_ij = np.zeros((C,))\n",
    "\n",
    "                for k in range(C):\n",
    "                    # Fetch for PHI_ij update\n",
    "                    LAMBDA_k_t = copy.deepcopy(LAMBDA_t[k]) # V-vector\n",
    "\n",
    "                    exponent = digamma(GAMMA_i_t[k]) - digamma(np.sum(GAMMA_i_t))\n",
    "                    exponent += digamma(LAMBDA_k_t[idx]) - digamma(np.sum(LAMBDA_k_t))\n",
    "                    log_PHI_ij[k] = exponent\n",
    "\n",
    "                # Normalize using log-sum-exp trick\n",
    "                PHI_ij = np.exp(log_PHI_ij - compute_logsumexp(log_PHI_ij))\n",
    "                try:\n",
    "                    assert(np.abs(np.sum(PHI_ij) - 1) < 1e-6)\n",
    "                except:\n",
    "                    raise AssertionError('phi_ij: {}, Sum: {}'.format(PHI_ij, np.sum(PHI_ij)))\n",
    "\n",
    "                PHI_t[i][corr_idx] = PHI_ij\n",
    "                corr_idx += 1\n",
    "\n",
    "            # Check if number of updates match with number of words\n",
    "            assert(corr_idx == len(nonzero_idx))\n",
    "\n",
    "            # Update GAMMA_i\n",
    "            GAMMA_i_t = np.zeros((C,)) + ALPHA\n",
    "\n",
    "            for k in range(C):\n",
    "                GAMMA_i_t[k] += np.sum(article[nonzero_idx] * PHI_t[i][:,k])\n",
    "\n",
    "            GAMMA_t[i] = GAMMA_i_t\n",
    "\n",
    "        if not predict_flag:\n",
    "            # For each topic\n",
    "            print('Updating LAMBDA')\n",
    "\n",
    "            for k in tqdm(range(C)):\n",
    "                LAMBDA_k_t = np.zeros((V,)) + ETA\n",
    "\n",
    "                # For each document\n",
    "                for i in range(N):\n",
    "                    article = train_articles[i]\n",
    "                    nonzero_idx = train_nonzero_idxs[i]\n",
    "\n",
    "                    # For each word in document\n",
    "                    corr_idx = 0\n",
    "\n",
    "                    for idx in nonzero_idx:\n",
    "                        LAMBDA_k_t[idx] += article[idx] * PHI_t[i][corr_idx][k]\n",
    "                        corr_idx +=1\n",
    "\n",
    "                    # Check if number of updates match with number of words\n",
    "                    assert(corr_idx == len(nonzero_idx))\n",
    "\n",
    "                LAMBDA_t[k] = LAMBDA_k_t\n",
    "\n",
    "        # Compute ELBO\n",
    "        elbo = compute_elbo(LAMBDA_t, GAMMA_t, PHI_t, train_articles, train_nonzero_idxs, C)\n",
    "        elbos.append(elbo)\n",
    "\n",
    "    LAMBDA_final = copy.deepcopy(LAMBDA_t)\n",
    "    GAMMA_final = copy.deepcopy(GAMMA_t)\n",
    "    PHI_final = copy.deepcopy(PHI_t)\n",
    "\n",
    "    return LAMBDA_final, GAMMA_final, PHI_final, elbos\n",
    "\n",
    "def filter_train_words(idx_to_words, train_nonzero_idxs):\n",
    "    # Number of train articles, vocabulary size\n",
    "    N, V = train_articles.shape\n",
    "\n",
    "    train_word_idxs = []\n",
    "\n",
    "    for i in range(N):\n",
    "\n",
    "        nonzero_idx = train_nonzero_idxs[i]\n",
    "        train_word_idxs += nonzero_idx\n",
    "\n",
    "    train_word_idxs = set(train_word_idxs)\n",
    "    test_word_idxs = set(range(V)) - train_word_idxs\n",
    "\n",
    "    return test_word_idxs\n",
    "\n",
    "# Computes the predictive likelihood score on held out articles\n",
    "def compute_pred_score(LAMBDA, GAMMA, PHI, test_articles, test_nonzero_idxs, test_word_idxs):\n",
    "    # Number of test articles, vocabulary size\n",
    "    N,V = test_articles.shape\n",
    "\n",
    "    C = LAMBDA.shape[0]\n",
    "\n",
    "    # Expected BETA\n",
    "    BETA = np.zeros((C,V))\n",
    "\n",
    "    for k in range(C):\n",
    "        BETA[k] = LAMBDA[k] / np.sum(LAMBDA[k])\n",
    "\n",
    "    # Expected THETA\n",
    "    THETA = np.zeros((N,C))\n",
    "\n",
    "    for i in range(N):\n",
    "        THETA[i] = GAMMA[i] / np.sum(GAMMA[i])\n",
    "\n",
    "    # Compute predictive likelihood\n",
    "    print('Computing predictive likelihood score on held out documents...')\n",
    "\n",
    "    score = 0\n",
    "    for i in tqdm(range(N)):\n",
    "        article = test_articles[i]\n",
    "        nonzero_idx = test_nonzero_idxs[i]\n",
    "\n",
    "        for idx in nonzero_idx:\n",
    "            if not idx in test_word_idxs:\n",
    "                score += np.log(np.dot(THETA[i], BETA[:,idx]))\n",
    "\n",
    "    print('Predictive likelihood: {}'.format(score))\n",
    "\n",
    "    return score\n",
    "\n"
   ]
  },
  {
   "cell_type": "code",
   "execution_count": 15,
   "metadata": {
    "id": "6FqcONF2s4SW",
    "scrolled": true
   },
   "outputs": [],
   "source": [
    "cwd = os.getcwd()\n",
    "BOW_PATH = cwd + \"/Data/ap.dat\" \n",
    "VOCAB_PATH = cwd + \"/Data/vocab.txt\"\n",
    "\n",
    "#load_data \n",
    "\n",
    "def load_data(BOW_PATH,VOCAB_PATH, trim):\n",
    "    # Load index-to-word mapping\n",
    "    print('Loading index-to-word mapping...')\n",
    "\n",
    "    with open(VOCAB_PATH, 'r') as fh:\n",
    "        raw_lines = fh.readlines()\n",
    "\n",
    "    idx_to_words = [word.strip() for word in raw_lines]\n",
    "    V = len(idx_to_words)\n",
    "\n",
    "    # Load article BoW representations\n",
    "    print('Loading article bag-of-word representations...')\n",
    "\n",
    "    with open(BOW_PATH, 'r') as fh:\n",
    "        raw_lines = fh.readlines()\n",
    "        raw_lines = raw_lines[:np.int(trim*len(raw_lines))]\n",
    "        N = len(raw_lines)\n",
    "        print('{} articles found.'.format(N))\n",
    "\n",
    "    articles = np.zeros((N,V))\n",
    "    nonzero_idxs = []\n",
    "\n",
    "    # Process each article\n",
    "    for i in tqdm(range(N)):\n",
    "        split = raw_lines[i].split(' ')\n",
    "        n_words = int(split[0]) # Number of words in the article\n",
    "        split = split[1:] # BoW representations\n",
    "\n",
    "        article = np.zeros((V,)) # Sparse V-vector\n",
    "        nonzero_idx = [] # List of indices that have non-zero counts\n",
    "\n",
    "        for bow in split:\n",
    "            bow = bow.strip()\n",
    "            word_idx, count = bow.split(':')\n",
    "\n",
    "            nonzero_idx.append(int(word_idx))\n",
    "            article[int(word_idx)] = count\n",
    "\n",
    "        # Check if article words parsed correctly\n",
    "        try:\n",
    "            assert(len(nonzero_idx) == n_words)\n",
    "        except:\n",
    "            raise AssertionError('{}, {}'.format(len(nonzero_idx), n_words))\n",
    "\n",
    "        articles[i] = article\n",
    "        nonzero_idxs.append(sorted(nonzero_idx))\n",
    "\n",
    "    return idx_to_words, articles, nonzero_idxs"
   ]
  },
  {
   "cell_type": "code",
   "execution_count": 16,
   "metadata": {
    "id": "Qyv8HE6JuOZL",
    "scrolled": true
   },
   "outputs": [],
   "source": [
    "pred_score_list = []"
   ]
  },
  {
   "cell_type": "code",
   "execution_count": 105,
   "metadata": {
    "colab": {
     "base_uri": "https://localhost:8080/",
     "height": 1000
    },
    "id": "eaGcOe6CtOQz",
    "outputId": "60ab6337-bcae-49a0-a5f1-63952eb392de",
    "scrolled": true
   },
   "outputs": [
    {
     "name": "stderr",
     "output_type": "stream",
     "text": [
      "/var/folders/mw/9bfg1rf52g57tm0mgxqjy4gm0000gn/T/ipykernel_4130/2775555696.py:22: DeprecationWarning:\n",
      "\n",
      "`np.int` is a deprecated alias for the builtin `int`. To silence this warning, use `int` by itself. Doing this will not modify any behavior and is safe. When replacing `np.int`, you may wish to use e.g. `np.int64` or `np.int32` to specify the precision. If you wish to review your current use, check the release note link for additional information.\n",
      "Deprecated in NumPy 1.20; for more details and guidance: https://numpy.org/devdocs/release/1.20.0-notes.html#deprecations\n",
      "\n"
     ]
    },
    {
     "name": "stdout",
     "output_type": "stream",
     "text": [
      "Loading AP article data...\n",
      "Loading index-to-word mapping...\n",
      "Loading article bag-of-word representations...\n",
      "22 articles found.\n"
     ]
    },
    {
     "name": "stderr",
     "output_type": "stream",
     "text": [
      "100%|████████████████████████████████████████████| 22/22 [00:00<00:00, 15560.66it/s]\n"
     ]
    },
    {
     "name": "stdout",
     "output_type": "stream",
     "text": [
      "Running LDA CAVI 1/1...\n",
      "Initializing variational parameters...\n",
      "Running CAVI for LDA (C: 10, Iter: 20)...\n",
      "Iteration 1\n",
      "Updating PHI and GAMMA\n"
     ]
    },
    {
     "name": "stderr",
     "output_type": "stream",
     "text": [
      "100%|███████████████████████████████████████████████| 12/12 [00:00<00:00, 73.69it/s]\n"
     ]
    },
    {
     "name": "stdout",
     "output_type": "stream",
     "text": [
      "Updating LAMBDA\n"
     ]
    },
    {
     "name": "stderr",
     "output_type": "stream",
     "text": [
      "100%|█████████████████████████████████████████████| 10/10 [00:00<00:00, 2043.31it/s]\n"
     ]
    },
    {
     "name": "stdout",
     "output_type": "stream",
     "text": [
      "ELBO: 440692.52049086604\n",
      "Iteration 2\n",
      "Updating PHI and GAMMA\n"
     ]
    },
    {
     "name": "stderr",
     "output_type": "stream",
     "text": [
      "100%|███████████████████████████████████████████████| 12/12 [00:00<00:00, 71.99it/s]\n"
     ]
    },
    {
     "name": "stdout",
     "output_type": "stream",
     "text": [
      "Updating LAMBDA\n"
     ]
    },
    {
     "name": "stderr",
     "output_type": "stream",
     "text": [
      "100%|█████████████████████████████████████████████| 10/10 [00:00<00:00, 1883.13it/s]\n"
     ]
    },
    {
     "name": "stdout",
     "output_type": "stream",
     "text": [
      "ELBO: 448479.3129958285\n",
      "Iteration 3\n",
      "Updating PHI and GAMMA\n"
     ]
    },
    {
     "name": "stderr",
     "output_type": "stream",
     "text": [
      "100%|███████████████████████████████████████████████| 12/12 [00:00<00:00, 72.89it/s]\n"
     ]
    },
    {
     "name": "stdout",
     "output_type": "stream",
     "text": [
      "Updating LAMBDA\n"
     ]
    },
    {
     "name": "stderr",
     "output_type": "stream",
     "text": [
      "100%|█████████████████████████████████████████████| 10/10 [00:00<00:00, 2116.41it/s]\n"
     ]
    },
    {
     "name": "stdout",
     "output_type": "stream",
     "text": [
      "ELBO: 453045.91046478186\n",
      "Iteration 4\n",
      "Updating PHI and GAMMA\n"
     ]
    },
    {
     "name": "stderr",
     "output_type": "stream",
     "text": [
      "100%|███████████████████████████████████████████████| 12/12 [00:00<00:00, 72.39it/s]\n"
     ]
    },
    {
     "name": "stdout",
     "output_type": "stream",
     "text": [
      "Updating LAMBDA\n"
     ]
    },
    {
     "name": "stderr",
     "output_type": "stream",
     "text": [
      "100%|█████████████████████████████████████████████| 10/10 [00:00<00:00, 2012.82it/s]\n"
     ]
    },
    {
     "name": "stdout",
     "output_type": "stream",
     "text": [
      "ELBO: 455470.1729219478\n",
      "Iteration 5\n",
      "Updating PHI and GAMMA\n"
     ]
    },
    {
     "name": "stderr",
     "output_type": "stream",
     "text": [
      "100%|███████████████████████████████████████████████| 12/12 [00:00<00:00, 71.43it/s]\n"
     ]
    },
    {
     "name": "stdout",
     "output_type": "stream",
     "text": [
      "Updating LAMBDA\n"
     ]
    },
    {
     "name": "stderr",
     "output_type": "stream",
     "text": [
      "100%|█████████████████████████████████████████████| 10/10 [00:00<00:00, 2004.93it/s]\n"
     ]
    },
    {
     "name": "stdout",
     "output_type": "stream",
     "text": [
      "ELBO: 456800.71722803323\n",
      "Iteration 6\n",
      "Updating PHI and GAMMA\n"
     ]
    },
    {
     "name": "stderr",
     "output_type": "stream",
     "text": [
      "100%|███████████████████████████████████████████████| 12/12 [00:00<00:00, 71.37it/s]\n"
     ]
    },
    {
     "name": "stdout",
     "output_type": "stream",
     "text": [
      "Updating LAMBDA\n"
     ]
    },
    {
     "name": "stderr",
     "output_type": "stream",
     "text": [
      "100%|█████████████████████████████████████████████| 10/10 [00:00<00:00, 2087.24it/s]\n"
     ]
    },
    {
     "name": "stdout",
     "output_type": "stream",
     "text": [
      "ELBO: 457588.6938151073\n",
      "Iteration 7\n",
      "Updating PHI and GAMMA\n"
     ]
    },
    {
     "name": "stderr",
     "output_type": "stream",
     "text": [
      "100%|███████████████████████████████████████████████| 12/12 [00:00<00:00, 73.38it/s]\n"
     ]
    },
    {
     "name": "stdout",
     "output_type": "stream",
     "text": [
      "Updating LAMBDA\n"
     ]
    },
    {
     "name": "stderr",
     "output_type": "stream",
     "text": [
      "100%|█████████████████████████████████████████████| 10/10 [00:00<00:00, 1947.13it/s]\n"
     ]
    },
    {
     "name": "stdout",
     "output_type": "stream",
     "text": [
      "ELBO: 458058.22240140376\n",
      "Iteration 8\n",
      "Updating PHI and GAMMA\n"
     ]
    },
    {
     "name": "stderr",
     "output_type": "stream",
     "text": [
      "100%|███████████████████████████████████████████████| 12/12 [00:00<00:00, 72.85it/s]\n"
     ]
    },
    {
     "name": "stdout",
     "output_type": "stream",
     "text": [
      "Updating LAMBDA\n"
     ]
    },
    {
     "name": "stderr",
     "output_type": "stream",
     "text": [
      "100%|█████████████████████████████████████████████| 10/10 [00:00<00:00, 2001.58it/s]\n"
     ]
    },
    {
     "name": "stdout",
     "output_type": "stream",
     "text": [
      "ELBO: 458318.8353330652\n",
      "Iteration 9\n",
      "Updating PHI and GAMMA\n"
     ]
    },
    {
     "name": "stderr",
     "output_type": "stream",
     "text": [
      "100%|███████████████████████████████████████████████| 12/12 [00:00<00:00, 72.04it/s]\n"
     ]
    },
    {
     "name": "stdout",
     "output_type": "stream",
     "text": [
      "Updating LAMBDA\n"
     ]
    },
    {
     "name": "stderr",
     "output_type": "stream",
     "text": [
      "100%|█████████████████████████████████████████████| 10/10 [00:00<00:00, 1930.19it/s]\n"
     ]
    },
    {
     "name": "stdout",
     "output_type": "stream",
     "text": [
      "ELBO: 458469.79598711006\n",
      "Iteration 10\n",
      "Updating PHI and GAMMA\n"
     ]
    },
    {
     "name": "stderr",
     "output_type": "stream",
     "text": [
      "100%|███████████████████████████████████████████████| 12/12 [00:00<00:00, 72.39it/s]\n"
     ]
    },
    {
     "name": "stdout",
     "output_type": "stream",
     "text": [
      "Updating LAMBDA\n"
     ]
    },
    {
     "name": "stderr",
     "output_type": "stream",
     "text": [
      "100%|█████████████████████████████████████████████| 10/10 [00:00<00:00, 1999.19it/s]\n"
     ]
    },
    {
     "name": "stdout",
     "output_type": "stream",
     "text": [
      "ELBO: 458556.7524988506\n",
      "Iteration 11\n",
      "Updating PHI and GAMMA\n"
     ]
    },
    {
     "name": "stderr",
     "output_type": "stream",
     "text": [
      "100%|███████████████████████████████████████████████| 12/12 [00:00<00:00, 73.17it/s]\n"
     ]
    },
    {
     "name": "stdout",
     "output_type": "stream",
     "text": [
      "Updating LAMBDA\n"
     ]
    },
    {
     "name": "stderr",
     "output_type": "stream",
     "text": [
      "100%|█████████████████████████████████████████████| 10/10 [00:00<00:00, 2177.28it/s]\n"
     ]
    },
    {
     "name": "stdout",
     "output_type": "stream",
     "text": [
      "ELBO: 458620.8644448843\n",
      "Iteration 12\n",
      "Updating PHI and GAMMA\n"
     ]
    },
    {
     "name": "stderr",
     "output_type": "stream",
     "text": [
      "100%|███████████████████████████████████████████████| 12/12 [00:00<00:00, 73.28it/s]\n"
     ]
    },
    {
     "name": "stdout",
     "output_type": "stream",
     "text": [
      "Updating LAMBDA\n"
     ]
    },
    {
     "name": "stderr",
     "output_type": "stream",
     "text": [
      "100%|█████████████████████████████████████████████| 10/10 [00:00<00:00, 2058.05it/s]\n"
     ]
    },
    {
     "name": "stdout",
     "output_type": "stream",
     "text": [
      "ELBO: 458666.57773786824\n",
      "Iteration 13\n",
      "Updating PHI and GAMMA\n"
     ]
    },
    {
     "name": "stderr",
     "output_type": "stream",
     "text": [
      "100%|███████████████████████████████████████████████| 12/12 [00:00<00:00, 72.11it/s]\n"
     ]
    },
    {
     "name": "stdout",
     "output_type": "stream",
     "text": [
      "Updating LAMBDA\n"
     ]
    },
    {
     "name": "stderr",
     "output_type": "stream",
     "text": [
      "100%|█████████████████████████████████████████████| 10/10 [00:00<00:00, 2175.81it/s]\n"
     ]
    },
    {
     "name": "stdout",
     "output_type": "stream",
     "text": [
      "ELBO: 458694.2344199254\n",
      "Iteration 14\n",
      "Updating PHI and GAMMA\n"
     ]
    },
    {
     "name": "stderr",
     "output_type": "stream",
     "text": [
      "100%|███████████████████████████████████████████████| 12/12 [00:00<00:00, 71.98it/s]\n"
     ]
    },
    {
     "name": "stdout",
     "output_type": "stream",
     "text": [
      "Updating LAMBDA\n"
     ]
    },
    {
     "name": "stderr",
     "output_type": "stream",
     "text": [
      "100%|█████████████████████████████████████████████| 10/10 [00:00<00:00, 2042.22it/s]\n"
     ]
    },
    {
     "name": "stdout",
     "output_type": "stream",
     "text": [
      "ELBO: 458711.99477410514\n",
      "Iteration 15\n",
      "Updating PHI and GAMMA\n"
     ]
    },
    {
     "name": "stderr",
     "output_type": "stream",
     "text": [
      "100%|███████████████████████████████████████████████| 12/12 [00:00<00:00, 70.90it/s]\n"
     ]
    },
    {
     "name": "stdout",
     "output_type": "stream",
     "text": [
      "Updating LAMBDA\n"
     ]
    },
    {
     "name": "stderr",
     "output_type": "stream",
     "text": [
      "100%|█████████████████████████████████████████████| 10/10 [00:00<00:00, 2015.72it/s]\n"
     ]
    },
    {
     "name": "stdout",
     "output_type": "stream",
     "text": [
      "ELBO: 458732.6438919984\n",
      "Iteration 16\n",
      "Updating PHI and GAMMA\n"
     ]
    },
    {
     "name": "stderr",
     "output_type": "stream",
     "text": [
      "100%|███████████████████████████████████████████████| 12/12 [00:00<00:00, 72.30it/s]\n"
     ]
    },
    {
     "name": "stdout",
     "output_type": "stream",
     "text": [
      "Updating LAMBDA\n"
     ]
    },
    {
     "name": "stderr",
     "output_type": "stream",
     "text": [
      "100%|█████████████████████████████████████████████| 10/10 [00:00<00:00, 1974.63it/s]\n"
     ]
    },
    {
     "name": "stdout",
     "output_type": "stream",
     "text": [
      "ELBO: 458756.99171418766\n",
      "Iteration 17\n",
      "Updating PHI and GAMMA\n"
     ]
    },
    {
     "name": "stderr",
     "output_type": "stream",
     "text": [
      "100%|███████████████████████████████████████████████| 12/12 [00:00<00:00, 72.63it/s]\n"
     ]
    },
    {
     "name": "stdout",
     "output_type": "stream",
     "text": [
      "Updating LAMBDA\n"
     ]
    },
    {
     "name": "stderr",
     "output_type": "stream",
     "text": [
      "100%|█████████████████████████████████████████████| 10/10 [00:00<00:00, 1950.11it/s]\n"
     ]
    },
    {
     "name": "stdout",
     "output_type": "stream",
     "text": [
      "ELBO: 458770.15578887716\n",
      "Iteration 18\n",
      "Updating PHI and GAMMA\n"
     ]
    },
    {
     "name": "stderr",
     "output_type": "stream",
     "text": [
      "100%|███████████████████████████████████████████████| 12/12 [00:00<00:00, 73.15it/s]\n"
     ]
    },
    {
     "name": "stdout",
     "output_type": "stream",
     "text": [
      "Updating LAMBDA\n"
     ]
    },
    {
     "name": "stderr",
     "output_type": "stream",
     "text": [
      "100%|█████████████████████████████████████████████| 10/10 [00:00<00:00, 1952.02it/s]\n"
     ]
    },
    {
     "name": "stdout",
     "output_type": "stream",
     "text": [
      "ELBO: 458779.98025211017\n",
      "Iteration 19\n",
      "Updating PHI and GAMMA\n"
     ]
    },
    {
     "name": "stderr",
     "output_type": "stream",
     "text": [
      "100%|███████████████████████████████████████████████| 12/12 [00:00<00:00, 71.45it/s]\n"
     ]
    },
    {
     "name": "stdout",
     "output_type": "stream",
     "text": [
      "Updating LAMBDA\n"
     ]
    },
    {
     "name": "stderr",
     "output_type": "stream",
     "text": [
      "100%|█████████████████████████████████████████████| 10/10 [00:00<00:00, 2038.84it/s]\n"
     ]
    },
    {
     "name": "stdout",
     "output_type": "stream",
     "text": [
      "ELBO: 458788.52290506655\n",
      "Iteration 20\n",
      "Updating PHI and GAMMA\n"
     ]
    },
    {
     "name": "stderr",
     "output_type": "stream",
     "text": [
      "100%|███████████████████████████████████████████████| 12/12 [00:00<00:00, 72.49it/s]\n"
     ]
    },
    {
     "name": "stdout",
     "output_type": "stream",
     "text": [
      "Updating LAMBDA\n"
     ]
    },
    {
     "name": "stderr",
     "output_type": "stream",
     "text": [
      "100%|█████████████████████████████████████████████| 10/10 [00:00<00:00, 2119.62it/s]\n"
     ]
    },
    {
     "name": "stdout",
     "output_type": "stream",
     "text": [
      "ELBO: 458794.7425660929\n"
     ]
    },
    {
     "data": {
      "image/png": "[encoded data removed]",
      "text/plain": [
       "<Figure size 640x480 with 1 Axes>"
      ]
     },
     "metadata": {},
     "output_type": "display_data"
    },
    {
     "name": "stdout",
     "output_type": "stream",
     "text": [
      "ELBO plot saved.\n",
      "Initializing variational parameters...\n",
      "Running CAVI for LDA (C: 10, Iter: 20)...\n",
      "Iteration 1\n",
      "Updating PHI and GAMMA\n"
     ]
    },
    {
     "name": "stderr",
     "output_type": "stream",
     "text": [
      "100%|███████████████████████████████████████████████| 10/10 [00:00<00:00, 71.86it/s]\n"
     ]
    },
    {
     "name": "stdout",
     "output_type": "stream",
     "text": [
      "ELBO: 349332.89664146793\n",
      "Iteration 2\n",
      "Updating PHI and GAMMA\n"
     ]
    },
    {
     "name": "stderr",
     "output_type": "stream",
     "text": [
      "100%|███████████████████████████████████████████████| 10/10 [00:00<00:00, 73.03it/s]\n"
     ]
    },
    {
     "name": "stdout",
     "output_type": "stream",
     "text": [
      "ELBO: 349396.86145007407\n",
      "Iteration 3\n",
      "Updating PHI and GAMMA\n"
     ]
    },
    {
     "name": "stderr",
     "output_type": "stream",
     "text": [
      "100%|███████████████████████████████████████████████| 10/10 [00:00<00:00, 72.93it/s]\n"
     ]
    },
    {
     "name": "stdout",
     "output_type": "stream",
     "text": [
      "ELBO: 349452.00311205426\n",
      "Iteration 4\n",
      "Updating PHI and GAMMA\n"
     ]
    },
    {
     "name": "stderr",
     "output_type": "stream",
     "text": [
      "100%|███████████████████████████████████████████████| 10/10 [00:00<00:00, 74.07it/s]\n"
     ]
    },
    {
     "name": "stdout",
     "output_type": "stream",
     "text": [
      "ELBO: 349490.56053787295\n",
      "Iteration 5\n",
      "Updating PHI and GAMMA\n"
     ]
    },
    {
     "name": "stderr",
     "output_type": "stream",
     "text": [
      "100%|███████████████████████████████████████████████| 10/10 [00:00<00:00, 72.85it/s]\n"
     ]
    },
    {
     "name": "stdout",
     "output_type": "stream",
     "text": [
      "ELBO: 349515.6629570702\n",
      "Iteration 6\n",
      "Updating PHI and GAMMA\n"
     ]
    },
    {
     "name": "stderr",
     "output_type": "stream",
     "text": [
      "100%|███████████████████████████████████████████████| 10/10 [00:00<00:00, 71.03it/s]\n"
     ]
    },
    {
     "name": "stdout",
     "output_type": "stream",
     "text": [
      "ELBO: 349532.1638553234\n",
      "Iteration 7\n",
      "Updating PHI and GAMMA\n"
     ]
    },
    {
     "name": "stderr",
     "output_type": "stream",
     "text": [
      "100%|███████████████████████████████████████████████| 10/10 [00:00<00:00, 70.15it/s]\n"
     ]
    },
    {
     "name": "stdout",
     "output_type": "stream",
     "text": [
      "ELBO: 349543.5173261541\n",
      "Iteration 8\n",
      "Updating PHI and GAMMA\n"
     ]
    },
    {
     "name": "stderr",
     "output_type": "stream",
     "text": [
      "100%|███████████████████████████████████████████████| 10/10 [00:00<00:00, 69.51it/s]\n"
     ]
    },
    {
     "name": "stdout",
     "output_type": "stream",
     "text": [
      "ELBO: 349551.77800070075\n",
      "Iteration 9\n",
      "Updating PHI and GAMMA\n"
     ]
    },
    {
     "name": "stderr",
     "output_type": "stream",
     "text": [
      "100%|███████████████████████████████████████████████| 10/10 [00:00<00:00, 70.72it/s]\n"
     ]
    },
    {
     "name": "stdout",
     "output_type": "stream",
     "text": [
      "ELBO: 349557.85477271036\n",
      "Iteration 10\n",
      "Updating PHI and GAMMA\n"
     ]
    },
    {
     "name": "stderr",
     "output_type": "stream",
     "text": [
      "100%|███████████████████████████████████████████████| 10/10 [00:00<00:00, 67.99it/s]\n"
     ]
    },
    {
     "name": "stdout",
     "output_type": "stream",
     "text": [
      "ELBO: 349561.8659783315\n",
      "Iteration 11\n",
      "Updating PHI and GAMMA\n"
     ]
    },
    {
     "name": "stderr",
     "output_type": "stream",
     "text": [
      "100%|███████████████████████████████████████████████| 10/10 [00:00<00:00, 70.69it/s]\n"
     ]
    },
    {
     "name": "stdout",
     "output_type": "stream",
     "text": [
      "ELBO: 349564.7296763989\n",
      "Iteration 12\n",
      "Updating PHI and GAMMA\n"
     ]
    },
    {
     "name": "stderr",
     "output_type": "stream",
     "text": [
      "100%|███████████████████████████████████████████████| 10/10 [00:00<00:00, 72.51it/s]\n"
     ]
    },
    {
     "name": "stdout",
     "output_type": "stream",
     "text": [
      "ELBO: 349566.85821375344\n",
      "Iteration 13\n",
      "Updating PHI and GAMMA\n"
     ]
    },
    {
     "name": "stderr",
     "output_type": "stream",
     "text": [
      "100%|███████████████████████████████████████████████| 10/10 [00:00<00:00, 71.55it/s]\n"
     ]
    },
    {
     "name": "stdout",
     "output_type": "stream",
     "text": [
      "ELBO: 349568.4528756471\n",
      "Iteration 14\n",
      "Updating PHI and GAMMA\n"
     ]
    },
    {
     "name": "stderr",
     "output_type": "stream",
     "text": [
      "100%|███████████████████████████████████████████████| 10/10 [00:00<00:00, 71.79it/s]\n"
     ]
    },
    {
     "name": "stdout",
     "output_type": "stream",
     "text": [
      "ELBO: 349569.6560446697\n",
      "Iteration 15\n",
      "Updating PHI and GAMMA\n"
     ]
    },
    {
     "name": "stderr",
     "output_type": "stream",
     "text": [
      "100%|███████████████████████████████████████████████| 10/10 [00:00<00:00, 70.89it/s]\n"
     ]
    },
    {
     "name": "stdout",
     "output_type": "stream",
     "text": [
      "ELBO: 349570.5696778566\n",
      "Iteration 16\n",
      "Updating PHI and GAMMA\n"
     ]
    },
    {
     "name": "stderr",
     "output_type": "stream",
     "text": [
      "100%|███████████████████████████████████████████████| 10/10 [00:00<00:00, 72.53it/s]\n"
     ]
    },
    {
     "name": "stdout",
     "output_type": "stream",
     "text": [
      "ELBO: 349571.26751602907\n",
      "Iteration 17\n",
      "Updating PHI and GAMMA\n"
     ]
    },
    {
     "name": "stderr",
     "output_type": "stream",
     "text": [
      "100%|███████████████████████████████████████████████| 10/10 [00:00<00:00, 71.47it/s]\n"
     ]
    },
    {
     "name": "stdout",
     "output_type": "stream",
     "text": [
      "ELBO: 349571.80337980896\n",
      "Iteration 18\n",
      "Updating PHI and GAMMA\n"
     ]
    },
    {
     "name": "stderr",
     "output_type": "stream",
     "text": [
      "100%|███████████████████████████████████████████████| 10/10 [00:00<00:00, 73.08it/s]\n"
     ]
    },
    {
     "name": "stdout",
     "output_type": "stream",
     "text": [
      "ELBO: 349572.2168790555\n",
      "Iteration 19\n",
      "Updating PHI and GAMMA\n"
     ]
    },
    {
     "name": "stderr",
     "output_type": "stream",
     "text": [
      "100%|███████████████████████████████████████████████| 10/10 [00:00<00:00, 72.13it/s]\n"
     ]
    },
    {
     "name": "stdout",
     "output_type": "stream",
     "text": [
      "ELBO: 349572.53738839447\n",
      "Iteration 20\n",
      "Updating PHI and GAMMA\n"
     ]
    },
    {
     "name": "stderr",
     "output_type": "stream",
     "text": [
      "100%|███████████████████████████████████████████████| 10/10 [00:00<00:00, 74.70it/s]\n"
     ]
    },
    {
     "name": "stdout",
     "output_type": "stream",
     "text": [
      "ELBO: 349572.7868453056\n",
      "Computing predictive likelihood score on held out documents...\n"
     ]
    },
    {
     "name": "stderr",
     "output_type": "stream",
     "text": [
      "100%|█████████████████████████████████████████████| 10/10 [00:00<00:00, 8725.41it/s]"
     ]
    },
    {
     "name": "stdout",
     "output_type": "stream",
     "text": [
      "Predictive likelihood: -2809.115874846394\n",
      "Total run-time: 0:0:8\n"
     ]
    },
    {
     "name": "stderr",
     "output_type": "stream",
     "text": [
      "\n"
     ]
    },
    {
     "data": {
      "text/plain": [
       "<Figure size 640x480 with 0 Axes>"
      ]
     },
     "metadata": {},
     "output_type": "display_data"
    }
   ],
   "source": [
    "C = 10 #num of topics \n",
    "#use_cached = kwargs['use_cached']\n",
    "predict_flag = True\n",
    "max_iter = 20\n",
    "n_trials = 1\n",
    "trim = 0.01\n",
    "\n",
    "start_time = datetime.now()\n",
    "\n",
    "global ALPHA\n",
    "ALPHA = 1 / C\n",
    "\n",
    "# Load data\n",
    "print('Loading AP article data...')\n",
    "idx_to_words, articles, nonzero_idxs = load_data(BOW_PATH,VOCAB_PATH, trim)\n",
    "\n",
    "# Split data into train/test\n",
    "\n",
    "train_articles = articles[:-N_TEST]\n",
    "train_nonzero_idxs = nonzero_idxs[:-N_TEST]\n",
    "test_articles = articles[-N_TEST:]\n",
    "test_nonzero_idxs = nonzero_idxs[-N_TEST:]\n",
    "\n",
    "#var_param_dict = {}\n",
    "colors = matplotlib.cm.tab10(np.linspace(0,1,n_trials))\n",
    "best_trial = 0\n",
    "best_elbo = -np.inf\n",
    "\n",
    "for trial in range(n_trials):\n",
    "    print('Running LDA CAVI {}/{}...'.format(trial+1, n_trials))\n",
    "\n",
    "    # Initialize variational parameters\n",
    "    LAMBDA, GAMMA, PHI = init_var_param(train_articles, C)\n",
    "\n",
    "    # Run CAVI\n",
    "    LAMBDA_final, GAMMA_final, PHI_final, elbos = run_cavi(LAMBDA, GAMMA, PHI, train_articles,\n",
    "                                                            train_nonzero_idxs, C, max_iter)\n",
    "\n",
    "    elbo_final = elbos[-1]\n",
    "\n",
    "    if elbo_final > best_elbo:\n",
    "        best_trial = trial\n",
    "        best_elbo = elbo_final\n",
    "        \n",
    "    '''\n",
    "    var_param_dict[trial] = {'LAMBDA': LAMBDA_final,\n",
    "                              'GAMMA': GAMMA_final,\n",
    "                              'PHI': PHI_final,\n",
    "                              'elbos': elbos}\n",
    "    '''\n",
    "    # Plot ELBO\n",
    "    plt.plot(np.arange(0, max_iter), elbos, label=trial+1, color=colors[trial])\n",
    "\n",
    "#plt.legend()\n",
    "plt.xlabel('Iteration')\n",
    "plt.ylabel('ELBO')\n",
    "plt.show()\n",
    "plt.savefig('./elbo_plot_{}_{}.png'.format(C, max_iter))\n",
    "print('ELBO plot saved.')\n",
    "\n",
    "# Compute predictive likelihood score on held out test articles\n",
    "if predict_flag:\n",
    "    \n",
    "    #LAMBDA_fixed = var_param_dict[best_trial]['LAMBDA']\n",
    "    LAMBDA_fixed = LAMBDA_final\n",
    "\n",
    "    # Initialize variational parameters\n",
    "    _, GAMMA, PHI = init_var_param(test_articles, C)\n",
    "\n",
    "    # Run CAVI\n",
    "    LAMBDA_pred, GAMMA_pred, PHI_pred, elbos = run_cavi(LAMBDA_fixed, GAMMA, PHI, test_articles,\n",
    "                                                        test_nonzero_idxs, C, max_iter, predict_flag=True)\n",
    "    test_word_idxs = []\n",
    "    # Compute predictive likelihood\n",
    "    test_word_idxs = filter_train_words(idx_to_words, train_nonzero_idxs)\n",
    "    pred_score = compute_pred_score(LAMBDA_pred, GAMMA_pred, PHI_pred, test_articles,\n",
    "                                    test_nonzero_idxs, test_word_idxs)\n",
    "    #var_param_dict['score'] = pred_score\n",
    "    pred_score_list.append(pred_score)\n",
    "\n",
    "# Save inferred variational parameters\n",
    "'''\n",
    "with open('var_params_{}_{}.pkl'.format(C, max_iter), 'wb') as fh:\n",
    "    pickle.dump(var_param_dict, fh)\n",
    "    print('Inferred variational parameters saved.')\n",
    "'''\n",
    "\n",
    "end_time = datetime.now()\n",
    "elapsed_time = end_time - start_time\n",
    "hours, rem = divmod(elapsed_time.seconds, 3600)\n",
    "minutes, seconds = divmod(rem, 60)\n",
    "print('Total run-time: {}:{}:{}'.format(hours, minutes, seconds))\n"
   ]
  },
  {
   "cell_type": "code",
   "execution_count": 106,
   "metadata": {
    "id": "bJJzq6dmuRll",
    "scrolled": true
   },
   "outputs": [],
   "source": [
    "theta1 = [LAMBDA_final, GAMMA_final, PHI_final] "
   ]
  },
  {
   "cell_type": "code",
   "execution_count": 107,
   "metadata": {
    "colab": {
     "base_uri": "https://localhost:8080/",
     "height": 1000
    },
    "id": "8nEMKohluenX",
    "outputId": "066c74b8-da6e-4227-89ed-f003369159e6"
   },
   "outputs": [
    {
     "name": "stdout",
     "output_type": "stream",
     "text": [
      "Running LDA CAVI 1/1...\n",
      "Initializing variational parameters...\n",
      "Running CAVI for LDA (C: 10, Iter: 20)...\n",
      "Iteration 1\n",
      "Updating PHI and GAMMA\n"
     ]
    },
    {
     "name": "stderr",
     "output_type": "stream",
     "text": [
      "100%|███████████████████████████████████████████████| 12/12 [00:00<00:00, 71.50it/s]\n"
     ]
    },
    {
     "name": "stdout",
     "output_type": "stream",
     "text": [
      "Updating LAMBDA\n"
     ]
    },
    {
     "name": "stderr",
     "output_type": "stream",
     "text": [
      "100%|█████████████████████████████████████████████| 10/10 [00:00<00:00, 1920.56it/s]\n"
     ]
    },
    {
     "name": "stdout",
     "output_type": "stream",
     "text": [
      "ELBO: 440684.6148471351\n",
      "Iteration 2\n",
      "Updating PHI and GAMMA\n"
     ]
    },
    {
     "name": "stderr",
     "output_type": "stream",
     "text": [
      "100%|███████████████████████████████████████████████| 12/12 [00:00<00:00, 71.45it/s]\n"
     ]
    },
    {
     "name": "stdout",
     "output_type": "stream",
     "text": [
      "Updating LAMBDA\n"
     ]
    },
    {
     "name": "stderr",
     "output_type": "stream",
     "text": [
      "100%|█████████████████████████████████████████████| 10/10 [00:00<00:00, 2044.51it/s]\n"
     ]
    },
    {
     "name": "stdout",
     "output_type": "stream",
     "text": [
      "ELBO: 448492.65833333635\n",
      "Iteration 3\n",
      "Updating PHI and GAMMA\n"
     ]
    },
    {
     "name": "stderr",
     "output_type": "stream",
     "text": [
      "100%|███████████████████████████████████████████████| 12/12 [00:00<00:00, 71.81it/s]\n"
     ]
    },
    {
     "name": "stdout",
     "output_type": "stream",
     "text": [
      "Updating LAMBDA\n"
     ]
    },
    {
     "name": "stderr",
     "output_type": "stream",
     "text": [
      "100%|█████████████████████████████████████████████| 10/10 [00:00<00:00, 2304.69it/s]\n"
     ]
    },
    {
     "name": "stdout",
     "output_type": "stream",
     "text": [
      "ELBO: 453048.9012982161\n",
      "Iteration 4\n",
      "Updating PHI and GAMMA\n"
     ]
    },
    {
     "name": "stderr",
     "output_type": "stream",
     "text": [
      "100%|███████████████████████████████████████████████| 12/12 [00:00<00:00, 73.09it/s]\n"
     ]
    },
    {
     "name": "stdout",
     "output_type": "stream",
     "text": [
      "Updating LAMBDA\n"
     ]
    },
    {
     "name": "stderr",
     "output_type": "stream",
     "text": [
      "100%|█████████████████████████████████████████████| 10/10 [00:00<00:00, 2028.78it/s]\n"
     ]
    },
    {
     "name": "stdout",
     "output_type": "stream",
     "text": [
      "ELBO: 455419.69097795704\n",
      "Iteration 5\n",
      "Updating PHI and GAMMA\n"
     ]
    },
    {
     "name": "stderr",
     "output_type": "stream",
     "text": [
      "100%|███████████████████████████████████████████████| 12/12 [00:00<00:00, 70.30it/s]\n"
     ]
    },
    {
     "name": "stdout",
     "output_type": "stream",
     "text": [
      "Updating LAMBDA\n"
     ]
    },
    {
     "name": "stderr",
     "output_type": "stream",
     "text": [
      "100%|█████████████████████████████████████████████| 10/10 [00:00<00:00, 2166.93it/s]\n"
     ]
    },
    {
     "name": "stdout",
     "output_type": "stream",
     "text": [
      "ELBO: 456814.967436007\n",
      "Iteration 6\n",
      "Updating PHI and GAMMA\n"
     ]
    },
    {
     "name": "stderr",
     "output_type": "stream",
     "text": [
      "100%|███████████████████████████████████████████████| 12/12 [00:00<00:00, 72.79it/s]\n"
     ]
    },
    {
     "name": "stdout",
     "output_type": "stream",
     "text": [
      "Updating LAMBDA\n"
     ]
    },
    {
     "name": "stderr",
     "output_type": "stream",
     "text": [
      "100%|█████████████████████████████████████████████| 10/10 [00:00<00:00, 2018.14it/s]\n"
     ]
    },
    {
     "name": "stdout",
     "output_type": "stream",
     "text": [
      "ELBO: 457574.5319634402\n",
      "Iteration 7\n",
      "Updating PHI and GAMMA\n"
     ]
    },
    {
     "name": "stderr",
     "output_type": "stream",
     "text": [
      "100%|███████████████████████████████████████████████| 12/12 [00:00<00:00, 72.53it/s]\n"
     ]
    },
    {
     "name": "stdout",
     "output_type": "stream",
     "text": [
      "Updating LAMBDA\n"
     ]
    },
    {
     "name": "stderr",
     "output_type": "stream",
     "text": [
      "100%|█████████████████████████████████████████████| 10/10 [00:00<00:00, 2072.90it/s]\n"
     ]
    },
    {
     "name": "stdout",
     "output_type": "stream",
     "text": [
      "ELBO: 458019.50313759595\n",
      "Iteration 8\n",
      "Updating PHI and GAMMA\n"
     ]
    },
    {
     "name": "stderr",
     "output_type": "stream",
     "text": [
      "100%|███████████████████████████████████████████████| 12/12 [00:00<00:00, 72.81it/s]\n"
     ]
    },
    {
     "name": "stdout",
     "output_type": "stream",
     "text": [
      "Updating LAMBDA\n"
     ]
    },
    {
     "name": "stderr",
     "output_type": "stream",
     "text": [
      "100%|█████████████████████████████████████████████| 10/10 [00:00<00:00, 2091.61it/s]\n"
     ]
    },
    {
     "name": "stdout",
     "output_type": "stream",
     "text": [
      "ELBO: 458304.16583496484\n",
      "Iteration 9\n",
      "Updating PHI and GAMMA\n"
     ]
    },
    {
     "name": "stderr",
     "output_type": "stream",
     "text": [
      "100%|███████████████████████████████████████████████| 12/12 [00:00<00:00, 72.95it/s]\n"
     ]
    },
    {
     "name": "stdout",
     "output_type": "stream",
     "text": [
      "Updating LAMBDA\n"
     ]
    },
    {
     "name": "stderr",
     "output_type": "stream",
     "text": [
      "100%|█████████████████████████████████████████████| 10/10 [00:00<00:00, 2004.45it/s]\n"
     ]
    },
    {
     "name": "stdout",
     "output_type": "stream",
     "text": [
      "ELBO: 458493.8667122563\n",
      "Iteration 10\n",
      "Updating PHI and GAMMA\n"
     ]
    },
    {
     "name": "stderr",
     "output_type": "stream",
     "text": [
      "100%|███████████████████████████████████████████████| 12/12 [00:00<00:00, 71.91it/s]\n"
     ]
    },
    {
     "name": "stdout",
     "output_type": "stream",
     "text": [
      "Updating LAMBDA\n"
     ]
    },
    {
     "name": "stderr",
     "output_type": "stream",
     "text": [
      "100%|█████████████████████████████████████████████| 10/10 [00:00<00:00, 2022.23it/s]\n"
     ]
    },
    {
     "name": "stdout",
     "output_type": "stream",
     "text": [
      "ELBO: 458605.0417210224\n",
      "Iteration 11\n",
      "Updating PHI and GAMMA\n"
     ]
    },
    {
     "name": "stderr",
     "output_type": "stream",
     "text": [
      "100%|███████████████████████████████████████████████| 12/12 [00:00<00:00, 73.80it/s]\n"
     ]
    },
    {
     "name": "stdout",
     "output_type": "stream",
     "text": [
      "Updating LAMBDA\n"
     ]
    },
    {
     "name": "stderr",
     "output_type": "stream",
     "text": [
      "100%|█████████████████████████████████████████████| 10/10 [00:00<00:00, 2111.94it/s]\n"
     ]
    },
    {
     "name": "stdout",
     "output_type": "stream",
     "text": [
      "ELBO: 458675.8088047522\n",
      "Iteration 12\n",
      "Updating PHI and GAMMA\n"
     ]
    },
    {
     "name": "stderr",
     "output_type": "stream",
     "text": [
      "100%|███████████████████████████████████████████████| 12/12 [00:00<00:00, 71.96it/s]\n"
     ]
    },
    {
     "name": "stdout",
     "output_type": "stream",
     "text": [
      "Updating LAMBDA\n"
     ]
    },
    {
     "name": "stderr",
     "output_type": "stream",
     "text": [
      "100%|█████████████████████████████████████████████| 10/10 [00:00<00:00, 2012.82it/s]\n"
     ]
    },
    {
     "name": "stdout",
     "output_type": "stream",
     "text": [
      "ELBO: 458717.1553886126\n",
      "Iteration 13\n",
      "Updating PHI and GAMMA\n"
     ]
    },
    {
     "name": "stderr",
     "output_type": "stream",
     "text": [
      "100%|███████████████████████████████████████████████| 12/12 [00:00<00:00, 71.81it/s]\n"
     ]
    },
    {
     "name": "stdout",
     "output_type": "stream",
     "text": [
      "Updating LAMBDA\n"
     ]
    },
    {
     "name": "stderr",
     "output_type": "stream",
     "text": [
      "100%|█████████████████████████████████████████████| 10/10 [00:00<00:00, 2103.57it/s]\n"
     ]
    },
    {
     "name": "stdout",
     "output_type": "stream",
     "text": [
      "ELBO: 458738.573374208\n",
      "Iteration 14\n",
      "Updating PHI and GAMMA\n"
     ]
    },
    {
     "name": "stderr",
     "output_type": "stream",
     "text": [
      "100%|███████████████████████████████████████████████| 12/12 [00:00<00:00, 72.57it/s]\n"
     ]
    },
    {
     "name": "stdout",
     "output_type": "stream",
     "text": [
      "Updating LAMBDA\n"
     ]
    },
    {
     "name": "stderr",
     "output_type": "stream",
     "text": [
      "100%|█████████████████████████████████████████████| 10/10 [00:00<00:00, 2083.30it/s]\n"
     ]
    },
    {
     "name": "stdout",
     "output_type": "stream",
     "text": [
      "ELBO: 458750.2085281356\n",
      "Iteration 15\n",
      "Updating PHI and GAMMA\n"
     ]
    },
    {
     "name": "stderr",
     "output_type": "stream",
     "text": [
      "100%|███████████████████████████████████████████████| 12/12 [00:00<00:00, 73.68it/s]\n"
     ]
    },
    {
     "name": "stdout",
     "output_type": "stream",
     "text": [
      "Updating LAMBDA\n"
     ]
    },
    {
     "name": "stderr",
     "output_type": "stream",
     "text": [
      "100%|█████████████████████████████████████████████| 10/10 [00:00<00:00, 1999.57it/s]\n"
     ]
    },
    {
     "name": "stdout",
     "output_type": "stream",
     "text": [
      "ELBO: 458764.2738626289\n",
      "Iteration 16\n",
      "Updating PHI and GAMMA\n"
     ]
    },
    {
     "name": "stderr",
     "output_type": "stream",
     "text": [
      "100%|███████████████████████████████████████████████| 12/12 [00:00<00:00, 72.01it/s]\n"
     ]
    },
    {
     "name": "stdout",
     "output_type": "stream",
     "text": [
      "Updating LAMBDA\n"
     ]
    },
    {
     "name": "stderr",
     "output_type": "stream",
     "text": [
      "100%|█████████████████████████████████████████████| 10/10 [00:00<00:00, 2164.47it/s]\n"
     ]
    },
    {
     "name": "stdout",
     "output_type": "stream",
     "text": [
      "ELBO: 458770.53288504493\n",
      "Iteration 17\n",
      "Updating PHI and GAMMA\n"
     ]
    },
    {
     "name": "stderr",
     "output_type": "stream",
     "text": [
      "100%|███████████████████████████████████████████████| 12/12 [00:00<00:00, 73.24it/s]\n"
     ]
    },
    {
     "name": "stdout",
     "output_type": "stream",
     "text": [
      "Updating LAMBDA\n"
     ]
    },
    {
     "name": "stderr",
     "output_type": "stream",
     "text": [
      "100%|█████████████████████████████████████████████| 10/10 [00:00<00:00, 1950.75it/s]\n"
     ]
    },
    {
     "name": "stdout",
     "output_type": "stream",
     "text": [
      "ELBO: 458776.2844483925\n",
      "Iteration 18\n",
      "Updating PHI and GAMMA\n"
     ]
    },
    {
     "name": "stderr",
     "output_type": "stream",
     "text": [
      "100%|███████████████████████████████████████████████| 12/12 [00:00<00:00, 72.25it/s]\n"
     ]
    },
    {
     "name": "stdout",
     "output_type": "stream",
     "text": [
      "Updating LAMBDA\n"
     ]
    },
    {
     "name": "stderr",
     "output_type": "stream",
     "text": [
      "100%|█████████████████████████████████████████████| 10/10 [00:00<00:00, 2257.92it/s]\n"
     ]
    },
    {
     "name": "stdout",
     "output_type": "stream",
     "text": [
      "ELBO: 458782.4076634218\n",
      "Iteration 19\n",
      "Updating PHI and GAMMA\n"
     ]
    },
    {
     "name": "stderr",
     "output_type": "stream",
     "text": [
      "100%|███████████████████████████████████████████████| 12/12 [00:00<00:00, 72.56it/s]\n"
     ]
    },
    {
     "name": "stdout",
     "output_type": "stream",
     "text": [
      "Updating LAMBDA\n"
     ]
    },
    {
     "name": "stderr",
     "output_type": "stream",
     "text": [
      "100%|█████████████████████████████████████████████| 10/10 [00:00<00:00, 2036.66it/s]\n"
     ]
    },
    {
     "name": "stdout",
     "output_type": "stream",
     "text": [
      "ELBO: 458792.43010691414\n",
      "Iteration 20\n",
      "Updating PHI and GAMMA\n"
     ]
    },
    {
     "name": "stderr",
     "output_type": "stream",
     "text": [
      "100%|███████████████████████████████████████████████| 12/12 [00:00<00:00, 72.17it/s]\n"
     ]
    },
    {
     "name": "stdout",
     "output_type": "stream",
     "text": [
      "Updating LAMBDA\n"
     ]
    },
    {
     "name": "stderr",
     "output_type": "stream",
     "text": [
      "100%|█████████████████████████████████████████████| 10/10 [00:00<00:00, 2038.35it/s]\n"
     ]
    },
    {
     "name": "stdout",
     "output_type": "stream",
     "text": [
      "ELBO: 458802.9954365284\n"
     ]
    },
    {
     "data": {
      "image/png": "[encoded data removed]",
      "text/plain": [
       "<Figure size 640x480 with 1 Axes>"
      ]
     },
     "metadata": {},
     "output_type": "display_data"
    },
    {
     "name": "stdout",
     "output_type": "stream",
     "text": [
      "ELBO plot saved.\n",
      "Initializing variational parameters...\n",
      "Running CAVI for LDA (C: 10, Iter: 20)...\n",
      "Iteration 1\n",
      "Updating PHI and GAMMA\n"
     ]
    },
    {
     "name": "stderr",
     "output_type": "stream",
     "text": [
      "100%|███████████████████████████████████████████████| 10/10 [00:00<00:00, 72.18it/s]\n"
     ]
    },
    {
     "name": "stdout",
     "output_type": "stream",
     "text": [
      "ELBO: 349331.53852981067\n",
      "Iteration 2\n",
      "Updating PHI and GAMMA\n"
     ]
    },
    {
     "name": "stderr",
     "output_type": "stream",
     "text": [
      "100%|███████████████████████████████████████████████| 10/10 [00:00<00:00, 67.80it/s]\n"
     ]
    },
    {
     "name": "stdout",
     "output_type": "stream",
     "text": [
      "ELBO: 349412.42648445454\n",
      "Iteration 3\n",
      "Updating PHI and GAMMA\n"
     ]
    },
    {
     "name": "stderr",
     "output_type": "stream",
     "text": [
      "100%|███████████████████████████████████████████████| 10/10 [00:00<00:00, 71.30it/s]\n"
     ]
    },
    {
     "name": "stdout",
     "output_type": "stream",
     "text": [
      "ELBO: 349488.30866055813\n",
      "Iteration 4\n",
      "Updating PHI and GAMMA\n"
     ]
    },
    {
     "name": "stderr",
     "output_type": "stream",
     "text": [
      "100%|███████████████████████████████████████████████| 10/10 [00:00<00:00, 67.39it/s]\n"
     ]
    },
    {
     "name": "stdout",
     "output_type": "stream",
     "text": [
      "ELBO: 349546.2493961502\n",
      "Iteration 5\n",
      "Updating PHI and GAMMA\n"
     ]
    },
    {
     "name": "stderr",
     "output_type": "stream",
     "text": [
      "100%|███████████████████████████████████████████████| 10/10 [00:00<00:00, 69.53it/s]\n"
     ]
    },
    {
     "name": "stdout",
     "output_type": "stream",
     "text": [
      "ELBO: 349587.800360117\n",
      "Iteration 6\n",
      "Updating PHI and GAMMA\n"
     ]
    },
    {
     "name": "stderr",
     "output_type": "stream",
     "text": [
      "100%|███████████████████████████████████████████████| 10/10 [00:00<00:00, 70.44it/s]\n"
     ]
    },
    {
     "name": "stdout",
     "output_type": "stream",
     "text": [
      "ELBO: 349616.43533587235\n",
      "Iteration 7\n",
      "Updating PHI and GAMMA\n"
     ]
    },
    {
     "name": "stderr",
     "output_type": "stream",
     "text": [
      "100%|███████████████████████████████████████████████| 10/10 [00:00<00:00, 71.68it/s]\n"
     ]
    },
    {
     "name": "stdout",
     "output_type": "stream",
     "text": [
      "ELBO: 349636.9968377414\n",
      "Iteration 8\n",
      "Updating PHI and GAMMA\n"
     ]
    },
    {
     "name": "stderr",
     "output_type": "stream",
     "text": [
      "100%|███████████████████████████████████████████████| 10/10 [00:00<00:00, 71.48it/s]\n"
     ]
    },
    {
     "name": "stdout",
     "output_type": "stream",
     "text": [
      "ELBO: 349651.87230145774\n",
      "Iteration 9\n",
      "Updating PHI and GAMMA\n"
     ]
    },
    {
     "name": "stderr",
     "output_type": "stream",
     "text": [
      "100%|███████████████████████████████████████████████| 10/10 [00:00<00:00, 72.98it/s]\n"
     ]
    },
    {
     "name": "stdout",
     "output_type": "stream",
     "text": [
      "ELBO: 349662.4702471467\n",
      "Iteration 10\n",
      "Updating PHI and GAMMA\n"
     ]
    },
    {
     "name": "stderr",
     "output_type": "stream",
     "text": [
      "100%|███████████████████████████████████████████████| 10/10 [00:00<00:00, 71.53it/s]\n"
     ]
    },
    {
     "name": "stdout",
     "output_type": "stream",
     "text": [
      "ELBO: 349669.8018757633\n",
      "Iteration 11\n",
      "Updating PHI and GAMMA\n"
     ]
    },
    {
     "name": "stderr",
     "output_type": "stream",
     "text": [
      "100%|███████████████████████████████████████████████| 10/10 [00:00<00:00, 70.16it/s]\n"
     ]
    },
    {
     "name": "stdout",
     "output_type": "stream",
     "text": [
      "ELBO: 349675.08220736723\n",
      "Iteration 12\n",
      "Updating PHI and GAMMA\n"
     ]
    },
    {
     "name": "stderr",
     "output_type": "stream",
     "text": [
      "100%|███████████████████████████████████████████████| 10/10 [00:00<00:00, 71.54it/s]\n"
     ]
    },
    {
     "name": "stdout",
     "output_type": "stream",
     "text": [
      "ELBO: 349679.03559350414\n",
      "Iteration 13\n",
      "Updating PHI and GAMMA\n"
     ]
    },
    {
     "name": "stderr",
     "output_type": "stream",
     "text": [
      "100%|███████████████████████████████████████████████| 10/10 [00:00<00:00, 73.54it/s]\n"
     ]
    },
    {
     "name": "stdout",
     "output_type": "stream",
     "text": [
      "ELBO: 349682.0162362648\n",
      "Iteration 14\n",
      "Updating PHI and GAMMA\n"
     ]
    },
    {
     "name": "stderr",
     "output_type": "stream",
     "text": [
      "100%|███████████████████████████████████████████████| 10/10 [00:00<00:00, 72.28it/s]\n"
     ]
    },
    {
     "name": "stdout",
     "output_type": "stream",
     "text": [
      "ELBO: 349684.2780493906\n",
      "Iteration 15\n",
      "Updating PHI and GAMMA\n"
     ]
    },
    {
     "name": "stderr",
     "output_type": "stream",
     "text": [
      "100%|███████████████████████████████████████████████| 10/10 [00:00<00:00, 72.07it/s]\n"
     ]
    },
    {
     "name": "stdout",
     "output_type": "stream",
     "text": [
      "ELBO: 349686.00494455703\n",
      "Iteration 16\n",
      "Updating PHI and GAMMA\n"
     ]
    },
    {
     "name": "stderr",
     "output_type": "stream",
     "text": [
      "100%|███████████████████████████████████████████████| 10/10 [00:00<00:00, 71.37it/s]\n"
     ]
    },
    {
     "name": "stdout",
     "output_type": "stream",
     "text": [
      "ELBO: 349687.33109861333\n",
      "Iteration 17\n",
      "Updating PHI and GAMMA\n"
     ]
    },
    {
     "name": "stderr",
     "output_type": "stream",
     "text": [
      "100%|███████████████████████████████████████████████| 10/10 [00:00<00:00, 71.47it/s]\n"
     ]
    },
    {
     "name": "stdout",
     "output_type": "stream",
     "text": [
      "ELBO: 349688.3551046891\n",
      "Iteration 18\n",
      "Updating PHI and GAMMA\n"
     ]
    },
    {
     "name": "stderr",
     "output_type": "stream",
     "text": [
      "100%|███████████████████████████████████████████████| 10/10 [00:00<00:00, 70.83it/s]\n"
     ]
    },
    {
     "name": "stdout",
     "output_type": "stream",
     "text": [
      "ELBO: 349689.14991061593\n",
      "Iteration 19\n",
      "Updating PHI and GAMMA\n"
     ]
    },
    {
     "name": "stderr",
     "output_type": "stream",
     "text": [
      "100%|███████████████████████████████████████████████| 10/10 [00:00<00:00, 70.53it/s]\n"
     ]
    },
    {
     "name": "stdout",
     "output_type": "stream",
     "text": [
      "ELBO: 349689.7698470599\n",
      "Iteration 20\n",
      "Updating PHI and GAMMA\n"
     ]
    },
    {
     "name": "stderr",
     "output_type": "stream",
     "text": [
      "100%|███████████████████████████████████████████████| 10/10 [00:00<00:00, 73.09it/s]\n"
     ]
    },
    {
     "name": "stdout",
     "output_type": "stream",
     "text": [
      "ELBO: 349690.2556340879\n",
      "Computing predictive likelihood score on held out documents...\n"
     ]
    },
    {
     "name": "stderr",
     "output_type": "stream",
     "text": [
      "100%|█████████████████████████████████████████████| 10/10 [00:00<00:00, 7147.76it/s]"
     ]
    },
    {
     "name": "stdout",
     "output_type": "stream",
     "text": [
      "Predictive likelihood: -2829.152617277861\n",
      "Total run-time: 0:0:17\n"
     ]
    },
    {
     "name": "stderr",
     "output_type": "stream",
     "text": [
      "\n"
     ]
    },
    {
     "data": {
      "text/plain": [
       "<Figure size 640x480 with 0 Axes>"
      ]
     },
     "metadata": {},
     "output_type": "display_data"
    }
   ],
   "source": [
    "'''\n",
    "C = 10 #num of topics \n",
    "#use_cached = kwargs['use_cached']\n",
    "predict_flag = True\n",
    "max_iter = 20\n",
    "n_trials = 1\n",
    "trim = 0.01\n",
    "\n",
    "start_time = datetime.now()\n",
    "\n",
    "global ALPHA\n",
    "ALPHA = 1 / C\n",
    "\n",
    "# Load data\n",
    "print('Loading AP article data...')\n",
    "idx_to_words, articles, nonzero_idxs = load_data(BOW_PATH,VOCAB_PATH, trim)\n",
    "\n",
    "# Split data into train/test\n",
    "\n",
    "train_articles = articles[:-N_TEST]\n",
    "train_nonzero_idxs = nonzero_idxs[:-N_TEST]\n",
    "test_articles = articles[-N_TEST:]\n",
    "test_nonzero_idxs = nonzero_idxs[-N_TEST:]\n",
    "'''\n",
    "\n",
    "#var_param_dict = {}\n",
    "colors = matplotlib.cm.tab10(np.linspace(0,1,n_trials))\n",
    "best_trial = 0\n",
    "best_elbo = -np.inf\n",
    "\n",
    "for trial in range(n_trials):\n",
    "    print('Running LDA CAVI {}/{}...'.format(trial+1, n_trials))\n",
    "\n",
    "    # Initialize variational parameters\n",
    "    LAMBDA, GAMMA, PHI = init_var_param(train_articles, C)\n",
    "\n",
    "    # Run CAVI\n",
    "    LAMBDA_final, GAMMA_final, PHI_final, elbos = run_cavi(LAMBDA, GAMMA, PHI, train_articles,\n",
    "                                                            train_nonzero_idxs, C, max_iter)\n",
    "\n",
    "    elbo_final = elbos[-1]\n",
    "\n",
    "    if elbo_final > best_elbo:\n",
    "        best_trial = trial\n",
    "        best_elbo = elbo_final\n",
    "        \n",
    "    '''\n",
    "    var_param_dict[trial] = {'LAMBDA': LAMBDA_final,\n",
    "                              'GAMMA': GAMMA_final,\n",
    "                              'PHI': PHI_final,\n",
    "                              'elbos': elbos}\n",
    "    '''\n",
    "    # Plot ELBO\n",
    "    plt.plot(np.arange(0, max_iter), elbos, label=trial+1, color=colors[trial])\n",
    "\n",
    "#plt.legend()\n",
    "plt.xlabel('Iteration')\n",
    "plt.ylabel('ELBO')\n",
    "plt.show()\n",
    "plt.savefig('./elbo_plot_{}_{}.png'.format(C, max_iter))\n",
    "print('ELBO plot saved.')\n",
    "\n",
    "# Compute predictive likelihood score on held out test articles\n",
    "if predict_flag:\n",
    "    \n",
    "    #LAMBDA_fixed = var_param_dict[best_trial]['LAMBDA']\n",
    "    LAMBDA_fixed = LAMBDA_final\n",
    "\n",
    "    # Initialize variational parameters\n",
    "    _, GAMMA, PHI = init_var_param(test_articles, C)\n",
    "\n",
    "    # Run CAVI\n",
    "    LAMBDA_pred, GAMMA_pred, PHI_pred, elbos = run_cavi(LAMBDA_fixed, GAMMA, PHI, test_articles,\n",
    "                                                        test_nonzero_idxs, C, max_iter, predict_flag=True)\n",
    "    test_word_idxs = []\n",
    "    # Compute predictive likelihood\n",
    "    test_word_idxs = filter_train_words(idx_to_words, train_nonzero_idxs)\n",
    "    pred_score = compute_pred_score(LAMBDA_pred, GAMMA_pred, PHI_pred, test_articles,\n",
    "                                    test_nonzero_idxs, test_word_idxs)\n",
    "    #var_param_dict['score'] = pred_score\n",
    "    pred_score_list.append(pred_score)\n",
    "\n",
    "# Save inferred variational parameters\n",
    "'''\n",
    "with open('var_params_{}_{}.pkl'.format(C, max_iter), 'wb') as fh:\n",
    "    pickle.dump(var_param_dict, fh)\n",
    "    print('Inferred variational parameters saved.')\n",
    "'''\n",
    "\n",
    "end_time = datetime.now()\n",
    "elapsed_time = end_time - start_time\n",
    "hours, rem = divmod(elapsed_time.seconds, 3600)\n",
    "minutes, seconds = divmod(rem, 60)\n",
    "print('Total run-time: {}:{}:{}'.format(hours, minutes, seconds))\n"
   ]
  },
  {
   "cell_type": "code",
   "execution_count": 108,
   "metadata": {
    "id": "9swHLmf_uf3s",
    "scrolled": true
   },
   "outputs": [],
   "source": [
    "theta2 = [LAMBDA_final, GAMMA_final, PHI_final] "
   ]
  },
  {
   "cell_type": "markdown",
   "metadata": {
    "id": "bFO39nyB-FQw"
   },
   "source": [
    "### what are the most probable words? "
   ]
  },
  {
   "cell_type": "markdown",
   "metadata": {
    "id": "OPImwG9E-RCl"
   },
   "source": [
    "theta1"
   ]
  },
  {
   "cell_type": "code",
   "execution_count": 86,
   "metadata": {
    "id": "3Ccea6Vq-JR4",
    "scrolled": true
   },
   "outputs": [],
   "source": [
    "most_freq_words_1 = [] \n",
    "\n",
    "for k in range(C): \n",
    "  row = theta1[0][k] \n",
    "  ind = np.argpartition(row, -10)[-10:] \n",
    "  words = []\n",
    "  for i in ind: \n",
    "    words.append(idx_to_words[i])\n",
    "  most_freq_words_1.append(words)"
   ]
  },
  {
   "cell_type": "markdown",
   "metadata": {
    "id": "j4cy6chC_Di2"
   },
   "source": [
    "theta2 "
   ]
  },
  {
   "cell_type": "code",
   "execution_count": null,
   "metadata": {
    "id": "yhdzSCGx_EXe",
    "scrolled": true
   },
   "outputs": [],
   "source": [
    "most_freq_words_2 = [] \n",
    "\n",
    "for k in range(C): \n",
    "  row = theta2[0][k] \n",
    "  ind = np.argpartition(row, -10)[-10:] \n",
    "  words = []\n",
    "  for i in ind: \n",
    "    words.append(idx_to_words[i])\n",
    "  most_freq_words_2.append(words)"
   ]
  },
  {
   "cell_type": "code",
   "execution_count": null,
   "metadata": {
    "colab": {
     "base_uri": "https://localhost:8080/"
    },
    "id": "JquYL53n_OxB",
    "outputId": "ea931a48-1d35-4c3d-e87a-0bcd2e5967b4",
    "scrolled": true
   },
   "outputs": [],
   "source": [
    "most_freq_words_2"
   ]
  },
  {
   "cell_type": "markdown",
   "metadata": {
    "id": "XPW38S13ktLq"
   },
   "source": [
    "## CHONG"
   ]
  },
  {
   "cell_type": "code",
   "execution_count": 137,
   "metadata": {
    "id": "8L0kcz5DkyxN",
    "scrolled": true
   },
   "outputs": [],
   "source": [
    "T = 100\n",
    "N = 7\n",
    "p_list = init(theta1, theta2, N)\n",
    "k = 0.001\n",
    "lr = 0.3"
   ]
  },
  {
   "cell_type": "code",
   "execution_count": 138,
   "metadata": {},
   "outputs": [],
   "source": [
    "import copy\n",
    "His = []"
   ]
  },
  {
   "cell_type": "code",
   "execution_count": 139,
   "metadata": {
    "colab": {
     "base_uri": "https://localhost:8080/"
    },
    "id": "lVQ8S-fW-1UV",
    "outputId": "f79b8b3a-3408-49fc-e4dc-2667d1bcadc2",
    "scrolled": true
   },
   "outputs": [
    {
     "name": "stdout",
     "output_type": "stream",
     "text": [
      "iter  0\n",
      "1\n",
      "ELBO: 455221.5407381431\n",
      "ELBO: 458794.7425660929\n"
     ]
    },
    {
     "name": "stderr",
     "output_type": "stream",
     "text": [
      "100%|███████████████████████████████████████████████| 12/12 [00:00<00:00, 73.84it/s]\n"
     ]
    },
    {
     "name": "stdout",
     "output_type": "stream",
     "text": [
      "Updating LAMBDA\n"
     ]
    },
    {
     "name": "stderr",
     "output_type": "stream",
     "text": [
      "100%|█████████████████████████████████████████████| 10/10 [00:00<00:00, 2200.12it/s]\n"
     ]
    },
    {
     "name": "stdout",
     "output_type": "stream",
     "text": [
      "2\n",
      "ELBO: 454933.2794657599\n",
      "ELBO: 456157.314625734\n"
     ]
    },
    {
     "name": "stderr",
     "output_type": "stream",
     "text": [
      "100%|███████████████████████████████████████████████| 12/12 [00:00<00:00, 73.93it/s]\n"
     ]
    },
    {
     "name": "stdout",
     "output_type": "stream",
     "text": [
      "Updating LAMBDA\n"
     ]
    },
    {
     "name": "stderr",
     "output_type": "stream",
     "text": [
      "100%|█████████████████████████████████████████████| 10/10 [00:00<00:00, 1526.09it/s]\n"
     ]
    },
    {
     "name": "stdout",
     "output_type": "stream",
     "text": [
      "3\n",
      "ELBO: 454931.6600418745\n",
      "ELBO: 455420.4761797897\n"
     ]
    },
    {
     "name": "stderr",
     "output_type": "stream",
     "text": [
      "100%|███████████████████████████████████████████████| 12/12 [00:00<00:00, 73.22it/s]\n"
     ]
    },
    {
     "name": "stdout",
     "output_type": "stream",
     "text": [
      "Updating LAMBDA\n"
     ]
    },
    {
     "name": "stderr",
     "output_type": "stream",
     "text": [
      "100%|█████████████████████████████████████████████| 10/10 [00:00<00:00, 1581.03it/s]\n"
     ]
    },
    {
     "name": "stdout",
     "output_type": "stream",
     "text": [
      "4\n",
      "ELBO: 455217.1472015117\n",
      "ELBO: 455027.6563235975\n"
     ]
    },
    {
     "name": "stderr",
     "output_type": "stream",
     "text": [
      "100%|███████████████████████████████████████████████| 12/12 [00:00<00:00, 71.91it/s]\n"
     ]
    },
    {
     "name": "stdout",
     "output_type": "stream",
     "text": [
      "Updating LAMBDA\n"
     ]
    },
    {
     "name": "stderr",
     "output_type": "stream",
     "text": [
      "100%|█████████████████████████████████████████████| 10/10 [00:00<00:00, 1825.75it/s]\n"
     ]
    },
    {
     "name": "stdout",
     "output_type": "stream",
     "text": [
      "5\n",
      "ELBO: 455860.73089582636\n",
      "ELBO: 455021.04599456786\n"
     ]
    },
    {
     "name": "stderr",
     "output_type": "stream",
     "text": [
      "100%|███████████████████████████████████████████████| 12/12 [00:00<00:00, 73.91it/s]\n"
     ]
    },
    {
     "name": "stdout",
     "output_type": "stream",
     "text": [
      "Updating LAMBDA\n"
     ]
    },
    {
     "name": "stderr",
     "output_type": "stream",
     "text": [
      "100%|█████████████████████████████████████████████| 10/10 [00:00<00:00, 1822.82it/s]\n"
     ]
    },
    {
     "name": "stdout",
     "output_type": "stream",
     "text": [
      "6\n",
      "ELBO: 458802.9954365284\n",
      "ELBO: 455410.9816148037\n"
     ]
    },
    {
     "name": "stderr",
     "output_type": "stream",
     "text": [
      "100%|███████████████████████████████████████████████| 12/12 [00:00<00:00, 71.80it/s]\n"
     ]
    },
    {
     "name": "stdout",
     "output_type": "stream",
     "text": [
      "Updating LAMBDA\n"
     ]
    },
    {
     "name": "stderr",
     "output_type": "stream",
     "text": [
      "100%|█████████████████████████████████████████████| 10/10 [00:00<00:00, 2008.48it/s]\n"
     ]
    },
    {
     "name": "stdout",
     "output_type": "stream",
     "text": [
      "iter  1\n",
      "1\n",
      "ELBO: 455420.4761797897\n",
      "ELBO: 458794.7425660929\n"
     ]
    },
    {
     "name": "stderr",
     "output_type": "stream",
     "text": [
      "100%|███████████████████████████████████████████████| 12/12 [00:00<00:00, 73.35it/s]\n"
     ]
    },
    {
     "name": "stdout",
     "output_type": "stream",
     "text": [
      "Updating LAMBDA\n"
     ]
    },
    {
     "name": "stderr",
     "output_type": "stream",
     "text": [
      "100%|█████████████████████████████████████████████| 10/10 [00:00<00:00, 1724.06it/s]\n"
     ]
    },
    {
     "name": "stdout",
     "output_type": "stream",
     "text": [
      "2\n",
      "ELBO: 455027.6563235975\n",
      "ELBO: 456451.1737822563\n"
     ]
    },
    {
     "name": "stderr",
     "output_type": "stream",
     "text": [
      "100%|███████████████████████████████████████████████| 12/12 [00:00<00:00, 72.48it/s]\n"
     ]
    },
    {
     "name": "stdout",
     "output_type": "stream",
     "text": [
      "Updating LAMBDA\n"
     ]
    },
    {
     "name": "stderr",
     "output_type": "stream",
     "text": [
      "100%|█████████████████████████████████████████████| 10/10 [00:00<00:00, 1727.40it/s]\n"
     ]
    },
    {
     "name": "stdout",
     "output_type": "stream",
     "text": [
      "3\n",
      "ELBO: 455021.04599456786\n",
      "ELBO: 455657.17397886683\n"
     ]
    },
    {
     "name": "stderr",
     "output_type": "stream",
     "text": [
      "100%|███████████████████████████████████████████████| 12/12 [00:00<00:00, 73.68it/s]\n"
     ]
    },
    {
     "name": "stdout",
     "output_type": "stream",
     "text": [
      "Updating LAMBDA\n"
     ]
    },
    {
     "name": "stderr",
     "output_type": "stream",
     "text": [
      "100%|█████████████████████████████████████████████| 10/10 [00:00<00:00, 1953.56it/s]\n"
     ]
    },
    {
     "name": "stdout",
     "output_type": "stream",
     "text": [
      "4\n",
      "ELBO: 455410.9816148037\n",
      "ELBO: 455168.2799776032\n"
     ]
    },
    {
     "name": "stderr",
     "output_type": "stream",
     "text": [
      "100%|███████████████████████████████████████████████| 12/12 [00:00<00:00, 74.11it/s]\n"
     ]
    },
    {
     "name": "stdout",
     "output_type": "stream",
     "text": [
      "Updating LAMBDA\n"
     ]
    },
    {
     "name": "stderr",
     "output_type": "stream",
     "text": [
      "100%|█████████████████████████████████████████████| 10/10 [00:00<00:00, 1958.49it/s]\n"
     ]
    },
    {
     "name": "stdout",
     "output_type": "stream",
     "text": [
      "5\n",
      "ELBO: 456151.58994079276\n",
      "ELBO: 455152.07447045535\n"
     ]
    },
    {
     "name": "stderr",
     "output_type": "stream",
     "text": [
      "100%|███████████████████████████████████████████████| 12/12 [00:00<00:00, 72.42it/s]\n"
     ]
    },
    {
     "name": "stdout",
     "output_type": "stream",
     "text": [
      "Updating LAMBDA\n"
     ]
    },
    {
     "name": "stderr",
     "output_type": "stream",
     "text": [
      "100%|█████████████████████████████████████████████| 10/10 [00:00<00:00, 1968.14it/s]\n"
     ]
    },
    {
     "name": "stdout",
     "output_type": "stream",
     "text": [
      "6\n",
      "ELBO: 458802.9954365284\n",
      "ELBO: 455642.57623391517\n"
     ]
    },
    {
     "name": "stderr",
     "output_type": "stream",
     "text": [
      "100%|███████████████████████████████████████████████| 12/12 [00:00<00:00, 74.31it/s]\n"
     ]
    },
    {
     "name": "stdout",
     "output_type": "stream",
     "text": [
      "Updating LAMBDA\n"
     ]
    },
    {
     "name": "stderr",
     "output_type": "stream",
     "text": [
      "100%|█████████████████████████████████████████████| 10/10 [00:00<00:00, 1975.84it/s]\n"
     ]
    },
    {
     "name": "stdout",
     "output_type": "stream",
     "text": [
      "iter  2\n",
      "1\n",
      "ELBO: 455657.17397886683\n",
      "ELBO: 458794.7425660929\n"
     ]
    },
    {
     "name": "stderr",
     "output_type": "stream",
     "text": [
      "100%|███████████████████████████████████████████████| 12/12 [00:00<00:00, 74.89it/s]\n"
     ]
    },
    {
     "name": "stdout",
     "output_type": "stream",
     "text": [
      "Updating LAMBDA\n"
     ]
    },
    {
     "name": "stderr",
     "output_type": "stream",
     "text": [
      "100%|█████████████████████████████████████████████| 10/10 [00:00<00:00, 1673.37it/s]\n"
     ]
    },
    {
     "name": "stdout",
     "output_type": "stream",
     "text": [
      "2\n",
      "ELBO: 455168.2799776032\n",
      "ELBO: 456740.01242314087\n"
     ]
    },
    {
     "name": "stderr",
     "output_type": "stream",
     "text": [
      "100%|███████████████████████████████████████████████| 12/12 [00:00<00:00, 74.87it/s]\n"
     ]
    },
    {
     "name": "stdout",
     "output_type": "stream",
     "text": [
      "Updating LAMBDA\n"
     ]
    },
    {
     "name": "stderr",
     "output_type": "stream",
     "text": [
      "100%|█████████████████████████████████████████████| 10/10 [00:00<00:00, 1863.64it/s]\n"
     ]
    },
    {
     "name": "stdout",
     "output_type": "stream",
     "text": [
      "3\n",
      "ELBO: 455152.07447045535\n",
      "ELBO: 455919.6089644983\n"
     ]
    },
    {
     "name": "stderr",
     "output_type": "stream",
     "text": [
      "100%|███████████████████████████████████████████████| 12/12 [00:00<00:00, 74.38it/s]\n"
     ]
    },
    {
     "name": "stdout",
     "output_type": "stream",
     "text": [
      "Updating LAMBDA\n"
     ]
    },
    {
     "name": "stderr",
     "output_type": "stream",
     "text": [
      "100%|█████████████████████████████████████████████| 10/10 [00:00<00:00, 1923.82it/s]\n"
     ]
    },
    {
     "name": "stdout",
     "output_type": "stream",
     "text": [
      "4\n",
      "ELBO: 455642.57623391517\n",
      "ELBO: 455356.7994886119\n"
     ]
    },
    {
     "name": "stderr",
     "output_type": "stream",
     "text": [
      "100%|███████████████████████████████████████████████| 12/12 [00:00<00:00, 72.32it/s]\n"
     ]
    },
    {
     "name": "stdout",
     "output_type": "stream",
     "text": [
      "Updating LAMBDA\n"
     ]
    },
    {
     "name": "stderr",
     "output_type": "stream",
     "text": [
      "100%|█████████████████████████████████████████████| 10/10 [00:00<00:00, 1977.79it/s]\n"
     ]
    },
    {
     "name": "stdout",
     "output_type": "stream",
     "text": [
      "5\n",
      "ELBO: 456446.3907864045\n",
      "ELBO: 455327.09576244844\n"
     ]
    },
    {
     "name": "stderr",
     "output_type": "stream",
     "text": [
      "100%|███████████████████████████████████████████████| 12/12 [00:00<00:00, 74.84it/s]\n"
     ]
    },
    {
     "name": "stdout",
     "output_type": "stream",
     "text": [
      "Updating LAMBDA\n"
     ]
    },
    {
     "name": "stderr",
     "output_type": "stream",
     "text": [
      "100%|█████████████████████████████████████████████| 10/10 [00:00<00:00, 1876.39it/s]\n"
     ]
    },
    {
     "name": "stdout",
     "output_type": "stream",
     "text": [
      "6\n",
      "ELBO: 458802.9954365284\n",
      "ELBO: 455900.192069818\n"
     ]
    },
    {
     "name": "stderr",
     "output_type": "stream",
     "text": [
      "100%|███████████████████████████████████████████████| 12/12 [00:00<00:00, 74.63it/s]\n"
     ]
    },
    {
     "name": "stdout",
     "output_type": "stream",
     "text": [
      "Updating LAMBDA\n"
     ]
    },
    {
     "name": "stderr",
     "output_type": "stream",
     "text": [
      "100%|█████████████████████████████████████████████| 10/10 [00:00<00:00, 2168.16it/s]\n"
     ]
    },
    {
     "name": "stdout",
     "output_type": "stream",
     "text": [
      "iter  3\n",
      "1\n",
      "ELBO: 455919.6089644983\n",
      "ELBO: 458794.7425660929\n"
     ]
    },
    {
     "name": "stderr",
     "output_type": "stream",
     "text": [
      "100%|███████████████████████████████████████████████| 12/12 [00:00<00:00, 75.52it/s]\n"
     ]
    },
    {
     "name": "stdout",
     "output_type": "stream",
     "text": [
      "Updating LAMBDA\n"
     ]
    },
    {
     "name": "stderr",
     "output_type": "stream",
     "text": [
      "100%|█████████████████████████████████████████████| 10/10 [00:00<00:00, 1906.16it/s]\n"
     ]
    },
    {
     "name": "stdout",
     "output_type": "stream",
     "text": [
      "2\n",
      "ELBO: 455356.7994886119\n",
      "ELBO: 457018.65737914306\n"
     ]
    },
    {
     "name": "stderr",
     "output_type": "stream",
     "text": [
      "100%|███████████████████████████████████████████████| 12/12 [00:00<00:00, 74.08it/s]\n"
     ]
    },
    {
     "name": "stdout",
     "output_type": "stream",
     "text": [
      "Updating LAMBDA\n"
     ]
    },
    {
     "name": "stderr",
     "output_type": "stream",
     "text": [
      "100%|█████████████████████████████████████████████| 10/10 [00:00<00:00, 2065.24it/s]\n"
     ]
    },
    {
     "name": "stdout",
     "output_type": "stream",
     "text": [
      "3\n",
      "ELBO: 455327.09576244844\n",
      "ELBO: 456195.6838494541\n"
     ]
    },
    {
     "name": "stderr",
     "output_type": "stream",
     "text": [
      "100%|███████████████████████████████████████████████| 12/12 [00:00<00:00, 75.52it/s]\n"
     ]
    },
    {
     "name": "stdout",
     "output_type": "stream",
     "text": [
      "Updating LAMBDA\n"
     ]
    },
    {
     "name": "stderr",
     "output_type": "stream",
     "text": [
      "100%|█████████████████████████████████████████████| 10/10 [00:00<00:00, 2092.03it/s]\n"
     ]
    },
    {
     "name": "stdout",
     "output_type": "stream",
     "text": [
      "4\n",
      "ELBO: 455900.192069818\n",
      "ELBO: 455585.5629873759\n"
     ]
    },
    {
     "name": "stderr",
     "output_type": "stream",
     "text": [
      "100%|███████████████████████████████████████████████| 12/12 [00:00<00:00, 75.15it/s]\n"
     ]
    },
    {
     "name": "stdout",
     "output_type": "stream",
     "text": [
      "Updating LAMBDA\n"
     ]
    },
    {
     "name": "stderr",
     "output_type": "stream",
     "text": [
      "100%|█████████████████████████████████████████████| 10/10 [00:00<00:00, 1914.86it/s]\n"
     ]
    },
    {
     "name": "stdout",
     "output_type": "stream",
     "text": [
      "5\n",
      "ELBO: 456737.28544101206\n",
      "ELBO: 455540.0198177304\n"
     ]
    },
    {
     "name": "stderr",
     "output_type": "stream",
     "text": [
      "100%|███████████████████████████████████████████████| 12/12 [00:00<00:00, 75.15it/s]\n"
     ]
    },
    {
     "name": "stdout",
     "output_type": "stream",
     "text": [
      "Updating LAMBDA\n"
     ]
    },
    {
     "name": "stderr",
     "output_type": "stream",
     "text": [
      "100%|█████████████████████████████████████████████| 10/10 [00:00<00:00, 1965.74it/s]\n"
     ]
    },
    {
     "name": "stdout",
     "output_type": "stream",
     "text": [
      "6\n",
      "ELBO: 458802.9954365284\n",
      "ELBO: 456171.61970362137\n"
     ]
    },
    {
     "name": "stderr",
     "output_type": "stream",
     "text": [
      "100%|███████████████████████████████████████████████| 12/12 [00:00<00:00, 74.11it/s]\n"
     ]
    },
    {
     "name": "stdout",
     "output_type": "stream",
     "text": [
      "Updating LAMBDA\n"
     ]
    },
    {
     "name": "stderr",
     "output_type": "stream",
     "text": [
      "100%|█████████████████████████████████████████████| 10/10 [00:00<00:00, 1773.04it/s]\n"
     ]
    },
    {
     "name": "stdout",
     "output_type": "stream",
     "text": [
      "iter  4\n",
      "1\n",
      "ELBO: 456195.6838494541\n",
      "ELBO: 458794.7425660929\n"
     ]
    },
    {
     "name": "stderr",
     "output_type": "stream",
     "text": [
      "100%|███████████████████████████████████████████████| 12/12 [00:00<00:00, 72.11it/s]\n"
     ]
    },
    {
     "name": "stdout",
     "output_type": "stream",
     "text": [
      "Updating LAMBDA\n"
     ]
    },
    {
     "name": "stderr",
     "output_type": "stream",
     "text": [
      "100%|█████████████████████████████████████████████| 10/10 [00:00<00:00, 2040.83it/s]\n"
     ]
    },
    {
     "name": "stdout",
     "output_type": "stream",
     "text": [
      "2\n",
      "ELBO: 455585.5629873759\n",
      "ELBO: 457282.5961536811\n"
     ]
    },
    {
     "name": "stderr",
     "output_type": "stream",
     "text": [
      "100%|███████████████████████████████████████████████| 12/12 [00:00<00:00, 73.73it/s]\n"
     ]
    },
    {
     "name": "stdout",
     "output_type": "stream",
     "text": [
      "Updating LAMBDA\n"
     ]
    },
    {
     "name": "stderr",
     "output_type": "stream",
     "text": [
      "100%|█████████████████████████████████████████████| 10/10 [00:00<00:00, 1915.73it/s]\n"
     ]
    },
    {
     "name": "stdout",
     "output_type": "stream",
     "text": [
      "3\n",
      "ELBO: 455540.0198177304\n",
      "ELBO: 456476.13690891705\n"
     ]
    },
    {
     "name": "stderr",
     "output_type": "stream",
     "text": [
      "100%|███████████████████████████████████████████████| 12/12 [00:00<00:00, 74.30it/s]\n"
     ]
    },
    {
     "name": "stdout",
     "output_type": "stream",
     "text": [
      "Updating LAMBDA\n"
     ]
    },
    {
     "name": "stderr",
     "output_type": "stream",
     "text": [
      "100%|█████████████████████████████████████████████| 10/10 [00:00<00:00, 2083.71it/s]\n"
     ]
    },
    {
     "name": "stdout",
     "output_type": "stream",
     "text": [
      "4\n",
      "ELBO: 456171.61970362137\n",
      "ELBO: 455842.2815272956\n"
     ]
    },
    {
     "name": "stderr",
     "output_type": "stream",
     "text": [
      "100%|███████████████████████████████████████████████| 12/12 [00:00<00:00, 74.44it/s]\n"
     ]
    },
    {
     "name": "stdout",
     "output_type": "stream",
     "text": [
      "Updating LAMBDA\n"
     ]
    },
    {
     "name": "stderr",
     "output_type": "stream",
     "text": [
      "100%|█████████████████████████████████████████████| 10/10 [00:00<00:00, 1841.30it/s]\n"
     ]
    },
    {
     "name": "stdout",
     "output_type": "stream",
     "text": [
      "5\n",
      "ELBO: 457018.76375987835\n",
      "ELBO: 455780.3077184235\n"
     ]
    },
    {
     "name": "stderr",
     "output_type": "stream",
     "text": [
      "100%|███████████████████████████████████████████████| 12/12 [00:00<00:00, 75.29it/s]\n"
     ]
    },
    {
     "name": "stdout",
     "output_type": "stream",
     "text": [
      "Updating LAMBDA\n"
     ]
    },
    {
     "name": "stderr",
     "output_type": "stream",
     "text": [
      "100%|█████████████████████████████████████████████| 10/10 [00:00<00:00, 1774.02it/s]\n"
     ]
    },
    {
     "name": "stdout",
     "output_type": "stream",
     "text": [
      "6\n",
      "ELBO: 458802.9954365284\n",
      "ELBO: 456447.6655163435\n"
     ]
    },
    {
     "name": "stderr",
     "output_type": "stream",
     "text": [
      "100%|███████████████████████████████████████████████| 12/12 [00:00<00:00, 75.62it/s]\n"
     ]
    },
    {
     "name": "stdout",
     "output_type": "stream",
     "text": [
      "Updating LAMBDA\n"
     ]
    },
    {
     "name": "stderr",
     "output_type": "stream",
     "text": [
      "100%|█████████████████████████████████████████████| 10/10 [00:00<00:00, 2297.75it/s]\n"
     ]
    },
    {
     "name": "stdout",
     "output_type": "stream",
     "text": [
      "iter  5\n",
      "1\n",
      "ELBO: 456476.13690891705\n",
      "ELBO: 458794.7425660929\n"
     ]
    },
    {
     "name": "stderr",
     "output_type": "stream",
     "text": [
      "100%|███████████████████████████████████████████████| 12/12 [00:00<00:00, 74.97it/s]\n"
     ]
    },
    {
     "name": "stdout",
     "output_type": "stream",
     "text": [
      "Updating LAMBDA\n"
     ]
    },
    {
     "name": "stderr",
     "output_type": "stream",
     "text": [
      "100%|█████████████████████████████████████████████| 10/10 [00:00<00:00, 1953.11it/s]\n"
     ]
    },
    {
     "name": "stdout",
     "output_type": "stream",
     "text": [
      "2\n",
      "ELBO: 455842.2815272956\n",
      "ELBO: 457527.69653426233\n"
     ]
    },
    {
     "name": "stderr",
     "output_type": "stream",
     "text": [
      "100%|███████████████████████████████████████████████| 12/12 [00:00<00:00, 74.05it/s]\n"
     ]
    },
    {
     "name": "stdout",
     "output_type": "stream",
     "text": [
      "Updating LAMBDA\n"
     ]
    },
    {
     "name": "stderr",
     "output_type": "stream",
     "text": [
      "100%|█████████████████████████████████████████████| 10/10 [00:00<00:00, 1940.55it/s]\n"
     ]
    },
    {
     "name": "stdout",
     "output_type": "stream",
     "text": [
      "3\n",
      "ELBO: 455780.3077184235\n",
      "ELBO: 456754.0476696483\n"
     ]
    },
    {
     "name": "stderr",
     "output_type": "stream",
     "text": [
      "100%|███████████████████████████████████████████████| 12/12 [00:00<00:00, 74.39it/s]\n"
     ]
    },
    {
     "name": "stdout",
     "output_type": "stream",
     "text": [
      "Updating LAMBDA\n"
     ]
    },
    {
     "name": "stderr",
     "output_type": "stream",
     "text": [
      "100%|█████████████████████████████████████████████| 10/10 [00:00<00:00, 2109.17it/s]\n"
     ]
    },
    {
     "name": "stdout",
     "output_type": "stream",
     "text": [
      "4\n",
      "ELBO: 456447.6655163435\n",
      "ELBO: 456115.276630053\n"
     ]
    },
    {
     "name": "stderr",
     "output_type": "stream",
     "text": [
      "100%|███████████████████████████████████████████████| 12/12 [00:00<00:00, 73.98it/s]\n"
     ]
    },
    {
     "name": "stdout",
     "output_type": "stream",
     "text": [
      "Updating LAMBDA\n"
     ]
    },
    {
     "name": "stderr",
     "output_type": "stream",
     "text": [
      "100%|█████████████████████████████████████████████| 10/10 [00:00<00:00, 1885.00it/s]\n"
     ]
    },
    {
     "name": "stdout",
     "output_type": "stream",
     "text": [
      "5\n",
      "ELBO: 457285.92706371367\n",
      "ELBO: 456037.25362993754\n"
     ]
    },
    {
     "name": "stderr",
     "output_type": "stream",
     "text": [
      "100%|███████████████████████████████████████████████| 12/12 [00:00<00:00, 73.37it/s]\n"
     ]
    },
    {
     "name": "stdout",
     "output_type": "stream",
     "text": [
      "Updating LAMBDA\n"
     ]
    },
    {
     "name": "stderr",
     "output_type": "stream",
     "text": [
      "100%|█████████████████████████████████████████████| 10/10 [00:00<00:00, 2096.42it/s]\n"
     ]
    },
    {
     "name": "stdout",
     "output_type": "stream",
     "text": [
      "6\n",
      "ELBO: 458802.9954365284\n",
      "ELBO: 456721.81075788167\n"
     ]
    },
    {
     "name": "stderr",
     "output_type": "stream",
     "text": [
      "100%|███████████████████████████████████████████████| 12/12 [00:00<00:00, 73.51it/s]\n"
     ]
    },
    {
     "name": "stdout",
     "output_type": "stream",
     "text": [
      "Updating LAMBDA\n"
     ]
    },
    {
     "name": "stderr",
     "output_type": "stream",
     "text": [
      "100%|█████████████████████████████████████████████| 10/10 [00:00<00:00, 1983.69it/s]\n"
     ]
    },
    {
     "name": "stdout",
     "output_type": "stream",
     "text": [
      "iter  6\n",
      "1\n",
      "ELBO: 456754.0476696483\n",
      "ELBO: 458794.7425660929\n"
     ]
    },
    {
     "name": "stderr",
     "output_type": "stream",
     "text": [
      "100%|███████████████████████████████████████████████| 12/12 [00:00<00:00, 70.70it/s]\n"
     ]
    },
    {
     "name": "stdout",
     "output_type": "stream",
     "text": [
      "Updating LAMBDA\n"
     ]
    },
    {
     "name": "stderr",
     "output_type": "stream",
     "text": [
      "100%|█████████████████████████████████████████████| 10/10 [00:00<00:00, 1680.95it/s]\n"
     ]
    },
    {
     "name": "stdout",
     "output_type": "stream",
     "text": [
      "2\n",
      "ELBO: 456115.276630053\n",
      "ELBO: 457750.4092364892\n"
     ]
    },
    {
     "name": "stderr",
     "output_type": "stream",
     "text": [
      "100%|███████████████████████████████████████████████| 12/12 [00:00<00:00, 73.40it/s]\n"
     ]
    },
    {
     "name": "stdout",
     "output_type": "stream",
     "text": [
      "Updating LAMBDA\n"
     ]
    },
    {
     "name": "stderr",
     "output_type": "stream",
     "text": [
      "100%|█████████████████████████████████████████████| 10/10 [00:00<00:00, 1898.99it/s]\n"
     ]
    },
    {
     "name": "stdout",
     "output_type": "stream",
     "text": [
      "3\n",
      "ELBO: 456037.25362993754\n",
      "ELBO: 457023.5411486134\n"
     ]
    },
    {
     "name": "stderr",
     "output_type": "stream",
     "text": [
      "100%|███████████████████████████████████████████████| 12/12 [00:00<00:00, 73.11it/s]\n"
     ]
    },
    {
     "name": "stdout",
     "output_type": "stream",
     "text": [
      "Updating LAMBDA\n"
     ]
    },
    {
     "name": "stderr",
     "output_type": "stream",
     "text": [
      "100%|█████████████████████████████████████████████| 10/10 [00:00<00:00, 1917.22it/s]\n"
     ]
    },
    {
     "name": "stdout",
     "output_type": "stream",
     "text": [
      "4\n",
      "ELBO: 456721.81075788167\n",
      "ELBO: 456395.648913758\n"
     ]
    },
    {
     "name": "stderr",
     "output_type": "stream",
     "text": [
      "100%|███████████████████████████████████████████████| 12/12 [00:00<00:00, 74.19it/s]\n"
     ]
    },
    {
     "name": "stdout",
     "output_type": "stream",
     "text": [
      "Updating LAMBDA\n"
     ]
    },
    {
     "name": "stderr",
     "output_type": "stream",
     "text": [
      "100%|█████████████████████████████████████████████| 10/10 [00:00<00:00, 1922.67it/s]\n"
     ]
    },
    {
     "name": "stdout",
     "output_type": "stream",
     "text": [
      "5\n",
      "ELBO: 457534.3098508018\n",
      "ELBO: 456302.2866145566\n"
     ]
    },
    {
     "name": "stderr",
     "output_type": "stream",
     "text": [
      "100%|███████████████████████████████████████████████| 12/12 [00:00<00:00, 75.33it/s]\n"
     ]
    },
    {
     "name": "stdout",
     "output_type": "stream",
     "text": [
      "Updating LAMBDA\n"
     ]
    },
    {
     "name": "stderr",
     "output_type": "stream",
     "text": [
      "100%|█████████████████████████████████████████████| 10/10 [00:00<00:00, 2004.73it/s]\n"
     ]
    },
    {
     "name": "stdout",
     "output_type": "stream",
     "text": [
      "6\n",
      "ELBO: 458802.9954365284\n",
      "ELBO: 456988.4956567998\n"
     ]
    },
    {
     "name": "stderr",
     "output_type": "stream",
     "text": [
      "100%|███████████████████████████████████████████████| 12/12 [00:00<00:00, 74.17it/s]\n"
     ]
    },
    {
     "name": "stdout",
     "output_type": "stream",
     "text": [
      "Updating LAMBDA\n"
     ]
    },
    {
     "name": "stderr",
     "output_type": "stream",
     "text": [
      "100%|█████████████████████████████████████████████| 10/10 [00:00<00:00, 2025.94it/s]\n"
     ]
    },
    {
     "name": "stdout",
     "output_type": "stream",
     "text": [
      "iter  7\n",
      "1\n",
      "ELBO: 457023.5411486134\n",
      "ELBO: 458794.7425660929\n"
     ]
    },
    {
     "name": "stderr",
     "output_type": "stream",
     "text": [
      "100%|███████████████████████████████████████████████| 12/12 [00:00<00:00, 74.60it/s]\n"
     ]
    },
    {
     "name": "stdout",
     "output_type": "stream",
     "text": [
      "Updating LAMBDA\n"
     ]
    },
    {
     "name": "stderr",
     "output_type": "stream",
     "text": [
      "100%|█████████████████████████████████████████████| 10/10 [00:00<00:00, 2198.27it/s]\n"
     ]
    },
    {
     "name": "stdout",
     "output_type": "stream",
     "text": [
      "2\n",
      "ELBO: 456395.648913758\n",
      "ELBO: 457948.11846361274\n"
     ]
    },
    {
     "name": "stderr",
     "output_type": "stream",
     "text": [
      "100%|███████████████████████████████████████████████| 12/12 [00:00<00:00, 74.19it/s]\n"
     ]
    },
    {
     "name": "stdout",
     "output_type": "stream",
     "text": [
      "Updating LAMBDA\n"
     ]
    },
    {
     "name": "stderr",
     "output_type": "stream",
     "text": [
      "100%|█████████████████████████████████████████████| 10/10 [00:00<00:00, 2140.82it/s]\n"
     ]
    },
    {
     "name": "stdout",
     "output_type": "stream",
     "text": [
      "3\n",
      "ELBO: 456302.2866145566\n",
      "ELBO: 457279.5729160705\n"
     ]
    },
    {
     "name": "stderr",
     "output_type": "stream",
     "text": [
      "100%|███████████████████████████████████████████████| 12/12 [00:00<00:00, 74.89it/s]\n"
     ]
    },
    {
     "name": "stdout",
     "output_type": "stream",
     "text": [
      "Updating LAMBDA\n"
     ]
    },
    {
     "name": "stderr",
     "output_type": "stream",
     "text": [
      "100%|█████████████████████████████████████████████| 10/10 [00:00<00:00, 2191.04it/s]\n"
     ]
    },
    {
     "name": "stdout",
     "output_type": "stream",
     "text": [
      "4\n",
      "ELBO: 456988.4956567998\n",
      "ELBO: 456676.53885397455\n"
     ]
    },
    {
     "name": "stderr",
     "output_type": "stream",
     "text": [
      "100%|███████████████████████████████████████████████| 12/12 [00:00<00:00, 73.00it/s]\n"
     ]
    },
    {
     "name": "stdout",
     "output_type": "stream",
     "text": [
      "Updating LAMBDA\n"
     ]
    },
    {
     "name": "stderr",
     "output_type": "stream",
     "text": [
      "100%|█████████████████████████████████████████████| 10/10 [00:00<00:00, 2052.61it/s]\n"
     ]
    },
    {
     "name": "stdout",
     "output_type": "stream",
     "text": [
      "5\n",
      "ELBO: 457760.0833122657\n",
      "ELBO: 456569.01259180164\n"
     ]
    },
    {
     "name": "stderr",
     "output_type": "stream",
     "text": [
      "100%|███████████████████████████████████████████████| 12/12 [00:00<00:00, 72.06it/s]\n"
     ]
    },
    {
     "name": "stdout",
     "output_type": "stream",
     "text": [
      "Updating LAMBDA\n"
     ]
    },
    {
     "name": "stderr",
     "output_type": "stream",
     "text": [
      "100%|█████████████████████████████████████████████| 10/10 [00:00<00:00, 2060.58it/s]\n"
     ]
    },
    {
     "name": "stdout",
     "output_type": "stream",
     "text": [
      "6\n",
      "ELBO: 458802.9954365284\n",
      "ELBO: 457242.44370327704\n"
     ]
    },
    {
     "name": "stderr",
     "output_type": "stream",
     "text": [
      "100%|███████████████████████████████████████████████| 12/12 [00:00<00:00, 73.53it/s]\n"
     ]
    },
    {
     "name": "stdout",
     "output_type": "stream",
     "text": [
      "Updating LAMBDA\n"
     ]
    },
    {
     "name": "stderr",
     "output_type": "stream",
     "text": [
      "100%|█████████████████████████████████████████████| 10/10 [00:00<00:00, 1979.38it/s]\n"
     ]
    },
    {
     "name": "stdout",
     "output_type": "stream",
     "text": [
      "iter  8\n",
      "1\n",
      "ELBO: 457279.5729160705\n",
      "ELBO: 458794.7425660929\n"
     ]
    },
    {
     "name": "stderr",
     "output_type": "stream",
     "text": [
      "100%|███████████████████████████████████████████████| 12/12 [00:00<00:00, 72.28it/s]\n"
     ]
    },
    {
     "name": "stdout",
     "output_type": "stream",
     "text": [
      "Updating LAMBDA\n"
     ]
    },
    {
     "name": "stderr",
     "output_type": "stream",
     "text": [
      "100%|█████████████████████████████████████████████| 10/10 [00:00<00:00, 1757.81it/s]\n"
     ]
    },
    {
     "name": "stdout",
     "output_type": "stream",
     "text": [
      "2\n",
      "ELBO: 456676.53885397455\n",
      "ELBO: 458119.3999690314\n"
     ]
    },
    {
     "name": "stderr",
     "output_type": "stream",
     "text": [
      "100%|███████████████████████████████████████████████| 12/12 [00:00<00:00, 73.17it/s]\n"
     ]
    },
    {
     "name": "stdout",
     "output_type": "stream",
     "text": [
      "Updating LAMBDA\n"
     ]
    },
    {
     "name": "stderr",
     "output_type": "stream",
     "text": [
      "100%|█████████████████████████████████████████████| 10/10 [00:00<00:00, 2128.55it/s]\n"
     ]
    },
    {
     "name": "stdout",
     "output_type": "stream",
     "text": [
      "3\n",
      "ELBO: 456569.01259180164\n",
      "ELBO: 457518.0187076028\n"
     ]
    },
    {
     "name": "stderr",
     "output_type": "stream",
     "text": [
      "100%|███████████████████████████████████████████████| 12/12 [00:00<00:00, 73.88it/s]\n"
     ]
    },
    {
     "name": "stdout",
     "output_type": "stream",
     "text": [
      "Updating LAMBDA\n"
     ]
    },
    {
     "name": "stderr",
     "output_type": "stream",
     "text": [
      "100%|█████████████████████████████████████████████| 10/10 [00:00<00:00, 1884.66it/s]\n"
     ]
    },
    {
     "name": "stdout",
     "output_type": "stream",
     "text": [
      "4\n",
      "ELBO: 457242.44370327704\n",
      "ELBO: 456952.42894331866\n"
     ]
    },
    {
     "name": "stderr",
     "output_type": "stream",
     "text": [
      "100%|███████████████████████████████████████████████| 12/12 [00:00<00:00, 70.86it/s]\n"
     ]
    },
    {
     "name": "stdout",
     "output_type": "stream",
     "text": [
      "Updating LAMBDA\n"
     ]
    },
    {
     "name": "stderr",
     "output_type": "stream",
     "text": [
      "100%|█████████████████████████████████████████████| 10/10 [00:00<00:00, 1792.13it/s]\n"
     ]
    },
    {
     "name": "stdout",
     "output_type": "stream",
     "text": [
      "5\n",
      "ELBO: 457960.3899833772\n",
      "ELBO: 456832.5431636876\n"
     ]
    },
    {
     "name": "stderr",
     "output_type": "stream",
     "text": [
      "100%|███████████████████████████████████████████████| 12/12 [00:00<00:00, 72.56it/s]\n"
     ]
    },
    {
     "name": "stdout",
     "output_type": "stream",
     "text": [
      "Updating LAMBDA\n"
     ]
    },
    {
     "name": "stderr",
     "output_type": "stream",
     "text": [
      "100%|█████████████████████████████████████████████| 10/10 [00:00<00:00, 1871.62it/s]\n"
     ]
    },
    {
     "name": "stdout",
     "output_type": "stream",
     "text": [
      "6\n",
      "ELBO: 458802.9954365284\n",
      "ELBO: 457478.98836741375\n"
     ]
    },
    {
     "name": "stderr",
     "output_type": "stream",
     "text": [
      "100%|███████████████████████████████████████████████| 12/12 [00:00<00:00, 72.91it/s]\n"
     ]
    },
    {
     "name": "stdout",
     "output_type": "stream",
     "text": [
      "Updating LAMBDA\n"
     ]
    },
    {
     "name": "stderr",
     "output_type": "stream",
     "text": [
      "100%|█████████████████████████████████████████████| 10/10 [00:00<00:00, 1886.44it/s]\n"
     ]
    },
    {
     "name": "stdout",
     "output_type": "stream",
     "text": [
      "iter  9\n",
      "1\n",
      "ELBO: 457518.0187076028\n",
      "ELBO: 458794.7425660929\n"
     ]
    },
    {
     "name": "stderr",
     "output_type": "stream",
     "text": [
      "100%|███████████████████████████████████████████████| 12/12 [00:00<00:00, 73.26it/s]\n"
     ]
    },
    {
     "name": "stdout",
     "output_type": "stream",
     "text": [
      "Updating LAMBDA\n"
     ]
    },
    {
     "name": "stderr",
     "output_type": "stream",
     "text": [
      "100%|█████████████████████████████████████████████| 10/10 [00:00<00:00, 1973.98it/s]\n"
     ]
    },
    {
     "name": "stdout",
     "output_type": "stream",
     "text": [
      "2\n",
      "ELBO: 456952.42894331866\n",
      "ELBO: 458264.2608059344\n"
     ]
    },
    {
     "name": "stderr",
     "output_type": "stream",
     "text": [
      "100%|███████████████████████████████████████████████| 12/12 [00:00<00:00, 72.61it/s]\n"
     ]
    },
    {
     "name": "stdout",
     "output_type": "stream",
     "text": [
      "Updating LAMBDA\n"
     ]
    },
    {
     "name": "stderr",
     "output_type": "stream",
     "text": [
      "100%|█████████████████████████████████████████████| 10/10 [00:00<00:00, 1705.56it/s]\n"
     ]
    },
    {
     "name": "stdout",
     "output_type": "stream",
     "text": [
      "3\n",
      "ELBO: 456832.5431636876\n",
      "ELBO: 457735.5238944945\n"
     ]
    },
    {
     "name": "stderr",
     "output_type": "stream",
     "text": [
      "100%|███████████████████████████████████████████████| 12/12 [00:00<00:00, 72.69it/s]\n"
     ]
    },
    {
     "name": "stdout",
     "output_type": "stream",
     "text": [
      "Updating LAMBDA\n"
     ]
    },
    {
     "name": "stderr",
     "output_type": "stream",
     "text": [
      "100%|█████████████████████████████████████████████| 10/10 [00:00<00:00, 1936.52it/s]\n"
     ]
    },
    {
     "name": "stdout",
     "output_type": "stream",
     "text": [
      "4\n",
      "ELBO: 457478.98836741375\n",
      "ELBO: 457218.87083118595\n"
     ]
    },
    {
     "name": "stderr",
     "output_type": "stream",
     "text": [
      "100%|███████████████████████████████████████████████| 12/12 [00:00<00:00, 74.22it/s]\n"
     ]
    },
    {
     "name": "stdout",
     "output_type": "stream",
     "text": [
      "Updating LAMBDA\n"
     ]
    },
    {
     "name": "stderr",
     "output_type": "stream",
     "text": [
      "100%|█████████████████████████████████████████████| 10/10 [00:00<00:00, 1738.79it/s]\n"
     ]
    },
    {
     "name": "stdout",
     "output_type": "stream",
     "text": [
      "5\n",
      "ELBO: 458133.6959490133\n",
      "ELBO: 457088.78730347863\n"
     ]
    },
    {
     "name": "stderr",
     "output_type": "stream",
     "text": [
      "100%|███████████████████████████████████████████████| 12/12 [00:00<00:00, 74.99it/s]\n"
     ]
    },
    {
     "name": "stdout",
     "output_type": "stream",
     "text": [
      "Updating LAMBDA\n"
     ]
    },
    {
     "name": "stderr",
     "output_type": "stream",
     "text": [
      "100%|█████████████████████████████████████████████| 10/10 [00:00<00:00, 2032.91it/s]\n"
     ]
    },
    {
     "name": "stdout",
     "output_type": "stream",
     "text": [
      "6\n",
      "ELBO: 458802.9954365284\n",
      "ELBO: 457694.4467278258\n"
     ]
    },
    {
     "name": "stderr",
     "output_type": "stream",
     "text": [
      "100%|███████████████████████████████████████████████| 12/12 [00:00<00:00, 74.09it/s]\n"
     ]
    },
    {
     "name": "stdout",
     "output_type": "stream",
     "text": [
      "Updating LAMBDA\n"
     ]
    },
    {
     "name": "stderr",
     "output_type": "stream",
     "text": [
      "100%|█████████████████████████████████████████████| 10/10 [00:00<00:00, 2085.16it/s]\n"
     ]
    },
    {
     "name": "stdout",
     "output_type": "stream",
     "text": [
      "iter  10\n",
      "1\n",
      "ELBO: 457735.5238944945\n",
      "ELBO: 458794.7425660929\n"
     ]
    },
    {
     "name": "stderr",
     "output_type": "stream",
     "text": [
      "100%|███████████████████████████████████████████████| 12/12 [00:00<00:00, 74.69it/s]\n"
     ]
    },
    {
     "name": "stdout",
     "output_type": "stream",
     "text": [
      "Updating LAMBDA\n"
     ]
    },
    {
     "name": "stderr",
     "output_type": "stream",
     "text": [
      "100%|█████████████████████████████████████████████| 10/10 [00:00<00:00, 2275.80it/s]\n"
     ]
    },
    {
     "name": "stdout",
     "output_type": "stream",
     "text": [
      "2\n",
      "ELBO: 457218.87083118595\n",
      "ELBO: 458384.13554226095\n"
     ]
    },
    {
     "name": "stderr",
     "output_type": "stream",
     "text": [
      "100%|███████████████████████████████████████████████| 12/12 [00:00<00:00, 74.34it/s]\n"
     ]
    },
    {
     "name": "stdout",
     "output_type": "stream",
     "text": [
      "Updating LAMBDA\n"
     ]
    },
    {
     "name": "stderr",
     "output_type": "stream",
     "text": [
      "100%|█████████████████████████████████████████████| 10/10 [00:00<00:00, 1947.40it/s]\n"
     ]
    },
    {
     "name": "stdout",
     "output_type": "stream",
     "text": [
      "3\n",
      "ELBO: 457088.78730347863\n",
      "ELBO: 457929.8156523699\n"
     ]
    },
    {
     "name": "stderr",
     "output_type": "stream",
     "text": [
      "100%|███████████████████████████████████████████████| 12/12 [00:00<00:00, 73.34it/s]\n"
     ]
    },
    {
     "name": "stdout",
     "output_type": "stream",
     "text": [
      "Updating LAMBDA\n"
     ]
    },
    {
     "name": "stderr",
     "output_type": "stream",
     "text": [
      "100%|█████████████████████████████████████████████| 10/10 [00:00<00:00, 1892.22it/s]\n"
     ]
    },
    {
     "name": "stdout",
     "output_type": "stream",
     "text": [
      "4\n",
      "ELBO: 457694.4467278258\n",
      "ELBO: 457472.131477599\n"
     ]
    },
    {
     "name": "stderr",
     "output_type": "stream",
     "text": [
      "100%|███████████████████████████████████████████████| 12/12 [00:00<00:00, 73.93it/s]\n"
     ]
    },
    {
     "name": "stdout",
     "output_type": "stream",
     "text": [
      "Updating LAMBDA\n"
     ]
    },
    {
     "name": "stderr",
     "output_type": "stream",
     "text": [
      "100%|█████████████████████████████████████████████| 10/10 [00:00<00:00, 2223.21it/s]\n"
     ]
    },
    {
     "name": "stdout",
     "output_type": "stream",
     "text": [
      "5\n",
      "ELBO: 458279.976761992\n",
      "ELBO: 457333.8808333834\n"
     ]
    },
    {
     "name": "stderr",
     "output_type": "stream",
     "text": [
      "100%|███████████████████████████████████████████████| 12/12 [00:00<00:00, 73.38it/s]\n"
     ]
    },
    {
     "name": "stdout",
     "output_type": "stream",
     "text": [
      "Updating LAMBDA\n"
     ]
    },
    {
     "name": "stderr",
     "output_type": "stream",
     "text": [
      "100%|█████████████████████████████████████████████| 10/10 [00:00<00:00, 1674.77it/s]\n"
     ]
    },
    {
     "name": "stdout",
     "output_type": "stream",
     "text": [
      "6\n",
      "ELBO: 458802.9954365284\n",
      "ELBO: 457886.45765110716\n"
     ]
    },
    {
     "name": "stderr",
     "output_type": "stream",
     "text": [
      "100%|███████████████████████████████████████████████| 12/12 [00:00<00:00, 72.23it/s]\n"
     ]
    },
    {
     "name": "stdout",
     "output_type": "stream",
     "text": [
      "Updating LAMBDA\n"
     ]
    },
    {
     "name": "stderr",
     "output_type": "stream",
     "text": [
      "100%|█████████████████████████████████████████████| 10/10 [00:00<00:00, 1793.66it/s]\n"
     ]
    },
    {
     "name": "stdout",
     "output_type": "stream",
     "text": [
      "iter  11\n",
      "1\n",
      "ELBO: 457929.8156523699\n",
      "ELBO: 458794.7425660929\n"
     ]
    },
    {
     "name": "stderr",
     "output_type": "stream",
     "text": [
      "100%|███████████████████████████████████████████████| 12/12 [00:00<00:00, 73.84it/s]\n"
     ]
    },
    {
     "name": "stdout",
     "output_type": "stream",
     "text": [
      "Updating LAMBDA\n"
     ]
    },
    {
     "name": "stderr",
     "output_type": "stream",
     "text": [
      "100%|█████████████████████████████████████████████| 10/10 [00:00<00:00, 2069.52it/s]\n"
     ]
    },
    {
     "name": "stdout",
     "output_type": "stream",
     "text": [
      "2\n",
      "ELBO: 457472.131477599\n",
      "ELBO: 458481.5409019699\n"
     ]
    },
    {
     "name": "stderr",
     "output_type": "stream",
     "text": [
      "100%|███████████████████████████████████████████████| 12/12 [00:00<00:00, 74.45it/s]\n"
     ]
    },
    {
     "name": "stdout",
     "output_type": "stream",
     "text": [
      "Updating LAMBDA\n"
     ]
    },
    {
     "name": "stderr",
     "output_type": "stream",
     "text": [
      "100%|█████████████████████████████████████████████| 10/10 [00:00<00:00, 1899.25it/s]\n"
     ]
    },
    {
     "name": "stdout",
     "output_type": "stream",
     "text": [
      "3\n",
      "ELBO: 457333.8808333834\n",
      "ELBO: 458100.05374868924\n"
     ]
    },
    {
     "name": "stderr",
     "output_type": "stream",
     "text": [
      "100%|███████████████████████████████████████████████| 12/12 [00:00<00:00, 74.70it/s]\n"
     ]
    },
    {
     "name": "stdout",
     "output_type": "stream",
     "text": [
      "Updating LAMBDA\n"
     ]
    },
    {
     "name": "stderr",
     "output_type": "stream",
     "text": [
      "100%|█████████████████████████████████████████████| 10/10 [00:00<00:00, 2191.04it/s]\n"
     ]
    },
    {
     "name": "stdout",
     "output_type": "stream",
     "text": [
      "4\n",
      "ELBO: 457886.45765110716\n",
      "ELBO: 457708.94442039484\n"
     ]
    },
    {
     "name": "stderr",
     "output_type": "stream",
     "text": [
      "100%|███████████████████████████████████████████████| 12/12 [00:00<00:00, 74.18it/s]\n"
     ]
    },
    {
     "name": "stdout",
     "output_type": "stream",
     "text": [
      "Updating LAMBDA\n"
     ]
    },
    {
     "name": "stderr",
     "output_type": "stream",
     "text": [
      "100%|█████████████████████████████████████████████| 10/10 [00:00<00:00, 2130.39it/s]\n"
     ]
    },
    {
     "name": "stdout",
     "output_type": "stream",
     "text": [
      "5\n",
      "ELBO: 458400.634783531\n",
      "ELBO: 457564.31308097485\n"
     ]
    },
    {
     "name": "stderr",
     "output_type": "stream",
     "text": [
      "100%|███████████████████████████████████████████████| 12/12 [00:00<00:00, 67.89it/s]\n"
     ]
    },
    {
     "name": "stdout",
     "output_type": "stream",
     "text": [
      "Updating LAMBDA\n"
     ]
    },
    {
     "name": "stderr",
     "output_type": "stream",
     "text": [
      "100%|█████████████████████████████████████████████| 10/10 [00:00<00:00, 2058.05it/s]\n"
     ]
    },
    {
     "name": "stdout",
     "output_type": "stream",
     "text": [
      "6\n",
      "ELBO: 458802.9954365284\n",
      "ELBO: 458054.19166055974\n"
     ]
    },
    {
     "name": "stderr",
     "output_type": "stream",
     "text": [
      "100%|███████████████████████████████████████████████| 12/12 [00:00<00:00, 74.47it/s]\n"
     ]
    },
    {
     "name": "stdout",
     "output_type": "stream",
     "text": [
      "Updating LAMBDA\n"
     ]
    },
    {
     "name": "stderr",
     "output_type": "stream",
     "text": [
      "100%|█████████████████████████████████████████████| 10/10 [00:00<00:00, 2166.82it/s]\n"
     ]
    },
    {
     "name": "stdout",
     "output_type": "stream",
     "text": [
      "iter  12\n",
      "1\n",
      "ELBO: 458100.05374868924\n",
      "ELBO: 458794.7425660929\n"
     ]
    },
    {
     "name": "stderr",
     "output_type": "stream",
     "text": [
      "100%|███████████████████████████████████████████████| 12/12 [00:00<00:00, 75.71it/s]\n"
     ]
    },
    {
     "name": "stdout",
     "output_type": "stream",
     "text": [
      "Updating LAMBDA\n"
     ]
    },
    {
     "name": "stderr",
     "output_type": "stream",
     "text": [
      "100%|█████████████████████████████████████████████| 10/10 [00:00<00:00, 2060.17it/s]\n"
     ]
    },
    {
     "name": "stdout",
     "output_type": "stream",
     "text": [
      "2\n",
      "ELBO: 457708.94442039484\n",
      "ELBO: 458559.5759424723\n"
     ]
    },
    {
     "name": "stderr",
     "output_type": "stream",
     "text": [
      "100%|███████████████████████████████████████████████| 12/12 [00:00<00:00, 73.50it/s]\n"
     ]
    },
    {
     "name": "stdout",
     "output_type": "stream",
     "text": [
      "Updating LAMBDA\n"
     ]
    },
    {
     "name": "stderr",
     "output_type": "stream",
     "text": [
      "100%|█████████████████████████████████████████████| 10/10 [00:00<00:00, 1731.04it/s]\n"
     ]
    },
    {
     "name": "stdout",
     "output_type": "stream",
     "text": [
      "3\n",
      "ELBO: 457564.31308097485\n",
      "ELBO: 458246.7663574986\n"
     ]
    },
    {
     "name": "stderr",
     "output_type": "stream",
     "text": [
      "100%|███████████████████████████████████████████████| 12/12 [00:00<00:00, 72.73it/s]\n"
     ]
    },
    {
     "name": "stdout",
     "output_type": "stream",
     "text": [
      "Updating LAMBDA\n"
     ]
    },
    {
     "name": "stderr",
     "output_type": "stream",
     "text": [
      "100%|█████████████████████████████████████████████| 10/10 [00:00<00:00, 1989.61it/s]\n"
     ]
    },
    {
     "name": "stdout",
     "output_type": "stream",
     "text": [
      "4\n",
      "ELBO: 458054.19166055974\n",
      "ELBO: 457926.5088595197\n"
     ]
    },
    {
     "name": "stderr",
     "output_type": "stream",
     "text": [
      "100%|███████████████████████████████████████████████| 12/12 [00:00<00:00, 74.26it/s]\n"
     ]
    },
    {
     "name": "stdout",
     "output_type": "stream",
     "text": [
      "Updating LAMBDA\n"
     ]
    },
    {
     "name": "stderr",
     "output_type": "stream",
     "text": [
      "100%|█████████████████████████████████████████████| 10/10 [00:00<00:00, 2145.97it/s]\n"
     ]
    },
    {
     "name": "stdout",
     "output_type": "stream",
     "text": [
      "5\n",
      "ELBO: 458498.1416406272\n",
      "ELBO: 457777.3401640211\n"
     ]
    },
    {
     "name": "stderr",
     "output_type": "stream",
     "text": [
      "100%|███████████████████████████████████████████████| 12/12 [00:00<00:00, 74.29it/s]\n"
     ]
    },
    {
     "name": "stdout",
     "output_type": "stream",
     "text": [
      "Updating LAMBDA\n"
     ]
    },
    {
     "name": "stderr",
     "output_type": "stream",
     "text": [
      "100%|█████████████████████████████████████████████| 10/10 [00:00<00:00, 2079.48it/s]\n"
     ]
    },
    {
     "name": "stdout",
     "output_type": "stream",
     "text": [
      "6\n",
      "ELBO: 458802.9954365284\n",
      "ELBO: 458198.2178290198\n"
     ]
    },
    {
     "name": "stderr",
     "output_type": "stream",
     "text": [
      "100%|███████████████████████████████████████████████| 12/12 [00:00<00:00, 73.20it/s]\n"
     ]
    },
    {
     "name": "stdout",
     "output_type": "stream",
     "text": [
      "Updating LAMBDA\n"
     ]
    },
    {
     "name": "stderr",
     "output_type": "stream",
     "text": [
      "100%|█████████████████████████████████████████████| 10/10 [00:00<00:00, 2002.72it/s]\n"
     ]
    },
    {
     "name": "stdout",
     "output_type": "stream",
     "text": [
      "iter  13\n",
      "1\n",
      "ELBO: 458246.7663574986\n",
      "ELBO: 458794.7425660929\n"
     ]
    },
    {
     "name": "stderr",
     "output_type": "stream",
     "text": [
      "100%|███████████████████████████████████████████████| 12/12 [00:00<00:00, 73.22it/s]\n"
     ]
    },
    {
     "name": "stdout",
     "output_type": "stream",
     "text": [
      "Updating LAMBDA\n"
     ]
    },
    {
     "name": "stderr",
     "output_type": "stream",
     "text": [
      "100%|█████████████████████████████████████████████| 10/10 [00:00<00:00, 2082.57it/s]\n"
     ]
    },
    {
     "name": "stdout",
     "output_type": "stream",
     "text": [
      "2\n",
      "ELBO: 457926.5088595197\n",
      "ELBO: 458621.42673032376\n"
     ]
    },
    {
     "name": "stderr",
     "output_type": "stream",
     "text": [
      "100%|███████████████████████████████████████████████| 12/12 [00:00<00:00, 73.37it/s]\n"
     ]
    },
    {
     "name": "stdout",
     "output_type": "stream",
     "text": [
      "Updating LAMBDA\n"
     ]
    },
    {
     "name": "stderr",
     "output_type": "stream",
     "text": [
      "100%|█████████████████████████████████████████████| 10/10 [00:00<00:00, 1820.21it/s]\n"
     ]
    },
    {
     "name": "stdout",
     "output_type": "stream",
     "text": [
      "3\n",
      "ELBO: 457777.3401640211\n",
      "ELBO: 458371.51529161073\n"
     ]
    },
    {
     "name": "stderr",
     "output_type": "stream",
     "text": [
      "100%|███████████████████████████████████████████████| 12/12 [00:00<00:00, 74.58it/s]\n"
     ]
    },
    {
     "name": "stdout",
     "output_type": "stream",
     "text": [
      "Updating LAMBDA\n"
     ]
    },
    {
     "name": "stderr",
     "output_type": "stream",
     "text": [
      "100%|█████████████████████████████████████████████| 10/10 [00:00<00:00, 2174.79it/s]\n"
     ]
    },
    {
     "name": "stdout",
     "output_type": "stream",
     "text": [
      "4\n",
      "ELBO: 458198.2178290198\n",
      "ELBO: 458122.75615255395\n"
     ]
    },
    {
     "name": "stderr",
     "output_type": "stream",
     "text": [
      "100%|███████████████████████████████████████████████| 12/12 [00:00<00:00, 73.96it/s]\n"
     ]
    },
    {
     "name": "stdout",
     "output_type": "stream",
     "text": [
      "Updating LAMBDA\n"
     ]
    },
    {
     "name": "stderr",
     "output_type": "stream",
     "text": [
      "100%|█████████████████████████████████████████████| 10/10 [00:00<00:00, 1728.61it/s]\n"
     ]
    },
    {
     "name": "stdout",
     "output_type": "stream",
     "text": [
      "5\n",
      "ELBO: 458575.5711583274\n",
      "ELBO: 457971.10099886206\n"
     ]
    },
    {
     "name": "stderr",
     "output_type": "stream",
     "text": [
      "100%|███████████████████████████████████████████████| 12/12 [00:00<00:00, 74.04it/s]\n"
     ]
    },
    {
     "name": "stdout",
     "output_type": "stream",
     "text": [
      "Updating LAMBDA\n"
     ]
    },
    {
     "name": "stderr",
     "output_type": "stream",
     "text": [
      "100%|█████████████████████████████████████████████| 10/10 [00:00<00:00, 2160.23it/s]\n"
     ]
    },
    {
     "name": "stdout",
     "output_type": "stream",
     "text": [
      "6\n",
      "ELBO: 458802.9954365284\n",
      "ELBO: 458320.15765370545\n"
     ]
    },
    {
     "name": "stderr",
     "output_type": "stream",
     "text": [
      "100%|███████████████████████████████████████████████| 12/12 [00:00<00:00, 74.24it/s]\n"
     ]
    },
    {
     "name": "stdout",
     "output_type": "stream",
     "text": [
      "Updating LAMBDA\n"
     ]
    },
    {
     "name": "stderr",
     "output_type": "stream",
     "text": [
      "100%|█████████████████████████████████████████████| 10/10 [00:00<00:00, 2144.55it/s]\n"
     ]
    },
    {
     "name": "stdout",
     "output_type": "stream",
     "text": [
      "iter  14\n",
      "1\n",
      "ELBO: 458371.51529161073\n",
      "ELBO: 458794.7425660929\n"
     ]
    },
    {
     "name": "stderr",
     "output_type": "stream",
     "text": [
      "100%|███████████████████████████████████████████████| 12/12 [00:00<00:00, 75.31it/s]\n"
     ]
    },
    {
     "name": "stdout",
     "output_type": "stream",
     "text": [
      "Updating LAMBDA\n"
     ]
    },
    {
     "name": "stderr",
     "output_type": "stream",
     "text": [
      "100%|█████████████████████████████████████████████| 10/10 [00:00<00:00, 2076.29it/s]\n"
     ]
    },
    {
     "name": "stdout",
     "output_type": "stream",
     "text": [
      "2\n",
      "ELBO: 458122.75615255395\n",
      "ELBO: 458670.0354776702\n"
     ]
    },
    {
     "name": "stderr",
     "output_type": "stream",
     "text": [
      "100%|███████████████████████████████████████████████| 12/12 [00:00<00:00, 73.61it/s]\n"
     ]
    },
    {
     "name": "stdout",
     "output_type": "stream",
     "text": [
      "Updating LAMBDA\n"
     ]
    },
    {
     "name": "stderr",
     "output_type": "stream",
     "text": [
      "100%|█████████████████████████████████████████████| 10/10 [00:00<00:00, 1876.23it/s]\n"
     ]
    },
    {
     "name": "stdout",
     "output_type": "stream",
     "text": [
      "3\n",
      "ELBO: 457971.10099886206\n",
      "ELBO: 458476.4803877516\n"
     ]
    },
    {
     "name": "stderr",
     "output_type": "stream",
     "text": [
      "100%|███████████████████████████████████████████████| 12/12 [00:00<00:00, 73.23it/s]\n"
     ]
    },
    {
     "name": "stdout",
     "output_type": "stream",
     "text": [
      "Updating LAMBDA\n"
     ]
    },
    {
     "name": "stderr",
     "output_type": "stream",
     "text": [
      "100%|█████████████████████████████████████████████| 10/10 [00:00<00:00, 1866.46it/s]\n"
     ]
    },
    {
     "name": "stdout",
     "output_type": "stream",
     "text": [
      "4\n",
      "ELBO: 458320.15765370545\n",
      "ELBO: 458296.7041382011\n"
     ]
    },
    {
     "name": "stderr",
     "output_type": "stream",
     "text": [
      "100%|███████████████████████████████████████████████| 12/12 [00:00<00:00, 73.97it/s]\n"
     ]
    },
    {
     "name": "stdout",
     "output_type": "stream",
     "text": [
      "Updating LAMBDA\n"
     ]
    },
    {
     "name": "stderr",
     "output_type": "stream",
     "text": [
      "100%|█████████████████████████████████████████████| 10/10 [00:00<00:00, 2004.45it/s]\n"
     ]
    },
    {
     "name": "stdout",
     "output_type": "stream",
     "text": [
      "5\n",
      "ELBO: 458636.180814649\n",
      "ELBO: 458144.57806712575\n"
     ]
    },
    {
     "name": "stderr",
     "output_type": "stream",
     "text": [
      "100%|███████████████████████████████████████████████| 12/12 [00:00<00:00, 74.26it/s]\n"
     ]
    },
    {
     "name": "stdout",
     "output_type": "stream",
     "text": [
      "Updating LAMBDA\n"
     ]
    },
    {
     "name": "stderr",
     "output_type": "stream",
     "text": [
      "100%|█████████████████████████████████████████████| 10/10 [00:00<00:00, 1895.05it/s]\n"
     ]
    },
    {
     "name": "stdout",
     "output_type": "stream",
     "text": [
      "6\n",
      "ELBO: 458802.9954365284\n",
      "ELBO: 458422.2922597518\n"
     ]
    },
    {
     "name": "stderr",
     "output_type": "stream",
     "text": [
      "100%|███████████████████████████████████████████████| 12/12 [00:00<00:00, 71.05it/s]\n"
     ]
    },
    {
     "name": "stdout",
     "output_type": "stream",
     "text": [
      "Updating LAMBDA\n"
     ]
    },
    {
     "name": "stderr",
     "output_type": "stream",
     "text": [
      "100%|█████████████████████████████████████████████| 10/10 [00:00<00:00, 1988.95it/s]\n"
     ]
    },
    {
     "name": "stdout",
     "output_type": "stream",
     "text": [
      "iter  15\n",
      "1\n",
      "ELBO: 458476.4803877516\n",
      "ELBO: 458794.7425660929\n"
     ]
    },
    {
     "name": "stderr",
     "output_type": "stream",
     "text": [
      "100%|███████████████████████████████████████████████| 12/12 [00:00<00:00, 72.35it/s]\n"
     ]
    },
    {
     "name": "stdout",
     "output_type": "stream",
     "text": [
      "Updating LAMBDA\n"
     ]
    },
    {
     "name": "stderr",
     "output_type": "stream",
     "text": [
      "100%|█████████████████████████████████████████████| 10/10 [00:00<00:00, 2083.30it/s]\n"
     ]
    },
    {
     "name": "stdout",
     "output_type": "stream",
     "text": [
      "2\n",
      "ELBO: 458296.7041382011\n",
      "ELBO: 458708.02086899953\n"
     ]
    },
    {
     "name": "stderr",
     "output_type": "stream",
     "text": [
      "100%|███████████████████████████████████████████████| 12/12 [00:00<00:00, 73.81it/s]\n"
     ]
    },
    {
     "name": "stdout",
     "output_type": "stream",
     "text": [
      "Updating LAMBDA\n"
     ]
    },
    {
     "name": "stderr",
     "output_type": "stream",
     "text": [
      "100%|█████████████████████████████████████████████| 10/10 [00:00<00:00, 1883.98it/s]\n"
     ]
    },
    {
     "name": "stdout",
     "output_type": "stream",
     "text": [
      "3\n",
      "ELBO: 458144.57806712575\n",
      "ELBO: 458564.09809897316\n"
     ]
    },
    {
     "name": "stderr",
     "output_type": "stream",
     "text": [
      "100%|███████████████████████████████████████████████| 12/12 [00:00<00:00, 72.13it/s]\n"
     ]
    },
    {
     "name": "stdout",
     "output_type": "stream",
     "text": [
      "Updating LAMBDA\n"
     ]
    },
    {
     "name": "stderr",
     "output_type": "stream",
     "text": [
      "100%|█████████████████████████████████████████████| 10/10 [00:00<00:00, 1567.14it/s]\n"
     ]
    },
    {
     "name": "stdout",
     "output_type": "stream",
     "text": [
      "4\n",
      "ELBO: 458422.2922597518\n",
      "ELBO: 458448.56919361406\n"
     ]
    },
    {
     "name": "stderr",
     "output_type": "stream",
     "text": [
      "100%|███████████████████████████████████████████████| 12/12 [00:00<00:00, 72.59it/s]\n"
     ]
    },
    {
     "name": "stdout",
     "output_type": "stream",
     "text": [
      "Updating LAMBDA\n"
     ]
    },
    {
     "name": "stderr",
     "output_type": "stream",
     "text": [
      "100%|█████████████████████████████████████████████| 10/10 [00:00<00:00, 1886.86it/s]\n"
     ]
    },
    {
     "name": "stdout",
     "output_type": "stream",
     "text": [
      "5\n",
      "ELBO: 458683.0940366301\n",
      "ELBO: 458297.6331953384\n"
     ]
    },
    {
     "name": "stderr",
     "output_type": "stream",
     "text": [
      "100%|███████████████████████████████████████████████| 12/12 [00:00<00:00, 73.83it/s]\n"
     ]
    },
    {
     "name": "stdout",
     "output_type": "stream",
     "text": [
      "Updating LAMBDA\n"
     ]
    },
    {
     "name": "stderr",
     "output_type": "stream",
     "text": [
      "100%|█████████████████████████████████████████████| 10/10 [00:00<00:00, 2134.94it/s]\n"
     ]
    },
    {
     "name": "stdout",
     "output_type": "stream",
     "text": [
      "6\n",
      "ELBO: 458802.9954365284\n",
      "ELBO: 458507.16221481864\n"
     ]
    },
    {
     "name": "stderr",
     "output_type": "stream",
     "text": [
      "100%|███████████████████████████████████████████████| 12/12 [00:00<00:00, 74.22it/s]\n"
     ]
    },
    {
     "name": "stdout",
     "output_type": "stream",
     "text": [
      "Updating LAMBDA\n"
     ]
    },
    {
     "name": "stderr",
     "output_type": "stream",
     "text": [
      "100%|█████████████████████████████████████████████| 10/10 [00:00<00:00, 2176.71it/s]\n"
     ]
    },
    {
     "name": "stdout",
     "output_type": "stream",
     "text": [
      "iter  16\n",
      "1\n",
      "ELBO: 458564.09809897316\n",
      "ELBO: 458794.7425660929\n"
     ]
    },
    {
     "name": "stderr",
     "output_type": "stream",
     "text": [
      "100%|███████████████████████████████████████████████| 12/12 [00:00<00:00, 70.80it/s]\n"
     ]
    },
    {
     "name": "stdout",
     "output_type": "stream",
     "text": [
      "Updating LAMBDA\n"
     ]
    },
    {
     "name": "stderr",
     "output_type": "stream",
     "text": [
      "100%|█████████████████████████████████████████████| 10/10 [00:00<00:00, 1724.35it/s]\n"
     ]
    },
    {
     "name": "stdout",
     "output_type": "stream",
     "text": [
      "2\n",
      "ELBO: 458448.56919361406\n",
      "ELBO: 458737.62887124496\n"
     ]
    },
    {
     "name": "stderr",
     "output_type": "stream",
     "text": [
      "100%|███████████████████████████████████████████████| 12/12 [00:00<00:00, 73.55it/s]\n"
     ]
    },
    {
     "name": "stdout",
     "output_type": "stream",
     "text": [
      "Updating LAMBDA\n"
     ]
    },
    {
     "name": "stderr",
     "output_type": "stream",
     "text": [
      "100%|█████████████████████████████████████████████| 10/10 [00:00<00:00, 2166.93it/s]\n"
     ]
    },
    {
     "name": "stdout",
     "output_type": "stream",
     "text": [
      "3\n",
      "ELBO: 458297.6331953384\n",
      "ELBO: 458636.82370968553\n"
     ]
    },
    {
     "name": "stderr",
     "output_type": "stream",
     "text": [
      "100%|███████████████████████████████████████████████| 12/12 [00:00<00:00, 73.29it/s]\n"
     ]
    },
    {
     "name": "stdout",
     "output_type": "stream",
     "text": [
      "Updating LAMBDA\n"
     ]
    },
    {
     "name": "stderr",
     "output_type": "stream",
     "text": [
      "100%|█████████████████████████████████████████████| 10/10 [00:00<00:00, 1811.32it/s]\n"
     ]
    },
    {
     "name": "stdout",
     "output_type": "stream",
     "text": [
      "4\n",
      "ELBO: 458507.16221481864\n",
      "ELBO: 458579.5250347609\n"
     ]
    },
    {
     "name": "stderr",
     "output_type": "stream",
     "text": [
      "100%|███████████████████████████████████████████████| 12/12 [00:00<00:00, 75.00it/s]\n"
     ]
    },
    {
     "name": "stdout",
     "output_type": "stream",
     "text": [
      "Updating LAMBDA\n"
     ]
    },
    {
     "name": "stderr",
     "output_type": "stream",
     "text": [
      "100%|█████████████████████████████████████████████| 10/10 [00:00<00:00, 2163.46it/s]\n"
     ]
    },
    {
     "name": "stdout",
     "output_type": "stream",
     "text": [
      "5\n",
      "ELBO: 458719.10000708955\n",
      "ELBO: 458430.96023659286\n"
     ]
    },
    {
     "name": "stderr",
     "output_type": "stream",
     "text": [
      "100%|███████████████████████████████████████████████| 12/12 [00:00<00:00, 74.61it/s]\n"
     ]
    },
    {
     "name": "stdout",
     "output_type": "stream",
     "text": [
      "Updating LAMBDA\n"
     ]
    },
    {
     "name": "stderr",
     "output_type": "stream",
     "text": [
      "100%|█████████████████████████████████████████████| 10/10 [00:00<00:00, 1977.51it/s]\n"
     ]
    },
    {
     "name": "stdout",
     "output_type": "stream",
     "text": [
      "6\n",
      "ELBO: 458802.9954365284\n",
      "ELBO: 458577.27121820487\n"
     ]
    },
    {
     "name": "stderr",
     "output_type": "stream",
     "text": [
      "100%|███████████████████████████████████████████████| 12/12 [00:00<00:00, 74.14it/s]\n"
     ]
    },
    {
     "name": "stdout",
     "output_type": "stream",
     "text": [
      "Updating LAMBDA\n"
     ]
    },
    {
     "name": "stderr",
     "output_type": "stream",
     "text": [
      "100%|█████████████████████████████████████████████| 10/10 [00:00<00:00, 2034.59it/s]\n"
     ]
    },
    {
     "name": "stdout",
     "output_type": "stream",
     "text": [
      "iter  17\n",
      "1\n",
      "ELBO: 458636.82370968553\n",
      "ELBO: 458794.7425660929\n"
     ]
    },
    {
     "name": "stderr",
     "output_type": "stream",
     "text": [
      "100%|███████████████████████████████████████████████| 12/12 [00:00<00:00, 74.81it/s]\n"
     ]
    },
    {
     "name": "stdout",
     "output_type": "stream",
     "text": [
      "Updating LAMBDA\n"
     ]
    },
    {
     "name": "stderr",
     "output_type": "stream",
     "text": [
      "100%|█████████████████████████████████████████████| 10/10 [00:00<00:00, 2001.19it/s]\n"
     ]
    },
    {
     "name": "stdout",
     "output_type": "stream",
     "text": [
      "2\n",
      "ELBO: 458579.5250347609\n",
      "ELBO: 458760.7197495283\n"
     ]
    },
    {
     "name": "stderr",
     "output_type": "stream",
     "text": [
      "100%|███████████████████████████████████████████████| 12/12 [00:00<00:00, 74.50it/s]\n"
     ]
    },
    {
     "name": "stdout",
     "output_type": "stream",
     "text": [
      "Updating LAMBDA\n"
     ]
    },
    {
     "name": "stderr",
     "output_type": "stream",
     "text": [
      "100%|█████████████████████████████████████████████| 10/10 [00:00<00:00, 2014.56it/s]\n"
     ]
    },
    {
     "name": "stdout",
     "output_type": "stream",
     "text": [
      "3\n",
      "ELBO: 458430.96023659286\n",
      "ELBO: 458697.0543572213\n"
     ]
    },
    {
     "name": "stderr",
     "output_type": "stream",
     "text": [
      "100%|███████████████████████████████████████████████| 12/12 [00:00<00:00, 74.95it/s]\n"
     ]
    },
    {
     "name": "stdout",
     "output_type": "stream",
     "text": [
      "Updating LAMBDA\n"
     ]
    },
    {
     "name": "stderr",
     "output_type": "stream",
     "text": [
      "100%|█████████████████████████████████████████████| 10/10 [00:00<00:00, 2080.20it/s]\n"
     ]
    },
    {
     "name": "stdout",
     "output_type": "stream",
     "text": [
      "4\n",
      "ELBO: 458577.27121820487\n",
      "ELBO: 458691.2977407482\n"
     ]
    },
    {
     "name": "stderr",
     "output_type": "stream",
     "text": [
      "100%|███████████████████████████████████████████████| 12/12 [00:00<00:00, 74.56it/s]\n"
     ]
    },
    {
     "name": "stdout",
     "output_type": "stream",
     "text": [
      "Updating LAMBDA\n"
     ]
    },
    {
     "name": "stderr",
     "output_type": "stream",
     "text": [
      "100%|█████████████████████████████████████████████| 10/10 [00:00<00:00, 2074.54it/s]\n"
     ]
    },
    {
     "name": "stdout",
     "output_type": "stream",
     "text": [
      "5\n",
      "ELBO: 458746.570800136\n",
      "ELBO: 458545.9118977205\n"
     ]
    },
    {
     "name": "stderr",
     "output_type": "stream",
     "text": [
      "100%|███████████████████████████████████████████████| 12/12 [00:00<00:00, 71.80it/s]\n"
     ]
    },
    {
     "name": "stdout",
     "output_type": "stream",
     "text": [
      "Updating LAMBDA\n"
     ]
    },
    {
     "name": "stderr",
     "output_type": "stream",
     "text": [
      "100%|█████████████████████████████████████████████| 10/10 [00:00<00:00, 2029.27it/s]\n"
     ]
    },
    {
     "name": "stdout",
     "output_type": "stream",
     "text": [
      "6\n",
      "ELBO: 458802.9954365284\n",
      "ELBO: 458634.9502312948\n"
     ]
    },
    {
     "name": "stderr",
     "output_type": "stream",
     "text": [
      "100%|███████████████████████████████████████████████| 12/12 [00:00<00:00, 72.83it/s]\n"
     ]
    },
    {
     "name": "stdout",
     "output_type": "stream",
     "text": [
      "Updating LAMBDA\n"
     ]
    },
    {
     "name": "stderr",
     "output_type": "stream",
     "text": [
      "100%|█████████████████████████████████████████████| 10/10 [00:00<00:00, 1819.50it/s]\n"
     ]
    },
    {
     "name": "stdout",
     "output_type": "stream",
     "text": [
      "iter  18\n",
      "1\n",
      "ELBO: 458697.0543572213\n",
      "ELBO: 458794.7425660929\n"
     ]
    },
    {
     "name": "stderr",
     "output_type": "stream",
     "text": [
      "100%|███████████████████████████████████████████████| 12/12 [00:00<00:00, 73.28it/s]\n"
     ]
    },
    {
     "name": "stdout",
     "output_type": "stream",
     "text": [
      "Updating LAMBDA\n"
     ]
    },
    {
     "name": "stderr",
     "output_type": "stream",
     "text": [
      "100%|█████████████████████████████████████████████| 10/10 [00:00<00:00, 2077.73it/s]\n"
     ]
    },
    {
     "name": "stdout",
     "output_type": "stream",
     "text": [
      "2\n",
      "ELBO: 458691.2977407482\n",
      "ELBO: 458778.7895619564\n"
     ]
    },
    {
     "name": "stderr",
     "output_type": "stream",
     "text": [
      "100%|███████████████████████████████████████████████| 12/12 [00:00<00:00, 73.33it/s]\n"
     ]
    },
    {
     "name": "stdout",
     "output_type": "stream",
     "text": [
      "Updating LAMBDA\n"
     ]
    },
    {
     "name": "stderr",
     "output_type": "stream",
     "text": [
      "100%|█████████████████████████████████████████████| 10/10 [00:00<00:00, 2192.53it/s]\n"
     ]
    },
    {
     "name": "stdout",
     "output_type": "stream",
     "text": [
      "3\n",
      "ELBO: 458545.9118977205\n",
      "ELBO: 458747.0202780826\n"
     ]
    },
    {
     "name": "stderr",
     "output_type": "stream",
     "text": [
      "100%|███████████████████████████████████████████████| 12/12 [00:00<00:00, 74.91it/s]\n"
     ]
    },
    {
     "name": "stdout",
     "output_type": "stream",
     "text": [
      "Updating LAMBDA\n"
     ]
    },
    {
     "name": "stderr",
     "output_type": "stream",
     "text": [
      "100%|█████████████████████████████████████████████| 10/10 [00:00<00:00, 1993.96it/s]\n"
     ]
    },
    {
     "name": "stdout",
     "output_type": "stream",
     "text": [
      "4\n",
      "ELBO: 458634.9502312948\n",
      "ELBO: 458785.81678081455\n"
     ]
    },
    {
     "name": "stderr",
     "output_type": "stream",
     "text": [
      "100%|███████████████████████████████████████████████| 12/12 [00:00<00:00, 72.95it/s]\n"
     ]
    },
    {
     "name": "stdout",
     "output_type": "stream",
     "text": [
      "Updating LAMBDA\n"
     ]
    },
    {
     "name": "stderr",
     "output_type": "stream",
     "text": [
      "100%|█████████████████████████████████████████████| 10/10 [00:00<00:00, 1905.12it/s]\n"
     ]
    },
    {
     "name": "stdout",
     "output_type": "stream",
     "text": [
      "5\n",
      "ELBO: 458767.46029017714\n",
      "ELBO: 458644.2056392426\n"
     ]
    },
    {
     "name": "stderr",
     "output_type": "stream",
     "text": [
      "100%|███████████████████████████████████████████████| 12/12 [00:00<00:00, 74.25it/s]\n"
     ]
    },
    {
     "name": "stdout",
     "output_type": "stream",
     "text": [
      "Updating LAMBDA\n"
     ]
    },
    {
     "name": "stderr",
     "output_type": "stream",
     "text": [
      "100%|█████████████████████████████████████████████| 10/10 [00:00<00:00, 1778.38it/s]\n"
     ]
    },
    {
     "name": "stdout",
     "output_type": "stream",
     "text": [
      "6\n",
      "ELBO: 458802.9954365284\n",
      "ELBO: 458682.3171656506\n"
     ]
    },
    {
     "name": "stderr",
     "output_type": "stream",
     "text": [
      "100%|███████████████████████████████████████████████| 12/12 [00:00<00:00, 74.80it/s]\n"
     ]
    },
    {
     "name": "stdout",
     "output_type": "stream",
     "text": [
      "Updating LAMBDA\n"
     ]
    },
    {
     "name": "stderr",
     "output_type": "stream",
     "text": [
      "100%|█████████████████████████████████████████████| 10/10 [00:00<00:00, 2138.10it/s]\n"
     ]
    },
    {
     "name": "stdout",
     "output_type": "stream",
     "text": [
      "iter  19\n",
      "1\n",
      "ELBO: 458747.0202780826\n",
      "ELBO: 458794.7425660929\n"
     ]
    },
    {
     "name": "stderr",
     "output_type": "stream",
     "text": [
      "100%|███████████████████████████████████████████████| 12/12 [00:00<00:00, 73.47it/s]\n"
     ]
    },
    {
     "name": "stdout",
     "output_type": "stream",
     "text": [
      "Updating LAMBDA\n"
     ]
    },
    {
     "name": "stderr",
     "output_type": "stream",
     "text": [
      "100%|█████████████████████████████████████████████| 10/10 [00:00<00:00, 1956.21it/s]\n"
     ]
    },
    {
     "name": "stdout",
     "output_type": "stream",
     "text": [
      "2\n",
      "ELBO: 458785.81678081455\n",
      "ELBO: 458793.01351291727\n"
     ]
    },
    {
     "name": "stderr",
     "output_type": "stream",
     "text": [
      "100%|███████████████████████████████████████████████| 12/12 [00:00<00:00, 74.18it/s]\n"
     ]
    },
    {
     "name": "stdout",
     "output_type": "stream",
     "text": [
      "Updating LAMBDA\n"
     ]
    },
    {
     "name": "stderr",
     "output_type": "stream",
     "text": [
      "100%|█████████████████████████████████████████████| 10/10 [00:00<00:00, 2117.80it/s]\n"
     ]
    },
    {
     "name": "stdout",
     "output_type": "stream",
     "text": [
      "3\n",
      "ELBO: 458644.2056392426\n",
      "ELBO: 458788.5432546695\n"
     ]
    },
    {
     "name": "stderr",
     "output_type": "stream",
     "text": [
      "100%|███████████████████████████████████████████████| 12/12 [00:00<00:00, 73.52it/s]\n"
     ]
    },
    {
     "name": "stdout",
     "output_type": "stream",
     "text": [
      "Updating LAMBDA\n"
     ]
    },
    {
     "name": "stderr",
     "output_type": "stream",
     "text": [
      "100%|█████████████████████████████████████████████| 10/10 [00:00<00:00, 2104.94it/s]\n"
     ]
    },
    {
     "name": "stdout",
     "output_type": "stream",
     "text": [
      "4\n",
      "ELBO: 458682.3171656506\n",
      "ELBO: 458865.1565028019\n"
     ]
    },
    {
     "name": "stderr",
     "output_type": "stream",
     "text": [
      "100%|███████████████████████████████████████████████| 12/12 [00:00<00:00, 73.95it/s]\n"
     ]
    },
    {
     "name": "stdout",
     "output_type": "stream",
     "text": [
      "Updating LAMBDA\n"
     ]
    },
    {
     "name": "stderr",
     "output_type": "stream",
     "text": [
      "100%|█████████████████████████████████████████████| 10/10 [00:00<00:00, 2245.71it/s]\n"
     ]
    },
    {
     "name": "stdout",
     "output_type": "stream",
     "text": [
      "5\n",
      "ELBO: 458783.3383630996\n",
      "ELBO: 458727.6778749168\n"
     ]
    },
    {
     "name": "stderr",
     "output_type": "stream",
     "text": [
      "100%|███████████████████████████████████████████████| 12/12 [00:00<00:00, 75.02it/s]\n"
     ]
    },
    {
     "name": "stdout",
     "output_type": "stream",
     "text": [
      "Updating LAMBDA\n"
     ]
    },
    {
     "name": "stderr",
     "output_type": "stream",
     "text": [
      "100%|█████████████████████████████████████████████| 10/10 [00:00<00:00, 1961.15it/s]\n"
     ]
    },
    {
     "name": "stdout",
     "output_type": "stream",
     "text": [
      "6\n",
      "ELBO: 458802.9954365284\n",
      "ELBO: 458721.24785564555\n"
     ]
    },
    {
     "name": "stderr",
     "output_type": "stream",
     "text": [
      "100%|███████████████████████████████████████████████| 12/12 [00:00<00:00, 74.78it/s]\n"
     ]
    },
    {
     "name": "stdout",
     "output_type": "stream",
     "text": [
      "Updating LAMBDA\n"
     ]
    },
    {
     "name": "stderr",
     "output_type": "stream",
     "text": [
      "100%|█████████████████████████████████████████████| 10/10 [00:00<00:00, 1892.82it/s]\n"
     ]
    },
    {
     "name": "stdout",
     "output_type": "stream",
     "text": [
      "iter  20\n",
      "1\n",
      "ELBO: 458788.5432546695\n",
      "ELBO: 458794.7425660929\n"
     ]
    },
    {
     "name": "stderr",
     "output_type": "stream",
     "text": [
      "100%|███████████████████████████████████████████████| 12/12 [00:00<00:00, 74.27it/s]\n"
     ]
    },
    {
     "name": "stdout",
     "output_type": "stream",
     "text": [
      "Updating LAMBDA\n"
     ]
    },
    {
     "name": "stderr",
     "output_type": "stream",
     "text": [
      "100%|█████████████████████████████████████████████| 10/10 [00:00<00:00, 1723.85it/s]\n"
     ]
    },
    {
     "name": "stdout",
     "output_type": "stream",
     "text": [
      "2\n",
      "ELBO: 458865.1565028019\n",
      "ELBO: 458804.30198056664\n"
     ]
    },
    {
     "name": "stderr",
     "output_type": "stream",
     "text": [
      "100%|███████████████████████████████████████████████| 12/12 [00:00<00:00, 73.98it/s]\n"
     ]
    },
    {
     "name": "stdout",
     "output_type": "stream",
     "text": [
      "Updating LAMBDA\n"
     ]
    },
    {
     "name": "stderr",
     "output_type": "stream",
     "text": [
      "100%|█████████████████████████████████████████████| 10/10 [00:00<00:00, 2031.63it/s]\n"
     ]
    },
    {
     "name": "stdout",
     "output_type": "stream",
     "text": [
      "3\n",
      "ELBO: 458727.6778749168\n",
      "ELBO: 458823.1741420961\n"
     ]
    },
    {
     "name": "stderr",
     "output_type": "stream",
     "text": [
      "100%|███████████████████████████████████████████████| 12/12 [00:00<00:00, 73.83it/s]\n"
     ]
    },
    {
     "name": "stdout",
     "output_type": "stream",
     "text": [
      "Updating LAMBDA\n"
     ]
    },
    {
     "name": "stderr",
     "output_type": "stream",
     "text": [
      "100%|█████████████████████████████████████████████| 10/10 [00:00<00:00, 2111.51it/s]\n"
     ]
    },
    {
     "name": "stdout",
     "output_type": "stream",
     "text": [
      "4\n",
      "ELBO: 458721.24785564555\n",
      "ELBO: 458931.3294380507\n"
     ]
    },
    {
     "name": "stderr",
     "output_type": "stream",
     "text": [
      "100%|███████████████████████████████████████████████| 12/12 [00:00<00:00, 73.75it/s]\n"
     ]
    },
    {
     "name": "stdout",
     "output_type": "stream",
     "text": [
      "Updating LAMBDA\n"
     ]
    },
    {
     "name": "stderr",
     "output_type": "stream",
     "text": [
      "100%|█████████████████████████████████████████████| 10/10 [00:00<00:00, 1964.64it/s]\n"
     ]
    },
    {
     "name": "stdout",
     "output_type": "stream",
     "text": [
      "5\n",
      "ELBO: 458795.43666443805\n",
      "ELBO: 458798.16831388924\n"
     ]
    },
    {
     "name": "stderr",
     "output_type": "stream",
     "text": [
      "100%|███████████████████████████████████████████████| 12/12 [00:00<00:00, 73.14it/s]\n"
     ]
    },
    {
     "name": "stdout",
     "output_type": "stream",
     "text": [
      "Updating LAMBDA\n"
     ]
    },
    {
     "name": "stderr",
     "output_type": "stream",
     "text": [
      "100%|█████████████████████████████████████████████| 10/10 [00:00<00:00, 1954.66it/s]\n"
     ]
    },
    {
     "name": "stdout",
     "output_type": "stream",
     "text": [
      "6\n",
      "ELBO: 458802.9954365284\n",
      "ELBO: 458753.3598048534\n"
     ]
    },
    {
     "name": "stderr",
     "output_type": "stream",
     "text": [
      "100%|███████████████████████████████████████████████| 12/12 [00:00<00:00, 73.55it/s]\n"
     ]
    },
    {
     "name": "stdout",
     "output_type": "stream",
     "text": [
      "Updating LAMBDA\n"
     ]
    },
    {
     "name": "stderr",
     "output_type": "stream",
     "text": [
      "100%|█████████████████████████████████████████████| 10/10 [00:00<00:00, 1770.65it/s]\n"
     ]
    },
    {
     "name": "stdout",
     "output_type": "stream",
     "text": [
      "iter  21\n",
      "1\n",
      "ELBO: 458823.1741420961\n",
      "ELBO: 458794.7425660929\n"
     ]
    },
    {
     "name": "stderr",
     "output_type": "stream",
     "text": [
      "100%|███████████████████████████████████████████████| 12/12 [00:00<00:00, 73.02it/s]\n"
     ]
    },
    {
     "name": "stdout",
     "output_type": "stream",
     "text": [
      "Updating LAMBDA\n"
     ]
    },
    {
     "name": "stderr",
     "output_type": "stream",
     "text": [
      "100%|█████████████████████████████████████████████| 10/10 [00:00<00:00, 2089.53it/s]\n"
     ]
    },
    {
     "name": "stdout",
     "output_type": "stream",
     "text": [
      "2\n",
      "ELBO: 458931.3294380507\n",
      "ELBO: 458813.3743312486\n"
     ]
    },
    {
     "name": "stderr",
     "output_type": "stream",
     "text": [
      "100%|███████████████████████████████████████████████| 12/12 [00:00<00:00, 75.35it/s]\n"
     ]
    },
    {
     "name": "stdout",
     "output_type": "stream",
     "text": [
      "Updating LAMBDA\n"
     ]
    },
    {
     "name": "stderr",
     "output_type": "stream",
     "text": [
      "100%|█████████████████████████████████████████████| 10/10 [00:00<00:00, 2155.68it/s]\n"
     ]
    },
    {
     "name": "stdout",
     "output_type": "stream",
     "text": [
      "3\n",
      "ELBO: 458798.16831388924\n",
      "ELBO: 458852.18337208737\n"
     ]
    },
    {
     "name": "stderr",
     "output_type": "stream",
     "text": [
      "100%|███████████████████████████████████████████████| 12/12 [00:00<00:00, 72.02it/s]\n"
     ]
    },
    {
     "name": "stdout",
     "output_type": "stream",
     "text": [
      "Updating LAMBDA\n"
     ]
    },
    {
     "name": "stderr",
     "output_type": "stream",
     "text": [
      "100%|█████████████████████████████████████████████| 10/10 [00:00<00:00, 2009.63it/s]\n"
     ]
    },
    {
     "name": "stdout",
     "output_type": "stream",
     "text": [
      "4\n",
      "ELBO: 458753.3598048534\n",
      "ELBO: 458986.16186312545\n"
     ]
    },
    {
     "name": "stderr",
     "output_type": "stream",
     "text": [
      "100%|███████████████████████████████████████████████| 12/12 [00:00<00:00, 73.85it/s]\n"
     ]
    },
    {
     "name": "stdout",
     "output_type": "stream",
     "text": [
      "Updating LAMBDA\n"
     ]
    },
    {
     "name": "stderr",
     "output_type": "stream",
     "text": [
      "100%|█████████████████████████████████████████████| 10/10 [00:00<00:00, 2174.90it/s]\n"
     ]
    },
    {
     "name": "stdout",
     "output_type": "stream",
     "text": [
      "5\n",
      "ELBO: 458804.6984809581\n",
      "ELBO: 458857.40618958895\n"
     ]
    },
    {
     "name": "stderr",
     "output_type": "stream",
     "text": [
      "100%|███████████████████████████████████████████████| 12/12 [00:00<00:00, 75.11it/s]\n"
     ]
    },
    {
     "name": "stdout",
     "output_type": "stream",
     "text": [
      "Updating LAMBDA\n"
     ]
    },
    {
     "name": "stderr",
     "output_type": "stream",
     "text": [
      "100%|█████████████████████████████████████████████| 10/10 [00:00<00:00, 2325.78it/s]\n"
     ]
    },
    {
     "name": "stdout",
     "output_type": "stream",
     "text": [
      "6\n",
      "ELBO: 458802.9954365284\n",
      "ELBO: 458780.0084698284\n"
     ]
    },
    {
     "name": "stderr",
     "output_type": "stream",
     "text": [
      "100%|███████████████████████████████████████████████| 12/12 [00:00<00:00, 74.08it/s]\n"
     ]
    },
    {
     "name": "stdout",
     "output_type": "stream",
     "text": [
      "Updating LAMBDA\n"
     ]
    },
    {
     "name": "stderr",
     "output_type": "stream",
     "text": [
      "100%|█████████████████████████████████████████████| 10/10 [00:00<00:00, 1865.71it/s]\n"
     ]
    },
    {
     "name": "stdout",
     "output_type": "stream",
     "text": [
      "iter  22\n",
      "1\n",
      "ELBO: 458852.18337208737\n",
      "ELBO: 458794.7425660929\n"
     ]
    },
    {
     "name": "stderr",
     "output_type": "stream",
     "text": [
      "100%|███████████████████████████████████████████████| 12/12 [00:00<00:00, 72.11it/s]\n"
     ]
    },
    {
     "name": "stdout",
     "output_type": "stream",
     "text": [
      "Updating LAMBDA\n"
     ]
    },
    {
     "name": "stderr",
     "output_type": "stream",
     "text": [
      "100%|█████████████████████████████████████████████| 10/10 [00:00<00:00, 2119.94it/s]\n"
     ]
    },
    {
     "name": "stdout",
     "output_type": "stream",
     "text": [
      "2\n",
      "ELBO: 458986.16186312545\n",
      "ELBO: 458820.7549017433\n"
     ]
    },
    {
     "name": "stderr",
     "output_type": "stream",
     "text": [
      "100%|███████████████████████████████████████████████| 12/12 [00:00<00:00, 75.83it/s]\n"
     ]
    },
    {
     "name": "stdout",
     "output_type": "stream",
     "text": [
      "Updating LAMBDA\n"
     ]
    },
    {
     "name": "stderr",
     "output_type": "stream",
     "text": [
      "100%|█████████████████████████████████████████████| 10/10 [00:00<00:00, 2087.24it/s]\n"
     ]
    },
    {
     "name": "stdout",
     "output_type": "stream",
     "text": [
      "3\n",
      "ELBO: 458857.40618958895\n",
      "ELBO: 458876.6270292992\n"
     ]
    },
    {
     "name": "stderr",
     "output_type": "stream",
     "text": [
      "100%|███████████████████████████████████████████████| 12/12 [00:00<00:00, 72.77it/s]\n"
     ]
    },
    {
     "name": "stdout",
     "output_type": "stream",
     "text": [
      "Updating LAMBDA\n"
     ]
    },
    {
     "name": "stderr",
     "output_type": "stream",
     "text": [
      "100%|█████████████████████████████████████████████| 10/10 [00:00<00:00, 2181.01it/s]\n"
     ]
    },
    {
     "name": "stdout",
     "output_type": "stream",
     "text": [
      "4\n",
      "ELBO: 458780.0084698284\n",
      "ELBO: 459031.3722650792\n"
     ]
    },
    {
     "name": "stderr",
     "output_type": "stream",
     "text": [
      "100%|███████████████████████████████████████████████| 12/12 [00:00<00:00, 74.82it/s]\n"
     ]
    },
    {
     "name": "stdout",
     "output_type": "stream",
     "text": [
      "Updating LAMBDA\n"
     ]
    },
    {
     "name": "stderr",
     "output_type": "stream",
     "text": [
      "100%|█████████████████████████████████████████████| 10/10 [00:00<00:00, 2351.20it/s]\n"
     ]
    },
    {
     "name": "stdout",
     "output_type": "stream",
     "text": [
      "5\n",
      "ELBO: 458811.8334828849\n",
      "ELBO: 458906.96714327816\n"
     ]
    },
    {
     "name": "stderr",
     "output_type": "stream",
     "text": [
      "100%|███████████████████████████████████████████████| 12/12 [00:00<00:00, 72.85it/s]\n"
     ]
    },
    {
     "name": "stdout",
     "output_type": "stream",
     "text": [
      "Updating LAMBDA\n"
     ]
    },
    {
     "name": "stderr",
     "output_type": "stream",
     "text": [
      "100%|█████████████████████████████████████████████| 10/10 [00:00<00:00, 1946.31it/s]\n"
     ]
    },
    {
     "name": "stdout",
     "output_type": "stream",
     "text": [
      "6\n",
      "ELBO: 458802.9954365284\n",
      "ELBO: 458802.30697299493\n"
     ]
    },
    {
     "name": "stderr",
     "output_type": "stream",
     "text": [
      "100%|███████████████████████████████████████████████| 12/12 [00:00<00:00, 73.36it/s]\n"
     ]
    },
    {
     "name": "stdout",
     "output_type": "stream",
     "text": [
      "Updating LAMBDA\n"
     ]
    },
    {
     "name": "stderr",
     "output_type": "stream",
     "text": [
      "100%|█████████████████████████████████████████████| 10/10 [00:00<00:00, 1728.90it/s]\n"
     ]
    },
    {
     "name": "stdout",
     "output_type": "stream",
     "text": [
      "iter  23\n",
      "1\n",
      "ELBO: 458876.6270292992\n",
      "ELBO: 458794.7425660929\n"
     ]
    },
    {
     "name": "stderr",
     "output_type": "stream",
     "text": [
      "100%|███████████████████████████████████████████████| 12/12 [00:00<00:00, 72.18it/s]\n"
     ]
    },
    {
     "name": "stdout",
     "output_type": "stream",
     "text": [
      "Updating LAMBDA\n"
     ]
    },
    {
     "name": "stderr",
     "output_type": "stream",
     "text": [
      "100%|█████████████████████████████████████████████| 10/10 [00:00<00:00, 2073.82it/s]\n"
     ]
    },
    {
     "name": "stdout",
     "output_type": "stream",
     "text": [
      "2\n",
      "ELBO: 459031.3722650792\n",
      "ELBO: 458826.824446607\n"
     ]
    },
    {
     "name": "stderr",
     "output_type": "stream",
     "text": [
      "100%|███████████████████████████████████████████████| 12/12 [00:00<00:00, 73.99it/s]\n"
     ]
    },
    {
     "name": "stdout",
     "output_type": "stream",
     "text": [
      "Updating LAMBDA\n"
     ]
    },
    {
     "name": "stderr",
     "output_type": "stream",
     "text": [
      "100%|█████████████████████████████████████████████| 10/10 [00:00<00:00, 2048.80it/s]\n"
     ]
    },
    {
     "name": "stdout",
     "output_type": "stream",
     "text": [
      "3\n",
      "ELBO: 458906.96714327816\n",
      "ELBO: 458897.32547329436\n"
     ]
    },
    {
     "name": "stderr",
     "output_type": "stream",
     "text": [
      "100%|███████████████████████████████████████████████| 12/12 [00:00<00:00, 74.12it/s]\n"
     ]
    },
    {
     "name": "stdout",
     "output_type": "stream",
     "text": [
      "Updating LAMBDA\n"
     ]
    },
    {
     "name": "stderr",
     "output_type": "stream",
     "text": [
      "100%|█████████████████████████████████████████████| 10/10 [00:00<00:00, 2397.43it/s]\n"
     ]
    },
    {
     "name": "stdout",
     "output_type": "stream",
     "text": [
      "4\n",
      "ELBO: 458802.30697299493\n",
      "ELBO: 459068.4783431744\n"
     ]
    },
    {
     "name": "stderr",
     "output_type": "stream",
     "text": [
      "100%|███████████████████████████████████████████████| 12/12 [00:00<00:00, 68.69it/s]\n"
     ]
    },
    {
     "name": "stdout",
     "output_type": "stream",
     "text": [
      "Updating LAMBDA\n"
     ]
    },
    {
     "name": "stderr",
     "output_type": "stream",
     "text": [
      "100%|█████████████████████████████████████████████| 10/10 [00:00<00:00, 1757.22it/s]\n"
     ]
    },
    {
     "name": "stdout",
     "output_type": "stream",
     "text": [
      "5\n",
      "ELBO: 458817.37227744\n",
      "ELBO: 458948.28830989986\n"
     ]
    },
    {
     "name": "stderr",
     "output_type": "stream",
     "text": [
      "100%|███████████████████████████████████████████████| 12/12 [00:00<00:00, 73.79it/s]\n"
     ]
    },
    {
     "name": "stdout",
     "output_type": "stream",
     "text": [
      "Updating LAMBDA\n"
     ]
    },
    {
     "name": "stderr",
     "output_type": "stream",
     "text": [
      "100%|█████████████████████████████████████████████| 10/10 [00:00<00:00, 1570.61it/s]\n"
     ]
    },
    {
     "name": "stdout",
     "output_type": "stream",
     "text": [
      "6\n",
      "ELBO: 458802.9954365284\n",
      "ELBO: 458821.1436227988\n"
     ]
    },
    {
     "name": "stderr",
     "output_type": "stream",
     "text": [
      "100%|███████████████████████████████████████████████| 12/12 [00:00<00:00, 74.04it/s]\n"
     ]
    },
    {
     "name": "stdout",
     "output_type": "stream",
     "text": [
      "Updating LAMBDA\n"
     ]
    },
    {
     "name": "stderr",
     "output_type": "stream",
     "text": [
      "100%|█████████████████████████████████████████████| 10/10 [00:00<00:00, 1876.14it/s]\n"
     ]
    },
    {
     "name": "stdout",
     "output_type": "stream",
     "text": [
      "iter  24\n",
      "1\n",
      "ELBO: 458897.32547329436\n",
      "ELBO: 458794.7425660929\n"
     ]
    },
    {
     "name": "stderr",
     "output_type": "stream",
     "text": [
      "100%|███████████████████████████████████████████████| 12/12 [00:00<00:00, 74.58it/s]\n"
     ]
    },
    {
     "name": "stdout",
     "output_type": "stream",
     "text": [
      "Updating LAMBDA\n"
     ]
    },
    {
     "name": "stderr",
     "output_type": "stream",
     "text": [
      "100%|█████████████████████████████████████████████| 10/10 [00:00<00:00, 2171.98it/s]\n"
     ]
    },
    {
     "name": "stdout",
     "output_type": "stream",
     "text": [
      "2\n",
      "ELBO: 459068.4783431744\n",
      "ELBO: 458831.86002761865\n"
     ]
    },
    {
     "name": "stderr",
     "output_type": "stream",
     "text": [
      "100%|███████████████████████████████████████████████| 12/12 [00:00<00:00, 74.47it/s]\n"
     ]
    },
    {
     "name": "stdout",
     "output_type": "stream",
     "text": [
      "Updating LAMBDA\n"
     ]
    },
    {
     "name": "stderr",
     "output_type": "stream",
     "text": [
      "100%|█████████████████████████████████████████████| 10/10 [00:00<00:00, 2154.79it/s]\n"
     ]
    },
    {
     "name": "stdout",
     "output_type": "stream",
     "text": [
      "3\n",
      "ELBO: 458948.28830989986\n",
      "ELBO: 458914.94554465066\n"
     ]
    },
    {
     "name": "stderr",
     "output_type": "stream",
     "text": [
      "100%|███████████████████████████████████████████████| 12/12 [00:00<00:00, 73.98it/s]\n"
     ]
    },
    {
     "name": "stdout",
     "output_type": "stream",
     "text": [
      "Updating LAMBDA\n"
     ]
    },
    {
     "name": "stderr",
     "output_type": "stream",
     "text": [
      "100%|█████████████████████████████████████████████| 10/10 [00:00<00:00, 2065.65it/s]\n"
     ]
    },
    {
     "name": "stdout",
     "output_type": "stream",
     "text": [
      "4\n",
      "ELBO: 458821.1436227988\n",
      "ELBO: 459098.83264984837\n"
     ]
    },
    {
     "name": "stderr",
     "output_type": "stream",
     "text": [
      "100%|███████████████████████████████████████████████| 12/12 [00:00<00:00, 73.07it/s]\n"
     ]
    },
    {
     "name": "stdout",
     "output_type": "stream",
     "text": [
      "Updating LAMBDA\n"
     ]
    },
    {
     "name": "stderr",
     "output_type": "stream",
     "text": [
      "100%|█████████████████████████████████████████████| 10/10 [00:00<00:00, 1804.62it/s]\n"
     ]
    },
    {
     "name": "stdout",
     "output_type": "stream",
     "text": [
      "5\n",
      "ELBO: 458821.75796597963\n",
      "ELBO: 458982.6987189419\n"
     ]
    },
    {
     "name": "stderr",
     "output_type": "stream",
     "text": [
      "100%|███████████████████████████████████████████████| 12/12 [00:00<00:00, 74.75it/s]\n"
     ]
    },
    {
     "name": "stdout",
     "output_type": "stream",
     "text": [
      "Updating LAMBDA\n"
     ]
    },
    {
     "name": "stderr",
     "output_type": "stream",
     "text": [
      "100%|█████████████████████████████████████████████| 10/10 [00:00<00:00, 2163.57it/s]\n"
     ]
    },
    {
     "name": "stdout",
     "output_type": "stream",
     "text": [
      "6\n",
      "ELBO: 458802.9954365284\n",
      "ELBO: 458837.2134142319\n"
     ]
    },
    {
     "name": "stderr",
     "output_type": "stream",
     "text": [
      "100%|███████████████████████████████████████████████| 12/12 [00:00<00:00, 75.27it/s]\n"
     ]
    },
    {
     "name": "stdout",
     "output_type": "stream",
     "text": [
      "Updating LAMBDA\n"
     ]
    },
    {
     "name": "stderr",
     "output_type": "stream",
     "text": [
      "100%|█████████████████████████████████████████████| 10/10 [00:00<00:00, 1943.61it/s]\n"
     ]
    },
    {
     "name": "stdout",
     "output_type": "stream",
     "text": [
      "iter  25\n",
      "1\n",
      "ELBO: 458914.94554465066\n",
      "ELBO: 458794.7425660929\n"
     ]
    },
    {
     "name": "stderr",
     "output_type": "stream",
     "text": [
      "100%|███████████████████████████████████████████████| 12/12 [00:00<00:00, 74.80it/s]\n"
     ]
    },
    {
     "name": "stdout",
     "output_type": "stream",
     "text": [
      "Updating LAMBDA\n"
     ]
    },
    {
     "name": "stderr",
     "output_type": "stream",
     "text": [
      "100%|█████████████████████████████████████████████| 10/10 [00:00<00:00, 2025.94it/s]\n"
     ]
    },
    {
     "name": "stdout",
     "output_type": "stream",
     "text": [
      "2\n",
      "ELBO: 459098.83264984837\n",
      "ELBO: 458836.07793937036\n"
     ]
    },
    {
     "name": "stderr",
     "output_type": "stream",
     "text": [
      "100%|███████████████████████████████████████████████| 12/12 [00:00<00:00, 72.86it/s]\n"
     ]
    },
    {
     "name": "stdout",
     "output_type": "stream",
     "text": [
      "Updating LAMBDA\n"
     ]
    },
    {
     "name": "stderr",
     "output_type": "stream",
     "text": [
      "100%|█████████████████████████████████████████████| 10/10 [00:00<00:00, 1905.46it/s]\n"
     ]
    },
    {
     "name": "stdout",
     "output_type": "stream",
     "text": [
      "3\n",
      "ELBO: 458982.6987189419\n",
      "ELBO: 458930.0203772598\n"
     ]
    },
    {
     "name": "stderr",
     "output_type": "stream",
     "text": [
      "100%|███████████████████████████████████████████████| 12/12 [00:00<00:00, 74.06it/s]\n"
     ]
    },
    {
     "name": "stdout",
     "output_type": "stream",
     "text": [
      "Updating LAMBDA\n"
     ]
    },
    {
     "name": "stderr",
     "output_type": "stream",
     "text": [
      "100%|█████████████████████████████████████████████| 10/10 [00:00<00:00, 1909.11it/s]\n"
     ]
    },
    {
     "name": "stdout",
     "output_type": "stream",
     "text": [
      "4\n",
      "ELBO: 458837.2134142319\n",
      "ELBO: 459123.62817657576\n"
     ]
    },
    {
     "name": "stderr",
     "output_type": "stream",
     "text": [
      "100%|███████████████████████████████████████████████| 12/12 [00:00<00:00, 73.78it/s]\n"
     ]
    },
    {
     "name": "stdout",
     "output_type": "stream",
     "text": [
      "Updating LAMBDA\n"
     ]
    },
    {
     "name": "stderr",
     "output_type": "stream",
     "text": [
      "100%|█████████████████████████████████████████████| 10/10 [00:00<00:00, 1762.39it/s]\n"
     ]
    },
    {
     "name": "stdout",
     "output_type": "stream",
     "text": [
      "5\n",
      "ELBO: 458825.24756557064\n",
      "ELBO: 459011.37277654937\n"
     ]
    },
    {
     "name": "stderr",
     "output_type": "stream",
     "text": [
      "100%|███████████████████████████████████████████████| 12/12 [00:00<00:00, 72.49it/s]\n"
     ]
    },
    {
     "name": "stdout",
     "output_type": "stream",
     "text": [
      "Updating LAMBDA\n"
     ]
    },
    {
     "name": "stderr",
     "output_type": "stream",
     "text": [
      "100%|█████████████████████████████████████████████| 10/10 [00:00<00:00, 1929.75it/s]\n"
     ]
    },
    {
     "name": "stdout",
     "output_type": "stream",
     "text": [
      "6\n",
      "ELBO: 458802.9954365284\n",
      "ELBO: 458851.07024145784\n"
     ]
    },
    {
     "name": "stderr",
     "output_type": "stream",
     "text": [
      "100%|███████████████████████████████████████████████| 12/12 [00:00<00:00, 74.12it/s]\n"
     ]
    },
    {
     "name": "stdout",
     "output_type": "stream",
     "text": [
      "Updating LAMBDA\n"
     ]
    },
    {
     "name": "stderr",
     "output_type": "stream",
     "text": [
      "100%|█████████████████████████████████████████████| 10/10 [00:00<00:00, 1867.37it/s]\n"
     ]
    },
    {
     "name": "stdout",
     "output_type": "stream",
     "text": [
      "iter  26\n",
      "1\n",
      "ELBO: 458930.0203772598\n",
      "ELBO: 458794.7425660929\n"
     ]
    },
    {
     "name": "stderr",
     "output_type": "stream",
     "text": [
      "100%|███████████████████████████████████████████████| 12/12 [00:00<00:00, 75.44it/s]\n"
     ]
    },
    {
     "name": "stdout",
     "output_type": "stream",
     "text": [
      "Updating LAMBDA\n"
     ]
    },
    {
     "name": "stderr",
     "output_type": "stream",
     "text": [
      "100%|█████████████████████████████████████████████| 10/10 [00:00<00:00, 2078.14it/s]\n"
     ]
    },
    {
     "name": "stdout",
     "output_type": "stream",
     "text": [
      "2\n",
      "ELBO: 459123.62817657576\n",
      "ELBO: 458839.64670665434\n"
     ]
    },
    {
     "name": "stderr",
     "output_type": "stream",
     "text": [
      "100%|███████████████████████████████████████████████| 12/12 [00:00<00:00, 74.78it/s]\n"
     ]
    },
    {
     "name": "stdout",
     "output_type": "stream",
     "text": [
      "Updating LAMBDA\n"
     ]
    },
    {
     "name": "stderr",
     "output_type": "stream",
     "text": [
      "100%|█████████████████████████████████████████████| 10/10 [00:00<00:00, 1983.69it/s]\n"
     ]
    },
    {
     "name": "stdout",
     "output_type": "stream",
     "text": [
      "3\n",
      "ELBO: 459011.37277654937\n",
      "ELBO: 458942.97381649964\n"
     ]
    },
    {
     "name": "stderr",
     "output_type": "stream",
     "text": [
      "100%|███████████████████████████████████████████████| 12/12 [00:00<00:00, 74.60it/s]\n"
     ]
    },
    {
     "name": "stdout",
     "output_type": "stream",
     "text": [
      "Updating LAMBDA\n"
     ]
    },
    {
     "name": "stderr",
     "output_type": "stream",
     "text": [
      "100%|█████████████████████████████████████████████| 10/10 [00:00<00:00, 1822.50it/s]\n"
     ]
    },
    {
     "name": "stdout",
     "output_type": "stream",
     "text": [
      "4\n",
      "ELBO: 458851.07024145784\n",
      "ELBO: 459143.90724350436\n"
     ]
    },
    {
     "name": "stderr",
     "output_type": "stream",
     "text": [
      "100%|███████████████████████████████████████████████| 12/12 [00:00<00:00, 73.35it/s]\n"
     ]
    },
    {
     "name": "stdout",
     "output_type": "stream",
     "text": [
      "Updating LAMBDA\n"
     ]
    },
    {
     "name": "stderr",
     "output_type": "stream",
     "text": [
      "100%|█████████████████████████████████████████████| 10/10 [00:00<00:00, 1880.43it/s]\n"
     ]
    },
    {
     "name": "stdout",
     "output_type": "stream",
     "text": [
      "5\n",
      "ELBO: 458828.0574902495\n",
      "ELBO: 459035.3386039743\n"
     ]
    },
    {
     "name": "stderr",
     "output_type": "stream",
     "text": [
      "100%|███████████████████████████████████████████████| 12/12 [00:00<00:00, 74.32it/s]\n"
     ]
    },
    {
     "name": "stdout",
     "output_type": "stream",
     "text": [
      "Updating LAMBDA\n"
     ]
    },
    {
     "name": "stderr",
     "output_type": "stream",
     "text": [
      "100%|█████████████████████████████████████████████| 10/10 [00:00<00:00, 1895.64it/s]\n"
     ]
    },
    {
     "name": "stdout",
     "output_type": "stream",
     "text": [
      "6\n",
      "ELBO: 458802.9954365284\n",
      "ELBO: 458863.1669180607\n"
     ]
    },
    {
     "name": "stderr",
     "output_type": "stream",
     "text": [
      "100%|███████████████████████████████████████████████| 12/12 [00:00<00:00, 73.30it/s]\n"
     ]
    },
    {
     "name": "stdout",
     "output_type": "stream",
     "text": [
      "Updating LAMBDA\n"
     ]
    },
    {
     "name": "stderr",
     "output_type": "stream",
     "text": [
      "100%|█████████████████████████████████████████████| 10/10 [00:00<00:00, 1967.40it/s]\n"
     ]
    },
    {
     "name": "stdout",
     "output_type": "stream",
     "text": [
      "iter  27\n",
      "1\n",
      "ELBO: 458942.97381649964\n",
      "ELBO: 458794.7425660929\n"
     ]
    },
    {
     "name": "stderr",
     "output_type": "stream",
     "text": [
      "100%|███████████████████████████████████████████████| 12/12 [00:00<00:00, 71.69it/s]\n"
     ]
    },
    {
     "name": "stdout",
     "output_type": "stream",
     "text": [
      "Updating LAMBDA\n"
     ]
    },
    {
     "name": "stderr",
     "output_type": "stream",
     "text": [
      "100%|█████████████████████████████████████████████| 10/10 [00:00<00:00, 1675.31it/s]\n"
     ]
    },
    {
     "name": "stdout",
     "output_type": "stream",
     "text": [
      "2\n",
      "ELBO: 459143.90724350436\n",
      "ELBO: 458842.688569303\n"
     ]
    },
    {
     "name": "stderr",
     "output_type": "stream",
     "text": [
      "100%|███████████████████████████████████████████████| 12/12 [00:00<00:00, 72.30it/s]\n"
     ]
    },
    {
     "name": "stdout",
     "output_type": "stream",
     "text": [
      "Updating LAMBDA\n"
     ]
    },
    {
     "name": "stderr",
     "output_type": "stream",
     "text": [
      "100%|█████████████████████████████████████████████| 10/10 [00:00<00:00, 2074.74it/s]\n"
     ]
    },
    {
     "name": "stdout",
     "output_type": "stream",
     "text": [
      "3\n",
      "ELBO: 459035.3386039743\n",
      "ELBO: 458954.16288508347\n"
     ]
    },
    {
     "name": "stderr",
     "output_type": "stream",
     "text": [
      "100%|███████████████████████████████████████████████| 12/12 [00:00<00:00, 72.91it/s]\n"
     ]
    },
    {
     "name": "stdout",
     "output_type": "stream",
     "text": [
      "Updating LAMBDA\n"
     ]
    },
    {
     "name": "stderr",
     "output_type": "stream",
     "text": [
      "100%|█████████████████████████████████████████████| 10/10 [00:00<00:00, 1956.21it/s]\n"
     ]
    },
    {
     "name": "stdout",
     "output_type": "stream",
     "text": [
      "4\n",
      "ELBO: 458863.1669180607\n",
      "ELBO: 459160.58597830497\n"
     ]
    },
    {
     "name": "stderr",
     "output_type": "stream",
     "text": [
      "100%|███████████████████████████████████████████████| 12/12 [00:00<00:00, 75.03it/s]\n"
     ]
    },
    {
     "name": "stdout",
     "output_type": "stream",
     "text": [
      "Updating LAMBDA\n"
     ]
    },
    {
     "name": "stderr",
     "output_type": "stream",
     "text": [
      "100%|█████████████████████████████████████████████| 10/10 [00:00<00:00, 1927.53it/s]\n"
     ]
    },
    {
     "name": "stdout",
     "output_type": "stream",
     "text": [
      "5\n",
      "ELBO: 458830.3451986422\n",
      "ELBO: 459055.48391517013\n"
     ]
    },
    {
     "name": "stderr",
     "output_type": "stream",
     "text": [
      "100%|███████████████████████████████████████████████| 12/12 [00:00<00:00, 74.91it/s]\n"
     ]
    },
    {
     "name": "stdout",
     "output_type": "stream",
     "text": [
      "Updating LAMBDA\n"
     ]
    },
    {
     "name": "stderr",
     "output_type": "stream",
     "text": [
      "100%|█████████████████████████████████████████████| 10/10 [00:00<00:00, 2104.52it/s]\n"
     ]
    },
    {
     "name": "stdout",
     "output_type": "stream",
     "text": [
      "6\n",
      "ELBO: 458802.9954365284\n",
      "ELBO: 458873.84621282795\n"
     ]
    },
    {
     "name": "stderr",
     "output_type": "stream",
     "text": [
      "100%|███████████████████████████████████████████████| 12/12 [00:00<00:00, 74.22it/s]\n"
     ]
    },
    {
     "name": "stdout",
     "output_type": "stream",
     "text": [
      "Updating LAMBDA\n"
     ]
    },
    {
     "name": "stderr",
     "output_type": "stream",
     "text": [
      "100%|█████████████████████████████████████████████| 10/10 [00:00<00:00, 2063.72it/s]\n"
     ]
    },
    {
     "name": "stdout",
     "output_type": "stream",
     "text": [
      "iter  28\n",
      "1\n",
      "ELBO: 458954.16288508347\n",
      "ELBO: 458794.7425660929\n"
     ]
    },
    {
     "name": "stderr",
     "output_type": "stream",
     "text": [
      "100%|███████████████████████████████████████████████| 12/12 [00:00<00:00, 70.80it/s]\n"
     ]
    },
    {
     "name": "stdout",
     "output_type": "stream",
     "text": [
      "Updating LAMBDA\n"
     ]
    },
    {
     "name": "stderr",
     "output_type": "stream",
     "text": [
      "100%|█████████████████████████████████████████████| 10/10 [00:00<00:00, 1719.40it/s]\n"
     ]
    },
    {
     "name": "stdout",
     "output_type": "stream",
     "text": [
      "2\n",
      "ELBO: 459160.58597830497\n",
      "ELBO: 458845.3042357567\n"
     ]
    },
    {
     "name": "stderr",
     "output_type": "stream",
     "text": [
      "100%|███████████████████████████████████████████████| 12/12 [00:00<00:00, 71.97it/s]\n"
     ]
    },
    {
     "name": "stdout",
     "output_type": "stream",
     "text": [
      "Updating LAMBDA\n"
     ]
    },
    {
     "name": "stderr",
     "output_type": "stream",
     "text": [
      "100%|█████████████████████████████████████████████| 10/10 [00:00<00:00, 2032.52it/s]\n"
     ]
    },
    {
     "name": "stdout",
     "output_type": "stream",
     "text": [
      "3\n",
      "ELBO: 459055.48391517013\n",
      "ELBO: 458963.87679307297\n"
     ]
    },
    {
     "name": "stderr",
     "output_type": "stream",
     "text": [
      "100%|███████████████████████████████████████████████| 12/12 [00:00<00:00, 74.34it/s]\n"
     ]
    },
    {
     "name": "stdout",
     "output_type": "stream",
     "text": [
      "Updating LAMBDA\n"
     ]
    },
    {
     "name": "stderr",
     "output_type": "stream",
     "text": [
      "100%|█████████████████████████████████████████████| 10/10 [00:00<00:00, 2190.92it/s]\n"
     ]
    },
    {
     "name": "stdout",
     "output_type": "stream",
     "text": [
      "4\n",
      "ELBO: 458873.84621282795\n",
      "ELBO: 459174.4260800797\n"
     ]
    },
    {
     "name": "stderr",
     "output_type": "stream",
     "text": [
      "100%|███████████████████████████████████████████████| 12/12 [00:00<00:00, 73.45it/s]\n"
     ]
    },
    {
     "name": "stdout",
     "output_type": "stream",
     "text": [
      "Updating LAMBDA\n"
     ]
    },
    {
     "name": "stderr",
     "output_type": "stream",
     "text": [
      "100%|█████████████████████████████████████████████| 10/10 [00:00<00:00, 2225.80it/s]\n"
     ]
    },
    {
     "name": "stdout",
     "output_type": "stream",
     "text": [
      "5\n",
      "ELBO: 458832.22707422206\n",
      "ELBO: 459072.5359533512\n"
     ]
    },
    {
     "name": "stderr",
     "output_type": "stream",
     "text": [
      "100%|███████████████████████████████████████████████| 12/12 [00:00<00:00, 74.03it/s]\n"
     ]
    },
    {
     "name": "stdout",
     "output_type": "stream",
     "text": [
      "Updating LAMBDA\n"
     ]
    },
    {
     "name": "stderr",
     "output_type": "stream",
     "text": [
      "100%|█████████████████████████████████████████████| 10/10 [00:00<00:00, 2128.98it/s]\n"
     ]
    },
    {
     "name": "stdout",
     "output_type": "stream",
     "text": [
      "6\n",
      "ELBO: 458802.9954365284\n",
      "ELBO: 458883.3714024267\n"
     ]
    },
    {
     "name": "stderr",
     "output_type": "stream",
     "text": [
      "100%|███████████████████████████████████████████████| 12/12 [00:00<00:00, 74.44it/s]\n"
     ]
    },
    {
     "name": "stdout",
     "output_type": "stream",
     "text": [
      "Updating LAMBDA\n"
     ]
    },
    {
     "name": "stderr",
     "output_type": "stream",
     "text": [
      "100%|█████████████████████████████████████████████| 10/10 [00:00<00:00, 2181.01it/s]\n"
     ]
    },
    {
     "name": "stdout",
     "output_type": "stream",
     "text": [
      "iter  29\n",
      "1\n",
      "ELBO: 458963.87679307297\n",
      "ELBO: 458794.7425660929\n"
     ]
    },
    {
     "name": "stderr",
     "output_type": "stream",
     "text": [
      "100%|███████████████████████████████████████████████| 12/12 [00:00<00:00, 74.01it/s]\n"
     ]
    },
    {
     "name": "stdout",
     "output_type": "stream",
     "text": [
      "Updating LAMBDA\n"
     ]
    },
    {
     "name": "stderr",
     "output_type": "stream",
     "text": [
      "100%|█████████████████████████████████████████████| 10/10 [00:00<00:00, 2035.77it/s]\n"
     ]
    },
    {
     "name": "stdout",
     "output_type": "stream",
     "text": [
      "2\n",
      "ELBO: 459174.4260800797\n",
      "ELBO: 458847.56860557024\n"
     ]
    },
    {
     "name": "stderr",
     "output_type": "stream",
     "text": [
      "100%|███████████████████████████████████████████████| 12/12 [00:00<00:00, 75.35it/s]\n"
     ]
    },
    {
     "name": "stdout",
     "output_type": "stream",
     "text": [
      "Updating LAMBDA\n"
     ]
    },
    {
     "name": "stderr",
     "output_type": "stream",
     "text": [
      "100%|█████████████████████████████████████████████| 10/10 [00:00<00:00, 2236.84it/s]\n"
     ]
    },
    {
     "name": "stdout",
     "output_type": "stream",
     "text": [
      "3\n",
      "ELBO: 459072.5359533512\n",
      "ELBO: 458972.35835115105\n"
     ]
    },
    {
     "name": "stderr",
     "output_type": "stream",
     "text": [
      "100%|███████████████████████████████████████████████| 12/12 [00:00<00:00, 75.69it/s]\n"
     ]
    },
    {
     "name": "stdout",
     "output_type": "stream",
     "text": [
      "Updating LAMBDA\n"
     ]
    },
    {
     "name": "stderr",
     "output_type": "stream",
     "text": [
      "100%|█████████████████████████████████████████████| 10/10 [00:00<00:00, 1946.31it/s]\n"
     ]
    },
    {
     "name": "stdout",
     "output_type": "stream",
     "text": [
      "4\n",
      "ELBO: 458883.3714024267\n",
      "ELBO: 459186.00520386256\n"
     ]
    },
    {
     "name": "stderr",
     "output_type": "stream",
     "text": [
      "100%|███████████████████████████████████████████████| 12/12 [00:00<00:00, 75.19it/s]\n"
     ]
    },
    {
     "name": "stdout",
     "output_type": "stream",
     "text": [
      "Updating LAMBDA\n"
     ]
    },
    {
     "name": "stderr",
     "output_type": "stream",
     "text": [
      "100%|█████████████████████████████████████████████| 10/10 [00:00<00:00, 2188.52it/s]\n"
     ]
    },
    {
     "name": "stdout",
     "output_type": "stream",
     "text": [
      "5\n",
      "ELBO: 458833.78934164613\n",
      "ELBO: 459087.09986659547\n"
     ]
    },
    {
     "name": "stderr",
     "output_type": "stream",
     "text": [
      "100%|███████████████████████████████████████████████| 12/12 [00:00<00:00, 74.87it/s]\n"
     ]
    },
    {
     "name": "stdout",
     "output_type": "stream",
     "text": [
      "Updating LAMBDA\n"
     ]
    },
    {
     "name": "stderr",
     "output_type": "stream",
     "text": [
      "100%|█████████████████████████████████████████████| 10/10 [00:00<00:00, 2109.60it/s]\n"
     ]
    },
    {
     "name": "stdout",
     "output_type": "stream",
     "text": [
      "6\n",
      "ELBO: 458802.9954365284\n",
      "ELBO: 458891.9517142243\n"
     ]
    },
    {
     "name": "stderr",
     "output_type": "stream",
     "text": [
      "100%|███████████████████████████████████████████████| 12/12 [00:00<00:00, 74.75it/s]\n"
     ]
    },
    {
     "name": "stdout",
     "output_type": "stream",
     "text": [
      "Updating LAMBDA\n"
     ]
    },
    {
     "name": "stderr",
     "output_type": "stream",
     "text": [
      "100%|█████████████████████████████████████████████| 10/10 [00:00<00:00, 1944.42it/s]\n"
     ]
    },
    {
     "name": "stdout",
     "output_type": "stream",
     "text": [
      "iter  30\n",
      "1\n",
      "ELBO: 458972.35835115105\n",
      "ELBO: 458794.7425660929\n"
     ]
    },
    {
     "name": "stderr",
     "output_type": "stream",
     "text": [
      "100%|███████████████████████████████████████████████| 12/12 [00:00<00:00, 74.84it/s]\n"
     ]
    },
    {
     "name": "stdout",
     "output_type": "stream",
     "text": [
      "Updating LAMBDA\n"
     ]
    },
    {
     "name": "stderr",
     "output_type": "stream",
     "text": [
      "100%|█████████████████████████████████████████████| 10/10 [00:00<00:00, 2213.35it/s]\n"
     ]
    },
    {
     "name": "stdout",
     "output_type": "stream",
     "text": [
      "2\n",
      "ELBO: 459186.00520386256\n",
      "ELBO: 458849.5348982566\n"
     ]
    },
    {
     "name": "stderr",
     "output_type": "stream",
     "text": [
      "100%|███████████████████████████████████████████████| 12/12 [00:00<00:00, 74.31it/s]\n"
     ]
    },
    {
     "name": "stdout",
     "output_type": "stream",
     "text": [
      "Updating LAMBDA\n"
     ]
    },
    {
     "name": "stderr",
     "output_type": "stream",
     "text": [
      "100%|█████████████████████████████████████████████| 10/10 [00:00<00:00, 2146.85it/s]\n"
     ]
    },
    {
     "name": "stdout",
     "output_type": "stream",
     "text": [
      "3\n",
      "ELBO: 459087.09986659547\n",
      "ELBO: 458979.80499750754\n"
     ]
    },
    {
     "name": "stderr",
     "output_type": "stream",
     "text": [
      "100%|███████████████████████████████████████████████| 12/12 [00:00<00:00, 74.42it/s]\n"
     ]
    },
    {
     "name": "stdout",
     "output_type": "stream",
     "text": [
      "Updating LAMBDA\n"
     ]
    },
    {
     "name": "stderr",
     "output_type": "stream",
     "text": [
      "100%|█████████████████████████████████████████████| 10/10 [00:00<00:00, 1921.26it/s]\n"
     ]
    },
    {
     "name": "stdout",
     "output_type": "stream",
     "text": [
      "4\n",
      "ELBO: 458891.9517142243\n",
      "ELBO: 459195.76550253475\n"
     ]
    },
    {
     "name": "stderr",
     "output_type": "stream",
     "text": [
      "100%|███████████████████████████████████████████████| 12/12 [00:00<00:00, 73.17it/s]\n"
     ]
    },
    {
     "name": "stdout",
     "output_type": "stream",
     "text": [
      "Updating LAMBDA\n"
     ]
    },
    {
     "name": "stderr",
     "output_type": "stream",
     "text": [
      "100%|█████████████████████████████████████████████| 10/10 [00:00<00:00, 1900.80it/s]\n"
     ]
    },
    {
     "name": "stdout",
     "output_type": "stream",
     "text": [
      "5\n",
      "ELBO: 458835.10112238594\n",
      "ELBO: 459099.706786764\n"
     ]
    },
    {
     "name": "stderr",
     "output_type": "stream",
     "text": [
      "100%|███████████████████████████████████████████████| 12/12 [00:00<00:00, 72.91it/s]\n"
     ]
    },
    {
     "name": "stdout",
     "output_type": "stream",
     "text": [
      "Updating LAMBDA\n"
     ]
    },
    {
     "name": "stderr",
     "output_type": "stream",
     "text": [
      "100%|█████████████████████████████████████████████| 10/10 [00:00<00:00, 2010.02it/s]\n"
     ]
    },
    {
     "name": "stdout",
     "output_type": "stream",
     "text": [
      "6\n",
      "ELBO: 458802.9954365284\n",
      "ELBO: 458899.74305909825\n"
     ]
    },
    {
     "name": "stderr",
     "output_type": "stream",
     "text": [
      "100%|███████████████████████████████████████████████| 12/12 [00:00<00:00, 74.12it/s]\n"
     ]
    },
    {
     "name": "stdout",
     "output_type": "stream",
     "text": [
      "Updating LAMBDA\n"
     ]
    },
    {
     "name": "stderr",
     "output_type": "stream",
     "text": [
      "100%|█████████████████████████████████████████████| 10/10 [00:00<00:00, 2037.16it/s]\n"
     ]
    },
    {
     "name": "stdout",
     "output_type": "stream",
     "text": [
      "iter  31\n",
      "1\n",
      "ELBO: 458979.80499750754\n",
      "ELBO: 458794.7425660929\n"
     ]
    },
    {
     "name": "stderr",
     "output_type": "stream",
     "text": [
      "100%|███████████████████████████████████████████████| 12/12 [00:00<00:00, 73.92it/s]\n"
     ]
    },
    {
     "name": "stdout",
     "output_type": "stream",
     "text": [
      "Updating LAMBDA\n"
     ]
    },
    {
     "name": "stderr",
     "output_type": "stream",
     "text": [
      "100%|█████████████████████████████████████████████| 10/10 [00:00<00:00, 2101.35it/s]\n"
     ]
    },
    {
     "name": "stdout",
     "output_type": "stream",
     "text": [
      "2\n",
      "ELBO: 459195.76550253475\n",
      "ELBO: 458851.24408584554\n"
     ]
    },
    {
     "name": "stderr",
     "output_type": "stream",
     "text": [
      "100%|███████████████████████████████████████████████| 12/12 [00:00<00:00, 73.55it/s]\n"
     ]
    },
    {
     "name": "stdout",
     "output_type": "stream",
     "text": [
      "Updating LAMBDA\n"
     ]
    },
    {
     "name": "stderr",
     "output_type": "stream",
     "text": [
      "100%|█████████████████████████████████████████████| 10/10 [00:00<00:00, 2183.85it/s]\n"
     ]
    },
    {
     "name": "stdout",
     "output_type": "stream",
     "text": [
      "3\n",
      "ELBO: 459099.706786764\n",
      "ELBO: 458986.41360446805\n"
     ]
    },
    {
     "name": "stderr",
     "output_type": "stream",
     "text": [
      "100%|███████████████████████████████████████████████| 12/12 [00:00<00:00, 71.80it/s]\n"
     ]
    },
    {
     "name": "stdout",
     "output_type": "stream",
     "text": [
      "Updating LAMBDA\n"
     ]
    },
    {
     "name": "stderr",
     "output_type": "stream",
     "text": [
      "100%|█████████████████████████████████████████████| 10/10 [00:00<00:00, 1724.77it/s]\n"
     ]
    },
    {
     "name": "stdout",
     "output_type": "stream",
     "text": [
      "4\n",
      "ELBO: 458899.74305909825\n",
      "ELBO: 459204.03729044093\n"
     ]
    },
    {
     "name": "stderr",
     "output_type": "stream",
     "text": [
      "100%|███████████████████████████████████████████████| 12/12 [00:00<00:00, 74.28it/s]\n"
     ]
    },
    {
     "name": "stdout",
     "output_type": "stream",
     "text": [
      "Updating LAMBDA\n"
     ]
    },
    {
     "name": "stderr",
     "output_type": "stream",
     "text": [
      "100%|█████████████████████████████████████████████| 10/10 [00:00<00:00, 2037.55it/s]\n"
     ]
    },
    {
     "name": "stdout",
     "output_type": "stream",
     "text": [
      "5\n",
      "ELBO: 458836.21262857085\n",
      "ELBO: 459110.8882812874\n"
     ]
    },
    {
     "name": "stderr",
     "output_type": "stream",
     "text": [
      "100%|███████████████████████████████████████████████| 12/12 [00:00<00:00, 72.32it/s]\n"
     ]
    },
    {
     "name": "stdout",
     "output_type": "stream",
     "text": [
      "Updating LAMBDA\n"
     ]
    },
    {
     "name": "stderr",
     "output_type": "stream",
     "text": [
      "100%|█████████████████████████████████████████████| 10/10 [00:00<00:00, 1857.37it/s]\n"
     ]
    },
    {
     "name": "stdout",
     "output_type": "stream",
     "text": [
      "6\n",
      "ELBO: 458802.9954365284\n",
      "ELBO: 458906.86368434486\n"
     ]
    },
    {
     "name": "stderr",
     "output_type": "stream",
     "text": [
      "100%|███████████████████████████████████████████████| 12/12 [00:00<00:00, 73.67it/s]\n"
     ]
    },
    {
     "name": "stdout",
     "output_type": "stream",
     "text": [
      "Updating LAMBDA\n"
     ]
    },
    {
     "name": "stderr",
     "output_type": "stream",
     "text": [
      "100%|█████████████████████████████████████████████| 10/10 [00:00<00:00, 2157.45it/s]\n"
     ]
    },
    {
     "name": "stdout",
     "output_type": "stream",
     "text": [
      "iter  32\n",
      "1\n",
      "ELBO: 458986.41360446805\n",
      "ELBO: 458794.7425660929\n"
     ]
    },
    {
     "name": "stderr",
     "output_type": "stream",
     "text": [
      "100%|███████████████████████████████████████████████| 12/12 [00:00<00:00, 73.72it/s]\n"
     ]
    },
    {
     "name": "stdout",
     "output_type": "stream",
     "text": [
      "Updating LAMBDA\n"
     ]
    },
    {
     "name": "stderr",
     "output_type": "stream",
     "text": [
      "100%|█████████████████████████████████████████████| 10/10 [00:00<00:00, 2119.08it/s]\n"
     ]
    },
    {
     "name": "stdout",
     "output_type": "stream",
     "text": [
      "2\n",
      "ELBO: 459204.03729044093\n",
      "ELBO: 458852.73408270587\n"
     ]
    },
    {
     "name": "stderr",
     "output_type": "stream",
     "text": [
      "100%|███████████████████████████████████████████████| 12/12 [00:00<00:00, 74.57it/s]\n"
     ]
    },
    {
     "name": "stdout",
     "output_type": "stream",
     "text": [
      "Updating LAMBDA\n"
     ]
    },
    {
     "name": "stderr",
     "output_type": "stream",
     "text": [
      "100%|█████████████████████████████████████████████| 10/10 [00:00<00:00, 2196.89it/s]\n"
     ]
    },
    {
     "name": "stdout",
     "output_type": "stream",
     "text": [
      "3\n",
      "ELBO: 459110.8882812874\n",
      "ELBO: 458992.4562972261\n"
     ]
    },
    {
     "name": "stderr",
     "output_type": "stream",
     "text": [
      "100%|███████████████████████████████████████████████| 12/12 [00:00<00:00, 73.78it/s]\n"
     ]
    },
    {
     "name": "stdout",
     "output_type": "stream",
     "text": [
      "Updating LAMBDA\n"
     ]
    },
    {
     "name": "stderr",
     "output_type": "stream",
     "text": [
      "100%|█████████████████████████████████████████████| 10/10 [00:00<00:00, 1965.01it/s]\n"
     ]
    },
    {
     "name": "stdout",
     "output_type": "stream",
     "text": [
      "4\n",
      "ELBO: 458906.86368434486\n",
      "ELBO: 459211.09610036353\n"
     ]
    },
    {
     "name": "stderr",
     "output_type": "stream",
     "text": [
      "100%|███████████████████████████████████████████████| 12/12 [00:00<00:00, 74.42it/s]\n"
     ]
    },
    {
     "name": "stdout",
     "output_type": "stream",
     "text": [
      "Updating LAMBDA\n"
     ]
    },
    {
     "name": "stderr",
     "output_type": "stream",
     "text": [
      "100%|█████████████████████████████████████████████| 10/10 [00:00<00:00, 2063.92it/s]\n"
     ]
    },
    {
     "name": "stdout",
     "output_type": "stream",
     "text": [
      "5\n",
      "ELBO: 458837.1600888169\n",
      "ELBO: 459121.5169577791\n"
     ]
    },
    {
     "name": "stderr",
     "output_type": "stream",
     "text": [
      "100%|███████████████████████████████████████████████| 12/12 [00:00<00:00, 74.03it/s]\n"
     ]
    },
    {
     "name": "stdout",
     "output_type": "stream",
     "text": [
      "Updating LAMBDA\n"
     ]
    },
    {
     "name": "stderr",
     "output_type": "stream",
     "text": [
      "100%|█████████████████████████████████████████████| 10/10 [00:00<00:00, 2000.72it/s]\n"
     ]
    },
    {
     "name": "stdout",
     "output_type": "stream",
     "text": [
      "6\n",
      "ELBO: 458802.9954365284\n",
      "ELBO: 458913.4017060094\n"
     ]
    },
    {
     "name": "stderr",
     "output_type": "stream",
     "text": [
      "100%|███████████████████████████████████████████████| 12/12 [00:00<00:00, 73.02it/s]\n"
     ]
    },
    {
     "name": "stdout",
     "output_type": "stream",
     "text": [
      "Updating LAMBDA\n"
     ]
    },
    {
     "name": "stderr",
     "output_type": "stream",
     "text": [
      "100%|█████████████████████████████████████████████| 10/10 [00:00<00:00, 2025.84it/s]\n"
     ]
    },
    {
     "name": "stdout",
     "output_type": "stream",
     "text": [
      "iter  33\n",
      "1\n",
      "ELBO: 458992.4562972261\n",
      "ELBO: 458794.7425660929\n"
     ]
    },
    {
     "name": "stderr",
     "output_type": "stream",
     "text": [
      "100%|███████████████████████████████████████████████| 12/12 [00:00<00:00, 74.17it/s]\n"
     ]
    },
    {
     "name": "stdout",
     "output_type": "stream",
     "text": [
      "Updating LAMBDA\n"
     ]
    },
    {
     "name": "stderr",
     "output_type": "stream",
     "text": [
      "100%|█████████████████████████████████████████████| 10/10 [00:00<00:00, 2094.74it/s]\n"
     ]
    },
    {
     "name": "stdout",
     "output_type": "stream",
     "text": [
      "2\n",
      "ELBO: 459211.09610036353\n",
      "ELBO: 458854.05070231005\n"
     ]
    },
    {
     "name": "stderr",
     "output_type": "stream",
     "text": [
      "  8%|████                                            | 1/12 [00:00<00:00, 40.55it/s]\n"
     ]
    },
    {
     "ename": "FloatingPointError",
     "evalue": "underflow encountered in exp",
     "output_type": "error",
     "traceback": [
      "\u001b[0;31m---------------------------------------------------------------------------\u001b[0m",
      "\u001b[0;31mFloatingPointError\u001b[0m                        Traceback (most recent call last)",
      "Cell \u001b[0;32mIn [139], line 5\u001b[0m\n\u001b[1;32m      3\u001b[0m \u001b[38;5;28;01mfor\u001b[39;00m i \u001b[38;5;129;01min\u001b[39;00m \u001b[38;5;28mrange\u001b[39m (\u001b[38;5;241m1\u001b[39m,N):\n\u001b[1;32m      4\u001b[0m     \u001b[38;5;28mprint\u001b[39m(i)\n\u001b[0;32m----> 5\u001b[0m     F_L_lmbda, F_L_gamma, F_L_phi \u001b[38;5;241m=\u001b[39m F_L(i, p_list,train_articles, train_nonzero_idxs, C) \n\u001b[1;32m      6\u001b[0m     F_s_lmbda, F_s_gamma, F_s_phi \u001b[38;5;241m=\u001b[39m F_s(i, k, p_list)\n\u001b[1;32m      7\u001b[0m     LAMBDA, GAMMA, PHI \u001b[38;5;241m=\u001b[39m p_list[i] \n",
      "Cell \u001b[0;32mIn [11], line 5\u001b[0m, in \u001b[0;36mF_L\u001b[0;34m(i, p_list, train_articles, train_nonzero_idxs, C)\u001b[0m\n\u001b[1;32m      3\u001b[0m LAMBDA, GAMMA, PHI \u001b[38;5;241m=\u001b[39m p_list[i]\n\u001b[1;32m      4\u001b[0m tau_Lam, tau_Gam, tau_Phi \u001b[38;5;241m=\u001b[39m tau(i, p_list, train_articles, train_nonzero_idxs, C)\n\u001b[0;32m----> 5\u001b[0m grad_LAMBDA, grad_GAMMA, grad_PHI \u001b[38;5;241m=\u001b[39m \u001b[43mdLdp\u001b[49m\u001b[43m(\u001b[49m\u001b[43mLAMBDA\u001b[49m\u001b[43m,\u001b[49m\u001b[43m \u001b[49m\u001b[43mGAMMA\u001b[49m\u001b[43m,\u001b[49m\u001b[43m \u001b[49m\u001b[43mPHI\u001b[49m\u001b[43m,\u001b[49m\u001b[43m \u001b[49m\u001b[43mtrain_articles\u001b[49m\u001b[43m,\u001b[49m\u001b[43m \u001b[49m\u001b[43mtrain_nonzero_idxs\u001b[49m\u001b[43m,\u001b[49m\u001b[43m \u001b[49m\u001b[43mC\u001b[49m\u001b[43m)\u001b[49m\n\u001b[1;32m      6\u001b[0m grad_dot_tau_Lam \u001b[38;5;241m=\u001b[39m np\u001b[38;5;241m.\u001b[39mmultiply(grad_LAMBDA , tau_Lam)\n\u001b[1;32m      7\u001b[0m grad_dot_tau_Gam \u001b[38;5;241m=\u001b[39m np\u001b[38;5;241m.\u001b[39mmultiply(grad_GAMMA , tau_Gam)\n",
      "Cell \u001b[0;32mIn [9], line 116\u001b[0m, in \u001b[0;36mdLdp\u001b[0;34m(LAMBDA, GAMMA, PHI, train_articles, train_nonzero_idxs, C)\u001b[0m\n\u001b[1;32m    113\u001b[0m     log_PHI_ij[k] \u001b[38;5;241m=\u001b[39m exponent\n\u001b[1;32m    115\u001b[0m \u001b[38;5;66;03m# Normalize using log-sum-exp trick\u001b[39;00m\n\u001b[0;32m--> 116\u001b[0m PHI_ij \u001b[38;5;241m=\u001b[39m np\u001b[38;5;241m.\u001b[39mexp(log_PHI_ij \u001b[38;5;241m-\u001b[39m \u001b[43mcompute_logsumexp\u001b[49m\u001b[43m(\u001b[49m\u001b[43mlog_PHI_ij\u001b[49m\u001b[43m)\u001b[49m)\n\u001b[1;32m    117\u001b[0m \u001b[38;5;28;01mtry\u001b[39;00m:\n\u001b[1;32m    118\u001b[0m     \u001b[38;5;28;01massert\u001b[39;00m(np\u001b[38;5;241m.\u001b[39mabs(np\u001b[38;5;241m.\u001b[39msum(PHI_ij) \u001b[38;5;241m-\u001b[39m \u001b[38;5;241m1\u001b[39m) \u001b[38;5;241m<\u001b[39m \u001b[38;5;241m1e-6\u001b[39m)\n",
      "Cell \u001b[0;32mIn [14], line 29\u001b[0m, in \u001b[0;36mcompute_logsumexp\u001b[0;34m(scores)\u001b[0m\n\u001b[1;32m     25\u001b[0m max_score \u001b[38;5;241m=\u001b[39m np\u001b[38;5;241m.\u001b[39mmax(scores, axis\u001b[38;5;241m=\u001b[39m\u001b[38;5;241m0\u001b[39m)\n\u001b[1;32m     27\u001b[0m \u001b[38;5;66;03m# Subtract scores by max and exponentiate\u001b[39;00m\n\u001b[1;32m     28\u001b[0m \u001b[38;5;66;03m# result = \u001b[39;00m\n\u001b[0;32m---> 29\u001b[0m exp_scores \u001b[38;5;241m=\u001b[39m \u001b[43mnp\u001b[49m\u001b[38;5;241;43m.\u001b[39;49m\u001b[43mexp\u001b[49m\u001b[43m(\u001b[49m\u001b[43mscores\u001b[49m\u001b[43m \u001b[49m\u001b[38;5;241;43m-\u001b[39;49m\u001b[43m \u001b[49m\u001b[43mmax_score\u001b[49m\u001b[43m)\u001b[49m\n\u001b[1;32m     31\u001b[0m \u001b[38;5;66;03m# Compute denominator\u001b[39;00m\n\u001b[1;32m     32\u001b[0m sum_exp \u001b[38;5;241m=\u001b[39m np\u001b[38;5;241m.\u001b[39msum(exp_scores)\n",
      "\u001b[0;31mFloatingPointError\u001b[0m: underflow encountered in exp"
     ]
    }
   ],
   "source": [
    "for t in range (T):\n",
    "    print(\"iter \", t) \n",
    "    for i in range (1,N):\n",
    "        print(i)\n",
    "        F_L_lmbda, F_L_gamma, F_L_phi = F_L(i, p_list,train_articles, train_nonzero_idxs, C) \n",
    "        F_s_lmbda, F_s_gamma, F_s_phi = F_s(i, k, p_list)\n",
    "        LAMBDA, GAMMA, PHI = p_list[i] \n",
    "\n",
    "        LAMBDA = LAMBDA + lr * (-F_L_lmbda + F_s_lmbda)\n",
    "        GAMMA = GAMMA + lr * (-F_L_gamma + F_s_gamma)\n",
    "        PHI = [phi + lr * (-f_l_phi + f_s_phi) for (phi, f_l_phi, f_s_phi) in zip(PHI, F_L_phi, F_s_phi)]\n",
    "        p_list[i] = [LAMBDA, GAMMA, PHI ]\n",
    "    His.append(copy.deepcopy(p_list))"
   ]
  },
  {
   "cell_type": "code",
   "execution_count": 140,
   "metadata": {
    "scrolled": true
   },
   "outputs": [
    {
     "name": "stdout",
     "output_type": "stream",
     "text": [
      "ELBO: 458794.7425660929\n",
      "ELBO: 456157.314625734\n",
      "ELBO: 455420.4761797897\n",
      "ELBO: 455027.6563235975\n",
      "ELBO: 455021.04599456786\n",
      "ELBO: 455410.9816148037\n",
      "ELBO: 456151.58994079276\n",
      "ELBO: 458802.9954365284\n",
      "ELBO: 458794.7425660929\n",
      "ELBO: 456451.1737822563\n",
      "ELBO: 455657.17397886683\n",
      "ELBO: 455168.2799776032\n",
      "ELBO: 455152.07447045535\n",
      "ELBO: 455642.57623391517\n",
      "ELBO: 456446.3907864045\n",
      "ELBO: 458802.9954365284\n",
      "ELBO: 458794.7425660929\n",
      "ELBO: 456740.01242314087\n",
      "ELBO: 455919.6089644983\n",
      "ELBO: 455356.7994886119\n",
      "ELBO: 455327.09576244844\n",
      "ELBO: 455900.192069818\n",
      "ELBO: 456737.28544101206\n",
      "ELBO: 458802.9954365284\n",
      "ELBO: 458794.7425660929\n",
      "ELBO: 457018.65737914306\n",
      "ELBO: 456195.6838494541\n",
      "ELBO: 455585.5629873759\n",
      "ELBO: 455540.0198177304\n",
      "ELBO: 456171.61970362137\n",
      "ELBO: 457018.76375987835\n",
      "ELBO: 458802.9954365284\n",
      "ELBO: 458794.7425660929\n",
      "ELBO: 457282.5961536811\n",
      "ELBO: 456476.13690891705\n",
      "ELBO: 455842.2815272956\n",
      "ELBO: 455780.3077184235\n",
      "ELBO: 456447.6655163435\n",
      "ELBO: 457285.92706371367\n",
      "ELBO: 458802.9954365284\n",
      "ELBO: 458794.7425660929\n",
      "ELBO: 457527.69653426233\n",
      "ELBO: 456754.0476696483\n",
      "ELBO: 456115.276630053\n",
      "ELBO: 456037.25362993754\n",
      "ELBO: 456721.81075788167\n",
      "ELBO: 457534.3098508018\n",
      "ELBO: 458802.9954365284\n",
      "ELBO: 458794.7425660929\n",
      "ELBO: 457750.4092364892\n",
      "ELBO: 457023.5411486134\n",
      "ELBO: 456395.648913758\n",
      "ELBO: 456302.2866145566\n",
      "ELBO: 456988.4956567998\n",
      "ELBO: 457760.0833122657\n",
      "ELBO: 458802.9954365284\n",
      "ELBO: 458794.7425660929\n",
      "ELBO: 457948.11846361274\n",
      "ELBO: 457279.5729160705\n",
      "ELBO: 456676.53885397455\n",
      "ELBO: 456569.01259180164\n",
      "ELBO: 457242.44370327704\n",
      "ELBO: 457960.3899833772\n",
      "ELBO: 458802.9954365284\n",
      "ELBO: 458794.7425660929\n",
      "ELBO: 458119.3999690314\n",
      "ELBO: 457518.0187076028\n",
      "ELBO: 456952.42894331866\n",
      "ELBO: 456832.5431636876\n",
      "ELBO: 457478.98836741375\n",
      "ELBO: 458133.6959490133\n",
      "ELBO: 458802.9954365284\n",
      "ELBO: 458794.7425660929\n",
      "ELBO: 458264.2608059344\n",
      "ELBO: 457735.5238944945\n",
      "ELBO: 457218.87083118595\n",
      "ELBO: 457088.78730347863\n",
      "ELBO: 457694.4467278258\n",
      "ELBO: 458279.976761992\n",
      "ELBO: 458802.9954365284\n",
      "ELBO: 458794.7425660929\n",
      "ELBO: 458384.13554226095\n",
      "ELBO: 457929.8156523699\n",
      "ELBO: 457472.131477599\n",
      "ELBO: 457333.8808333834\n",
      "ELBO: 457886.45765110716\n",
      "ELBO: 458400.634783531\n",
      "ELBO: 458802.9954365284\n",
      "ELBO: 458794.7425660929\n",
      "ELBO: 458481.5409019699\n",
      "ELBO: 458100.05374868924\n",
      "ELBO: 457708.94442039484\n",
      "ELBO: 457564.31308097485\n",
      "ELBO: 458054.19166055974\n",
      "ELBO: 458498.1416406272\n",
      "ELBO: 458802.9954365284\n",
      "ELBO: 458794.7425660929\n",
      "ELBO: 458559.5759424723\n",
      "ELBO: 458246.7663574986\n",
      "ELBO: 457926.5088595197\n",
      "ELBO: 457777.3401640211\n",
      "ELBO: 458198.2178290198\n",
      "ELBO: 458575.5711583274\n",
      "ELBO: 458802.9954365284\n",
      "ELBO: 458794.7425660929\n",
      "ELBO: 458621.42673032376\n",
      "ELBO: 458371.51529161073\n",
      "ELBO: 458122.75615255395\n",
      "ELBO: 457971.10099886206\n",
      "ELBO: 458320.15765370545\n",
      "ELBO: 458636.180814649\n",
      "ELBO: 458802.9954365284\n",
      "ELBO: 458794.7425660929\n",
      "ELBO: 458670.0354776702\n",
      "ELBO: 458476.4803877516\n",
      "ELBO: 458296.7041382011\n",
      "ELBO: 458144.57806712575\n",
      "ELBO: 458422.2922597518\n",
      "ELBO: 458683.0940366301\n",
      "ELBO: 458802.9954365284\n",
      "ELBO: 458794.7425660929\n",
      "ELBO: 458708.02086899953\n",
      "ELBO: 458564.09809897316\n",
      "ELBO: 458448.56919361406\n",
      "ELBO: 458297.6331953384\n",
      "ELBO: 458507.16221481864\n",
      "ELBO: 458719.10000708955\n",
      "ELBO: 458802.9954365284\n",
      "ELBO: 458794.7425660929\n",
      "ELBO: 458737.62887124496\n",
      "ELBO: 458636.82370968553\n",
      "ELBO: 458579.5250347609\n",
      "ELBO: 458430.96023659286\n",
      "ELBO: 458577.27121820487\n",
      "ELBO: 458746.570800136\n",
      "ELBO: 458802.9954365284\n",
      "ELBO: 458794.7425660929\n",
      "ELBO: 458760.7197495283\n",
      "ELBO: 458697.0543572213\n",
      "ELBO: 458691.2977407482\n",
      "ELBO: 458545.9118977205\n",
      "ELBO: 458634.9502312948\n",
      "ELBO: 458767.46029017714\n",
      "ELBO: 458802.9954365284\n",
      "ELBO: 458794.7425660929\n",
      "ELBO: 458778.7895619564\n",
      "ELBO: 458747.0202780826\n",
      "ELBO: 458785.81678081455\n",
      "ELBO: 458644.2056392426\n",
      "ELBO: 458682.3171656506\n",
      "ELBO: 458783.3383630996\n",
      "ELBO: 458802.9954365284\n",
      "ELBO: 458794.7425660929\n",
      "ELBO: 458793.01351291727\n",
      "ELBO: 458788.5432546695\n",
      "ELBO: 458865.1565028019\n",
      "ELBO: 458727.6778749168\n",
      "ELBO: 458721.24785564555\n",
      "ELBO: 458795.43666443805\n",
      "ELBO: 458802.9954365284\n",
      "ELBO: 458794.7425660929\n",
      "ELBO: 458804.30198056664\n",
      "ELBO: 458823.1741420961\n",
      "ELBO: 458931.3294380507\n",
      "ELBO: 458798.16831388924\n",
      "ELBO: 458753.3598048534\n",
      "ELBO: 458804.6984809581\n",
      "ELBO: 458802.9954365284\n",
      "ELBO: 458794.7425660929\n",
      "ELBO: 458813.3743312486\n",
      "ELBO: 458852.18337208737\n",
      "ELBO: 458986.16186312545\n",
      "ELBO: 458857.40618958895\n",
      "ELBO: 458780.0084698284\n",
      "ELBO: 458811.8334828849\n",
      "ELBO: 458802.9954365284\n",
      "ELBO: 458794.7425660929\n",
      "ELBO: 458820.7549017433\n",
      "ELBO: 458876.6270292992\n",
      "ELBO: 459031.3722650792\n",
      "ELBO: 458906.96714327816\n",
      "ELBO: 458802.30697299493\n",
      "ELBO: 458817.37227744\n",
      "ELBO: 458802.9954365284\n",
      "ELBO: 458794.7425660929\n",
      "ELBO: 458826.824446607\n",
      "ELBO: 458897.32547329436\n",
      "ELBO: 459068.4783431744\n",
      "ELBO: 458948.28830989986\n",
      "ELBO: 458821.1436227988\n",
      "ELBO: 458821.75796597963\n",
      "ELBO: 458802.9954365284\n",
      "ELBO: 458794.7425660929\n",
      "ELBO: 458831.86002761865\n",
      "ELBO: 458914.94554465066\n",
      "ELBO: 459098.83264984837\n",
      "ELBO: 458982.6987189419\n",
      "ELBO: 458837.2134142319\n",
      "ELBO: 458825.24756557064\n",
      "ELBO: 458802.9954365284\n",
      "ELBO: 458794.7425660929\n",
      "ELBO: 458836.07793937036\n",
      "ELBO: 458930.0203772598\n",
      "ELBO: 459123.62817657576\n",
      "ELBO: 459011.37277654937\n",
      "ELBO: 458851.07024145784\n",
      "ELBO: 458828.0574902495\n",
      "ELBO: 458802.9954365284\n",
      "ELBO: 458794.7425660929\n",
      "ELBO: 458839.64670665434\n",
      "ELBO: 458942.97381649964\n",
      "ELBO: 459143.90724350436\n",
      "ELBO: 459035.3386039743\n",
      "ELBO: 458863.1669180607\n",
      "ELBO: 458830.3451986422\n",
      "ELBO: 458802.9954365284\n",
      "ELBO: 458794.7425660929\n",
      "ELBO: 458842.688569303\n",
      "ELBO: 458954.16288508347\n",
      "ELBO: 459160.58597830497\n",
      "ELBO: 459055.48391517013\n",
      "ELBO: 458873.84621282795\n",
      "ELBO: 458832.22707422206\n",
      "ELBO: 458802.9954365284\n",
      "ELBO: 458794.7425660929\n",
      "ELBO: 458845.3042357567\n",
      "ELBO: 458963.87679307297\n",
      "ELBO: 459174.4260800797\n",
      "ELBO: 459072.5359533512\n",
      "ELBO: 458883.3714024267\n",
      "ELBO: 458833.78934164613\n",
      "ELBO: 458802.9954365284\n",
      "ELBO: 458794.7425660929\n",
      "ELBO: 458847.56860557024\n",
      "ELBO: 458972.35835115105\n",
      "ELBO: 459186.00520386256\n",
      "ELBO: 459087.09986659547\n",
      "ELBO: 458891.9517142243\n",
      "ELBO: 458835.10112238594\n",
      "ELBO: 458802.9954365284\n",
      "ELBO: 458794.7425660929\n",
      "ELBO: 458849.5348982566\n",
      "ELBO: 458979.80499750754\n",
      "ELBO: 459195.76550253475\n",
      "ELBO: 459099.706786764\n",
      "ELBO: 458899.74305909825\n",
      "ELBO: 458836.21262857085\n",
      "ELBO: 458802.9954365284\n",
      "ELBO: 458794.7425660929\n",
      "ELBO: 458851.24408584554\n",
      "ELBO: 458986.41360446805\n",
      "ELBO: 459204.03729044093\n",
      "ELBO: 459110.8882812874\n",
      "ELBO: 458906.86368434486\n",
      "ELBO: 458837.1600888169\n",
      "ELBO: 458802.9954365284\n",
      "ELBO: 458794.7425660929\n",
      "ELBO: 458852.73408270587\n",
      "ELBO: 458992.4562972261\n",
      "ELBO: 459211.09610036353\n",
      "ELBO: 459121.5169577791\n",
      "ELBO: 458913.4017060094\n",
      "ELBO: 458837.97210052784\n",
      "ELBO: 458802.9954365284\n"
     ]
    }
   ],
   "source": [
    "total_ELBO_list = []\n",
    "for his in His:\n",
    "    ELBO_list = []\n",
    "    for p in his: \n",
    "        LAMBDA, GAMMA, PHI = p \n",
    "        elbo = compute_elbo(LAMBDA, GAMMA, PHI, train_articles, train_nonzero_idxs, C)\n",
    "        ELBO_list.append(elbo) \n",
    "    total_ELBO_list.append(ELBO_list)"
   ]
  },
  {
   "cell_type": "code",
   "execution_count": 141,
   "metadata": {
    "colab": {
     "base_uri": "https://localhost:8080/",
     "height": 497
    },
    "id": "zAyBCMro5IIE",
    "outputId": "e54bb5f0-27f9-497e-8ef5-774634c76ca0"
   },
   "outputs": [
    {
     "name": "stdout",
     "output_type": "stream",
     "text": [
      "ELBO: 458794.7425660929\n",
      "ELBO: 455866.02214595163\n",
      "ELBO: 455221.5407381431\n",
      "ELBO: 454933.2794657599\n",
      "ELBO: 454931.6600418745\n",
      "ELBO: 455217.1472015117\n",
      "ELBO: 455860.73089582636\n",
      "ELBO: 458802.9954365284\n"
     ]
    },
    {
     "data": {
      "image/png": "[encoded data removed]",
      "text/plain": [
       "<Figure size 640x480 with 1 Axes>"
      ]
     },
     "metadata": {},
     "output_type": "display_data"
    }
   ],
   "source": [
    "for i in range(len(total_ELBO_list)):\n",
    "    if i % 10 == 0:\n",
    "        plt.plot(total_ELBO_list[i], label = 'iteration{}'.format(i))\n",
    "        \n",
    "plt.plot(total_ELBO_list[-1], label = 'final')\n",
    "p_list_init = init(theta1, theta2, N)\n",
    "ELBO_list_init = []\n",
    "for p in p_list_init: \n",
    "    LAMBDA, GAMMA, PHI = p \n",
    "    elbo = compute_elbo(LAMBDA, GAMMA, PHI, train_articles, train_nonzero_idxs, C)\n",
    "    ELBO_list_init.append(elbo) \n",
    "plt.plot(ELBO_list_init ,label = 'init')\n",
    "plt.xlabel(\"MEP point\") \n",
    "plt.ylabel(\"ELBO\")\n",
    "plt.title(\"Pivot number = {}\".format(N))\n",
    "plt.legend()\n",
    "plt.savefig(PATH + '/Result/p_7', dpi=600, facecolor='w', transparent=True)"
   ]
  },
  {
   "cell_type": "markdown",
   "metadata": {
    "id": "zoBNmIoPBPk4"
   },
   "source": [
    "### contour plot "
   ]
  },
  {
   "cell_type": "markdown",
   "metadata": {
    "id": "F3QEhml_BWSu"
   },
   "source": [
    "Dimensionality reduction of parameters into 2d \n",
    "- choose two orthogonal random directions in high dimension and project onto these two dimensions to obtain a 2d embedding"
   ]
  },
  {
   "cell_type": "code",
   "execution_count": 58,
   "metadata": {
    "id": "sNys2s3h5qTQ",
    "scrolled": true
   },
   "outputs": [],
   "source": [
    "p_list = His[-1]"
   ]
  },
  {
   "cell_type": "markdown",
   "metadata": {},
   "source": [
    "## Normal"
   ]
  },
  {
   "cell_type": "code",
   "execution_count": 59,
   "metadata": {},
   "outputs": [],
   "source": [
    "LAMBDA, GAMMA, PHI = theta1\n",
    "\n",
    "norm_1 = 0\n",
    "d1_LAMBDA = np.random.normal(0, 1, LAMBDA.shape)\n",
    "norm_1 += np.square(np.linalg.norm(d1_LAMBDA)) \n",
    "d1_GAMMA = np.random.normal(0, 1, GAMMA.shape)\n",
    "norm_1 += np.square(np.linalg.norm(d1_GAMMA)) \n",
    "d1_PHI = [np.random.normal(0, 1, i.shape) for i in PHI]\n",
    "\n",
    "for d1_phi in d1_PHI:\n",
    "    norm_1 += np.square(np.linalg.norm(d1_phi)) \n",
    "\n",
    "norm_1 = np.sqrt(norm_1)\n",
    "d1_LAMBDA /= norm_1 \n",
    "d1_GAMMA /= norm_1 \n",
    "d1_PHI = [d1_phi/norm_1 for d1_phi in d1_PHI]\n",
    "\n",
    "norm_2 = 0\n",
    "\n",
    "d2_LAMBDA = np.random.normal(0, 1, LAMBDA.shape)\n",
    "norm_2 += np.square(np.linalg.norm(d2_LAMBDA)) \n",
    "d2_GAMMA = np.random.normal(0, 1, GAMMA.shape)\n",
    "norm_2 += np.square(np.linalg.norm(d2_GAMMA)) \n",
    "d2_PHI = [np.random.normal(0, 1, i.shape) for i in PHI]\n",
    "\n",
    "for d2_phi in d1_PHI:\n",
    "    norm_2 += np.square(np.linalg.norm(d2_phi)) \n",
    "\n",
    "norm_2 = np.sqrt(norm_2)\n",
    "d2_LAMBDA /= norm_2 \n",
    "d2_GAMMA /= norm_2\n",
    "d2_PHI = [d2_phi / norm_2 for d2_phi in d2_PHI]  \n",
    "\n",
    "center = init(theta1, theta2, N = 2)[1]\n",
    "center_LAMBDA, center_GAMMA, center_PHI = center\n",
    "\n",
    "    \n",
    "def projection(pp_list, center):\n",
    "    x_list = np.zeros(len(pp_list))\n",
    "    y_list = np.zeros(len(pp_list))\n",
    "\n",
    "    center_LAMBDA, center_GAMMA, center_PHI = center\n",
    "\n",
    "    for i in range(len(pp_list)):\n",
    "        LAMBDA, GAMMA, PHI = pp_list[i]\n",
    "        LAMBDA_P = LAMBDA - center_LAMBDA\n",
    "        x_list[i] += np.sum(d1_LAMBDA * LAMBDA_P)\n",
    "        GAMMA_P = GAMMA - center_GAMMA\n",
    "        x_list[i] += np.sum(d1_GAMMA * GAMMA_P)\n",
    "        PHI_P = [phi - center_phi for (center_phi, phi) in zip(center_PHI, PHI)]\n",
    "        x_list[i] += np.sum(np.array([np.sum(d1_phi * phi_p) for (d1_phi, phi_p) in zip(d1_PHI, PHI_P)]))\n",
    "\n",
    "        y_list[i] += np.sum(d2_LAMBDA * LAMBDA_P)\n",
    "        y_list[i] += np.sum(d2_GAMMA * GAMMA_P)\n",
    "        y_list[i] += np.sum(np.array([np.sum(d2_phi * phi_p) for (d2_phi, phi_p) in zip(d2_PHI, PHI_P)]))\n",
    "        \n",
    "    return x_list, y_list\n",
    "\n"
   ]
  },
  {
   "cell_type": "markdown",
   "metadata": {},
   "source": [
    "## Bern"
   ]
  },
  {
   "cell_type": "code",
   "execution_count": 66,
   "metadata": {},
   "outputs": [],
   "source": [
    "LAMBDA, GAMMA, PHI = theta1\n",
    "\n",
    "norm_1 = 0\n",
    "d1_LAMBDA = np.random.binomial(1, 0.5, LAMBDA.shape).astype(float)\n",
    "d2_LAMBDA = np.ones(LAMBDA.shape) - d1_LAMBDA\n",
    "\n",
    "d1_GAMMA = np.random.binomial(1, 0.5, GAMMA.shape).astype(float)\n",
    "d2_GAMMA = np.ones(GAMMA.shape) - d1_GAMMA\n",
    "\n",
    "d1_PHI = [np.random.binomial(1, 0.5, i.shape).astype(float) for i in PHI]\n",
    "d2_PHI = [np.ones(i.shape) - i for i in d1_PHI]\n",
    "\n",
    "\n",
    "\n",
    "norm_1 += np.square(np.linalg.norm(d1_LAMBDA))\n",
    "norm_1 += np.square(np.linalg.norm(d1_GAMMA)) \n",
    "\n",
    "\n",
    "for d1_phi in d1_PHI:\n",
    "    norm_1 += np.square(np.linalg.norm(d1_phi)) \n",
    "\n",
    "norm_1 = np.sqrt(norm_1)\n",
    "d1_LAMBDA /= norm_1 \n",
    "d1_GAMMA /= norm_1 \n",
    "d1_PHI = [d1_phi/norm_1 for d1_phi in d1_PHI]\n",
    "\n",
    "norm_2 = 0\n",
    "\n",
    "norm_2 += np.square(np.linalg.norm(d2_LAMBDA)) \n",
    "norm_2 += np.square(np.linalg.norm(d2_GAMMA)) \n",
    "\n",
    "for d2_phi in d1_PHI:\n",
    "    norm_2 += np.square(np.linalg.norm(d2_phi)) \n",
    "\n",
    "norm_2 = np.sqrt(norm_2)\n",
    "d2_LAMBDA /= norm_2 \n",
    "d2_GAMMA /= norm_2\n",
    "d2_PHI = [d2_phi / norm_2 for d2_phi in d2_PHI]  \n",
    "\n",
    "center = init(theta1, theta2, N = 2)[1]\n",
    "center_LAMBDA, center_GAMMA, center_PHI = center\n",
    "\n",
    "    \n",
    "def projection(pp_list, center):\n",
    "    x_list = np.zeros(len(pp_list))\n",
    "    y_list = np.zeros(len(pp_list))\n",
    "\n",
    "    center_LAMBDA, center_GAMMA, center_PHI = center\n",
    "\n",
    "    for i in range(len(pp_list)):\n",
    "        LAMBDA, GAMMA, PHI = pp_list[i]\n",
    "        LAMBDA_P = LAMBDA - center_LAMBDA\n",
    "        x_list[i] += np.sum(d1_LAMBDA * LAMBDA_P)\n",
    "        GAMMA_P = GAMMA - center_GAMMA\n",
    "        x_list[i] += np.sum(d1_GAMMA * GAMMA_P)\n",
    "        PHI_P = [phi - center_phi for (center_phi, phi) in zip(center_PHI, PHI)]\n",
    "        x_list[i] += np.sum(np.array([np.sum(d1_phi * phi_p) for (d1_phi, phi_p) in zip(d1_PHI, PHI_P)]))\n",
    "\n",
    "        y_list[i] += np.sum(d2_LAMBDA * LAMBDA_P)\n",
    "        y_list[i] += np.sum(d2_GAMMA * GAMMA_P)\n",
    "        y_list[i] += np.sum(np.array([np.sum(d2_phi * phi_p) for (d2_phi, phi_p) in zip(d2_PHI, PHI_P)]))\n",
    "        \n",
    "    return x_list, y_list\n",
    "\n",
    "def point_projection(point):\n",
    "\n",
    "    LAMBDA_P, GAMMA_P, PHI_P = point\n",
    "    x = 0\n",
    "    y = 0\n",
    "\n",
    "    x += np.sum(d1_LAMBDA * LAMBDA_P)\n",
    "    x += np.sum(d1_GAMMA * GAMMA_P)\n",
    "    x += np.sum(np.array([np.sum(d1_phi * phi_p) for (d1_phi, phi_p) in zip(d1_PHI, PHI_P)]))\n",
    "\n",
    "    y += np.sum(d2_LAMBDA * LAMBDA_P)\n",
    "    y += np.sum(d2_GAMMA * GAMMA_P)\n",
    "    y += np.sum(np.array([np.sum(d2_phi * phi_p) for (d2_phi, phi_p) in zip(d2_PHI, PHI_P)]))\n",
    "        \n",
    "    return x, y\n",
    "\n",
    "def line_projection(pp_list):\n",
    "    x_list = np.zeros(len(pp_list))\n",
    "    y_list = np.zeros(len(pp_list))\n",
    "    \n",
    "    for i in range(len(pp_list)):\n",
    "        x_list[i],y_list[i] = point_projection(pp_list[i])\n",
    "        \n",
    "    return x_list, y_list"
   ]
  },
  {
   "cell_type": "code",
   "execution_count": 67,
   "metadata": {
    "id": "PBxHR_pmBbjB",
    "scrolled": true
   },
   "outputs": [
    {
     "name": "stdout",
     "output_type": "stream",
     "text": [
      "i:  0\n",
      "j:  0\n",
      "ELBO: 456058.4653680886\n",
      "i:  0\n",
      "j:  1\n",
      "ELBO: 456184.2798593177\n",
      "i:  0\n",
      "j:  2\n",
      "ELBO: 456138.01014112576\n",
      "i:  0\n",
      "j:  3\n",
      "ELBO: 455951.32621486316\n",
      "i:  0\n",
      "j:  4\n",
      "ELBO: 455649.9033538906\n",
      "i:  0\n",
      "j:  5\n",
      "ELBO: 455256.8968334715\n",
      "i:  0\n",
      "j:  6\n",
      "ELBO: 454783.901812315\n",
      "i:  0\n",
      "j:  7\n",
      "ELBO: 454239.58381617215\n",
      "i:  0\n",
      "j:  8\n",
      "ELBO: 453637.9556349994\n",
      "i:  0\n",
      "j:  9\n",
      "ELBO: 452988.8080127389\n",
      "i:  0\n",
      "j:  10\n",
      "ELBO: 452300.0746958321\n",
      "i:  1\n",
      "j:  0\n",
      "ELBO: 456123.64055779646\n",
      "i:  1\n",
      "j:  1\n",
      "ELBO: 456270.9471499315\n",
      "i:  1\n",
      "j:  2\n",
      "ELBO: 456245.0895332282\n",
      "i:  1\n",
      "j:  3\n",
      "ELBO: 456077.8924094697\n",
      "i:  1\n",
      "j:  4\n",
      "ELBO: 455795.15751350333\n",
      "i:  1\n",
      "j:  5\n",
      "ELBO: 455420.14450699947\n",
      "i:  1\n",
      "j:  6\n",
      "ELBO: 454964.5354767345\n",
      "i:  1\n",
      "j:  7\n",
      "ELBO: 454437.06892283336\n",
      "i:  1\n",
      "j:  8\n",
      "ELBO: 453851.8193487594\n",
      "i:  1\n",
      "j:  9\n",
      "ELBO: 453218.63004347647\n",
      "i:  1\n",
      "j:  10\n",
      "ELBO: 452545.4797724917\n",
      "i:  2\n",
      "j:  0\n",
      "ELBO: 456045.1405101859\n",
      "i:  2\n",
      "j:  1\n",
      "ELBO: 456212.9417813074\n",
      "i:  2\n",
      "j:  2\n",
      "ELBO: 456206.498899335\n",
      "i:  2\n",
      "j:  3\n",
      "ELBO: 456057.79126462387\n",
      "i:  2\n",
      "j:  4\n",
      "ELBO: 455792.74707174033\n",
      "i:  2\n",
      "j:  5\n",
      "ELBO: 455434.73036698706\n",
      "i:  2\n",
      "j:  6\n",
      "ELBO: 454995.5101636184\n",
      "i:  2\n",
      "j:  7\n",
      "ELBO: 454483.89793450915\n",
      "i:  2\n",
      "j:  8\n",
      "ELBO: 453914.0298951414\n",
      "i:  2\n",
      "j:  9\n",
      "ELBO: 453295.80187803856\n",
      "i:  2\n",
      "j:  10\n",
      "ELBO: 452637.237666369\n",
      "i:  3\n",
      "j:  0\n",
      "ELBO: 455847.8753541163\n",
      "i:  3\n",
      "j:  1\n",
      "ELBO: 456035.3073927707\n",
      "i:  3\n",
      "j:  2\n",
      "ELBO: 456047.41538747726\n",
      "i:  3\n",
      "j:  3\n",
      "ELBO: 455916.333435407\n",
      "i:  3\n",
      "j:  4\n",
      "ELBO: 455668.1161890719\n",
      "i:  3\n",
      "j:  5\n",
      "ELBO: 455326.23207781586\n",
      "i:  3\n",
      "j:  6\n",
      "ELBO: 454902.5370397327\n",
      "i:  3\n",
      "j:  7\n",
      "ELBO: 454405.91551896406\n",
      "i:  3\n",
      "j:  8\n",
      "ELBO: 453850.56544150965\n",
      "i:  3\n",
      "j:  9\n",
      "ELBO: 453246.43518210034\n",
      "i:  3\n",
      "j:  10\n",
      "ELBO: 452601.5935402002\n",
      "i:  4\n",
      "j:  0\n",
      "ELBO: 455552.41523970605\n",
      "i:  4\n",
      "j:  1\n",
      "ELBO: 455758.72480336315\n",
      "i:  4\n",
      "j:  2\n",
      "ELBO: 455788.6304839997\n",
      "i:  4\n",
      "j:  3\n",
      "ELBO: 455674.4210737994\n",
      "i:  4\n",
      "j:  4\n",
      "ELBO: 455442.27768160513\n",
      "i:  4\n",
      "j:  5\n",
      "ELBO: 455115.77311819105\n",
      "i:  4\n",
      "j:  6\n",
      "ELBO: 454706.8502449814\n",
      "i:  4\n",
      "j:  7\n",
      "ELBO: 454224.46647591365\n",
      "i:  4\n",
      "j:  8\n",
      "ELBO: 453682.8814461358\n",
      "i:  4\n",
      "j:  9\n",
      "ELBO: 453092.09607117984\n",
      "i:  4\n",
      "j:  10\n",
      "ELBO: 452460.2241655599\n",
      "i:  5\n",
      "j:  0\n",
      "ELBO: 455177.8567805815\n",
      "i:  5\n",
      "j:  1\n",
      "ELBO: 455402.38313975226\n",
      "i:  5\n",
      "j:  2\n",
      "ELBO: 455449.4258269084\n",
      "i:  5\n",
      "j:  3\n",
      "ELBO: 455351.42832764663\n",
      "i:  5\n",
      "j:  4\n",
      "ELBO: 455134.69820552005\n",
      "i:  5\n",
      "j:  5\n",
      "ELBO: 454822.9126512114\n",
      "i:  5\n",
      "j:  6\n",
      "ELBO: 454428.1014480039\n",
      "i:  5\n",
      "j:  7\n",
      "ELBO: 453959.29497824126\n",
      "i:  5\n",
      "j:  8\n",
      "ELBO: 453430.8145848267\n",
      "i:  5\n",
      "j:  9\n",
      "ELBO: 452852.71372285474\n",
      "i:  5\n",
      "j:  10\n",
      "ELBO: 452233.15122059855\n",
      "i:  6\n",
      "j:  0\n",
      "ELBO: 454733.1722515137\n",
      "i:  6\n",
      "j:  1\n",
      "ELBO: 454975.3326112885\n",
      "i:  6\n",
      "j:  2\n",
      "ELBO: 455038.92955863604\n",
      "i:  6\n",
      "j:  3\n",
      "ELBO: 454956.5612709342\n",
      "i:  6\n",
      "j:  4\n",
      "ELBO: 454754.66176493384\n",
      "i:  6\n",
      "j:  5\n",
      "ELBO: 454457.01260974555\n",
      "i:  6\n",
      "j:  6\n",
      "ELBO: 454075.7305091221\n",
      "i:  6\n",
      "j:  7\n",
      "ELBO: 453619.9188124221\n",
      "i:  6\n",
      "j:  8\n",
      "ELBO: 453103.96056905214\n",
      "i:  6\n",
      "j:  9\n",
      "ELBO: 452537.96177236934\n",
      "i:  6\n",
      "j:  10\n",
      "ELBO: 451930.1262632344\n",
      "i:  7\n",
      "j:  0\n",
      "ELBO: 454225.0719680273\n",
      "i:  7\n",
      "j:  1\n",
      "ELBO: 454484.3496534001\n",
      "i:  7\n",
      "j:  2\n",
      "ELBO: 454563.9842329961\n",
      "i:  7\n",
      "j:  3\n",
      "ELBO: 454496.7285744435\n",
      "i:  7\n",
      "j:  4\n",
      "ELBO: 454309.14314621006\n",
      "i:  7\n",
      "j:  5\n",
      "ELBO: 454025.1138944243\n",
      "i:  7\n",
      "j:  6\n",
      "ELBO: 453656.84444193763\n",
      "i:  7\n",
      "j:  7\n",
      "ELBO: 453213.5111038513\n",
      "i:  7\n",
      "j:  8\n",
      "ELBO: 452709.55863478116\n",
      "i:  7\n",
      "j:  9\n",
      "ELBO: 452155.1455651787\n",
      "i:  7\n",
      "j:  10\n",
      "ELBO: 451558.52074731706\n",
      "i:  8\n",
      "j:  0\n",
      "ELBO: 453665.5843539419\n",
      "i:  8\n",
      "j:  1\n",
      "ELBO: 453941.51915297855\n",
      "i:  8\n",
      "j:  2\n",
      "ELBO: 454036.73119849554\n",
      "i:  8\n",
      "j:  3\n",
      "ELBO: 453984.12804691464\n",
      "i:  8\n",
      "j:  4\n",
      "ELBO: 453810.3966170071\n",
      "i:  8\n",
      "j:  5\n",
      "ELBO: 453539.52723055216\n",
      "i:  8\n",
      "j:  6\n",
      "ELBO: 453183.8104281867\n",
      "i:  8\n",
      "j:  7\n",
      "ELBO: 452752.4954894919\n",
      "i:  8\n",
      "j:  8\n",
      "ELBO: 452260.0888731117\n",
      "i:  8\n",
      "j:  9\n",
      "ELBO: 451716.80164541333\n",
      "i:  8\n",
      "j:  10\n",
      "ELBO: 451130.927668957\n",
      "i:  9\n",
      "j:  0\n",
      "ELBO: 453063.0637613187\n",
      "i:  9\n",
      "j:  1\n",
      "ELBO: 453355.2439698683\n",
      "i:  9\n",
      "j:  2\n",
      "ELBO: 453465.6218214136\n",
      "i:  9\n",
      "j:  3\n",
      "ELBO: 453427.2595597282\n",
      "i:  9\n",
      "j:  4\n",
      "ELBO: 453266.9705525105\n",
      "i:  9\n",
      "j:  5\n",
      "ELBO: 453008.8494958939\n",
      "i:  9\n",
      "j:  6\n",
      "ELBO: 452665.2738470494\n",
      "i:  9\n",
      "j:  7\n",
      "ELBO: 452245.5658488234\n",
      "i:  9\n",
      "j:  8\n",
      "ELBO: 451764.29366270534\n",
      "i:  9\n",
      "j:  9\n",
      "ELBO: 451231.7208898735\n",
      "i:  9\n",
      "j:  10\n",
      "ELBO: 450656.1864021139\n",
      "i:  10\n",
      "j:  0\n",
      "ELBO: 452424.3275926805\n",
      "i:  10\n",
      "j:  1\n",
      "ELBO: 452732.38341315376\n",
      "i:  10\n",
      "j:  2\n",
      "ELBO: 452857.557316044\n",
      "i:  10\n",
      "j:  3\n",
      "ELBO: 452833.06623111526\n",
      "i:  10\n",
      "j:  4\n",
      "ELBO: 452685.84997366666\n",
      "i:  10\n",
      "j:  5\n",
      "ELBO: 452440.1076129361\n",
      "i:  10\n",
      "j:  6\n",
      "ELBO: 452108.30352140847\n",
      "i:  10\n",
      "j:  7\n",
      "ELBO: 451699.8329040242\n",
      "i:  10\n",
      "j:  8\n",
      "ELBO: 451229.3256240136\n",
      "i:  10\n",
      "j:  9\n",
      "ELBO: 450707.0978162634\n",
      "i:  10\n",
      "j:  10\n",
      "ELBO: 450141.533360757\n"
     ]
    }
   ],
   "source": [
    "precision = 10\n",
    "extend = precision / 2\n",
    "loss_surface = np.zeros((precision+1,precision+1))\n",
    "h_list = np.arange(-extend,extend+1,1) / 10\n",
    "v_list = np.arange(-extend,extend+1,1) / 10\n",
    "\n",
    "for i in range(precision+1):\n",
    "    for j in range(precision+1): \n",
    "        print('i: ',i)\n",
    "        print('j: ',j)\n",
    "        d1 = h_list[i]\n",
    "        d2 = v_list[j]\n",
    "        NEW_LAMBDA = center_LAMBDA + d1 * d1_LAMBDA + d2 * d2_LAMBDA\n",
    "        NEW_GAMMA = center_GAMMA + d1 * d1_GAMMA + d2 * d2_GAMMA\n",
    "        NEW_PHI = [center_phi + d1 * d1_phi + d2 * d2_phi for (center_phi, d1_phi,d2_phi) in zip(center_PHI, d1_PHI , d2_PHI)]\n",
    "        loss_surface[i,j] = compute_elbo(NEW_LAMBDA, NEW_GAMMA, NEW_PHI,train_articles, train_nonzero_idxs, C)\n",
    "\n",
    "#TODO \n",
    "#plot loss_surface \n",
    "\n",
    "\n",
    "#TODO \n",
    "#plots points (p_list) on the loss surface by first centering the points and then projecting them onto d1 and d2 "
   ]
  },
  {
   "cell_type": "code",
   "execution_count": 68,
   "metadata": {},
   "outputs": [],
   "source": [
    "center_x, center_y = point_projection(center)\n",
    "v_list += center_y\n",
    "h_list += center_x\n",
    "\n",
    "p_list_init = init(theta1, theta2, N)\n",
    "init_x,init_y = line_projection(p_list_init)\n",
    "x_list, y_list = line_projection(p_list)"
   ]
  },
  {
   "cell_type": "code",
   "execution_count": 69,
   "metadata": {},
   "outputs": [
    {
     "name": "stdout",
     "output_type": "stream",
     "text": [
      "ELBO: 458783.22785163455\n",
      "ELBO: 456137.9919172468\n",
      "ELBO: 455486.6660985581\n",
      "ELBO: 455110.4034683276\n",
      "ELBO: 454895.65659437934\n",
      "ELBO: 454822.9126512114\n",
      "ELBO: 454890.2845641394\n",
      "ELBO: 455098.81076691323\n",
      "ELBO: 455467.0538670933\n",
      "ELBO: 456107.04028626776\n",
      "ELBO: 458729.44917165855\n"
     ]
    }
   ],
   "source": [
    "elbo_init = []\n",
    "for p in p_list_init: \n",
    "    LAMBDA, GAMMA, PHI = p \n",
    "    elbo_init.append(compute_elbo(LAMBDA, GAMMA, PHI, train_articles, train_nonzero_idxs, C))"
   ]
  },
  {
   "cell_type": "code",
   "execution_count": 70,
   "metadata": {
    "scrolled": false
   },
   "outputs": [
    {
     "data": {
      "application/vnd.plotly.v1+json": {
       "config": {
        "plotlyServerURL": "https://plot.ly"
       },
       "data": [
        {
         "hovertemplate": "color=b<br>x=%{x}<br>y=%{y}<br>z=%{z}<extra></extra>",
         "legendgroup": "b",
         "line": {
          "color": "#EF553B",
          "dash": "solid"
         },
         "marker": {
          "symbol": "circle"
         },
         "mode": "lines",
         "name": "b",
         "scene": "scene",
         "showlegend": true,
         "type": "scatter3d",
         "x": [
          12.958169524509023,
          12.985862593556698,
          12.933793256634118,
          12.778989208680596,
          12.697968414485484,
          12.996056722744507,
          12.752781202850414,
          12.492254462218668,
          12.58627867123381,
          12.567548582866745,
          12.560655482029112
         ],
         "y": [
          14.145683302523375,
          14.116148532726214,
          14.171535209796271,
          14.33619955328723,
          14.424006514369353,
          14.105397320288423,
          14.364259596315467,
          14.639180459959148,
          14.541451284039251,
          14.56134829537492,
          14.568680421423435
         ],
         "z": [
          458783.22785163455,
          458815.3940230154,
          458869.65029911505,
          458994.0981043289,
          459163.3605954164,
          459266.79998999316,
          459139.86430499004,
          458873.63159433467,
          458781.3296252868,
          458761.4648135813,
          458729.44917165855
         ]
        },
        {
         "hovertemplate": "x=%{x}<br>y=%{y}<br>z=%{z}<extra></extra>",
         "legendgroup": "",
         "line": {
          "color": "#636efa",
          "dash": "solid"
         },
         "marker": {
          "symbol": "circle"
         },
         "mode": "lines",
         "name": "",
         "scene": "scene",
         "showlegend": false,
         "type": "scatter3d",
         "x": [
          12.958169524509023,
          12.91841812026103,
          12.87866671601304,
          12.838915311765046,
          12.799163907517059,
          12.759412503269067,
          12.719661099021074,
          12.679909694773087,
          12.640158290525095,
          12.600406886277103,
          12.560655482029112
         ],
         "y": [
          14.145683302523375,
          14.187983014413383,
          14.230282726303384,
          14.272582438193394,
          14.3148821500834,
          14.357181861973404,
          14.399481573863412,
          14.441781285753418,
          14.484080997643423,
          14.52638070953343,
          14.568680421423435
         ],
         "z": [
          458783.22785163455,
          456137.9919172468,
          455486.6660985581,
          455110.4034683276,
          454895.65659437934,
          454822.9126512114,
          454890.2845641394,
          455098.81076691323,
          455467.0538670933,
          456107.04028626776,
          458729.44917165855
         ]
        },
        {
         "type": "surface",
         "x": [
          12.259412503269067,
          12.359412503269066,
          12.459412503269066,
          12.559412503269067,
          12.659412503269067,
          12.759412503269067,
          12.859412503269066,
          12.959412503269066,
          13.059412503269067,
          13.159412503269067,
          13.259412503269067
         ],
         "y": [
          13.857181861973404,
          13.957181861973403,
          14.057181861973403,
          14.157181861973404,
          14.257181861973404,
          14.357181861973404,
          14.457181861973403,
          14.557181861973403,
          14.657181861973404,
          14.757181861973404,
          14.857181861973404
         ],
         "z": [
          [
           456058.4653680886,
           456184.2798593177,
           456138.01014112576,
           455951.32621486316,
           455649.9033538906,
           455256.8968334715,
           454783.901812315,
           454239.58381617215,
           453637.9556349994,
           452988.8080127389,
           452300.0746958321
          ],
          [
           456123.64055779646,
           456270.9471499315,
           456245.0895332282,
           456077.8924094697,
           455795.15751350333,
           455420.14450699947,
           454964.5354767345,
           454437.06892283336,
           453851.8193487594,
           453218.63004347647,
           452545.4797724917
          ],
          [
           456045.1405101859,
           456212.9417813074,
           456206.498899335,
           456057.79126462387,
           455792.74707174033,
           455434.73036698706,
           454995.5101636184,
           454483.89793450915,
           453914.0298951414,
           453295.80187803856,
           452637.237666369
          ],
          [
           455847.8753541163,
           456035.3073927707,
           456047.41538747726,
           455916.333435407,
           455668.1161890719,
           455326.23207781586,
           454902.5370397327,
           454405.91551896406,
           453850.56544150965,
           453246.43518210034,
           452601.5935402002
          ],
          [
           455552.41523970605,
           455758.72480336315,
           455788.6304839997,
           455674.4210737994,
           455442.27768160513,
           455115.77311819105,
           454706.8502449814,
           454224.46647591365,
           453682.8814461358,
           453092.09607117984,
           452460.2241655599
          ],
          [
           455177.8567805815,
           455402.38313975226,
           455449.4258269084,
           455351.42832764663,
           455134.69820552005,
           454822.9126512114,
           454428.1014480039,
           453959.29497824126,
           453430.8145848267,
           452852.71372285474,
           452233.15122059855
          ],
          [
           454733.1722515137,
           454975.3326112885,
           455038.92955863604,
           454956.5612709342,
           454754.66176493384,
           454457.01260974555,
           454075.7305091221,
           453619.9188124221,
           453103.96056905214,
           452537.96177236934,
           451930.1262632344
          ],
          [
           454225.0719680273,
           454484.3496534001,
           454563.9842329961,
           454496.7285744435,
           454309.14314621006,
           454025.1138944243,
           453656.84444193763,
           453213.5111038513,
           452709.55863478116,
           452155.1455651787,
           451558.52074731706
          ],
          [
           453665.5843539419,
           453941.51915297855,
           454036.73119849554,
           453984.12804691464,
           453810.3966170071,
           453539.52723055216,
           453183.8104281867,
           452752.4954894919,
           452260.0888731117,
           451716.80164541333,
           451130.927668957
          ],
          [
           453063.0637613187,
           453355.2439698683,
           453465.6218214136,
           453427.2595597282,
           453266.9705525105,
           453008.8494958939,
           452665.2738470494,
           452245.5658488234,
           451764.29366270534,
           451231.7208898735,
           450656.1864021139
          ],
          [
           452424.3275926805,
           452732.38341315376,
           452857.557316044,
           452833.06623111526,
           452685.84997366666,
           452440.1076129361,
           452108.30352140847,
           451699.8329040242,
           451229.3256240136,
           450707.0978162634,
           450141.533360757
          ]
         ]
        }
       ],
       "layout": {
        "template": {
         "data": {
          "bar": [
           {
            "error_x": {
             "color": "#2a3f5f"
            },
            "error_y": {
             "color": "#2a3f5f"
            },
            "marker": {
             "line": {
              "color": "#E5ECF6",
              "width": 0.5
             },
             "pattern": {
              "fillmode": "overlay",
              "size": 10,
              "solidity": 0.2
             }
            },
            "type": "bar"
           }
          ],
          "barpolar": [
           {
            "marker": {
             "line": {
              "color": "#E5ECF6",
              "width": 0.5
             },
             "pattern": {
              "fillmode": "overlay",
              "size": 10,
              "solidity": 0.2
             }
            },
            "type": "barpolar"
           }
          ],
          "carpet": [
           {
            "aaxis": {
             "endlinecolor": "#2a3f5f",
             "gridcolor": "white",
             "linecolor": "white",
             "minorgridcolor": "white",
             "startlinecolor": "#2a3f5f"
            },
            "baxis": {
             "endlinecolor": "#2a3f5f",
             "gridcolor": "white",
             "linecolor": "white",
             "minorgridcolor": "white",
             "startlinecolor": "#2a3f5f"
            },
            "type": "carpet"
           }
          ],
          "choropleth": [
           {
            "colorbar": {
             "outlinewidth": 0,
             "ticks": ""
            },
            "type": "choropleth"
           }
          ],
          "contour": [
           {
            "colorbar": {
             "outlinewidth": 0,
             "ticks": ""
            },
            "colorscale": [
             [
              0,
              "#0d0887"
             ],
             [
              0.1111111111111111,
              "#46039f"
             ],
             [
              0.2222222222222222,
              "#7201a8"
             ],
             [
              0.3333333333333333,
              "#9c179e"
             ],
             [
              0.4444444444444444,
              "#bd3786"
             ],
             [
              0.5555555555555556,
              "#d8576b"
             ],
             [
              0.6666666666666666,
              "#ed7953"
             ],
             [
              0.7777777777777778,
              "#fb9f3a"
             ],
             [
              0.8888888888888888,
              "#fdca26"
             ],
             [
              1,
              "#f0f921"
             ]
            ],
            "type": "contour"
           }
          ],
          "contourcarpet": [
           {
            "colorbar": {
             "outlinewidth": 0,
             "ticks": ""
            },
            "type": "contourcarpet"
           }
          ],
          "heatmap": [
           {
            "colorbar": {
             "outlinewidth": 0,
             "ticks": ""
            },
            "colorscale": [
             [
              0,
              "#0d0887"
             ],
             [
              0.1111111111111111,
              "#46039f"
             ],
             [
              0.2222222222222222,
              "#7201a8"
             ],
             [
              0.3333333333333333,
              "#9c179e"
             ],
             [
              0.4444444444444444,
              "#bd3786"
             ],
             [
              0.5555555555555556,
              "#d8576b"
             ],
             [
              0.6666666666666666,
              "#ed7953"
             ],
             [
              0.7777777777777778,
              "#fb9f3a"
             ],
             [
              0.8888888888888888,
              "#fdca26"
             ],
             [
              1,
              "#f0f921"
             ]
            ],
            "type": "heatmap"
           }
          ],
          "heatmapgl": [
           {
            "colorbar": {
             "outlinewidth": 0,
             "ticks": ""
            },
            "colorscale": [
             [
              0,
              "#0d0887"
             ],
             [
              0.1111111111111111,
              "#46039f"
             ],
             [
              0.2222222222222222,
              "#7201a8"
             ],
             [
              0.3333333333333333,
              "#9c179e"
             ],
             [
              0.4444444444444444,
              "#bd3786"
             ],
             [
              0.5555555555555556,
              "#d8576b"
             ],
             [
              0.6666666666666666,
              "#ed7953"
             ],
             [
              0.7777777777777778,
              "#fb9f3a"
             ],
             [
              0.8888888888888888,
              "#fdca26"
             ],
             [
              1,
              "#f0f921"
             ]
            ],
            "type": "heatmapgl"
           }
          ],
          "histogram": [
           {
            "marker": {
             "pattern": {
              "fillmode": "overlay",
              "size": 10,
              "solidity": 0.2
             }
            },
            "type": "histogram"
           }
          ],
          "histogram2d": [
           {
            "colorbar": {
             "outlinewidth": 0,
             "ticks": ""
            },
            "colorscale": [
             [
              0,
              "#0d0887"
             ],
             [
              0.1111111111111111,
              "#46039f"
             ],
             [
              0.2222222222222222,
              "#7201a8"
             ],
             [
              0.3333333333333333,
              "#9c179e"
             ],
             [
              0.4444444444444444,
              "#bd3786"
             ],
             [
              0.5555555555555556,
              "#d8576b"
             ],
             [
              0.6666666666666666,
              "#ed7953"
             ],
             [
              0.7777777777777778,
              "#fb9f3a"
             ],
             [
              0.8888888888888888,
              "#fdca26"
             ],
             [
              1,
              "#f0f921"
             ]
            ],
            "type": "histogram2d"
           }
          ],
          "histogram2dcontour": [
           {
            "colorbar": {
             "outlinewidth": 0,
             "ticks": ""
            },
            "colorscale": [
             [
              0,
              "#0d0887"
             ],
             [
              0.1111111111111111,
              "#46039f"
             ],
             [
              0.2222222222222222,
              "#7201a8"
             ],
             [
              0.3333333333333333,
              "#9c179e"
             ],
             [
              0.4444444444444444,
              "#bd3786"
             ],
             [
              0.5555555555555556,
              "#d8576b"
             ],
             [
              0.6666666666666666,
              "#ed7953"
             ],
             [
              0.7777777777777778,
              "#fb9f3a"
             ],
             [
              0.8888888888888888,
              "#fdca26"
             ],
             [
              1,
              "#f0f921"
             ]
            ],
            "type": "histogram2dcontour"
           }
          ],
          "mesh3d": [
           {
            "colorbar": {
             "outlinewidth": 0,
             "ticks": ""
            },
            "type": "mesh3d"
           }
          ],
          "parcoords": [
           {
            "line": {
             "colorbar": {
              "outlinewidth": 0,
              "ticks": ""
             }
            },
            "type": "parcoords"
           }
          ],
          "pie": [
           {
            "automargin": true,
            "type": "pie"
           }
          ],
          "scatter": [
           {
            "fillpattern": {
             "fillmode": "overlay",
             "size": 10,
             "solidity": 0.2
            },
            "type": "scatter"
           }
          ],
          "scatter3d": [
           {
            "line": {
             "colorbar": {
              "outlinewidth": 0,
              "ticks": ""
             }
            },
            "marker": {
             "colorbar": {
              "outlinewidth": 0,
              "ticks": ""
             }
            },
            "type": "scatter3d"
           }
          ],
          "scattercarpet": [
           {
            "marker": {
             "colorbar": {
              "outlinewidth": 0,
              "ticks": ""
             }
            },
            "type": "scattercarpet"
           }
          ],
          "scattergeo": [
           {
            "marker": {
             "colorbar": {
              "outlinewidth": 0,
              "ticks": ""
             }
            },
            "type": "scattergeo"
           }
          ],
          "scattergl": [
           {
            "marker": {
             "colorbar": {
              "outlinewidth": 0,
              "ticks": ""
             }
            },
            "type": "scattergl"
           }
          ],
          "scattermapbox": [
           {
            "marker": {
             "colorbar": {
              "outlinewidth": 0,
              "ticks": ""
             }
            },
            "type": "scattermapbox"
           }
          ],
          "scatterpolar": [
           {
            "marker": {
             "colorbar": {
              "outlinewidth": 0,
              "ticks": ""
             }
            },
            "type": "scatterpolar"
           }
          ],
          "scatterpolargl": [
           {
            "marker": {
             "colorbar": {
              "outlinewidth": 0,
              "ticks": ""
             }
            },
            "type": "scatterpolargl"
           }
          ],
          "scatterternary": [
           {
            "marker": {
             "colorbar": {
              "outlinewidth": 0,
              "ticks": ""
             }
            },
            "type": "scatterternary"
           }
          ],
          "surface": [
           {
            "colorbar": {
             "outlinewidth": 0,
             "ticks": ""
            },
            "colorscale": [
             [
              0,
              "#0d0887"
             ],
             [
              0.1111111111111111,
              "#46039f"
             ],
             [
              0.2222222222222222,
              "#7201a8"
             ],
             [
              0.3333333333333333,
              "#9c179e"
             ],
             [
              0.4444444444444444,
              "#bd3786"
             ],
             [
              0.5555555555555556,
              "#d8576b"
             ],
             [
              0.6666666666666666,
              "#ed7953"
             ],
             [
              0.7777777777777778,
              "#fb9f3a"
             ],
             [
              0.8888888888888888,
              "#fdca26"
             ],
             [
              1,
              "#f0f921"
             ]
            ],
            "type": "surface"
           }
          ],
          "table": [
           {
            "cells": {
             "fill": {
              "color": "#EBF0F8"
             },
             "line": {
              "color": "white"
             }
            },
            "header": {
             "fill": {
              "color": "#C8D4E3"
             },
             "line": {
              "color": "white"
             }
            },
            "type": "table"
           }
          ]
         },
         "layout": {
          "annotationdefaults": {
           "arrowcolor": "#2a3f5f",
           "arrowhead": 0,
           "arrowwidth": 1
          },
          "autotypenumbers": "strict",
          "coloraxis": {
           "colorbar": {
            "outlinewidth": 0,
            "ticks": ""
           }
          },
          "colorscale": {
           "diverging": [
            [
             0,
             "#8e0152"
            ],
            [
             0.1,
             "#c51b7d"
            ],
            [
             0.2,
             "#de77ae"
            ],
            [
             0.3,
             "#f1b6da"
            ],
            [
             0.4,
             "#fde0ef"
            ],
            [
             0.5,
             "#f7f7f7"
            ],
            [
             0.6,
             "#e6f5d0"
            ],
            [
             0.7,
             "#b8e186"
            ],
            [
             0.8,
             "#7fbc41"
            ],
            [
             0.9,
             "#4d9221"
            ],
            [
             1,
             "#276419"
            ]
           ],
           "sequential": [
            [
             0,
             "#0d0887"
            ],
            [
             0.1111111111111111,
             "#46039f"
            ],
            [
             0.2222222222222222,
             "#7201a8"
            ],
            [
             0.3333333333333333,
             "#9c179e"
            ],
            [
             0.4444444444444444,
             "#bd3786"
            ],
            [
             0.5555555555555556,
             "#d8576b"
            ],
            [
             0.6666666666666666,
             "#ed7953"
            ],
            [
             0.7777777777777778,
             "#fb9f3a"
            ],
            [
             0.8888888888888888,
             "#fdca26"
            ],
            [
             1,
             "#f0f921"
            ]
           ],
           "sequentialminus": [
            [
             0,
             "#0d0887"
            ],
            [
             0.1111111111111111,
             "#46039f"
            ],
            [
             0.2222222222222222,
             "#7201a8"
            ],
            [
             0.3333333333333333,
             "#9c179e"
            ],
            [
             0.4444444444444444,
             "#bd3786"
            ],
            [
             0.5555555555555556,
             "#d8576b"
            ],
            [
             0.6666666666666666,
             "#ed7953"
            ],
            [
             0.7777777777777778,
             "#fb9f3a"
            ],
            [
             0.8888888888888888,
             "#fdca26"
            ],
            [
             1,
             "#f0f921"
            ]
           ]
          },
          "colorway": [
           "#636efa",
           "#EF553B",
           "#00cc96",
           "#ab63fa",
           "#FFA15A",
           "#19d3f3",
           "#FF6692",
           "#B6E880",
           "#FF97FF",
           "#FECB52"
          ],
          "font": {
           "color": "#2a3f5f"
          },
          "geo": {
           "bgcolor": "white",
           "lakecolor": "white",
           "landcolor": "#E5ECF6",
           "showlakes": true,
           "showland": true,
           "subunitcolor": "white"
          },
          "hoverlabel": {
           "align": "left"
          },
          "hovermode": "closest",
          "mapbox": {
           "style": "light"
          },
          "paper_bgcolor": "white",
          "plot_bgcolor": "#E5ECF6",
          "polar": {
           "angularaxis": {
            "gridcolor": "white",
            "linecolor": "white",
            "ticks": ""
           },
           "bgcolor": "#E5ECF6",
           "radialaxis": {
            "gridcolor": "white",
            "linecolor": "white",
            "ticks": ""
           }
          },
          "scene": {
           "xaxis": {
            "backgroundcolor": "#E5ECF6",
            "gridcolor": "white",
            "gridwidth": 2,
            "linecolor": "white",
            "showbackground": true,
            "ticks": "",
            "zerolinecolor": "white"
           },
           "yaxis": {
            "backgroundcolor": "#E5ECF6",
            "gridcolor": "white",
            "gridwidth": 2,
            "linecolor": "white",
            "showbackground": true,
            "ticks": "",
            "zerolinecolor": "white"
           },
           "zaxis": {
            "backgroundcolor": "#E5ECF6",
            "gridcolor": "white",
            "gridwidth": 2,
            "linecolor": "white",
            "showbackground": true,
            "ticks": "",
            "zerolinecolor": "white"
           }
          },
          "shapedefaults": {
           "line": {
            "color": "#2a3f5f"
           }
          },
          "ternary": {
           "aaxis": {
            "gridcolor": "white",
            "linecolor": "white",
            "ticks": ""
           },
           "baxis": {
            "gridcolor": "white",
            "linecolor": "white",
            "ticks": ""
           },
           "bgcolor": "#E5ECF6",
           "caxis": {
            "gridcolor": "white",
            "linecolor": "white",
            "ticks": ""
           }
          },
          "title": {
           "x": 0.05
          },
          "xaxis": {
           "automargin": true,
           "gridcolor": "white",
           "linecolor": "white",
           "ticks": "",
           "title": {
            "standoff": 15
           },
           "zerolinecolor": "white",
           "zerolinewidth": 2
          },
          "yaxis": {
           "automargin": true,
           "gridcolor": "white",
           "linecolor": "white",
           "ticks": "",
           "title": {
            "standoff": 15
           },
           "zerolinecolor": "white",
           "zerolinewidth": 2
          }
         }
        }
       }
      },
      "text/html": [
       "<div>                            <div id=\"62462b4c-f34c-4733-9667-19f3120ccc92\" class=\"plotly-graph-div\" style=\"height:525px; width:100%;\"></div>            <script type=\"text/javascript\">                require([\"plotly\"], function(Plotly) {                    window.PLOTLYENV=window.PLOTLYENV || {};                                    if (document.getElementById(\"62462b4c-f34c-4733-9667-19f3120ccc92\")) {                    Plotly.newPlot(                        \"62462b4c-f34c-4733-9667-19f3120ccc92\",                        [{\"hovertemplate\":\"color=b<br>x=%{x}<br>y=%{y}<br>z=%{z}<extra></extra>\",\"legendgroup\":\"b\",\"line\":{\"color\":\"#EF553B\",\"dash\":\"solid\"},\"marker\":{\"symbol\":\"circle\"},\"mode\":\"lines\",\"name\":\"b\",\"scene\":\"scene\",\"showlegend\":true,\"x\":[12.958169524509023,12.985862593556698,12.933793256634118,12.778989208680596,12.697968414485484,12.996056722744507,12.752781202850414,12.492254462218668,12.58627867123381,12.567548582866745,12.560655482029112],\"y\":[14.145683302523375,14.116148532726214,14.171535209796271,14.33619955328723,14.424006514369353,14.105397320288423,14.364259596315467,14.639180459959148,14.541451284039251,14.56134829537492,14.568680421423435],\"z\":[458783.22785163455,458815.3940230154,458869.65029911505,458994.0981043289,459163.3605954164,459266.79998999316,459139.86430499004,458873.63159433467,458781.3296252868,458761.4648135813,458729.44917165855],\"type\":\"scatter3d\"},{\"hovertemplate\":\"x=%{x}<br>y=%{y}<br>z=%{z}<extra></extra>\",\"legendgroup\":\"\",\"line\":{\"color\":\"#636efa\",\"dash\":\"solid\"},\"marker\":{\"symbol\":\"circle\"},\"mode\":\"lines\",\"name\":\"\",\"scene\":\"scene\",\"showlegend\":false,\"x\":[12.958169524509023,12.91841812026103,12.87866671601304,12.838915311765046,12.799163907517059,12.759412503269067,12.719661099021074,12.679909694773087,12.640158290525095,12.600406886277103,12.560655482029112],\"y\":[14.145683302523375,14.187983014413383,14.230282726303384,14.272582438193394,14.3148821500834,14.357181861973404,14.399481573863412,14.441781285753418,14.484080997643423,14.52638070953343,14.568680421423435],\"z\":[458783.22785163455,456137.9919172468,455486.6660985581,455110.4034683276,454895.65659437934,454822.9126512114,454890.2845641394,455098.81076691323,455467.0538670933,456107.04028626776,458729.44917165855],\"type\":\"scatter3d\"},{\"x\":[12.259412503269067,12.359412503269066,12.459412503269066,12.559412503269067,12.659412503269067,12.759412503269067,12.859412503269066,12.959412503269066,13.059412503269067,13.159412503269067,13.259412503269067],\"y\":[13.857181861973404,13.957181861973403,14.057181861973403,14.157181861973404,14.257181861973404,14.357181861973404,14.457181861973403,14.557181861973403,14.657181861973404,14.757181861973404,14.857181861973404],\"z\":[[456058.4653680886,456184.2798593177,456138.01014112576,455951.32621486316,455649.9033538906,455256.8968334715,454783.901812315,454239.58381617215,453637.9556349994,452988.8080127389,452300.0746958321],[456123.64055779646,456270.9471499315,456245.0895332282,456077.8924094697,455795.15751350333,455420.14450699947,454964.5354767345,454437.06892283336,453851.8193487594,453218.63004347647,452545.4797724917],[456045.1405101859,456212.9417813074,456206.498899335,456057.79126462387,455792.74707174033,455434.73036698706,454995.5101636184,454483.89793450915,453914.0298951414,453295.80187803856,452637.237666369],[455847.8753541163,456035.3073927707,456047.41538747726,455916.333435407,455668.1161890719,455326.23207781586,454902.5370397327,454405.91551896406,453850.56544150965,453246.43518210034,452601.5935402002],[455552.41523970605,455758.72480336315,455788.6304839997,455674.4210737994,455442.27768160513,455115.77311819105,454706.8502449814,454224.46647591365,453682.8814461358,453092.09607117984,452460.2241655599],[455177.8567805815,455402.38313975226,455449.4258269084,455351.42832764663,455134.69820552005,454822.9126512114,454428.1014480039,453959.29497824126,453430.8145848267,452852.71372285474,452233.15122059855],[454733.1722515137,454975.3326112885,455038.92955863604,454956.5612709342,454754.66176493384,454457.01260974555,454075.7305091221,453619.9188124221,453103.96056905214,452537.96177236934,451930.1262632344],[454225.0719680273,454484.3496534001,454563.9842329961,454496.7285744435,454309.14314621006,454025.1138944243,453656.84444193763,453213.5111038513,452709.55863478116,452155.1455651787,451558.52074731706],[453665.5843539419,453941.51915297855,454036.73119849554,453984.12804691464,453810.3966170071,453539.52723055216,453183.8104281867,452752.4954894919,452260.0888731117,451716.80164541333,451130.927668957],[453063.0637613187,453355.2439698683,453465.6218214136,453427.2595597282,453266.9705525105,453008.8494958939,452665.2738470494,452245.5658488234,451764.29366270534,451231.7208898735,450656.1864021139],[452424.3275926805,452732.38341315376,452857.557316044,452833.06623111526,452685.84997366666,452440.1076129361,452108.30352140847,451699.8329040242,451229.3256240136,450707.0978162634,450141.533360757]],\"type\":\"surface\"}],                        {\"template\":{\"data\":{\"histogram2dcontour\":[{\"type\":\"histogram2dcontour\",\"colorbar\":{\"outlinewidth\":0,\"ticks\":\"\"},\"colorscale\":[[0.0,\"#0d0887\"],[0.1111111111111111,\"#46039f\"],[0.2222222222222222,\"#7201a8\"],[0.3333333333333333,\"#9c179e\"],[0.4444444444444444,\"#bd3786\"],[0.5555555555555556,\"#d8576b\"],[0.6666666666666666,\"#ed7953\"],[0.7777777777777778,\"#fb9f3a\"],[0.8888888888888888,\"#fdca26\"],[1.0,\"#f0f921\"]]}],\"choropleth\":[{\"type\":\"choropleth\",\"colorbar\":{\"outlinewidth\":0,\"ticks\":\"\"}}],\"histogram2d\":[{\"type\":\"histogram2d\",\"colorbar\":{\"outlinewidth\":0,\"ticks\":\"\"},\"colorscale\":[[0.0,\"#0d0887\"],[0.1111111111111111,\"#46039f\"],[0.2222222222222222,\"#7201a8\"],[0.3333333333333333,\"#9c179e\"],[0.4444444444444444,\"#bd3786\"],[0.5555555555555556,\"#d8576b\"],[0.6666666666666666,\"#ed7953\"],[0.7777777777777778,\"#fb9f3a\"],[0.8888888888888888,\"#fdca26\"],[1.0,\"#f0f921\"]]}],\"heatmap\":[{\"type\":\"heatmap\",\"colorbar\":{\"outlinewidth\":0,\"ticks\":\"\"},\"colorscale\":[[0.0,\"#0d0887\"],[0.1111111111111111,\"#46039f\"],[0.2222222222222222,\"#7201a8\"],[0.3333333333333333,\"#9c179e\"],[0.4444444444444444,\"#bd3786\"],[0.5555555555555556,\"#d8576b\"],[0.6666666666666666,\"#ed7953\"],[0.7777777777777778,\"#fb9f3a\"],[0.8888888888888888,\"#fdca26\"],[1.0,\"#f0f921\"]]}],\"heatmapgl\":[{\"type\":\"heatmapgl\",\"colorbar\":{\"outlinewidth\":0,\"ticks\":\"\"},\"colorscale\":[[0.0,\"#0d0887\"],[0.1111111111111111,\"#46039f\"],[0.2222222222222222,\"#7201a8\"],[0.3333333333333333,\"#9c179e\"],[0.4444444444444444,\"#bd3786\"],[0.5555555555555556,\"#d8576b\"],[0.6666666666666666,\"#ed7953\"],[0.7777777777777778,\"#fb9f3a\"],[0.8888888888888888,\"#fdca26\"],[1.0,\"#f0f921\"]]}],\"contourcarpet\":[{\"type\":\"contourcarpet\",\"colorbar\":{\"outlinewidth\":0,\"ticks\":\"\"}}],\"contour\":[{\"type\":\"contour\",\"colorbar\":{\"outlinewidth\":0,\"ticks\":\"\"},\"colorscale\":[[0.0,\"#0d0887\"],[0.1111111111111111,\"#46039f\"],[0.2222222222222222,\"#7201a8\"],[0.3333333333333333,\"#9c179e\"],[0.4444444444444444,\"#bd3786\"],[0.5555555555555556,\"#d8576b\"],[0.6666666666666666,\"#ed7953\"],[0.7777777777777778,\"#fb9f3a\"],[0.8888888888888888,\"#fdca26\"],[1.0,\"#f0f921\"]]}],\"surface\":[{\"type\":\"surface\",\"colorbar\":{\"outlinewidth\":0,\"ticks\":\"\"},\"colorscale\":[[0.0,\"#0d0887\"],[0.1111111111111111,\"#46039f\"],[0.2222222222222222,\"#7201a8\"],[0.3333333333333333,\"#9c179e\"],[0.4444444444444444,\"#bd3786\"],[0.5555555555555556,\"#d8576b\"],[0.6666666666666666,\"#ed7953\"],[0.7777777777777778,\"#fb9f3a\"],[0.8888888888888888,\"#fdca26\"],[1.0,\"#f0f921\"]]}],\"mesh3d\":[{\"type\":\"mesh3d\",\"colorbar\":{\"outlinewidth\":0,\"ticks\":\"\"}}],\"scatter\":[{\"fillpattern\":{\"fillmode\":\"overlay\",\"size\":10,\"solidity\":0.2},\"type\":\"scatter\"}],\"parcoords\":[{\"type\":\"parcoords\",\"line\":{\"colorbar\":{\"outlinewidth\":0,\"ticks\":\"\"}}}],\"scatterpolargl\":[{\"type\":\"scatterpolargl\",\"marker\":{\"colorbar\":{\"outlinewidth\":0,\"ticks\":\"\"}}}],\"bar\":[{\"error_x\":{\"color\":\"#2a3f5f\"},\"error_y\":{\"color\":\"#2a3f5f\"},\"marker\":{\"line\":{\"color\":\"#E5ECF6\",\"width\":0.5},\"pattern\":{\"fillmode\":\"overlay\",\"size\":10,\"solidity\":0.2}},\"type\":\"bar\"}],\"scattergeo\":[{\"type\":\"scattergeo\",\"marker\":{\"colorbar\":{\"outlinewidth\":0,\"ticks\":\"\"}}}],\"scatterpolar\":[{\"type\":\"scatterpolar\",\"marker\":{\"colorbar\":{\"outlinewidth\":0,\"ticks\":\"\"}}}],\"histogram\":[{\"marker\":{\"pattern\":{\"fillmode\":\"overlay\",\"size\":10,\"solidity\":0.2}},\"type\":\"histogram\"}],\"scattergl\":[{\"type\":\"scattergl\",\"marker\":{\"colorbar\":{\"outlinewidth\":0,\"ticks\":\"\"}}}],\"scatter3d\":[{\"type\":\"scatter3d\",\"line\":{\"colorbar\":{\"outlinewidth\":0,\"ticks\":\"\"}},\"marker\":{\"colorbar\":{\"outlinewidth\":0,\"ticks\":\"\"}}}],\"scattermapbox\":[{\"type\":\"scattermapbox\",\"marker\":{\"colorbar\":{\"outlinewidth\":0,\"ticks\":\"\"}}}],\"scatterternary\":[{\"type\":\"scatterternary\",\"marker\":{\"colorbar\":{\"outlinewidth\":0,\"ticks\":\"\"}}}],\"scattercarpet\":[{\"type\":\"scattercarpet\",\"marker\":{\"colorbar\":{\"outlinewidth\":0,\"ticks\":\"\"}}}],\"carpet\":[{\"aaxis\":{\"endlinecolor\":\"#2a3f5f\",\"gridcolor\":\"white\",\"linecolor\":\"white\",\"minorgridcolor\":\"white\",\"startlinecolor\":\"#2a3f5f\"},\"baxis\":{\"endlinecolor\":\"#2a3f5f\",\"gridcolor\":\"white\",\"linecolor\":\"white\",\"minorgridcolor\":\"white\",\"startlinecolor\":\"#2a3f5f\"},\"type\":\"carpet\"}],\"table\":[{\"cells\":{\"fill\":{\"color\":\"#EBF0F8\"},\"line\":{\"color\":\"white\"}},\"header\":{\"fill\":{\"color\":\"#C8D4E3\"},\"line\":{\"color\":\"white\"}},\"type\":\"table\"}],\"barpolar\":[{\"marker\":{\"line\":{\"color\":\"#E5ECF6\",\"width\":0.5},\"pattern\":{\"fillmode\":\"overlay\",\"size\":10,\"solidity\":0.2}},\"type\":\"barpolar\"}],\"pie\":[{\"automargin\":true,\"type\":\"pie\"}]},\"layout\":{\"autotypenumbers\":\"strict\",\"colorway\":[\"#636efa\",\"#EF553B\",\"#00cc96\",\"#ab63fa\",\"#FFA15A\",\"#19d3f3\",\"#FF6692\",\"#B6E880\",\"#FF97FF\",\"#FECB52\"],\"font\":{\"color\":\"#2a3f5f\"},\"hovermode\":\"closest\",\"hoverlabel\":{\"align\":\"left\"},\"paper_bgcolor\":\"white\",\"plot_bgcolor\":\"#E5ECF6\",\"polar\":{\"bgcolor\":\"#E5ECF6\",\"angularaxis\":{\"gridcolor\":\"white\",\"linecolor\":\"white\",\"ticks\":\"\"},\"radialaxis\":{\"gridcolor\":\"white\",\"linecolor\":\"white\",\"ticks\":\"\"}},\"ternary\":{\"bgcolor\":\"#E5ECF6\",\"aaxis\":{\"gridcolor\":\"white\",\"linecolor\":\"white\",\"ticks\":\"\"},\"baxis\":{\"gridcolor\":\"white\",\"linecolor\":\"white\",\"ticks\":\"\"},\"caxis\":{\"gridcolor\":\"white\",\"linecolor\":\"white\",\"ticks\":\"\"}},\"coloraxis\":{\"colorbar\":{\"outlinewidth\":0,\"ticks\":\"\"}},\"colorscale\":{\"sequential\":[[0.0,\"#0d0887\"],[0.1111111111111111,\"#46039f\"],[0.2222222222222222,\"#7201a8\"],[0.3333333333333333,\"#9c179e\"],[0.4444444444444444,\"#bd3786\"],[0.5555555555555556,\"#d8576b\"],[0.6666666666666666,\"#ed7953\"],[0.7777777777777778,\"#fb9f3a\"],[0.8888888888888888,\"#fdca26\"],[1.0,\"#f0f921\"]],\"sequentialminus\":[[0.0,\"#0d0887\"],[0.1111111111111111,\"#46039f\"],[0.2222222222222222,\"#7201a8\"],[0.3333333333333333,\"#9c179e\"],[0.4444444444444444,\"#bd3786\"],[0.5555555555555556,\"#d8576b\"],[0.6666666666666666,\"#ed7953\"],[0.7777777777777778,\"#fb9f3a\"],[0.8888888888888888,\"#fdca26\"],[1.0,\"#f0f921\"]],\"diverging\":[[0,\"#8e0152\"],[0.1,\"#c51b7d\"],[0.2,\"#de77ae\"],[0.3,\"#f1b6da\"],[0.4,\"#fde0ef\"],[0.5,\"#f7f7f7\"],[0.6,\"#e6f5d0\"],[0.7,\"#b8e186\"],[0.8,\"#7fbc41\"],[0.9,\"#4d9221\"],[1,\"#276419\"]]},\"xaxis\":{\"gridcolor\":\"white\",\"linecolor\":\"white\",\"ticks\":\"\",\"title\":{\"standoff\":15},\"zerolinecolor\":\"white\",\"automargin\":true,\"zerolinewidth\":2},\"yaxis\":{\"gridcolor\":\"white\",\"linecolor\":\"white\",\"ticks\":\"\",\"title\":{\"standoff\":15},\"zerolinecolor\":\"white\",\"automargin\":true,\"zerolinewidth\":2},\"scene\":{\"xaxis\":{\"backgroundcolor\":\"#E5ECF6\",\"gridcolor\":\"white\",\"linecolor\":\"white\",\"showbackground\":true,\"ticks\":\"\",\"zerolinecolor\":\"white\",\"gridwidth\":2},\"yaxis\":{\"backgroundcolor\":\"#E5ECF6\",\"gridcolor\":\"white\",\"linecolor\":\"white\",\"showbackground\":true,\"ticks\":\"\",\"zerolinecolor\":\"white\",\"gridwidth\":2},\"zaxis\":{\"backgroundcolor\":\"#E5ECF6\",\"gridcolor\":\"white\",\"linecolor\":\"white\",\"showbackground\":true,\"ticks\":\"\",\"zerolinecolor\":\"white\",\"gridwidth\":2}},\"shapedefaults\":{\"line\":{\"color\":\"#2a3f5f\"}},\"annotationdefaults\":{\"arrowcolor\":\"#2a3f5f\",\"arrowhead\":0,\"arrowwidth\":1},\"geo\":{\"bgcolor\":\"white\",\"landcolor\":\"#E5ECF6\",\"subunitcolor\":\"white\",\"showland\":true,\"showlakes\":true,\"lakecolor\":\"white\"},\"title\":{\"x\":0.05},\"mapbox\":{\"style\":\"light\"}}}},                        {\"responsive\": true}                    ).then(function(){\n",
       "                            \n",
       "var gd = document.getElementById('62462b4c-f34c-4733-9667-19f3120ccc92');\n",
       "var x = new MutationObserver(function (mutations, observer) {{\n",
       "        var display = window.getComputedStyle(gd).display;\n",
       "        if (!display || display === 'none') {{\n",
       "            console.log([gd, 'removed!']);\n",
       "            Plotly.purge(gd);\n",
       "            observer.disconnect();\n",
       "        }}\n",
       "}});\n",
       "\n",
       "// Listen for the removal of the full notebook cells\n",
       "var notebookContainer = gd.closest('#notebook-container');\n",
       "if (notebookContainer) {{\n",
       "    x.observe(notebookContainer, {childList: true});\n",
       "}}\n",
       "\n",
       "// Listen for the clearing of the current output cell\n",
       "var outputEl = gd.closest('.output');\n",
       "if (outputEl) {{\n",
       "    x.observe(outputEl, {childList: true});\n",
       "}}\n",
       "\n",
       "                        })                };                });            </script>        </div>"
      ]
     },
     "metadata": {},
     "output_type": "display_data"
    }
   ],
   "source": [
    "import plotly.express as px\n",
    "import pandas as pd\n",
    "import plotly.graph_objects as go\n",
    "\n",
    "x = x_list\n",
    "y = y_list\n",
    "z = total_ELBO_list[-1]\n",
    "color1=[\"b\" for i in range(len(x_list))]\n",
    "df = pd.DataFrame({\"x\": x, \"y\":y, \"z\":z, \"color\":color1})\n",
    "\n",
    "fig1 = px.line_3d(df, x=\"x\", y=\"y\", z=\"z\", color=\"color\" ,color_discrete_map={ \"a\": \"RebeccaPurple\"})\n",
    "\n",
    "x2 = init_x\n",
    "y2 = init_y\n",
    "z2 = elbo_init\n",
    "df = pd.DataFrame({\"x\": x2, \"y\":y2, \"z\":z2})\n",
    "\n",
    "fig2 = px.line_3d(df, x=\"x\", y=\"y\", z=\"z\")\n",
    "\n",
    "fig3 = go.Figure(data=[go.Surface(x=h_list, y=v_list, z=loss_surface)])\n",
    "\n",
    "fig = go.Figure(data = fig1.data + fig2.data +fig3.data)\n",
    "fig.show()"
   ]
  },
  {
   "cell_type": "code",
   "execution_count": 75,
   "metadata": {},
   "outputs": [
    {
     "data": {
      "text/plain": [
       "100"
      ]
     },
     "execution_count": 75,
     "metadata": {},
     "output_type": "execute_result"
    }
   ],
   "source": [
    "len(His)"
   ]
  },
  {
   "cell_type": "markdown",
   "metadata": {
    "id": "BdVPyys37bn-"
   },
   "source": [
    "### out of sample performance\n"
   ]
  },
  {
   "cell_type": "code",
   "execution_count": 76,
   "metadata": {},
   "outputs": [
    {
     "name": "stderr",
     "output_type": "stream",
     "text": [
      "/var/folders/mw/9bfg1rf52g57tm0mgxqjy4gm0000gn/T/ipykernel_4130/2775555696.py:22: DeprecationWarning:\n",
      "\n",
      "`np.int` is a deprecated alias for the builtin `int`. To silence this warning, use `int` by itself. Doing this will not modify any behavior and is safe. When replacing `np.int`, you may wish to use e.g. `np.int64` or `np.int32` to specify the precision. If you wish to review your current use, check the release note link for additional information.\n",
      "Deprecated in NumPy 1.20; for more details and guidance: https://numpy.org/devdocs/release/1.20.0-notes.html#deprecations\n",
      "\n"
     ]
    },
    {
     "name": "stdout",
     "output_type": "stream",
     "text": [
      "Loading index-to-word mapping...\n",
      "Loading article bag-of-word representations...\n",
      "2246 articles found.\n"
     ]
    },
    {
     "name": "stderr",
     "output_type": "stream",
     "text": [
      "100%|████████████████████████████████████████| 2246/2246 [00:00<00:00, 14113.62it/s]\n"
     ]
    }
   ],
   "source": [
    "idx_to_words, articles, nonzero_idxs = load_data(BOW_PATH,VOCAB_PATH, trim = 1)\n",
    "test_articles = articles[-10:]\n",
    "test_nonzero_idxs = nonzero_idxs[-10:]"
   ]
  },
  {
   "cell_type": "code",
   "execution_count": 80,
   "metadata": {
    "scrolled": true
   },
   "outputs": [
    {
     "name": "stdout",
     "output_type": "stream",
     "text": [
      "Computing predictive likelihood score on held out documents...\n"
     ]
    },
    {
     "name": "stderr",
     "output_type": "stream",
     "text": [
      "100%|█████████████████████████████████████████████| 12/12 [00:00<00:00, 1411.43it/s]\n"
     ]
    },
    {
     "name": "stdout",
     "output_type": "stream",
     "text": [
      "Predictive likelihood: -10264.712675764022\n",
      "Computing predictive likelihood score on held out documents...\n"
     ]
    },
    {
     "name": "stderr",
     "output_type": "stream",
     "text": [
      "100%|█████████████████████████████████████████████| 12/12 [00:00<00:00, 2980.50it/s]\n"
     ]
    },
    {
     "name": "stdout",
     "output_type": "stream",
     "text": [
      "Predictive likelihood: -10257.588530630926\n",
      "Computing predictive likelihood score on held out documents...\n"
     ]
    },
    {
     "name": "stderr",
     "output_type": "stream",
     "text": [
      "100%|█████████████████████████████████████████████| 12/12 [00:00<00:00, 3330.80it/s]\n"
     ]
    },
    {
     "name": "stdout",
     "output_type": "stream",
     "text": [
      "Predictive likelihood: -10259.612360060442\n",
      "Computing predictive likelihood score on held out documents...\n"
     ]
    },
    {
     "name": "stderr",
     "output_type": "stream",
     "text": [
      "100%|█████████████████████████████████████████████| 12/12 [00:00<00:00, 3047.08it/s]\n"
     ]
    },
    {
     "name": "stdout",
     "output_type": "stream",
     "text": [
      "Predictive likelihood: -10263.007146859818\n",
      "Computing predictive likelihood score on held out documents...\n"
     ]
    },
    {
     "name": "stderr",
     "output_type": "stream",
     "text": [
      "100%|█████████████████████████████████████████████| 12/12 [00:00<00:00, 3366.89it/s]\n"
     ]
    },
    {
     "name": "stdout",
     "output_type": "stream",
     "text": [
      "Predictive likelihood: -10266.647752087267\n",
      "Computing predictive likelihood score on held out documents...\n"
     ]
    },
    {
     "name": "stderr",
     "output_type": "stream",
     "text": [
      "100%|█████████████████████████████████████████████| 12/12 [00:00<00:00, 4152.09it/s]\n"
     ]
    },
    {
     "name": "stdout",
     "output_type": "stream",
     "text": [
      "Predictive likelihood: -10270.685227099584\n",
      "Computing predictive likelihood score on held out documents...\n"
     ]
    },
    {
     "name": "stderr",
     "output_type": "stream",
     "text": [
      "100%|█████████████████████████████████████████████| 12/12 [00:00<00:00, 3297.62it/s]\n"
     ]
    },
    {
     "name": "stdout",
     "output_type": "stream",
     "text": [
      "Predictive likelihood: -10274.419839158702\n",
      "Computing predictive likelihood score on held out documents...\n"
     ]
    },
    {
     "name": "stderr",
     "output_type": "stream",
     "text": [
      "100%|█████████████████████████████████████████████| 12/12 [00:00<00:00, 3826.63it/s]\n"
     ]
    },
    {
     "name": "stdout",
     "output_type": "stream",
     "text": [
      "Predictive likelihood: -10277.237059396979\n",
      "Computing predictive likelihood score on held out documents...\n"
     ]
    },
    {
     "name": "stderr",
     "output_type": "stream",
     "text": [
      "100%|█████████████████████████████████████████████| 12/12 [00:00<00:00, 3128.13it/s]\n"
     ]
    },
    {
     "name": "stdout",
     "output_type": "stream",
     "text": [
      "Predictive likelihood: -10278.764819578095\n",
      "Computing predictive likelihood score on held out documents...\n"
     ]
    },
    {
     "name": "stderr",
     "output_type": "stream",
     "text": [
      "100%|█████████████████████████████████████████████| 12/12 [00:00<00:00, 3490.16it/s]\n"
     ]
    },
    {
     "name": "stdout",
     "output_type": "stream",
     "text": [
      "Predictive likelihood: -10280.116076539874\n",
      "Computing predictive likelihood score on held out documents...\n"
     ]
    },
    {
     "name": "stderr",
     "output_type": "stream",
     "text": [
      "100%|█████████████████████████████████████████████| 12/12 [00:00<00:00, 3897.45it/s]\n"
     ]
    },
    {
     "name": "stdout",
     "output_type": "stream",
     "text": [
      "Predictive likelihood: -10287.607427437135\n",
      "Computing predictive likelihood score on held out documents...\n"
     ]
    },
    {
     "name": "stderr",
     "output_type": "stream",
     "text": [
      "100%|█████████████████████████████████████████████| 12/12 [00:00<00:00, 3301.95it/s]\n"
     ]
    },
    {
     "name": "stdout",
     "output_type": "stream",
     "text": [
      "Predictive likelihood: -10264.712675764022\n",
      "Computing predictive likelihood score on held out documents...\n"
     ]
    },
    {
     "name": "stderr",
     "output_type": "stream",
     "text": [
      "100%|█████████████████████████████████████████████| 12/12 [00:00<00:00, 4374.76it/s]\n"
     ]
    },
    {
     "name": "stdout",
     "output_type": "stream",
     "text": [
      "Predictive likelihood: -10257.435947417724\n",
      "Computing predictive likelihood score on held out documents...\n"
     ]
    },
    {
     "name": "stderr",
     "output_type": "stream",
     "text": [
      "100%|█████████████████████████████████████████████| 12/12 [00:00<00:00, 3867.20it/s]\n"
     ]
    },
    {
     "name": "stdout",
     "output_type": "stream",
     "text": [
      "Predictive likelihood: -10256.674154606117\n",
      "Computing predictive likelihood score on held out documents...\n"
     ]
    },
    {
     "name": "stderr",
     "output_type": "stream",
     "text": [
      "100%|█████████████████████████████████████████████| 12/12 [00:00<00:00, 3751.05it/s]\n"
     ]
    },
    {
     "name": "stdout",
     "output_type": "stream",
     "text": [
      "Predictive likelihood: -10254.685957000578\n",
      "Computing predictive likelihood score on held out documents...\n"
     ]
    },
    {
     "name": "stderr",
     "output_type": "stream",
     "text": [
      "100%|█████████████████████████████████████████████| 12/12 [00:00<00:00, 3752.45it/s]\n"
     ]
    },
    {
     "name": "stdout",
     "output_type": "stream",
     "text": [
      "Predictive likelihood: -10253.338598111452\n",
      "Computing predictive likelihood score on held out documents...\n"
     ]
    },
    {
     "name": "stderr",
     "output_type": "stream",
     "text": [
      "100%|█████████████████████████████████████████████| 12/12 [00:00<00:00, 4218.21it/s]\n"
     ]
    },
    {
     "name": "stdout",
     "output_type": "stream",
     "text": [
      "Predictive likelihood: -10256.224529589372\n",
      "Computing predictive likelihood score on held out documents...\n"
     ]
    },
    {
     "name": "stderr",
     "output_type": "stream",
     "text": [
      "100%|█████████████████████████████████████████████| 12/12 [00:00<00:00, 4669.42it/s]\n"
     ]
    },
    {
     "name": "stdout",
     "output_type": "stream",
     "text": [
      "Predictive likelihood: -10262.680303519803\n",
      "Computing predictive likelihood score on held out documents...\n"
     ]
    },
    {
     "name": "stderr",
     "output_type": "stream",
     "text": [
      "100%|█████████████████████████████████████████████| 12/12 [00:00<00:00, 3520.93it/s]\n"
     ]
    },
    {
     "name": "stdout",
     "output_type": "stream",
     "text": [
      "Predictive likelihood: -10270.658929909478\n",
      "Computing predictive likelihood score on held out documents...\n"
     ]
    },
    {
     "name": "stderr",
     "output_type": "stream",
     "text": [
      "100%|█████████████████████████████████████████████| 12/12 [00:00<00:00, 4150.72it/s]\n"
     ]
    },
    {
     "name": "stdout",
     "output_type": "stream",
     "text": [
      "Predictive likelihood: -10276.83581643854\n",
      "Computing predictive likelihood score on held out documents...\n"
     ]
    },
    {
     "name": "stderr",
     "output_type": "stream",
     "text": [
      "100%|█████████████████████████████████████████████| 12/12 [00:00<00:00, 3504.75it/s]\n"
     ]
    },
    {
     "name": "stdout",
     "output_type": "stream",
     "text": [
      "Predictive likelihood: -10280.233301544034\n",
      "Computing predictive likelihood score on held out documents...\n"
     ]
    },
    {
     "name": "stderr",
     "output_type": "stream",
     "text": [
      "100%|█████████████████████████████████████████████| 12/12 [00:00<00:00, 3551.23it/s]\n"
     ]
    },
    {
     "name": "stdout",
     "output_type": "stream",
     "text": [
      "Predictive likelihood: -10287.607427437135\n",
      "Computing predictive likelihood score on held out documents...\n"
     ]
    },
    {
     "name": "stderr",
     "output_type": "stream",
     "text": [
      "100%|█████████████████████████████████████████████| 12/12 [00:00<00:00, 3748.82it/s]\n"
     ]
    },
    {
     "name": "stdout",
     "output_type": "stream",
     "text": [
      "Predictive likelihood: -10264.712675764022\n",
      "Computing predictive likelihood score on held out documents...\n"
     ]
    },
    {
     "name": "stderr",
     "output_type": "stream",
     "text": [
      "100%|█████████████████████████████████████████████| 12/12 [00:00<00:00, 3023.28it/s]\n"
     ]
    },
    {
     "name": "stdout",
     "output_type": "stream",
     "text": [
      "Predictive likelihood: -10257.412533301202\n",
      "Computing predictive likelihood score on held out documents...\n"
     ]
    },
    {
     "name": "stderr",
     "output_type": "stream",
     "text": [
      "100%|█████████████████████████████████████████████| 12/12 [00:00<00:00, 3642.73it/s]\n"
     ]
    },
    {
     "name": "stdout",
     "output_type": "stream",
     "text": [
      "Predictive likelihood: -10254.2390043662\n",
      "Computing predictive likelihood score on held out documents...\n"
     ]
    },
    {
     "name": "stderr",
     "output_type": "stream",
     "text": [
      "100%|█████████████████████████████████████████████| 12/12 [00:00<00:00, 3997.43it/s]\n"
     ]
    },
    {
     "name": "stdout",
     "output_type": "stream",
     "text": [
      "Predictive likelihood: -10246.637497016816\n",
      "Computing predictive likelihood score on held out documents...\n"
     ]
    },
    {
     "name": "stderr",
     "output_type": "stream",
     "text": [
      "100%|█████████████████████████████████████████████| 12/12 [00:00<00:00, 3511.84it/s]\n"
     ]
    },
    {
     "name": "stdout",
     "output_type": "stream",
     "text": [
      "Predictive likelihood: -10239.368365753613\n",
      "Computing predictive likelihood score on held out documents...\n"
     ]
    },
    {
     "name": "stderr",
     "output_type": "stream",
     "text": [
      "100%|█████████████████████████████████████████████| 12/12 [00:00<00:00, 3794.03it/s]\n"
     ]
    },
    {
     "name": "stdout",
     "output_type": "stream",
     "text": [
      "Predictive likelihood: -10240.815291123725\n",
      "Computing predictive likelihood score on held out documents...\n"
     ]
    },
    {
     "name": "stderr",
     "output_type": "stream",
     "text": [
      "100%|█████████████████████████████████████████████| 12/12 [00:00<00:00, 4360.36it/s]\n"
     ]
    },
    {
     "name": "stdout",
     "output_type": "stream",
     "text": [
      "Predictive likelihood: -10250.443905109769\n",
      "Computing predictive likelihood score on held out documents...\n"
     ]
    },
    {
     "name": "stderr",
     "output_type": "stream",
     "text": [
      "100%|█████████████████████████████████████████████| 12/12 [00:00<00:00, 3963.12it/s]\n"
     ]
    },
    {
     "name": "stdout",
     "output_type": "stream",
     "text": [
      "Predictive likelihood: -10264.391489110769\n",
      "Computing predictive likelihood score on held out documents...\n"
     ]
    },
    {
     "name": "stderr",
     "output_type": "stream",
     "text": [
      "100%|█████████████████████████████████████████████| 12/12 [00:00<00:00, 3831.29it/s]\n"
     ]
    },
    {
     "name": "stdout",
     "output_type": "stream",
     "text": [
      "Predictive likelihood: -10275.32296231219\n",
      "Computing predictive likelihood score on held out documents...\n"
     ]
    },
    {
     "name": "stderr",
     "output_type": "stream",
     "text": [
      "100%|█████████████████████████████████████████████| 12/12 [00:00<00:00, 3608.78it/s]\n"
     ]
    },
    {
     "name": "stdout",
     "output_type": "stream",
     "text": [
      "Predictive likelihood: -10280.434226539737\n",
      "Computing predictive likelihood score on held out documents...\n"
     ]
    },
    {
     "name": "stderr",
     "output_type": "stream",
     "text": [
      "100%|█████████████████████████████████████████████| 12/12 [00:00<00:00, 4920.00it/s]\n"
     ]
    },
    {
     "name": "stdout",
     "output_type": "stream",
     "text": [
      "Predictive likelihood: -10287.607427437135\n",
      "Computing predictive likelihood score on held out documents...\n"
     ]
    },
    {
     "name": "stderr",
     "output_type": "stream",
     "text": [
      "100%|█████████████████████████████████████████████| 12/12 [00:00<00:00, 3433.50it/s]\n"
     ]
    },
    {
     "name": "stdout",
     "output_type": "stream",
     "text": [
      "Predictive likelihood: -10264.712675764022\n",
      "Computing predictive likelihood score on held out documents...\n"
     ]
    },
    {
     "name": "stderr",
     "output_type": "stream",
     "text": [
      "100%|█████████████████████████████████████████████| 12/12 [00:00<00:00, 3871.07it/s]\n"
     ]
    },
    {
     "name": "stdout",
     "output_type": "stream",
     "text": [
      "Predictive likelihood: -10257.490937272974\n",
      "Computing predictive likelihood score on held out documents...\n"
     ]
    },
    {
     "name": "stderr",
     "output_type": "stream",
     "text": [
      "100%|█████████████████████████████████████████████| 12/12 [00:00<00:00, 3321.12it/s]\n"
     ]
    },
    {
     "name": "stdout",
     "output_type": "stream",
     "text": [
      "Predictive likelihood: -10252.22722048262\n",
      "Computing predictive likelihood score on held out documents...\n"
     ]
    },
    {
     "name": "stderr",
     "output_type": "stream",
     "text": [
      "100%|█████████████████████████████████████████████| 12/12 [00:00<00:00, 4048.56it/s]\n"
     ]
    },
    {
     "name": "stdout",
     "output_type": "stream",
     "text": [
      "Predictive likelihood: -10238.933301765646\n",
      "Computing predictive likelihood score on held out documents...\n"
     ]
    },
    {
     "name": "stderr",
     "output_type": "stream",
     "text": [
      "100%|█████████████████████████████████████████████| 12/12 [00:00<00:00, 4400.39it/s]\n"
     ]
    },
    {
     "name": "stdout",
     "output_type": "stream",
     "text": [
      "Predictive likelihood: -10224.939043786624\n",
      "Computing predictive likelihood score on held out documents...\n"
     ]
    },
    {
     "name": "stderr",
     "output_type": "stream",
     "text": [
      "100%|█████████████████████████████████████████████| 12/12 [00:00<00:00, 3343.41it/s]\n"
     ]
    },
    {
     "name": "stdout",
     "output_type": "stream",
     "text": [
      "Predictive likelihood: -10224.653205947568\n",
      "Computing predictive likelihood score on held out documents...\n"
     ]
    },
    {
     "name": "stderr",
     "output_type": "stream",
     "text": [
      "100%|█████████████████████████████████████████████| 12/12 [00:00<00:00, 3918.99it/s]\n"
     ]
    },
    {
     "name": "stdout",
     "output_type": "stream",
     "text": [
      "Predictive likelihood: -10237.848348650954\n",
      "Computing predictive likelihood score on held out documents...\n"
     ]
    },
    {
     "name": "stderr",
     "output_type": "stream",
     "text": [
      "100%|█████████████████████████████████████████████| 12/12 [00:00<00:00, 3486.54it/s]\n"
     ]
    },
    {
     "name": "stdout",
     "output_type": "stream",
     "text": [
      "Predictive likelihood: -10258.485519933196\n",
      "Computing predictive likelihood score on held out documents...\n"
     ]
    },
    {
     "name": "stderr",
     "output_type": "stream",
     "text": [
      "100%|█████████████████████████████████████████████| 12/12 [00:00<00:00, 4524.60it/s]\n"
     ]
    },
    {
     "name": "stdout",
     "output_type": "stream",
     "text": [
      "Predictive likelihood: -10274.157418053845\n",
      "Computing predictive likelihood score on held out documents...\n"
     ]
    },
    {
     "name": "stderr",
     "output_type": "stream",
     "text": [
      "100%|█████████████████████████████████████████████| 12/12 [00:00<00:00, 3946.34it/s]\n"
     ]
    },
    {
     "name": "stdout",
     "output_type": "stream",
     "text": [
      "Predictive likelihood: -10280.697689066135\n",
      "Computing predictive likelihood score on held out documents...\n"
     ]
    },
    {
     "name": "stderr",
     "output_type": "stream",
     "text": [
      "100%|█████████████████████████████████████████████| 12/12 [00:00<00:00, 4004.75it/s]\n"
     ]
    },
    {
     "name": "stdout",
     "output_type": "stream",
     "text": [
      "Predictive likelihood: -10287.607427437135\n",
      "Computing predictive likelihood score on held out documents...\n"
     ]
    },
    {
     "name": "stderr",
     "output_type": "stream",
     "text": [
      "100%|█████████████████████████████████████████████| 12/12 [00:00<00:00, 3457.08it/s]\n"
     ]
    },
    {
     "name": "stdout",
     "output_type": "stream",
     "text": [
      "Predictive likelihood: -10264.712675764022\n",
      "Computing predictive likelihood score on held out documents...\n"
     ]
    },
    {
     "name": "stderr",
     "output_type": "stream",
     "text": [
      "100%|█████████████████████████████████████████████| 12/12 [00:00<00:00, 4054.10it/s]\n"
     ]
    },
    {
     "name": "stdout",
     "output_type": "stream",
     "text": [
      "Predictive likelihood: -10257.647909376668\n",
      "Computing predictive likelihood score on held out documents...\n"
     ]
    },
    {
     "name": "stderr",
     "output_type": "stream",
     "text": [
      "100%|█████████████████████████████████████████████| 12/12 [00:00<00:00, 4925.78it/s]\n"
     ]
    },
    {
     "name": "stdout",
     "output_type": "stream",
     "text": [
      "Predictive likelihood: -10250.562754213257\n",
      "Computing predictive likelihood score on held out documents...\n"
     ]
    },
    {
     "name": "stderr",
     "output_type": "stream",
     "text": [
      "100%|█████████████████████████████████████████████| 12/12 [00:00<00:00, 3229.08it/s]\n"
     ]
    },
    {
     "name": "stdout",
     "output_type": "stream",
     "text": [
      "Predictive likelihood: -10231.62896407078\n",
      "Computing predictive likelihood score on held out documents...\n"
     ]
    },
    {
     "name": "stderr",
     "output_type": "stream",
     "text": [
      "100%|█████████████████████████████████████████████| 12/12 [00:00<00:00, 3989.51it/s]\n"
     ]
    },
    {
     "name": "stdout",
     "output_type": "stream",
     "text": [
      "Predictive likelihood: -10210.26401657569\n",
      "Computing predictive likelihood score on held out documents...\n"
     ]
    },
    {
     "name": "stderr",
     "output_type": "stream",
     "text": [
      "100%|█████████████████████████████████████████████| 12/12 [00:00<00:00, 3313.25it/s]\n"
     ]
    },
    {
     "name": "stdout",
     "output_type": "stream",
     "text": [
      "Predictive likelihood: -10207.943772851708\n",
      "Computing predictive likelihood score on held out documents...\n"
     ]
    },
    {
     "name": "stderr",
     "output_type": "stream",
     "text": [
      "100%|█████████████████████████████████████████████| 12/12 [00:00<00:00, 3517.73it/s]\n"
     ]
    },
    {
     "name": "stdout",
     "output_type": "stream",
     "text": [
      "Predictive likelihood: -10225.036084272264\n",
      "Computing predictive likelihood score on held out documents...\n"
     ]
    },
    {
     "name": "stderr",
     "output_type": "stream",
     "text": [
      "100%|█████████████████████████████████████████████| 12/12 [00:00<00:00, 1218.54it/s]\n"
     ]
    },
    {
     "name": "stdout",
     "output_type": "stream",
     "text": [
      "Predictive likelihood: -10252.97560010167\n",
      "Computing predictive likelihood score on held out documents...\n"
     ]
    },
    {
     "name": "stderr",
     "output_type": "stream",
     "text": [
      "100%|█████████████████████████████████████████████| 12/12 [00:00<00:00, 3406.08it/s]\n"
     ]
    },
    {
     "name": "stdout",
     "output_type": "stream",
     "text": [
      "Predictive likelihood: -10273.273522900101\n",
      "Computing predictive likelihood score on held out documents...\n"
     ]
    },
    {
     "name": "stderr",
     "output_type": "stream",
     "text": [
      "100%|█████████████████████████████████████████████| 12/12 [00:00<00:00, 3782.06it/s]\n"
     ]
    },
    {
     "name": "stdout",
     "output_type": "stream",
     "text": [
      "Predictive likelihood: -10281.006103512205\n",
      "Computing predictive likelihood score on held out documents...\n"
     ]
    },
    {
     "name": "stderr",
     "output_type": "stream",
     "text": [
      "100%|█████████████████████████████████████████████| 12/12 [00:00<00:00, 3220.61it/s]\n"
     ]
    },
    {
     "name": "stdout",
     "output_type": "stream",
     "text": [
      "Predictive likelihood: -10287.607427437135\n",
      "Computing predictive likelihood score on held out documents...\n"
     ]
    },
    {
     "name": "stderr",
     "output_type": "stream",
     "text": [
      "100%|█████████████████████████████████████████████| 12/12 [00:00<00:00, 2927.62it/s]\n"
     ]
    },
    {
     "name": "stdout",
     "output_type": "stream",
     "text": [
      "Predictive likelihood: -10264.712675764022\n",
      "Computing predictive likelihood score on held out documents...\n"
     ]
    },
    {
     "name": "stderr",
     "output_type": "stream",
     "text": [
      "100%|█████████████████████████████████████████████| 12/12 [00:00<00:00, 4818.73it/s]\n"
     ]
    },
    {
     "name": "stdout",
     "output_type": "stream",
     "text": [
      "Predictive likelihood: -10257.863917612827\n",
      "Computing predictive likelihood score on held out documents...\n"
     ]
    },
    {
     "name": "stderr",
     "output_type": "stream",
     "text": [
      "100%|█████████████████████████████████████████████| 12/12 [00:00<00:00, 3891.12it/s]\n"
     ]
    },
    {
     "name": "stdout",
     "output_type": "stream",
     "text": [
      "Predictive likelihood: -10249.180867163044\n",
      "Computing predictive likelihood score on held out documents...\n"
     ]
    },
    {
     "name": "stderr",
     "output_type": "stream",
     "text": [
      "100%|█████████████████████████████████████████████| 12/12 [00:00<00:00, 3590.50it/s]\n"
     ]
    },
    {
     "name": "stdout",
     "output_type": "stream",
     "text": [
      "Predictive likelihood: -10224.762110436162\n",
      "Computing predictive likelihood score on held out documents...\n"
     ]
    },
    {
     "name": "stderr",
     "output_type": "stream",
     "text": [
      "100%|█████████████████████████████████████████████| 12/12 [00:00<00:00, 5432.45it/s]\n"
     ]
    },
    {
     "name": "stdout",
     "output_type": "stream",
     "text": [
      "Predictive likelihood: -10195.550146474536\n",
      "Computing predictive likelihood score on held out documents...\n"
     ]
    },
    {
     "name": "stderr",
     "output_type": "stream",
     "text": [
      "100%|█████████████████████████████████████████████| 12/12 [00:00<00:00, 3553.74it/s]\n"
     ]
    },
    {
     "name": "stdout",
     "output_type": "stream",
     "text": [
      "Predictive likelihood: -10190.893400808816\n",
      "Computing predictive likelihood score on held out documents...\n"
     ]
    },
    {
     "name": "stderr",
     "output_type": "stream",
     "text": [
      "100%|█████████████████████████████████████████████| 12/12 [00:00<00:00, 3882.12it/s]\n"
     ]
    },
    {
     "name": "stdout",
     "output_type": "stream",
     "text": [
      "Predictive likelihood: -10212.150348387802\n",
      "Computing predictive likelihood score on held out documents...\n"
     ]
    },
    {
     "name": "stderr",
     "output_type": "stream",
     "text": [
      "100%|█████████████████████████████████████████████| 12/12 [00:00<00:00, 3921.44it/s]\n"
     ]
    },
    {
     "name": "stdout",
     "output_type": "stream",
     "text": [
      "Predictive likelihood: -10247.880015004783\n",
      "Computing predictive likelihood score on held out documents...\n"
     ]
    },
    {
     "name": "stderr",
     "output_type": "stream",
     "text": [
      "100%|█████████████████████████████████████████████| 12/12 [00:00<00:00, 2976.79it/s]\n"
     ]
    },
    {
     "name": "stdout",
     "output_type": "stream",
     "text": [
      "Predictive likelihood: -10272.613006532414\n",
      "Computing predictive likelihood score on held out documents...\n"
     ]
    },
    {
     "name": "stderr",
     "output_type": "stream",
     "text": [
      "100%|█████████████████████████████████████████████| 12/12 [00:00<00:00, 4172.40it/s]\n"
     ]
    },
    {
     "name": "stdout",
     "output_type": "stream",
     "text": [
      "Predictive likelihood: -10281.344988982602\n",
      "Computing predictive likelihood score on held out documents...\n"
     ]
    },
    {
     "name": "stderr",
     "output_type": "stream",
     "text": [
      "100%|█████████████████████████████████████████████| 12/12 [00:00<00:00, 4912.32it/s]\n"
     ]
    },
    {
     "name": "stdout",
     "output_type": "stream",
     "text": [
      "Predictive likelihood: -10287.607427437135\n",
      "Computing predictive likelihood score on held out documents...\n"
     ]
    },
    {
     "name": "stderr",
     "output_type": "stream",
     "text": [
      "100%|█████████████████████████████████████████████| 12/12 [00:00<00:00, 4024.28it/s]\n"
     ]
    },
    {
     "name": "stdout",
     "output_type": "stream",
     "text": [
      "Predictive likelihood: -10264.712675764022\n",
      "Computing predictive likelihood score on held out documents...\n"
     ]
    },
    {
     "name": "stderr",
     "output_type": "stream",
     "text": [
      "100%|█████████████████████████████████████████████| 12/12 [00:00<00:00, 4032.02it/s]\n"
     ]
    },
    {
     "name": "stdout",
     "output_type": "stream",
     "text": [
      "Predictive likelihood: -10258.122796976077\n",
      "Computing predictive likelihood score on held out documents...\n"
     ]
    },
    {
     "name": "stderr",
     "output_type": "stream",
     "text": [
      "100%|█████████████████████████████████████████████| 12/12 [00:00<00:00, 3452.34it/s]\n"
     ]
    },
    {
     "name": "stdout",
     "output_type": "stream",
     "text": [
      "Predictive likelihood: -10248.03099324477\n",
      "Computing predictive likelihood score on held out documents...\n"
     ]
    },
    {
     "name": "stderr",
     "output_type": "stream",
     "text": [
      "100%|█████████████████████████████████████████████| 12/12 [00:00<00:00, 3930.32it/s]\n"
     ]
    },
    {
     "name": "stdout",
     "output_type": "stream",
     "text": [
      "Predictive likelihood: -10218.352053259883\n",
      "Computing predictive likelihood score on held out documents...\n"
     ]
    },
    {
     "name": "stderr",
     "output_type": "stream",
     "text": [
      "100%|█████████████████████████████████████████████| 12/12 [00:00<00:00, 3759.18it/s]\n"
     ]
    },
    {
     "name": "stdout",
     "output_type": "stream",
     "text": [
      "Predictive likelihood: -10180.985160454638\n",
      "Computing predictive likelihood score on held out documents...\n"
     ]
    },
    {
     "name": "stderr",
     "output_type": "stream",
     "text": [
      "100%|█████████████████████████████████████████████| 12/12 [00:00<00:00, 4748.72it/s]\n"
     ]
    },
    {
     "name": "stdout",
     "output_type": "stream",
     "text": [
      "Predictive likelihood: -10173.701953610986\n",
      "Computing predictive likelihood score on held out documents...\n"
     ]
    },
    {
     "name": "stderr",
     "output_type": "stream",
     "text": [
      "100%|█████████████████████████████████████████████| 12/12 [00:00<00:00, 3887.21it/s]\n"
     ]
    },
    {
     "name": "stdout",
     "output_type": "stream",
     "text": [
      "Predictive likelihood: -10199.330945263515\n",
      "Computing predictive likelihood score on held out documents...\n"
     ]
    },
    {
     "name": "stderr",
     "output_type": "stream",
     "text": [
      "100%|█████████████████████████████████████████████| 12/12 [00:00<00:00, 3753.57it/s]\n"
     ]
    },
    {
     "name": "stdout",
     "output_type": "stream",
     "text": [
      "Predictive likelihood: -10243.200617015567\n",
      "Computing predictive likelihood score on held out documents...\n"
     ]
    },
    {
     "name": "stderr",
     "output_type": "stream",
     "text": [
      "100%|█████████████████████████████████████████████| 12/12 [00:00<00:00, 4514.45it/s]\n"
     ]
    },
    {
     "name": "stdout",
     "output_type": "stream",
     "text": [
      "Predictive likelihood: -10272.126536531503\n",
      "Computing predictive likelihood score on held out documents...\n"
     ]
    },
    {
     "name": "stderr",
     "output_type": "stream",
     "text": [
      "100%|█████████████████████████████████████████████| 12/12 [00:00<00:00, 4238.81it/s]\n"
     ]
    },
    {
     "name": "stdout",
     "output_type": "stream",
     "text": [
      "Predictive likelihood: -10281.702576600504\n",
      "Computing predictive likelihood score on held out documents...\n"
     ]
    },
    {
     "name": "stderr",
     "output_type": "stream",
     "text": [
      "100%|█████████████████████████████████████████████| 12/12 [00:00<00:00, 3778.37it/s]\n"
     ]
    },
    {
     "name": "stdout",
     "output_type": "stream",
     "text": [
      "Predictive likelihood: -10287.607427437135\n",
      "Computing predictive likelihood score on held out documents...\n"
     ]
    },
    {
     "name": "stderr",
     "output_type": "stream",
     "text": [
      "100%|█████████████████████████████████████████████| 12/12 [00:00<00:00, 3850.05it/s]\n"
     ]
    },
    {
     "name": "stdout",
     "output_type": "stream",
     "text": [
      "Predictive likelihood: -10264.712675764022\n",
      "Computing predictive likelihood score on held out documents...\n"
     ]
    },
    {
     "name": "stderr",
     "output_type": "stream",
     "text": [
      "100%|█████████████████████████████████████████████| 12/12 [00:00<00:00, 4454.52it/s]\n"
     ]
    },
    {
     "name": "stdout",
     "output_type": "stream",
     "text": [
      "Predictive likelihood: -10258.411362234889\n",
      "Computing predictive likelihood score on held out documents...\n"
     ]
    },
    {
     "name": "stderr",
     "output_type": "stream",
     "text": [
      "100%|█████████████████████████████████████████████| 12/12 [00:00<00:00, 3433.26it/s]\n"
     ]
    },
    {
     "name": "stdout",
     "output_type": "stream",
     "text": [
      "Predictive likelihood: -10247.075484778044\n",
      "Computing predictive likelihood score on held out documents...\n"
     ]
    },
    {
     "name": "stderr",
     "output_type": "stream",
     "text": [
      "100%|█████████████████████████████████████████████| 12/12 [00:00<00:00, 4080.39it/s]\n"
     ]
    },
    {
     "name": "stdout",
     "output_type": "stream",
     "text": [
      "Predictive likelihood: -10212.401483939178\n",
      "Computing predictive likelihood score on held out documents...\n"
     ]
    },
    {
     "name": "stderr",
     "output_type": "stream",
     "text": [
      "100%|█████████████████████████████████████████████| 12/12 [00:00<00:00, 4034.92it/s]\n"
     ]
    },
    {
     "name": "stdout",
     "output_type": "stream",
     "text": [
      "Predictive likelihood: -10166.730689972634\n",
      "Computing predictive likelihood score on held out documents...\n"
     ]
    },
    {
     "name": "stderr",
     "output_type": "stream",
     "text": [
      "100%|█████████████████████████████████████████████| 12/12 [00:00<00:00, 3959.07it/s]\n"
     ]
    },
    {
     "name": "stdout",
     "output_type": "stream",
     "text": [
      "Predictive likelihood: -10156.556663518659\n",
      "Computing predictive likelihood score on held out documents...\n"
     ]
    },
    {
     "name": "stderr",
     "output_type": "stream",
     "text": [
      "100%|█████████████████████████████████████████████| 12/12 [00:00<00:00, 4249.19it/s]\n"
     ]
    },
    {
     "name": "stdout",
     "output_type": "stream",
     "text": [
      "Predictive likelihood: -10186.709180918695\n",
      "Computing predictive likelihood score on held out documents...\n"
     ]
    },
    {
     "name": "stderr",
     "output_type": "stream",
     "text": [
      "100%|█████████████████████████████████████████████| 12/12 [00:00<00:00, 4400.39it/s]\n"
     ]
    },
    {
     "name": "stdout",
     "output_type": "stream",
     "text": [
      "Predictive likelihood: -10238.924364865785\n",
      "Computing predictive likelihood score on held out documents...\n"
     ]
    },
    {
     "name": "stderr",
     "output_type": "stream",
     "text": [
      "100%|█████████████████████████████████████████████| 12/12 [00:00<00:00, 4243.82it/s]\n"
     ]
    },
    {
     "name": "stdout",
     "output_type": "stream",
     "text": [
      "Predictive likelihood: -10271.77398132461\n",
      "Computing predictive likelihood score on held out documents...\n"
     ]
    },
    {
     "name": "stderr",
     "output_type": "stream",
     "text": [
      "100%|█████████████████████████████████████████████| 12/12 [00:00<00:00, 4196.05it/s]\n"
     ]
    },
    {
     "name": "stdout",
     "output_type": "stream",
     "text": [
      "Predictive likelihood: -10282.069437749775\n",
      "Computing predictive likelihood score on held out documents...\n"
     ]
    },
    {
     "name": "stderr",
     "output_type": "stream",
     "text": [
      "100%|█████████████████████████████████████████████| 12/12 [00:00<00:00, 2843.60it/s]\n"
     ]
    },
    {
     "name": "stdout",
     "output_type": "stream",
     "text": [
      "Predictive likelihood: -10287.607427437135\n",
      "Computing predictive likelihood score on held out documents...\n"
     ]
    },
    {
     "name": "stderr",
     "output_type": "stream",
     "text": [
      "100%|█████████████████████████████████████████████| 12/12 [00:00<00:00, 2605.97it/s]\n"
     ]
    },
    {
     "name": "stdout",
     "output_type": "stream",
     "text": [
      "Predictive likelihood: -10264.712675764022\n",
      "Computing predictive likelihood score on held out documents...\n"
     ]
    },
    {
     "name": "stderr",
     "output_type": "stream",
     "text": [
      "100%|█████████████████████████████████████████████| 12/12 [00:00<00:00, 3729.10it/s]\n"
     ]
    },
    {
     "name": "stdout",
     "output_type": "stream",
     "text": [
      "Predictive likelihood: -10258.719009262442\n",
      "Computing predictive likelihood score on held out documents...\n"
     ]
    },
    {
     "name": "stderr",
     "output_type": "stream",
     "text": [
      "100%|█████████████████████████████████████████████| 12/12 [00:00<00:00, 3526.11it/s]\n"
     ]
    },
    {
     "name": "stdout",
     "output_type": "stream",
     "text": [
      "Predictive likelihood: -10246.286182033697\n",
      "Computing predictive likelihood score on held out documents...\n"
     ]
    },
    {
     "name": "stderr",
     "output_type": "stream",
     "text": [
      "100%|█████████████████████████████████████████████| 12/12 [00:00<00:00, 2921.16it/s]\n"
     ]
    },
    {
     "name": "stdout",
     "output_type": "stream",
     "text": [
      "Predictive likelihood: -10206.900565423563\n",
      "Computing predictive likelihood score on held out documents...\n"
     ]
    },
    {
     "name": "stderr",
     "output_type": "stream",
     "text": [
      "100%|█████████████████████████████████████████████| 12/12 [00:00<00:00, 3606.97it/s]\n"
     ]
    },
    {
     "name": "stdout",
     "output_type": "stream",
     "text": [
      "Predictive likelihood: -10152.91987892371\n",
      "Computing predictive likelihood score on held out documents...\n"
     ]
    },
    {
     "name": "stderr",
     "output_type": "stream",
     "text": [
      "100%|█████████████████████████████████████████████| 12/12 [00:00<00:00, 3428.59it/s]\n"
     ]
    },
    {
     "name": "stdout",
     "output_type": "stream",
     "text": [
      "Predictive likelihood: -10139.627486089845\n",
      "Computing predictive likelihood score on held out documents...\n"
     ]
    },
    {
     "name": "stderr",
     "output_type": "stream",
     "text": [
      "100%|█████████████████████████████████████████████| 12/12 [00:00<00:00, 3127.55it/s]"
     ]
    },
    {
     "name": "stdout",
     "output_type": "stream",
     "text": [
      "Predictive likelihood: -10174.402507213836\n"
     ]
    },
    {
     "name": "stderr",
     "output_type": "stream",
     "text": [
      "\n"
     ]
    },
    {
     "name": "stdout",
     "output_type": "stream",
     "text": [
      "Computing predictive likelihood score on held out documents...\n"
     ]
    },
    {
     "name": "stderr",
     "output_type": "stream",
     "text": [
      "100%|█████████████████████████████████████████████| 12/12 [00:00<00:00, 3124.05it/s]\n"
     ]
    },
    {
     "name": "stdout",
     "output_type": "stream",
     "text": [
      "Predictive likelihood: -10235.026903054684\n",
      "Computing predictive likelihood score on held out documents...\n"
     ]
    },
    {
     "name": "stderr",
     "output_type": "stream",
     "text": [
      "100%|█████████████████████████████████████████████| 12/12 [00:00<00:00, 3349.19it/s]\n"
     ]
    },
    {
     "name": "stdout",
     "output_type": "stream",
     "text": [
      "Predictive likelihood: -10271.524872236514\n",
      "Computing predictive likelihood score on held out documents...\n"
     ]
    },
    {
     "name": "stderr",
     "output_type": "stream",
     "text": [
      "100%|█████████████████████████████████████████████| 12/12 [00:00<00:00, 2896.45it/s]\n"
     ]
    },
    {
     "name": "stdout",
     "output_type": "stream",
     "text": [
      "Predictive likelihood: -10282.438137362798\n",
      "Computing predictive likelihood score on held out documents...\n"
     ]
    },
    {
     "name": "stderr",
     "output_type": "stream",
     "text": [
      "100%|█████████████████████████████████████████████| 12/12 [00:00<00:00, 3169.50it/s]\n"
     ]
    },
    {
     "name": "stdout",
     "output_type": "stream",
     "text": [
      "Predictive likelihood: -10287.607427437135\n",
      "Computing predictive likelihood score on held out documents...\n"
     ]
    },
    {
     "name": "stderr",
     "output_type": "stream",
     "text": [
      "100%|█████████████████████████████████████████████| 12/12 [00:00<00:00, 3653.04it/s]\n"
     ]
    },
    {
     "name": "stdout",
     "output_type": "stream",
     "text": [
      "Predictive likelihood: -10264.712675764022\n",
      "Computing predictive likelihood score on held out documents...\n"
     ]
    },
    {
     "name": "stderr",
     "output_type": "stream",
     "text": [
      "100%|█████████████████████████████████████████████| 12/12 [00:00<00:00, 3493.31it/s]\n"
     ]
    },
    {
     "name": "stdout",
     "output_type": "stream",
     "text": [
      "Predictive likelihood: -10259.037335072737\n",
      "Computing predictive likelihood score on held out documents...\n"
     ]
    },
    {
     "name": "stderr",
     "output_type": "stream",
     "text": [
      "100%|█████████████████████████████████████████████| 12/12 [00:00<00:00, 3005.05it/s]\n"
     ]
    },
    {
     "name": "stdout",
     "output_type": "stream",
     "text": [
      "Predictive likelihood: -10245.640854446847\n",
      "Computing predictive likelihood score on held out documents...\n"
     ]
    },
    {
     "name": "stderr",
     "output_type": "stream",
     "text": [
      "100%|█████████████████████████████████████████████| 12/12 [00:00<00:00, 3414.86it/s]\n"
     ]
    },
    {
     "name": "stdout",
     "output_type": "stream",
     "text": [
      "Predictive likelihood: -10201.83246300736\n",
      "Computing predictive likelihood score on held out documents...\n"
     ]
    },
    {
     "name": "stderr",
     "output_type": "stream",
     "text": [
      "100%|█████████████████████████████████████████████| 12/12 [00:00<00:00, 2912.54it/s]\n"
     ]
    },
    {
     "name": "stdout",
     "output_type": "stream",
     "text": [
      "Predictive likelihood: -10139.658096763902\n",
      "Computing predictive likelihood score on held out documents...\n"
     ]
    },
    {
     "name": "stderr",
     "output_type": "stream",
     "text": [
      "100%|█████████████████████████████████████████████| 12/12 [00:00<00:00, 2887.48it/s]\n"
     ]
    },
    {
     "name": "stdout",
     "output_type": "stream",
     "text": [
      "Predictive likelihood: -10123.063882782\n",
      "Computing predictive likelihood score on held out documents...\n"
     ]
    },
    {
     "name": "stderr",
     "output_type": "stream",
     "text": [
      "100%|█████████████████████████████████████████████| 12/12 [00:00<00:00, 3612.15it/s]\n"
     ]
    },
    {
     "name": "stdout",
     "output_type": "stream",
     "text": [
      "Predictive likelihood: -10162.510045115447\n",
      "Computing predictive likelihood score on held out documents...\n"
     ]
    },
    {
     "name": "stderr",
     "output_type": "stream",
     "text": [
      "100%|█████████████████████████████████████████████| 12/12 [00:00<00:00, 3436.31it/s]\n"
     ]
    },
    {
     "name": "stdout",
     "output_type": "stream",
     "text": [
      "Predictive likelihood: -10231.477041942233\n",
      "Computing predictive likelihood score on held out documents...\n"
     ]
    },
    {
     "name": "stderr",
     "output_type": "stream",
     "text": [
      "100%|█████████████████████████████████████████████| 12/12 [00:00<00:00, 2630.89it/s]\n"
     ]
    },
    {
     "name": "stdout",
     "output_type": "stream",
     "text": [
      "Predictive likelihood: -10271.359349704908\n",
      "Computing predictive likelihood score on held out documents...\n"
     ]
    },
    {
     "name": "stderr",
     "output_type": "stream",
     "text": [
      "100%|█████████████████████████████████████████████| 12/12 [00:00<00:00, 3397.57it/s]\n"
     ]
    },
    {
     "name": "stdout",
     "output_type": "stream",
     "text": [
      "Predictive likelihood: -10282.802923282254\n",
      "Computing predictive likelihood score on held out documents...\n"
     ]
    },
    {
     "name": "stderr",
     "output_type": "stream",
     "text": [
      "100%|█████████████████████████████████████████████| 12/12 [00:00<00:00, 3520.19it/s]\n"
     ]
    },
    {
     "name": "stdout",
     "output_type": "stream",
     "text": [
      "Predictive likelihood: -10287.607427437135\n",
      "Computing predictive likelihood score on held out documents...\n"
     ]
    },
    {
     "name": "stderr",
     "output_type": "stream",
     "text": [
      "100%|█████████████████████████████████████████████| 12/12 [00:00<00:00, 3643.00it/s]\n"
     ]
    },
    {
     "name": "stdout",
     "output_type": "stream",
     "text": [
      "Predictive likelihood: -10264.712675764022\n",
      "Computing predictive likelihood score on held out documents...\n"
     ]
    },
    {
     "name": "stderr",
     "output_type": "stream",
     "text": [
      "100%|█████████████████████████████████████████████| 12/12 [00:00<00:00, 2813.08it/s]\n"
     ]
    },
    {
     "name": "stdout",
     "output_type": "stream",
     "text": [
      "Predictive likelihood: -10259.359785710732\n",
      "Computing predictive likelihood score on held out documents...\n"
     ]
    },
    {
     "name": "stderr",
     "output_type": "stream",
     "text": [
      "100%|█████████████████████████████████████████████| 12/12 [00:00<00:00, 3117.67it/s]\n"
     ]
    },
    {
     "name": "stdout",
     "output_type": "stream",
     "text": [
      "Predictive likelihood: -10245.120624482019\n",
      "Computing predictive likelihood score on held out documents...\n"
     ]
    },
    {
     "name": "stderr",
     "output_type": "stream",
     "text": [
      "100%|█████████████████████████████████████████████| 12/12 [00:00<00:00, 3571.39it/s]\n"
     ]
    },
    {
     "name": "stdout",
     "output_type": "stream",
     "text": [
      "Predictive likelihood: -10197.177652280703\n",
      "Computing predictive likelihood score on held out documents...\n"
     ]
    },
    {
     "name": "stderr",
     "output_type": "stream",
     "text": [
      "100%|█████████████████████████████████████████████| 12/12 [00:00<00:00, 3669.82it/s]\n"
     ]
    },
    {
     "name": "stdout",
     "output_type": "stream",
     "text": [
      "Predictive likelihood: -10127.025251736814\n",
      "Computing predictive likelihood score on held out documents...\n"
     ]
    },
    {
     "name": "stderr",
     "output_type": "stream",
     "text": [
      "100%|█████████████████████████████████████████████| 12/12 [00:00<00:00, 3373.43it/s]\n"
     ]
    },
    {
     "name": "stdout",
     "output_type": "stream",
     "text": [
      "Predictive likelihood: -10106.992957876277\n",
      "Computing predictive likelihood score on held out documents...\n"
     ]
    },
    {
     "name": "stderr",
     "output_type": "stream",
     "text": [
      "100%|█████████████████████████████████████████████| 12/12 [00:00<00:00, 3330.35it/s]\n"
     ]
    },
    {
     "name": "stdout",
     "output_type": "stream",
     "text": [
      "Predictive likelihood: -10151.109840979714\n",
      "Computing predictive likelihood score on held out documents...\n"
     ]
    },
    {
     "name": "stderr",
     "output_type": "stream",
     "text": [
      "100%|█████████████████████████████████████████████| 12/12 [00:00<00:00, 2801.03it/s]\n"
     ]
    },
    {
     "name": "stdout",
     "output_type": "stream",
     "text": [
      "Predictive likelihood: -10228.241047218013\n",
      "Computing predictive likelihood score on held out documents...\n"
     ]
    },
    {
     "name": "stderr",
     "output_type": "stream",
     "text": [
      "100%|█████████████████████████████████████████████| 12/12 [00:00<00:00, 3382.96it/s]\n"
     ]
    },
    {
     "name": "stdout",
     "output_type": "stream",
     "text": [
      "Predictive likelihood: -10271.26712513325\n",
      "Computing predictive likelihood score on held out documents...\n"
     ]
    },
    {
     "name": "stderr",
     "output_type": "stream",
     "text": [
      "100%|█████████████████████████████████████████████| 12/12 [00:00<00:00, 3981.62it/s]\n"
     ]
    },
    {
     "name": "stdout",
     "output_type": "stream",
     "text": [
      "Predictive likelihood: -10283.159452066293\n",
      "Computing predictive likelihood score on held out documents...\n"
     ]
    },
    {
     "name": "stderr",
     "output_type": "stream",
     "text": [
      "100%|█████████████████████████████████████████████| 12/12 [00:00<00:00, 3014.23it/s]\n"
     ]
    },
    {
     "name": "stdout",
     "output_type": "stream",
     "text": [
      "Predictive likelihood: -10287.607427437135\n",
      "Computing predictive likelihood score on held out documents...\n"
     ]
    },
    {
     "name": "stderr",
     "output_type": "stream",
     "text": [
      "100%|█████████████████████████████████████████████| 12/12 [00:00<00:00, 3073.69it/s]\n"
     ]
    },
    {
     "name": "stdout",
     "output_type": "stream",
     "text": [
      "Predictive likelihood: -10264.712675764022\n",
      "Computing predictive likelihood score on held out documents...\n"
     ]
    },
    {
     "name": "stderr",
     "output_type": "stream",
     "text": [
      "100%|█████████████████████████████████████████████| 12/12 [00:00<00:00, 3615.52it/s]\n"
     ]
    },
    {
     "name": "stdout",
     "output_type": "stream",
     "text": [
      "Predictive likelihood: -10259.68133280872\n",
      "Computing predictive likelihood score on held out documents...\n"
     ]
    },
    {
     "name": "stderr",
     "output_type": "stream",
     "text": [
      "100%|█████████████████████████████████████████████| 12/12 [00:00<00:00, 3365.09it/s]\n"
     ]
    },
    {
     "name": "stdout",
     "output_type": "stream",
     "text": [
      "Predictive likelihood: -10244.70849069497\n",
      "Computing predictive likelihood score on held out documents...\n"
     ]
    },
    {
     "name": "stderr",
     "output_type": "stream",
     "text": [
      "100%|█████████████████████████████████████████████| 12/12 [00:00<00:00, 3393.91it/s]\n"
     ]
    },
    {
     "name": "stdout",
     "output_type": "stream",
     "text": [
      "Predictive likelihood: -10192.915549957512\n",
      "Computing predictive likelihood score on held out documents...\n"
     ]
    },
    {
     "name": "stderr",
     "output_type": "stream",
     "text": [
      "100%|█████████████████████████████████████████████| 12/12 [00:00<00:00, 3728.82it/s]"
     ]
    },
    {
     "name": "stdout",
     "output_type": "stream",
     "text": [
      "Predictive likelihood: -10115.078546419367\n"
     ]
    },
    {
     "name": "stderr",
     "output_type": "stream",
     "text": [
      "\n"
     ]
    },
    {
     "name": "stdout",
     "output_type": "stream",
     "text": [
      "Computing predictive likelihood score on held out documents...\n"
     ]
    },
    {
     "name": "stderr",
     "output_type": "stream",
     "text": [
      "100%|█████████████████████████████████████████████| 12/12 [00:00<00:00, 3525.37it/s]\n"
     ]
    },
    {
     "name": "stdout",
     "output_type": "stream",
     "text": [
      "Predictive likelihood: -10091.518827786784\n",
      "Computing predictive likelihood score on held out documents...\n"
     ]
    },
    {
     "name": "stderr",
     "output_type": "stream",
     "text": [
      "100%|█████████████████████████████████████████████| 12/12 [00:00<00:00, 2959.29it/s]\n"
     ]
    },
    {
     "name": "stdout",
     "output_type": "stream",
     "text": [
      "Predictive likelihood: -10140.258053655783\n",
      "Computing predictive likelihood score on held out documents...\n"
     ]
    },
    {
     "name": "stderr",
     "output_type": "stream",
     "text": [
      "100%|█████████████████████████████████████████████| 12/12 [00:00<00:00, 4060.97it/s]\n"
     ]
    },
    {
     "name": "stdout",
     "output_type": "stream",
     "text": [
      "Predictive likelihood: -10225.286172411059\n",
      "Computing predictive likelihood score on held out documents...\n"
     ]
    },
    {
     "name": "stderr",
     "output_type": "stream",
     "text": [
      "100%|█████████████████████████████████████████████| 12/12 [00:00<00:00, 3807.24it/s]\n"
     ]
    },
    {
     "name": "stdout",
     "output_type": "stream",
     "text": [
      "Predictive likelihood: -10271.24237829704\n",
      "Computing predictive likelihood score on held out documents...\n"
     ]
    },
    {
     "name": "stderr",
     "output_type": "stream",
     "text": [
      "100%|█████████████████████████████████████████████| 12/12 [00:00<00:00, 3678.68it/s]\n"
     ]
    },
    {
     "name": "stdout",
     "output_type": "stream",
     "text": [
      "Predictive likelihood: -10283.50454618412\n",
      "Computing predictive likelihood score on held out documents...\n"
     ]
    },
    {
     "name": "stderr",
     "output_type": "stream",
     "text": [
      "100%|█████████████████████████████████████████████| 12/12 [00:00<00:00, 3786.61it/s]\n"
     ]
    },
    {
     "name": "stdout",
     "output_type": "stream",
     "text": [
      "Predictive likelihood: -10287.607427437135\n",
      "Computing predictive likelihood score on held out documents...\n"
     ]
    },
    {
     "name": "stderr",
     "output_type": "stream",
     "text": [
      "100%|█████████████████████████████████████████████| 12/12 [00:00<00:00, 3514.78it/s]\n"
     ]
    },
    {
     "name": "stdout",
     "output_type": "stream",
     "text": [
      "Predictive likelihood: -10264.712675764022\n",
      "Computing predictive likelihood score on held out documents...\n"
     ]
    },
    {
     "name": "stderr",
     "output_type": "stream",
     "text": [
      "100%|█████████████████████████████████████████████| 12/12 [00:00<00:00, 3686.49it/s]\n"
     ]
    },
    {
     "name": "stdout",
     "output_type": "stream",
     "text": [
      "Predictive likelihood: -10259.99818333451\n",
      "Computing predictive likelihood score on held out documents...\n"
     ]
    },
    {
     "name": "stderr",
     "output_type": "stream",
     "text": [
      "100%|█████████████████████████████████████████████| 12/12 [00:00<00:00, 4068.19it/s]\n"
     ]
    },
    {
     "name": "stdout",
     "output_type": "stream",
     "text": [
      "Predictive likelihood: -10244.388660595285\n",
      "Computing predictive likelihood score on held out documents...\n"
     ]
    },
    {
     "name": "stderr",
     "output_type": "stream",
     "text": [
      "100%|█████████████████████████████████████████████| 12/12 [00:00<00:00, 3387.06it/s]\n"
     ]
    },
    {
     "name": "stdout",
     "output_type": "stream",
     "text": [
      "Predictive likelihood: -10189.024524226657\n",
      "Computing predictive likelihood score on held out documents...\n"
     ]
    },
    {
     "name": "stderr",
     "output_type": "stream",
     "text": [
      "100%|█████████████████████████████████████████████| 12/12 [00:00<00:00, 4269.01it/s]\n"
     ]
    },
    {
     "name": "stdout",
     "output_type": "stream",
     "text": [
      "Predictive likelihood: -10103.855088580527\n",
      "Computing predictive likelihood score on held out documents...\n"
     ]
    },
    {
     "name": "stderr",
     "output_type": "stream",
     "text": [
      "100%|█████████████████████████████████████████████| 12/12 [00:00<00:00, 3810.98it/s]\n"
     ]
    },
    {
     "name": "stdout",
     "output_type": "stream",
     "text": [
      "Predictive likelihood: -10076.723026837772\n",
      "Computing predictive likelihood score on held out documents...\n"
     ]
    },
    {
     "name": "stderr",
     "output_type": "stream",
     "text": [
      "100%|█████████████████████████████████████████████| 12/12 [00:00<00:00, 3684.06it/s]\n"
     ]
    },
    {
     "name": "stdout",
     "output_type": "stream",
     "text": [
      "Predictive likelihood: -10129.989871570808\n",
      "Computing predictive likelihood score on held out documents...\n"
     ]
    },
    {
     "name": "stderr",
     "output_type": "stream",
     "text": [
      "100%|█████████████████████████████████████████████| 12/12 [00:00<00:00, 3715.34it/s]\n"
     ]
    },
    {
     "name": "stdout",
     "output_type": "stream",
     "text": [
      "Predictive likelihood: -10222.582968152657\n",
      "Computing predictive likelihood score on held out documents...\n"
     ]
    },
    {
     "name": "stderr",
     "output_type": "stream",
     "text": [
      "100%|█████████████████████████████████████████████| 12/12 [00:00<00:00, 4226.71it/s]\n"
     ]
    },
    {
     "name": "stdout",
     "output_type": "stream",
     "text": [
      "Predictive likelihood: -10271.278502705525\n",
      "Computing predictive likelihood score on held out documents...\n"
     ]
    },
    {
     "name": "stderr",
     "output_type": "stream",
     "text": [
      "100%|█████████████████████████████████████████████| 12/12 [00:00<00:00, 3311.29it/s]\n"
     ]
    },
    {
     "name": "stdout",
     "output_type": "stream",
     "text": [
      "Predictive likelihood: -10283.835979028023\n",
      "Computing predictive likelihood score on held out documents...\n"
     ]
    },
    {
     "name": "stderr",
     "output_type": "stream",
     "text": [
      "100%|█████████████████████████████████████████████| 12/12 [00:00<00:00, 3739.63it/s]\n"
     ]
    },
    {
     "name": "stdout",
     "output_type": "stream",
     "text": [
      "Predictive likelihood: -10287.607427437135\n",
      "Computing predictive likelihood score on held out documents...\n"
     ]
    },
    {
     "name": "stderr",
     "output_type": "stream",
     "text": [
      "100%|█████████████████████████████████████████████| 12/12 [00:00<00:00, 4133.68it/s]\n"
     ]
    },
    {
     "name": "stdout",
     "output_type": "stream",
     "text": [
      "Predictive likelihood: -10264.712675764022\n",
      "Computing predictive likelihood score on held out documents...\n"
     ]
    },
    {
     "name": "stderr",
     "output_type": "stream",
     "text": [
      "100%|█████████████████████████████████████████████| 12/12 [00:00<00:00, 3748.82it/s]\n"
     ]
    },
    {
     "name": "stdout",
     "output_type": "stream",
     "text": [
      "Predictive likelihood: -10260.307529775182\n",
      "Computing predictive likelihood score on held out documents...\n"
     ]
    },
    {
     "name": "stderr",
     "output_type": "stream",
     "text": [
      "100%|█████████████████████████████████████████████| 12/12 [00:00<00:00, 4078.74it/s]\n"
     ]
    },
    {
     "name": "stdout",
     "output_type": "stream",
     "text": [
      "Predictive likelihood: -10244.146386885906\n",
      "Computing predictive likelihood score on held out documents...\n"
     ]
    },
    {
     "name": "stderr",
     "output_type": "stream",
     "text": [
      "100%|█████████████████████████████████████████████| 12/12 [00:00<00:00, 3772.42it/s]\n"
     ]
    },
    {
     "name": "stdout",
     "output_type": "stream",
     "text": [
      "Predictive likelihood: -10185.482001397904\n",
      "Computing predictive likelihood score on held out documents...\n"
     ]
    },
    {
     "name": "stderr",
     "output_type": "stream",
     "text": [
      "100%|█████████████████████████████████████████████| 12/12 [00:00<00:00, 3973.45it/s]\n"
     ]
    },
    {
     "name": "stdout",
     "output_type": "stream",
     "text": [
      "Predictive likelihood: -10093.374255027564\n",
      "Computing predictive likelihood score on held out documents...\n"
     ]
    },
    {
     "name": "stderr",
     "output_type": "stream",
     "text": [
      "100%|█████████████████████████████████████████████| 12/12 [00:00<00:00, 3514.04it/s]\n"
     ]
    },
    {
     "name": "stdout",
     "output_type": "stream",
     "text": [
      "Predictive likelihood: -10062.665696879834\n",
      "Computing predictive likelihood score on held out documents...\n"
     ]
    },
    {
     "name": "stderr",
     "output_type": "stream",
     "text": [
      "100%|█████████████████████████████████████████████| 12/12 [00:00<00:00, 4400.77it/s]\n"
     ]
    },
    {
     "name": "stdout",
     "output_type": "stream",
     "text": [
      "Predictive likelihood: -10120.321839521024\n",
      "Computing predictive likelihood score on held out documents...\n"
     ]
    },
    {
     "name": "stderr",
     "output_type": "stream",
     "text": [
      "100%|█████████████████████████████████████████████| 12/12 [00:00<00:00, 3953.78it/s]\n"
     ]
    },
    {
     "name": "stdout",
     "output_type": "stream",
     "text": [
      "Predictive likelihood: -10220.10597212963\n",
      "Computing predictive likelihood score on held out documents...\n"
     ]
    },
    {
     "name": "stderr",
     "output_type": "stream",
     "text": [
      "100%|█████████████████████████████████████████████| 12/12 [00:00<00:00, 3401.48it/s]\n"
     ]
    },
    {
     "name": "stdout",
     "output_type": "stream",
     "text": [
      "Predictive likelihood: -10271.366746513779\n",
      "Computing predictive likelihood score on held out documents...\n"
     ]
    },
    {
     "name": "stderr",
     "output_type": "stream",
     "text": [
      "100%|█████████████████████████████████████████████| 12/12 [00:00<00:00, 3768.47it/s]\n"
     ]
    },
    {
     "name": "stdout",
     "output_type": "stream",
     "text": [
      "Predictive likelihood: -10284.152286818922\n",
      "Computing predictive likelihood score on held out documents...\n"
     ]
    },
    {
     "name": "stderr",
     "output_type": "stream",
     "text": [
      "100%|█████████████████████████████████████████████| 12/12 [00:00<00:00, 4168.25it/s]\n"
     ]
    },
    {
     "name": "stdout",
     "output_type": "stream",
     "text": [
      "Predictive likelihood: -10287.607427437135\n",
      "Computing predictive likelihood score on held out documents...\n"
     ]
    },
    {
     "name": "stderr",
     "output_type": "stream",
     "text": [
      "100%|█████████████████████████████████████████████| 12/12 [00:00<00:00, 3958.14it/s]\n"
     ]
    },
    {
     "name": "stdout",
     "output_type": "stream",
     "text": [
      "Predictive likelihood: -10264.712675764022\n",
      "Computing predictive likelihood score on held out documents...\n"
     ]
    },
    {
     "name": "stderr",
     "output_type": "stream",
     "text": [
      "100%|█████████████████████████████████████████████| 12/12 [00:00<00:00, 4511.22it/s]\n"
     ]
    },
    {
     "name": "stdout",
     "output_type": "stream",
     "text": [
      "Predictive likelihood: -10260.60734492848\n",
      "Computing predictive likelihood score on held out documents...\n"
     ]
    },
    {
     "name": "stderr",
     "output_type": "stream",
     "text": [
      "100%|█████████████████████████████████████████████| 12/12 [00:00<00:00, 4822.89it/s]\n"
     ]
    },
    {
     "name": "stdout",
     "output_type": "stream",
     "text": [
      "Predictive likelihood: -10243.968059479643\n",
      "Computing predictive likelihood score on held out documents...\n"
     ]
    },
    {
     "name": "stderr",
     "output_type": "stream",
     "text": [
      "100%|█████████████████████████████████████████████| 12/12 [00:00<00:00, 3548.23it/s]\n"
     ]
    },
    {
     "name": "stdout",
     "output_type": "stream",
     "text": [
      "Predictive likelihood: -10182.265116523042\n",
      "Computing predictive likelihood score on held out documents...\n"
     ]
    },
    {
     "name": "stderr",
     "output_type": "stream",
     "text": [
      "100%|█████████████████████████████████████████████| 12/12 [00:00<00:00, 4256.74it/s]\n"
     ]
    },
    {
     "name": "stdout",
     "output_type": "stream",
     "text": [
      "Predictive likelihood: -10083.63994928976\n",
      "Computing predictive likelihood score on held out documents...\n"
     ]
    },
    {
     "name": "stderr",
     "output_type": "stream",
     "text": [
      "100%|█████████████████████████████████████████████| 12/12 [00:00<00:00, 3072.19it/s]\n"
     ]
    },
    {
     "name": "stdout",
     "output_type": "stream",
     "text": [
      "Predictive likelihood: -10049.387312659177\n",
      "Computing predictive likelihood score on held out documents...\n"
     ]
    },
    {
     "name": "stderr",
     "output_type": "stream",
     "text": [
      "100%|█████████████████████████████████████████████| 12/12 [00:00<00:00, 3462.31it/s]\n"
     ]
    },
    {
     "name": "stdout",
     "output_type": "stream",
     "text": [
      "Predictive likelihood: -10111.255206730451\n",
      "Computing predictive likelihood score on held out documents...\n"
     ]
    },
    {
     "name": "stderr",
     "output_type": "stream",
     "text": [
      "100%|█████████████████████████████████████████████| 12/12 [00:00<00:00, 3503.53it/s]\n"
     ]
    },
    {
     "name": "stdout",
     "output_type": "stream",
     "text": [
      "Predictive likelihood: -10217.833076219944\n",
      "Computing predictive likelihood score on held out documents...\n"
     ]
    },
    {
     "name": "stderr",
     "output_type": "stream",
     "text": [
      "100%|█████████████████████████████████████████████| 12/12 [00:00<00:00, 2949.06it/s]\n"
     ]
    },
    {
     "name": "stdout",
     "output_type": "stream",
     "text": [
      "Predictive likelihood: -10271.497265225778\n",
      "Computing predictive likelihood score on held out documents...\n"
     ]
    },
    {
     "name": "stderr",
     "output_type": "stream",
     "text": [
      "100%|█████████████████████████████████████████████| 12/12 [00:00<00:00, 3377.74it/s]\n"
     ]
    },
    {
     "name": "stdout",
     "output_type": "stream",
     "text": [
      "Predictive likelihood: -10284.452607136423\n",
      "Computing predictive likelihood score on held out documents...\n"
     ]
    },
    {
     "name": "stderr",
     "output_type": "stream",
     "text": [
      "100%|█████████████████████████████████████████████| 12/12 [00:00<00:00, 3106.32it/s]"
     ]
    },
    {
     "name": "stdout",
     "output_type": "stream",
     "text": [
      "Predictive likelihood: -10287.607427437135\n"
     ]
    },
    {
     "name": "stderr",
     "output_type": "stream",
     "text": [
      "\n"
     ]
    },
    {
     "name": "stdout",
     "output_type": "stream",
     "text": [
      "Computing predictive likelihood score on held out documents...\n"
     ]
    },
    {
     "name": "stderr",
     "output_type": "stream",
     "text": [
      "100%|█████████████████████████████████████████████| 12/12 [00:00<00:00, 4037.51it/s]\n"
     ]
    },
    {
     "name": "stdout",
     "output_type": "stream",
     "text": [
      "Predictive likelihood: -10264.712675764022\n",
      "Computing predictive likelihood score on held out documents...\n"
     ]
    },
    {
     "name": "stderr",
     "output_type": "stream",
     "text": [
      "100%|█████████████████████████████████████████████| 12/12 [00:00<00:00, 2777.68it/s]\n"
     ]
    },
    {
     "name": "stdout",
     "output_type": "stream",
     "text": [
      "Predictive likelihood: -10260.896219851384\n",
      "Computing predictive likelihood score on held out documents...\n"
     ]
    },
    {
     "name": "stderr",
     "output_type": "stream",
     "text": [
      "100%|█████████████████████████████████████████████| 12/12 [00:00<00:00, 3466.13it/s]\n"
     ]
    },
    {
     "name": "stdout",
     "output_type": "stream",
     "text": [
      "Predictive likelihood: -10243.841369720452\n",
      "Computing predictive likelihood score on held out documents...\n"
     ]
    },
    {
     "name": "stderr",
     "output_type": "stream",
     "text": [
      "100%|█████████████████████████████████████████████| 12/12 [00:00<00:00, 3493.31it/s]\n"
     ]
    },
    {
     "name": "stdout",
     "output_type": "stream",
     "text": [
      "Predictive likelihood: -10179.351345555602\n",
      "Computing predictive likelihood score on held out documents...\n"
     ]
    },
    {
     "name": "stderr",
     "output_type": "stream",
     "text": [
      "100%|█████████████████████████████████████████████| 12/12 [00:00<00:00, 2921.84it/s]\n"
     ]
    },
    {
     "name": "stdout",
     "output_type": "stream",
     "text": [
      "Predictive likelihood: -10074.642848556115\n",
      "Computing predictive likelihood score on held out documents...\n"
     ]
    },
    {
     "name": "stderr",
     "output_type": "stream",
     "text": [
      "100%|█████████████████████████████████████████████| 12/12 [00:00<00:00, 4233.11it/s]\n"
     ]
    },
    {
     "name": "stdout",
     "output_type": "stream",
     "text": [
      "Predictive likelihood: -10036.910750047256\n",
      "Computing predictive likelihood score on held out documents...\n"
     ]
    },
    {
     "name": "stderr",
     "output_type": "stream",
     "text": [
      "100%|█████████████████████████████████████████████| 12/12 [00:00<00:00, 3688.92it/s]\n"
     ]
    },
    {
     "name": "stdout",
     "output_type": "stream",
     "text": [
      "Predictive likelihood: -10102.77979742605\n",
      "Computing predictive likelihood score on held out documents...\n"
     ]
    },
    {
     "name": "stderr",
     "output_type": "stream",
     "text": [
      "100%|█████████████████████████████████████████████| 12/12 [00:00<00:00, 2885.99it/s]\n"
     ]
    },
    {
     "name": "stdout",
     "output_type": "stream",
     "text": [
      "Predictive likelihood: -10215.744544006213\n",
      "Computing predictive likelihood score on held out documents...\n"
     ]
    },
    {
     "name": "stderr",
     "output_type": "stream",
     "text": [
      "100%|█████████████████████████████████████████████| 12/12 [00:00<00:00, 3382.28it/s]\n"
     ]
    },
    {
     "name": "stdout",
     "output_type": "stream",
     "text": [
      "Predictive likelihood: -10271.660269073336\n",
      "Computing predictive likelihood score on held out documents...\n"
     ]
    },
    {
     "name": "stderr",
     "output_type": "stream",
     "text": [
      "100%|█████████████████████████████████████████████| 12/12 [00:00<00:00, 3965.93it/s]\n"
     ]
    },
    {
     "name": "stdout",
     "output_type": "stream",
     "text": [
      "Predictive likelihood: -10284.736542789733\n",
      "Computing predictive likelihood score on held out documents...\n"
     ]
    },
    {
     "name": "stderr",
     "output_type": "stream",
     "text": [
      "100%|█████████████████████████████████████████████| 12/12 [00:00<00:00, 3810.69it/s]\n"
     ]
    },
    {
     "name": "stdout",
     "output_type": "stream",
     "text": [
      "Predictive likelihood: -10287.607427437135\n",
      "Computing predictive likelihood score on held out documents...\n"
     ]
    },
    {
     "name": "stderr",
     "output_type": "stream",
     "text": [
      "100%|█████████████████████████████████████████████| 12/12 [00:00<00:00, 2982.09it/s]\n"
     ]
    },
    {
     "name": "stdout",
     "output_type": "stream",
     "text": [
      "Predictive likelihood: -10264.712675764022\n",
      "Computing predictive likelihood score on held out documents...\n"
     ]
    },
    {
     "name": "stderr",
     "output_type": "stream",
     "text": [
      "100%|█████████████████████████████████████████████| 12/12 [00:00<00:00, 3619.94it/s]\n"
     ]
    },
    {
     "name": "stdout",
     "output_type": "stream",
     "text": [
      "Predictive likelihood: -10261.173239317965\n",
      "Computing predictive likelihood score on held out documents...\n"
     ]
    },
    {
     "name": "stderr",
     "output_type": "stream",
     "text": [
      "100%|█████████████████████████████████████████████| 12/12 [00:00<00:00, 3969.37it/s]\n"
     ]
    },
    {
     "name": "stdout",
     "output_type": "stream",
     "text": [
      "Predictive likelihood: -10243.755434087643\n",
      "Computing predictive likelihood score on held out documents...\n"
     ]
    },
    {
     "name": "stderr",
     "output_type": "stream",
     "text": [
      "100%|█████████████████████████████████████████████| 12/12 [00:00<00:00, 2588.81it/s]\n"
     ]
    },
    {
     "name": "stdout",
     "output_type": "stream",
     "text": [
      "Predictive likelihood: -10176.718907758635\n",
      "Computing predictive likelihood score on held out documents...\n"
     ]
    },
    {
     "name": "stderr",
     "output_type": "stream",
     "text": [
      "100%|█████████████████████████████████████████████| 12/12 [00:00<00:00, 2931.88it/s]\n"
     ]
    },
    {
     "name": "stdout",
     "output_type": "stream",
     "text": [
      "Predictive likelihood: -10066.36256535789\n",
      "Computing predictive likelihood score on held out documents...\n"
     ]
    },
    {
     "name": "stderr",
     "output_type": "stream",
     "text": [
      "100%|█████████████████████████████████████████████| 12/12 [00:00<00:00, 3265.96it/s]\n"
     ]
    },
    {
     "name": "stdout",
     "output_type": "stream",
     "text": [
      "Predictive likelihood: -10025.243565377514\n",
      "Computing predictive likelihood score on held out documents...\n"
     ]
    },
    {
     "name": "stderr",
     "output_type": "stream",
     "text": [
      "100%|█████████████████████████████████████████████| 12/12 [00:00<00:00, 3021.11it/s]\n"
     ]
    },
    {
     "name": "stdout",
     "output_type": "stream",
     "text": [
      "Predictive likelihood: -10094.877810953925\n",
      "Computing predictive likelihood score on held out documents...\n"
     ]
    },
    {
     "name": "stderr",
     "output_type": "stream",
     "text": [
      "100%|█████████████████████████████████████████████| 12/12 [00:00<00:00, 4352.44it/s]\n"
     ]
    },
    {
     "name": "stdout",
     "output_type": "stream",
     "text": [
      "Predictive likelihood: -10213.822282679728\n",
      "Computing predictive likelihood score on held out documents...\n"
     ]
    },
    {
     "name": "stderr",
     "output_type": "stream",
     "text": [
      "100%|█████████████████████████████████████████████| 12/12 [00:00<00:00, 3586.41it/s]\n"
     ]
    },
    {
     "name": "stdout",
     "output_type": "stream",
     "text": [
      "Predictive likelihood: -10271.846665852483\n",
      "Computing predictive likelihood score on held out documents...\n"
     ]
    },
    {
     "name": "stderr",
     "output_type": "stream",
     "text": [
      "100%|█████████████████████████████████████████████| 12/12 [00:00<00:00, 2927.62it/s]\n"
     ]
    },
    {
     "name": "stdout",
     "output_type": "stream",
     "text": [
      "Predictive likelihood: -10285.004048448822\n",
      "Computing predictive likelihood score on held out documents...\n"
     ]
    },
    {
     "name": "stderr",
     "output_type": "stream",
     "text": [
      "100%|█████████████████████████████████████████████| 12/12 [00:00<00:00, 3431.63it/s]\n"
     ]
    },
    {
     "name": "stdout",
     "output_type": "stream",
     "text": [
      "Predictive likelihood: -10287.607427437135\n",
      "Computing predictive likelihood score on held out documents...\n"
     ]
    },
    {
     "name": "stderr",
     "output_type": "stream",
     "text": [
      "100%|█████████████████████████████████████████████| 12/12 [00:00<00:00, 3382.05it/s]\n"
     ]
    },
    {
     "name": "stdout",
     "output_type": "stream",
     "text": [
      "Predictive likelihood: -10264.712675764022\n",
      "Computing predictive likelihood score on held out documents...\n"
     ]
    },
    {
     "name": "stderr",
     "output_type": "stream",
     "text": [
      "100%|█████████████████████████████████████████████| 12/12 [00:00<00:00, 3275.09it/s]\n"
     ]
    },
    {
     "name": "stdout",
     "output_type": "stream",
     "text": [
      "Predictive likelihood: -10261.437887642194\n",
      "Computing predictive likelihood score on held out documents...\n"
     ]
    },
    {
     "name": "stderr",
     "output_type": "stream",
     "text": [
      "100%|█████████████████████████████████████████████| 12/12 [00:00<00:00, 3123.47it/s]\n"
     ]
    },
    {
     "name": "stdout",
     "output_type": "stream",
     "text": [
      "Predictive likelihood: -10243.70082755085\n",
      "Computing predictive likelihood score on held out documents...\n"
     ]
    },
    {
     "name": "stderr",
     "output_type": "stream",
     "text": [
      "100%|█████████████████████████████████████████████| 12/12 [00:00<00:00, 3274.46it/s]\n"
     ]
    },
    {
     "name": "stdout",
     "output_type": "stream",
     "text": [
      "Predictive likelihood: -10174.347120534425\n",
      "Computing predictive likelihood score on held out documents...\n"
     ]
    },
    {
     "name": "stderr",
     "output_type": "stream",
     "text": [
      "100%|█████████████████████████████████████████████| 12/12 [00:00<00:00, 3575.96it/s]"
     ]
    },
    {
     "name": "stdout",
     "output_type": "stream",
     "text": [
      "Predictive likelihood: -10058.769656818857\n"
     ]
    },
    {
     "name": "stderr",
     "output_type": "stream",
     "text": [
      "\n"
     ]
    },
    {
     "name": "stdout",
     "output_type": "stream",
     "text": [
      "Computing predictive likelihood score on held out documents...\n"
     ]
    },
    {
     "name": "stderr",
     "output_type": "stream",
     "text": [
      "100%|█████████████████████████████████████████████| 12/12 [00:00<00:00, 2805.09it/s]\n"
     ]
    },
    {
     "name": "stdout",
     "output_type": "stream",
     "text": [
      "Predictive likelihood: -10014.380383860973\n",
      "Computing predictive likelihood score on held out documents...\n"
     ]
    },
    {
     "name": "stderr",
     "output_type": "stream",
     "text": [
      "100%|█████████████████████████████████████████████| 12/12 [00:00<00:00, 2827.46it/s]\n"
     ]
    },
    {
     "name": "stdout",
     "output_type": "stream",
     "text": [
      "Predictive likelihood: -10087.526977682717\n",
      "Computing predictive likelihood score on held out documents...\n"
     ]
    },
    {
     "name": "stderr",
     "output_type": "stream",
     "text": [
      "100%|█████████████████████████████████████████████| 12/12 [00:00<00:00, 2246.75it/s]\n"
     ]
    },
    {
     "name": "stdout",
     "output_type": "stream",
     "text": [
      "Predictive likelihood: -10212.049176567005\n",
      "Computing predictive likelihood score on held out documents...\n"
     ]
    },
    {
     "name": "stderr",
     "output_type": "stream",
     "text": [
      "100%|█████████████████████████████████████████████| 12/12 [00:00<00:00, 3218.96it/s]\n"
     ]
    },
    {
     "name": "stdout",
     "output_type": "stream",
     "text": [
      "Predictive likelihood: -10272.048344677356\n",
      "Computing predictive likelihood score on held out documents...\n"
     ]
    },
    {
     "name": "stderr",
     "output_type": "stream",
     "text": [
      "100%|█████████████████████████████████████████████| 12/12 [00:00<00:00, 3154.40it/s]\n"
     ]
    },
    {
     "name": "stdout",
     "output_type": "stream",
     "text": [
      "Predictive likelihood: -10285.255336866414\n",
      "Computing predictive likelihood score on held out documents...\n"
     ]
    },
    {
     "name": "stderr",
     "output_type": "stream",
     "text": [
      "100%|█████████████████████████████████████████████| 12/12 [00:00<00:00, 3124.05it/s]\n"
     ]
    },
    {
     "name": "stdout",
     "output_type": "stream",
     "text": [
      "Predictive likelihood: -10287.607427437135\n",
      "Computing predictive likelihood score on held out documents...\n"
     ]
    },
    {
     "name": "stderr",
     "output_type": "stream",
     "text": [
      "100%|█████████████████████████████████████████████| 12/12 [00:00<00:00, 4766.25it/s]\n"
     ]
    },
    {
     "name": "stdout",
     "output_type": "stream",
     "text": [
      "Predictive likelihood: -10264.712675764022\n",
      "Computing predictive likelihood score on held out documents...\n"
     ]
    },
    {
     "name": "stderr",
     "output_type": "stream",
     "text": [
      "100%|█████████████████████████████████████████████| 12/12 [00:00<00:00, 3189.79it/s]\n"
     ]
    },
    {
     "name": "stdout",
     "output_type": "stream",
     "text": [
      "Predictive likelihood: -10261.689977944101\n",
      "Computing predictive likelihood score on held out documents...\n"
     ]
    },
    {
     "name": "stderr",
     "output_type": "stream",
     "text": [
      "100%|█████████████████████████████████████████████| 12/12 [00:00<00:00, 4475.91it/s]\n"
     ]
    },
    {
     "name": "stdout",
     "output_type": "stream",
     "text": [
      "Predictive likelihood: -10243.669523816607\n",
      "Computing predictive likelihood score on held out documents...\n"
     ]
    },
    {
     "name": "stderr",
     "output_type": "stream",
     "text": [
      "100%|█████████████████████████████████████████████| 12/12 [00:00<00:00, 3361.27it/s]\n"
     ]
    },
    {
     "name": "stdout",
     "output_type": "stream",
     "text": [
      "Predictive likelihood: -10172.216662737092\n",
      "Computing predictive likelihood score on held out documents...\n"
     ]
    },
    {
     "name": "stderr",
     "output_type": "stream",
     "text": [
      "100%|█████████████████████████████████████████████| 12/12 [00:00<00:00, 3236.97it/s]\n"
     ]
    },
    {
     "name": "stdout",
     "output_type": "stream",
     "text": [
      "Predictive likelihood: -10051.82757906986\n",
      "Computing predictive likelihood score on held out documents...\n"
     ]
    },
    {
     "name": "stderr",
     "output_type": "stream",
     "text": [
      "100%|█████████████████████████████████████████████| 12/12 [00:00<00:00, 3437.48it/s]\n"
     ]
    },
    {
     "name": "stdout",
     "output_type": "stream",
     "text": [
      "Predictive likelihood: -10004.305287630985\n",
      "Computing predictive likelihood score on held out documents...\n"
     ]
    },
    {
     "name": "stderr",
     "output_type": "stream",
     "text": [
      "100%|█████████████████████████████████████████████| 12/12 [00:00<00:00, 3648.54it/s]"
     ]
    },
    {
     "name": "stdout",
     "output_type": "stream",
     "text": [
      "Predictive likelihood: -10080.702720279145\n",
      "Computing predictive likelihood score on held out documents...\n"
     ]
    },
    {
     "name": "stderr",
     "output_type": "stream",
     "text": [
      "\n",
      "100%|█████████████████████████████████████████████| 12/12 [00:00<00:00, 3433.50it/s]\n"
     ]
    },
    {
     "name": "stdout",
     "output_type": "stream",
     "text": [
      "Predictive likelihood: -10210.40827988352\n",
      "Computing predictive likelihood score on held out documents...\n"
     ]
    },
    {
     "name": "stderr",
     "output_type": "stream",
     "text": [
      "100%|█████████████████████████████████████████████| 12/12 [00:00<00:00, 2925.92it/s]\n"
     ]
    },
    {
     "name": "stdout",
     "output_type": "stream",
     "text": [
      "Predictive likelihood: -10272.258280937365\n",
      "Computing predictive likelihood score on held out documents...\n"
     ]
    },
    {
     "name": "stderr",
     "output_type": "stream",
     "text": [
      "100%|█████████████████████████████████████████████| 12/12 [00:00<00:00, 3184.54it/s]\n"
     ]
    },
    {
     "name": "stdout",
     "output_type": "stream",
     "text": [
      "Predictive likelihood: -10285.490802042545\n",
      "Computing predictive likelihood score on held out documents...\n"
     ]
    },
    {
     "name": "stderr",
     "output_type": "stream",
     "text": [
      "100%|█████████████████████████████████████████████| 12/12 [00:00<00:00, 3294.17it/s]\n"
     ]
    },
    {
     "name": "stdout",
     "output_type": "stream",
     "text": [
      "Predictive likelihood: -10287.607427437135\n",
      "Computing predictive likelihood score on held out documents...\n"
     ]
    },
    {
     "name": "stderr",
     "output_type": "stream",
     "text": [
      "100%|█████████████████████████████████████████████| 12/12 [00:00<00:00, 3704.40it/s]\n"
     ]
    },
    {
     "name": "stdout",
     "output_type": "stream",
     "text": [
      "Predictive likelihood: -10264.712675764022\n",
      "Computing predictive likelihood score on held out documents...\n"
     ]
    },
    {
     "name": "stderr",
     "output_type": "stream",
     "text": [
      "100%|█████████████████████████████████████████████| 12/12 [00:00<00:00, 3294.60it/s]\n"
     ]
    },
    {
     "name": "stdout",
     "output_type": "stream",
     "text": [
      "Predictive likelihood: -10261.929598127697\n",
      "Computing predictive likelihood score on held out documents...\n"
     ]
    },
    {
     "name": "stderr",
     "output_type": "stream",
     "text": [
      "100%|█████████████████████████████████████████████| 12/12 [00:00<00:00, 3986.67it/s]\n"
     ]
    },
    {
     "name": "stdout",
     "output_type": "stream",
     "text": [
      "Predictive likelihood: -10243.654773459879\n",
      "Computing predictive likelihood score on held out documents...\n"
     ]
    },
    {
     "name": "stderr",
     "output_type": "stream",
     "text": [
      "100%|█████████████████████████████████████████████| 12/12 [00:00<00:00, 3826.63it/s]\n"
     ]
    },
    {
     "name": "stdout",
     "output_type": "stream",
     "text": [
      "Predictive likelihood: -10170.309542377721\n",
      "Computing predictive likelihood score on held out documents...\n"
     ]
    },
    {
     "name": "stderr",
     "output_type": "stream",
     "text": [
      "100%|█████████████████████████████████████████████| 12/12 [00:00<00:00, 3404.01it/s]\n"
     ]
    },
    {
     "name": "stdout",
     "output_type": "stream",
     "text": [
      "Predictive likelihood: -10045.494712390653\n",
      "Computing predictive likelihood score on held out documents...\n"
     ]
    },
    {
     "name": "stderr",
     "output_type": "stream",
     "text": [
      "100%|█████████████████████████████████████████████| 12/12 [00:00<00:00, 3153.81it/s]\n"
     ]
    },
    {
     "name": "stdout",
     "output_type": "stream",
     "text": [
      "Predictive likelihood: -9994.994078599728\n",
      "Computing predictive likelihood score on held out documents...\n"
     ]
    },
    {
     "name": "stderr",
     "output_type": "stream",
     "text": [
      "100%|█████████████████████████████████████████████| 12/12 [00:00<00:00, 3844.75it/s]\n"
     ]
    },
    {
     "name": "stdout",
     "output_type": "stream",
     "text": [
      "Predictive likelihood: -10074.379360472276\n",
      "Computing predictive likelihood score on held out documents...\n"
     ]
    },
    {
     "name": "stderr",
     "output_type": "stream",
     "text": [
      "100%|█████████████████████████████████████████████| 12/12 [00:00<00:00, 3307.59it/s]\n"
     ]
    },
    {
     "name": "stdout",
     "output_type": "stream",
     "text": [
      "Predictive likelihood: -10208.882298797951\n",
      "Computing predictive likelihood score on held out documents...\n"
     ]
    },
    {
     "name": "stderr",
     "output_type": "stream",
     "text": [
      "100%|█████████████████████████████████████████████| 12/12 [00:00<00:00, 3746.31it/s]\n"
     ]
    },
    {
     "name": "stdout",
     "output_type": "stream",
     "text": [
      "Predictive likelihood: -10272.470558422265\n",
      "Computing predictive likelihood score on held out documents...\n"
     ]
    },
    {
     "name": "stderr",
     "output_type": "stream",
     "text": [
      "100%|█████████████████████████████████████████████| 12/12 [00:00<00:00, 3414.17it/s]\n"
     ]
    },
    {
     "name": "stdout",
     "output_type": "stream",
     "text": [
      "Predictive likelihood: -10285.710958110221\n",
      "Computing predictive likelihood score on held out documents...\n"
     ]
    },
    {
     "name": "stderr",
     "output_type": "stream",
     "text": [
      "100%|█████████████████████████████████████████████| 12/12 [00:00<00:00, 3605.68it/s]\n"
     ]
    },
    {
     "name": "stdout",
     "output_type": "stream",
     "text": [
      "Predictive likelihood: -10287.607427437135\n",
      "Computing predictive likelihood score on held out documents...\n"
     ]
    },
    {
     "name": "stderr",
     "output_type": "stream",
     "text": [
      "100%|█████████████████████████████████████████████| 12/12 [00:00<00:00, 3380.23it/s]"
     ]
    },
    {
     "name": "stdout",
     "output_type": "stream",
     "text": [
      "Predictive likelihood: -10264.712675764022\n"
     ]
    },
    {
     "name": "stderr",
     "output_type": "stream",
     "text": [
      "\n"
     ]
    },
    {
     "name": "stdout",
     "output_type": "stream",
     "text": [
      "Computing predictive likelihood score on held out documents...\n"
     ]
    },
    {
     "name": "stderr",
     "output_type": "stream",
     "text": [
      "100%|█████████████████████████████████████████████| 12/12 [00:00<00:00, 3404.01it/s]\n"
     ]
    },
    {
     "name": "stdout",
     "output_type": "stream",
     "text": [
      "Predictive likelihood: -10262.157065642245\n",
      "Computing predictive likelihood score on held out documents...\n"
     ]
    },
    {
     "name": "stderr",
     "output_type": "stream",
     "text": [
      "100%|█████████████████████████████████████████████| 12/12 [00:00<00:00, 3415.09it/s]\n"
     ]
    },
    {
     "name": "stdout",
     "output_type": "stream",
     "text": [
      "Predictive likelihood: -10243.650969069191\n",
      "Computing predictive likelihood score on held out documents...\n"
     ]
    },
    {
     "name": "stderr",
     "output_type": "stream",
     "text": [
      "100%|█████████████████████████████████████████████| 12/12 [00:00<00:00, 3332.56it/s]\n"
     ]
    },
    {
     "name": "stdout",
     "output_type": "stream",
     "text": [
      "Predictive likelihood: -10168.608757672588\n",
      "Computing predictive likelihood score on held out documents...\n"
     ]
    },
    {
     "name": "stderr",
     "output_type": "stream",
     "text": [
      "100%|█████████████████████████████████████████████| 12/12 [00:00<00:00, 3271.48it/s]\n"
     ]
    },
    {
     "name": "stdout",
     "output_type": "stream",
     "text": [
      "Predictive likelihood: -10039.726427963868\n",
      "Computing predictive likelihood score on held out documents...\n"
     ]
    },
    {
     "name": "stderr",
     "output_type": "stream",
     "text": [
      "100%|█████████████████████████████████████████████| 12/12 [00:00<00:00, 3156.38it/s]\n"
     ]
    },
    {
     "name": "stdout",
     "output_type": "stream",
     "text": [
      "Predictive likelihood: -9986.416308114247\n",
      "Computing predictive likelihood score on held out documents...\n"
     ]
    },
    {
     "name": "stderr",
     "output_type": "stream",
     "text": [
      "100%|█████████████████████████████████████████████| 12/12 [00:00<00:00, 3144.75it/s]\n"
     ]
    },
    {
     "name": "stdout",
     "output_type": "stream",
     "text": [
      "Predictive likelihood: -10068.53070905288\n",
      "Computing predictive likelihood score on held out documents...\n"
     ]
    },
    {
     "name": "stderr",
     "output_type": "stream",
     "text": [
      "100%|█████████████████████████████████████████████| 12/12 [00:00<00:00, 2802.43it/s]\n"
     ]
    },
    {
     "name": "stdout",
     "output_type": "stream",
     "text": [
      "Predictive likelihood: -10207.454090130905\n",
      "Computing predictive likelihood score on held out documents...\n"
     ]
    },
    {
     "name": "stderr",
     "output_type": "stream",
     "text": [
      "100%|█████████████████████████████████████████████| 12/12 [00:00<00:00, 3145.33it/s]\n"
     ]
    },
    {
     "name": "stdout",
     "output_type": "stream",
     "text": [
      "Predictive likelihood: -10272.680351654424\n",
      "Computing predictive likelihood score on held out documents...\n"
     ]
    },
    {
     "name": "stderr",
     "output_type": "stream",
     "text": [
      "100%|█████████████████████████████████████████████| 12/12 [00:00<00:00, 3465.17it/s]\n"
     ]
    },
    {
     "name": "stdout",
     "output_type": "stream",
     "text": [
      "Predictive likelihood: -10285.916394163813\n",
      "Computing predictive likelihood score on held out documents...\n"
     ]
    },
    {
     "name": "stderr",
     "output_type": "stream",
     "text": [
      "100%|█████████████████████████████████████████████| 12/12 [00:00<00:00, 3156.18it/s]\n"
     ]
    },
    {
     "name": "stdout",
     "output_type": "stream",
     "text": [
      "Predictive likelihood: -10287.607427437135\n",
      "Computing predictive likelihood score on held out documents...\n"
     ]
    },
    {
     "name": "stderr",
     "output_type": "stream",
     "text": [
      "100%|█████████████████████████████████████████████| 12/12 [00:00<00:00, 3024.19it/s]\n"
     ]
    },
    {
     "name": "stdout",
     "output_type": "stream",
     "text": [
      "Predictive likelihood: -10264.712675764022\n",
      "Computing predictive likelihood score on held out documents...\n"
     ]
    },
    {
     "name": "stderr",
     "output_type": "stream",
     "text": [
      "100%|█████████████████████████████████████████████| 12/12 [00:00<00:00, 3188.98it/s]\n"
     ]
    },
    {
     "name": "stdout",
     "output_type": "stream",
     "text": [
      "Predictive likelihood: -10262.372880576353\n",
      "Computing predictive likelihood score on held out documents...\n"
     ]
    },
    {
     "name": "stderr",
     "output_type": "stream",
     "text": [
      "100%|█████████████████████████████████████████████| 12/12 [00:00<00:00, 3447.37it/s]\n"
     ]
    },
    {
     "name": "stdout",
     "output_type": "stream",
     "text": [
      "Predictive likelihood: -10243.65354035575\n",
      "Computing predictive likelihood score on held out documents...\n"
     ]
    },
    {
     "name": "stderr",
     "output_type": "stream",
     "text": [
      "100%|█████████████████████████████████████████████| 12/12 [00:00<00:00, 2938.39it/s]\n"
     ]
    },
    {
     "name": "stdout",
     "output_type": "stream",
     "text": [
      "Predictive likelihood: -10167.09790787694\n",
      "Computing predictive likelihood score on held out documents...\n"
     ]
    },
    {
     "name": "stderr",
     "output_type": "stream",
     "text": [
      "100%|█████████████████████████████████████████████| 12/12 [00:00<00:00, 3091.24it/s]\n"
     ]
    },
    {
     "name": "stdout",
     "output_type": "stream",
     "text": [
      "Predictive likelihood: -10034.477042473325\n",
      "Computing predictive likelihood score on held out documents...\n"
     ]
    },
    {
     "name": "stderr",
     "output_type": "stream",
     "text": [
      "100%|█████████████████████████████████████████████| 12/12 [00:00<00:00, 3327.93it/s]\n"
     ]
    },
    {
     "name": "stdout",
     "output_type": "stream",
     "text": [
      "Predictive likelihood: -9978.537021947528\n",
      "Computing predictive likelihood score on held out documents...\n"
     ]
    },
    {
     "name": "stderr",
     "output_type": "stream",
     "text": [
      "100%|█████████████████████████████████████████████| 12/12 [00:00<00:00, 3046.34it/s]\n"
     ]
    },
    {
     "name": "stdout",
     "output_type": "stream",
     "text": [
      "Predictive likelihood: -10063.13037629528\n",
      "Computing predictive likelihood score on held out documents...\n"
     ]
    },
    {
     "name": "stderr",
     "output_type": "stream",
     "text": [
      "100%|█████████████████████████████████████████████| 12/12 [00:00<00:00, 3466.13it/s]\n"
     ]
    },
    {
     "name": "stdout",
     "output_type": "stream",
     "text": [
      "Predictive likelihood: -10206.108296246863\n",
      "Computing predictive likelihood score on held out documents...\n"
     ]
    },
    {
     "name": "stderr",
     "output_type": "stream",
     "text": [
      "100%|█████████████████████████████████████████████| 12/12 [00:00<00:00, 3340.52it/s]\n"
     ]
    },
    {
     "name": "stdout",
     "output_type": "stream",
     "text": [
      "Predictive likelihood: -10272.883885128476\n",
      "Computing predictive likelihood score on held out documents...\n"
     ]
    },
    {
     "name": "stderr",
     "output_type": "stream",
     "text": [
      "100%|█████████████████████████████████████████████| 12/12 [00:00<00:00, 3086.32it/s]\n"
     ]
    },
    {
     "name": "stdout",
     "output_type": "stream",
     "text": [
      "Predictive likelihood: -10286.107745435222\n",
      "Computing predictive likelihood score on held out documents...\n"
     ]
    },
    {
     "name": "stderr",
     "output_type": "stream",
     "text": [
      "100%|█████████████████████████████████████████████| 12/12 [00:00<00:00, 4270.10it/s]\n"
     ]
    },
    {
     "name": "stdout",
     "output_type": "stream",
     "text": [
      "Predictive likelihood: -10287.607427437135\n",
      "Computing predictive likelihood score on held out documents...\n"
     ]
    },
    {
     "name": "stderr",
     "output_type": "stream",
     "text": [
      "100%|█████████████████████████████████████████████| 12/12 [00:00<00:00, 2914.06it/s]\n"
     ]
    },
    {
     "name": "stdout",
     "output_type": "stream",
     "text": [
      "Predictive likelihood: -10264.712675764022\n",
      "Computing predictive likelihood score on held out documents...\n"
     ]
    },
    {
     "name": "stderr",
     "output_type": "stream",
     "text": [
      "100%|█████████████████████████████████████████████| 12/12 [00:00<00:00, 3080.84it/s]\n"
     ]
    },
    {
     "name": "stdout",
     "output_type": "stream",
     "text": [
      "Predictive likelihood: -10262.57766482879\n",
      "Computing predictive likelihood score on held out documents...\n"
     ]
    },
    {
     "name": "stderr",
     "output_type": "stream",
     "text": [
      "100%|█████████████████████████████████████████████| 12/12 [00:00<00:00, 3187.16it/s]\n"
     ]
    },
    {
     "name": "stdout",
     "output_type": "stream",
     "text": [
      "Predictive likelihood: -10243.658890027053\n",
      "Computing predictive likelihood score on held out documents...\n"
     ]
    },
    {
     "name": "stderr",
     "output_type": "stream",
     "text": [
      "100%|█████████████████████████████████████████████| 12/12 [00:00<00:00, 3387.06it/s]\n"
     ]
    },
    {
     "name": "stdout",
     "output_type": "stream",
     "text": [
      "Predictive likelihood: -10165.761064862616\n",
      "Computing predictive likelihood score on held out documents...\n"
     ]
    },
    {
     "name": "stderr",
     "output_type": "stream",
     "text": [
      "100%|█████████████████████████████████████████████| 12/12 [00:00<00:00, 2995.57it/s]\n"
     ]
    },
    {
     "name": "stdout",
     "output_type": "stream",
     "text": [
      "Predictive likelihood: -10029.70151457128\n",
      "Computing predictive likelihood score on held out documents...\n"
     ]
    },
    {
     "name": "stderr",
     "output_type": "stream",
     "text": [
      "100%|█████████████████████████████████████████████| 12/12 [00:00<00:00, 3186.56it/s]\n"
     ]
    },
    {
     "name": "stdout",
     "output_type": "stream",
     "text": [
      "Predictive likelihood: -9971.318227587995\n",
      "Computing predictive likelihood score on held out documents...\n"
     ]
    },
    {
     "name": "stderr",
     "output_type": "stream",
     "text": [
      "100%|█████████████████████████████████████████████| 12/12 [00:00<00:00, 4175.17it/s]\n"
     ]
    },
    {
     "name": "stdout",
     "output_type": "stream",
     "text": [
      "Predictive likelihood: -10058.151966336532\n",
      "Computing predictive likelihood score on held out documents...\n"
     ]
    },
    {
     "name": "stderr",
     "output_type": "stream",
     "text": [
      "100%|█████████████████████████████████████████████| 12/12 [00:00<00:00, 3197.49it/s]\n"
     ]
    },
    {
     "name": "stdout",
     "output_type": "stream",
     "text": [
      "Predictive likelihood: -10204.833296676203\n",
      "Computing predictive likelihood score on held out documents...\n"
     ]
    },
    {
     "name": "stderr",
     "output_type": "stream",
     "text": [
      "100%|█████████████████████████████████████████████| 12/12 [00:00<00:00, 3005.95it/s]\n"
     ]
    },
    {
     "name": "stdout",
     "output_type": "stream",
     "text": [
      "Predictive likelihood: -10273.078368196437\n",
      "Computing predictive likelihood score on held out documents...\n"
     ]
    },
    {
     "name": "stderr",
     "output_type": "stream",
     "text": [
      "100%|█████████████████████████████████████████████| 12/12 [00:00<00:00, 3231.15it/s]\n"
     ]
    },
    {
     "name": "stdout",
     "output_type": "stream",
     "text": [
      "Predictive likelihood: -10286.285679375724\n",
      "Computing predictive likelihood score on held out documents...\n"
     ]
    },
    {
     "name": "stderr",
     "output_type": "stream",
     "text": [
      "100%|█████████████████████████████████████████████| 12/12 [00:00<00:00, 3391.62it/s]\n"
     ]
    },
    {
     "name": "stdout",
     "output_type": "stream",
     "text": [
      "Predictive likelihood: -10287.607427437135\n",
      "Computing predictive likelihood score on held out documents...\n"
     ]
    },
    {
     "name": "stderr",
     "output_type": "stream",
     "text": [
      "100%|█████████████████████████████████████████████| 12/12 [00:00<00:00, 3285.14it/s]\n"
     ]
    },
    {
     "name": "stdout",
     "output_type": "stream",
     "text": [
      "Predictive likelihood: -10264.712675764022\n",
      "Computing predictive likelihood score on held out documents...\n"
     ]
    },
    {
     "name": "stderr",
     "output_type": "stream",
     "text": [
      "100%|█████████████████████████████████████████████| 12/12 [00:00<00:00, 3206.86it/s]\n"
     ]
    },
    {
     "name": "stdout",
     "output_type": "stream",
     "text": [
      "Predictive likelihood: -10262.772077610642\n",
      "Computing predictive likelihood score on held out documents...\n"
     ]
    },
    {
     "name": "stderr",
     "output_type": "stream",
     "text": [
      "100%|█████████████████████████████████████████████| 12/12 [00:00<00:00, 3502.79it/s]\n"
     ]
    },
    {
     "name": "stdout",
     "output_type": "stream",
     "text": [
      "Predictive likelihood: -10243.664340726027\n",
      "Computing predictive likelihood score on held out documents...\n"
     ]
    },
    {
     "name": "stderr",
     "output_type": "stream",
     "text": [
      "100%|█████████████████████████████████████████████| 12/12 [00:00<00:00, 3567.09it/s]\n"
     ]
    },
    {
     "name": "stdout",
     "output_type": "stream",
     "text": [
      "Predictive likelihood: -10164.582985917188\n",
      "Computing predictive likelihood score on held out documents...\n"
     ]
    },
    {
     "name": "stderr",
     "output_type": "stream",
     "text": [
      "100%|█████████████████████████████████████████████| 12/12 [00:00<00:00, 2903.47it/s]\n"
     ]
    },
    {
     "name": "stdout",
     "output_type": "stream",
     "text": [
      "Predictive likelihood: -10025.356803655097\n",
      "Computing predictive likelihood score on held out documents...\n"
     ]
    },
    {
     "name": "stderr",
     "output_type": "stream",
     "text": [
      "100%|█████████████████████████████████████████████| 12/12 [00:00<00:00, 2850.36it/s]\n"
     ]
    },
    {
     "name": "stdout",
     "output_type": "stream",
     "text": [
      "Predictive likelihood: -9964.720112609217\n",
      "Computing predictive likelihood score on held out documents...\n"
     ]
    },
    {
     "name": "stderr",
     "output_type": "stream",
     "text": [
      "100%|█████████████████████████████████████████████| 12/12 [00:00<00:00, 3307.59it/s]\n"
     ]
    },
    {
     "name": "stdout",
     "output_type": "stream",
     "text": [
      "Predictive likelihood: -10053.569208753182\n",
      "Computing predictive likelihood score on held out documents...\n"
     ]
    },
    {
     "name": "stderr",
     "output_type": "stream",
     "text": [
      "100%|█████████████████████████████████████████████| 12/12 [00:00<00:00, 2911.87it/s]\n"
     ]
    },
    {
     "name": "stdout",
     "output_type": "stream",
     "text": [
      "Predictive likelihood: -10203.622563444334\n",
      "Computing predictive likelihood score on held out documents...\n"
     ]
    },
    {
     "name": "stderr",
     "output_type": "stream",
     "text": [
      "100%|█████████████████████████████████████████████| 12/12 [00:00<00:00, 3477.14it/s]\n"
     ]
    },
    {
     "name": "stdout",
     "output_type": "stream",
     "text": [
      "Predictive likelihood: -10273.261895872318\n",
      "Computing predictive likelihood score on held out documents...\n"
     ]
    },
    {
     "name": "stderr",
     "output_type": "stream",
     "text": [
      "100%|█████████████████████████████████████████████| 12/12 [00:00<00:00, 2949.93it/s]\n"
     ]
    },
    {
     "name": "stdout",
     "output_type": "stream",
     "text": [
      "Predictive likelihood: -10286.45089210555\n",
      "Computing predictive likelihood score on held out documents...\n"
     ]
    },
    {
     "name": "stderr",
     "output_type": "stream",
     "text": [
      "100%|█████████████████████████████████████████████| 12/12 [00:00<00:00, 3671.16it/s]\n"
     ]
    },
    {
     "name": "stdout",
     "output_type": "stream",
     "text": [
      "Predictive likelihood: -10287.607427437135\n",
      "Computing predictive likelihood score on held out documents...\n"
     ]
    },
    {
     "name": "stderr",
     "output_type": "stream",
     "text": [
      "100%|█████████████████████████████████████████████| 12/12 [00:00<00:00, 3247.83it/s]\n"
     ]
    },
    {
     "name": "stdout",
     "output_type": "stream",
     "text": [
      "Predictive likelihood: -10264.712675764022\n",
      "Computing predictive likelihood score on held out documents...\n"
     ]
    },
    {
     "name": "stderr",
     "output_type": "stream",
     "text": [
      "100%|█████████████████████████████████████████████| 12/12 [00:00<00:00, 3226.80it/s]\n"
     ]
    },
    {
     "name": "stdout",
     "output_type": "stream",
     "text": [
      "Predictive likelihood: -10262.956707858622\n",
      "Computing predictive likelihood score on held out documents...\n"
     ]
    },
    {
     "name": "stderr",
     "output_type": "stream",
     "text": [
      "100%|█████████████████████████████████████████████| 12/12 [00:00<00:00, 3048.00it/s]\n"
     ]
    },
    {
     "name": "stdout",
     "output_type": "stream",
     "text": [
      "Predictive likelihood: -10243.668045418206\n",
      "Computing predictive likelihood score on held out documents...\n"
     ]
    },
    {
     "name": "stderr",
     "output_type": "stream",
     "text": [
      "100%|█████████████████████████████████████████████| 12/12 [00:00<00:00, 3684.33it/s]\n"
     ]
    },
    {
     "name": "stdout",
     "output_type": "stream",
     "text": [
      "Predictive likelihood: -10163.549436448602\n",
      "Computing predictive likelihood score on held out documents...\n"
     ]
    },
    {
     "name": "stderr",
     "output_type": "stream",
     "text": [
      "100%|█████████████████████████████████████████████| 12/12 [00:00<00:00, 3483.16it/s]\n"
     ]
    },
    {
     "name": "stdout",
     "output_type": "stream",
     "text": [
      "Predictive likelihood: -10021.40285639275\n",
      "Computing predictive likelihood score on held out documents...\n"
     ]
    },
    {
     "name": "stderr",
     "output_type": "stream",
     "text": [
      "100%|█████████████████████████████████████████████| 12/12 [00:00<00:00, 3266.38it/s]\n"
     ]
    },
    {
     "name": "stdout",
     "output_type": "stream",
     "text": [
      "Predictive likelihood: -9958.702035356806\n",
      "Computing predictive likelihood score on held out documents...\n"
     ]
    },
    {
     "name": "stderr",
     "output_type": "stream",
     "text": [
      "100%|█████████████████████████████████████████████| 12/12 [00:00<00:00, 3998.70it/s]\n"
     ]
    },
    {
     "name": "stdout",
     "output_type": "stream",
     "text": [
      "Predictive likelihood: -10049.356079793466\n",
      "Computing predictive likelihood score on held out documents...\n"
     ]
    },
    {
     "name": "stderr",
     "output_type": "stream",
     "text": [
      "100%|█████████████████████████████████████████████| 12/12 [00:00<00:00, 3329.47it/s]\n"
     ]
    },
    {
     "name": "stdout",
     "output_type": "stream",
     "text": [
      "Predictive likelihood: -10202.474823067472\n",
      "Computing predictive likelihood score on held out documents...\n"
     ]
    },
    {
     "name": "stderr",
     "output_type": "stream",
     "text": [
      "100%|█████████████████████████████████████████████| 12/12 [00:00<00:00, 3065.08it/s]\n"
     ]
    },
    {
     "name": "stdout",
     "output_type": "stream",
     "text": [
      "Predictive likelihood: -10273.433313511094\n",
      "Computing predictive likelihood score on held out documents...\n"
     ]
    },
    {
     "name": "stderr",
     "output_type": "stream",
     "text": [
      "100%|█████████████████████████████████████████████| 12/12 [00:00<00:00, 3920.22it/s]\n"
     ]
    },
    {
     "name": "stdout",
     "output_type": "stream",
     "text": [
      "Predictive likelihood: -10286.604108561774\n",
      "Computing predictive likelihood score on held out documents...\n"
     ]
    },
    {
     "name": "stderr",
     "output_type": "stream",
     "text": [
      "100%|█████████████████████████████████████████████| 12/12 [00:00<00:00, 3370.95it/s]\n"
     ]
    },
    {
     "name": "stdout",
     "output_type": "stream",
     "text": [
      "Predictive likelihood: -10287.607427437135\n",
      "Computing predictive likelihood score on held out documents...\n"
     ]
    },
    {
     "name": "stderr",
     "output_type": "stream",
     "text": [
      "100%|█████████████████████████████████████████████| 12/12 [00:00<00:00, 3617.86it/s]\n"
     ]
    },
    {
     "name": "stdout",
     "output_type": "stream",
     "text": [
      "Predictive likelihood: -10264.712675764022\n",
      "Computing predictive likelihood score on held out documents...\n"
     ]
    },
    {
     "name": "stderr",
     "output_type": "stream",
     "text": [
      "100%|█████████████████████████████████████████████| 12/12 [00:00<00:00, 3355.67it/s]\n"
     ]
    },
    {
     "name": "stdout",
     "output_type": "stream",
     "text": [
      "Predictive likelihood: -10263.131963024187\n",
      "Computing predictive likelihood score on held out documents...\n"
     ]
    },
    {
     "name": "stderr",
     "output_type": "stream",
     "text": [
      "100%|█████████████████████████████████████████████| 12/12 [00:00<00:00, 3060.60it/s]\n"
     ]
    },
    {
     "name": "stdout",
     "output_type": "stream",
     "text": [
      "Predictive likelihood: -10243.668835722036\n",
      "Computing predictive likelihood score on held out documents...\n"
     ]
    },
    {
     "name": "stderr",
     "output_type": "stream",
     "text": [
      "100%|█████████████████████████████████████████████| 12/12 [00:00<00:00, 3116.90it/s]\n"
     ]
    },
    {
     "name": "stdout",
     "output_type": "stream",
     "text": [
      "Predictive likelihood: -10162.647302011346\n",
      "Computing predictive likelihood score on held out documents...\n"
     ]
    },
    {
     "name": "stderr",
     "output_type": "stream",
     "text": [
      "100%|█████████████████████████████████████████████| 12/12 [00:00<00:00, 3758.34it/s]\n"
     ]
    },
    {
     "name": "stdout",
     "output_type": "stream",
     "text": [
      "Predictive likelihood: -10017.803203347956\n",
      "Computing predictive likelihood score on held out documents...\n"
     ]
    },
    {
     "name": "stderr",
     "output_type": "stream",
     "text": [
      "100%|█████████████████████████████████████████████| 12/12 [00:00<00:00, 3273.18it/s]\n"
     ]
    },
    {
     "name": "stdout",
     "output_type": "stream",
     "text": [
      "Predictive likelihood: -9953.223307780552\n",
      "Computing predictive likelihood score on held out documents...\n"
     ]
    },
    {
     "name": "stderr",
     "output_type": "stream",
     "text": [
      "100%|█████████████████████████████████████████████| 12/12 [00:00<00:00, 3167.11it/s]\n"
     ]
    },
    {
     "name": "stdout",
     "output_type": "stream",
     "text": [
      "Predictive likelihood: -10045.486970066979\n",
      "Computing predictive likelihood score on held out documents...\n"
     ]
    },
    {
     "name": "stderr",
     "output_type": "stream",
     "text": [
      "100%|█████████████████████████████████████████████| 12/12 [00:00<00:00, 3077.07it/s]\n"
     ]
    },
    {
     "name": "stdout",
     "output_type": "stream",
     "text": [
      "Predictive likelihood: -10201.392406615549\n",
      "Computing predictive likelihood score on held out documents...\n"
     ]
    },
    {
     "name": "stderr",
     "output_type": "stream",
     "text": [
      "100%|█████████████████████████████████████████████| 12/12 [00:00<00:00, 3214.44it/s]\n"
     ]
    },
    {
     "name": "stdout",
     "output_type": "stream",
     "text": [
      "Predictive likelihood: -10273.592059355666\n",
      "Computing predictive likelihood score on held out documents...\n"
     ]
    },
    {
     "name": "stderr",
     "output_type": "stream",
     "text": [
      "100%|█████████████████████████████████████████████| 12/12 [00:00<00:00, 4722.43it/s]\n"
     ]
    },
    {
     "name": "stdout",
     "output_type": "stream",
     "text": [
      "Predictive likelihood: -10286.746080344163\n",
      "Computing predictive likelihood score on held out documents...\n"
     ]
    },
    {
     "name": "stderr",
     "output_type": "stream",
     "text": [
      "100%|█████████████████████████████████████████████| 12/12 [00:00<00:00, 3364.19it/s]\n"
     ]
    },
    {
     "name": "stdout",
     "output_type": "stream",
     "text": [
      "Predictive likelihood: -10287.607427437135\n",
      "Computing predictive likelihood score on held out documents...\n"
     ]
    },
    {
     "name": "stderr",
     "output_type": "stream",
     "text": [
      "100%|█████████████████████████████████████████████| 12/12 [00:00<00:00, 3608.78it/s]\n"
     ]
    },
    {
     "name": "stdout",
     "output_type": "stream",
     "text": [
      "Predictive likelihood: -10264.712675764022\n",
      "Computing predictive likelihood score on held out documents...\n"
     ]
    },
    {
     "name": "stderr",
     "output_type": "stream",
     "text": [
      "100%|█████████████████████████████████████████████| 12/12 [00:00<00:00, 4341.56it/s]\n"
     ]
    },
    {
     "name": "stdout",
     "output_type": "stream",
     "text": [
      "Predictive likelihood: -10263.29799492071\n",
      "Computing predictive likelihood score on held out documents...\n"
     ]
    },
    {
     "name": "stderr",
     "output_type": "stream",
     "text": [
      "100%|█████████████████████████████████████████████| 12/12 [00:00<00:00, 3648.54it/s]\n"
     ]
    },
    {
     "name": "stdout",
     "output_type": "stream",
     "text": [
      "Predictive likelihood: -10243.6660267941\n",
      "Computing predictive likelihood score on held out documents...\n"
     ]
    },
    {
     "name": "stderr",
     "output_type": "stream",
     "text": [
      "100%|█████████████████████████████████████████████| 12/12 [00:00<00:00, 2857.80it/s]\n"
     ]
    },
    {
     "name": "stdout",
     "output_type": "stream",
     "text": [
      "Predictive likelihood: -10161.864384221177\n",
      "Computing predictive likelihood score on held out documents...\n"
     ]
    },
    {
     "name": "stderr",
     "output_type": "stream",
     "text": [
      "100%|█████████████████████████████████████████████| 12/12 [00:00<00:00, 3085.75it/s]\n"
     ]
    },
    {
     "name": "stdout",
     "output_type": "stream",
     "text": [
      "Predictive likelihood: -10014.525165612182\n",
      "Computing predictive likelihood score on held out documents...\n"
     ]
    },
    {
     "name": "stderr",
     "output_type": "stream",
     "text": [
      "100%|█████████████████████████████████████████████| 12/12 [00:00<00:00, 3794.03it/s]\n"
     ]
    },
    {
     "name": "stdout",
     "output_type": "stream",
     "text": [
      "Predictive likelihood: -9948.24380668469\n",
      "Computing predictive likelihood score on held out documents...\n"
     ]
    },
    {
     "name": "stderr",
     "output_type": "stream",
     "text": [
      "100%|█████████████████████████████████████████████| 12/12 [00:00<00:00, 3693.52it/s]\n"
     ]
    },
    {
     "name": "stdout",
     "output_type": "stream",
     "text": [
      "Predictive likelihood: -10041.936909211123\n",
      "Computing predictive likelihood score on held out documents...\n"
     ]
    },
    {
     "name": "stderr",
     "output_type": "stream",
     "text": [
      "100%|█████████████████████████████████████████████| 12/12 [00:00<00:00, 3664.21it/s]\n"
     ]
    },
    {
     "name": "stdout",
     "output_type": "stream",
     "text": [
      "Predictive likelihood: -10200.37835441924\n",
      "Computing predictive likelihood score on held out documents...\n"
     ]
    },
    {
     "name": "stderr",
     "output_type": "stream",
     "text": [
      "100%|█████████████████████████████████████████████| 12/12 [00:00<00:00, 4057.04it/s]\n"
     ]
    },
    {
     "name": "stdout",
     "output_type": "stream",
     "text": [
      "Predictive likelihood: -10273.738007493122\n",
      "Computing predictive likelihood score on held out documents...\n"
     ]
    },
    {
     "name": "stderr",
     "output_type": "stream",
     "text": [
      "100%|█████████████████████████████████████████████| 12/12 [00:00<00:00, 3524.38it/s]\n"
     ]
    },
    {
     "name": "stdout",
     "output_type": "stream",
     "text": [
      "Predictive likelihood: -10286.877578351909\n",
      "Computing predictive likelihood score on held out documents...\n"
     ]
    },
    {
     "name": "stderr",
     "output_type": "stream",
     "text": [
      "100%|█████████████████████████████████████████████| 12/12 [00:00<00:00, 4235.96it/s]"
     ]
    },
    {
     "name": "stdout",
     "output_type": "stream",
     "text": [
      "Predictive likelihood: -10287.607427437135\n"
     ]
    },
    {
     "name": "stderr",
     "output_type": "stream",
     "text": [
      "\n"
     ]
    },
    {
     "name": "stdout",
     "output_type": "stream",
     "text": [
      "Computing predictive likelihood score on held out documents...\n"
     ]
    },
    {
     "name": "stderr",
     "output_type": "stream",
     "text": [
      "100%|█████████████████████████████████████████████| 12/12 [00:00<00:00, 3520.19it/s]\n"
     ]
    },
    {
     "name": "stdout",
     "output_type": "stream",
     "text": [
      "Predictive likelihood: -10264.712675764022\n",
      "Computing predictive likelihood score on held out documents...\n"
     ]
    },
    {
     "name": "stderr",
     "output_type": "stream",
     "text": [
      "100%|█████████████████████████████████████████████| 12/12 [00:00<00:00, 3647.22it/s]\n"
     ]
    },
    {
     "name": "stdout",
     "output_type": "stream",
     "text": [
      "Predictive likelihood: -10263.454709625674\n",
      "Computing predictive likelihood score on held out documents...\n"
     ]
    },
    {
     "name": "stderr",
     "output_type": "stream",
     "text": [
      "100%|█████████████████████████████████████████████| 12/12 [00:00<00:00, 4077.09it/s]\n"
     ]
    },
    {
     "name": "stdout",
     "output_type": "stream",
     "text": [
      "Predictive likelihood: -10243.659225133855\n",
      "Computing predictive likelihood score on held out documents...\n"
     ]
    },
    {
     "name": "stderr",
     "output_type": "stream",
     "text": [
      "100%|█████████████████████████████████████████████| 12/12 [00:00<00:00, 3911.08it/s]\n"
     ]
    },
    {
     "name": "stdout",
     "output_type": "stream",
     "text": [
      "Predictive likelihood: -10161.18905315876\n",
      "Computing predictive likelihood score on held out documents...\n"
     ]
    },
    {
     "name": "stderr",
     "output_type": "stream",
     "text": [
      "100%|█████████████████████████████████████████████| 12/12 [00:00<00:00, 3707.95it/s]\n"
     ]
    },
    {
     "name": "stdout",
     "output_type": "stream",
     "text": [
      "Predictive likelihood: -10011.539708265023\n",
      "Computing predictive likelihood score on held out documents...\n"
     ]
    },
    {
     "name": "stderr",
     "output_type": "stream",
     "text": [
      "100%|█████████████████████████████████████████████| 12/12 [00:00<00:00, 3729.38it/s]\n"
     ]
    },
    {
     "name": "stdout",
     "output_type": "stream",
     "text": [
      "Predictive likelihood: -9943.724462827184\n",
      "Computing predictive likelihood score on held out documents...\n"
     ]
    },
    {
     "name": "stderr",
     "output_type": "stream",
     "text": [
      "100%|█████████████████████████████████████████████| 12/12 [00:00<00:00, 3858.61it/s]\n"
     ]
    },
    {
     "name": "stdout",
     "output_type": "stream",
     "text": [
      "Predictive likelihood: -10038.681814308202\n",
      "Computing predictive likelihood score on held out documents...\n"
     ]
    },
    {
     "name": "stderr",
     "output_type": "stream",
     "text": [
      "100%|█████████████████████████████████████████████| 12/12 [00:00<00:00, 3205.02it/s]\n"
     ]
    },
    {
     "name": "stdout",
     "output_type": "stream",
     "text": [
      "Predictive likelihood: -10199.434213476896\n",
      "Computing predictive likelihood score on held out documents...\n"
     ]
    },
    {
     "name": "stderr",
     "output_type": "stream",
     "text": [
      "100%|█████████████████████████████████████████████| 12/12 [00:00<00:00, 3500.84it/s]\n"
     ]
    },
    {
     "name": "stdout",
     "output_type": "stream",
     "text": [
      "Predictive likelihood: -10273.87132940387\n",
      "Computing predictive likelihood score on held out documents...\n"
     ]
    },
    {
     "name": "stderr",
     "output_type": "stream",
     "text": [
      "100%|█████████████████████████████████████████████| 12/12 [00:00<00:00, 3561.79it/s]\n"
     ]
    },
    {
     "name": "stdout",
     "output_type": "stream",
     "text": [
      "Predictive likelihood: -10286.999380640555\n",
      "Computing predictive likelihood score on held out documents...\n"
     ]
    },
    {
     "name": "stderr",
     "output_type": "stream",
     "text": [
      "100%|█████████████████████████████████████████████| 12/12 [00:00<00:00, 3982.88it/s]\n"
     ]
    },
    {
     "name": "stdout",
     "output_type": "stream",
     "text": [
      "Predictive likelihood: -10287.607427437135\n",
      "Computing predictive likelihood score on held out documents...\n"
     ]
    },
    {
     "name": "stderr",
     "output_type": "stream",
     "text": [
      "100%|█████████████████████████████████████████████| 12/12 [00:00<00:00, 3934.62it/s]\n"
     ]
    },
    {
     "name": "stdout",
     "output_type": "stream",
     "text": [
      "Predictive likelihood: -10264.712675764022\n",
      "Computing predictive likelihood score on held out documents...\n"
     ]
    },
    {
     "name": "stderr",
     "output_type": "stream",
     "text": [
      "100%|█████████████████████████████████████████████| 12/12 [00:00<00:00, 3360.15it/s]\n"
     ]
    },
    {
     "name": "stdout",
     "output_type": "stream",
     "text": [
      "Predictive likelihood: -10263.60187936481\n",
      "Computing predictive likelihood score on held out documents...\n"
     ]
    },
    {
     "name": "stderr",
     "output_type": "stream",
     "text": [
      "100%|█████████████████████████████████████████████| 12/12 [00:00<00:00, 4514.45it/s]\n"
     ]
    },
    {
     "name": "stdout",
     "output_type": "stream",
     "text": [
      "Predictive likelihood: -10243.648178344662\n",
      "Computing predictive likelihood score on held out documents...\n"
     ]
    },
    {
     "name": "stderr",
     "output_type": "stream",
     "text": [
      "100%|█████████████████████████████████████████████| 12/12 [00:00<00:00, 4209.04it/s]\n"
     ]
    },
    {
     "name": "stdout",
     "output_type": "stream",
     "text": [
      "Predictive likelihood: -10160.609998938358\n",
      "Computing predictive likelihood score on held out documents...\n"
     ]
    },
    {
     "name": "stderr",
     "output_type": "stream",
     "text": [
      "100%|█████████████████████████████████████████████| 12/12 [00:00<00:00, 3811.85it/s]\n"
     ]
    },
    {
     "name": "stdout",
     "output_type": "stream",
     "text": [
      "Predictive likelihood: -10008.821027783224\n",
      "Computing predictive likelihood score on held out documents...\n"
     ]
    },
    {
     "name": "stderr",
     "output_type": "stream",
     "text": [
      "100%|█████████████████████████████████████████████| 12/12 [00:00<00:00, 4305.53it/s]\n"
     ]
    },
    {
     "name": "stdout",
     "output_type": "stream",
     "text": [
      "Predictive likelihood: -9939.62766939932\n",
      "Computing predictive likelihood score on held out documents...\n"
     ]
    },
    {
     "name": "stderr",
     "output_type": "stream",
     "text": [
      "100%|█████████████████████████████████████████████| 12/12 [00:00<00:00, 3481.23it/s]\n"
     ]
    },
    {
     "name": "stdout",
     "output_type": "stream",
     "text": [
      "Predictive likelihood: -10035.698732637578\n",
      "Computing predictive likelihood score on held out documents...\n"
     ]
    },
    {
     "name": "stderr",
     "output_type": "stream",
     "text": [
      "100%|█████████████████████████████████████████████| 12/12 [00:00<00:00, 4200.25it/s]\n"
     ]
    },
    {
     "name": "stdout",
     "output_type": "stream",
     "text": [
      "Predictive likelihood: -10198.559470923637\n",
      "Computing predictive likelihood score on held out documents...\n"
     ]
    },
    {
     "name": "stderr",
     "output_type": "stream",
     "text": [
      "100%|█████████████████████████████████████████████| 12/12 [00:00<00:00, 4163.77it/s]\n"
     ]
    },
    {
     "name": "stdout",
     "output_type": "stream",
     "text": [
      "Predictive likelihood: -10273.992381853946\n",
      "Computing predictive likelihood score on held out documents...\n"
     ]
    },
    {
     "name": "stderr",
     "output_type": "stream",
     "text": [
      "100%|█████████████████████████████████████████████| 12/12 [00:00<00:00, 3730.48it/s]\n"
     ]
    },
    {
     "name": "stdout",
     "output_type": "stream",
     "text": [
      "Predictive likelihood: -10287.1122576469\n",
      "Computing predictive likelihood score on held out documents...\n"
     ]
    },
    {
     "name": "stderr",
     "output_type": "stream",
     "text": [
      "100%|█████████████████████████████████████████████| 12/12 [00:00<00:00, 4692.49it/s]\n"
     ]
    },
    {
     "name": "stdout",
     "output_type": "stream",
     "text": [
      "Predictive likelihood: -10287.607427437135\n",
      "Computing predictive likelihood score on held out documents...\n"
     ]
    },
    {
     "name": "stderr",
     "output_type": "stream",
     "text": [
      "100%|█████████████████████████████████████████████| 12/12 [00:00<00:00, 3437.48it/s]"
     ]
    },
    {
     "name": "stdout",
     "output_type": "stream",
     "text": [
      "Predictive likelihood: -10264.712675764022\n"
     ]
    },
    {
     "name": "stderr",
     "output_type": "stream",
     "text": [
      "\n"
     ]
    },
    {
     "name": "stdout",
     "output_type": "stream",
     "text": [
      "Computing predictive likelihood score on held out documents...\n"
     ]
    },
    {
     "name": "stderr",
     "output_type": "stream",
     "text": [
      "100%|█████████████████████████████████████████████| 12/12 [00:00<00:00, 3293.96it/s]"
     ]
    },
    {
     "name": "stdout",
     "output_type": "stream",
     "text": [
      "Predictive likelihood: -10263.739314954291\n"
     ]
    },
    {
     "name": "stderr",
     "output_type": "stream",
     "text": [
      "\n"
     ]
    },
    {
     "name": "stdout",
     "output_type": "stream",
     "text": [
      "Computing predictive likelihood score on held out documents...\n"
     ]
    },
    {
     "name": "stderr",
     "output_type": "stream",
     "text": [
      "100%|█████████████████████████████████████████████| 12/12 [00:00<00:00, 3879.72it/s]\n"
     ]
    },
    {
     "name": "stdout",
     "output_type": "stream",
     "text": [
      "Predictive likelihood: -10243.632678828923\n",
      "Computing predictive likelihood score on held out documents...\n"
     ]
    },
    {
     "name": "stderr",
     "output_type": "stream",
     "text": [
      "100%|█████████████████████████████████████████████| 12/12 [00:00<00:00, 4132.32it/s]\n"
     ]
    },
    {
     "name": "stdout",
     "output_type": "stream",
     "text": [
      "Predictive likelihood: -10160.116194229679\n",
      "Computing predictive likelihood score on held out documents...\n"
     ]
    },
    {
     "name": "stderr",
     "output_type": "stream",
     "text": [
      "100%|█████████████████████████████████████████████| 12/12 [00:00<00:00, 4406.55it/s]\n"
     ]
    },
    {
     "name": "stdout",
     "output_type": "stream",
     "text": [
      "Predictive likelihood: -10006.345999579313\n",
      "Computing predictive likelihood score on held out documents...\n"
     ]
    },
    {
     "name": "stderr",
     "output_type": "stream",
     "text": [
      "100%|█████████████████████████████████████████████| 12/12 [00:00<00:00, 4063.59it/s]\n"
     ]
    },
    {
     "name": "stdout",
     "output_type": "stream",
     "text": [
      "Predictive likelihood: -9935.91762885576\n",
      "Computing predictive likelihood score on held out documents...\n"
     ]
    },
    {
     "name": "stderr",
     "output_type": "stream",
     "text": [
      "100%|█████████████████████████████████████████████| 12/12 [00:00<00:00, 3816.47it/s]\n"
     ]
    },
    {
     "name": "stdout",
     "output_type": "stream",
     "text": [
      "Predictive likelihood: -10032.966063669212\n",
      "Computing predictive likelihood score on held out documents...\n"
     ]
    },
    {
     "name": "stderr",
     "output_type": "stream",
     "text": [
      "100%|█████████████████████████████████████████████| 12/12 [00:00<00:00, 3899.56it/s]\n"
     ]
    },
    {
     "name": "stdout",
     "output_type": "stream",
     "text": [
      "Predictive likelihood: -10197.752003514732\n",
      "Computing predictive likelihood score on held out documents...\n"
     ]
    },
    {
     "name": "stderr",
     "output_type": "stream",
     "text": [
      "100%|█████████████████████████████████████████████| 12/12 [00:00<00:00, 3668.49it/s]"
     ]
    },
    {
     "name": "stdout",
     "output_type": "stream",
     "text": [
      "Predictive likelihood: -10274.101620460937\n"
     ]
    },
    {
     "name": "stderr",
     "output_type": "stream",
     "text": [
      "\n"
     ]
    },
    {
     "name": "stdout",
     "output_type": "stream",
     "text": [
      "Computing predictive likelihood score on held out documents...\n"
     ]
    },
    {
     "name": "stderr",
     "output_type": "stream",
     "text": [
      "100%|█████████████████████████████████████████████| 12/12 [00:00<00:00, 3147.89it/s]"
     ]
    },
    {
     "name": "stdout",
     "output_type": "stream",
     "text": [
      "Predictive likelihood: -10287.216956804667\n"
     ]
    },
    {
     "name": "stderr",
     "output_type": "stream",
     "text": [
      "\n"
     ]
    },
    {
     "name": "stdout",
     "output_type": "stream",
     "text": [
      "Computing predictive likelihood score on held out documents...\n"
     ]
    },
    {
     "name": "stderr",
     "output_type": "stream",
     "text": [
      "100%|█████████████████████████████████████████████| 12/12 [00:00<00:00, 4411.96it/s]"
     ]
    },
    {
     "name": "stdout",
     "output_type": "stream",
     "text": [
      "Predictive likelihood: -10287.607427437135\n"
     ]
    },
    {
     "name": "stderr",
     "output_type": "stream",
     "text": [
      "\n"
     ]
    },
    {
     "name": "stdout",
     "output_type": "stream",
     "text": [
      "Computing predictive likelihood score on held out documents...\n"
     ]
    },
    {
     "name": "stderr",
     "output_type": "stream",
     "text": [
      "100%|█████████████████████████████████████████████| 12/12 [00:00<00:00, 3370.95it/s]\n"
     ]
    },
    {
     "name": "stdout",
     "output_type": "stream",
     "text": [
      "Predictive likelihood: -10264.712675764022\n",
      "Computing predictive likelihood score on held out documents...\n"
     ]
    },
    {
     "name": "stderr",
     "output_type": "stream",
     "text": [
      "100%|█████████████████████████████████████████████| 12/12 [00:00<00:00, 2660.52it/s]\n"
     ]
    },
    {
     "name": "stdout",
     "output_type": "stream",
     "text": [
      "Predictive likelihood: -10263.867015493399\n",
      "Computing predictive likelihood score on held out documents...\n"
     ]
    },
    {
     "name": "stderr",
     "output_type": "stream",
     "text": [
      "100%|█████████████████████████████████████████████| 12/12 [00:00<00:00, 3100.58it/s]\n"
     ]
    },
    {
     "name": "stdout",
     "output_type": "stream",
     "text": [
      "Predictive likelihood: -10243.612511562449\n",
      "Computing predictive likelihood score on held out documents...\n"
     ]
    },
    {
     "name": "stderr",
     "output_type": "stream",
     "text": [
      "100%|█████████████████████████████████████████████| 12/12 [00:00<00:00, 3114.39it/s]\n"
     ]
    },
    {
     "name": "stdout",
     "output_type": "stream",
     "text": [
      "Predictive likelihood: -10159.697031739644\n",
      "Computing predictive likelihood score on held out documents...\n"
     ]
    },
    {
     "name": "stderr",
     "output_type": "stream",
     "text": [
      "100%|█████████████████████████████████████████████| 12/12 [00:00<00:00, 3417.88it/s]\n"
     ]
    },
    {
     "name": "stdout",
     "output_type": "stream",
     "text": [
      "Predictive likelihood: -10004.093617830253\n",
      "Computing predictive likelihood score on held out documents...\n"
     ]
    },
    {
     "name": "stderr",
     "output_type": "stream",
     "text": [
      "100%|█████████████████████████████████████████████| 12/12 [00:00<00:00, 3131.44it/s]\n"
     ]
    },
    {
     "name": "stdout",
     "output_type": "stream",
     "text": [
      "Predictive likelihood: -9932.56063604089\n",
      "Computing predictive likelihood score on held out documents...\n"
     ]
    },
    {
     "name": "stderr",
     "output_type": "stream",
     "text": [
      "100%|█████████████████████████████████████████████| 12/12 [00:00<00:00, 3079.33it/s]\n"
     ]
    },
    {
     "name": "stdout",
     "output_type": "stream",
     "text": [
      "Predictive likelihood: -10030.463735795112\n",
      "Computing predictive likelihood score on held out documents...\n"
     ]
    },
    {
     "name": "stderr",
     "output_type": "stream",
     "text": [
      "100%|█████████████████████████████████████████████| 12/12 [00:00<00:00, 3071.44it/s]\n"
     ]
    },
    {
     "name": "stdout",
     "output_type": "stream",
     "text": [
      "Predictive likelihood: -10197.008746935222\n",
      "Computing predictive likelihood score on held out documents...\n"
     ]
    },
    {
     "name": "stderr",
     "output_type": "stream",
     "text": [
      "100%|█████████████████████████████████████████████| 12/12 [00:00<00:00, 4221.04it/s]\n"
     ]
    },
    {
     "name": "stdout",
     "output_type": "stream",
     "text": [
      "Predictive likelihood: -10274.199534775433\n",
      "Computing predictive likelihood score on held out documents...\n"
     ]
    },
    {
     "name": "stderr",
     "output_type": "stream",
     "text": [
      "100%|█████████████████████████████████████████████| 12/12 [00:00<00:00, 2716.66it/s]\n"
     ]
    },
    {
     "name": "stdout",
     "output_type": "stream",
     "text": [
      "Predictive likelihood: -10287.314187554888\n",
      "Computing predictive likelihood score on held out documents...\n"
     ]
    },
    {
     "name": "stderr",
     "output_type": "stream",
     "text": [
      "100%|█████████████████████████████████████████████| 12/12 [00:00<00:00, 3661.02it/s]\n"
     ]
    },
    {
     "name": "stdout",
     "output_type": "stream",
     "text": [
      "Predictive likelihood: -10287.607427437135\n",
      "Computing predictive likelihood score on held out documents...\n"
     ]
    },
    {
     "name": "stderr",
     "output_type": "stream",
     "text": [
      "100%|█████████████████████████████████████████████| 12/12 [00:00<00:00, 3220.40it/s]\n"
     ]
    },
    {
     "name": "stdout",
     "output_type": "stream",
     "text": [
      "Predictive likelihood: -10264.712675764022\n",
      "Computing predictive likelihood score on held out documents...\n"
     ]
    },
    {
     "name": "stderr",
     "output_type": "stream",
     "text": [
      "100%|█████████████████████████████████████████████| 12/12 [00:00<00:00, 3289.65it/s]\n"
     ]
    },
    {
     "name": "stdout",
     "output_type": "stream",
     "text": [
      "Predictive likelihood: -10263.98523189267\n",
      "Computing predictive likelihood score on held out documents...\n"
     ]
    },
    {
     "name": "stderr",
     "output_type": "stream",
     "text": [
      "100%|█████████████████████████████████████████████| 12/12 [00:00<00:00, 3354.77it/s]\n"
     ]
    },
    {
     "name": "stdout",
     "output_type": "stream",
     "text": [
      "Predictive likelihood: -10243.587429619058\n",
      "Computing predictive likelihood score on held out documents...\n"
     ]
    },
    {
     "name": "stderr",
     "output_type": "stream",
     "text": [
      "100%|█████████████████████████████████████████████| 12/12 [00:00<00:00, 3454.23it/s]\n"
     ]
    },
    {
     "name": "stdout",
     "output_type": "stream",
     "text": [
      "Predictive likelihood: -10159.342540098452\n",
      "Computing predictive likelihood score on held out documents...\n"
     ]
    },
    {
     "name": "stderr",
     "output_type": "stream",
     "text": [
      "100%|█████████████████████████████████████████████| 12/12 [00:00<00:00, 2904.98it/s]\n"
     ]
    },
    {
     "name": "stdout",
     "output_type": "stream",
     "text": [
      "Predictive likelihood: -10002.044532866053\n",
      "Computing predictive likelihood score on held out documents...\n"
     ]
    },
    {
     "name": "stderr",
     "output_type": "stream",
     "text": [
      "100%|█████████████████████████████████████████████| 12/12 [00:00<00:00, 3178.91it/s]\n"
     ]
    },
    {
     "name": "stdout",
     "output_type": "stream",
     "text": [
      "Predictive likelihood: -9929.525284367788\n",
      "Computing predictive likelihood score on held out documents...\n"
     ]
    },
    {
     "name": "stderr",
     "output_type": "stream",
     "text": [
      "100%|█████████████████████████████████████████████| 12/12 [00:00<00:00, 2647.22it/s]\n"
     ]
    },
    {
     "name": "stdout",
     "output_type": "stream",
     "text": [
      "Predictive likelihood: -10028.173308600608\n",
      "Computing predictive likelihood score on held out documents...\n"
     ]
    },
    {
     "name": "stderr",
     "output_type": "stream",
     "text": [
      "100%|█████████████████████████████████████████████| 12/12 [00:00<00:00, 3759.46it/s]\n"
     ]
    },
    {
     "name": "stdout",
     "output_type": "stream",
     "text": [
      "Predictive likelihood: -10196.32625941968\n",
      "Computing predictive likelihood score on held out documents...\n"
     ]
    },
    {
     "name": "stderr",
     "output_type": "stream",
     "text": [
      "100%|█████████████████████████████████████████████| 12/12 [00:00<00:00, 3044.13it/s]\n"
     ]
    },
    {
     "name": "stdout",
     "output_type": "stream",
     "text": [
      "Predictive likelihood: -10274.286601126289\n",
      "Computing predictive likelihood score on held out documents...\n"
     ]
    },
    {
     "name": "stderr",
     "output_type": "stream",
     "text": [
      "100%|█████████████████████████████████████████████| 12/12 [00:00<00:00, 4302.22it/s]\n"
     ]
    },
    {
     "name": "stdout",
     "output_type": "stream",
     "text": [
      "Predictive likelihood: -10287.404606872657\n",
      "Computing predictive likelihood score on held out documents...\n"
     ]
    },
    {
     "name": "stderr",
     "output_type": "stream",
     "text": [
      "100%|█████████████████████████████████████████████| 12/12 [00:00<00:00, 3398.49it/s]\n"
     ]
    },
    {
     "name": "stdout",
     "output_type": "stream",
     "text": [
      "Predictive likelihood: -10287.607427437135\n",
      "Computing predictive likelihood score on held out documents...\n"
     ]
    },
    {
     "name": "stderr",
     "output_type": "stream",
     "text": [
      "100%|█████████████████████████████████████████████| 12/12 [00:00<00:00, 3119.99it/s]\n"
     ]
    },
    {
     "name": "stdout",
     "output_type": "stream",
     "text": [
      "Predictive likelihood: -10264.712675764022\n",
      "Computing predictive likelihood score on held out documents...\n"
     ]
    },
    {
     "name": "stderr",
     "output_type": "stream",
     "text": [
      "100%|█████████████████████████████████████████████| 12/12 [00:00<00:00, 2981.91it/s]\n"
     ]
    },
    {
     "name": "stdout",
     "output_type": "stream",
     "text": [
      "Predictive likelihood: -10264.094441969322\n",
      "Computing predictive likelihood score on held out documents...\n"
     ]
    },
    {
     "name": "stderr",
     "output_type": "stream",
     "text": [
      "100%|█████████████████████████████████████████████| 12/12 [00:00<00:00, 3605.68it/s]\n"
     ]
    },
    {
     "name": "stdout",
     "output_type": "stream",
     "text": [
      "Predictive likelihood: -10243.557145475299\n",
      "Computing predictive likelihood score on held out documents...\n"
     ]
    },
    {
     "name": "stderr",
     "output_type": "stream",
     "text": [
      "100%|█████████████████████████████████████████████| 12/12 [00:00<00:00, 2935.30it/s]\n"
     ]
    },
    {
     "name": "stdout",
     "output_type": "stream",
     "text": [
      "Predictive likelihood: -10159.043590401092\n",
      "Computing predictive likelihood score on held out documents...\n"
     ]
    },
    {
     "name": "stderr",
     "output_type": "stream",
     "text": [
      "100%|█████████████████████████████████████████████| 12/12 [00:00<00:00, 3758.06it/s]\n"
     ]
    },
    {
     "name": "stdout",
     "output_type": "stream",
     "text": [
      "Predictive likelihood: -10000.180748947174\n",
      "Computing predictive likelihood score on held out documents...\n"
     ]
    },
    {
     "name": "stderr",
     "output_type": "stream",
     "text": [
      "100%|█████████████████████████████████████████████| 12/12 [00:00<00:00, 3964.06it/s]\n"
     ]
    },
    {
     "name": "stdout",
     "output_type": "stream",
     "text": [
      "Predictive likelihood: -9926.782580085212\n",
      "Computing predictive likelihood score on held out documents...\n"
     ]
    },
    {
     "name": "stderr",
     "output_type": "stream",
     "text": [
      "100%|█████████████████████████████████████████████| 12/12 [00:00<00:00, 4291.95it/s]\n"
     ]
    },
    {
     "name": "stdout",
     "output_type": "stream",
     "text": [
      "Predictive likelihood: -10026.077997200451\n",
      "Computing predictive likelihood score on held out documents...\n"
     ]
    },
    {
     "name": "stderr",
     "output_type": "stream",
     "text": [
      "100%|█████████████████████████████████████████████| 12/12 [00:00<00:00, 4231.33it/s]\n"
     ]
    },
    {
     "name": "stdout",
     "output_type": "stream",
     "text": [
      "Predictive likelihood: -10195.701134234308\n",
      "Computing predictive likelihood score on held out documents...\n"
     ]
    },
    {
     "name": "stderr",
     "output_type": "stream",
     "text": [
      "100%|█████████████████████████████████████████████| 12/12 [00:00<00:00, 5340.79it/s]\n"
     ]
    },
    {
     "name": "stdout",
     "output_type": "stream",
     "text": [
      "Predictive likelihood: -10274.363251571609\n",
      "Computing predictive likelihood score on held out documents...\n"
     ]
    },
    {
     "name": "stderr",
     "output_type": "stream",
     "text": [
      "100%|█████████████████████████████████████████████| 12/12 [00:00<00:00, 3544.23it/s]\n"
     ]
    },
    {
     "name": "stdout",
     "output_type": "stream",
     "text": [
      "Predictive likelihood: -10287.488805247875\n",
      "Computing predictive likelihood score on held out documents...\n"
     ]
    },
    {
     "name": "stderr",
     "output_type": "stream",
     "text": [
      "100%|█████████████████████████████████████████████| 12/12 [00:00<00:00, 4105.35it/s]\n"
     ]
    },
    {
     "name": "stdout",
     "output_type": "stream",
     "text": [
      "Predictive likelihood: -10287.607427437135\n",
      "Computing predictive likelihood score on held out documents...\n"
     ]
    },
    {
     "name": "stderr",
     "output_type": "stream",
     "text": [
      "100%|█████████████████████████████████████████████| 12/12 [00:00<00:00, 3472.11it/s]\n"
     ]
    },
    {
     "name": "stdout",
     "output_type": "stream",
     "text": [
      "Predictive likelihood: -10264.712675764022\n",
      "Computing predictive likelihood score on held out documents...\n"
     ]
    },
    {
     "name": "stderr",
     "output_type": "stream",
     "text": [
      "100%|█████████████████████████████████████████████| 12/12 [00:00<00:00, 4004.11it/s]\n"
     ]
    },
    {
     "name": "stdout",
     "output_type": "stream",
     "text": [
      "Predictive likelihood: -10264.195278277397\n",
      "Computing predictive likelihood score on held out documents...\n"
     ]
    },
    {
     "name": "stderr",
     "output_type": "stream",
     "text": [
      "100%|█████████████████████████████████████████████| 12/12 [00:00<00:00, 4093.00it/s]\n"
     ]
    },
    {
     "name": "stdout",
     "output_type": "stream",
     "text": [
      "Predictive likelihood: -10243.521333563762\n",
      "Computing predictive likelihood score on held out documents...\n"
     ]
    },
    {
     "name": "stderr",
     "output_type": "stream",
     "text": [
      "100%|█████████████████████████████████████████████| 12/12 [00:00<00:00, 3566.08it/s]\n"
     ]
    },
    {
     "name": "stdout",
     "output_type": "stream",
     "text": [
      "Predictive likelihood: -10158.792038365706\n",
      "Computing predictive likelihood score on held out documents...\n"
     ]
    },
    {
     "name": "stderr",
     "output_type": "stream",
     "text": [
      "100%|█████████████████████████████████████████████| 12/12 [00:00<00:00, 3927.86it/s]\n"
     ]
    },
    {
     "name": "stdout",
     "output_type": "stream",
     "text": [
      "Predictive likelihood: -9998.485500081468\n",
      "Computing predictive likelihood score on held out documents...\n"
     ]
    },
    {
     "name": "stderr",
     "output_type": "stream",
     "text": [
      "100%|█████████████████████████████████████████████| 12/12 [00:00<00:00, 3568.36it/s]\n"
     ]
    },
    {
     "name": "stdout",
     "output_type": "stream",
     "text": [
      "Predictive likelihood: -9924.305955643518\n",
      "Computing predictive likelihood score on held out documents...\n"
     ]
    },
    {
     "name": "stderr",
     "output_type": "stream",
     "text": [
      "100%|█████████████████████████████████████████████| 12/12 [00:00<00:00, 2955.82it/s]\n"
     ]
    },
    {
     "name": "stdout",
     "output_type": "stream",
     "text": [
      "Predictive likelihood: -10024.162645949413\n",
      "Computing predictive likelihood score on held out documents...\n"
     ]
    },
    {
     "name": "stderr",
     "output_type": "stream",
     "text": [
      "100%|█████████████████████████████████████████████| 12/12 [00:00<00:00, 2844.40it/s]\n"
     ]
    },
    {
     "name": "stdout",
     "output_type": "stream",
     "text": [
      "Predictive likelihood: -10195.130262142473\n",
      "Computing predictive likelihood score on held out documents...\n"
     ]
    },
    {
     "name": "stderr",
     "output_type": "stream",
     "text": [
      "100%|█████████████████████████████████████████████| 12/12 [00:00<00:00, 3261.93it/s]\n"
     ]
    },
    {
     "name": "stdout",
     "output_type": "stream",
     "text": [
      "Predictive likelihood: -10274.429858971896\n",
      "Computing predictive likelihood score on held out documents...\n"
     ]
    },
    {
     "name": "stderr",
     "output_type": "stream",
     "text": [
      "100%|█████████████████████████████████████████████| 12/12 [00:00<00:00, 3031.84it/s]\n"
     ]
    },
    {
     "name": "stdout",
     "output_type": "stream",
     "text": [
      "Predictive likelihood: -10287.567293678474\n",
      "Computing predictive likelihood score on held out documents...\n"
     ]
    },
    {
     "name": "stderr",
     "output_type": "stream",
     "text": [
      "100%|█████████████████████████████████████████████| 12/12 [00:00<00:00, 3568.36it/s]\n"
     ]
    },
    {
     "name": "stdout",
     "output_type": "stream",
     "text": [
      "Predictive likelihood: -10287.607427437135\n",
      "Computing predictive likelihood score on held out documents...\n"
     ]
    },
    {
     "name": "stderr",
     "output_type": "stream",
     "text": [
      "100%|█████████████████████████████████████████████| 12/12 [00:00<00:00, 3431.63it/s]\n"
     ]
    },
    {
     "name": "stdout",
     "output_type": "stream",
     "text": [
      "Predictive likelihood: -10264.712675764022\n",
      "Computing predictive likelihood score on held out documents...\n"
     ]
    },
    {
     "name": "stderr",
     "output_type": "stream",
     "text": [
      "100%|█████████████████████████████████████████████| 12/12 [00:00<00:00, 4906.10it/s]\n"
     ]
    },
    {
     "name": "stdout",
     "output_type": "stream",
     "text": [
      "Predictive likelihood: -10264.288451416713\n",
      "Computing predictive likelihood score on held out documents...\n"
     ]
    },
    {
     "name": "stderr",
     "output_type": "stream",
     "text": [
      "100%|█████████████████████████████████████████████| 12/12 [00:00<00:00, 6150.76it/s]\n"
     ]
    },
    {
     "name": "stdout",
     "output_type": "stream",
     "text": [
      "Predictive likelihood: -10243.479645455647\n",
      "Computing predictive likelihood score on held out documents...\n"
     ]
    },
    {
     "name": "stderr",
     "output_type": "stream",
     "text": [
      "100%|█████████████████████████████████████████████| 12/12 [00:00<00:00, 3978.79it/s]\n"
     ]
    },
    {
     "name": "stdout",
     "output_type": "stream",
     "text": [
      "Predictive likelihood: -10158.58078052384\n",
      "Computing predictive likelihood score on held out documents...\n"
     ]
    },
    {
     "name": "stderr",
     "output_type": "stream",
     "text": [
      "100%|█████████████████████████████████████████████| 12/12 [00:00<00:00, 5444.20it/s]\n"
     ]
    },
    {
     "name": "stdout",
     "output_type": "stream",
     "text": [
      "Predictive likelihood: -9996.943274384075\n",
      "Computing predictive likelihood score on held out documents...\n"
     ]
    },
    {
     "name": "stderr",
     "output_type": "stream",
     "text": [
      "100%|█████████████████████████████████████████████| 12/12 [00:00<00:00, 4192.91it/s]\n"
     ]
    },
    {
     "name": "stdout",
     "output_type": "stream",
     "text": [
      "Predictive likelihood: -9922.071186206207\n",
      "Computing predictive likelihood score on held out documents...\n"
     ]
    },
    {
     "name": "stderr",
     "output_type": "stream",
     "text": [
      "100%|█████████████████████████████████████████████| 12/12 [00:00<00:00, 4030.72it/s]\n"
     ]
    },
    {
     "name": "stdout",
     "output_type": "stream",
     "text": [
      "Predictive likelihood: -10022.413676844906\n",
      "Computing predictive likelihood score on held out documents...\n"
     ]
    },
    {
     "name": "stderr",
     "output_type": "stream",
     "text": [
      "100%|█████████████████████████████████████████████| 12/12 [00:00<00:00, 3424.62it/s]\n"
     ]
    },
    {
     "name": "stdout",
     "output_type": "stream",
     "text": [
      "Predictive likelihood: -10194.610919298202\n",
      "Computing predictive likelihood score on held out documents...\n"
     ]
    },
    {
     "name": "stderr",
     "output_type": "stream",
     "text": [
      "100%|█████████████████████████████████████████████| 12/12 [00:00<00:00, 4335.57it/s]\n"
     ]
    },
    {
     "name": "stdout",
     "output_type": "stream",
     "text": [
      "Predictive likelihood: -10274.486737944688\n",
      "Computing predictive likelihood score on held out documents...\n"
     ]
    },
    {
     "name": "stderr",
     "output_type": "stream",
     "text": [
      "100%|█████████████████████████████████████████████| 12/12 [00:00<00:00, 3667.42it/s]\n"
     ]
    },
    {
     "name": "stdout",
     "output_type": "stream",
     "text": [
      "Predictive likelihood: -10287.640493440258\n",
      "Computing predictive likelihood score on held out documents...\n"
     ]
    },
    {
     "name": "stderr",
     "output_type": "stream",
     "text": [
      "100%|█████████████████████████████████████████████| 12/12 [00:00<00:00, 4438.03it/s]\n"
     ]
    },
    {
     "name": "stdout",
     "output_type": "stream",
     "text": [
      "Predictive likelihood: -10287.607427437135\n",
      "Computing predictive likelihood score on held out documents...\n"
     ]
    },
    {
     "name": "stderr",
     "output_type": "stream",
     "text": [
      "100%|█████████████████████████████████████████████| 12/12 [00:00<00:00, 3422.99it/s]\n"
     ]
    },
    {
     "name": "stdout",
     "output_type": "stream",
     "text": [
      "Predictive likelihood: -10264.712675764022\n",
      "Computing predictive likelihood score on held out documents...\n"
     ]
    },
    {
     "name": "stderr",
     "output_type": "stream",
     "text": [
      "100%|█████████████████████████████████████████████| 12/12 [00:00<00:00, 3841.23it/s]\n"
     ]
    },
    {
     "name": "stdout",
     "output_type": "stream",
     "text": [
      "Predictive likelihood: -10264.37469112532\n",
      "Computing predictive likelihood score on held out documents...\n"
     ]
    },
    {
     "name": "stderr",
     "output_type": "stream",
     "text": [
      "100%|█████████████████████████████████████████████| 12/12 [00:00<00:00, 4177.25it/s]\n"
     ]
    },
    {
     "name": "stdout",
     "output_type": "stream",
     "text": [
      "Predictive likelihood: -10243.431741933187\n",
      "Computing predictive likelihood score on held out documents...\n"
     ]
    },
    {
     "name": "stderr",
     "output_type": "stream",
     "text": [
      "100%|█████████████████████████████████████████████| 12/12 [00:00<00:00, 3693.52it/s]\n"
     ]
    },
    {
     "name": "stdout",
     "output_type": "stream",
     "text": [
      "Predictive likelihood: -10158.40372986966\n",
      "Computing predictive likelihood score on held out documents...\n"
     ]
    },
    {
     "name": "stderr",
     "output_type": "stream",
     "text": [
      "100%|█████████████████████████████████████████████| 12/12 [00:00<00:00, 3641.68it/s]\n"
     ]
    },
    {
     "name": "stdout",
     "output_type": "stream",
     "text": [
      "Predictive likelihood: -9995.539913821529\n",
      "Computing predictive likelihood score on held out documents...\n"
     ]
    },
    {
     "name": "stderr",
     "output_type": "stream",
     "text": [
      "100%|█████████████████████████████████████████████| 12/12 [00:00<00:00, 4322.91it/s]\n"
     ]
    },
    {
     "name": "stdout",
     "output_type": "stream",
     "text": [
      "Predictive likelihood: -9920.056230566648\n",
      "Computing predictive likelihood score on held out documents...\n"
     ]
    },
    {
     "name": "stderr",
     "output_type": "stream",
     "text": [
      "100%|█████████████████████████████████████████████| 12/12 [00:00<00:00, 3601.29it/s]\n"
     ]
    },
    {
     "name": "stdout",
     "output_type": "stream",
     "text": [
      "Predictive likelihood: -10020.819001385173\n",
      "Computing predictive likelihood score on held out documents...\n"
     ]
    },
    {
     "name": "stderr",
     "output_type": "stream",
     "text": [
      "100%|█████████████████████████████████████████████| 12/12 [00:00<00:00, 3978.47it/s]\n"
     ]
    },
    {
     "name": "stdout",
     "output_type": "stream",
     "text": [
      "Predictive likelihood: -10194.14067232295\n",
      "Computing predictive likelihood score on held out documents...\n"
     ]
    },
    {
     "name": "stderr",
     "output_type": "stream",
     "text": [
      "100%|█████████████████████████████████████████████| 12/12 [00:00<00:00, 4526.63it/s]\n"
     ]
    },
    {
     "name": "stdout",
     "output_type": "stream",
     "text": [
      "Predictive likelihood: -10274.534158951217\n",
      "Computing predictive likelihood score on held out documents...\n"
     ]
    },
    {
     "name": "stderr",
     "output_type": "stream",
     "text": [
      "100%|█████████████████████████████████████████████| 12/12 [00:00<00:00, 4667.69it/s]\n"
     ]
    },
    {
     "name": "stdout",
     "output_type": "stream",
     "text": [
      "Predictive likelihood: -10287.708731677672\n",
      "Computing predictive likelihood score on held out documents...\n"
     ]
    },
    {
     "name": "stderr",
     "output_type": "stream",
     "text": [
      "100%|█████████████████████████████████████████████| 12/12 [00:00<00:00, 4441.16it/s]\n"
     ]
    },
    {
     "name": "stdout",
     "output_type": "stream",
     "text": [
      "Predictive likelihood: -10287.607427437135\n",
      "Computing predictive likelihood score on held out documents...\n"
     ]
    },
    {
     "name": "stderr",
     "output_type": "stream",
     "text": [
      "100%|█████████████████████████████████████████████| 12/12 [00:00<00:00, 3752.45it/s]\n"
     ]
    },
    {
     "name": "stdout",
     "output_type": "stream",
     "text": [
      "Predictive likelihood: -10264.712675764022\n",
      "Computing predictive likelihood score on held out documents...\n"
     ]
    },
    {
     "name": "stderr",
     "output_type": "stream",
     "text": [
      "100%|█████████████████████████████████████████████| 12/12 [00:00<00:00, 3540.99it/s]\n"
     ]
    },
    {
     "name": "stdout",
     "output_type": "stream",
     "text": [
      "Predictive likelihood: -10264.454709012602\n",
      "Computing predictive likelihood score on held out documents...\n"
     ]
    },
    {
     "name": "stderr",
     "output_type": "stream",
     "text": [
      "100%|█████████████████████████████████████████████| 12/12 [00:00<00:00, 3882.42it/s]\n"
     ]
    },
    {
     "name": "stdout",
     "output_type": "stream",
     "text": [
      "Predictive likelihood: -10243.377345710755\n",
      "Computing predictive likelihood score on held out documents...\n"
     ]
    },
    {
     "name": "stderr",
     "output_type": "stream",
     "text": [
      "100%|█████████████████████████████████████████████| 12/12 [00:00<00:00, 3468.28it/s]\n"
     ]
    },
    {
     "name": "stdout",
     "output_type": "stream",
     "text": [
      "Predictive likelihood: -10158.255733257956\n",
      "Computing predictive likelihood score on held out documents...\n"
     ]
    },
    {
     "name": "stderr",
     "output_type": "stream",
     "text": [
      "100%|█████████████████████████████████████████████| 12/12 [00:00<00:00, 4207.98it/s]\n"
     ]
    },
    {
     "name": "stdout",
     "output_type": "stream",
     "text": [
      "Predictive likelihood: -9994.262697912412\n",
      "Computing predictive likelihood score on held out documents...\n"
     ]
    },
    {
     "name": "stderr",
     "output_type": "stream",
     "text": [
      "100%|█████████████████████████████████████████████| 12/12 [00:00<00:00, 3609.04it/s]\n"
     ]
    },
    {
     "name": "stdout",
     "output_type": "stream",
     "text": [
      "Predictive likelihood: -9918.241031574824\n",
      "Computing predictive likelihood score on held out documents...\n"
     ]
    },
    {
     "name": "stderr",
     "output_type": "stream",
     "text": [
      "100%|█████████████████████████████████████████████| 12/12 [00:00<00:00, 4066.22it/s]\n"
     ]
    },
    {
     "name": "stdout",
     "output_type": "stream",
     "text": [
      "Predictive likelihood: -10019.367853693211\n",
      "Computing predictive likelihood score on held out documents...\n"
     ]
    },
    {
     "name": "stderr",
     "output_type": "stream",
     "text": [
      "100%|█████████████████████████████████████████████| 12/12 [00:00<00:00, 3548.23it/s]\n"
     ]
    },
    {
     "name": "stdout",
     "output_type": "stream",
     "text": [
      "Predictive likelihood: -10193.717170835993\n",
      "Computing predictive likelihood score on held out documents...\n"
     ]
    },
    {
     "name": "stderr",
     "output_type": "stream",
     "text": [
      "100%|█████████████████████████████████████████████| 12/12 [00:00<00:00, 4076.10it/s]\n"
     ]
    },
    {
     "name": "stdout",
     "output_type": "stream",
     "text": [
      "Predictive likelihood: -10274.572369431493\n",
      "Computing predictive likelihood score on held out documents...\n"
     ]
    },
    {
     "name": "stderr",
     "output_type": "stream",
     "text": [
      "100%|█████████████████████████████████████████████| 12/12 [00:00<00:00, 4010.49it/s]\n"
     ]
    },
    {
     "name": "stdout",
     "output_type": "stream",
     "text": [
      "Predictive likelihood: -10287.772246381255\n",
      "Computing predictive likelihood score on held out documents...\n"
     ]
    },
    {
     "name": "stderr",
     "output_type": "stream",
     "text": [
      "100%|█████████████████████████████████████████████| 12/12 [00:00<00:00, 3663.95it/s]\n"
     ]
    },
    {
     "name": "stdout",
     "output_type": "stream",
     "text": [
      "Predictive likelihood: -10287.607427437135\n",
      "Computing predictive likelihood score on held out documents...\n"
     ]
    },
    {
     "name": "stderr",
     "output_type": "stream",
     "text": [
      "100%|█████████████████████████████████████████████| 12/12 [00:00<00:00, 4066.55it/s]\n"
     ]
    },
    {
     "name": "stdout",
     "output_type": "stream",
     "text": [
      "Predictive likelihood: -10264.712675764022\n",
      "Computing predictive likelihood score on held out documents...\n"
     ]
    },
    {
     "name": "stderr",
     "output_type": "stream",
     "text": [
      "100%|█████████████████████████████████████████████| 12/12 [00:00<00:00, 3934.31it/s]\n"
     ]
    },
    {
     "name": "stdout",
     "output_type": "stream",
     "text": [
      "Predictive likelihood: -10264.52917815856\n",
      "Computing predictive likelihood score on held out documents...\n"
     ]
    },
    {
     "name": "stderr",
     "output_type": "stream",
     "text": [
      "100%|█████████████████████████████████████████████| 12/12 [00:00<00:00, 4209.39it/s]\n"
     ]
    },
    {
     "name": "stdout",
     "output_type": "stream",
     "text": [
      "Predictive likelihood: -10243.316314309954\n",
      "Computing predictive likelihood score on held out documents...\n"
     ]
    },
    {
     "name": "stderr",
     "output_type": "stream",
     "text": [
      "100%|█████████████████████████████████████████████| 12/12 [00:00<00:00, 3779.50it/s]\n"
     ]
    },
    {
     "name": "stdout",
     "output_type": "stream",
     "text": [
      "Predictive likelihood: -10158.132457910526\n",
      "Computing predictive likelihood score on held out documents...\n"
     ]
    },
    {
     "name": "stderr",
     "output_type": "stream",
     "text": [
      "100%|█████████████████████████████████████████████| 12/12 [00:00<00:00, 4564.40it/s]\n"
     ]
    },
    {
     "name": "stdout",
     "output_type": "stream",
     "text": [
      "Predictive likelihood: -9993.10034382086\n",
      "Computing predictive likelihood score on held out documents...\n"
     ]
    },
    {
     "name": "stderr",
     "output_type": "stream",
     "text": [
      "100%|█████████████████████████████████████████████| 12/12 [00:00<00:00, 3443.36it/s]\n"
     ]
    },
    {
     "name": "stdout",
     "output_type": "stream",
     "text": [
      "Predictive likelihood: -9916.607313561999\n",
      "Computing predictive likelihood score on held out documents...\n"
     ]
    },
    {
     "name": "stderr",
     "output_type": "stream",
     "text": [
      "100%|█████████████████████████████████████████████| 12/12 [00:00<00:00, 3638.52it/s]\n"
     ]
    },
    {
     "name": "stdout",
     "output_type": "stream",
     "text": [
      "Predictive likelihood: -10018.05052275075\n",
      "Computing predictive likelihood score on held out documents...\n"
     ]
    },
    {
     "name": "stderr",
     "output_type": "stream",
     "text": [
      "100%|█████████████████████████████████████████████| 12/12 [00:00<00:00, 4149.69it/s]\n"
     ]
    },
    {
     "name": "stdout",
     "output_type": "stream",
     "text": [
      "Predictive likelihood: -10193.337953295413\n",
      "Computing predictive likelihood score on held out documents...\n"
     ]
    },
    {
     "name": "stderr",
     "output_type": "stream",
     "text": [
      "100%|█████████████████████████████████████████████| 12/12 [00:00<00:00, 3746.59it/s]\n"
     ]
    },
    {
     "name": "stdout",
     "output_type": "stream",
     "text": [
      "Predictive likelihood: -10274.60161427645\n",
      "Computing predictive likelihood score on held out documents...\n"
     ]
    },
    {
     "name": "stderr",
     "output_type": "stream",
     "text": [
      "100%|█████████████████████████████████████████████| 12/12 [00:00<00:00, 4108.04it/s]\n"
     ]
    },
    {
     "name": "stdout",
     "output_type": "stream",
     "text": [
      "Predictive likelihood: -10287.831203128702\n",
      "Computing predictive likelihood score on held out documents...\n"
     ]
    },
    {
     "name": "stderr",
     "output_type": "stream",
     "text": [
      "100%|█████████████████████████████████████████████| 12/12 [00:00<00:00, 3831.58it/s]\n"
     ]
    },
    {
     "name": "stdout",
     "output_type": "stream",
     "text": [
      "Predictive likelihood: -10287.607427437135\n",
      "Computing predictive likelihood score on held out documents...\n"
     ]
    },
    {
     "name": "stderr",
     "output_type": "stream",
     "text": [
      "100%|█████████████████████████████████████████████| 12/12 [00:00<00:00, 4678.10it/s]\n"
     ]
    },
    {
     "name": "stdout",
     "output_type": "stream",
     "text": [
      "Predictive likelihood: -10264.712675764022\n",
      "Computing predictive likelihood score on held out documents...\n"
     ]
    },
    {
     "name": "stderr",
     "output_type": "stream",
     "text": [
      "100%|█████████████████████████████████████████████| 12/12 [00:00<00:00, 5240.70it/s]\n"
     ]
    },
    {
     "name": "stdout",
     "output_type": "stream",
     "text": [
      "Predictive likelihood: -10264.598723334278\n",
      "Computing predictive likelihood score on held out documents...\n"
     ]
    },
    {
     "name": "stderr",
     "output_type": "stream",
     "text": [
      "100%|█████████████████████████████████████████████| 12/12 [00:00<00:00, 4112.40it/s]\n"
     ]
    },
    {
     "name": "stdout",
     "output_type": "stream",
     "text": [
      "Predictive likelihood: -10243.248724596078\n",
      "Computing predictive likelihood score on held out documents...\n"
     ]
    },
    {
     "name": "stderr",
     "output_type": "stream",
     "text": [
      "100%|█████████████████████████████████████████████| 12/12 [00:00<00:00, 3426.49it/s]\n"
     ]
    },
    {
     "name": "stdout",
     "output_type": "stream",
     "text": [
      "Predictive likelihood: -10158.030270106905\n",
      "Computing predictive likelihood score on held out documents...\n"
     ]
    },
    {
     "name": "stderr",
     "output_type": "stream",
     "text": [
      "100%|█████████████████████████████████████████████| 12/12 [00:00<00:00, 3947.27it/s]\n"
     ]
    },
    {
     "name": "stdout",
     "output_type": "stream",
     "text": [
      "Predictive likelihood: -9992.042905314349\n",
      "Computing predictive likelihood score on held out documents...\n"
     ]
    },
    {
     "name": "stderr",
     "output_type": "stream",
     "text": [
      "100%|█████████████████████████████████████████████| 12/12 [00:00<00:00, 3297.84it/s]\n"
     ]
    },
    {
     "name": "stdout",
     "output_type": "stream",
     "text": [
      "Predictive likelihood: -9915.138403709303\n",
      "Computing predictive likelihood score on held out documents...\n"
     ]
    },
    {
     "name": "stderr",
     "output_type": "stream",
     "text": [
      "100%|█████████████████████████████████████████████| 12/12 [00:00<00:00, 4028.14it/s]\n"
     ]
    },
    {
     "name": "stdout",
     "output_type": "stream",
     "text": [
      "Predictive likelihood: -10016.858027229198\n",
      "Computing predictive likelihood score on held out documents...\n"
     ]
    },
    {
     "name": "stderr",
     "output_type": "stream",
     "text": [
      "100%|█████████████████████████████████████████████| 12/12 [00:00<00:00, 3621.76it/s]\n"
     ]
    },
    {
     "name": "stdout",
     "output_type": "stream",
     "text": [
      "Predictive likelihood: -10193.000355271406\n",
      "Computing predictive likelihood score on held out documents...\n"
     ]
    },
    {
     "name": "stderr",
     "output_type": "stream",
     "text": [
      "100%|█████████████████████████████████████████████| 12/12 [00:00<00:00, 4502.74it/s]\n"
     ]
    },
    {
     "name": "stdout",
     "output_type": "stream",
     "text": [
      "Predictive likelihood: -10274.622149726372\n",
      "Computing predictive likelihood score on held out documents...\n"
     ]
    },
    {
     "name": "stderr",
     "output_type": "stream",
     "text": [
      "100%|█████████████████████████████████████████████| 12/12 [00:00<00:00, 4199.90it/s]\n"
     ]
    },
    {
     "name": "stdout",
     "output_type": "stream",
     "text": [
      "Predictive likelihood: -10287.885722633117\n",
      "Computing predictive likelihood score on held out documents...\n"
     ]
    },
    {
     "name": "stderr",
     "output_type": "stream",
     "text": [
      "100%|█████████████████████████████████████████████| 12/12 [00:00<00:00, 3133.20it/s]\n"
     ]
    },
    {
     "name": "stdout",
     "output_type": "stream",
     "text": [
      "Predictive likelihood: -10287.607427437135\n",
      "Computing predictive likelihood score on held out documents...\n"
     ]
    },
    {
     "name": "stderr",
     "output_type": "stream",
     "text": [
      "100%|█████████████████████████████████████████████| 12/12 [00:00<00:00, 4702.13it/s]\n"
     ]
    },
    {
     "name": "stdout",
     "output_type": "stream",
     "text": [
      "Predictive likelihood: -10264.712675764022\n",
      "Computing predictive likelihood score on held out documents...\n"
     ]
    },
    {
     "name": "stderr",
     "output_type": "stream",
     "text": [
      "100%|█████████████████████████████████████████████| 12/12 [00:00<00:00, 3651.72it/s]\n"
     ]
    },
    {
     "name": "stdout",
     "output_type": "stream",
     "text": [
      "Predictive likelihood: -10264.663917076101\n",
      "Computing predictive likelihood score on held out documents...\n"
     ]
    },
    {
     "name": "stderr",
     "output_type": "stream",
     "text": [
      "100%|█████████████████████████████████████████████| 12/12 [00:00<00:00, 3848.28it/s]\n"
     ]
    },
    {
     "name": "stdout",
     "output_type": "stream",
     "text": [
      "Predictive likelihood: -10243.174950553372\n",
      "Computing predictive likelihood score on held out documents...\n"
     ]
    },
    {
     "name": "stderr",
     "output_type": "stream",
     "text": [
      "100%|█████████████████████████████████████████████| 12/12 [00:00<00:00, 4058.35it/s]\n"
     ]
    },
    {
     "name": "stdout",
     "output_type": "stream",
     "text": [
      "Predictive likelihood: -10157.946120700366\n",
      "Computing predictive likelihood score on held out documents...\n"
     ]
    },
    {
     "name": "stderr",
     "output_type": "stream",
     "text": [
      "100%|█████████████████████████████████████████████| 12/12 [00:00<00:00, 3497.44it/s]\n"
     ]
    },
    {
     "name": "stdout",
     "output_type": "stream",
     "text": [
      "Predictive likelihood: -9991.081594426962\n",
      "Computing predictive likelihood score on held out documents...\n"
     ]
    },
    {
     "name": "stderr",
     "output_type": "stream",
     "text": [
      "100%|█████████████████████████████████████████████| 12/12 [00:00<00:00, 4432.94it/s]"
     ]
    },
    {
     "name": "stdout",
     "output_type": "stream",
     "text": [
      "Predictive likelihood: -9913.819087697522\n"
     ]
    },
    {
     "name": "stderr",
     "output_type": "stream",
     "text": [
      "\n"
     ]
    },
    {
     "name": "stdout",
     "output_type": "stream",
     "text": [
      "Computing predictive likelihood score on held out documents...\n"
     ]
    },
    {
     "name": "stderr",
     "output_type": "stream",
     "text": [
      "100%|█████████████████████████████████████████████| 12/12 [00:00<00:00, 4590.63it/s]\n"
     ]
    },
    {
     "name": "stdout",
     "output_type": "stream",
     "text": [
      "Predictive likelihood: -10015.781824540296\n",
      "Computing predictive likelihood score on held out documents...\n"
     ]
    },
    {
     "name": "stderr",
     "output_type": "stream",
     "text": [
      "100%|█████████████████████████████████████████████| 12/12 [00:00<00:00, 4642.71it/s]\n"
     ]
    },
    {
     "name": "stdout",
     "output_type": "stream",
     "text": [
      "Predictive likelihood: -10192.70152539714\n",
      "Computing predictive likelihood score on held out documents...\n"
     ]
    },
    {
     "name": "stderr",
     "output_type": "stream",
     "text": [
      "100%|█████████████████████████████████████████████| 12/12 [00:00<00:00, 3853.58it/s]\n"
     ]
    },
    {
     "name": "stdout",
     "output_type": "stream",
     "text": [
      "Predictive likelihood: -10274.634249217188\n",
      "Computing predictive likelihood score on held out documents...\n"
     ]
    },
    {
     "name": "stderr",
     "output_type": "stream",
     "text": [
      "100%|█████████████████████████████████████████████| 12/12 [00:00<00:00, 4237.38it/s]\n"
     ]
    },
    {
     "name": "stdout",
     "output_type": "stream",
     "text": [
      "Predictive likelihood: -10287.93591366235\n",
      "Computing predictive likelihood score on held out documents...\n"
     ]
    },
    {
     "name": "stderr",
     "output_type": "stream",
     "text": [
      "100%|█████████████████████████████████████████████| 12/12 [00:00<00:00, 3752.45it/s]\n"
     ]
    },
    {
     "name": "stdout",
     "output_type": "stream",
     "text": [
      "Predictive likelihood: -10287.607427437135\n",
      "Computing predictive likelihood score on held out documents...\n"
     ]
    },
    {
     "name": "stderr",
     "output_type": "stream",
     "text": [
      "100%|█████████████████████████████████████████████| 12/12 [00:00<00:00, 5258.77it/s]\n"
     ]
    },
    {
     "name": "stdout",
     "output_type": "stream",
     "text": [
      "Predictive likelihood: -10264.712675764022\n",
      "Computing predictive likelihood score on held out documents...\n"
     ]
    },
    {
     "name": "stderr",
     "output_type": "stream",
     "text": [
      "100%|█████████████████████████████████████████████| 12/12 [00:00<00:00, 3658.35it/s]\n"
     ]
    },
    {
     "name": "stdout",
     "output_type": "stream",
     "text": [
      "Predictive likelihood: -10264.725278752238\n",
      "Computing predictive likelihood score on held out documents...\n"
     ]
    },
    {
     "name": "stderr",
     "output_type": "stream",
     "text": [
      "100%|█████████████████████████████████████████████| 12/12 [00:00<00:00, 3868.39it/s]\n"
     ]
    },
    {
     "name": "stdout",
     "output_type": "stream",
     "text": [
      "Predictive likelihood: -10243.095708761412\n",
      "Computing predictive likelihood score on held out documents...\n"
     ]
    },
    {
     "name": "stderr",
     "output_type": "stream",
     "text": [
      "100%|█████████████████████████████████████████████| 12/12 [00:00<00:00, 5181.35it/s]\n"
     ]
    },
    {
     "name": "stdout",
     "output_type": "stream",
     "text": [
      "Predictive likelihood: -10157.87744417569\n",
      "Computing predictive likelihood score on held out documents...\n"
     ]
    },
    {
     "name": "stderr",
     "output_type": "stream",
     "text": [
      "100%|█████████████████████████████████████████████| 12/12 [00:00<00:00, 3726.34it/s]\n"
     ]
    },
    {
     "name": "stdout",
     "output_type": "stream",
     "text": [
      "Predictive likelihood: -9990.208565064118\n",
      "Computing predictive likelihood score on held out documents...\n"
     ]
    },
    {
     "name": "stderr",
     "output_type": "stream",
     "text": [
      "100%|█████████████████████████████████████████████| 12/12 [00:00<00:00, 4501.13it/s]\n"
     ]
    },
    {
     "name": "stdout",
     "output_type": "stream",
     "text": [
      "Predictive likelihood: -9912.635496409175\n",
      "Computing predictive likelihood score on held out documents...\n"
     ]
    },
    {
     "name": "stderr",
     "output_type": "stream",
     "text": [
      "100%|█████████████████████████████████████████████| 12/12 [00:00<00:00, 3781.78it/s]\n"
     ]
    },
    {
     "name": "stdout",
     "output_type": "stream",
     "text": [
      "Predictive likelihood: -10014.813628482529\n",
      "Computing predictive likelihood score on held out documents...\n"
     ]
    },
    {
     "name": "stderr",
     "output_type": "stream",
     "text": [
      "100%|█████████████████████████████████████████████| 12/12 [00:00<00:00, 4264.67it/s]\n"
     ]
    },
    {
     "name": "stdout",
     "output_type": "stream",
     "text": [
      "Predictive likelihood: -10192.438503092744\n",
      "Computing predictive likelihood score on held out documents...\n"
     ]
    },
    {
     "name": "stderr",
     "output_type": "stream",
     "text": [
      "100%|█████████████████████████████████████████████| 12/12 [00:00<00:00, 3767.62it/s]\n"
     ]
    },
    {
     "name": "stdout",
     "output_type": "stream",
     "text": [
      "Predictive likelihood: -10274.63820405099\n",
      "Computing predictive likelihood score on held out documents...\n"
     ]
    },
    {
     "name": "stderr",
     "output_type": "stream",
     "text": [
      "100%|█████████████████████████████████████████████| 12/12 [00:00<00:00, 5010.62it/s]\n"
     ]
    },
    {
     "name": "stdout",
     "output_type": "stream",
     "text": [
      "Predictive likelihood: -10287.981902794925\n",
      "Computing predictive likelihood score on held out documents...\n"
     ]
    },
    {
     "name": "stderr",
     "output_type": "stream",
     "text": [
      "100%|█████████████████████████████████████████████| 12/12 [00:00<00:00, 3942.02it/s]\n"
     ]
    },
    {
     "name": "stdout",
     "output_type": "stream",
     "text": [
      "Predictive likelihood: -10287.607427437135\n",
      "Computing predictive likelihood score on held out documents...\n"
     ]
    },
    {
     "name": "stderr",
     "output_type": "stream",
     "text": [
      "100%|█████████████████████████████████████████████| 12/12 [00:00<00:00, 4324.02it/s]\n"
     ]
    },
    {
     "name": "stdout",
     "output_type": "stream",
     "text": [
      "Predictive likelihood: -10264.712675764022\n",
      "Computing predictive likelihood score on held out documents...\n"
     ]
    },
    {
     "name": "stderr",
     "output_type": "stream",
     "text": [
      "100%|█████████████████████████████████████████████| 12/12 [00:00<00:00, 4154.83it/s]\n"
     ]
    },
    {
     "name": "stdout",
     "output_type": "stream",
     "text": [
      "Predictive likelihood: -10264.783275170488\n",
      "Computing predictive likelihood score on held out documents...\n"
     ]
    },
    {
     "name": "stderr",
     "output_type": "stream",
     "text": [
      "100%|█████████████████████████████████████████████| 12/12 [00:00<00:00, 3491.37it/s]\n"
     ]
    },
    {
     "name": "stdout",
     "output_type": "stream",
     "text": [
      "Predictive likelihood: -10243.012048209408\n",
      "Computing predictive likelihood score on held out documents...\n"
     ]
    },
    {
     "name": "stderr",
     "output_type": "stream",
     "text": [
      "100%|█████████████████████████████████████████████| 12/12 [00:00<00:00, 3950.06it/s]\n"
     ]
    },
    {
     "name": "stdout",
     "output_type": "stream",
     "text": [
      "Predictive likelihood: -10157.822072728344\n",
      "Computing predictive likelihood score on held out documents...\n"
     ]
    },
    {
     "name": "stderr",
     "output_type": "stream",
     "text": [
      "100%|█████████████████████████████████████████████| 12/12 [00:00<00:00, 3748.82it/s]\n"
     ]
    },
    {
     "name": "stdout",
     "output_type": "stream",
     "text": [
      "Predictive likelihood: -9989.416694811816\n",
      "Computing predictive likelihood score on held out documents...\n"
     ]
    },
    {
     "name": "stderr",
     "output_type": "stream",
     "text": [
      "100%|█████████████████████████████████████████████| 12/12 [00:00<00:00, 4582.27it/s]\n"
     ]
    },
    {
     "name": "stdout",
     "output_type": "stream",
     "text": [
      "Predictive likelihood: -9911.575014368846\n",
      "Computing predictive likelihood score on held out documents...\n"
     ]
    },
    {
     "name": "stderr",
     "output_type": "stream",
     "text": [
      "100%|█████████████████████████████████████████████| 12/12 [00:00<00:00, 3709.58it/s]\n"
     ]
    },
    {
     "name": "stdout",
     "output_type": "stream",
     "text": [
      "Predictive likelihood: -10013.94534954302\n",
      "Computing predictive likelihood score on held out documents...\n"
     ]
    },
    {
     "name": "stderr",
     "output_type": "stream",
     "text": [
      "100%|█████████████████████████████████████████████| 12/12 [00:00<00:00, 3349.86it/s]\n"
     ]
    },
    {
     "name": "stdout",
     "output_type": "stream",
     "text": [
      "Predictive likelihood: -10192.208311051885\n",
      "Computing predictive likelihood score on held out documents...\n"
     ]
    },
    {
     "name": "stderr",
     "output_type": "stream",
     "text": [
      "100%|█████████████████████████████████████████████| 12/12 [00:00<00:00, 4232.75it/s]"
     ]
    },
    {
     "name": "stdout",
     "output_type": "stream",
     "text": [
      "Predictive likelihood: -10274.634323811664\n"
     ]
    },
    {
     "name": "stderr",
     "output_type": "stream",
     "text": [
      "\n"
     ]
    },
    {
     "name": "stdout",
     "output_type": "stream",
     "text": [
      "Computing predictive likelihood score on held out documents...\n"
     ]
    },
    {
     "name": "stderr",
     "output_type": "stream",
     "text": [
      "100%|█████████████████████████████████████████████| 12/12 [00:00<00:00, 3175.50it/s]\n"
     ]
    },
    {
     "name": "stdout",
     "output_type": "stream",
     "text": [
      "Predictive likelihood: -10288.023853222508\n",
      "Computing predictive likelihood score on held out documents...\n"
     ]
    },
    {
     "name": "stderr",
     "output_type": "stream",
     "text": [
      "100%|█████████████████████████████████████████████| 12/12 [00:00<00:00, 4307.00it/s]\n"
     ]
    },
    {
     "name": "stdout",
     "output_type": "stream",
     "text": [
      "Predictive likelihood: -10287.607427437135\n",
      "Computing predictive likelihood score on held out documents...\n"
     ]
    },
    {
     "name": "stderr",
     "output_type": "stream",
     "text": [
      "100%|█████████████████████████████████████████████| 12/12 [00:00<00:00, 3731.03it/s]\n"
     ]
    },
    {
     "name": "stdout",
     "output_type": "stream",
     "text": [
      "Predictive likelihood: -10264.712675764022\n",
      "Computing predictive likelihood score on held out documents...\n"
     ]
    },
    {
     "name": "stderr",
     "output_type": "stream",
     "text": [
      "100%|█████████████████████████████████████████████| 12/12 [00:00<00:00, 4129.61it/s]\n"
     ]
    },
    {
     "name": "stdout",
     "output_type": "stream",
     "text": [
      "Predictive likelihood: -10264.838322079755\n",
      "Computing predictive likelihood score on held out documents...\n"
     ]
    },
    {
     "name": "stderr",
     "output_type": "stream",
     "text": [
      "100%|█████████████████████████████████████████████| 12/12 [00:00<00:00, 5097.39it/s]\n"
     ]
    },
    {
     "name": "stdout",
     "output_type": "stream",
     "text": [
      "Predictive likelihood: -10242.925275983154\n",
      "Computing predictive likelihood score on held out documents...\n"
     ]
    },
    {
     "name": "stderr",
     "output_type": "stream",
     "text": [
      "100%|█████████████████████████████████████████████| 12/12 [00:00<00:00, 4716.68it/s]\n"
     ]
    },
    {
     "name": "stdout",
     "output_type": "stream",
     "text": [
      "Predictive likelihood: -10157.778164294445\n",
      "Computing predictive likelihood score on held out documents...\n"
     ]
    },
    {
     "name": "stderr",
     "output_type": "stream",
     "text": [
      "100%|█████████████████████████████████████████████| 12/12 [00:00<00:00, 3079.33it/s]\n"
     ]
    },
    {
     "name": "stdout",
     "output_type": "stream",
     "text": [
      "Predictive likelihood: -9988.699392943367\n",
      "Computing predictive likelihood score on held out documents...\n"
     ]
    },
    {
     "name": "stderr",
     "output_type": "stream",
     "text": [
      "100%|█████████████████████████████████████████████| 12/12 [00:00<00:00, 3256.45it/s]\n"
     ]
    },
    {
     "name": "stdout",
     "output_type": "stream",
     "text": [
      "Predictive likelihood: -9910.6262005156\n",
      "Computing predictive likelihood score on held out documents...\n"
     ]
    },
    {
     "name": "stderr",
     "output_type": "stream",
     "text": [
      "100%|█████████████████████████████████████████████| 12/12 [00:00<00:00, 4384.67it/s]\n"
     ]
    },
    {
     "name": "stdout",
     "output_type": "stream",
     "text": [
      "Predictive likelihood: -10013.194229104654\n",
      "Computing predictive likelihood score on held out documents...\n"
     ]
    },
    {
     "name": "stderr",
     "output_type": "stream",
     "text": [
      "100%|█████████████████████████████████████████████| 12/12 [00:00<00:00, 3372.76it/s]\n"
     ]
    },
    {
     "name": "stdout",
     "output_type": "stream",
     "text": [
      "Predictive likelihood: -10192.00803618424\n",
      "Computing predictive likelihood score on held out documents...\n"
     ]
    },
    {
     "name": "stderr",
     "output_type": "stream",
     "text": [
      "100%|█████████████████████████████████████████████| 12/12 [00:00<00:00, 4663.79it/s]\n"
     ]
    },
    {
     "name": "stdout",
     "output_type": "stream",
     "text": [
      "Predictive likelihood: -10274.62294094517\n",
      "Computing predictive likelihood score on held out documents...\n"
     ]
    },
    {
     "name": "stderr",
     "output_type": "stream",
     "text": [
      "100%|█████████████████████████████████████████████| 12/12 [00:00<00:00, 3451.16it/s]\n"
     ]
    },
    {
     "name": "stdout",
     "output_type": "stream",
     "text": [
      "Predictive likelihood: -10288.061969384844\n",
      "Computing predictive likelihood score on held out documents...\n"
     ]
    },
    {
     "name": "stderr",
     "output_type": "stream",
     "text": [
      "100%|█████████████████████████████████████████████| 12/12 [00:00<00:00, 4700.82it/s]\n"
     ]
    },
    {
     "name": "stdout",
     "output_type": "stream",
     "text": [
      "Predictive likelihood: -10287.607427437135\n",
      "Computing predictive likelihood score on held out documents...\n"
     ]
    },
    {
     "name": "stderr",
     "output_type": "stream",
     "text": [
      "100%|█████████████████████████████████████████████| 12/12 [00:00<00:00, 3506.70it/s]\n"
     ]
    },
    {
     "name": "stdout",
     "output_type": "stream",
     "text": [
      "Predictive likelihood: -10264.712675764022\n",
      "Computing predictive likelihood score on held out documents...\n"
     ]
    },
    {
     "name": "stderr",
     "output_type": "stream",
     "text": [
      "100%|█████████████████████████████████████████████| 12/12 [00:00<00:00, 4379.71it/s]\n"
     ]
    },
    {
     "name": "stdout",
     "output_type": "stream",
     "text": [
      "Predictive likelihood: -10264.890786291633\n",
      "Computing predictive likelihood score on held out documents...\n"
     ]
    },
    {
     "name": "stderr",
     "output_type": "stream",
     "text": [
      "100%|█████████████████████████████████████████████| 12/12 [00:00<00:00, 3742.96it/s]\n"
     ]
    },
    {
     "name": "stdout",
     "output_type": "stream",
     "text": [
      "Predictive likelihood: -10242.836833056026\n",
      "Computing predictive likelihood score on held out documents...\n"
     ]
    },
    {
     "name": "stderr",
     "output_type": "stream",
     "text": [
      "100%|█████████████████████████████████████████████| 12/12 [00:00<00:00, 3759.46it/s]\n"
     ]
    },
    {
     "name": "stdout",
     "output_type": "stream",
     "text": [
      "Predictive likelihood: -10157.744142689942\n",
      "Computing predictive likelihood score on held out documents...\n"
     ]
    },
    {
     "name": "stderr",
     "output_type": "stream",
     "text": [
      "100%|█████████████████████████████████████████████| 12/12 [00:00<00:00, 5363.56it/s]\n"
     ]
    },
    {
     "name": "stdout",
     "output_type": "stream",
     "text": [
      "Predictive likelihood: -9988.050454652177\n",
      "Computing predictive likelihood score on held out documents...\n"
     ]
    },
    {
     "name": "stderr",
     "output_type": "stream",
     "text": [
      "100%|█████████████████████████████████████████████| 12/12 [00:00<00:00, 3892.32it/s]\n"
     ]
    },
    {
     "name": "stdout",
     "output_type": "stream",
     "text": [
      "Predictive likelihood: -9909.778711141356\n",
      "Computing predictive likelihood score on held out documents...\n"
     ]
    },
    {
     "name": "stderr",
     "output_type": "stream",
     "text": [
      "100%|█████████████████████████████████████████████| 12/12 [00:00<00:00, 3626.46it/s]\n"
     ]
    },
    {
     "name": "stdout",
     "output_type": "stream",
     "text": [
      "Predictive likelihood: -10012.524994551046\n",
      "Computing predictive likelihood score on held out documents...\n"
     ]
    },
    {
     "name": "stderr",
     "output_type": "stream",
     "text": [
      "100%|█████████████████████████████████████████████| 12/12 [00:00<00:00, 3992.04it/s]\n"
     ]
    },
    {
     "name": "stdout",
     "output_type": "stream",
     "text": [
      "Predictive likelihood: -10191.834891183604\n",
      "Computing predictive likelihood score on held out documents...\n"
     ]
    },
    {
     "name": "stderr",
     "output_type": "stream",
     "text": [
      "100%|█████████████████████████████████████████████| 12/12 [00:00<00:00, 3657.29it/s]\n"
     ]
    },
    {
     "name": "stdout",
     "output_type": "stream",
     "text": [
      "Predictive likelihood: -10274.604421984666\n",
      "Computing predictive likelihood score on held out documents...\n"
     ]
    },
    {
     "name": "stderr",
     "output_type": "stream",
     "text": [
      "100%|█████████████████████████████████████████████| 12/12 [00:00<00:00, 3773.55it/s]\n"
     ]
    },
    {
     "name": "stdout",
     "output_type": "stream",
     "text": [
      "Predictive likelihood: -10288.096489775697\n",
      "Computing predictive likelihood score on held out documents...\n"
     ]
    },
    {
     "name": "stderr",
     "output_type": "stream",
     "text": [
      "100%|█████████████████████████████████████████████| 12/12 [00:00<00:00, 3681.91it/s]\n"
     ]
    },
    {
     "name": "stdout",
     "output_type": "stream",
     "text": [
      "Predictive likelihood: -10287.607427437135\n",
      "Computing predictive likelihood score on held out documents...\n"
     ]
    },
    {
     "name": "stderr",
     "output_type": "stream",
     "text": [
      "100%|█████████████████████████████████████████████| 12/12 [00:00<00:00, 4241.67it/s]\n"
     ]
    },
    {
     "name": "stdout",
     "output_type": "stream",
     "text": [
      "Predictive likelihood: -10264.712675764022\n",
      "Computing predictive likelihood score on held out documents...\n"
     ]
    },
    {
     "name": "stderr",
     "output_type": "stream",
     "text": [
      "100%|█████████████████████████████████████████████| 12/12 [00:00<00:00, 5042.24it/s]\n"
     ]
    },
    {
     "name": "stdout",
     "output_type": "stream",
     "text": [
      "Predictive likelihood: -10264.940988279854\n",
      "Computing predictive likelihood score on held out documents...\n"
     ]
    },
    {
     "name": "stderr",
     "output_type": "stream",
     "text": [
      "100%|█████████████████████████████████████████████| 12/12 [00:00<00:00, 4249.55it/s]\n"
     ]
    },
    {
     "name": "stdout",
     "output_type": "stream",
     "text": [
      "Predictive likelihood: -10242.748152560729\n",
      "Computing predictive likelihood score on held out documents...\n"
     ]
    },
    {
     "name": "stderr",
     "output_type": "stream",
     "text": [
      "100%|█████████████████████████████████████████████| 12/12 [00:00<00:00, 4265.39it/s]\n"
     ]
    },
    {
     "name": "stdout",
     "output_type": "stream",
     "text": [
      "Predictive likelihood: -10157.718648171962\n",
      "Computing predictive likelihood score on held out documents...\n"
     ]
    },
    {
     "name": "stderr",
     "output_type": "stream",
     "text": [
      "100%|█████████████████████████████████████████████| 12/12 [00:00<00:00, 3845.05it/s]\n"
     ]
    },
    {
     "name": "stdout",
     "output_type": "stream",
     "text": [
      "Predictive likelihood: -9987.463973757709\n",
      "Computing predictive likelihood score on held out documents...\n"
     ]
    },
    {
     "name": "stderr",
     "output_type": "stream",
     "text": [
      "100%|█████████████████████████████████████████████| 12/12 [00:00<00:00, 4156.55it/s]\n"
     ]
    },
    {
     "name": "stdout",
     "output_type": "stream",
     "text": [
      "Predictive likelihood: -9909.023231777192\n",
      "Computing predictive likelihood score on held out documents...\n"
     ]
    },
    {
     "name": "stderr",
     "output_type": "stream",
     "text": [
      "100%|█████████████████████████████████████████████| 12/12 [00:00<00:00, 3755.53it/s]\n"
     ]
    },
    {
     "name": "stdout",
     "output_type": "stream",
     "text": [
      "Predictive likelihood: -10011.930530138032\n",
      "Computing predictive likelihood score on held out documents...\n"
     ]
    },
    {
     "name": "stderr",
     "output_type": "stream",
     "text": [
      "100%|█████████████████████████████████████████████| 12/12 [00:00<00:00, 4270.46it/s]\n"
     ]
    },
    {
     "name": "stdout",
     "output_type": "stream",
     "text": [
      "Predictive likelihood: -10191.686258217114\n",
      "Computing predictive likelihood score on held out documents...\n"
     ]
    },
    {
     "name": "stderr",
     "output_type": "stream",
     "text": [
      "100%|█████████████████████████████████████████████| 12/12 [00:00<00:00, 3856.24it/s]\n"
     ]
    },
    {
     "name": "stdout",
     "output_type": "stream",
     "text": [
      "Predictive likelihood: -10274.5791855094\n",
      "Computing predictive likelihood score on held out documents...\n"
     ]
    },
    {
     "name": "stderr",
     "output_type": "stream",
     "text": [
      "100%|█████████████████████████████████████████████| 12/12 [00:00<00:00, 4197.10it/s]\n"
     ]
    },
    {
     "name": "stdout",
     "output_type": "stream",
     "text": [
      "Predictive likelihood: -10288.127673516683\n",
      "Computing predictive likelihood score on held out documents...\n"
     ]
    },
    {
     "name": "stderr",
     "output_type": "stream",
     "text": [
      "100%|█████████████████████████████████████████████| 12/12 [00:00<00:00, 3746.31it/s]\n"
     ]
    },
    {
     "name": "stdout",
     "output_type": "stream",
     "text": [
      "Predictive likelihood: -10287.607427437135\n",
      "Computing predictive likelihood score on held out documents...\n"
     ]
    },
    {
     "name": "stderr",
     "output_type": "stream",
     "text": [
      "100%|█████████████████████████████████████████████| 12/12 [00:00<00:00, 5082.46it/s]\n"
     ]
    },
    {
     "name": "stdout",
     "output_type": "stream",
     "text": [
      "Predictive likelihood: -10264.712675764022\n",
      "Computing predictive likelihood score on held out documents...\n"
     ]
    },
    {
     "name": "stderr",
     "output_type": "stream",
     "text": [
      "100%|█████████████████████████████████████████████| 12/12 [00:00<00:00, 5330.61it/s]\n"
     ]
    },
    {
     "name": "stdout",
     "output_type": "stream",
     "text": [
      "Predictive likelihood: -10264.989205145514\n",
      "Computing predictive likelihood score on held out documents...\n"
     ]
    },
    {
     "name": "stderr",
     "output_type": "stream",
     "text": [
      "100%|█████████████████████████████████████████████| 12/12 [00:00<00:00, 4249.55it/s]\n"
     ]
    },
    {
     "name": "stdout",
     "output_type": "stream",
     "text": [
      "Predictive likelihood: -10242.660535976273\n",
      "Computing predictive likelihood score on held out documents...\n"
     ]
    },
    {
     "name": "stderr",
     "output_type": "stream",
     "text": [
      "100%|█████████████████████████████████████████████| 12/12 [00:00<00:00, 4721.10it/s]"
     ]
    },
    {
     "name": "stdout",
     "output_type": "stream",
     "text": [
      "Predictive likelihood: -10157.700497298387\n"
     ]
    },
    {
     "name": "stderr",
     "output_type": "stream",
     "text": [
      "\n"
     ]
    },
    {
     "name": "stdout",
     "output_type": "stream",
     "text": [
      "Computing predictive likelihood score on held out documents...\n"
     ]
    },
    {
     "name": "stderr",
     "output_type": "stream",
     "text": [
      "100%|█████████████████████████████████████████████| 12/12 [00:00<00:00, 4450.58it/s]\n"
     ]
    },
    {
     "name": "stdout",
     "output_type": "stream",
     "text": [
      "Predictive likelihood: -9986.93431738906\n",
      "Computing predictive likelihood score on held out documents...\n"
     ]
    },
    {
     "name": "stderr",
     "output_type": "stream",
     "text": [
      "100%|█████████████████████████████████████████████| 12/12 [00:00<00:00, 5302.53it/s]\n"
     ]
    },
    {
     "name": "stdout",
     "output_type": "stream",
     "text": [
      "Predictive likelihood: -9908.351394945154\n",
      "Computing predictive likelihood score on held out documents...\n"
     ]
    },
    {
     "name": "stderr",
     "output_type": "stream",
     "text": [
      "100%|█████████████████████████████████████████████| 12/12 [00:00<00:00, 3211.16it/s]\n"
     ]
    },
    {
     "name": "stdout",
     "output_type": "stream",
     "text": [
      "Predictive likelihood: -10011.404117778597\n",
      "Computing predictive likelihood score on held out documents...\n"
     ]
    },
    {
     "name": "stderr",
     "output_type": "stream",
     "text": [
      "100%|█████████████████████████████████████████████| 12/12 [00:00<00:00, 5594.27it/s]\n"
     ]
    },
    {
     "name": "stdout",
     "output_type": "stream",
     "text": [
      "Predictive likelihood: -10191.559718292214\n",
      "Computing predictive likelihood score on held out documents...\n"
     ]
    },
    {
     "name": "stderr",
     "output_type": "stream",
     "text": [
      "100%|█████████████████████████████████████████████| 12/12 [00:00<00:00, 4171.02it/s]\n"
     ]
    },
    {
     "name": "stdout",
     "output_type": "stream",
     "text": [
      "Predictive likelihood: -10274.547724387703\n",
      "Computing predictive likelihood score on held out documents...\n"
     ]
    },
    {
     "name": "stderr",
     "output_type": "stream",
     "text": [
      "100%|█████████████████████████████████████████████| 12/12 [00:00<00:00, 4909.93it/s]\n"
     ]
    },
    {
     "name": "stdout",
     "output_type": "stream",
     "text": [
      "Predictive likelihood: -10288.155786245032\n",
      "Computing predictive likelihood score on held out documents...\n"
     ]
    },
    {
     "name": "stderr",
     "output_type": "stream",
     "text": [
      "100%|█████████████████████████████████████████████| 12/12 [00:00<00:00, 3329.69it/s]\n"
     ]
    },
    {
     "name": "stdout",
     "output_type": "stream",
     "text": [
      "Predictive likelihood: -10287.607427437135\n",
      "Computing predictive likelihood score on held out documents...\n"
     ]
    },
    {
     "name": "stderr",
     "output_type": "stream",
     "text": [
      "100%|█████████████████████████████████████████████| 12/12 [00:00<00:00, 3194.85it/s]\n"
     ]
    },
    {
     "name": "stdout",
     "output_type": "stream",
     "text": [
      "Predictive likelihood: -10264.712675764022\n",
      "Computing predictive likelihood score on held out documents...\n"
     ]
    },
    {
     "name": "stderr",
     "output_type": "stream",
     "text": [
      "100%|█████████████████████████████████████████████| 12/12 [00:00<00:00, 2781.06it/s]\n"
     ]
    },
    {
     "name": "stdout",
     "output_type": "stream",
     "text": [
      "Predictive likelihood: -10265.035673829523\n",
      "Computing predictive likelihood score on held out documents...\n"
     ]
    },
    {
     "name": "stderr",
     "output_type": "stream",
     "text": [
      "100%|█████████████████████████████████████████████| 12/12 [00:00<00:00, 6554.45it/s]\n"
     ]
    },
    {
     "name": "stdout",
     "output_type": "stream",
     "text": [
      "Predictive likelihood: -10242.575070654142\n",
      "Computing predictive likelihood score on held out documents...\n"
     ]
    },
    {
     "name": "stderr",
     "output_type": "stream",
     "text": [
      "100%|█████████████████████████████████████████████| 12/12 [00:00<00:00, 5228.72it/s]\n"
     ]
    },
    {
     "name": "stdout",
     "output_type": "stream",
     "text": [
      "Predictive likelihood: -10157.688651563478\n",
      "Computing predictive likelihood score on held out documents...\n"
     ]
    },
    {
     "name": "stderr",
     "output_type": "stream",
     "text": [
      "100%|█████████████████████████████████████████████| 12/12 [00:00<00:00, 3775.82it/s]\n"
     ]
    },
    {
     "name": "stdout",
     "output_type": "stream",
     "text": [
      "Predictive likelihood: -9986.456155267702\n",
      "Computing predictive likelihood score on held out documents...\n"
     ]
    },
    {
     "name": "stderr",
     "output_type": "stream",
     "text": [
      "100%|█████████████████████████████████████████████| 12/12 [00:00<00:00, 5251.63it/s]\n"
     ]
    },
    {
     "name": "stdout",
     "output_type": "stream",
     "text": [
      "Predictive likelihood: -9907.755695230657\n",
      "Computing predictive likelihood score on held out documents...\n"
     ]
    },
    {
     "name": "stderr",
     "output_type": "stream",
     "text": [
      "100%|█████████████████████████████████████████████| 12/12 [00:00<00:00, 3596.92it/s]\n"
     ]
    },
    {
     "name": "stdout",
     "output_type": "stream",
     "text": [
      "Predictive likelihood: -10010.939445077704\n",
      "Computing predictive likelihood score on held out documents...\n"
     ]
    },
    {
     "name": "stderr",
     "output_type": "stream",
     "text": [
      "100%|█████████████████████████████████████████████| 12/12 [00:00<00:00, 5472.02it/s]\n"
     ]
    },
    {
     "name": "stdout",
     "output_type": "stream",
     "text": [
      "Predictive likelihood: -10191.453068411156\n",
      "Computing predictive likelihood score on held out documents...\n"
     ]
    },
    {
     "name": "stderr",
     "output_type": "stream",
     "text": [
      "100%|█████████████████████████████████████████████| 12/12 [00:00<00:00, 3256.45it/s]\n"
     ]
    },
    {
     "name": "stdout",
     "output_type": "stream",
     "text": [
      "Predictive likelihood: -10274.510627353138\n",
      "Computing predictive likelihood score on held out documents...\n"
     ]
    },
    {
     "name": "stderr",
     "output_type": "stream",
     "text": [
      "100%|█████████████████████████████████████████████| 12/12 [00:00<00:00, 5744.31it/s]\n"
     ]
    },
    {
     "name": "stdout",
     "output_type": "stream",
     "text": [
      "Predictive likelihood: -10288.181088757523\n",
      "Computing predictive likelihood score on held out documents...\n"
     ]
    },
    {
     "name": "stderr",
     "output_type": "stream",
     "text": [
      "100%|█████████████████████████████████████████████| 12/12 [00:00<00:00, 4436.07it/s]\n"
     ]
    },
    {
     "name": "stdout",
     "output_type": "stream",
     "text": [
      "Predictive likelihood: -10287.607427437135\n",
      "Computing predictive likelihood score on held out documents...\n"
     ]
    },
    {
     "name": "stderr",
     "output_type": "stream",
     "text": [
      "100%|█████████████████████████████████████████████| 12/12 [00:00<00:00, 4074.45it/s]\n"
     ]
    },
    {
     "name": "stdout",
     "output_type": "stream",
     "text": [
      "Predictive likelihood: -10264.712675764022\n",
      "Computing predictive likelihood score on held out documents...\n"
     ]
    },
    {
     "name": "stderr",
     "output_type": "stream",
     "text": [
      "100%|█████████████████████████████████████████████| 12/12 [00:00<00:00, 3412.08it/s]\n"
     ]
    },
    {
     "name": "stdout",
     "output_type": "stream",
     "text": [
      "Predictive likelihood: -10265.080594448596\n",
      "Computing predictive likelihood score on held out documents...\n"
     ]
    },
    {
     "name": "stderr",
     "output_type": "stream",
     "text": [
      "100%|█████████████████████████████████████████████| 12/12 [00:00<00:00, 3859.49it/s]\n"
     ]
    },
    {
     "name": "stdout",
     "output_type": "stream",
     "text": [
      "Predictive likelihood: -10242.492594284628\n",
      "Computing predictive likelihood score on held out documents...\n"
     ]
    },
    {
     "name": "stderr",
     "output_type": "stream",
     "text": [
      "100%|█████████████████████████████████████████████| 12/12 [00:00<00:00, 4460.84it/s]\n"
     ]
    },
    {
     "name": "stdout",
     "output_type": "stream",
     "text": [
      "Predictive likelihood: -10157.682194595809\n",
      "Computing predictive likelihood score on held out documents...\n"
     ]
    },
    {
     "name": "stderr",
     "output_type": "stream",
     "text": [
      "100%|█████████████████████████████████████████████| 12/12 [00:00<00:00, 5711.07it/s]\n"
     ]
    },
    {
     "name": "stdout",
     "output_type": "stream",
     "text": [
      "Predictive likelihood: -9986.024522933456\n",
      "Computing predictive likelihood score on held out documents...\n"
     ]
    },
    {
     "name": "stderr",
     "output_type": "stream",
     "text": [
      "100%|█████████████████████████████████████████████| 12/12 [00:00<00:00, 3625.15it/s]\n"
     ]
    },
    {
     "name": "stdout",
     "output_type": "stream",
     "text": [
      "Predictive likelihood: -9907.229398348629\n",
      "Computing predictive likelihood score on held out documents...\n"
     ]
    },
    {
     "name": "stderr",
     "output_type": "stream",
     "text": [
      "100%|█████████████████████████████████████████████| 12/12 [00:00<00:00, 4195.70it/s]\n"
     ]
    },
    {
     "name": "stdout",
     "output_type": "stream",
     "text": [
      "Predictive likelihood: -10010.530592430785\n",
      "Computing predictive likelihood score on held out documents...\n"
     ]
    },
    {
     "name": "stderr",
     "output_type": "stream",
     "text": [
      "100%|█████████████████████████████████████████████| 12/12 [00:00<00:00, 3566.08it/s]\n"
     ]
    },
    {
     "name": "stdout",
     "output_type": "stream",
     "text": [
      "Predictive likelihood: -10191.364326868055\n",
      "Computing predictive likelihood score on held out documents...\n"
     ]
    },
    {
     "name": "stderr",
     "output_type": "stream",
     "text": [
      "100%|█████████████████████████████████████████████| 12/12 [00:00<00:00, 3588.71it/s]\n"
     ]
    },
    {
     "name": "stdout",
     "output_type": "stream",
     "text": [
      "Predictive likelihood: -10274.468593170792\n",
      "Computing predictive likelihood score on held out documents...\n"
     ]
    },
    {
     "name": "stderr",
     "output_type": "stream",
     "text": [
      "100%|█████████████████████████████████████████████| 12/12 [00:00<00:00, 4535.20it/s]\n"
     ]
    },
    {
     "name": "stdout",
     "output_type": "stream",
     "text": [
      "Predictive likelihood: -10288.203829532662\n",
      "Computing predictive likelihood score on held out documents...\n"
     ]
    },
    {
     "name": "stderr",
     "output_type": "stream",
     "text": [
      "100%|█████████████████████████████████████████████| 12/12 [00:00<00:00, 2914.90it/s]\n"
     ]
    },
    {
     "name": "stdout",
     "output_type": "stream",
     "text": [
      "Predictive likelihood: -10287.607427437135\n",
      "Computing predictive likelihood score on held out documents...\n"
     ]
    },
    {
     "name": "stderr",
     "output_type": "stream",
     "text": [
      "100%|█████████████████████████████████████████████| 12/12 [00:00<00:00, 4241.67it/s]\n"
     ]
    },
    {
     "name": "stdout",
     "output_type": "stream",
     "text": [
      "Predictive likelihood: -10264.712675764022\n",
      "Computing predictive likelihood score on held out documents...\n"
     ]
    },
    {
     "name": "stderr",
     "output_type": "stream",
     "text": [
      "100%|█████████████████████████████████████████████| 12/12 [00:00<00:00, 3596.15it/s]\n"
     ]
    },
    {
     "name": "stdout",
     "output_type": "stream",
     "text": [
      "Predictive likelihood: -10265.124133638528\n",
      "Computing predictive likelihood score on held out documents...\n"
     ]
    },
    {
     "name": "stderr",
     "output_type": "stream",
     "text": [
      "100%|█████████████████████████████████████████████| 12/12 [00:00<00:00, 3850.34it/s]\n"
     ]
    },
    {
     "name": "stdout",
     "output_type": "stream",
     "text": [
      "Predictive likelihood: -10242.413698043567\n",
      "Computing predictive likelihood score on held out documents...\n"
     ]
    },
    {
     "name": "stderr",
     "output_type": "stream",
     "text": [
      "100%|█████████████████████████████████████████████| 12/12 [00:00<00:00, 5423.08it/s]\n"
     ]
    },
    {
     "name": "stdout",
     "output_type": "stream",
     "text": [
      "Predictive likelihood: -10157.680317473687\n",
      "Computing predictive likelihood score on held out documents...\n"
     ]
    },
    {
     "name": "stderr",
     "output_type": "stream",
     "text": [
      "100%|█████████████████████████████████████████████| 12/12 [00:00<00:00, 2860.57it/s]\n"
     ]
    },
    {
     "name": "stdout",
     "output_type": "stream",
     "text": [
      "Predictive likelihood: -9985.634887145057\n",
      "Computing predictive likelihood score on held out documents...\n"
     ]
    },
    {
     "name": "stderr",
     "output_type": "stream",
     "text": [
      "100%|█████████████████████████████████████████████| 12/12 [00:00<00:00, 3853.58it/s]\n"
     ]
    },
    {
     "name": "stdout",
     "output_type": "stream",
     "text": [
      "Predictive likelihood: -9906.766446650368\n",
      "Computing predictive likelihood score on held out documents...\n"
     ]
    },
    {
     "name": "stderr",
     "output_type": "stream",
     "text": [
      "100%|█████████████████████████████████████████████| 12/12 [00:00<00:00, 4081.72it/s]\n"
     ]
    },
    {
     "name": "stdout",
     "output_type": "stream",
     "text": [
      "Predictive likelihood: -10010.172011162465\n",
      "Computing predictive likelihood score on held out documents...\n"
     ]
    },
    {
     "name": "stderr",
     "output_type": "stream",
     "text": [
      "100%|█████████████████████████████████████████████| 12/12 [00:00<00:00, 3969.37it/s]\n"
     ]
    },
    {
     "name": "stdout",
     "output_type": "stream",
     "text": [
      "Predictive likelihood: -10191.291726762958\n",
      "Computing predictive likelihood score on held out documents...\n"
     ]
    },
    {
     "name": "stderr",
     "output_type": "stream",
     "text": [
      "100%|█████████████████████████████████████████████| 12/12 [00:00<00:00, 4171.02it/s]\n"
     ]
    },
    {
     "name": "stdout",
     "output_type": "stream",
     "text": [
      "Predictive likelihood: -10274.422430696199\n",
      "Computing predictive likelihood score on held out documents...\n"
     ]
    },
    {
     "name": "stderr",
     "output_type": "stream",
     "text": [
      "100%|█████████████████████████████████████████████| 12/12 [00:00<00:00, 3211.16it/s]\n"
     ]
    },
    {
     "name": "stdout",
     "output_type": "stream",
     "text": [
      "Predictive likelihood: -10288.22424073276\n",
      "Computing predictive likelihood score on held out documents...\n"
     ]
    },
    {
     "name": "stderr",
     "output_type": "stream",
     "text": [
      "100%|█████████████████████████████████████████████| 12/12 [00:00<00:00, 4210.44it/s]\n"
     ]
    },
    {
     "name": "stdout",
     "output_type": "stream",
     "text": [
      "Predictive likelihood: -10287.607427437135\n",
      "Computing predictive likelihood score on held out documents...\n"
     ]
    },
    {
     "name": "stderr",
     "output_type": "stream",
     "text": [
      "100%|█████████████████████████████████████████████| 12/12 [00:00<00:00, 4147.98it/s]\n"
     ]
    },
    {
     "name": "stdout",
     "output_type": "stream",
     "text": [
      "Predictive likelihood: -10264.712675764022\n",
      "Computing predictive likelihood score on held out documents...\n"
     ]
    },
    {
     "name": "stderr",
     "output_type": "stream",
     "text": [
      "100%|█████████████████████████████████████████████| 12/12 [00:00<00:00, 3754.97it/s]\n"
     ]
    },
    {
     "name": "stdout",
     "output_type": "stream",
     "text": [
      "Predictive likelihood: -10265.166427806838\n",
      "Computing predictive likelihood score on held out documents...\n"
     ]
    },
    {
     "name": "stderr",
     "output_type": "stream",
     "text": [
      "100%|█████████████████████████████████████████████| 12/12 [00:00<00:00, 4146.62it/s]\n"
     ]
    },
    {
     "name": "stdout",
     "output_type": "stream",
     "text": [
      "Predictive likelihood: -10242.33875427871\n",
      "Computing predictive likelihood score on held out documents...\n"
     ]
    },
    {
     "name": "stderr",
     "output_type": "stream",
     "text": [
      "100%|█████████████████████████████████████████████| 12/12 [00:00<00:00, 3622.28it/s]\n"
     ]
    },
    {
     "name": "stdout",
     "output_type": "stream",
     "text": [
      "Predictive likelihood: -10157.682310939474\n",
      "Computing predictive likelihood score on held out documents...\n"
     ]
    },
    {
     "name": "stderr",
     "output_type": "stream",
     "text": [
      "100%|█████████████████████████████████████████████| 12/12 [00:00<00:00, 5752.19it/s]\n"
     ]
    },
    {
     "name": "stdout",
     "output_type": "stream",
     "text": [
      "Predictive likelihood: -9985.283182211044\n",
      "Computing predictive likelihood score on held out documents...\n"
     ]
    },
    {
     "name": "stderr",
     "output_type": "stream",
     "text": [
      "100%|█████████████████████████████████████████████| 12/12 [00:00<00:00, 5361.85it/s]"
     ]
    },
    {
     "name": "stdout",
     "output_type": "stream",
     "text": [
      "Predictive likelihood: -9906.361364778308\n"
     ]
    },
    {
     "name": "stderr",
     "output_type": "stream",
     "text": [
      "\n"
     ]
    },
    {
     "name": "stdout",
     "output_type": "stream",
     "text": [
      "Computing predictive likelihood score on held out documents...\n"
     ]
    },
    {
     "name": "stderr",
     "output_type": "stream",
     "text": [
      "100%|█████████████████████████████████████████████| 12/12 [00:00<00:00, 3981.62it/s]\n"
     ]
    },
    {
     "name": "stdout",
     "output_type": "stream",
     "text": [
      "Predictive likelihood: -10009.858505745464\n",
      "Computing predictive likelihood score on held out documents...\n"
     ]
    },
    {
     "name": "stderr",
     "output_type": "stream",
     "text": [
      "100%|█████████████████████████████████████████████| 12/12 [00:00<00:00, 4998.18it/s]\n"
     ]
    },
    {
     "name": "stdout",
     "output_type": "stream",
     "text": [
      "Predictive likelihood: -10191.233699097033\n",
      "Computing predictive likelihood score on held out documents...\n"
     ]
    },
    {
     "name": "stderr",
     "output_type": "stream",
     "text": [
      "100%|█████████████████████████████████████████████| 12/12 [00:00<00:00, 4315.13it/s]\n"
     ]
    },
    {
     "name": "stdout",
     "output_type": "stream",
     "text": [
      "Predictive likelihood: -10274.373040795304\n",
      "Computing predictive likelihood score on held out documents...\n"
     ]
    },
    {
     "name": "stderr",
     "output_type": "stream",
     "text": [
      "100%|█████████████████████████████████████████████| 12/12 [00:00<00:00, 3746.59it/s]\n"
     ]
    },
    {
     "name": "stdout",
     "output_type": "stream",
     "text": [
      "Predictive likelihood: -10288.242536695992\n",
      "Computing predictive likelihood score on held out documents...\n"
     ]
    },
    {
     "name": "stderr",
     "output_type": "stream",
     "text": [
      "100%|█████████████████████████████████████████████| 12/12 [00:00<00:00, 3758.34it/s]\n"
     ]
    },
    {
     "name": "stdout",
     "output_type": "stream",
     "text": [
      "Predictive likelihood: -10287.607427437135\n",
      "Computing predictive likelihood score on held out documents...\n"
     ]
    },
    {
     "name": "stderr",
     "output_type": "stream",
     "text": [
      "100%|█████████████████████████████████████████████| 12/12 [00:00<00:00, 3579.78it/s]\n"
     ]
    },
    {
     "name": "stdout",
     "output_type": "stream",
     "text": [
      "Predictive likelihood: -10264.712675764022\n",
      "Computing predictive likelihood score on held out documents...\n"
     ]
    },
    {
     "name": "stderr",
     "output_type": "stream",
     "text": [
      "100%|█████████████████████████████████████████████| 12/12 [00:00<00:00, 3873.15it/s]\n"
     ]
    },
    {
     "name": "stdout",
     "output_type": "stream",
     "text": [
      "Predictive likelihood: -10265.207586230334\n",
      "Computing predictive likelihood score on held out documents...\n"
     ]
    },
    {
     "name": "stderr",
     "output_type": "stream",
     "text": [
      "100%|█████████████████████████████████████████████| 12/12 [00:00<00:00, 3208.49it/s]\n"
     ]
    },
    {
     "name": "stdout",
     "output_type": "stream",
     "text": [
      "Predictive likelihood: -10242.267955251165\n",
      "Computing predictive likelihood score on held out documents...\n"
     ]
    },
    {
     "name": "stderr",
     "output_type": "stream",
     "text": [
      "100%|█████████████████████████████████████████████| 12/12 [00:00<00:00, 4217.50it/s]\n"
     ]
    },
    {
     "name": "stdout",
     "output_type": "stream",
     "text": [
      "Predictive likelihood: -10157.687562293746\n",
      "Computing predictive likelihood score on held out documents...\n"
     ]
    },
    {
     "name": "stderr",
     "output_type": "stream",
     "text": [
      "100%|█████████████████████████████████████████████| 12/12 [00:00<00:00, 3701.40it/s]\n"
     ]
    },
    {
     "name": "stdout",
     "output_type": "stream",
     "text": [
      "Predictive likelihood: -9984.965802205415\n",
      "Computing predictive likelihood score on held out documents...\n"
     ]
    },
    {
     "name": "stderr",
     "output_type": "stream",
     "text": [
      "100%|█████████████████████████████████████████████| 12/12 [00:00<00:00, 4819.19it/s]\n"
     ]
    },
    {
     "name": "stdout",
     "output_type": "stream",
     "text": [
      "Predictive likelihood: -9906.009169255118\n",
      "Computing predictive likelihood score on held out documents...\n"
     ]
    },
    {
     "name": "stderr",
     "output_type": "stream",
     "text": [
      "100%|█████████████████████████████████████████████| 12/12 [00:00<00:00, 3185.55it/s]"
     ]
    },
    {
     "name": "stdout",
     "output_type": "stream",
     "text": [
      "Predictive likelihood: -10009.58522979068\n"
     ]
    },
    {
     "name": "stderr",
     "output_type": "stream",
     "text": [
      "\n"
     ]
    },
    {
     "name": "stdout",
     "output_type": "stream",
     "text": [
      "Computing predictive likelihood score on held out documents...\n"
     ]
    },
    {
     "name": "stderr",
     "output_type": "stream",
     "text": [
      "100%|█████████████████████████████████████████████| 12/12 [00:00<00:00, 4171.02it/s]\n"
     ]
    },
    {
     "name": "stdout",
     "output_type": "stream",
     "text": [
      "Predictive likelihood: -10191.188848566797\n",
      "Computing predictive likelihood score on held out documents...\n"
     ]
    },
    {
     "name": "stderr",
     "output_type": "stream",
     "text": [
      "100%|█████████████████████████████████████████████| 12/12 [00:00<00:00, 3408.16it/s]\n"
     ]
    },
    {
     "name": "stdout",
     "output_type": "stream",
     "text": [
      "Predictive likelihood: -10274.321380914153\n",
      "Computing predictive likelihood score on held out documents...\n"
     ]
    },
    {
     "name": "stderr",
     "output_type": "stream",
     "text": [
      "100%|█████████████████████████████████████████████| 12/12 [00:00<00:00, 4310.32it/s]\n"
     ]
    },
    {
     "name": "stdout",
     "output_type": "stream",
     "text": [
      "Predictive likelihood: -10288.258913933514\n",
      "Computing predictive likelihood score on held out documents...\n"
     ]
    },
    {
     "name": "stderr",
     "output_type": "stream",
     "text": [
      "100%|█████████████████████████████████████████████| 12/12 [00:00<00:00, 4249.19it/s]\n"
     ]
    },
    {
     "name": "stdout",
     "output_type": "stream",
     "text": [
      "Predictive likelihood: -10287.607427437135\n",
      "Computing predictive likelihood score on held out documents...\n"
     ]
    },
    {
     "name": "stderr",
     "output_type": "stream",
     "text": [
      "100%|█████████████████████████████████████████████| 12/12 [00:00<00:00, 3628.55it/s]\n"
     ]
    },
    {
     "name": "stdout",
     "output_type": "stream",
     "text": [
      "Predictive likelihood: -10264.712675764022\n",
      "Computing predictive likelihood score on held out documents...\n"
     ]
    },
    {
     "name": "stderr",
     "output_type": "stream",
     "text": [
      "100%|█████████████████████████████████████████████| 12/12 [00:00<00:00, 5192.04it/s]\n"
     ]
    },
    {
     "name": "stdout",
     "output_type": "stream",
     "text": [
      "Predictive likelihood: -10265.247693970012\n",
      "Computing predictive likelihood score on held out documents...\n"
     ]
    },
    {
     "name": "stderr",
     "output_type": "stream",
     "text": [
      "100%|█████████████████████████████████████████████| 12/12 [00:00<00:00, 3727.99it/s]\n"
     ]
    },
    {
     "name": "stdout",
     "output_type": "stream",
     "text": [
      "Predictive likelihood: -10242.201353239634\n",
      "Computing predictive likelihood score on held out documents...\n"
     ]
    },
    {
     "name": "stderr",
     "output_type": "stream",
     "text": [
      "100%|█████████████████████████████████████████████| 12/12 [00:00<00:00, 4265.76it/s]\n"
     ]
    },
    {
     "name": "stdout",
     "output_type": "stream",
     "text": [
      "Predictive likelihood: -10157.695554069078\n",
      "Computing predictive likelihood score on held out documents...\n"
     ]
    },
    {
     "name": "stderr",
     "output_type": "stream",
     "text": [
      "100%|█████████████████████████████████████████████| 12/12 [00:00<00:00, 3674.38it/s]\n"
     ]
    },
    {
     "name": "stdout",
     "output_type": "stream",
     "text": [
      "Predictive likelihood: -9984.679556085584\n",
      "Computing predictive likelihood score on held out documents...\n"
     ]
    },
    {
     "name": "stderr",
     "output_type": "stream",
     "text": [
      "100%|█████████████████████████████████████████████| 12/12 [00:00<00:00, 4291.95it/s]\n"
     ]
    },
    {
     "name": "stdout",
     "output_type": "stream",
     "text": [
      "Predictive likelihood: -9905.705285079513\n",
      "Computing predictive likelihood score on held out documents...\n"
     ]
    },
    {
     "name": "stderr",
     "output_type": "stream",
     "text": [
      "100%|█████████████████████████████████████████████| 12/12 [00:00<00:00, 4707.41it/s]\n"
     ]
    },
    {
     "name": "stdout",
     "output_type": "stream",
     "text": [
      "Predictive likelihood: -10009.34769831988\n",
      "Computing predictive likelihood score on held out documents...\n"
     ]
    },
    {
     "name": "stderr",
     "output_type": "stream",
     "text": [
      "100%|█████████████████████████████████████████████| 12/12 [00:00<00:00, 3486.30it/s]\n"
     ]
    },
    {
     "name": "stdout",
     "output_type": "stream",
     "text": [
      "Predictive likelihood: -10191.155926162666\n",
      "Computing predictive likelihood score on held out documents...\n"
     ]
    },
    {
     "name": "stderr",
     "output_type": "stream",
     "text": [
      "100%|█████████████████████████████████████████████| 12/12 [00:00<00:00, 3875.84it/s]\n"
     ]
    },
    {
     "name": "stdout",
     "output_type": "stream",
     "text": [
      "Predictive likelihood: -10274.26841821197\n",
      "Computing predictive likelihood score on held out documents...\n"
     ]
    },
    {
     "name": "stderr",
     "output_type": "stream",
     "text": [
      "100%|█████████████████████████████████████████████| 12/12 [00:00<00:00, 3635.37it/s]\n"
     ]
    },
    {
     "name": "stdout",
     "output_type": "stream",
     "text": [
      "Predictive likelihood: -10288.273551905295\n",
      "Computing predictive likelihood score on held out documents...\n"
     ]
    },
    {
     "name": "stderr",
     "output_type": "stream",
     "text": [
      "100%|█████████████████████████████████████████████| 12/12 [00:00<00:00, 4685.50it/s]\n"
     ]
    },
    {
     "name": "stdout",
     "output_type": "stream",
     "text": [
      "Predictive likelihood: -10287.607427437135\n",
      "Computing predictive likelihood score on held out documents...\n"
     ]
    },
    {
     "name": "stderr",
     "output_type": "stream",
     "text": [
      "100%|█████████████████████████████████████████████| 12/12 [00:00<00:00, 3855.94it/s]\n"
     ]
    },
    {
     "name": "stdout",
     "output_type": "stream",
     "text": [
      "Predictive likelihood: -10264.712675764022\n",
      "Computing predictive likelihood score on held out documents...\n"
     ]
    },
    {
     "name": "stderr",
     "output_type": "stream",
     "text": [
      "100%|█████████████████████████████████████████████| 12/12 [00:00<00:00, 4180.02it/s]\n"
     ]
    },
    {
     "name": "stdout",
     "output_type": "stream",
     "text": [
      "Predictive likelihood: -10265.286814611316\n",
      "Computing predictive likelihood score on held out documents...\n"
     ]
    },
    {
     "name": "stderr",
     "output_type": "stream",
     "text": [
      "100%|█████████████████████████████████████████████| 12/12 [00:00<00:00, 3319.59it/s]\n"
     ]
    },
    {
     "name": "stdout",
     "output_type": "stream",
     "text": [
      "Predictive likelihood: -10242.138896515511\n",
      "Computing predictive likelihood score on held out documents...\n"
     ]
    },
    {
     "name": "stderr",
     "output_type": "stream",
     "text": [
      "100%|█████████████████████████████████████████████| 12/12 [00:00<00:00, 4635.02it/s]\n"
     ]
    },
    {
     "name": "stdout",
     "output_type": "stream",
     "text": [
      "Predictive likelihood: -10157.705861710885\n",
      "Computing predictive likelihood score on held out documents...\n"
     ]
    },
    {
     "name": "stderr",
     "output_type": "stream",
     "text": [
      "100%|█████████████████████████████████████████████| 12/12 [00:00<00:00, 4449.40it/s]\n"
     ]
    },
    {
     "name": "stdout",
     "output_type": "stream",
     "text": [
      "Predictive likelihood: -9984.421605831129\n",
      "Computing predictive likelihood score on held out documents...\n"
     ]
    },
    {
     "name": "stderr",
     "output_type": "stream",
     "text": [
      "100%|█████████████████████████████████████████████| 12/12 [00:00<00:00, 3959.07it/s]\n"
     ]
    },
    {
     "name": "stdout",
     "output_type": "stream",
     "text": [
      "Predictive likelihood: -9905.445471452671\n",
      "Computing predictive likelihood score on held out documents...\n"
     ]
    },
    {
     "name": "stderr",
     "output_type": "stream",
     "text": [
      "100%|█████████████████████████████████████████████| 12/12 [00:00<00:00, 3976.27it/s]\n"
     ]
    },
    {
     "name": "stdout",
     "output_type": "stream",
     "text": [
      "Predictive likelihood: -10009.141810111934\n",
      "Computing predictive likelihood score on held out documents...\n"
     ]
    },
    {
     "name": "stderr",
     "output_type": "stream",
     "text": [
      "100%|█████████████████████████████████████████████| 12/12 [00:00<00:00, 3822.85it/s]\n"
     ]
    },
    {
     "name": "stdout",
     "output_type": "stream",
     "text": [
      "Predictive likelihood: -10191.133802407487\n",
      "Computing predictive likelihood score on held out documents...\n"
     ]
    },
    {
     "name": "stderr",
     "output_type": "stream",
     "text": [
      "100%|█████████████████████████████████████████████| 12/12 [00:00<00:00, 4670.72it/s]\n"
     ]
    },
    {
     "name": "stdout",
     "output_type": "stream",
     "text": [
      "Predictive likelihood: -10274.21508030816\n",
      "Computing predictive likelihood score on held out documents...\n"
     ]
    },
    {
     "name": "stderr",
     "output_type": "stream",
     "text": [
      "100%|█████████████████████████████████████████████| 12/12 [00:00<00:00, 4792.58it/s]\n"
     ]
    },
    {
     "name": "stdout",
     "output_type": "stream",
     "text": [
      "Predictive likelihood: -10288.286614127042\n",
      "Computing predictive likelihood score on held out documents...\n"
     ]
    },
    {
     "name": "stderr",
     "output_type": "stream",
     "text": [
      "100%|█████████████████████████████████████████████| 12/12 [00:00<00:00, 3348.97it/s]\n"
     ]
    },
    {
     "name": "stdout",
     "output_type": "stream",
     "text": [
      "Predictive likelihood: -10287.607427437135\n",
      "Computing predictive likelihood score on held out documents...\n"
     ]
    },
    {
     "name": "stderr",
     "output_type": "stream",
     "text": [
      "100%|█████████████████████████████████████████████| 12/12 [00:00<00:00, 4208.68it/s]\n"
     ]
    },
    {
     "name": "stdout",
     "output_type": "stream",
     "text": [
      "Predictive likelihood: -10264.712675764022\n",
      "Computing predictive likelihood score on held out documents...\n"
     ]
    },
    {
     "name": "stderr",
     "output_type": "stream",
     "text": [
      "100%|█████████████████████████████████████████████| 12/12 [00:00<00:00, 3768.75it/s]\n"
     ]
    },
    {
     "name": "stdout",
     "output_type": "stream",
     "text": [
      "Predictive likelihood: -10265.324992864735\n",
      "Computing predictive likelihood score on held out documents...\n"
     ]
    },
    {
     "name": "stderr",
     "output_type": "stream",
     "text": [
      "100%|█████████████████████████████████████████████| 12/12 [00:00<00:00, 4001.24it/s]\n"
     ]
    },
    {
     "name": "stdout",
     "output_type": "stream",
     "text": [
      "Predictive likelihood: -10242.080458971639\n",
      "Computing predictive likelihood score on held out documents...\n"
     ]
    },
    {
     "name": "stderr",
     "output_type": "stream",
     "text": [
      "100%|█████████████████████████████████████████████| 12/12 [00:00<00:00, 3799.76it/s]\n"
     ]
    },
    {
     "name": "stdout",
     "output_type": "stream",
     "text": [
      "Predictive likelihood: -10157.71814853115\n",
      "Computing predictive likelihood score on held out documents...\n"
     ]
    },
    {
     "name": "stderr",
     "output_type": "stream",
     "text": [
      "100%|█████████████████████████████████████████████| 12/12 [00:00<00:00, 4647.43it/s]\n"
     ]
    },
    {
     "name": "stdout",
     "output_type": "stream",
     "text": [
      "Predictive likelihood: -9984.18940691158\n",
      "Computing predictive likelihood score on held out documents...\n"
     ]
    },
    {
     "name": "stderr",
     "output_type": "stream",
     "text": [
      "100%|█████████████████████████████████████████████| 12/12 [00:00<00:00, 3802.06it/s]\n"
     ]
    },
    {
     "name": "stdout",
     "output_type": "stream",
     "text": [
      "Predictive likelihood: -9905.225758025916\n",
      "Computing predictive likelihood score on held out documents...\n"
     ]
    },
    {
     "name": "stderr",
     "output_type": "stream",
     "text": [
      "100%|█████████████████████████████████████████████| 12/12 [00:00<00:00, 4682.45it/s]\n"
     ]
    },
    {
     "name": "stdout",
     "output_type": "stream",
     "text": [
      "Predictive likelihood: -10008.963867736264\n",
      "Computing predictive likelihood score on held out documents...\n"
     ]
    },
    {
     "name": "stderr",
     "output_type": "stream",
     "text": [
      "100%|█████████████████████████████████████████████| 12/12 [00:00<00:00, 4400.77it/s]\n"
     ]
    },
    {
     "name": "stdout",
     "output_type": "stream",
     "text": [
      "Predictive likelihood: -10191.121443877935\n",
      "Computing predictive likelihood score on held out documents...\n"
     ]
    },
    {
     "name": "stderr",
     "output_type": "stream",
     "text": [
      "100%|█████████████████████████████████████████████| 12/12 [00:00<00:00, 3311.07it/s]\n"
     ]
    },
    {
     "name": "stdout",
     "output_type": "stream",
     "text": [
      "Predictive likelihood: -10274.162212588148\n",
      "Computing predictive likelihood score on held out documents...\n"
     ]
    },
    {
     "name": "stderr",
     "output_type": "stream",
     "text": [
      "100%|█████████████████████████████████████████████| 12/12 [00:00<00:00, 4613.77it/s]\n"
     ]
    },
    {
     "name": "stdout",
     "output_type": "stream",
     "text": [
      "Predictive likelihood: -10288.298249372878\n",
      "Computing predictive likelihood score on held out documents...\n"
     ]
    },
    {
     "name": "stderr",
     "output_type": "stream",
     "text": [
      "100%|█████████████████████████████████████████████| 12/12 [00:00<00:00, 3648.28it/s]\n"
     ]
    },
    {
     "name": "stdout",
     "output_type": "stream",
     "text": [
      "Predictive likelihood: -10287.607427437135\n",
      "Computing predictive likelihood score on held out documents...\n"
     ]
    },
    {
     "name": "stderr",
     "output_type": "stream",
     "text": [
      "100%|█████████████████████████████████████████████| 12/12 [00:00<00:00, 4118.12it/s]\n"
     ]
    },
    {
     "name": "stdout",
     "output_type": "stream",
     "text": [
      "Predictive likelihood: -10264.712675764022\n",
      "Computing predictive likelihood score on held out documents...\n"
     ]
    },
    {
     "name": "stderr",
     "output_type": "stream",
     "text": [
      "100%|█████████████████████████████████████████████| 12/12 [00:00<00:00, 3909.86it/s]\n"
     ]
    },
    {
     "name": "stdout",
     "output_type": "stream",
     "text": [
      "Predictive likelihood: -10265.362257074015\n",
      "Computing predictive likelihood score on held out documents...\n"
     ]
    },
    {
     "name": "stderr",
     "output_type": "stream",
     "text": [
      "100%|█████████████████████████████████████████████| 12/12 [00:00<00:00, 4209.39it/s]\n"
     ]
    },
    {
     "name": "stdout",
     "output_type": "stream",
     "text": [
      "Predictive likelihood: -10242.025863235014\n",
      "Computing predictive likelihood score on held out documents...\n"
     ]
    },
    {
     "name": "stderr",
     "output_type": "stream",
     "text": [
      "100%|█████████████████████████████████████████████| 12/12 [00:00<00:00, 4112.40it/s]\n"
     ]
    },
    {
     "name": "stdout",
     "output_type": "stream",
     "text": [
      "Predictive likelihood: -10157.732157743798\n",
      "Computing predictive likelihood score on held out documents...\n"
     ]
    },
    {
     "name": "stderr",
     "output_type": "stream",
     "text": [
      "100%|█████████████████████████████████████████████| 12/12 [00:00<00:00, 3731.31it/s]\n"
     ]
    },
    {
     "name": "stdout",
     "output_type": "stream",
     "text": [
      "Predictive likelihood: -9983.980661710104\n",
      "Computing predictive likelihood score on held out documents...\n"
     ]
    },
    {
     "name": "stderr",
     "output_type": "stream",
     "text": [
      "100%|█████████████████████████████████████████████| 12/12 [00:00<00:00, 4305.90it/s]\n"
     ]
    },
    {
     "name": "stdout",
     "output_type": "stream",
     "text": [
      "Predictive likelihood: -9905.042393011016\n",
      "Computing predictive likelihood score on held out documents...\n"
     ]
    },
    {
     "name": "stderr",
     "output_type": "stream",
     "text": [
      "100%|█████████████████████████████████████████████| 12/12 [00:00<00:00, 3861.27it/s]\n"
     ]
    },
    {
     "name": "stdout",
     "output_type": "stream",
     "text": [
      "Predictive likelihood: -10008.810582834592\n",
      "Computing predictive likelihood score on held out documents...\n"
     ]
    },
    {
     "name": "stderr",
     "output_type": "stream",
     "text": [
      "100%|█████████████████████████████████████████████| 12/12 [00:00<00:00, 4228.48it/s]\n"
     ]
    },
    {
     "name": "stdout",
     "output_type": "stream",
     "text": [
      "Predictive likelihood: -10191.117894233408\n",
      "Computing predictive likelihood score on held out documents...\n"
     ]
    },
    {
     "name": "stderr",
     "output_type": "stream",
     "text": [
      "100%|█████████████████████████████████████████████| 12/12 [00:00<00:00, 3606.97it/s]\n"
     ]
    },
    {
     "name": "stdout",
     "output_type": "stream",
     "text": [
      "Predictive likelihood: -10274.1105481383\n",
      "Computing predictive likelihood score on held out documents...\n"
     ]
    },
    {
     "name": "stderr",
     "output_type": "stream",
     "text": [
      "100%|█████████████████████████████████████████████| 12/12 [00:00<00:00, 4154.83it/s]\n"
     ]
    },
    {
     "name": "stdout",
     "output_type": "stream",
     "text": [
      "Predictive likelihood: -10288.308592864769\n",
      "Computing predictive likelihood score on held out documents...\n"
     ]
    },
    {
     "name": "stderr",
     "output_type": "stream",
     "text": [
      "100%|█████████████████████████████████████████████| 12/12 [00:00<00:00, 3575.71it/s]\n"
     ]
    },
    {
     "name": "stdout",
     "output_type": "stream",
     "text": [
      "Predictive likelihood: -10287.607427437135\n",
      "Computing predictive likelihood score on held out documents...\n"
     ]
    },
    {
     "name": "stderr",
     "output_type": "stream",
     "text": [
      "100%|█████████████████████████████████████████████| 12/12 [00:00<00:00, 4124.87it/s]\n"
     ]
    },
    {
     "name": "stdout",
     "output_type": "stream",
     "text": [
      "Predictive likelihood: -10264.712675764022\n",
      "Computing predictive likelihood score on held out documents...\n"
     ]
    },
    {
     "name": "stderr",
     "output_type": "stream",
     "text": [
      "100%|█████████████████████████████████████████████| 12/12 [00:00<00:00, 4358.85it/s]\n"
     ]
    },
    {
     "name": "stdout",
     "output_type": "stream",
     "text": [
      "Predictive likelihood: -10265.398621681046\n",
      "Computing predictive likelihood score on held out documents...\n"
     ]
    },
    {
     "name": "stderr",
     "output_type": "stream",
     "text": [
      "100%|█████████████████████████████████████████████| 12/12 [00:00<00:00, 4186.98it/s]\n"
     ]
    },
    {
     "name": "stdout",
     "output_type": "stream",
     "text": [
      "Predictive likelihood: -10241.974898117069\n",
      "Computing predictive likelihood score on held out documents...\n"
     ]
    },
    {
     "name": "stderr",
     "output_type": "stream",
     "text": [
      "100%|█████████████████████████████████████████████| 12/12 [00:00<00:00, 3682.17it/s]\n"
     ]
    },
    {
     "name": "stdout",
     "output_type": "stream",
     "text": [
      "Predictive likelihood: -10157.747702724768\n",
      "Computing predictive likelihood score on held out documents...\n"
     ]
    },
    {
     "name": "stderr",
     "output_type": "stream",
     "text": [
      "100%|█████████████████████████████████████████████| 12/12 [00:00<00:00, 3653.04it/s]\n"
     ]
    },
    {
     "name": "stdout",
     "output_type": "stream",
     "text": [
      "Predictive likelihood: -9983.792460745652\n",
      "Computing predictive likelihood score on held out documents...\n"
     ]
    },
    {
     "name": "stderr",
     "output_type": "stream",
     "text": [
      "100%|█████████████████████████████████████████████| 12/12 [00:00<00:00, 4195.70it/s]\n"
     ]
    },
    {
     "name": "stdout",
     "output_type": "stream",
     "text": [
      "Predictive likelihood: -9904.89181226449\n",
      "Computing predictive likelihood score on held out documents...\n"
     ]
    },
    {
     "name": "stderr",
     "output_type": "stream",
     "text": [
      "100%|█████████████████████████████████████████████| 12/12 [00:00<00:00, 3236.35it/s]\n"
     ]
    },
    {
     "name": "stdout",
     "output_type": "stream",
     "text": [
      "Predictive likelihood: -10008.679060266526\n",
      "Computing predictive likelihood score on held out documents...\n"
     ]
    },
    {
     "name": "stderr",
     "output_type": "stream",
     "text": [
      "100%|█████████████████████████████████████████████| 12/12 [00:00<00:00, 3014.95it/s]\n"
     ]
    },
    {
     "name": "stdout",
     "output_type": "stream",
     "text": [
      "Predictive likelihood: -10191.126433507201\n",
      "Computing predictive likelihood score on held out documents...\n"
     ]
    },
    {
     "name": "stderr",
     "output_type": "stream",
     "text": [
      "100%|█████████████████████████████████████████████| 12/12 [00:00<00:00, 5558.44it/s]\n"
     ]
    },
    {
     "name": "stdout",
     "output_type": "stream",
     "text": [
      "Predictive likelihood: -10274.060692390443\n",
      "Computing predictive likelihood score on held out documents...\n"
     ]
    },
    {
     "name": "stderr",
     "output_type": "stream",
     "text": [
      "100%|█████████████████████████████████████████████| 12/12 [00:00<00:00, 3396.43it/s]\n"
     ]
    },
    {
     "name": "stdout",
     "output_type": "stream",
     "text": [
      "Predictive likelihood: -10288.317767405142\n",
      "Computing predictive likelihood score on held out documents...\n"
     ]
    },
    {
     "name": "stderr",
     "output_type": "stream",
     "text": [
      "100%|█████████████████████████████████████████████| 12/12 [00:00<00:00, 3610.07it/s]\n"
     ]
    },
    {
     "name": "stdout",
     "output_type": "stream",
     "text": [
      "Predictive likelihood: -10287.607427437135\n",
      "Computing predictive likelihood score on held out documents...\n"
     ]
    },
    {
     "name": "stderr",
     "output_type": "stream",
     "text": [
      "100%|█████████████████████████████████████████████| 12/12 [00:00<00:00, 4337.07it/s]\n"
     ]
    },
    {
     "name": "stdout",
     "output_type": "stream",
     "text": [
      "Predictive likelihood: -10264.712675764022\n",
      "Computing predictive likelihood score on held out documents...\n"
     ]
    },
    {
     "name": "stderr",
     "output_type": "stream",
     "text": [
      "100%|█████████████████████████████████████████████| 12/12 [00:00<00:00, 3557.51it/s]\n"
     ]
    },
    {
     "name": "stdout",
     "output_type": "stream",
     "text": [
      "Predictive likelihood: -10265.43408968689\n",
      "Computing predictive likelihood score on held out documents...\n"
     ]
    },
    {
     "name": "stderr",
     "output_type": "stream",
     "text": [
      "100%|█████████████████████████████████████████████| 12/12 [00:00<00:00, 4384.67it/s]\n"
     ]
    },
    {
     "name": "stdout",
     "output_type": "stream",
     "text": [
      "Predictive likelihood: -10241.92733157916\n",
      "Computing predictive likelihood score on held out documents...\n"
     ]
    },
    {
     "name": "stderr",
     "output_type": "stream",
     "text": [
      "100%|█████████████████████████████████████████████| 12/12 [00:00<00:00, 4141.84it/s]\n"
     ]
    },
    {
     "name": "stdout",
     "output_type": "stream",
     "text": [
      "Predictive likelihood: -10157.764657807038\n",
      "Computing predictive likelihood score on held out documents...\n"
     ]
    },
    {
     "name": "stderr",
     "output_type": "stream",
     "text": [
      "100%|█████████████████████████████████████████████| 12/12 [00:00<00:00, 4196.05it/s]\n"
     ]
    },
    {
     "name": "stdout",
     "output_type": "stream",
     "text": [
      "Predictive likelihood: -9983.62351682504\n",
      "Computing predictive likelihood score on held out documents...\n"
     ]
    },
    {
     "name": "stderr",
     "output_type": "stream",
     "text": [
      "100%|█████████████████████████████████████████████| 12/12 [00:00<00:00, 3685.41it/s]\n"
     ]
    },
    {
     "name": "stdout",
     "output_type": "stream",
     "text": [
      "Predictive likelihood: -9904.77060605317\n",
      "Computing predictive likelihood score on held out documents...\n"
     ]
    },
    {
     "name": "stderr",
     "output_type": "stream",
     "text": [
      "100%|█████████████████████████████████████████████| 12/12 [00:00<00:00, 4649.15it/s]\n"
     ]
    },
    {
     "name": "stdout",
     "output_type": "stream",
     "text": [
      "Predictive likelihood: -10008.56676241488\n",
      "Computing predictive likelihood score on held out documents...\n"
     ]
    },
    {
     "name": "stderr",
     "output_type": "stream",
     "text": [
      "100%|█████████████████████████████████████████████| 12/12 [00:00<00:00, 3568.10it/s]\n"
     ]
    },
    {
     "name": "stdout",
     "output_type": "stream",
     "text": [
      "Predictive likelihood: -10191.141728484403\n",
      "Computing predictive likelihood score on held out documents...\n"
     ]
    },
    {
     "name": "stderr",
     "output_type": "stream",
     "text": [
      "100%|█████████████████████████████████████████████| 12/12 [00:00<00:00, 4406.94it/s]\n"
     ]
    },
    {
     "name": "stdout",
     "output_type": "stream",
     "text": [
      "Predictive likelihood: -10274.013121119295\n",
      "Computing predictive likelihood score on held out documents...\n"
     ]
    },
    {
     "name": "stderr",
     "output_type": "stream",
     "text": [
      "100%|█████████████████████████████████████████████| 12/12 [00:00<00:00, 3774.68it/s]\n"
     ]
    },
    {
     "name": "stdout",
     "output_type": "stream",
     "text": [
      "Predictive likelihood: -10288.32588443906\n",
      "Computing predictive likelihood score on held out documents...\n"
     ]
    },
    {
     "name": "stderr",
     "output_type": "stream",
     "text": [
      "100%|█████████████████████████████████████████████| 12/12 [00:00<00:00, 4188.72it/s]\n"
     ]
    },
    {
     "name": "stdout",
     "output_type": "stream",
     "text": [
      "Predictive likelihood: -10287.607427437135\n",
      "Computing predictive likelihood score on held out documents...\n"
     ]
    },
    {
     "name": "stderr",
     "output_type": "stream",
     "text": [
      "100%|█████████████████████████████████████████████| 12/12 [00:00<00:00, 3965.93it/s]\n"
     ]
    },
    {
     "name": "stdout",
     "output_type": "stream",
     "text": [
      "Predictive likelihood: -10264.712675764022\n",
      "Computing predictive likelihood score on held out documents...\n"
     ]
    },
    {
     "name": "stderr",
     "output_type": "stream",
     "text": [
      "100%|█████████████████████████████████████████████| 12/12 [00:00<00:00, 3897.45it/s]\n"
     ]
    },
    {
     "name": "stdout",
     "output_type": "stream",
     "text": [
      "Predictive likelihood: -10265.468655143566\n",
      "Computing predictive likelihood score on held out documents...\n"
     ]
    },
    {
     "name": "stderr",
     "output_type": "stream",
     "text": [
      "100%|█████████████████████████████████████████████| 12/12 [00:00<00:00, 4098.00it/s]\n"
     ]
    },
    {
     "name": "stdout",
     "output_type": "stream",
     "text": [
      "Predictive likelihood: -10241.882920315886\n",
      "Computing predictive likelihood score on held out documents...\n"
     ]
    },
    {
     "name": "stderr",
     "output_type": "stream",
     "text": [
      "100%|█████████████████████████████████████████████| 12/12 [00:00<00:00, 3313.25it/s]\n"
     ]
    },
    {
     "name": "stdout",
     "output_type": "stream",
     "text": [
      "Predictive likelihood: -10157.782948392682\n",
      "Computing predictive likelihood score on held out documents...\n"
     ]
    },
    {
     "name": "stderr",
     "output_type": "stream",
     "text": [
      "100%|█████████████████████████████████████████████| 12/12 [00:00<00:00, 3714.79it/s]"
     ]
    },
    {
     "name": "stdout",
     "output_type": "stream",
     "text": [
      "Predictive likelihood: -9983.472152343777\n"
     ]
    },
    {
     "name": "stderr",
     "output_type": "stream",
     "text": [
      "\n"
     ]
    },
    {
     "name": "stdout",
     "output_type": "stream",
     "text": [
      "Computing predictive likelihood score on held out documents...\n"
     ]
    },
    {
     "name": "stderr",
     "output_type": "stream",
     "text": [
      "100%|█████████████████████████████████████████████| 12/12 [00:00<00:00, 4159.30it/s]\n"
     ]
    },
    {
     "name": "stdout",
     "output_type": "stream",
     "text": [
      "Predictive likelihood: -9904.675533867841\n",
      "Computing predictive likelihood score on held out documents...\n"
     ]
    },
    {
     "name": "stderr",
     "output_type": "stream",
     "text": [
      "100%|█████████████████████████████████████████████| 12/12 [00:00<00:00, 4241.67it/s]\n"
     ]
    },
    {
     "name": "stdout",
     "output_type": "stream",
     "text": [
      "Predictive likelihood: -10008.471463104583\n",
      "Computing predictive likelihood score on held out documents...\n"
     ]
    },
    {
     "name": "stderr",
     "output_type": "stream",
     "text": [
      "100%|█████████████████████████████████████████████| 12/12 [00:00<00:00, 4097.00it/s]\n"
     ]
    },
    {
     "name": "stdout",
     "output_type": "stream",
     "text": [
      "Predictive likelihood: -10191.16300941476\n",
      "Computing predictive likelihood score on held out documents...\n"
     ]
    },
    {
     "name": "stderr",
     "output_type": "stream",
     "text": [
      "100%|█████████████████████████████████████████████| 12/12 [00:00<00:00, 3885.11it/s]"
     ]
    },
    {
     "name": "stdout",
     "output_type": "stream",
     "text": [
      "Predictive likelihood: -10273.96818842185\n"
     ]
    },
    {
     "name": "stderr",
     "output_type": "stream",
     "text": [
      "\n"
     ]
    },
    {
     "name": "stdout",
     "output_type": "stream",
     "text": [
      "Computing predictive likelihood score on held out documents...\n"
     ]
    },
    {
     "name": "stderr",
     "output_type": "stream",
     "text": [
      "100%|█████████████████████████████████████████████| 12/12 [00:00<00:00, 3364.86it/s]\n"
     ]
    },
    {
     "name": "stdout",
     "output_type": "stream",
     "text": [
      "Predictive likelihood: -10288.333045042025\n",
      "Computing predictive likelihood score on held out documents...\n"
     ]
    },
    {
     "name": "stderr",
     "output_type": "stream",
     "text": [
      "100%|█████████████████████████████████████████████| 12/12 [00:00<00:00, 5131.17it/s]"
     ]
    },
    {
     "name": "stdout",
     "output_type": "stream",
     "text": [
      "Predictive likelihood: -10287.607427437135\n"
     ]
    },
    {
     "name": "stderr",
     "output_type": "stream",
     "text": [
      "\n"
     ]
    },
    {
     "name": "stdout",
     "output_type": "stream",
     "text": [
      "Computing predictive likelihood score on held out documents...\n"
     ]
    },
    {
     "name": "stderr",
     "output_type": "stream",
     "text": [
      "100%|█████████████████████████████████████████████| 12/12 [00:00<00:00, 3146.91it/s]\n"
     ]
    },
    {
     "name": "stdout",
     "output_type": "stream",
     "text": [
      "Predictive likelihood: -10264.712675764022\n",
      "Computing predictive likelihood score on held out documents...\n"
     ]
    },
    {
     "name": "stderr",
     "output_type": "stream",
     "text": [
      "100%|█████████████████████████████████████████████| 12/12 [00:00<00:00, 3721.10it/s]\n"
     ]
    },
    {
     "name": "stdout",
     "output_type": "stream",
     "text": [
      "Predictive likelihood: -10265.502305701772\n",
      "Computing predictive likelihood score on held out documents...\n"
     ]
    },
    {
     "name": "stderr",
     "output_type": "stream",
     "text": [
      "100%|█████████████████████████████████████████████| 12/12 [00:00<00:00, 4687.68it/s]\n"
     ]
    },
    {
     "name": "stdout",
     "output_type": "stream",
     "text": [
      "Predictive likelihood: -10241.841416798605\n",
      "Computing predictive likelihood score on held out documents...\n"
     ]
    },
    {
     "name": "stderr",
     "output_type": "stream",
     "text": [
      "100%|█████████████████████████████████████████████| 12/12 [00:00<00:00, 4057.04it/s]\n"
     ]
    },
    {
     "name": "stdout",
     "output_type": "stream",
     "text": [
      "Predictive likelihood: -10157.809531609597\n",
      "Computing predictive likelihood score on held out documents...\n"
     ]
    },
    {
     "name": "stderr",
     "output_type": "stream",
     "text": [
      "100%|█████████████████████████████████████████████| 12/12 [00:00<00:00, 3961.56it/s]\n"
     ]
    },
    {
     "name": "stdout",
     "output_type": "stream",
     "text": [
      "Predictive likelihood: -9983.336854352256\n",
      "Computing predictive likelihood score on held out documents...\n"
     ]
    },
    {
     "name": "stderr",
     "output_type": "stream",
     "text": [
      "100%|█████████████████████████████████████████████| 12/12 [00:00<00:00, 3792.60it/s]\n"
     ]
    },
    {
     "name": "stdout",
     "output_type": "stream",
     "text": [
      "Predictive likelihood: -9904.603557451292\n",
      "Computing predictive likelihood score on held out documents...\n"
     ]
    },
    {
     "name": "stderr",
     "output_type": "stream",
     "text": [
      "100%|█████████████████████████████████████████████| 12/12 [00:00<00:00, 4914.24it/s]\n"
     ]
    },
    {
     "name": "stdout",
     "output_type": "stream",
     "text": [
      "Predictive likelihood: -10008.391196732468\n",
      "Computing predictive likelihood score on held out documents...\n"
     ]
    },
    {
     "name": "stderr",
     "output_type": "stream",
     "text": [
      "100%|█████████████████████████████████████████████| 12/12 [00:00<00:00, 3257.29it/s]\n"
     ]
    },
    {
     "name": "stdout",
     "output_type": "stream",
     "text": [
      "Predictive likelihood: -10191.189547835123\n",
      "Computing predictive likelihood score on held out documents...\n"
     ]
    },
    {
     "name": "stderr",
     "output_type": "stream",
     "text": [
      "100%|█████████████████████████████████████████████| 12/12 [00:00<00:00, 4834.93it/s]\n"
     ]
    },
    {
     "name": "stdout",
     "output_type": "stream",
     "text": [
      "Predictive likelihood: -10273.926140723841\n",
      "Computing predictive likelihood score on held out documents...\n"
     ]
    },
    {
     "name": "stderr",
     "output_type": "stream",
     "text": [
      "100%|█████████████████████████████████████████████| 12/12 [00:00<00:00, 3415.09it/s]\n"
     ]
    },
    {
     "name": "stdout",
     "output_type": "stream",
     "text": [
      "Predictive likelihood: -10288.33934083596\n",
      "Computing predictive likelihood score on held out documents...\n"
     ]
    },
    {
     "name": "stderr",
     "output_type": "stream",
     "text": [
      "100%|█████████████████████████████████████████████| 12/12 [00:00<00:00, 3533.78it/s]\n"
     ]
    },
    {
     "name": "stdout",
     "output_type": "stream",
     "text": [
      "Predictive likelihood: -10287.607427437135\n",
      "Computing predictive likelihood score on held out documents...\n"
     ]
    },
    {
     "name": "stderr",
     "output_type": "stream",
     "text": [
      "100%|█████████████████████████████████████████████| 12/12 [00:00<00:00, 4229.91it/s]\n"
     ]
    },
    {
     "name": "stdout",
     "output_type": "stream",
     "text": [
      "Predictive likelihood: -10264.712675764022\n",
      "Computing predictive likelihood score on held out documents...\n"
     ]
    },
    {
     "name": "stderr",
     "output_type": "stream",
     "text": [
      "100%|█████████████████████████████████████████████| 12/12 [00:00<00:00, 3373.89it/s]\n"
     ]
    },
    {
     "name": "stdout",
     "output_type": "stream",
     "text": [
      "Predictive likelihood: -10265.535025229157\n",
      "Computing predictive likelihood score on held out documents...\n"
     ]
    },
    {
     "name": "stderr",
     "output_type": "stream",
     "text": [
      "100%|█████████████████████████████████████████████| 12/12 [00:00<00:00, 4040.76it/s]"
     ]
    },
    {
     "name": "stdout",
     "output_type": "stream",
     "text": [
      "Predictive likelihood: -10241.802573611187\n"
     ]
    },
    {
     "name": "stderr",
     "output_type": "stream",
     "text": [
      "\n"
     ]
    },
    {
     "name": "stdout",
     "output_type": "stream",
     "text": [
      "Computing predictive likelihood score on held out documents...\n"
     ]
    },
    {
     "name": "stderr",
     "output_type": "stream",
     "text": [
      "100%|█████████████████████████████████████████████| 12/12 [00:00<00:00, 5104.63it/s]\n"
     ]
    },
    {
     "name": "stdout",
     "output_type": "stream",
     "text": [
      "Predictive likelihood: -10157.836374500066\n",
      "Computing predictive likelihood score on held out documents...\n"
     ]
    },
    {
     "name": "stderr",
     "output_type": "stream",
     "text": [
      "100%|█████████████████████████████████████████████| 12/12 [00:00<00:00, 3799.76it/s]\n"
     ]
    },
    {
     "name": "stdout",
     "output_type": "stream",
     "text": [
      "Predictive likelihood: -9983.216262443651\n",
      "Computing predictive likelihood score on held out documents...\n"
     ]
    },
    {
     "name": "stderr",
     "output_type": "stream",
     "text": [
      "100%|█████████████████████████████████████████████| 12/12 [00:00<00:00, 4705.65it/s]\n"
     ]
    },
    {
     "name": "stdout",
     "output_type": "stream",
     "text": [
      "Predictive likelihood: -9904.551891952211\n",
      "Computing predictive likelihood score on held out documents...\n"
     ]
    },
    {
     "name": "stderr",
     "output_type": "stream",
     "text": [
      "100%|█████████████████████████████████████████████| 12/12 [00:00<00:00, 3463.27it/s]\n"
     ]
    },
    {
     "name": "stdout",
     "output_type": "stream",
     "text": [
      "Predictive likelihood: -10008.324211838224\n",
      "Computing predictive likelihood score on held out documents...\n"
     ]
    },
    {
     "name": "stderr",
     "output_type": "stream",
     "text": [
      "100%|█████████████████████████████████████████████| 12/12 [00:00<00:00, 3991.72it/s]\n"
     ]
    },
    {
     "name": "stdout",
     "output_type": "stream",
     "text": [
      "Predictive likelihood: -10191.220658256996\n",
      "Computing predictive likelihood score on held out documents...\n"
     ]
    },
    {
     "name": "stderr",
     "output_type": "stream",
     "text": [
      "100%|█████████████████████████████████████████████| 12/12 [00:00<00:00, 4188.37it/s]\n"
     ]
    },
    {
     "name": "stdout",
     "output_type": "stream",
     "text": [
      "Predictive likelihood: -10273.88713325971\n",
      "Computing predictive likelihood score on held out documents...\n"
     ]
    },
    {
     "name": "stderr",
     "output_type": "stream",
     "text": [
      "100%|█████████████████████████████████████████████| 12/12 [00:00<00:00, 3831.00it/s]\n"
     ]
    },
    {
     "name": "stdout",
     "output_type": "stream",
     "text": [
      "Predictive likelihood: -10288.344854835068\n",
      "Computing predictive likelihood score on held out documents...\n"
     ]
    },
    {
     "name": "stderr",
     "output_type": "stream",
     "text": [
      "100%|█████████████████████████████████████████████| 12/12 [00:00<00:00, 4308.85it/s]\n"
     ]
    },
    {
     "name": "stdout",
     "output_type": "stream",
     "text": [
      "Predictive likelihood: -10287.607427437135\n",
      "Computing predictive likelihood score on held out documents...\n"
     ]
    },
    {
     "name": "stderr",
     "output_type": "stream",
     "text": [
      "100%|█████████████████████████████████████████████| 12/12 [00:00<00:00, 3834.21it/s]\n"
     ]
    },
    {
     "name": "stdout",
     "output_type": "stream",
     "text": [
      "Predictive likelihood: -10264.712675764022\n",
      "Computing predictive likelihood score on held out documents...\n"
     ]
    },
    {
     "name": "stderr",
     "output_type": "stream",
     "text": [
      "100%|█████████████████████████████████████████████| 12/12 [00:00<00:00, 4815.50it/s]\n"
     ]
    },
    {
     "name": "stdout",
     "output_type": "stream",
     "text": [
      "Predictive likelihood: -10265.56679648315\n",
      "Computing predictive likelihood score on held out documents...\n"
     ]
    },
    {
     "name": "stderr",
     "output_type": "stream",
     "text": [
      "100%|█████████████████████████████████████████████| 12/12 [00:00<00:00, 3586.41it/s]\n"
     ]
    },
    {
     "name": "stdout",
     "output_type": "stream",
     "text": [
      "Predictive likelihood: -10241.766148624094\n",
      "Computing predictive likelihood score on held out documents...\n"
     ]
    },
    {
     "name": "stderr",
     "output_type": "stream",
     "text": [
      "100%|█████████████████████████████████████████████| 12/12 [00:00<00:00, 4136.39it/s]\n"
     ]
    },
    {
     "name": "stdout",
     "output_type": "stream",
     "text": [
      "Predictive likelihood: -10157.863619573558\n",
      "Computing predictive likelihood score on held out documents...\n"
     ]
    },
    {
     "name": "stderr",
     "output_type": "stream",
     "text": [
      "100%|█████████████████████████████████████████████| 12/12 [00:00<00:00, 3968.12it/s]\n"
     ]
    },
    {
     "name": "stdout",
     "output_type": "stream",
     "text": [
      "Predictive likelihood: -9983.109156209634\n",
      "Computing predictive likelihood score on held out documents...\n"
     ]
    },
    {
     "name": "stderr",
     "output_type": "stream",
     "text": [
      "100%|█████████████████████████████████████████████| 12/12 [00:00<00:00, 5095.84it/s]\n"
     ]
    },
    {
     "name": "stdout",
     "output_type": "stream",
     "text": [
      "Predictive likelihood: -9904.518055640077\n",
      "Computing predictive likelihood score on held out documents...\n"
     ]
    },
    {
     "name": "stderr",
     "output_type": "stream",
     "text": [
      "100%|█████████████████████████████████████████████| 12/12 [00:00<00:00, 4028.47it/s]\n"
     ]
    },
    {
     "name": "stdout",
     "output_type": "stream",
     "text": [
      "Predictive likelihood: -10008.268932955642\n",
      "Computing predictive likelihood score on held out documents...\n"
     ]
    },
    {
     "name": "stderr",
     "output_type": "stream",
     "text": [
      "100%|█████████████████████████████████████████████| 12/12 [00:00<00:00, 4701.70it/s]\n"
     ]
    },
    {
     "name": "stdout",
     "output_type": "stream",
     "text": [
      "Predictive likelihood: -10191.255704441915\n",
      "Computing predictive likelihood score on held out documents...\n"
     ]
    },
    {
     "name": "stderr",
     "output_type": "stream",
     "text": [
      "100%|█████████████████████████████████████████████| 12/12 [00:00<00:00, 4387.35it/s]\n"
     ]
    },
    {
     "name": "stdout",
     "output_type": "stream",
     "text": [
      "Predictive likelihood: -10273.851246345474\n",
      "Computing predictive likelihood score on held out documents...\n"
     ]
    },
    {
     "name": "stderr",
     "output_type": "stream",
     "text": [
      "100%|█████████████████████████████████████████████| 12/12 [00:00<00:00, 3006.85it/s]\n"
     ]
    },
    {
     "name": "stdout",
     "output_type": "stream",
     "text": [
      "Predictive likelihood: -10288.349662225766\n",
      "Computing predictive likelihood score on held out documents...\n"
     ]
    },
    {
     "name": "stderr",
     "output_type": "stream",
     "text": [
      "100%|█████████████████████████████████████████████| 12/12 [00:00<00:00, 3985.40it/s]\n"
     ]
    },
    {
     "name": "stdout",
     "output_type": "stream",
     "text": [
      "Predictive likelihood: -10287.607427437135\n",
      "Computing predictive likelihood score on held out documents...\n"
     ]
    },
    {
     "name": "stderr",
     "output_type": "stream",
     "text": [
      "100%|█████████████████████████████████████████████| 12/12 [00:00<00:00, 4164.11it/s]\n"
     ]
    },
    {
     "name": "stdout",
     "output_type": "stream",
     "text": [
      "Predictive likelihood: -10264.712675764022\n",
      "Computing predictive likelihood score on held out documents...\n"
     ]
    },
    {
     "name": "stderr",
     "output_type": "stream",
     "text": [
      "100%|█████████████████████████████████████████████| 12/12 [00:00<00:00, 3961.87it/s]\n"
     ]
    },
    {
     "name": "stdout",
     "output_type": "stream",
     "text": [
      "Predictive likelihood: -10265.597603767384\n",
      "Computing predictive likelihood score on held out documents...\n"
     ]
    },
    {
     "name": "stderr",
     "output_type": "stream",
     "text": [
      "100%|█████████████████████████████████████████████| 12/12 [00:00<00:00, 4169.63it/s]\n"
     ]
    },
    {
     "name": "stdout",
     "output_type": "stream",
     "text": [
      "Predictive likelihood: -10241.731906360692\n",
      "Computing predictive likelihood score on held out documents...\n"
     ]
    },
    {
     "name": "stderr",
     "output_type": "stream",
     "text": [
      "100%|█████████████████████████████████████████████| 12/12 [00:00<00:00, 3542.24it/s]\n"
     ]
    },
    {
     "name": "stdout",
     "output_type": "stream",
     "text": [
      "Predictive likelihood: -10157.89142586405\n",
      "Computing predictive likelihood score on held out documents...\n"
     ]
    },
    {
     "name": "stderr",
     "output_type": "stream",
     "text": [
      "100%|█████████████████████████████████████████████| 12/12 [00:00<00:00, 5565.81it/s]\n"
     ]
    },
    {
     "name": "stdout",
     "output_type": "stream",
     "text": [
      "Predictive likelihood: -9983.014442783573\n",
      "Computing predictive likelihood score on held out documents...\n"
     ]
    },
    {
     "name": "stderr",
     "output_type": "stream",
     "text": [
      "100%|█████████████████████████████████████████████| 12/12 [00:00<00:00, 3257.08it/s]\n"
     ]
    },
    {
     "name": "stdout",
     "output_type": "stream",
     "text": [
      "Predictive likelihood: -9904.499896914678\n",
      "Computing predictive likelihood score on held out documents...\n"
     ]
    },
    {
     "name": "stderr",
     "output_type": "stream",
     "text": [
      "100%|█████████████████████████████████████████████| 12/12 [00:00<00:00, 3986.67it/s]\n"
     ]
    },
    {
     "name": "stdout",
     "output_type": "stream",
     "text": [
      "Predictive likelihood: -10008.223932892413\n",
      "Computing predictive likelihood score on held out documents...\n"
     ]
    },
    {
     "name": "stderr",
     "output_type": "stream",
     "text": [
      "100%|█████████████████████████████████████████████| 12/12 [00:00<00:00, 4631.18it/s]\n"
     ]
    },
    {
     "name": "stdout",
     "output_type": "stream",
     "text": [
      "Predictive likelihood: -10191.294109552246\n",
      "Computing predictive likelihood score on held out documents...\n"
     ]
    },
    {
     "name": "stderr",
     "output_type": "stream",
     "text": [
      "100%|█████████████████████████████████████████████| 12/12 [00:00<00:00, 4222.10it/s]\n"
     ]
    },
    {
     "name": "stdout",
     "output_type": "stream",
     "text": [
      "Predictive likelihood: -10273.818499737798\n",
      "Computing predictive likelihood score on held out documents...\n"
     ]
    },
    {
     "name": "stderr",
     "output_type": "stream",
     "text": [
      "100%|█████████████████████████████████████████████| 12/12 [00:00<00:00, 3947.27it/s]\n"
     ]
    },
    {
     "name": "stdout",
     "output_type": "stream",
     "text": [
      "Predictive likelihood: -10288.353831084074\n",
      "Computing predictive likelihood score on held out documents...\n"
     ]
    },
    {
     "name": "stderr",
     "output_type": "stream",
     "text": [
      "100%|█████████████████████████████████████████████| 12/12 [00:00<00:00, 4221.04it/s]\n"
     ]
    },
    {
     "name": "stdout",
     "output_type": "stream",
     "text": [
      "Predictive likelihood: -10287.607427437135\n",
      "Computing predictive likelihood score on held out documents...\n"
     ]
    },
    {
     "name": "stderr",
     "output_type": "stream",
     "text": [
      "100%|█████████████████████████████████████████████| 12/12 [00:00<00:00, 3867.20it/s]\n"
     ]
    },
    {
     "name": "stdout",
     "output_type": "stream",
     "text": [
      "Predictive likelihood: -10264.712675764022\n",
      "Computing predictive likelihood score on held out documents...\n"
     ]
    },
    {
     "name": "stderr",
     "output_type": "stream",
     "text": [
      "100%|█████████████████████████████████████████████| 12/12 [00:00<00:00, 3502.55it/s]\n"
     ]
    },
    {
     "name": "stdout",
     "output_type": "stream",
     "text": [
      "Predictive likelihood: -10265.627435429169\n",
      "Computing predictive likelihood score on held out documents...\n"
     ]
    },
    {
     "name": "stderr",
     "output_type": "stream",
     "text": [
      "100%|█████████████████████████████████████████████| 12/12 [00:00<00:00, 3319.59it/s]\n"
     ]
    },
    {
     "name": "stdout",
     "output_type": "stream",
     "text": [
      "Predictive likelihood: -10241.699619611589\n",
      "Computing predictive likelihood score on held out documents...\n"
     ]
    },
    {
     "name": "stderr",
     "output_type": "stream",
     "text": [
      "100%|█████████████████████████████████████████████| 12/12 [00:00<00:00, 3756.93it/s]\n"
     ]
    },
    {
     "name": "stdout",
     "output_type": "stream",
     "text": [
      "Predictive likelihood: -10157.919958104572\n",
      "Computing predictive likelihood score on held out documents...\n"
     ]
    },
    {
     "name": "stderr",
     "output_type": "stream",
     "text": [
      "100%|█████████████████████████████████████████████| 12/12 [00:00<00:00, 4025.57it/s]\n"
     ]
    },
    {
     "name": "stdout",
     "output_type": "stream",
     "text": [
      "Predictive likelihood: -9982.931144967857\n",
      "Computing predictive likelihood score on held out documents...\n"
     ]
    },
    {
     "name": "stderr",
     "output_type": "stream",
     "text": [
      "100%|█████████████████████████████████████████████| 12/12 [00:00<00:00, 3736.02it/s]\n"
     ]
    },
    {
     "name": "stdout",
     "output_type": "stream",
     "text": [
      "Predictive likelihood: -9904.495588368849\n",
      "Computing predictive likelihood score on held out documents...\n"
     ]
    },
    {
     "name": "stderr",
     "output_type": "stream",
     "text": [
      "100%|█████████████████████████████████████████████| 12/12 [00:00<00:00, 3936.77it/s]\n"
     ]
    },
    {
     "name": "stdout",
     "output_type": "stream",
     "text": [
      "Predictive likelihood: -10008.187915677545\n",
      "Computing predictive likelihood score on held out documents...\n"
     ]
    },
    {
     "name": "stderr",
     "output_type": "stream",
     "text": [
      "100%|█████████████████████████████████████████████| 12/12 [00:00<00:00, 4216.44it/s]\n"
     ]
    },
    {
     "name": "stdout",
     "output_type": "stream",
     "text": [
      "Predictive likelihood: -10191.335367945328\n",
      "Computing predictive likelihood score on held out documents...\n"
     ]
    },
    {
     "name": "stderr",
     "output_type": "stream",
     "text": [
      "100%|█████████████████████████████████████████████| 12/12 [00:00<00:00, 3605.68it/s]\n"
     ]
    },
    {
     "name": "stdout",
     "output_type": "stream",
     "text": [
      "Predictive likelihood: -10273.788864260843\n",
      "Computing predictive likelihood score on held out documents...\n"
     ]
    },
    {
     "name": "stderr",
     "output_type": "stream",
     "text": [
      "100%|█████████████████████████████████████████████| 12/12 [00:00<00:00, 4184.19it/s]\n"
     ]
    },
    {
     "name": "stdout",
     "output_type": "stream",
     "text": [
      "Predictive likelihood: -10288.357423034266\n",
      "Computing predictive likelihood score on held out documents...\n"
     ]
    },
    {
     "name": "stderr",
     "output_type": "stream",
     "text": [
      "100%|█████████████████████████████████████████████| 12/12 [00:00<00:00, 3855.06it/s]\n"
     ]
    },
    {
     "name": "stdout",
     "output_type": "stream",
     "text": [
      "Predictive likelihood: -10287.607427437135\n",
      "Computing predictive likelihood score on held out documents...\n"
     ]
    },
    {
     "name": "stderr",
     "output_type": "stream",
     "text": [
      "100%|█████████████████████████████████████████████| 12/12 [00:00<00:00, 5037.70it/s]\n"
     ]
    },
    {
     "name": "stdout",
     "output_type": "stream",
     "text": [
      "Predictive likelihood: -10264.712675764022\n",
      "Computing predictive likelihood score on held out documents...\n"
     ]
    },
    {
     "name": "stderr",
     "output_type": "stream",
     "text": [
      "100%|█████████████████████████████████████████████| 12/12 [00:00<00:00, 4005.38it/s]\n"
     ]
    },
    {
     "name": "stdout",
     "output_type": "stream",
     "text": [
      "Predictive likelihood: -10265.656285989277\n",
      "Computing predictive likelihood score on held out documents...\n"
     ]
    },
    {
     "name": "stderr",
     "output_type": "stream",
     "text": [
      "100%|█████████████████████████████████████████████| 12/12 [00:00<00:00, 5454.23it/s]\n"
     ]
    },
    {
     "name": "stdout",
     "output_type": "stream",
     "text": [
      "Predictive likelihood: -10241.669070892858\n",
      "Computing predictive likelihood score on held out documents...\n"
     ]
    },
    {
     "name": "stderr",
     "output_type": "stream",
     "text": [
      "100%|█████████████████████████████████████████████| 12/12 [00:00<00:00, 4065.23it/s]\n"
     ]
    },
    {
     "name": "stdout",
     "output_type": "stream",
     "text": [
      "Predictive likelihood: -10157.949372639541\n",
      "Computing predictive likelihood score on held out documents...\n"
     ]
    },
    {
     "name": "stderr",
     "output_type": "stream",
     "text": [
      "100%|█████████████████████████████████████████████| 12/12 [00:00<00:00, 3396.43it/s]\n"
     ]
    },
    {
     "name": "stdout",
     "output_type": "stream",
     "text": [
      "Predictive likelihood: -9982.858390059182\n",
      "Computing predictive likelihood score on held out documents...\n"
     ]
    },
    {
     "name": "stderr",
     "output_type": "stream",
     "text": [
      "100%|█████████████████████████████████████████████| 12/12 [00:00<00:00, 4072.14it/s]\n"
     ]
    },
    {
     "name": "stdout",
     "output_type": "stream",
     "text": [
      "Predictive likelihood: -9904.50359305825\n",
      "Computing predictive likelihood score on held out documents...\n"
     ]
    },
    {
     "name": "stderr",
     "output_type": "stream",
     "text": [
      "100%|█████████████████████████████████████████████| 12/12 [00:00<00:00, 3801.77it/s]\n"
     ]
    },
    {
     "name": "stdout",
     "output_type": "stream",
     "text": [
      "Predictive likelihood: -10008.159708513085\n",
      "Computing predictive likelihood score on held out documents...\n"
     ]
    },
    {
     "name": "stderr",
     "output_type": "stream",
     "text": [
      "100%|█████████████████████████████████████████████| 12/12 [00:00<00:00, 5293.61it/s]\n"
     ]
    },
    {
     "name": "stdout",
     "output_type": "stream",
     "text": [
      "Predictive likelihood: -10191.379055087373\n",
      "Computing predictive likelihood score on held out documents...\n"
     ]
    },
    {
     "name": "stderr",
     "output_type": "stream",
     "text": [
      "100%|█████████████████████████████████████████████| 12/12 [00:00<00:00, 3681.91it/s]\n"
     ]
    },
    {
     "name": "stdout",
     "output_type": "stream",
     "text": [
      "Predictive likelihood: -10273.762270599524\n",
      "Computing predictive likelihood score on held out documents...\n"
     ]
    },
    {
     "name": "stderr",
     "output_type": "stream",
     "text": [
      "100%|█████████████████████████████████████████████| 12/12 [00:00<00:00, 5687.19it/s]\n"
     ]
    },
    {
     "name": "stdout",
     "output_type": "stream",
     "text": [
      "Predictive likelihood: -10288.360493853092\n",
      "Computing predictive likelihood score on held out documents...\n"
     ]
    },
    {
     "name": "stderr",
     "output_type": "stream",
     "text": [
      "100%|█████████████████████████████████████████████| 12/12 [00:00<00:00, 3583.09it/s]\n"
     ]
    },
    {
     "name": "stdout",
     "output_type": "stream",
     "text": [
      "Predictive likelihood: -10287.607427437135\n",
      "Computing predictive likelihood score on held out documents...\n"
     ]
    },
    {
     "name": "stderr",
     "output_type": "stream",
     "text": [
      "100%|█████████████████████████████████████████████| 12/12 [00:00<00:00, 5245.07it/s]\n"
     ]
    },
    {
     "name": "stdout",
     "output_type": "stream",
     "text": [
      "Predictive likelihood: -10264.712675764022\n",
      "Computing predictive likelihood score on held out documents...\n"
     ]
    },
    {
     "name": "stderr",
     "output_type": "stream",
     "text": [
      "100%|█████████████████████████████████████████████| 12/12 [00:00<00:00, 4297.44it/s]\n"
     ]
    },
    {
     "name": "stdout",
     "output_type": "stream",
     "text": [
      "Predictive likelihood: -10265.684157676484\n",
      "Computing predictive likelihood score on held out documents...\n"
     ]
    },
    {
     "name": "stderr",
     "output_type": "stream",
     "text": [
      "100%|█████████████████████████████████████████████| 12/12 [00:00<00:00, 5400.39it/s]\n"
     ]
    },
    {
     "name": "stdout",
     "output_type": "stream",
     "text": [
      "Predictive likelihood: -10241.640054271693\n",
      "Computing predictive likelihood score on held out documents...\n"
     ]
    },
    {
     "name": "stderr",
     "output_type": "stream",
     "text": [
      "100%|█████████████████████████████████████████████| 12/12 [00:00<00:00, 3933.08it/s]\n"
     ]
    },
    {
     "name": "stdout",
     "output_type": "stream",
     "text": [
      "Predictive likelihood: -10157.979801278285\n",
      "Computing predictive likelihood score on held out documents...\n"
     ]
    },
    {
     "name": "stderr",
     "output_type": "stream",
     "text": [
      "100%|█████████████████████████████████████████████| 12/12 [00:00<00:00, 2843.44it/s]\n"
     ]
    },
    {
     "name": "stdout",
     "output_type": "stream",
     "text": [
      "Predictive likelihood: -9982.795399256029\n",
      "Computing predictive likelihood score on held out documents...\n"
     ]
    },
    {
     "name": "stderr",
     "output_type": "stream",
     "text": [
      "100%|█████████████████████████████████████████████| 12/12 [00:00<00:00, 3677.60it/s]\n"
     ]
    },
    {
     "name": "stdout",
     "output_type": "stream",
     "text": [
      "Predictive likelihood: -9904.522616775464\n",
      "Computing predictive likelihood score on held out documents...\n"
     ]
    },
    {
     "name": "stderr",
     "output_type": "stream",
     "text": [
      "100%|█████████████████████████████████████████████| 12/12 [00:00<00:00, 3695.69it/s]\n"
     ]
    },
    {
     "name": "stdout",
     "output_type": "stream",
     "text": [
      "Predictive likelihood: -10008.138259330375\n",
      "Computing predictive likelihood score on held out documents...\n"
     ]
    },
    {
     "name": "stderr",
     "output_type": "stream",
     "text": [
      "100%|█████████████████████████████████████████████| 12/12 [00:00<00:00, 4007.94it/s]\n"
     ]
    },
    {
     "name": "stdout",
     "output_type": "stream",
     "text": [
      "Predictive likelihood: -10191.424831990544\n",
      "Computing predictive likelihood score on held out documents...\n"
     ]
    },
    {
     "name": "stderr",
     "output_type": "stream",
     "text": [
      "100%|█████████████████████████████████████████████| 12/12 [00:00<00:00, 5420.16it/s]\n"
     ]
    },
    {
     "name": "stdout",
     "output_type": "stream",
     "text": [
      "Predictive likelihood: -10273.73861569736\n",
      "Computing predictive likelihood score on held out documents...\n"
     ]
    },
    {
     "name": "stderr",
     "output_type": "stream",
     "text": [
      "100%|█████████████████████████████████████████████| 12/12 [00:00<00:00, 4418.55it/s]\n"
     ]
    },
    {
     "name": "stdout",
     "output_type": "stream",
     "text": [
      "Predictive likelihood: -10288.363094022832\n",
      "Computing predictive likelihood score on held out documents...\n"
     ]
    },
    {
     "name": "stderr",
     "output_type": "stream",
     "text": [
      "100%|█████████████████████████████████████████████| 12/12 [00:00<00:00, 4087.02it/s]\n"
     ]
    },
    {
     "name": "stdout",
     "output_type": "stream",
     "text": [
      "Predictive likelihood: -10287.607427437135\n",
      "Computing predictive likelihood score on held out documents...\n"
     ]
    },
    {
     "name": "stderr",
     "output_type": "stream",
     "text": [
      "100%|█████████████████████████████████████████████| 12/12 [00:00<00:00, 3790.03it/s]\n"
     ]
    },
    {
     "name": "stdout",
     "output_type": "stream",
     "text": [
      "Predictive likelihood: -10264.712675764022\n",
      "Computing predictive likelihood score on held out documents...\n"
     ]
    },
    {
     "name": "stderr",
     "output_type": "stream",
     "text": [
      "100%|█████████████████████████████████████████████| 12/12 [00:00<00:00, 4319.94it/s]\n"
     ]
    },
    {
     "name": "stdout",
     "output_type": "stream",
     "text": [
      "Predictive likelihood: -10265.71106118339\n",
      "Computing predictive likelihood score on held out documents...\n"
     ]
    },
    {
     "name": "stderr",
     "output_type": "stream",
     "text": [
      "100%|█████████████████████████████████████████████| 12/12 [00:00<00:00, 4058.35it/s]\n"
     ]
    },
    {
     "name": "stdout",
     "output_type": "stream",
     "text": [
      "Predictive likelihood: -10241.61269510025\n",
      "Computing predictive likelihood score on held out documents...\n"
     ]
    },
    {
     "name": "stderr",
     "output_type": "stream",
     "text": [
      "100%|█████████████████████████████████████████████| 12/12 [00:00<00:00, 4178.29it/s]\n"
     ]
    },
    {
     "name": "stdout",
     "output_type": "stream",
     "text": [
      "Predictive likelihood: -10158.011335383753\n",
      "Computing predictive likelihood score on held out documents...\n"
     ]
    },
    {
     "name": "stderr",
     "output_type": "stream",
     "text": [
      "100%|█████████████████████████████████████████████| 12/12 [00:00<00:00, 3864.53it/s]\n"
     ]
    },
    {
     "name": "stdout",
     "output_type": "stream",
     "text": [
      "Predictive likelihood: -9982.741477590545\n",
      "Computing predictive likelihood score on held out documents...\n"
     ]
    },
    {
     "name": "stderr",
     "output_type": "stream",
     "text": [
      "100%|█████████████████████████████████████████████| 12/12 [00:00<00:00, 4654.73it/s]\n"
     ]
    },
    {
     "name": "stdout",
     "output_type": "stream",
     "text": [
      "Predictive likelihood: -9904.551559042238\n",
      "Computing predictive likelihood score on held out documents...\n"
     ]
    },
    {
     "name": "stderr",
     "output_type": "stream",
     "text": [
      "100%|█████████████████████████████████████████████| 12/12 [00:00<00:00, 5128.03it/s]\n"
     ]
    },
    {
     "name": "stdout",
     "output_type": "stream",
     "text": [
      "Predictive likelihood: -10008.122635734415\n",
      "Computing predictive likelihood score on held out documents...\n"
     ]
    },
    {
     "name": "stderr",
     "output_type": "stream",
     "text": [
      "100%|█████████████████████████████████████████████| 12/12 [00:00<00:00, 4183.84it/s]\n"
     ]
    },
    {
     "name": "stdout",
     "output_type": "stream",
     "text": [
      "Predictive likelihood: -10191.47244211887\n",
      "Computing predictive likelihood score on held out documents...\n"
     ]
    },
    {
     "name": "stderr",
     "output_type": "stream",
     "text": [
      "100%|█████████████████████████████████████████████| 12/12 [00:00<00:00, 5069.67it/s]\n"
     ]
    },
    {
     "name": "stdout",
     "output_type": "stream",
     "text": [
      "Predictive likelihood: -10273.717767549933\n",
      "Computing predictive likelihood score on held out documents...\n"
     ]
    },
    {
     "name": "stderr",
     "output_type": "stream",
     "text": [
      "100%|█████████████████████████████████████████████| 12/12 [00:00<00:00, 4757.69it/s]\n"
     ]
    },
    {
     "name": "stdout",
     "output_type": "stream",
     "text": [
      "Predictive likelihood: -10288.365269237434\n",
      "Computing predictive likelihood score on held out documents...\n"
     ]
    },
    {
     "name": "stderr",
     "output_type": "stream",
     "text": [
      "100%|█████████████████████████████████████████████| 12/12 [00:00<00:00, 4620.55it/s]\n"
     ]
    },
    {
     "name": "stdout",
     "output_type": "stream",
     "text": [
      "Predictive likelihood: -10287.607427437135\n",
      "Computing predictive likelihood score on held out documents...\n"
     ]
    },
    {
     "name": "stderr",
     "output_type": "stream",
     "text": [
      "100%|█████████████████████████████████████████████| 12/12 [00:00<00:00, 4032.34it/s]\n"
     ]
    },
    {
     "name": "stdout",
     "output_type": "stream",
     "text": [
      "Predictive likelihood: -10264.712675764022\n",
      "Computing predictive likelihood score on held out documents...\n"
     ]
    },
    {
     "name": "stderr",
     "output_type": "stream",
     "text": [
      "100%|█████████████████████████████████████████████| 12/12 [00:00<00:00, 4080.06it/s]\n"
     ]
    },
    {
     "name": "stdout",
     "output_type": "stream",
     "text": [
      "Predictive likelihood: -10265.73701585166\n",
      "Computing predictive likelihood score on held out documents...\n"
     ]
    },
    {
     "name": "stderr",
     "output_type": "stream",
     "text": [
      "100%|█████████████████████████████████████████████| 12/12 [00:00<00:00, 4329.23it/s]\n"
     ]
    },
    {
     "name": "stdout",
     "output_type": "stream",
     "text": [
      "Predictive likelihood: -10241.586458961594\n",
      "Computing predictive likelihood score on held out documents...\n"
     ]
    },
    {
     "name": "stderr",
     "output_type": "stream",
     "text": [
      "100%|█████████████████████████████████████████████| 12/12 [00:00<00:00, 4962.69it/s]\n"
     ]
    },
    {
     "name": "stdout",
     "output_type": "stream",
     "text": [
      "Predictive likelihood: -10158.044012994955\n",
      "Computing predictive likelihood score on held out documents...\n"
     ]
    },
    {
     "name": "stderr",
     "output_type": "stream",
     "text": [
      "100%|█████████████████████████████████████████████| 12/12 [00:00<00:00, 4304.06it/s]\n"
     ]
    },
    {
     "name": "stdout",
     "output_type": "stream",
     "text": [
      "Predictive likelihood: -9982.696004493484\n",
      "Computing predictive likelihood score on held out documents...\n"
     ]
    },
    {
     "name": "stderr",
     "output_type": "stream",
     "text": [
      "100%|█████████████████████████████████████████████| 12/12 [00:00<00:00, 3301.95it/s]\n"
     ]
    },
    {
     "name": "stdout",
     "output_type": "stream",
     "text": [
      "Predictive likelihood: -9904.589469439645\n",
      "Computing predictive likelihood score on held out documents...\n"
     ]
    },
    {
     "name": "stderr",
     "output_type": "stream",
     "text": [
      "100%|█████████████████████████████████████████████| 12/12 [00:00<00:00, 4474.72it/s]\n"
     ]
    },
    {
     "name": "stdout",
     "output_type": "stream",
     "text": [
      "Predictive likelihood: -10008.112021873303\n",
      "Computing predictive likelihood score on held out documents...\n"
     ]
    },
    {
     "name": "stderr",
     "output_type": "stream",
     "text": [
      "100%|█████████████████████████████████████████████| 12/12 [00:00<00:00, 4022.67it/s]\n"
     ]
    },
    {
     "name": "stdout",
     "output_type": "stream",
     "text": [
      "Predictive likelihood: -10191.521701180658\n",
      "Computing predictive likelihood score on held out documents...\n"
     ]
    },
    {
     "name": "stderr",
     "output_type": "stream",
     "text": [
      "100%|█████████████████████████████████████████████| 12/12 [00:00<00:00, 4660.34it/s]\n"
     ]
    },
    {
     "name": "stdout",
     "output_type": "stream",
     "text": [
      "Predictive likelihood: -10273.699569350112\n",
      "Computing predictive likelihood score on held out documents...\n"
     ]
    },
    {
     "name": "stderr",
     "output_type": "stream",
     "text": [
      "100%|█████████████████████████████████████████████| 12/12 [00:00<00:00, 3355.00it/s]\n"
     ]
    },
    {
     "name": "stdout",
     "output_type": "stream",
     "text": [
      "Predictive likelihood: -10288.367060865265\n",
      "Computing predictive likelihood score on held out documents...\n"
     ]
    },
    {
     "name": "stderr",
     "output_type": "stream",
     "text": [
      "100%|█████████████████████████████████████████████| 12/12 [00:00<00:00, 3896.24it/s]"
     ]
    },
    {
     "name": "stdout",
     "output_type": "stream",
     "text": [
      "Predictive likelihood: -10287.607427437135\n"
     ]
    },
    {
     "name": "stderr",
     "output_type": "stream",
     "text": [
      "\n"
     ]
    },
    {
     "name": "stdout",
     "output_type": "stream",
     "text": [
      "Computing predictive likelihood score on held out documents...\n"
     ]
    },
    {
     "name": "stderr",
     "output_type": "stream",
     "text": [
      "100%|█████████████████████████████████████████████| 12/12 [00:00<00:00, 4395.78it/s]\n"
     ]
    },
    {
     "name": "stdout",
     "output_type": "stream",
     "text": [
      "Predictive likelihood: -10264.712675764022\n",
      "Computing predictive likelihood score on held out documents...\n"
     ]
    },
    {
     "name": "stderr",
     "output_type": "stream",
     "text": [
      "100%|█████████████████████████████████████████████| 12/12 [00:00<00:00, 3884.81it/s]\n"
     ]
    },
    {
     "name": "stdout",
     "output_type": "stream",
     "text": [
      "Predictive likelihood: -10265.764573198405\n",
      "Computing predictive likelihood score on held out documents...\n"
     ]
    },
    {
     "name": "stderr",
     "output_type": "stream",
     "text": [
      "100%|█████████████████████████████████████████████| 12/12 [00:00<00:00, 5226.00it/s]\n"
     ]
    },
    {
     "name": "stdout",
     "output_type": "stream",
     "text": [
      "Predictive likelihood: -10241.561183217822\n",
      "Computing predictive likelihood score on held out documents...\n"
     ]
    },
    {
     "name": "stderr",
     "output_type": "stream",
     "text": [
      "100%|█████████████████████████████████████████████| 12/12 [00:00<00:00, 5058.97it/s]\n"
     ]
    },
    {
     "name": "stdout",
     "output_type": "stream",
     "text": [
      "Predictive likelihood: -10158.07781131361\n",
      "Computing predictive likelihood score on held out documents...\n"
     ]
    },
    {
     "name": "stderr",
     "output_type": "stream",
     "text": [
      "100%|█████████████████████████████████████████████| 12/12 [00:00<00:00, 4043.03it/s]\n"
     ]
    },
    {
     "name": "stdout",
     "output_type": "stream",
     "text": [
      "Predictive likelihood: -9982.65842513852\n",
      "Computing predictive likelihood score on held out documents...\n"
     ]
    },
    {
     "name": "stderr",
     "output_type": "stream",
     "text": [
      "100%|█████████████████████████████████████████████| 12/12 [00:00<00:00, 3496.47it/s]\n"
     ]
    },
    {
     "name": "stdout",
     "output_type": "stream",
     "text": [
      "Predictive likelihood: -9904.635510129196\n",
      "Computing predictive likelihood score on held out documents...\n"
     ]
    },
    {
     "name": "stderr",
     "output_type": "stream",
     "text": [
      "100%|█████████████████████████████████████████████| 12/12 [00:00<00:00, 4274.81it/s]\n"
     ]
    },
    {
     "name": "stdout",
     "output_type": "stream",
     "text": [
      "Predictive likelihood: -10008.105711821801\n",
      "Computing predictive likelihood score on held out documents...\n"
     ]
    },
    {
     "name": "stderr",
     "output_type": "stream",
     "text": [
      "100%|█████████████████████████████████████████████| 12/12 [00:00<00:00, 3651.72it/s]\n"
     ]
    },
    {
     "name": "stdout",
     "output_type": "stream",
     "text": [
      "Predictive likelihood: -10191.572482275798\n",
      "Computing predictive likelihood score on held out documents...\n"
     ]
    },
    {
     "name": "stderr",
     "output_type": "stream",
     "text": [
      "100%|█████████████████████████████████████████████| 12/12 [00:00<00:00, 3020.38it/s]\n"
     ]
    },
    {
     "name": "stdout",
     "output_type": "stream",
     "text": [
      "Predictive likelihood: -10273.683843884612\n",
      "Computing predictive likelihood score on held out documents...\n"
     ]
    },
    {
     "name": "stderr",
     "output_type": "stream",
     "text": [
      "100%|█████████████████████████████████████████████| 12/12 [00:00<00:00, 2871.34it/s]\n"
     ]
    },
    {
     "name": "stdout",
     "output_type": "stream",
     "text": [
      "Predictive likelihood: -10288.368506371866\n",
      "Computing predictive likelihood score on held out documents...\n"
     ]
    },
    {
     "name": "stderr",
     "output_type": "stream",
     "text": [
      "100%|█████████████████████████████████████████████| 12/12 [00:00<00:00, 3339.86it/s]\n"
     ]
    },
    {
     "name": "stdout",
     "output_type": "stream",
     "text": [
      "Predictive likelihood: -10287.607427437135\n",
      "Computing predictive likelihood score on held out documents...\n"
     ]
    },
    {
     "name": "stderr",
     "output_type": "stream",
     "text": [
      "100%|█████████████████████████████████████████████| 12/12 [00:00<00:00, 5309.81it/s]\n"
     ]
    },
    {
     "name": "stdout",
     "output_type": "stream",
     "text": [
      "Predictive likelihood: -10264.712675764022\n",
      "Computing predictive likelihood score on held out documents...\n"
     ]
    },
    {
     "name": "stderr",
     "output_type": "stream",
     "text": [
      "100%|█████████████████████████████████████████████| 12/12 [00:00<00:00, 4160.67it/s]\n"
     ]
    },
    {
     "name": "stdout",
     "output_type": "stream",
     "text": [
      "Predictive likelihood: -10265.79141583441\n",
      "Computing predictive likelihood score on held out documents...\n"
     ]
    },
    {
     "name": "stderr",
     "output_type": "stream",
     "text": [
      "100%|█████████████████████████████████████████████| 12/12 [00:00<00:00, 4442.73it/s]\n"
     ]
    },
    {
     "name": "stdout",
     "output_type": "stream",
     "text": [
      "Predictive likelihood: -10241.53673233198\n",
      "Computing predictive likelihood score on held out documents...\n"
     ]
    },
    {
     "name": "stderr",
     "output_type": "stream",
     "text": [
      "100%|█████████████████████████████████████████████| 12/12 [00:00<00:00, 4004.11it/s]"
     ]
    },
    {
     "name": "stdout",
     "output_type": "stream",
     "text": [
      "Predictive likelihood: -10158.112645432231\n"
     ]
    },
    {
     "name": "stderr",
     "output_type": "stream",
     "text": [
      "\n"
     ]
    },
    {
     "name": "stdout",
     "output_type": "stream",
     "text": [
      "Computing predictive likelihood score on held out documents...\n"
     ]
    },
    {
     "name": "stderr",
     "output_type": "stream",
     "text": [
      "100%|█████████████████████████████████████████████| 12/12 [00:00<00:00, 4301.12it/s]\n"
     ]
    },
    {
     "name": "stdout",
     "output_type": "stream",
     "text": [
      "Predictive likelihood: -9982.628242541467\n",
      "Computing predictive likelihood score on held out documents...\n"
     ]
    },
    {
     "name": "stderr",
     "output_type": "stream",
     "text": [
      "100%|█████████████████████████████████████████████| 12/12 [00:00<00:00, 3579.01it/s]\n"
     ]
    },
    {
     "name": "stdout",
     "output_type": "stream",
     "text": [
      "Predictive likelihood: -9904.68892218262\n",
      "Computing predictive likelihood score on held out documents...\n"
     ]
    },
    {
     "name": "stderr",
     "output_type": "stream",
     "text": [
      "100%|█████████████████████████████████████████████| 12/12 [00:00<00:00, 3946.03it/s]\n"
     ]
    },
    {
     "name": "stdout",
     "output_type": "stream",
     "text": [
      "Predictive likelihood: -10008.103100265509\n",
      "Computing predictive likelihood score on held out documents...\n"
     ]
    },
    {
     "name": "stderr",
     "output_type": "stream",
     "text": [
      "100%|█████████████████████████████████████████████| 12/12 [00:00<00:00, 3432.56it/s]\n"
     ]
    },
    {
     "name": "stdout",
     "output_type": "stream",
     "text": [
      "Predictive likelihood: -10191.62469953181\n",
      "Computing predictive likelihood score on held out documents...\n"
     ]
    },
    {
     "name": "stderr",
     "output_type": "stream",
     "text": [
      "100%|█████████████████████████████████████████████| 12/12 [00:00<00:00, 4664.22it/s]\n"
     ]
    },
    {
     "name": "stdout",
     "output_type": "stream",
     "text": [
      "Predictive likelihood: -10273.67039880406\n",
      "Computing predictive likelihood score on held out documents...\n"
     ]
    },
    {
     "name": "stderr",
     "output_type": "stream",
     "text": [
      "100%|█████████████████████████████████████████████| 12/12 [00:00<00:00, 3425.55it/s]\n"
     ]
    },
    {
     "name": "stdout",
     "output_type": "stream",
     "text": [
      "Predictive likelihood: -10288.369639706327\n",
      "Computing predictive likelihood score on held out documents...\n"
     ]
    },
    {
     "name": "stderr",
     "output_type": "stream",
     "text": [
      "100%|█████████████████████████████████████████████| 12/12 [00:00<00:00, 4297.81it/s]\n"
     ]
    },
    {
     "name": "stdout",
     "output_type": "stream",
     "text": [
      "Predictive likelihood: -10287.607427437135\n",
      "Computing predictive likelihood score on held out documents...\n"
     ]
    },
    {
     "name": "stderr",
     "output_type": "stream",
     "text": [
      "100%|█████████████████████████████████████████████| 12/12 [00:00<00:00, 3489.44it/s]\n"
     ]
    },
    {
     "name": "stdout",
     "output_type": "stream",
     "text": [
      "Predictive likelihood: -10264.712675764022\n",
      "Computing predictive likelihood score on held out documents...\n"
     ]
    },
    {
     "name": "stderr",
     "output_type": "stream",
     "text": [
      "100%|█████████████████████████████████████████████| 12/12 [00:00<00:00, 5599.25it/s]\n"
     ]
    },
    {
     "name": "stdout",
     "output_type": "stream",
     "text": [
      "Predictive likelihood: -10265.817526466299\n",
      "Computing predictive likelihood score on held out documents...\n"
     ]
    },
    {
     "name": "stderr",
     "output_type": "stream",
     "text": [
      "100%|█████████████████████████████████████████████| 12/12 [00:00<00:00, 3497.68it/s]\n"
     ]
    },
    {
     "name": "stdout",
     "output_type": "stream",
     "text": [
      "Predictive likelihood: -10241.512999383893\n",
      "Computing predictive likelihood score on held out documents...\n"
     ]
    },
    {
     "name": "stderr",
     "output_type": "stream",
     "text": [
      "100%|█████████████████████████████████████████████| 12/12 [00:00<00:00, 4001.24it/s]\n"
     ]
    },
    {
     "name": "stdout",
     "output_type": "stream",
     "text": [
      "Predictive likelihood: -10158.148372422056\n",
      "Computing predictive likelihood score on held out documents...\n"
     ]
    },
    {
     "name": "stderr",
     "output_type": "stream",
     "text": [
      "100%|█████████████████████████████████████████████| 12/12 [00:00<00:00, 3038.07it/s]"
     ]
    },
    {
     "name": "stdout",
     "output_type": "stream",
     "text": [
      "Predictive likelihood: -9982.605010111713\n"
     ]
    },
    {
     "name": "stderr",
     "output_type": "stream",
     "text": [
      "\n"
     ]
    },
    {
     "name": "stdout",
     "output_type": "stream",
     "text": [
      "Computing predictive likelihood score on held out documents...\n"
     ]
    },
    {
     "name": "stderr",
     "output_type": "stream",
     "text": [
      "100%|█████████████████████████████████████████████| 12/12 [00:00<00:00, 3887.21it/s]\n"
     ]
    },
    {
     "name": "stdout",
     "output_type": "stream",
     "text": [
      "Predictive likelihood: -9904.748992729688\n",
      "Computing predictive likelihood score on held out documents...\n"
     ]
    },
    {
     "name": "stderr",
     "output_type": "stream",
     "text": [
      "100%|█████████████████████████████████████████████| 12/12 [00:00<00:00, 3525.12it/s]\n"
     ]
    },
    {
     "name": "stdout",
     "output_type": "stream",
     "text": [
      "Predictive likelihood: -10008.103672454039\n",
      "Computing predictive likelihood score on held out documents...\n"
     ]
    },
    {
     "name": "stderr",
     "output_type": "stream",
     "text": [
      "100%|█████████████████████████████████████████████| 12/12 [00:00<00:00, 4878.04it/s]"
     ]
    },
    {
     "name": "stdout",
     "output_type": "stream",
     "text": [
      "Predictive likelihood: -10191.678292707193\n",
      "Computing predictive likelihood score on held out documents...\n"
     ]
    },
    {
     "name": "stderr",
     "output_type": "stream",
     "text": [
      "\n",
      "100%|█████████████████████████████████████████████| 12/12 [00:00<00:00, 3981.62it/s]\n"
     ]
    },
    {
     "name": "stdout",
     "output_type": "stream",
     "text": [
      "Predictive likelihood: -10273.65903293431\n",
      "Computing predictive likelihood score on held out documents...\n"
     ]
    },
    {
     "name": "stderr",
     "output_type": "stream",
     "text": [
      "100%|█████████████████████████████████████████████| 12/12 [00:00<00:00, 3989.51it/s]\n"
     ]
    },
    {
     "name": "stdout",
     "output_type": "stream",
     "text": [
      "Predictive likelihood: -10288.37049165436\n",
      "Computing predictive likelihood score on held out documents...\n"
     ]
    },
    {
     "name": "stderr",
     "output_type": "stream",
     "text": [
      "100%|█████████████████████████████████████████████| 12/12 [00:00<00:00, 3791.75it/s]\n"
     ]
    },
    {
     "name": "stdout",
     "output_type": "stream",
     "text": [
      "Predictive likelihood: -10287.607427437135\n",
      "Computing predictive likelihood score on held out documents...\n"
     ]
    },
    {
     "name": "stderr",
     "output_type": "stream",
     "text": [
      "100%|█████████████████████████████████████████████| 12/12 [00:00<00:00, 3860.97it/s]\n"
     ]
    },
    {
     "name": "stdout",
     "output_type": "stream",
     "text": [
      "Predictive likelihood: -10264.712675764022\n",
      "Computing predictive likelihood score on held out documents...\n"
     ]
    },
    {
     "name": "stderr",
     "output_type": "stream",
     "text": [
      "100%|█████████████████████████████████████████████| 12/12 [00:00<00:00, 4452.95it/s]\n"
     ]
    },
    {
     "name": "stdout",
     "output_type": "stream",
     "text": [
      "Predictive likelihood: -10265.842896996448\n",
      "Computing predictive likelihood score on held out documents...\n"
     ]
    },
    {
     "name": "stderr",
     "output_type": "stream",
     "text": [
      "100%|█████████████████████████████████████████████| 12/12 [00:00<00:00, 3664.48it/s]\n"
     ]
    },
    {
     "name": "stdout",
     "output_type": "stream",
     "text": [
      "Predictive likelihood: -10241.489906048157\n",
      "Computing predictive likelihood score on held out documents...\n"
     ]
    },
    {
     "name": "stderr",
     "output_type": "stream",
     "text": [
      "100%|█████████████████████████████████████████████| 12/12 [00:00<00:00, 4013.05it/s]\n"
     ]
    },
    {
     "name": "stdout",
     "output_type": "stream",
     "text": [
      "Predictive likelihood: -10158.184798975586\n",
      "Computing predictive likelihood score on held out documents...\n"
     ]
    },
    {
     "name": "stderr",
     "output_type": "stream",
     "text": [
      "100%|█████████████████████████████████████████████| 12/12 [00:00<00:00, 3760.86it/s]\n"
     ]
    },
    {
     "name": "stdout",
     "output_type": "stream",
     "text": [
      "Predictive likelihood: -9982.58832413598\n",
      "Computing predictive likelihood score on held out documents...\n"
     ]
    },
    {
     "name": "stderr",
     "output_type": "stream",
     "text": [
      "100%|█████████████████████████████████████████████| 12/12 [00:00<00:00, 3981.30it/s]\n"
     ]
    },
    {
     "name": "stdout",
     "output_type": "stream",
     "text": [
      "Predictive likelihood: -9904.815021676533\n",
      "Computing predictive likelihood score on held out documents...\n"
     ]
    },
    {
     "name": "stderr",
     "output_type": "stream",
     "text": [
      "100%|█████████████████████████████████████████████| 12/12 [00:00<00:00, 3747.42it/s]\n"
     ]
    },
    {
     "name": "stdout",
     "output_type": "stream",
     "text": [
      "Predictive likelihood: -10008.106995128388\n",
      "Computing predictive likelihood score on held out documents...\n"
     ]
    },
    {
     "name": "stderr",
     "output_type": "stream",
     "text": [
      "100%|█████████████████████████████████████████████| 12/12 [00:00<00:00, 4144.91it/s]\n"
     ]
    },
    {
     "name": "stdout",
     "output_type": "stream",
     "text": [
      "Predictive likelihood: -10191.733214036129\n",
      "Computing predictive likelihood score on held out documents...\n"
     ]
    },
    {
     "name": "stderr",
     "output_type": "stream",
     "text": [
      "100%|█████████████████████████████████████████████| 12/12 [00:00<00:00, 3522.16it/s]\n"
     ]
    },
    {
     "name": "stdout",
     "output_type": "stream",
     "text": [
      "Predictive likelihood: -10273.649543295156\n",
      "Computing predictive likelihood score on held out documents...\n"
     ]
    },
    {
     "name": "stderr",
     "output_type": "stream",
     "text": [
      "100%|█████████████████████████████████████████████| 12/12 [00:00<00:00, 4178.29it/s]\n"
     ]
    },
    {
     "name": "stdout",
     "output_type": "stream",
     "text": [
      "Predictive likelihood: -10288.371090160932\n",
      "Computing predictive likelihood score on held out documents...\n"
     ]
    },
    {
     "name": "stderr",
     "output_type": "stream",
     "text": [
      "100%|█████████████████████████████████████████████| 12/12 [00:00<00:00, 3481.23it/s]\n"
     ]
    },
    {
     "name": "stdout",
     "output_type": "stream",
     "text": [
      "Predictive likelihood: -10287.607427437135\n",
      "Computing predictive likelihood score on held out documents...\n"
     ]
    },
    {
     "name": "stderr",
     "output_type": "stream",
     "text": [
      "100%|█████████████████████████████████████████████| 12/12 [00:00<00:00, 3602.32it/s]\n"
     ]
    },
    {
     "name": "stdout",
     "output_type": "stream",
     "text": [
      "Predictive likelihood: -10264.712675764022\n",
      "Computing predictive likelihood score on held out documents...\n"
     ]
    },
    {
     "name": "stderr",
     "output_type": "stream",
     "text": [
      "100%|█████████████████████████████████████████████| 12/12 [00:00<00:00, 3709.31it/s]\n"
     ]
    },
    {
     "name": "stdout",
     "output_type": "stream",
     "text": [
      "Predictive likelihood: -10265.867526087652\n",
      "Computing predictive likelihood score on held out documents...\n"
     ]
    },
    {
     "name": "stderr",
     "output_type": "stream",
     "text": [
      "100%|█████████████████████████████████████████████| 12/12 [00:00<00:00, 4131.98it/s]\n"
     ]
    },
    {
     "name": "stdout",
     "output_type": "stream",
     "text": [
      "Predictive likelihood: -10241.467400924947\n",
      "Computing predictive likelihood score on held out documents...\n"
     ]
    },
    {
     "name": "stderr",
     "output_type": "stream",
     "text": [
      "100%|█████████████████████████████████████████████| 12/12 [00:00<00:00, 4737.99it/s]\n"
     ]
    },
    {
     "name": "stdout",
     "output_type": "stream",
     "text": [
      "Predictive likelihood: -10158.221691357086\n",
      "Computing predictive likelihood score on held out documents...\n"
     ]
    },
    {
     "name": "stderr",
     "output_type": "stream",
     "text": [
      "100%|█████████████████████████████████████████████| 12/12 [00:00<00:00, 3877.33it/s]\n"
     ]
    },
    {
     "name": "stdout",
     "output_type": "stream",
     "text": [
      "Predictive likelihood: -9982.577815676996\n",
      "Computing predictive likelihood score on held out documents...\n"
     ]
    },
    {
     "name": "stderr",
     "output_type": "stream",
     "text": [
      "100%|█████████████████████████████████████████████| 12/12 [00:00<00:00, 3772.14it/s]\n"
     ]
    },
    {
     "name": "stdout",
     "output_type": "stream",
     "text": [
      "Predictive likelihood: -9904.886290342805\n",
      "Computing predictive likelihood score on held out documents...\n"
     ]
    },
    {
     "name": "stderr",
     "output_type": "stream",
     "text": [
      "100%|█████████████████████████████████████████████| 12/12 [00:00<00:00, 3456.37it/s]\n"
     ]
    },
    {
     "name": "stdout",
     "output_type": "stream",
     "text": [
      "Predictive likelihood: -10008.11270878424\n",
      "Computing predictive likelihood score on held out documents...\n"
     ]
    },
    {
     "name": "stderr",
     "output_type": "stream",
     "text": [
      "100%|█████████████████████████████████████████████| 12/12 [00:00<00:00, 4299.65it/s]\n"
     ]
    },
    {
     "name": "stdout",
     "output_type": "stream",
     "text": [
      "Predictive likelihood: -10191.789417634829\n",
      "Computing predictive likelihood score on held out documents...\n"
     ]
    },
    {
     "name": "stderr",
     "output_type": "stream",
     "text": [
      "100%|█████████████████████████████████████████████| 12/12 [00:00<00:00, 3645.37it/s]\n"
     ]
    },
    {
     "name": "stdout",
     "output_type": "stream",
     "text": [
      "Predictive likelihood: -10273.641732101025\n",
      "Computing predictive likelihood score on held out documents...\n"
     ]
    },
    {
     "name": "stderr",
     "output_type": "stream",
     "text": [
      "100%|█████████████████████████████████████████████| 12/12 [00:00<00:00, 4658.61it/s]\n"
     ]
    },
    {
     "name": "stdout",
     "output_type": "stream",
     "text": [
      "Predictive likelihood: -10288.371460625562\n",
      "Computing predictive likelihood score on held out documents...\n"
     ]
    },
    {
     "name": "stderr",
     "output_type": "stream",
     "text": [
      "100%|█████████████████████████████████████████████| 12/12 [00:00<00:00, 4132.32it/s]\n"
     ]
    },
    {
     "name": "stdout",
     "output_type": "stream",
     "text": [
      "Predictive likelihood: -10287.607427437135\n",
      "Computing predictive likelihood score on held out documents...\n"
     ]
    },
    {
     "name": "stderr",
     "output_type": "stream",
     "text": [
      "100%|█████████████████████████████████████████████| 12/12 [00:00<00:00, 4215.03it/s]\n"
     ]
    },
    {
     "name": "stdout",
     "output_type": "stream",
     "text": [
      "Predictive likelihood: -10264.712675764022\n",
      "Computing predictive likelihood score on held out documents...\n"
     ]
    },
    {
     "name": "stderr",
     "output_type": "stream",
     "text": [
      "100%|█████████████████████████████████████████████| 12/12 [00:00<00:00, 3682.98it/s]\n"
     ]
    },
    {
     "name": "stdout",
     "output_type": "stream",
     "text": [
      "Predictive likelihood: -10265.891417005088\n",
      "Computing predictive likelihood score on held out documents...\n"
     ]
    },
    {
     "name": "stderr",
     "output_type": "stream",
     "text": [
      "100%|█████████████████████████████████████████████| 12/12 [00:00<00:00, 4523.38it/s]\n"
     ]
    },
    {
     "name": "stdout",
     "output_type": "stream",
     "text": [
      "Predictive likelihood: -10241.44545638495\n",
      "Computing predictive likelihood score on held out documents...\n"
     ]
    },
    {
     "name": "stderr",
     "output_type": "stream",
     "text": [
      "100%|█████████████████████████████████████████████| 12/12 [00:00<00:00, 3460.17it/s]\n"
     ]
    },
    {
     "name": "stdout",
     "output_type": "stream",
     "text": [
      "Predictive likelihood: -10158.258787737397\n",
      "Computing predictive likelihood score on held out documents...\n"
     ]
    },
    {
     "name": "stderr",
     "output_type": "stream",
     "text": [
      "100%|█████████████████████████████████████████████| 12/12 [00:00<00:00, 4196.05it/s]\n"
     ]
    },
    {
     "name": "stdout",
     "output_type": "stream",
     "text": [
      "Predictive likelihood: -9982.573141650078\n",
      "Computing predictive likelihood score on held out documents...\n"
     ]
    },
    {
     "name": "stderr",
     "output_type": "stream",
     "text": [
      "100%|█████████████████████████████████████████████| 12/12 [00:00<00:00, 3817.92it/s]\n"
     ]
    },
    {
     "name": "stdout",
     "output_type": "stream",
     "text": [
      "Predictive likelihood: -9904.962038329855\n",
      "Computing predictive likelihood score on held out documents...\n"
     ]
    },
    {
     "name": "stderr",
     "output_type": "stream",
     "text": [
      "100%|█████████████████████████████████████████████| 12/12 [00:00<00:00, 4750.06it/s]\n"
     ]
    },
    {
     "name": "stdout",
     "output_type": "stream",
     "text": [
      "Predictive likelihood: -10008.120520013723\n",
      "Computing predictive likelihood score on held out documents...\n"
     ]
    },
    {
     "name": "stderr",
     "output_type": "stream",
     "text": [
      "100%|█████████████████████████████████████████████| 12/12 [00:00<00:00, 3867.20it/s]\n"
     ]
    },
    {
     "name": "stdout",
     "output_type": "stream",
     "text": [
      "Predictive likelihood: -10191.846851456387\n",
      "Computing predictive likelihood score on held out documents...\n"
     ]
    },
    {
     "name": "stderr",
     "output_type": "stream",
     "text": [
      "100%|█████████████████████████████████████████████| 12/12 [00:00<00:00, 4722.43it/s]\n"
     ]
    },
    {
     "name": "stdout",
     "output_type": "stream",
     "text": [
      "Predictive likelihood: -10273.635412859074\n",
      "Computing predictive likelihood score on held out documents...\n"
     ]
    },
    {
     "name": "stderr",
     "output_type": "stream",
     "text": [
      "100%|█████████████████████████████████████████████| 12/12 [00:00<00:00, 4148.33it/s]\n"
     ]
    },
    {
     "name": "stdout",
     "output_type": "stream",
     "text": [
      "Predictive likelihood: -10288.371626172784\n",
      "Computing predictive likelihood score on held out documents...\n"
     ]
    },
    {
     "name": "stderr",
     "output_type": "stream",
     "text": [
      "100%|█████████████████████████████████████████████| 12/12 [00:00<00:00, 5235.79it/s]\n"
     ]
    },
    {
     "name": "stdout",
     "output_type": "stream",
     "text": [
      "Predictive likelihood: -10287.607427437135\n",
      "Computing predictive likelihood score on held out documents...\n"
     ]
    },
    {
     "name": "stderr",
     "output_type": "stream",
     "text": [
      "100%|█████████████████████████████████████████████| 12/12 [00:00<00:00, 3590.50it/s]\n"
     ]
    },
    {
     "name": "stdout",
     "output_type": "stream",
     "text": [
      "Predictive likelihood: -10264.712675764022\n",
      "Computing predictive likelihood score on held out documents...\n"
     ]
    },
    {
     "name": "stderr",
     "output_type": "stream",
     "text": [
      "100%|█████████████████████████████████████████████| 12/12 [00:00<00:00, 3365.09it/s]\n"
     ]
    },
    {
     "name": "stdout",
     "output_type": "stream",
     "text": [
      "Predictive likelihood: -10265.91457588581\n",
      "Computing predictive likelihood score on held out documents...\n"
     ]
    },
    {
     "name": "stderr",
     "output_type": "stream",
     "text": [
      "100%|█████████████████████████████████████████████| 12/12 [00:00<00:00, 4477.51it/s]\n"
     ]
    },
    {
     "name": "stdout",
     "output_type": "stream",
     "text": [
      "Predictive likelihood: -10241.424064269024\n",
      "Computing predictive likelihood score on held out documents...\n"
     ]
    },
    {
     "name": "stderr",
     "output_type": "stream",
     "text": [
      "100%|█████████████████████████████████████████████| 12/12 [00:00<00:00, 3918.99it/s]\n"
     ]
    },
    {
     "name": "stdout",
     "output_type": "stream",
     "text": [
      "Predictive likelihood: -10158.295813465076\n",
      "Computing predictive likelihood score on held out documents...\n"
     ]
    },
    {
     "name": "stderr",
     "output_type": "stream",
     "text": [
      "100%|█████████████████████████████████████████████| 12/12 [00:00<00:00, 4564.81it/s]\n"
     ]
    },
    {
     "name": "stdout",
     "output_type": "stream",
     "text": [
      "Predictive likelihood: -9982.573975357516\n",
      "Computing predictive likelihood score on held out documents...\n"
     ]
    },
    {
     "name": "stderr",
     "output_type": "stream",
     "text": [
      "100%|█████████████████████████████████████████████| 12/12 [00:00<00:00, 3898.35it/s]\n"
     ]
    },
    {
     "name": "stdout",
     "output_type": "stream",
     "text": [
      "Predictive likelihood: -9905.041456702318\n",
      "Computing predictive likelihood score on held out documents...\n"
     ]
    },
    {
     "name": "stderr",
     "output_type": "stream",
     "text": [
      "100%|█████████████████████████████████████████████| 12/12 [00:00<00:00, 4367.17it/s]\n"
     ]
    },
    {
     "name": "stdout",
     "output_type": "stream",
     "text": [
      "Predictive likelihood: -10008.13019170281\n",
      "Computing predictive likelihood score on held out documents...\n"
     ]
    },
    {
     "name": "stderr",
     "output_type": "stream",
     "text": [
      "100%|█████████████████████████████████████████████| 12/12 [00:00<00:00, 4082.05it/s]\n"
     ]
    },
    {
     "name": "stdout",
     "output_type": "stream",
     "text": [
      "Predictive likelihood: -10191.905451997187\n",
      "Computing predictive likelihood score on held out documents...\n"
     ]
    },
    {
     "name": "stderr",
     "output_type": "stream",
     "text": [
      "100%|█████████████████████████████████████████████| 12/12 [00:00<00:00, 4355.83it/s]\n"
     ]
    },
    {
     "name": "stdout",
     "output_type": "stream",
     "text": [
      "Predictive likelihood: -10273.630414785433\n",
      "Computing predictive likelihood score on held out documents...\n"
     ]
    },
    {
     "name": "stderr",
     "output_type": "stream",
     "text": [
      "100%|█████████████████████████████████████████████| 12/12 [00:00<00:00, 3780.64it/s]\n"
     ]
    },
    {
     "name": "stdout",
     "output_type": "stream",
     "text": [
      "Predictive likelihood: -10288.371607900392\n",
      "Computing predictive likelihood score on held out documents...\n"
     ]
    },
    {
     "name": "stderr",
     "output_type": "stream",
     "text": [
      "100%|█████████████████████████████████████████████| 12/12 [00:00<00:00, 4552.43it/s]\n"
     ]
    },
    {
     "name": "stdout",
     "output_type": "stream",
     "text": [
      "Predictive likelihood: -10287.607427437135\n",
      "Computing predictive likelihood score on held out documents...\n"
     ]
    },
    {
     "name": "stderr",
     "output_type": "stream",
     "text": [
      "100%|█████████████████████████████████████████████| 12/12 [00:00<00:00, 3937.08it/s]\n"
     ]
    },
    {
     "name": "stdout",
     "output_type": "stream",
     "text": [
      "Predictive likelihood: -10264.712675764022\n",
      "Computing predictive likelihood score on held out documents...\n"
     ]
    },
    {
     "name": "stderr",
     "output_type": "stream",
     "text": [
      "100%|█████████████████████████████████████████████| 12/12 [00:00<00:00, 4349.43it/s]\n"
     ]
    },
    {
     "name": "stdout",
     "output_type": "stream",
     "text": [
      "Predictive likelihood: -10265.937010509488\n",
      "Computing predictive likelihood score on held out documents...\n"
     ]
    },
    {
     "name": "stderr",
     "output_type": "stream",
     "text": [
      "100%|█████████████████████████████████████████████| 12/12 [00:00<00:00, 4331.84it/s]\n"
     ]
    },
    {
     "name": "stdout",
     "output_type": "stream",
     "text": [
      "Predictive likelihood: -10241.403230854505\n",
      "Computing predictive likelihood score on held out documents...\n"
     ]
    },
    {
     "name": "stderr",
     "output_type": "stream",
     "text": [
      "100%|█████████████████████████████████████████████| 12/12 [00:00<00:00, 3733.80it/s]\n"
     ]
    },
    {
     "name": "stdout",
     "output_type": "stream",
     "text": [
      "Predictive likelihood: -10158.332498604123\n",
      "Computing predictive likelihood score on held out documents...\n"
     ]
    },
    {
     "name": "stderr",
     "output_type": "stream",
     "text": [
      "100%|█████████████████████████████████████████████| 12/12 [00:00<00:00, 4246.32it/s]\n"
     ]
    },
    {
     "name": "stdout",
     "output_type": "stream",
     "text": [
      "Predictive likelihood: -9982.579997332654\n",
      "Computing predictive likelihood score on held out documents...\n"
     ]
    },
    {
     "name": "stderr",
     "output_type": "stream",
     "text": [
      "100%|█████████████████████████████████████████████| 12/12 [00:00<00:00, 3457.08it/s]\n"
     ]
    },
    {
     "name": "stdout",
     "output_type": "stream",
     "text": [
      "Predictive likelihood: -9905.123702831119\n",
      "Computing predictive likelihood score on held out documents...\n"
     ]
    },
    {
     "name": "stderr",
     "output_type": "stream",
     "text": [
      "100%|█████████████████████████████████████████████| 12/12 [00:00<00:00, 4175.51it/s]\n"
     ]
    },
    {
     "name": "stdout",
     "output_type": "stream",
     "text": [
      "Predictive likelihood: -10008.141529255541\n",
      "Computing predictive likelihood score on held out documents...\n"
     ]
    },
    {
     "name": "stderr",
     "output_type": "stream",
     "text": [
      "100%|█████████████████████████████████████████████| 12/12 [00:00<00:00, 3591.53it/s]\n"
     ]
    },
    {
     "name": "stdout",
     "output_type": "stream",
     "text": [
      "Predictive likelihood: -10191.965142303205\n",
      "Computing predictive likelihood score on held out documents...\n"
     ]
    },
    {
     "name": "stderr",
     "output_type": "stream",
     "text": [
      "100%|█████████████████████████████████████████████| 12/12 [00:00<00:00, 4182.45it/s]\n"
     ]
    },
    {
     "name": "stdout",
     "output_type": "stream",
     "text": [
      "Predictive likelihood: -10273.629532848237\n",
      "Computing predictive likelihood score on held out documents...\n"
     ]
    },
    {
     "name": "stderr",
     "output_type": "stream",
     "text": [
      "100%|█████████████████████████████████████████████| 12/12 [00:00<00:00, 3761.71it/s]\n"
     ]
    },
    {
     "name": "stdout",
     "output_type": "stream",
     "text": [
      "Predictive likelihood: -10288.371425107453\n",
      "Computing predictive likelihood score on held out documents...\n"
     ]
    },
    {
     "name": "stderr",
     "output_type": "stream",
     "text": [
      "100%|█████████████████████████████████████████████| 12/12 [00:00<00:00, 3874.65it/s]\n"
     ]
    },
    {
     "name": "stdout",
     "output_type": "stream",
     "text": [
      "Predictive likelihood: -10287.607427437135\n",
      "Computing predictive likelihood score on held out documents...\n"
     ]
    },
    {
     "name": "stderr",
     "output_type": "stream",
     "text": [
      "100%|█████████████████████████████████████████████| 12/12 [00:00<00:00, 3776.10it/s]\n"
     ]
    },
    {
     "name": "stdout",
     "output_type": "stream",
     "text": [
      "Predictive likelihood: -10264.712675764022\n",
      "Computing predictive likelihood score on held out documents...\n"
     ]
    },
    {
     "name": "stderr",
     "output_type": "stream",
     "text": [
      "100%|█████████████████████████████████████████████| 12/12 [00:00<00:00, 3821.40it/s]\n"
     ]
    },
    {
     "name": "stdout",
     "output_type": "stream",
     "text": [
      "Predictive likelihood: -10265.9587295643\n",
      "Computing predictive likelihood score on held out documents...\n"
     ]
    },
    {
     "name": "stderr",
     "output_type": "stream",
     "text": [
      "100%|█████████████████████████████████████████████| 12/12 [00:00<00:00, 3819.08it/s]\n"
     ]
    },
    {
     "name": "stdout",
     "output_type": "stream",
     "text": [
      "Predictive likelihood: -10241.382971524352\n",
      "Computing predictive likelihood score on held out documents...\n"
     ]
    },
    {
     "name": "stderr",
     "output_type": "stream",
     "text": [
      "100%|█████████████████████████████████████████████| 12/12 [00:00<00:00, 3768.75it/s]\n"
     ]
    },
    {
     "name": "stdout",
     "output_type": "stream",
     "text": [
      "Predictive likelihood: -10158.368595130225\n",
      "Computing predictive likelihood score on held out documents...\n"
     ]
    },
    {
     "name": "stderr",
     "output_type": "stream",
     "text": [
      "100%|█████████████████████████████████████████████| 12/12 [00:00<00:00, 3633.00it/s]\n"
     ]
    },
    {
     "name": "stdout",
     "output_type": "stream",
     "text": [
      "Predictive likelihood: -9982.590887699082\n",
      "Computing predictive likelihood score on held out documents...\n"
     ]
    },
    {
     "name": "stderr",
     "output_type": "stream",
     "text": [
      "100%|█████████████████████████████████████████████| 12/12 [00:00<00:00, 4047.25it/s]\n"
     ]
    },
    {
     "name": "stdout",
     "output_type": "stream",
     "text": [
      "Predictive likelihood: -9905.207935088338\n",
      "Computing predictive likelihood score on held out documents...\n"
     ]
    },
    {
     "name": "stderr",
     "output_type": "stream",
     "text": [
      "100%|█████████████████████████████████████████████| 12/12 [00:00<00:00, 3662.88it/s]\n"
     ]
    },
    {
     "name": "stdout",
     "output_type": "stream",
     "text": [
      "Predictive likelihood: -10008.154362857138\n",
      "Computing predictive likelihood score on held out documents...\n"
     ]
    },
    {
     "name": "stderr",
     "output_type": "stream",
     "text": [
      "100%|█████████████████████████████████████████████| 12/12 [00:00<00:00, 3973.45it/s]\n"
     ]
    },
    {
     "name": "stdout",
     "output_type": "stream",
     "text": [
      "Predictive likelihood: -10192.025833474729\n",
      "Computing predictive likelihood score on held out documents...\n"
     ]
    },
    {
     "name": "stderr",
     "output_type": "stream",
     "text": [
      "100%|█████████████████████████████████████████████| 12/12 [00:00<00:00, 3887.51it/s]\n"
     ]
    },
    {
     "name": "stdout",
     "output_type": "stream",
     "text": [
      "Predictive likelihood: -10273.629467081093\n",
      "Computing predictive likelihood score on held out documents...\n"
     ]
    },
    {
     "name": "stderr",
     "output_type": "stream",
     "text": [
      "100%|█████████████████████████████████████████████| 12/12 [00:00<00:00, 4028.14it/s]\n"
     ]
    },
    {
     "name": "stdout",
     "output_type": "stream",
     "text": [
      "Predictive likelihood: -10288.370991134754\n",
      "Computing predictive likelihood score on held out documents...\n"
     ]
    },
    {
     "name": "stderr",
     "output_type": "stream",
     "text": [
      "100%|█████████████████████████████████████████████| 12/12 [00:00<00:00, 3807.52it/s]\n"
     ]
    },
    {
     "name": "stdout",
     "output_type": "stream",
     "text": [
      "Predictive likelihood: -10287.607427437135\n",
      "Computing predictive likelihood score on held out documents...\n"
     ]
    },
    {
     "name": "stderr",
     "output_type": "stream",
     "text": [
      "100%|█████████████████████████████████████████████| 12/12 [00:00<00:00, 4310.32it/s]\n"
     ]
    },
    {
     "name": "stdout",
     "output_type": "stream",
     "text": [
      "Predictive likelihood: -10264.712675764022\n",
      "Computing predictive likelihood score on held out documents...\n"
     ]
    },
    {
     "name": "stderr",
     "output_type": "stream",
     "text": [
      "100%|█████████████████████████████████████████████| 12/12 [00:00<00:00, 3753.57it/s]\n"
     ]
    },
    {
     "name": "stdout",
     "output_type": "stream",
     "text": [
      "Predictive likelihood: -10265.979742337538\n",
      "Computing predictive likelihood score on held out documents...\n"
     ]
    },
    {
     "name": "stderr",
     "output_type": "stream",
     "text": [
      "100%|█████████████████████████████████████████████| 12/12 [00:00<00:00, 4055.41it/s]\n"
     ]
    },
    {
     "name": "stdout",
     "output_type": "stream",
     "text": [
      "Predictive likelihood: -10241.36330557998\n",
      "Computing predictive likelihood score on held out documents...\n"
     ]
    },
    {
     "name": "stderr",
     "output_type": "stream",
     "text": [
      "100%|█████████████████████████████████████████████| 12/12 [00:00<00:00, 3568.36it/s]\n"
     ]
    },
    {
     "name": "stdout",
     "output_type": "stream",
     "text": [
      "Predictive likelihood: -10158.403890397523\n",
      "Computing predictive likelihood score on held out documents...\n"
     ]
    },
    {
     "name": "stderr",
     "output_type": "stream",
     "text": [
      "100%|█████████████████████████████████████████████| 12/12 [00:00<00:00, 3894.73it/s]\n"
     ]
    },
    {
     "name": "stdout",
     "output_type": "stream",
     "text": [
      "Predictive likelihood: -9982.606321097881\n",
      "Computing predictive likelihood score on held out documents...\n"
     ]
    },
    {
     "name": "stderr",
     "output_type": "stream",
     "text": [
      "100%|█████████████████████████████████████████████| 12/12 [00:00<00:00, 3302.17it/s]\n"
     ]
    },
    {
     "name": "stdout",
     "output_type": "stream",
     "text": [
      "Predictive likelihood: -9905.293357471584\n",
      "Computing predictive likelihood score on held out documents...\n"
     ]
    },
    {
     "name": "stderr",
     "output_type": "stream",
     "text": [
      "100%|█████████████████████████████████████████████| 12/12 [00:00<00:00, 4649.57it/s]\n"
     ]
    },
    {
     "name": "stdout",
     "output_type": "stream",
     "text": [
      "Predictive likelihood: -10008.168528358703\n",
      "Computing predictive likelihood score on held out documents...\n"
     ]
    },
    {
     "name": "stderr",
     "output_type": "stream",
     "text": [
      "100%|█████████████████████████████████████████████| 12/12 [00:00<00:00, 3754.41it/s]\n"
     ]
    },
    {
     "name": "stdout",
     "output_type": "stream",
     "text": [
      "Predictive likelihood: -10192.087430526115\n",
      "Computing predictive likelihood score on held out documents...\n"
     ]
    },
    {
     "name": "stderr",
     "output_type": "stream",
     "text": [
      "100%|█████████████████████████████████████████████| 12/12 [00:00<00:00, 5093.78it/s]\n"
     ]
    },
    {
     "name": "stdout",
     "output_type": "stream",
     "text": [
      "Predictive likelihood: -10273.630119477646\n",
      "Computing predictive likelihood score on held out documents...\n"
     ]
    },
    {
     "name": "stderr",
     "output_type": "stream",
     "text": [
      "100%|█████████████████████████████████████████████| 12/12 [00:00<00:00, 3780.92it/s]\n"
     ]
    },
    {
     "name": "stdout",
     "output_type": "stream",
     "text": [
      "Predictive likelihood: -10288.370431102205\n",
      "Computing predictive likelihood score on held out documents...\n"
     ]
    },
    {
     "name": "stderr",
     "output_type": "stream",
     "text": [
      "100%|█████████████████████████████████████████████| 12/12 [00:00<00:00, 4298.18it/s]"
     ]
    },
    {
     "name": "stdout",
     "output_type": "stream",
     "text": [
      "Predictive likelihood: -10287.607427437135\n"
     ]
    },
    {
     "name": "stderr",
     "output_type": "stream",
     "text": [
      "\n"
     ]
    },
    {
     "name": "stdout",
     "output_type": "stream",
     "text": [
      "Computing predictive likelihood score on held out documents...\n"
     ]
    },
    {
     "name": "stderr",
     "output_type": "stream",
     "text": [
      "100%|█████████████████████████████████████████████| 12/12 [00:00<00:00, 3710.68it/s]\n"
     ]
    },
    {
     "name": "stdout",
     "output_type": "stream",
     "text": [
      "Predictive likelihood: -10264.712675764022\n",
      "Computing predictive likelihood score on held out documents...\n"
     ]
    },
    {
     "name": "stderr",
     "output_type": "stream",
     "text": [
      "100%|█████████████████████████████████████████████| 12/12 [00:00<00:00, 4097.00it/s]\n"
     ]
    },
    {
     "name": "stdout",
     "output_type": "stream",
     "text": [
      "Predictive likelihood: -10266.000058712685\n",
      "Computing predictive likelihood score on held out documents...\n"
     ]
    },
    {
     "name": "stderr",
     "output_type": "stream",
     "text": [
      "100%|█████████████████████████████████████████████| 12/12 [00:00<00:00, 3679.48it/s]\n"
     ]
    },
    {
     "name": "stdout",
     "output_type": "stream",
     "text": [
      "Predictive likelihood: -10241.344251644656\n",
      "Computing predictive likelihood score on held out documents...\n"
     ]
    },
    {
     "name": "stderr",
     "output_type": "stream",
     "text": [
      "100%|█████████████████████████████████████████████| 12/12 [00:00<00:00, 2623.49it/s]\n"
     ]
    },
    {
     "name": "stdout",
     "output_type": "stream",
     "text": [
      "Predictive likelihood: -10158.43821464553\n",
      "Computing predictive likelihood score on held out documents...\n"
     ]
    },
    {
     "name": "stderr",
     "output_type": "stream",
     "text": [
      "100%|█████████████████████████████████████████████| 12/12 [00:00<00:00, 3657.29it/s]\n"
     ]
    },
    {
     "name": "stdout",
     "output_type": "stream",
     "text": [
      "Predictive likelihood: -9982.625964507515\n",
      "Computing predictive likelihood score on held out documents...\n"
     ]
    },
    {
     "name": "stderr",
     "output_type": "stream",
     "text": [
      "100%|█████████████████████████████████████████████| 12/12 [00:00<00:00, 3964.37it/s]\n"
     ]
    },
    {
     "name": "stdout",
     "output_type": "stream",
     "text": [
      "Predictive likelihood: -9905.379260167147\n",
      "Computing predictive likelihood score on held out documents...\n"
     ]
    },
    {
     "name": "stderr",
     "output_type": "stream",
     "text": [
      "100%|█████████████████████████████████████████████| 12/12 [00:00<00:00, 3567.34it/s]\n"
     ]
    },
    {
     "name": "stdout",
     "output_type": "stream",
     "text": [
      "Predictive likelihood: -10008.183851435584\n",
      "Computing predictive likelihood score on held out documents...\n"
     ]
    },
    {
     "name": "stderr",
     "output_type": "stream",
     "text": [
      "100%|█████████████████████████████████████████████| 12/12 [00:00<00:00, 3796.61it/s]\n"
     ]
    },
    {
     "name": "stdout",
     "output_type": "stream",
     "text": [
      "Predictive likelihood: -10192.149839106403\n",
      "Computing predictive likelihood score on held out documents...\n"
     ]
    },
    {
     "name": "stderr",
     "output_type": "stream",
     "text": [
      "100%|█████████████████████████████████████████████| 12/12 [00:00<00:00, 4053.12it/s]\n"
     ]
    },
    {
     "name": "stdout",
     "output_type": "stream",
     "text": [
      "Predictive likelihood: -10273.63140240908\n",
      "Computing predictive likelihood score on held out documents...\n"
     ]
    },
    {
     "name": "stderr",
     "output_type": "stream",
     "text": [
      "100%|█████████████████████████████████████████████| 12/12 [00:00<00:00, 3645.37it/s]\n"
     ]
    },
    {
     "name": "stdout",
     "output_type": "stream",
     "text": [
      "Predictive likelihood: -10288.369759613184\n",
      "Computing predictive likelihood score on held out documents...\n"
     ]
    },
    {
     "name": "stderr",
     "output_type": "stream",
     "text": [
      "100%|█████████████████████████████████████████████| 12/12 [00:00<00:00, 4703.89it/s]\n"
     ]
    },
    {
     "name": "stdout",
     "output_type": "stream",
     "text": [
      "Predictive likelihood: -10287.607427437135\n",
      "Computing predictive likelihood score on held out documents...\n"
     ]
    },
    {
     "name": "stderr",
     "output_type": "stream",
     "text": [
      "100%|█████████████████████████████████████████████| 12/12 [00:00<00:00, 3727.72it/s]\n"
     ]
    },
    {
     "name": "stdout",
     "output_type": "stream",
     "text": [
      "Predictive likelihood: -10264.712675764022\n",
      "Computing predictive likelihood score on held out documents...\n"
     ]
    },
    {
     "name": "stderr",
     "output_type": "stream",
     "text": [
      "100%|█████████████████████████████████████████████| 12/12 [00:00<00:00, 3556.50it/s]\n"
     ]
    },
    {
     "name": "stdout",
     "output_type": "stream",
     "text": [
      "Predictive likelihood: -10266.01968933866\n",
      "Computing predictive likelihood score on held out documents...\n"
     ]
    },
    {
     "name": "stderr",
     "output_type": "stream",
     "text": [
      "100%|█████████████████████████████████████████████| 12/12 [00:00<00:00, 4325.88it/s]\n"
     ]
    },
    {
     "name": "stdout",
     "output_type": "stream",
     "text": [
      "Predictive likelihood: -10241.325824067055\n",
      "Computing predictive likelihood score on held out documents...\n"
     ]
    },
    {
     "name": "stderr",
     "output_type": "stream",
     "text": [
      "100%|█████████████████████████████████████████████| 12/12 [00:00<00:00, 4460.84it/s]\n"
     ]
    },
    {
     "name": "stdout",
     "output_type": "stream",
     "text": [
      "Predictive likelihood: -10158.471442316013\n",
      "Computing predictive likelihood score on held out documents...\n"
     ]
    },
    {
     "name": "stderr",
     "output_type": "stream",
     "text": [
      "100%|█████████████████████████████████████████████| 12/12 [00:00<00:00, 4887.52it/s]\n"
     ]
    },
    {
     "name": "stdout",
     "output_type": "stream",
     "text": [
      "Predictive likelihood: -9982.649477329702\n",
      "Computing predictive likelihood score on held out documents...\n"
     ]
    },
    {
     "name": "stderr",
     "output_type": "stream",
     "text": [
      "100%|█████████████████████████████████████████████| 12/12 [00:00<00:00, 4543.80it/s]\n"
     ]
    },
    {
     "name": "stdout",
     "output_type": "stream",
     "text": [
      "Predictive likelihood: -9905.465044675635\n",
      "Computing predictive likelihood score on held out documents...\n"
     ]
    },
    {
     "name": "stderr",
     "output_type": "stream",
     "text": [
      "100%|█████████████████████████████████████████████| 12/12 [00:00<00:00, 3943.56it/s]\n"
     ]
    },
    {
     "name": "stdout",
     "output_type": "stream",
     "text": [
      "Predictive likelihood: -10008.200140066196\n",
      "Computing predictive likelihood score on held out documents...\n"
     ]
    },
    {
     "name": "stderr",
     "output_type": "stream",
     "text": [
      "100%|█████████████████████████████████████████████| 12/12 [00:00<00:00, 4821.50it/s]\n"
     ]
    },
    {
     "name": "stdout",
     "output_type": "stream",
     "text": [
      "Predictive likelihood: -10192.212971726043\n",
      "Computing predictive likelihood score on held out documents...\n"
     ]
    },
    {
     "name": "stderr",
     "output_type": "stream",
     "text": [
      "100%|█████████████████████████████████████████████| 12/12 [00:00<00:00, 3963.12it/s]\n"
     ]
    },
    {
     "name": "stdout",
     "output_type": "stream",
     "text": [
      "Predictive likelihood: -10273.633235474199\n",
      "Computing predictive likelihood score on held out documents...\n"
     ]
    },
    {
     "name": "stderr",
     "output_type": "stream",
     "text": [
      "100%|█████████████████████████████████████████████| 12/12 [00:00<00:00, 3975.02it/s]\n"
     ]
    },
    {
     "name": "stdout",
     "output_type": "stream",
     "text": [
      "Predictive likelihood: -10288.368990302137\n",
      "Computing predictive likelihood score on held out documents...\n"
     ]
    },
    {
     "name": "stderr",
     "output_type": "stream",
     "text": [
      "100%|█████████████████████████████████████████████| 12/12 [00:00<00:00, 4095.33it/s]\n"
     ]
    },
    {
     "name": "stdout",
     "output_type": "stream",
     "text": [
      "Predictive likelihood: -10287.607427437135\n",
      "Computing predictive likelihood score on held out documents...\n"
     ]
    },
    {
     "name": "stderr",
     "output_type": "stream",
     "text": [
      "100%|█████████████████████████████████████████████| 12/12 [00:00<00:00, 4066.22it/s]\n"
     ]
    },
    {
     "name": "stdout",
     "output_type": "stream",
     "text": [
      "Predictive likelihood: -10264.712675764022\n",
      "Computing predictive likelihood score on held out documents...\n"
     ]
    },
    {
     "name": "stderr",
     "output_type": "stream",
     "text": [
      "100%|█████████████████████████████████████████████| 12/12 [00:00<00:00, 3963.12it/s]\n"
     ]
    },
    {
     "name": "stdout",
     "output_type": "stream",
     "text": [
      "Predictive likelihood: -10266.038645846776\n",
      "Computing predictive likelihood score on held out documents...\n"
     ]
    },
    {
     "name": "stderr",
     "output_type": "stream",
     "text": [
      "100%|█████████████████████████████████████████████| 12/12 [00:00<00:00, 4470.75it/s]\n"
     ]
    },
    {
     "name": "stdout",
     "output_type": "stream",
     "text": [
      "Predictive likelihood: -10241.308030618346\n",
      "Computing predictive likelihood score on held out documents...\n"
     ]
    },
    {
     "name": "stderr",
     "output_type": "stream",
     "text": [
      "100%|█████████████████████████████████████████████| 12/12 [00:00<00:00, 4229.91it/s]\n"
     ]
    },
    {
     "name": "stdout",
     "output_type": "stream",
     "text": [
      "Predictive likelihood: -10158.50348821107\n",
      "Computing predictive likelihood score on held out documents...\n"
     ]
    },
    {
     "name": "stderr",
     "output_type": "stream",
     "text": [
      "100%|█████████████████████████████████████████████| 12/12 [00:00<00:00, 3974.70it/s]\n"
     ]
    },
    {
     "name": "stdout",
     "output_type": "stream",
     "text": [
      "Predictive likelihood: -9982.676512657634\n",
      "Computing predictive likelihood score on held out documents...\n"
     ]
    },
    {
     "name": "stderr",
     "output_type": "stream",
     "text": [
      "100%|█████████████████████████████████████████████| 12/12 [00:00<00:00, 4356.21it/s]\n"
     ]
    },
    {
     "name": "stdout",
     "output_type": "stream",
     "text": [
      "Predictive likelihood: -9905.550229539995\n",
      "Computing predictive likelihood score on held out documents...\n"
     ]
    },
    {
     "name": "stderr",
     "output_type": "stream",
     "text": [
      "100%|█████████████████████████████████████████████| 12/12 [00:00<00:00, 3352.98it/s]\n"
     ]
    },
    {
     "name": "stdout",
     "output_type": "stream",
     "text": [
      "Predictive likelihood: -10008.217188464574\n",
      "Computing predictive likelihood score on held out documents...\n"
     ]
    },
    {
     "name": "stderr",
     "output_type": "stream",
     "text": [
      "100%|█████████████████████████████████████████████| 12/12 [00:00<00:00, 3602.58it/s]\n"
     ]
    },
    {
     "name": "stdout",
     "output_type": "stream",
     "text": [
      "Predictive likelihood: -10192.276750791052\n",
      "Computing predictive likelihood score on held out documents...\n"
     ]
    },
    {
     "name": "stderr",
     "output_type": "stream",
     "text": [
      "100%|█████████████████████████████████████████████| 12/12 [00:00<00:00, 5002.15it/s]\n"
     ]
    },
    {
     "name": "stdout",
     "output_type": "stream",
     "text": [
      "Predictive likelihood: -10273.635542754415\n",
      "Computing predictive likelihood score on held out documents...\n"
     ]
    },
    {
     "name": "stderr",
     "output_type": "stream",
     "text": [
      "100%|█████████████████████████████████████████████| 12/12 [00:00<00:00, 3666.35it/s]\n"
     ]
    },
    {
     "name": "stdout",
     "output_type": "stream",
     "text": [
      "Predictive likelihood: -10288.368135994506\n",
      "Computing predictive likelihood score on held out documents...\n"
     ]
    },
    {
     "name": "stderr",
     "output_type": "stream",
     "text": [
      "100%|█████████████████████████████████████████████| 12/12 [00:00<00:00, 4270.46it/s]\n"
     ]
    },
    {
     "name": "stdout",
     "output_type": "stream",
     "text": [
      "Predictive likelihood: -10287.607427437135\n",
      "Computing predictive likelihood score on held out documents...\n"
     ]
    },
    {
     "name": "stderr",
     "output_type": "stream",
     "text": [
      "100%|█████████████████████████████████████████████| 12/12 [00:00<00:00, 3826.63it/s]\n"
     ]
    },
    {
     "name": "stdout",
     "output_type": "stream",
     "text": [
      "Predictive likelihood: -10264.712675764022\n",
      "Computing predictive likelihood score on held out documents...\n"
     ]
    },
    {
     "name": "stderr",
     "output_type": "stream",
     "text": [
      "100%|█████████████████████████████████████████████| 12/12 [00:00<00:00, 4371.34it/s]\n"
     ]
    },
    {
     "name": "stdout",
     "output_type": "stream",
     "text": [
      "Predictive likelihood: -10266.056941024312\n",
      "Computing predictive likelihood score on held out documents...\n"
     ]
    },
    {
     "name": "stderr",
     "output_type": "stream",
     "text": [
      "100%|█████████████████████████████████████████████| 12/12 [00:00<00:00, 4473.13it/s]\n"
     ]
    },
    {
     "name": "stdout",
     "output_type": "stream",
     "text": [
      "Predictive likelihood: -10241.29087156938\n",
      "Computing predictive likelihood score on held out documents...\n"
     ]
    },
    {
     "name": "stderr",
     "output_type": "stream",
     "text": [
      "100%|█████████████████████████████████████████████| 12/12 [00:00<00:00, 4228.48it/s]\n"
     ]
    },
    {
     "name": "stdout",
     "output_type": "stream",
     "text": [
      "Predictive likelihood: -10158.534299642708\n",
      "Computing predictive likelihood score on held out documents...\n"
     ]
    },
    {
     "name": "stderr",
     "output_type": "stream",
     "text": [
      "100%|█████████████████████████████████████████████| 12/12 [00:00<00:00, 4555.72it/s]\n"
     ]
    },
    {
     "name": "stdout",
     "output_type": "stream",
     "text": [
      "Predictive likelihood: -9982.706719237422\n",
      "Computing predictive likelihood score on held out documents...\n"
     ]
    },
    {
     "name": "stderr",
     "output_type": "stream",
     "text": [
      "100%|█████████████████████████████████████████████| 12/12 [00:00<00:00, 4143.89it/s]\n"
     ]
    },
    {
     "name": "stdout",
     "output_type": "stream",
     "text": [
      "Predictive likelihood: -9905.634440332564\n",
      "Computing predictive likelihood score on held out documents...\n"
     ]
    },
    {
     "name": "stderr",
     "output_type": "stream",
     "text": [
      "100%|█████████████████████████████████████████████| 12/12 [00:00<00:00, 4540.52it/s]\n"
     ]
    },
    {
     "name": "stdout",
     "output_type": "stream",
     "text": [
      "Predictive likelihood: -10008.234791705048\n",
      "Computing predictive likelihood score on held out documents...\n"
     ]
    },
    {
     "name": "stderr",
     "output_type": "stream",
     "text": [
      "100%|█████████████████████████████████████████████| 12/12 [00:00<00:00, 3779.22it/s]\n"
     ]
    },
    {
     "name": "stdout",
     "output_type": "stream",
     "text": [
      "Predictive likelihood: -10192.341107604538\n",
      "Computing predictive likelihood score on held out documents...\n"
     ]
    },
    {
     "name": "stderr",
     "output_type": "stream",
     "text": [
      "100%|█████████████████████████████████████████████| 12/12 [00:00<00:00, 3672.23it/s]\n"
     ]
    },
    {
     "name": "stdout",
     "output_type": "stream",
     "text": [
      "Predictive likelihood: -10273.638250986007\n",
      "Computing predictive likelihood score on held out documents...\n"
     ]
    },
    {
     "name": "stderr",
     "output_type": "stream",
     "text": [
      "100%|█████████████████████████████████████████████| 12/12 [00:00<00:00, 3811.85it/s]\n"
     ]
    },
    {
     "name": "stdout",
     "output_type": "stream",
     "text": [
      "Predictive likelihood: -10288.367208858284\n",
      "Computing predictive likelihood score on held out documents...\n"
     ]
    },
    {
     "name": "stderr",
     "output_type": "stream",
     "text": [
      "100%|█████████████████████████████████████████████| 12/12 [00:00<00:00, 4157.58it/s]"
     ]
    },
    {
     "name": "stdout",
     "output_type": "stream",
     "text": [
      "Predictive likelihood: -10287.607427437135\n"
     ]
    },
    {
     "name": "stderr",
     "output_type": "stream",
     "text": [
      "\n"
     ]
    },
    {
     "name": "stdout",
     "output_type": "stream",
     "text": [
      "Computing predictive likelihood score on held out documents...\n"
     ]
    },
    {
     "name": "stderr",
     "output_type": "stream",
     "text": [
      "100%|█████████████████████████████████████████████| 12/12 [00:00<00:00, 4334.08it/s]\n"
     ]
    },
    {
     "name": "stdout",
     "output_type": "stream",
     "text": [
      "Predictive likelihood: -10264.712675764022\n",
      "Computing predictive likelihood score on held out documents...\n"
     ]
    },
    {
     "name": "stderr",
     "output_type": "stream",
     "text": [
      "100%|█████████████████████████████████████████████| 12/12 [00:00<00:00, 4234.53it/s]\n"
     ]
    },
    {
     "name": "stdout",
     "output_type": "stream",
     "text": [
      "Predictive likelihood: -10266.074588896598\n",
      "Computing predictive likelihood score on held out documents...\n"
     ]
    },
    {
     "name": "stderr",
     "output_type": "stream",
     "text": [
      "100%|█████████████████████████████████████████████| 12/12 [00:00<00:00, 3751.05it/s]\n"
     ]
    },
    {
     "name": "stdout",
     "output_type": "stream",
     "text": [
      "Predictive likelihood: -10241.27433997986\n",
      "Computing predictive likelihood score on held out documents...\n"
     ]
    },
    {
     "name": "stderr",
     "output_type": "stream",
     "text": [
      "100%|█████████████████████████████████████████████| 12/12 [00:00<00:00, 4123.52it/s]\n"
     ]
    },
    {
     "name": "stdout",
     "output_type": "stream",
     "text": [
      "Predictive likelihood: -10158.56384554352\n",
      "Computing predictive likelihood score on held out documents...\n"
     ]
    },
    {
     "name": "stderr",
     "output_type": "stream",
     "text": [
      "100%|█████████████████████████████████████████████| 12/12 [00:00<00:00, 3231.15it/s]\n"
     ]
    },
    {
     "name": "stdout",
     "output_type": "stream",
     "text": [
      "Predictive likelihood: -9982.739744978873\n",
      "Computing predictive likelihood score on held out documents...\n"
     ]
    },
    {
     "name": "stderr",
     "output_type": "stream",
     "text": [
      "100%|█████████████████████████████████████████████| 12/12 [00:00<00:00, 3970.00it/s]\n"
     ]
    },
    {
     "name": "stdout",
     "output_type": "stream",
     "text": [
      "Predictive likelihood: -9905.7173917149\n",
      "Computing predictive likelihood score on held out documents...\n"
     ]
    },
    {
     "name": "stderr",
     "output_type": "stream",
     "text": [
      "100%|█████████████████████████████████████████████| 12/12 [00:00<00:00, 3540.99it/s]\n"
     ]
    },
    {
     "name": "stdout",
     "output_type": "stream",
     "text": [
      "Predictive likelihood: -10008.25276590759\n",
      "Computing predictive likelihood score on held out documents...\n"
     ]
    },
    {
     "name": "stderr",
     "output_type": "stream",
     "text": [
      "100%|█████████████████████████████████████████████| 12/12 [00:00<00:00, 3531.55it/s]\n"
     ]
    },
    {
     "name": "stdout",
     "output_type": "stream",
     "text": [
      "Predictive likelihood: -10192.405978401748\n",
      "Computing predictive likelihood score on held out documents...\n"
     ]
    },
    {
     "name": "stderr",
     "output_type": "stream",
     "text": [
      "100%|█████████████████████████████████████████████| 12/12 [00:00<00:00, 3322.00it/s]\n"
     ]
    },
    {
     "name": "stdout",
     "output_type": "stream",
     "text": [
      "Predictive likelihood: -10273.641288816167\n",
      "Computing predictive likelihood score on held out documents...\n"
     ]
    },
    {
     "name": "stderr",
     "output_type": "stream",
     "text": [
      "100%|█████████████████████████████████████████████| 12/12 [00:00<00:00, 4146.28it/s]\n"
     ]
    },
    {
     "name": "stdout",
     "output_type": "stream",
     "text": [
      "Predictive likelihood: -10288.366220549126\n",
      "Computing predictive likelihood score on held out documents...\n"
     ]
    },
    {
     "name": "stderr",
     "output_type": "stream",
     "text": [
      "100%|█████████████████████████████████████████████| 12/12 [00:00<00:00, 4201.31it/s]\n"
     ]
    },
    {
     "name": "stdout",
     "output_type": "stream",
     "text": [
      "Predictive likelihood: -10287.607427437135\n",
      "Computing predictive likelihood score on held out documents...\n"
     ]
    },
    {
     "name": "stderr",
     "output_type": "stream",
     "text": [
      "100%|█████████████████████████████████████████████| 12/12 [00:00<00:00, 3939.86it/s]\n"
     ]
    },
    {
     "name": "stdout",
     "output_type": "stream",
     "text": [
      "Predictive likelihood: -10264.712675764022\n",
      "Computing predictive likelihood score on held out documents...\n"
     ]
    },
    {
     "name": "stderr",
     "output_type": "stream",
     "text": [
      "100%|█████████████████████████████████████████████| 12/12 [00:00<00:00, 5185.62it/s]\n"
     ]
    },
    {
     "name": "stdout",
     "output_type": "stream",
     "text": [
      "Predictive likelihood: -10266.091604703975\n",
      "Computing predictive likelihood score on held out documents...\n"
     ]
    },
    {
     "name": "stderr",
     "output_type": "stream",
     "text": [
      "100%|█████████████████████████████████████████████| 12/12 [00:00<00:00, 4105.35it/s]\n"
     ]
    },
    {
     "name": "stdout",
     "output_type": "stream",
     "text": [
      "Predictive likelihood: -10241.258422817133\n",
      "Computing predictive likelihood score on held out documents...\n"
     ]
    },
    {
     "name": "stderr",
     "output_type": "stream",
     "text": [
      "100%|█████████████████████████████████████████████| 12/12 [00:00<00:00, 3784.33it/s]\n"
     ]
    },
    {
     "name": "stdout",
     "output_type": "stream",
     "text": [
      "Predictive likelihood: -10158.592103877856\n",
      "Computing predictive likelihood score on held out documents...\n"
     ]
    },
    {
     "name": "stderr",
     "output_type": "stream",
     "text": [
      "100%|█████████████████████████████████████████████| 12/12 [00:00<00:00, 4341.56it/s]\n"
     ]
    },
    {
     "name": "stdout",
     "output_type": "stream",
     "text": [
      "Predictive likelihood: -9982.775243773965\n",
      "Computing predictive likelihood score on held out documents...\n"
     ]
    },
    {
     "name": "stderr",
     "output_type": "stream",
     "text": [
      "100%|█████████████████████████████████████████████| 12/12 [00:00<00:00, 3922.35it/s]\n"
     ]
    },
    {
     "name": "stdout",
     "output_type": "stream",
     "text": [
      "Predictive likelihood: -9905.798869298826\n",
      "Computing predictive likelihood score on held out documents...\n"
     ]
    },
    {
     "name": "stderr",
     "output_type": "stream",
     "text": [
      "100%|█████████████████████████████████████████████| 12/12 [00:00<00:00, 4468.76it/s]\n"
     ]
    },
    {
     "name": "stdout",
     "output_type": "stream",
     "text": [
      "Predictive likelihood: -10008.270966246919\n",
      "Computing predictive likelihood score on held out documents...\n"
     ]
    },
    {
     "name": "stderr",
     "output_type": "stream",
     "text": [
      "100%|█████████████████████████████████████████████| 12/12 [00:00<00:00, 3955.34it/s]"
     ]
    },
    {
     "name": "stdout",
     "output_type": "stream",
     "text": [
      "Predictive likelihood: -10192.471299654999\n"
     ]
    },
    {
     "name": "stderr",
     "output_type": "stream",
     "text": [
      "\n"
     ]
    },
    {
     "name": "stdout",
     "output_type": "stream",
     "text": [
      "Computing predictive likelihood score on held out documents...\n"
     ]
    },
    {
     "name": "stderr",
     "output_type": "stream",
     "text": [
      "100%|█████████████████████████████████████████████| 12/12 [00:00<00:00, 5206.54it/s]\n"
     ]
    },
    {
     "name": "stdout",
     "output_type": "stream",
     "text": [
      "Predictive likelihood: -10273.644587009605\n",
      "Computing predictive likelihood score on held out documents...\n"
     ]
    },
    {
     "name": "stderr",
     "output_type": "stream",
     "text": [
      "100%|█████████████████████████████████████████████| 12/12 [00:00<00:00, 4070.49it/s]\n"
     ]
    },
    {
     "name": "stdout",
     "output_type": "stream",
     "text": [
      "Predictive likelihood: -10288.365182349324\n",
      "Computing predictive likelihood score on held out documents...\n"
     ]
    },
    {
     "name": "stderr",
     "output_type": "stream",
     "text": [
      "100%|█████████████████████████████████████████████| 12/12 [00:00<00:00, 3707.40it/s]\n"
     ]
    },
    {
     "name": "stdout",
     "output_type": "stream",
     "text": [
      "Predictive likelihood: -10287.607427437135\n",
      "Computing predictive likelihood score on held out documents...\n"
     ]
    },
    {
     "name": "stderr",
     "output_type": "stream",
     "text": [
      "100%|█████████████████████████████████████████████| 12/12 [00:00<00:00, 4985.80it/s]\n"
     ]
    },
    {
     "name": "stdout",
     "output_type": "stream",
     "text": [
      "Predictive likelihood: -10264.712675764022\n",
      "Computing predictive likelihood score on held out documents...\n"
     ]
    },
    {
     "name": "stderr",
     "output_type": "stream",
     "text": [
      "100%|█████████████████████████████████████████████| 12/12 [00:00<00:00, 5649.53it/s]\n"
     ]
    },
    {
     "name": "stdout",
     "output_type": "stream",
     "text": [
      "Predictive likelihood: -10266.108004786753\n",
      "Computing predictive likelihood score on held out documents...\n"
     ]
    },
    {
     "name": "stderr",
     "output_type": "stream",
     "text": [
      "100%|█████████████████████████████████████████████| 12/12 [00:00<00:00, 4153.46it/s]\n"
     ]
    },
    {
     "name": "stdout",
     "output_type": "stream",
     "text": [
      "Predictive likelihood: -10241.243102419643\n",
      "Computing predictive likelihood score on held out documents...\n"
     ]
    },
    {
     "name": "stderr",
     "output_type": "stream",
     "text": [
      "100%|█████████████████████████████████████████████| 12/12 [00:00<00:00, 3370.05it/s]\n"
     ]
    },
    {
     "name": "stdout",
     "output_type": "stream",
     "text": [
      "Predictive likelihood: -10158.61904955286\n",
      "Computing predictive likelihood score on held out documents...\n"
     ]
    },
    {
     "name": "stderr",
     "output_type": "stream",
     "text": [
      "100%|█████████████████████████████████████████████| 12/12 [00:00<00:00, 4192.91it/s]\n"
     ]
    },
    {
     "name": "stdout",
     "output_type": "stream",
     "text": [
      "Predictive likelihood: -9982.812886651607\n",
      "Computing predictive likelihood score on held out documents...\n"
     ]
    },
    {
     "name": "stderr",
     "output_type": "stream",
     "text": [
      "100%|█████████████████████████████████████████████| 12/12 [00:00<00:00, 3579.78it/s]\n"
     ]
    },
    {
     "name": "stdout",
     "output_type": "stream",
     "text": [
      "Predictive likelihood: -9905.878716168774\n",
      "Computing predictive likelihood score on held out documents...\n"
     ]
    },
    {
     "name": "stderr",
     "output_type": "stream",
     "text": [
      "100%|█████████████████████████████████████████████| 12/12 [00:00<00:00, 4290.85it/s]"
     ]
    },
    {
     "name": "stdout",
     "output_type": "stream",
     "text": [
      "Predictive likelihood: -10008.289295813336\n"
     ]
    },
    {
     "name": "stderr",
     "output_type": "stream",
     "text": [
      "\n"
     ]
    },
    {
     "name": "stdout",
     "output_type": "stream",
     "text": [
      "Computing predictive likelihood score on held out documents...\n"
     ]
    },
    {
     "name": "stderr",
     "output_type": "stream",
     "text": [
      "100%|█████████████████████████████████████████████| 12/12 [00:00<00:00, 4253.86it/s]\n"
     ]
    },
    {
     "name": "stdout",
     "output_type": "stream",
     "text": [
      "Predictive likelihood: -10192.537004837382\n",
      "Computing predictive likelihood score on held out documents...\n"
     ]
    },
    {
     "name": "stderr",
     "output_type": "stream",
     "text": [
      "100%|█████████████████████████████████████████████| 12/12 [00:00<00:00, 4029.76it/s]\n"
     ]
    },
    {
     "name": "stdout",
     "output_type": "stream",
     "text": [
      "Predictive likelihood: -10273.648079278933\n",
      "Computing predictive likelihood score on held out documents...\n"
     ]
    },
    {
     "name": "stderr",
     "output_type": "stream",
     "text": [
      "100%|█████████████████████████████████████████████| 12/12 [00:00<00:00, 4322.91it/s]\n"
     ]
    },
    {
     "name": "stdout",
     "output_type": "stream",
     "text": [
      "Predictive likelihood: -10288.364105301378\n",
      "Computing predictive likelihood score on held out documents...\n"
     ]
    },
    {
     "name": "stderr",
     "output_type": "stream",
     "text": [
      "100%|█████████████████████████████████████████████| 12/12 [00:00<00:00, 3551.23it/s]\n"
     ]
    },
    {
     "name": "stdout",
     "output_type": "stream",
     "text": [
      "Predictive likelihood: -10287.607427437135\n",
      "Computing predictive likelihood score on held out documents...\n"
     ]
    },
    {
     "name": "stderr",
     "output_type": "stream",
     "text": [
      "100%|█████████████████████████████████████████████| 12/12 [00:00<00:00, 5594.27it/s]\n"
     ]
    },
    {
     "name": "stdout",
     "output_type": "stream",
     "text": [
      "Predictive likelihood: -10264.712675764022\n",
      "Computing predictive likelihood score on held out documents...\n"
     ]
    },
    {
     "name": "stderr",
     "output_type": "stream",
     "text": [
      "100%|█████████████████████████████████████████████| 12/12 [00:00<00:00, 4123.85it/s]\n"
     ]
    },
    {
     "name": "stdout",
     "output_type": "stream",
     "text": [
      "Predictive likelihood: -10266.123806399512\n",
      "Computing predictive likelihood score on held out documents...\n"
     ]
    },
    {
     "name": "stderr",
     "output_type": "stream",
     "text": [
      "100%|█████████████████████████████████████████████| 12/12 [00:00<00:00, 3520.19it/s]\n"
     ]
    },
    {
     "name": "stdout",
     "output_type": "stream",
     "text": [
      "Predictive likelihood: -10241.228357856342\n",
      "Computing predictive likelihood score on held out documents...\n"
     ]
    },
    {
     "name": "stderr",
     "output_type": "stream",
     "text": [
      "100%|█████████████████████████████████████████████| 12/12 [00:00<00:00, 5641.30it/s]\n"
     ]
    },
    {
     "name": "stdout",
     "output_type": "stream",
     "text": [
      "Predictive likelihood: -10158.644645634537\n",
      "Computing predictive likelihood score on held out documents...\n"
     ]
    },
    {
     "name": "stderr",
     "output_type": "stream",
     "text": [
      "100%|█████████████████████████████████████████████| 12/12 [00:00<00:00, 3349.19it/s]\n"
     ]
    },
    {
     "name": "stdout",
     "output_type": "stream",
     "text": [
      "Predictive likelihood: -9982.852376010249\n",
      "Computing predictive likelihood score on held out documents...\n"
     ]
    },
    {
     "name": "stderr",
     "output_type": "stream",
     "text": [
      "100%|█████████████████████████████████████████████| 12/12 [00:00<00:00, 4413.51it/s]"
     ]
    },
    {
     "name": "stdout",
     "output_type": "stream",
     "text": [
      "Predictive likelihood: -9905.95682533668\n"
     ]
    },
    {
     "name": "stderr",
     "output_type": "stream",
     "text": [
      "\n"
     ]
    },
    {
     "name": "stdout",
     "output_type": "stream",
     "text": [
      "Computing predictive likelihood score on held out documents...\n"
     ]
    },
    {
     "name": "stderr",
     "output_type": "stream",
     "text": [
      "100%|█████████████████████████████████████████████| 12/12 [00:00<00:00, 3156.18it/s]\n"
     ]
    },
    {
     "name": "stdout",
     "output_type": "stream",
     "text": [
      "Predictive likelihood: -10008.307702217095\n",
      "Computing predictive likelihood score on held out documents...\n"
     ]
    },
    {
     "name": "stderr",
     "output_type": "stream",
     "text": [
      "100%|█████████████████████████████████████████████| 12/12 [00:00<00:00, 4046.93it/s]\n"
     ]
    },
    {
     "name": "stdout",
     "output_type": "stream",
     "text": [
      "Predictive likelihood: -10192.603023841171\n",
      "Computing predictive likelihood score on held out documents...\n"
     ]
    },
    {
     "name": "stderr",
     "output_type": "stream",
     "text": [
      "100%|█████████████████████████████████████████████| 12/12 [00:00<00:00, 4147.64it/s]\n"
     ]
    },
    {
     "name": "stdout",
     "output_type": "stream",
     "text": [
      "Predictive likelihood: -10273.651703353968\n",
      "Computing predictive likelihood score on held out documents...\n"
     ]
    },
    {
     "name": "stderr",
     "output_type": "stream",
     "text": [
      "100%|█████████████████████████████████████████████| 12/12 [00:00<00:00, 3721.10it/s]\n"
     ]
    },
    {
     "name": "stdout",
     "output_type": "stream",
     "text": [
      "Predictive likelihood: -10288.363000336245\n",
      "Computing predictive likelihood score on held out documents...\n"
     ]
    },
    {
     "name": "stderr",
     "output_type": "stream",
     "text": [
      "100%|█████████████████████████████████████████████| 12/12 [00:00<00:00, 4109.38it/s]\n"
     ]
    },
    {
     "name": "stdout",
     "output_type": "stream",
     "text": [
      "Predictive likelihood: -10287.607427437135\n",
      "Computing predictive likelihood score on held out documents...\n"
     ]
    },
    {
     "name": "stderr",
     "output_type": "stream",
     "text": [
      "100%|█████████████████████████████████████████████| 12/12 [00:00<00:00, 4201.66it/s]\n"
     ]
    },
    {
     "name": "stdout",
     "output_type": "stream",
     "text": [
      "Predictive likelihood: -10264.712675764022\n",
      "Computing predictive likelihood score on held out documents...\n"
     ]
    },
    {
     "name": "stderr",
     "output_type": "stream",
     "text": [
      "100%|█████████████████████████████████████████████| 12/12 [00:00<00:00, 4275.18it/s]\n"
     ]
    },
    {
     "name": "stdout",
     "output_type": "stream",
     "text": [
      "Predictive likelihood: -10266.139027477593\n",
      "Computing predictive likelihood score on held out documents...\n"
     ]
    },
    {
     "name": "stderr",
     "output_type": "stream",
     "text": [
      "100%|█████████████████████████████████████████████| 12/12 [00:00<00:00, 3775.53it/s]\n"
     ]
    },
    {
     "name": "stdout",
     "output_type": "stream",
     "text": [
      "Predictive likelihood: -10241.214165882195\n",
      "Computing predictive likelihood score on held out documents...\n"
     ]
    },
    {
     "name": "stderr",
     "output_type": "stream",
     "text": [
      "100%|█████████████████████████████████████████████| 12/12 [00:00<00:00, 4932.06it/s]"
     ]
    },
    {
     "name": "stdout",
     "output_type": "stream",
     "text": [
      "Predictive likelihood: -10158.668840350214\n"
     ]
    },
    {
     "name": "stderr",
     "output_type": "stream",
     "text": [
      "\n"
     ]
    },
    {
     "name": "stdout",
     "output_type": "stream",
     "text": [
      "Computing predictive likelihood score on held out documents...\n"
     ]
    },
    {
     "name": "stderr",
     "output_type": "stream",
     "text": [
      "100%|█████████████████████████████████████████████| 12/12 [00:00<00:00, 4879.93it/s]\n"
     ]
    },
    {
     "name": "stdout",
     "output_type": "stream",
     "text": [
      "Predictive likelihood: -9982.893459380206\n",
      "Computing predictive likelihood score on held out documents...\n"
     ]
    },
    {
     "name": "stderr",
     "output_type": "stream",
     "text": [
      "100%|█████████████████████████████████████████████| 12/12 [00:00<00:00, 4545.44it/s]\n"
     ]
    },
    {
     "name": "stdout",
     "output_type": "stream",
     "text": [
      "Predictive likelihood: -9906.033136650463\n",
      "Computing predictive likelihood score on held out documents...\n"
     ]
    },
    {
     "name": "stderr",
     "output_type": "stream",
     "text": [
      "100%|█████████████████████████████████████████████| 12/12 [00:00<00:00, 5451.87it/s]\n"
     ]
    },
    {
     "name": "stdout",
     "output_type": "stream",
     "text": [
      "Predictive likelihood: -10008.326163827018\n",
      "Computing predictive likelihood score on held out documents...\n"
     ]
    },
    {
     "name": "stderr",
     "output_type": "stream",
     "text": [
      "100%|█████████████████████████████████████████████| 12/12 [00:00<00:00, 4411.57it/s]\n"
     ]
    },
    {
     "name": "stdout",
     "output_type": "stream",
     "text": [
      "Predictive likelihood: -10192.669284969705\n",
      "Computing predictive likelihood score on held out documents...\n"
     ]
    },
    {
     "name": "stderr",
     "output_type": "stream",
     "text": [
      "100%|█████████████████████████████████████████████| 12/12 [00:00<00:00, 4287.19it/s]\n"
     ]
    },
    {
     "name": "stdout",
     "output_type": "stream",
     "text": [
      "Predictive likelihood: -10273.655401962258\n",
      "Computing predictive likelihood score on held out documents...\n"
     ]
    },
    {
     "name": "stderr",
     "output_type": "stream",
     "text": [
      "100%|█████████████████████████████████████████████| 12/12 [00:00<00:00, 4285.73it/s]\n"
     ]
    },
    {
     "name": "stdout",
     "output_type": "stream",
     "text": [
      "Predictive likelihood: -10288.361878394997\n",
      "Computing predictive likelihood score on held out documents...\n"
     ]
    },
    {
     "name": "stderr",
     "output_type": "stream",
     "text": [
      "100%|█████████████████████████████████████████████| 12/12 [00:00<00:00, 4388.11it/s]\n"
     ]
    },
    {
     "name": "stdout",
     "output_type": "stream",
     "text": [
      "Predictive likelihood: -10287.607427437135\n",
      "Computing predictive likelihood score on held out documents...\n"
     ]
    },
    {
     "name": "stderr",
     "output_type": "stream",
     "text": [
      "100%|█████████████████████████████████████████████| 12/12 [00:00<00:00, 3694.61it/s]\n"
     ]
    },
    {
     "name": "stdout",
     "output_type": "stream",
     "text": [
      "Predictive likelihood: -10264.712675764022\n",
      "Computing predictive likelihood score on held out documents...\n"
     ]
    },
    {
     "name": "stderr",
     "output_type": "stream",
     "text": [
      "100%|█████████████████████████████████████████████| 12/12 [00:00<00:00, 4472.73it/s]\n"
     ]
    },
    {
     "name": "stdout",
     "output_type": "stream",
     "text": [
      "Predictive likelihood: -10266.153686373633\n",
      "Computing predictive likelihood score on held out documents...\n"
     ]
    },
    {
     "name": "stderr",
     "output_type": "stream",
     "text": [
      "100%|█████████████████████████████████████████████| 12/12 [00:00<00:00, 3431.39it/s]\n"
     ]
    },
    {
     "name": "stdout",
     "output_type": "stream",
     "text": [
      "Predictive likelihood: -10241.200501384477\n",
      "Computing predictive likelihood score on held out documents...\n"
     ]
    },
    {
     "name": "stderr",
     "output_type": "stream",
     "text": [
      "100%|█████████████████████████████████████████████| 12/12 [00:00<00:00, 5065.58it/s]\n"
     ]
    },
    {
     "name": "stdout",
     "output_type": "stream",
     "text": [
      "Predictive likelihood: -10158.691570995881\n",
      "Computing predictive likelihood score on held out documents...\n"
     ]
    },
    {
     "name": "stderr",
     "output_type": "stream",
     "text": [
      "100%|█████████████████████████████████████████████| 12/12 [00:00<00:00, 4454.13it/s]\n"
     ]
    },
    {
     "name": "stdout",
     "output_type": "stream",
     "text": [
      "Predictive likelihood: -9982.935938684424\n",
      "Computing predictive likelihood score on held out documents...\n"
     ]
    },
    {
     "name": "stderr",
     "output_type": "stream",
     "text": [
      "100%|█████████████████████████████████████████████| 12/12 [00:00<00:00, 4083.37it/s]\n"
     ]
    },
    {
     "name": "stdout",
     "output_type": "stream",
     "text": [
      "Predictive likelihood: -9906.10763545462\n",
      "Computing predictive likelihood score on held out documents...\n"
     ]
    },
    {
     "name": "stderr",
     "output_type": "stream",
     "text": [
      "100%|█████████████████████████████████████████████| 12/12 [00:00<00:00, 3683.25it/s]\n"
     ]
    },
    {
     "name": "stdout",
     "output_type": "stream",
     "text": [
      "Predictive likelihood: -10008.344671431058\n",
      "Computing predictive likelihood score on held out documents...\n"
     ]
    },
    {
     "name": "stderr",
     "output_type": "stream",
     "text": [
      "100%|█████████████████████████████████████████████| 12/12 [00:00<00:00, 2889.47it/s]\n"
     ]
    },
    {
     "name": "stdout",
     "output_type": "stream",
     "text": [
      "Predictive likelihood: -10192.735718414959\n",
      "Computing predictive likelihood score on held out documents...\n"
     ]
    },
    {
     "name": "stderr",
     "output_type": "stream",
     "text": [
      "100%|█████████████████████████████████████████████| 12/12 [00:00<00:00, 3756.93it/s]\n"
     ]
    },
    {
     "name": "stdout",
     "output_type": "stream",
     "text": [
      "Predictive likelihood: -10273.659123521053\n",
      "Computing predictive likelihood score on held out documents...\n"
     ]
    },
    {
     "name": "stderr",
     "output_type": "stream",
     "text": [
      "100%|█████████████████████████████████████████████| 12/12 [00:00<00:00, 3294.82it/s]\n"
     ]
    },
    {
     "name": "stdout",
     "output_type": "stream",
     "text": [
      "Predictive likelihood: -10288.36075054328\n",
      "Computing predictive likelihood score on held out documents...\n"
     ]
    },
    {
     "name": "stderr",
     "output_type": "stream",
     "text": [
      "100%|█████████████████████████████████████████████| 12/12 [00:00<00:00, 3373.66it/s]\n"
     ]
    },
    {
     "name": "stdout",
     "output_type": "stream",
     "text": [
      "Predictive likelihood: -10287.607427437135\n",
      "Computing predictive likelihood score on held out documents...\n"
     ]
    },
    {
     "name": "stderr",
     "output_type": "stream",
     "text": [
      "100%|█████████████████████████████████████████████| 12/12 [00:00<00:00, 3413.94it/s]\n"
     ]
    },
    {
     "name": "stdout",
     "output_type": "stream",
     "text": [
      "Predictive likelihood: -10264.712675764022\n",
      "Computing predictive likelihood score on held out documents...\n"
     ]
    },
    {
     "name": "stderr",
     "output_type": "stream",
     "text": [
      "100%|█████████████████████████████████████████████| 12/12 [00:00<00:00, 3120.96it/s]\n"
     ]
    },
    {
     "name": "stdout",
     "output_type": "stream",
     "text": [
      "Predictive likelihood: -10266.167801576392\n",
      "Computing predictive likelihood score on held out documents...\n"
     ]
    },
    {
     "name": "stderr",
     "output_type": "stream",
     "text": [
      "100%|█████████████████████████████████████████████| 12/12 [00:00<00:00, 2905.48it/s]\n"
     ]
    },
    {
     "name": "stdout",
     "output_type": "stream",
     "text": [
      "Predictive likelihood: -10241.187337395422\n",
      "Computing predictive likelihood score on held out documents...\n"
     ]
    },
    {
     "name": "stderr",
     "output_type": "stream",
     "text": [
      "100%|█████████████████████████████████████████████| 12/12 [00:00<00:00, 3871.96it/s]\n"
     ]
    },
    {
     "name": "stdout",
     "output_type": "stream",
     "text": [
      "Predictive likelihood: -10158.712773920559\n",
      "Computing predictive likelihood score on held out documents...\n"
     ]
    },
    {
     "name": "stderr",
     "output_type": "stream",
     "text": [
      "100%|█████████████████████████████████████████████| 12/12 [00:00<00:00, 3023.28it/s]\n"
     ]
    },
    {
     "name": "stdout",
     "output_type": "stream",
     "text": [
      "Predictive likelihood: -9982.979672679092\n",
      "Computing predictive likelihood score on held out documents...\n"
     ]
    },
    {
     "name": "stderr",
     "output_type": "stream",
     "text": [
      "100%|█████████████████████████████████████████████| 12/12 [00:00<00:00, 2893.79it/s]\n"
     ]
    },
    {
     "name": "stdout",
     "output_type": "stream",
     "text": [
      "Predictive likelihood: -9906.180350557754\n",
      "Computing predictive likelihood score on held out documents...\n"
     ]
    },
    {
     "name": "stderr",
     "output_type": "stream",
     "text": [
      "100%|█████████████████████████████████████████████| 12/12 [00:00<00:00, 3767.62it/s]\n"
     ]
    },
    {
     "name": "stdout",
     "output_type": "stream",
     "text": [
      "Predictive likelihood: -10008.36321257498\n",
      "Computing predictive likelihood score on held out documents...\n"
     ]
    },
    {
     "name": "stderr",
     "output_type": "stream",
     "text": [
      "100%|█████████████████████████████████████████████| 12/12 [00:00<00:00, 2995.57it/s]\n"
     ]
    },
    {
     "name": "stdout",
     "output_type": "stream",
     "text": [
      "Predictive likelihood: -10192.802259691438\n",
      "Computing predictive likelihood score on held out documents...\n"
     ]
    },
    {
     "name": "stderr",
     "output_type": "stream",
     "text": [
      "100%|█████████████████████████████████████████████| 12/12 [00:00<00:00, 3424.39it/s]\n"
     ]
    },
    {
     "name": "stdout",
     "output_type": "stream",
     "text": [
      "Predictive likelihood: -10273.662822472139\n",
      "Computing predictive likelihood score on held out documents...\n"
     ]
    },
    {
     "name": "stderr",
     "output_type": "stream",
     "text": [
      "100%|█████████████████████████████████████████████| 12/12 [00:00<00:00, 2746.46it/s]\n"
     ]
    },
    {
     "name": "stdout",
     "output_type": "stream",
     "text": [
      "Predictive likelihood: -10288.359628074624\n",
      "Computing predictive likelihood score on held out documents...\n"
     ]
    },
    {
     "name": "stderr",
     "output_type": "stream",
     "text": [
      "100%|█████████████████████████████████████████████| 12/12 [00:00<00:00, 3512.08it/s]\n"
     ]
    },
    {
     "name": "stdout",
     "output_type": "stream",
     "text": [
      "Predictive likelihood: -10287.607427437135\n",
      "Computing predictive likelihood score on held out documents...\n"
     ]
    },
    {
     "name": "stderr",
     "output_type": "stream",
     "text": [
      "100%|█████████████████████████████████████████████| 12/12 [00:00<00:00, 2887.98it/s]\n"
     ]
    },
    {
     "name": "stdout",
     "output_type": "stream",
     "text": [
      "Predictive likelihood: -10264.712675764022\n",
      "Computing predictive likelihood score on held out documents...\n"
     ]
    },
    {
     "name": "stderr",
     "output_type": "stream",
     "text": [
      "100%|█████████████████████████████████████████████| 12/12 [00:00<00:00, 2855.86it/s]\n"
     ]
    },
    {
     "name": "stdout",
     "output_type": "stream",
     "text": [
      "Predictive likelihood: -10266.181391417676\n",
      "Computing predictive likelihood score on held out documents...\n"
     ]
    },
    {
     "name": "stderr",
     "output_type": "stream",
     "text": [
      "100%|█████████████████████████████████████████████| 12/12 [00:00<00:00, 3333.22it/s]\n"
     ]
    },
    {
     "name": "stdout",
     "output_type": "stream",
     "text": [
      "Predictive likelihood: -10241.174644867244\n",
      "Computing predictive likelihood score on held out documents...\n"
     ]
    },
    {
     "name": "stderr",
     "output_type": "stream",
     "text": [
      "100%|█████████████████████████████████████████████| 12/12 [00:00<00:00, 3785.47it/s]\n"
     ]
    },
    {
     "name": "stdout",
     "output_type": "stream",
     "text": [
      "Predictive likelihood: -10158.732397971304\n",
      "Computing predictive likelihood score on held out documents...\n"
     ]
    },
    {
     "name": "stderr",
     "output_type": "stream",
     "text": [
      "100%|█████████████████████████████████████████████| 12/12 [00:00<00:00, 2641.53it/s]\n"
     ]
    },
    {
     "name": "stdout",
     "output_type": "stream",
     "text": [
      "Predictive likelihood: -9983.024572877288\n",
      "Computing predictive likelihood score on held out documents...\n"
     ]
    },
    {
     "name": "stderr",
     "output_type": "stream",
     "text": [
      "100%|█████████████████████████████████████████████| 12/12 [00:00<00:00, 3177.90it/s]\n"
     ]
    },
    {
     "name": "stdout",
     "output_type": "stream",
     "text": [
      "Predictive likelihood: -9906.251350239289\n",
      "Computing predictive likelihood score on held out documents...\n"
     ]
    },
    {
     "name": "stderr",
     "output_type": "stream",
     "text": [
      "100%|█████████████████████████████████████████████| 12/12 [00:00<00:00, 3330.57it/s]\n"
     ]
    },
    {
     "name": "stdout",
     "output_type": "stream",
     "text": [
      "Predictive likelihood: -10008.381764603304\n",
      "Computing predictive likelihood score on held out documents...\n"
     ]
    },
    {
     "name": "stderr",
     "output_type": "stream",
     "text": [
      "100%|█████████████████████████████████████████████| 12/12 [00:00<00:00, 3240.72it/s]\n"
     ]
    },
    {
     "name": "stdout",
     "output_type": "stream",
     "text": [
      "Predictive likelihood: -10192.868851626903\n",
      "Computing predictive likelihood score on held out documents...\n"
     ]
    },
    {
     "name": "stderr",
     "output_type": "stream",
     "text": [
      "100%|█████████████████████████████████████████████| 12/12 [00:00<00:00, 3155.39it/s]\n"
     ]
    },
    {
     "name": "stdout",
     "output_type": "stream",
     "text": [
      "Predictive likelihood: -10273.666459295006\n",
      "Computing predictive likelihood score on held out documents...\n"
     ]
    },
    {
     "name": "stderr",
     "output_type": "stream",
     "text": [
      "100%|█████████████████████████████████████████████| 12/12 [00:00<00:00, 3934.31it/s]\n"
     ]
    },
    {
     "name": "stdout",
     "output_type": "stream",
     "text": [
      "Predictive likelihood: -10288.35852259974\n",
      "Computing predictive likelihood score on held out documents...\n"
     ]
    },
    {
     "name": "stderr",
     "output_type": "stream",
     "text": [
      "100%|█████████████████████████████████████████████| 12/12 [00:00<00:00, 2931.88it/s]\n"
     ]
    },
    {
     "name": "stdout",
     "output_type": "stream",
     "text": [
      "Predictive likelihood: -10287.607427437135\n",
      "Computing predictive likelihood score on held out documents...\n"
     ]
    },
    {
     "name": "stderr",
     "output_type": "stream",
     "text": [
      "100%|█████████████████████████████████████████████| 12/12 [00:00<00:00, 2965.05it/s]\n"
     ]
    },
    {
     "name": "stdout",
     "output_type": "stream",
     "text": [
      "Predictive likelihood: -10264.712675764022\n",
      "Computing predictive likelihood score on held out documents...\n"
     ]
    },
    {
     "name": "stderr",
     "output_type": "stream",
     "text": [
      "100%|█████████████████████████████████████████████| 12/12 [00:00<00:00, 2876.92it/s]\n"
     ]
    },
    {
     "name": "stdout",
     "output_type": "stream",
     "text": [
      "Predictive likelihood: -10266.19447377072\n",
      "Computing predictive likelihood score on held out documents...\n"
     ]
    },
    {
     "name": "stderr",
     "output_type": "stream",
     "text": [
      "100%|█████████████████████████████████████████████| 12/12 [00:00<00:00, 4261.42it/s]\n"
     ]
    },
    {
     "name": "stdout",
     "output_type": "stream",
     "text": [
      "Predictive likelihood: -10241.162392446791\n",
      "Computing predictive likelihood score on held out documents...\n"
     ]
    },
    {
     "name": "stderr",
     "output_type": "stream",
     "text": [
      "100%|█████████████████████████████████████████████| 12/12 [00:00<00:00, 3210.54it/s]\n"
     ]
    },
    {
     "name": "stdout",
     "output_type": "stream",
     "text": [
      "Predictive likelihood: -10158.750417823681\n",
      "Computing predictive likelihood score on held out documents...\n"
     ]
    },
    {
     "name": "stderr",
     "output_type": "stream",
     "text": [
      "100%|█████████████████████████████████████████████| 12/12 [00:00<00:00, 2731.70it/s]\n"
     ]
    },
    {
     "name": "stdout",
     "output_type": "stream",
     "text": [
      "Predictive likelihood: -9983.070595119068\n",
      "Computing predictive likelihood score on held out documents...\n"
     ]
    },
    {
     "name": "stderr",
     "output_type": "stream",
     "text": [
      "100%|█████████████████████████████████████████████| 12/12 [00:00<00:00, 3140.43it/s]\n"
     ]
    },
    {
     "name": "stdout",
     "output_type": "stream",
     "text": [
      "Predictive likelihood: -9906.320736388729\n",
      "Computing predictive likelihood score on held out documents...\n"
     ]
    },
    {
     "name": "stderr",
     "output_type": "stream",
     "text": [
      "100%|█████████████████████████████████████████████| 12/12 [00:00<00:00, 4189.77it/s]\n"
     ]
    },
    {
     "name": "stdout",
     "output_type": "stream",
     "text": [
      "Predictive likelihood: -10008.40029894129\n",
      "Computing predictive likelihood score on held out documents...\n"
     ]
    },
    {
     "name": "stderr",
     "output_type": "stream",
     "text": [
      "100%|█████████████████████████████████████████████| 12/12 [00:00<00:00, 4807.68it/s]\n"
     ]
    },
    {
     "name": "stdout",
     "output_type": "stream",
     "text": [
      "Predictive likelihood: -10192.93544405262\n",
      "Computing predictive likelihood score on held out documents...\n"
     ]
    },
    {
     "name": "stderr",
     "output_type": "stream",
     "text": [
      "100%|█████████████████████████████████████████████| 12/12 [00:00<00:00, 3850.05it/s]\n"
     ]
    },
    {
     "name": "stdout",
     "output_type": "stream",
     "text": [
      "Predictive likelihood: -10273.670000285083\n",
      "Computing predictive likelihood score on held out documents...\n"
     ]
    },
    {
     "name": "stderr",
     "output_type": "stream",
     "text": [
      "100%|█████████████████████████████████████████████| 12/12 [00:00<00:00, 3722.20it/s]\n"
     ]
    },
    {
     "name": "stdout",
     "output_type": "stream",
     "text": [
      "Predictive likelihood: -10288.357446113985\n",
      "Computing predictive likelihood score on held out documents...\n"
     ]
    },
    {
     "name": "stderr",
     "output_type": "stream",
     "text": [
      "100%|█████████████████████████████████████████████| 12/12 [00:00<00:00, 3755.81it/s]\n"
     ]
    },
    {
     "name": "stdout",
     "output_type": "stream",
     "text": [
      "Predictive likelihood: -10287.607427437135\n",
      "Computing predictive likelihood score on held out documents...\n"
     ]
    },
    {
     "name": "stderr",
     "output_type": "stream",
     "text": [
      "100%|█████████████████████████████████████████████| 12/12 [00:00<00:00, 3835.08it/s]\n"
     ]
    },
    {
     "name": "stdout",
     "output_type": "stream",
     "text": [
      "Predictive likelihood: -10264.712675764022\n",
      "Computing predictive likelihood score on held out documents...\n"
     ]
    },
    {
     "name": "stderr",
     "output_type": "stream",
     "text": [
      "100%|█████████████████████████████████████████████| 12/12 [00:00<00:00, 3702.76it/s]\n"
     ]
    },
    {
     "name": "stdout",
     "output_type": "stream",
     "text": [
      "Predictive likelihood: -10266.207065739907\n",
      "Computing predictive likelihood score on held out documents...\n"
     ]
    },
    {
     "name": "stderr",
     "output_type": "stream",
     "text": [
      "100%|█████████████████████████████████████████████| 12/12 [00:00<00:00, 4307.37it/s]\n"
     ]
    },
    {
     "name": "stdout",
     "output_type": "stream",
     "text": [
      "Predictive likelihood: -10241.150546454393\n",
      "Computing predictive likelihood score on held out documents...\n"
     ]
    },
    {
     "name": "stderr",
     "output_type": "stream",
     "text": [
      "100%|█████████████████████████████████████████████| 12/12 [00:00<00:00, 3665.28it/s]\n"
     ]
    },
    {
     "name": "stdout",
     "output_type": "stream",
     "text": [
      "Predictive likelihood: -10158.766843831729\n",
      "Computing predictive likelihood score on held out documents...\n"
     ]
    },
    {
     "name": "stderr",
     "output_type": "stream",
     "text": [
      "100%|█████████████████████████████████████████████| 12/12 [00:00<00:00, 4321.05it/s]\n"
     ]
    },
    {
     "name": "stdout",
     "output_type": "stream",
     "text": [
      "Predictive likelihood: -9983.117729348549\n",
      "Computing predictive likelihood score on held out documents...\n"
     ]
    },
    {
     "name": "stderr",
     "output_type": "stream",
     "text": [
      "100%|█████████████████████████████████████████████| 12/12 [00:00<00:00, 3482.20it/s]\n"
     ]
    },
    {
     "name": "stdout",
     "output_type": "stream",
     "text": [
      "Predictive likelihood: -9906.388637772372\n",
      "Computing predictive likelihood score on held out documents...\n"
     ]
    },
    {
     "name": "stderr",
     "output_type": "stream",
     "text": [
      "100%|█████████████████████████████████████████████| 12/12 [00:00<00:00, 3195.66it/s]\n"
     ]
    },
    {
     "name": "stdout",
     "output_type": "stream",
     "text": [
      "Predictive likelihood: -10008.418794548528\n",
      "Computing predictive likelihood score on held out documents...\n"
     ]
    },
    {
     "name": "stderr",
     "output_type": "stream",
     "text": [
      "100%|█████████████████████████████████████████████| 12/12 [00:00<00:00, 3860.08it/s]\n"
     ]
    },
    {
     "name": "stdout",
     "output_type": "stream",
     "text": [
      "Predictive likelihood: -10193.001991059857\n",
      "Computing predictive likelihood score on held out documents...\n"
     ]
    },
    {
     "name": "stderr",
     "output_type": "stream",
     "text": [
      "100%|█████████████████████████████████████████████| 12/12 [00:00<00:00, 4326.25it/s]\n"
     ]
    },
    {
     "name": "stdout",
     "output_type": "stream",
     "text": [
      "Predictive likelihood: -10273.673417191647\n",
      "Computing predictive likelihood score on held out documents...\n"
     ]
    },
    {
     "name": "stderr",
     "output_type": "stream",
     "text": [
      "100%|█████████████████████████████████████████████| 12/12 [00:00<00:00, 3529.32it/s]\n"
     ]
    },
    {
     "name": "stdout",
     "output_type": "stream",
     "text": [
      "Predictive likelihood: -10288.356411036475\n",
      "Computing predictive likelihood score on held out documents...\n"
     ]
    },
    {
     "name": "stderr",
     "output_type": "stream",
     "text": [
      "100%|█████████████████████████████████████████████| 12/12 [00:00<00:00, 4742.90it/s]\n"
     ]
    },
    {
     "name": "stdout",
     "output_type": "stream",
     "text": [
      "Predictive likelihood: -10287.607427437135\n",
      "Computing predictive likelihood score on held out documents...\n"
     ]
    },
    {
     "name": "stderr",
     "output_type": "stream",
     "text": [
      "100%|█████████████████████████████████████████████| 12/12 [00:00<00:00, 3692.44it/s]\n"
     ]
    },
    {
     "name": "stdout",
     "output_type": "stream",
     "text": [
      "Predictive likelihood: -10264.712675764022\n",
      "Computing predictive likelihood score on held out documents...\n"
     ]
    },
    {
     "name": "stderr",
     "output_type": "stream",
     "text": [
      "100%|█████████████████████████████████████████████| 12/12 [00:00<00:00, 4106.69it/s]\n"
     ]
    },
    {
     "name": "stdout",
     "output_type": "stream",
     "text": [
      "Predictive likelihood: -10266.219183341524\n",
      "Computing predictive likelihood score on held out documents...\n"
     ]
    },
    {
     "name": "stderr",
     "output_type": "stream",
     "text": [
      "100%|█████████████████████████████████████████████| 12/12 [00:00<00:00, 5366.99it/s]\n"
     ]
    },
    {
     "name": "stdout",
     "output_type": "stream",
     "text": [
      "Predictive likelihood: -10241.139071179832\n",
      "Computing predictive likelihood score on held out documents...\n"
     ]
    },
    {
     "name": "stderr",
     "output_type": "stream",
     "text": [
      "100%|█████████████████████████████████████████████| 12/12 [00:00<00:00, 3357.68it/s]\n"
     ]
    },
    {
     "name": "stdout",
     "output_type": "stream",
     "text": [
      "Predictive likelihood: -10158.781726261484\n",
      "Computing predictive likelihood score on held out documents...\n"
     ]
    },
    {
     "name": "stderr",
     "output_type": "stream",
     "text": [
      "100%|█████████████████████████████████████████████| 12/12 [00:00<00:00, 4184.19it/s]\n"
     ]
    },
    {
     "name": "stdout",
     "output_type": "stream",
     "text": [
      "Predictive likelihood: -9983.165989477482\n",
      "Computing predictive likelihood score on held out documents...\n"
     ]
    },
    {
     "name": "stderr",
     "output_type": "stream",
     "text": [
      "100%|█████████████████████████████████████████████| 12/12 [00:00<00:00, 3596.15it/s]\n"
     ]
    },
    {
     "name": "stdout",
     "output_type": "stream",
     "text": [
      "Predictive likelihood: -9906.455203551419\n",
      "Computing predictive likelihood score on held out documents...\n"
     ]
    },
    {
     "name": "stderr",
     "output_type": "stream",
     "text": [
      "100%|█████████████████████████████████████████████| 12/12 [00:00<00:00, 4044.33it/s]\n"
     ]
    },
    {
     "name": "stdout",
     "output_type": "stream",
     "text": [
      "Predictive likelihood: -10008.437254624194\n",
      "Computing predictive likelihood score on held out documents...\n"
     ]
    },
    {
     "name": "stderr",
     "output_type": "stream",
     "text": [
      "100%|█████████████████████████████████████████████| 12/12 [00:00<00:00, 4368.31it/s]\n"
     ]
    },
    {
     "name": "stdout",
     "output_type": "stream",
     "text": [
      "Predictive likelihood: -10193.068446383559\n",
      "Computing predictive likelihood score on held out documents...\n"
     ]
    },
    {
     "name": "stderr",
     "output_type": "stream",
     "text": [
      "100%|█████████████████████████████████████████████| 12/12 [00:00<00:00, 3763.11it/s]\n"
     ]
    },
    {
     "name": "stdout",
     "output_type": "stream",
     "text": [
      "Predictive likelihood: -10273.676686791097\n",
      "Computing predictive likelihood score on held out documents...\n"
     ]
    },
    {
     "name": "stderr",
     "output_type": "stream",
     "text": [
      "100%|█████████████████████████████████████████████| 12/12 [00:00<00:00, 4173.44it/s]\n"
     ]
    },
    {
     "name": "stdout",
     "output_type": "stream",
     "text": [
      "Predictive likelihood: -10288.35543020891\n",
      "Computing predictive likelihood score on held out documents...\n"
     ]
    },
    {
     "name": "stderr",
     "output_type": "stream",
     "text": [
      "100%|█████████████████████████████████████████████| 12/12 [00:00<00:00, 3866.01it/s]\n"
     ]
    },
    {
     "name": "stdout",
     "output_type": "stream",
     "text": [
      "Predictive likelihood: -10287.607427437135\n",
      "Computing predictive likelihood score on held out documents...\n"
     ]
    },
    {
     "name": "stderr",
     "output_type": "stream",
     "text": [
      "100%|█████████████████████████████████████████████| 12/12 [00:00<00:00, 4469.55it/s]\n"
     ]
    },
    {
     "name": "stdout",
     "output_type": "stream",
     "text": [
      "Predictive likelihood: -10264.712675764022\n",
      "Computing predictive likelihood score on held out documents...\n"
     ]
    },
    {
     "name": "stderr",
     "output_type": "stream",
     "text": [
      "100%|█████████████████████████████████████████████| 12/12 [00:00<00:00, 4367.93it/s]\n"
     ]
    },
    {
     "name": "stdout",
     "output_type": "stream",
     "text": [
      "Predictive likelihood: -10266.23084117518\n",
      "Computing predictive likelihood score on held out documents...\n"
     ]
    },
    {
     "name": "stderr",
     "output_type": "stream",
     "text": [
      "100%|█████████████████████████████████████████████| 12/12 [00:00<00:00, 5199.01it/s]"
     ]
    },
    {
     "name": "stdout",
     "output_type": "stream",
     "text": [
      "Predictive likelihood: -10241.127929498743\n"
     ]
    },
    {
     "name": "stderr",
     "output_type": "stream",
     "text": [
      "\n"
     ]
    },
    {
     "name": "stdout",
     "output_type": "stream",
     "text": [
      "Computing predictive likelihood score on held out documents...\n"
     ]
    },
    {
     "name": "stderr",
     "output_type": "stream",
     "text": [
      "100%|█████████████████████████████████████████████| 12/12 [00:00<00:00, 3612.41it/s]\n"
     ]
    },
    {
     "name": "stdout",
     "output_type": "stream",
     "text": [
      "Predictive likelihood: -10158.795153517776\n",
      "Computing predictive likelihood score on held out documents...\n"
     ]
    },
    {
     "name": "stderr",
     "output_type": "stream",
     "text": [
      "100%|█████████████████████████████████████████████| 12/12 [00:00<00:00, 3586.66it/s]\n"
     ]
    },
    {
     "name": "stdout",
     "output_type": "stream",
     "text": [
      "Predictive likelihood: -9983.215404184397\n",
      "Computing predictive likelihood score on held out documents...\n"
     ]
    },
    {
     "name": "stderr",
     "output_type": "stream",
     "text": [
      "100%|█████████████████████████████████████████████| 12/12 [00:00<00:00, 3633.00it/s]\n"
     ]
    },
    {
     "name": "stdout",
     "output_type": "stream",
     "text": [
      "Predictive likelihood: -9906.520597618424\n",
      "Computing predictive likelihood score on held out documents...\n"
     ]
    },
    {
     "name": "stderr",
     "output_type": "stream",
     "text": [
      "100%|█████████████████████████████████████████████| 12/12 [00:00<00:00, 3417.88it/s]\n"
     ]
    },
    {
     "name": "stdout",
     "output_type": "stream",
     "text": [
      "Predictive likelihood: -10008.455719540405\n",
      "Computing predictive likelihood score on held out documents...\n"
     ]
    },
    {
     "name": "stderr",
     "output_type": "stream",
     "text": [
      "100%|█████████████████████████████████████████████| 12/12 [00:00<00:00, 4205.87it/s]\n"
     ]
    },
    {
     "name": "stdout",
     "output_type": "stream",
     "text": [
      "Predictive likelihood: -10193.134757996993\n",
      "Computing predictive likelihood score on held out documents...\n"
     ]
    },
    {
     "name": "stderr",
     "output_type": "stream",
     "text": [
      "100%|█████████████████████████████████████████████| 12/12 [00:00<00:00, 3254.55it/s]\n"
     ]
    },
    {
     "name": "stdout",
     "output_type": "stream",
     "text": [
      "Predictive likelihood: -10273.6797904406\n",
      "Computing predictive likelihood score on held out documents...\n"
     ]
    },
    {
     "name": "stderr",
     "output_type": "stream",
     "text": [
      "100%|█████████████████████████████████████████████| 12/12 [00:00<00:00, 3866.01it/s]\n"
     ]
    },
    {
     "name": "stdout",
     "output_type": "stream",
     "text": [
      "Predictive likelihood: -10288.354516841586\n",
      "Computing predictive likelihood score on held out documents...\n"
     ]
    },
    {
     "name": "stderr",
     "output_type": "stream",
     "text": [
      "100%|█████████████████████████████████████████████| 12/12 [00:00<00:00, 3891.12it/s]\n"
     ]
    },
    {
     "name": "stdout",
     "output_type": "stream",
     "text": [
      "Predictive likelihood: -10287.607427437135\n",
      "Computing predictive likelihood score on held out documents...\n"
     ]
    },
    {
     "name": "stderr",
     "output_type": "stream",
     "text": [
      "100%|█████████████████████████████████████████████| 12/12 [00:00<00:00, 3318.72it/s]\n"
     ]
    },
    {
     "name": "stdout",
     "output_type": "stream",
     "text": [
      "Predictive likelihood: -10264.712675764022\n",
      "Computing predictive likelihood score on held out documents...\n"
     ]
    },
    {
     "name": "stderr",
     "output_type": "stream",
     "text": [
      "100%|█████████████████████████████████████████████| 12/12 [00:00<00:00, 4368.31it/s]\n"
     ]
    },
    {
     "name": "stdout",
     "output_type": "stream",
     "text": [
      "Predictive likelihood: -10266.242052088313\n",
      "Computing predictive likelihood score on held out documents...\n"
     ]
    },
    {
     "name": "stderr",
     "output_type": "stream",
     "text": [
      "100%|█████████████████████████████████████████████| 12/12 [00:00<00:00, 3395.74it/s]\n"
     ]
    },
    {
     "name": "stdout",
     "output_type": "stream",
     "text": [
      "Predictive likelihood: -10241.117083714207\n",
      "Computing predictive likelihood score on held out documents...\n"
     ]
    },
    {
     "name": "stderr",
     "output_type": "stream",
     "text": [
      "100%|█████████████████████████████████████████████| 12/12 [00:00<00:00, 4098.33it/s]\n"
     ]
    },
    {
     "name": "stdout",
     "output_type": "stream",
     "text": [
      "Predictive likelihood: -10158.807245560101\n",
      "Computing predictive likelihood score on held out documents...\n"
     ]
    },
    {
     "name": "stderr",
     "output_type": "stream",
     "text": [
      "100%|█████████████████████████████████████████████| 12/12 [00:00<00:00, 3277.65it/s]\n"
     ]
    },
    {
     "name": "stdout",
     "output_type": "stream",
     "text": [
      "Predictive likelihood: -9983.266008665045\n",
      "Computing predictive likelihood score on held out documents...\n"
     ]
    },
    {
     "name": "stderr",
     "output_type": "stream",
     "text": [
      "100%|█████████████████████████████████████████████| 12/12 [00:00<00:00, 4410.03it/s]\n"
     ]
    },
    {
     "name": "stdout",
     "output_type": "stream",
     "text": [
      "Predictive likelihood: -9906.58499347059\n",
      "Computing predictive likelihood score on held out documents...\n"
     ]
    },
    {
     "name": "stderr",
     "output_type": "stream",
     "text": [
      "100%|█████████████████████████████████████████████| 12/12 [00:00<00:00, 4109.71it/s]\n"
     ]
    },
    {
     "name": "stdout",
     "output_type": "stream",
     "text": [
      "Predictive likelihood: -10008.474271271389\n",
      "Computing predictive likelihood score on held out documents...\n"
     ]
    },
    {
     "name": "stderr",
     "output_type": "stream",
     "text": [
      "100%|█████████████████████████████████████████████| 12/12 [00:00<00:00, 3649.87it/s]\n"
     ]
    },
    {
     "name": "stdout",
     "output_type": "stream",
     "text": [
      "Predictive likelihood: -10193.200863269527\n",
      "Computing predictive likelihood score on held out documents...\n"
     ]
    },
    {
     "name": "stderr",
     "output_type": "stream",
     "text": [
      "100%|█████████████████████████████████████████████| 12/12 [00:00<00:00, 3835.08it/s]\n"
     ]
    },
    {
     "name": "stdout",
     "output_type": "stream",
     "text": [
      "Predictive likelihood: -10273.682713627031\n",
      "Computing predictive likelihood score on held out documents...\n"
     ]
    },
    {
     "name": "stderr",
     "output_type": "stream",
     "text": [
      "100%|█████████████████████████████████████████████| 12/12 [00:00<00:00, 3718.90it/s]\n"
     ]
    },
    {
     "name": "stdout",
     "output_type": "stream",
     "text": [
      "Predictive likelihood: -10288.353684392372\n",
      "Computing predictive likelihood score on held out documents...\n"
     ]
    },
    {
     "name": "stderr",
     "output_type": "stream",
     "text": [
      "100%|█████████████████████████████████████████████| 12/12 [00:00<00:00, 3875.84it/s]\n"
     ]
    },
    {
     "name": "stdout",
     "output_type": "stream",
     "text": [
      "Predictive likelihood: -10287.607427437135\n",
      "Computing predictive likelihood score on held out documents...\n"
     ]
    },
    {
     "name": "stderr",
     "output_type": "stream",
     "text": [
      "100%|█████████████████████████████████████████████| 12/12 [00:00<00:00, 3780.64it/s]\n"
     ]
    },
    {
     "name": "stdout",
     "output_type": "stream",
     "text": [
      "Predictive likelihood: -10264.712675764022\n",
      "Computing predictive likelihood score on held out documents...\n"
     ]
    },
    {
     "name": "stderr",
     "output_type": "stream",
     "text": [
      "100%|█████████████████████████████████████████████| 12/12 [00:00<00:00, 3899.86it/s]\n"
     ]
    },
    {
     "name": "stdout",
     "output_type": "stream",
     "text": [
      "Predictive likelihood: -10266.252826838803\n",
      "Computing predictive likelihood score on held out documents...\n"
     ]
    },
    {
     "name": "stderr",
     "output_type": "stream",
     "text": [
      "100%|█████████████████████████████████████████████| 12/12 [00:00<00:00, 3425.79it/s]\n"
     ]
    },
    {
     "name": "stdout",
     "output_type": "stream",
     "text": [
      "Predictive likelihood: -10241.106496476197\n",
      "Computing predictive likelihood score on held out documents...\n"
     ]
    },
    {
     "name": "stderr",
     "output_type": "stream",
     "text": [
      "100%|█████████████████████████████████████████████| 12/12 [00:00<00:00, 3641.94it/s]\n"
     ]
    },
    {
     "name": "stdout",
     "output_type": "stream",
     "text": [
      "Predictive likelihood: -10158.81814458875\n",
      "Computing predictive likelihood score on held out documents...\n"
     ]
    },
    {
     "name": "stderr",
     "output_type": "stream",
     "text": [
      "100%|█████████████████████████████████████████████| 12/12 [00:00<00:00, 2932.40it/s]\n"
     ]
    },
    {
     "name": "stdout",
     "output_type": "stream",
     "text": [
      "Predictive likelihood: -9983.31783693202\n",
      "Computing predictive likelihood score on held out documents...\n"
     ]
    },
    {
     "name": "stderr",
     "output_type": "stream",
     "text": [
      "100%|█████████████████████████████████████████████| 12/12 [00:00<00:00, 4337.07it/s]\n"
     ]
    },
    {
     "name": "stdout",
     "output_type": "stream",
     "text": [
      "Predictive likelihood: -9906.6485686912\n",
      "Computing predictive likelihood score on held out documents...\n"
     ]
    },
    {
     "name": "stderr",
     "output_type": "stream",
     "text": [
      "100%|█████████████████████████████████████████████| 12/12 [00:00<00:00, 3790.32it/s]\n"
     ]
    },
    {
     "name": "stdout",
     "output_type": "stream",
     "text": [
      "Predictive likelihood: -10008.49302875135\n",
      "Computing predictive likelihood score on held out documents...\n"
     ]
    },
    {
     "name": "stderr",
     "output_type": "stream",
     "text": [
      "100%|█████████████████████████████████████████████| 12/12 [00:00<00:00, 3269.78it/s]\n"
     ]
    },
    {
     "name": "stdout",
     "output_type": "stream",
     "text": [
      "Predictive likelihood: -10193.26668605935\n",
      "Computing predictive likelihood score on held out documents...\n"
     ]
    },
    {
     "name": "stderr",
     "output_type": "stream",
     "text": [
      "100%|█████████████████████████████████████████████| 12/12 [00:00<00:00, 3523.39it/s]\n"
     ]
    },
    {
     "name": "stdout",
     "output_type": "stream",
     "text": [
      "Predictive likelihood: -10273.685445505967\n",
      "Computing predictive likelihood score on held out documents...\n"
     ]
    },
    {
     "name": "stderr",
     "output_type": "stream",
     "text": [
      "100%|█████████████████████████████████████████████| 12/12 [00:00<00:00, 2817.49it/s]\n"
     ]
    },
    {
     "name": "stdout",
     "output_type": "stream",
     "text": [
      "Predictive likelihood: -10288.352946364692\n",
      "Computing predictive likelihood score on held out documents...\n"
     ]
    },
    {
     "name": "stderr",
     "output_type": "stream",
     "text": [
      "100%|█████████████████████████████████████████████| 12/12 [00:00<00:00, 3368.92it/s]\n"
     ]
    },
    {
     "name": "stdout",
     "output_type": "stream",
     "text": [
      "Predictive likelihood: -10287.607427437135\n",
      "Computing predictive likelihood score on held out documents...\n"
     ]
    },
    {
     "name": "stderr",
     "output_type": "stream",
     "text": [
      "100%|█████████████████████████████████████████████| 12/12 [00:00<00:00, 3053.55it/s]\n"
     ]
    },
    {
     "name": "stdout",
     "output_type": "stream",
     "text": [
      "Predictive likelihood: -10264.712675764022\n",
      "Computing predictive likelihood score on held out documents...\n"
     ]
    },
    {
     "name": "stderr",
     "output_type": "stream",
     "text": [
      "100%|█████████████████████████████████████████████| 12/12 [00:00<00:00, 3850.93it/s]\n"
     ]
    },
    {
     "name": "stdout",
     "output_type": "stream",
     "text": [
      "Predictive likelihood: -10266.263173768115\n",
      "Computing predictive likelihood score on held out documents...\n"
     ]
    },
    {
     "name": "stderr",
     "output_type": "stream",
     "text": [
      "100%|█████████████████████████████████████████████| 12/12 [00:00<00:00, 3183.94it/s]\n"
     ]
    },
    {
     "name": "stdout",
     "output_type": "stream",
     "text": [
      "Predictive likelihood: -10241.096131630547\n",
      "Computing predictive likelihood score on held out documents...\n"
     ]
    },
    {
     "name": "stderr",
     "output_type": "stream",
     "text": [
      "100%|█████████████████████████████████████████████| 12/12 [00:00<00:00, 3920.22it/s]\n"
     ]
    },
    {
     "name": "stdout",
     "output_type": "stream",
     "text": [
      "Predictive likelihood: -10158.828005101668\n",
      "Computing predictive likelihood score on held out documents...\n"
     ]
    },
    {
     "name": "stderr",
     "output_type": "stream",
     "text": [
      "100%|█████████████████████████████████████████████| 12/12 [00:00<00:00, 3407.93it/s]\n"
     ]
    },
    {
     "name": "stdout",
     "output_type": "stream",
     "text": [
      "Predictive likelihood: -9983.370914310877\n",
      "Computing predictive likelihood score on held out documents...\n"
     ]
    },
    {
     "name": "stderr",
     "output_type": "stream",
     "text": [
      "100%|█████████████████████████████████████████████| 12/12 [00:00<00:00, 3014.23it/s]\n"
     ]
    },
    {
     "name": "stdout",
     "output_type": "stream",
     "text": [
      "Predictive likelihood: -9906.711498029792\n",
      "Computing predictive likelihood score on held out documents...\n"
     ]
    },
    {
     "name": "stderr",
     "output_type": "stream",
     "text": [
      "100%|█████████████████████████████████████████████| 12/12 [00:00<00:00, 3395.51it/s]\n"
     ]
    },
    {
     "name": "stdout",
     "output_type": "stream",
     "text": [
      "Predictive likelihood: -10008.512137071106\n",
      "Computing predictive likelihood score on held out documents...\n"
     ]
    },
    {
     "name": "stderr",
     "output_type": "stream",
     "text": [
      "100%|█████████████████████████████████████████████| 12/12 [00:00<00:00, 2971.70it/s]\n"
     ]
    },
    {
     "name": "stdout",
     "output_type": "stream",
     "text": [
      "Predictive likelihood: -10193.332136888197\n",
      "Computing predictive likelihood score on held out documents...\n"
     ]
    },
    {
     "name": "stderr",
     "output_type": "stream",
     "text": [
      "100%|█████████████████████████████████████████████| 12/12 [00:00<00:00, 3078.39it/s]\n"
     ]
    },
    {
     "name": "stdout",
     "output_type": "stream",
     "text": [
      "Predictive likelihood: -10273.687978409953\n",
      "Computing predictive likelihood score on held out documents...\n"
     ]
    },
    {
     "name": "stderr",
     "output_type": "stream",
     "text": [
      "100%|█████████████████████████████████████████████| 12/12 [00:00<00:00, 3272.54it/s]\n"
     ]
    },
    {
     "name": "stdout",
     "output_type": "stream",
     "text": [
      "Predictive likelihood: -10288.352316014192\n",
      "Computing predictive likelihood score on held out documents...\n"
     ]
    },
    {
     "name": "stderr",
     "output_type": "stream",
     "text": [
      "100%|█████████████████████████████████████████████| 12/12 [00:00<00:00, 3294.82it/s]\n"
     ]
    },
    {
     "name": "stdout",
     "output_type": "stream",
     "text": [
      "Predictive likelihood: -10287.607427437135\n",
      "Computing predictive likelihood score on held out documents...\n"
     ]
    },
    {
     "name": "stderr",
     "output_type": "stream",
     "text": [
      "100%|█████████████████████████████████████████████| 12/12 [00:00<00:00, 3272.54it/s]\n"
     ]
    },
    {
     "name": "stdout",
     "output_type": "stream",
     "text": [
      "Predictive likelihood: -10264.712675764022\n",
      "Computing predictive likelihood score on held out documents...\n"
     ]
    },
    {
     "name": "stderr",
     "output_type": "stream",
     "text": [
      "100%|█████████████████████████████████████████████| 12/12 [00:00<00:00, 2772.02it/s]\n"
     ]
    },
    {
     "name": "stdout",
     "output_type": "stream",
     "text": [
      "Predictive likelihood: -10266.273098504125\n",
      "Computing predictive likelihood score on held out documents...\n"
     ]
    },
    {
     "name": "stderr",
     "output_type": "stream",
     "text": [
      "100%|█████████████████████████████████████████████| 12/12 [00:00<00:00, 3886.01it/s]\n"
     ]
    },
    {
     "name": "stdout",
     "output_type": "stream",
     "text": [
      "Predictive likelihood: -10241.085954889824\n",
      "Computing predictive likelihood score on held out documents...\n"
     ]
    },
    {
     "name": "stderr",
     "output_type": "stream",
     "text": [
      "100%|█████████████████████████████████████████████| 12/12 [00:00<00:00, 2843.60it/s]\n"
     ]
    },
    {
     "name": "stdout",
     "output_type": "stream",
     "text": [
      "Predictive likelihood: -10158.836984811835\n",
      "Computing predictive likelihood score on held out documents...\n"
     ]
    },
    {
     "name": "stderr",
     "output_type": "stream",
     "text": [
      "100%|█████████████████████████████████████████████| 12/12 [00:00<00:00, 3107.28it/s]\n"
     ]
    },
    {
     "name": "stdout",
     "output_type": "stream",
     "text": [
      "Predictive likelihood: -9983.425250255359\n",
      "Computing predictive likelihood score on held out documents...\n"
     ]
    },
    {
     "name": "stderr",
     "output_type": "stream",
     "text": [
      "100%|█████████████████████████████████████████████| 12/12 [00:00<00:00, 2993.26it/s]\n"
     ]
    },
    {
     "name": "stdout",
     "output_type": "stream",
     "text": [
      "Predictive likelihood: -9906.773944635306\n",
      "Computing predictive likelihood score on held out documents...\n"
     ]
    },
    {
     "name": "stderr",
     "output_type": "stream",
     "text": [
      "100%|█████████████████████████████████████████████| 12/12 [00:00<00:00, 2893.62it/s]\n"
     ]
    },
    {
     "name": "stdout",
     "output_type": "stream",
     "text": [
      "Predictive likelihood: -10008.531754586546\n",
      "Computing predictive likelihood score on held out documents...\n"
     ]
    },
    {
     "name": "stderr",
     "output_type": "stream",
     "text": [
      "100%|█████████████████████████████████████████████| 12/12 [00:00<00:00, 3301.30it/s]\n"
     ]
    },
    {
     "name": "stdout",
     "output_type": "stream",
     "text": [
      "Predictive likelihood: -10193.397116887176\n",
      "Computing predictive likelihood score on held out documents...\n"
     ]
    },
    {
     "name": "stderr",
     "output_type": "stream",
     "text": [
      "100%|█████████████████████████████████████████████| 12/12 [00:00<00:00, 3190.60it/s]\n"
     ]
    },
    {
     "name": "stdout",
     "output_type": "stream",
     "text": [
      "Predictive likelihood: -10273.690307296463\n",
      "Computing predictive likelihood score on held out documents...\n"
     ]
    },
    {
     "name": "stderr",
     "output_type": "stream",
     "text": [
      "100%|█████████████████████████████████████████████| 12/12 [00:00<00:00, 3042.66it/s]\n"
     ]
    },
    {
     "name": "stdout",
     "output_type": "stream",
     "text": [
      "Predictive likelihood: -10288.351805962122\n",
      "Computing predictive likelihood score on held out documents...\n"
     ]
    },
    {
     "name": "stderr",
     "output_type": "stream",
     "text": [
      "100%|█████████████████████████████████████████████| 12/12 [00:00<00:00, 3187.77it/s]\n"
     ]
    },
    {
     "name": "stdout",
     "output_type": "stream",
     "text": [
      "Predictive likelihood: -10287.607427437135\n",
      "Computing predictive likelihood score on held out documents...\n"
     ]
    },
    {
     "name": "stderr",
     "output_type": "stream",
     "text": [
      "100%|█████████████████████████████████████████████| 12/12 [00:00<00:00, 3336.09it/s]\n"
     ]
    },
    {
     "name": "stdout",
     "output_type": "stream",
     "text": [
      "Predictive likelihood: -10264.712675764022\n",
      "Computing predictive likelihood score on held out documents...\n"
     ]
    },
    {
     "name": "stderr",
     "output_type": "stream",
     "text": [
      "100%|█████████████████████████████████████████████| 12/12 [00:00<00:00, 3307.59it/s]\n"
     ]
    },
    {
     "name": "stdout",
     "output_type": "stream",
     "text": [
      "Predictive likelihood: -10266.282603724861\n",
      "Computing predictive likelihood score on held out documents...\n"
     ]
    },
    {
     "name": "stderr",
     "output_type": "stream",
     "text": [
      "100%|█████████████████████████████████████████████| 12/12 [00:00<00:00, 3110.54it/s]\n"
     ]
    },
    {
     "name": "stdout",
     "output_type": "stream",
     "text": [
      "Predictive likelihood: -10241.075934277322\n",
      "Computing predictive likelihood score on held out documents...\n"
     ]
    },
    {
     "name": "stderr",
     "output_type": "stream",
     "text": [
      "100%|█████████████████████████████████████████████| 12/12 [00:00<00:00, 4923.86it/s]\n"
     ]
    },
    {
     "name": "stdout",
     "output_type": "stream",
     "text": [
      "Predictive likelihood: -10158.845237120093\n",
      "Computing predictive likelihood score on held out documents...\n"
     ]
    },
    {
     "name": "stderr",
     "output_type": "stream",
     "text": [
      "100%|█████████████████████████████████████████████| 12/12 [00:00<00:00, 3379.10it/s]\n"
     ]
    },
    {
     "name": "stdout",
     "output_type": "stream",
     "text": [
      "Predictive likelihood: -9983.480832357634\n",
      "Computing predictive likelihood score on held out documents...\n"
     ]
    },
    {
     "name": "stderr",
     "output_type": "stream",
     "text": [
      "100%|█████████████████████████████████████████████| 12/12 [00:00<00:00, 3967.18it/s]\n"
     ]
    },
    {
     "name": "stdout",
     "output_type": "stream",
     "text": [
      "Predictive likelihood: -9906.836049999774\n",
      "Computing predictive likelihood score on held out documents...\n"
     ]
    },
    {
     "name": "stderr",
     "output_type": "stream",
     "text": [
      "100%|█████████████████████████████████████████████| 12/12 [00:00<00:00, 3592.81it/s]\n"
     ]
    },
    {
     "name": "stdout",
     "output_type": "stream",
     "text": [
      "Predictive likelihood: -10008.55204103216\n",
      "Computing predictive likelihood score on held out documents...\n"
     ]
    },
    {
     "name": "stderr",
     "output_type": "stream",
     "text": [
      "100%|█████████████████████████████████████████████| 12/12 [00:00<00:00, 3438.42it/s]\n"
     ]
    },
    {
     "name": "stdout",
     "output_type": "stream",
     "text": [
      "Predictive likelihood: -10193.461525499046\n",
      "Computing predictive likelihood score on held out documents...\n"
     ]
    },
    {
     "name": "stderr",
     "output_type": "stream",
     "text": [
      "100%|█████████████████████████████████████████████| 12/12 [00:00<00:00, 3591.53it/s]\n"
     ]
    },
    {
     "name": "stdout",
     "output_type": "stream",
     "text": [
      "Predictive likelihood: -10273.692429103101\n",
      "Computing predictive likelihood score on held out documents...\n"
     ]
    },
    {
     "name": "stderr",
     "output_type": "stream",
     "text": [
      "100%|█████████████████████████████████████████████| 12/12 [00:00<00:00, 3370.72it/s]\n"
     ]
    },
    {
     "name": "stdout",
     "output_type": "stream",
     "text": [
      "Predictive likelihood: -10288.351427729407\n",
      "Computing predictive likelihood score on held out documents...\n"
     ]
    },
    {
     "name": "stderr",
     "output_type": "stream",
     "text": [
      "100%|█████████████████████████████████████████████| 12/12 [00:00<00:00, 3183.94it/s]\n"
     ]
    },
    {
     "name": "stdout",
     "output_type": "stream",
     "text": [
      "Predictive likelihood: -10287.607427437135\n",
      "Computing predictive likelihood score on held out documents...\n"
     ]
    },
    {
     "name": "stderr",
     "output_type": "stream",
     "text": [
      "100%|█████████████████████████████████████████████| 12/12 [00:00<00:00, 3540.74it/s]\n"
     ]
    },
    {
     "name": "stdout",
     "output_type": "stream",
     "text": [
      "Predictive likelihood: -10264.712675764022\n",
      "Computing predictive likelihood score on held out documents...\n"
     ]
    },
    {
     "name": "stderr",
     "output_type": "stream",
     "text": [
      "100%|█████████████████████████████████████████████| 12/12 [00:00<00:00, 3454.47it/s]\n"
     ]
    },
    {
     "name": "stdout",
     "output_type": "stream",
     "text": [
      "Predictive likelihood: -10266.291689026248\n",
      "Computing predictive likelihood score on held out documents...\n"
     ]
    },
    {
     "name": "stderr",
     "output_type": "stream",
     "text": [
      "100%|█████████████████████████████████████████████| 12/12 [00:00<00:00, 3722.20it/s]\n"
     ]
    },
    {
     "name": "stdout",
     "output_type": "stream",
     "text": [
      "Predictive likelihood: -10241.066040350233\n",
      "Computing predictive likelihood score on held out documents...\n"
     ]
    },
    {
     "name": "stderr",
     "output_type": "stream",
     "text": [
      "100%|█████████████████████████████████████████████| 12/12 [00:00<00:00, 3153.81it/s]\n"
     ]
    },
    {
     "name": "stdout",
     "output_type": "stream",
     "text": [
      "Predictive likelihood: -10158.852905220148\n",
      "Computing predictive likelihood score on held out documents...\n"
     ]
    },
    {
     "name": "stderr",
     "output_type": "stream",
     "text": [
      "100%|█████████████████████████████████████████████| 12/12 [00:00<00:00, 3579.78it/s]\n"
     ]
    },
    {
     "name": "stdout",
     "output_type": "stream",
     "text": [
      "Predictive likelihood: -9983.537623155898\n",
      "Computing predictive likelihood score on held out documents...\n"
     ]
    },
    {
     "name": "stderr",
     "output_type": "stream",
     "text": [
      "100%|█████████████████████████████████████████████| 12/12 [00:00<00:00, 3829.83it/s]\n"
     ]
    },
    {
     "name": "stdout",
     "output_type": "stream",
     "text": [
      "Predictive likelihood: -9906.897924223997\n",
      "Computing predictive likelihood score on held out documents...\n"
     ]
    },
    {
     "name": "stderr",
     "output_type": "stream",
     "text": [
      "100%|█████████████████████████████████████████████| 12/12 [00:00<00:00, 3034.77it/s]\n"
     ]
    },
    {
     "name": "stdout",
     "output_type": "stream",
     "text": [
      "Predictive likelihood: -10008.57314781156\n",
      "Computing predictive likelihood score on held out documents...\n"
     ]
    },
    {
     "name": "stderr",
     "output_type": "stream",
     "text": [
      "100%|█████████████████████████████████████████████| 12/12 [00:00<00:00, 3655.17it/s]\n"
     ]
    },
    {
     "name": "stdout",
     "output_type": "stream",
     "text": [
      "Predictive likelihood: -10193.525271023687\n",
      "Computing predictive likelihood score on held out documents...\n"
     ]
    },
    {
     "name": "stderr",
     "output_type": "stream",
     "text": [
      "100%|█████████████████████████████████████████████| 12/12 [00:00<00:00, 3301.30it/s]\n"
     ]
    },
    {
     "name": "stdout",
     "output_type": "stream",
     "text": [
      "Predictive likelihood: -10273.69434197856\n",
      "Computing predictive likelihood score on held out documents...\n"
     ]
    },
    {
     "name": "stderr",
     "output_type": "stream",
     "text": [
      "100%|█████████████████████████████████████████████| 12/12 [00:00<00:00, 3432.56it/s]\n"
     ]
    },
    {
     "name": "stdout",
     "output_type": "stream",
     "text": [
      "Predictive likelihood: -10288.351191224232\n",
      "Computing predictive likelihood score on held out documents...\n"
     ]
    },
    {
     "name": "stderr",
     "output_type": "stream",
     "text": [
      "100%|█████████████████████████████████████████████| 12/12 [00:00<00:00, 3210.34it/s]\n"
     ]
    },
    {
     "name": "stdout",
     "output_type": "stream",
     "text": [
      "Predictive likelihood: -10287.607427437135\n",
      "Computing predictive likelihood score on held out documents...\n"
     ]
    },
    {
     "name": "stderr",
     "output_type": "stream",
     "text": [
      "100%|█████████████████████████████████████████████| 12/12 [00:00<00:00, 2996.47it/s]\n"
     ]
    },
    {
     "name": "stdout",
     "output_type": "stream",
     "text": [
      "Predictive likelihood: -10264.712675764022\n",
      "Computing predictive likelihood score on held out documents...\n"
     ]
    },
    {
     "name": "stderr",
     "output_type": "stream",
     "text": [
      "100%|█████████████████████████████████████████████| 12/12 [00:00<00:00, 3687.84it/s]\n"
     ]
    },
    {
     "name": "stdout",
     "output_type": "stream",
     "text": [
      "Predictive likelihood: -10266.300350949135\n",
      "Computing predictive likelihood score on held out documents...\n"
     ]
    },
    {
     "name": "stderr",
     "output_type": "stream",
     "text": [
      "100%|█████████████████████████████████████████████| 12/12 [00:00<00:00, 3264.47it/s]\n"
     ]
    },
    {
     "name": "stdout",
     "output_type": "stream",
     "text": [
      "Predictive likelihood: -10241.056246242837\n",
      "Computing predictive likelihood score on held out documents...\n"
     ]
    },
    {
     "name": "stderr",
     "output_type": "stream",
     "text": [
      "100%|█████████████████████████████████████████████| 12/12 [00:00<00:00, 3480.27it/s]\n"
     ]
    },
    {
     "name": "stdout",
     "output_type": "stream",
     "text": [
      "Predictive likelihood: -10158.860117636787\n",
      "Computing predictive likelihood score on held out documents...\n"
     ]
    },
    {
     "name": "stderr",
     "output_type": "stream",
     "text": [
      "100%|█████████████████████████████████████████████| 12/12 [00:00<00:00, 2587.88it/s]\n"
     ]
    },
    {
     "name": "stdout",
     "output_type": "stream",
     "text": [
      "Predictive likelihood: -9983.595561525743\n",
      "Computing predictive likelihood score on held out documents...\n"
     ]
    },
    {
     "name": "stderr",
     "output_type": "stream",
     "text": [
      "100%|█████████████████████████████████████████████| 12/12 [00:00<00:00, 3160.15it/s]\n"
     ]
    },
    {
     "name": "stdout",
     "output_type": "stream",
     "text": [
      "Predictive likelihood: -9906.959638917062\n",
      "Computing predictive likelihood score on held out documents...\n"
     ]
    },
    {
     "name": "stderr",
     "output_type": "stream",
     "text": [
      "100%|█████████████████████████████████████████████| 12/12 [00:00<00:00, 3091.24it/s]\n"
     ]
    },
    {
     "name": "stdout",
     "output_type": "stream",
     "text": [
      "Predictive likelihood: -10008.59520992481\n",
      "Computing predictive likelihood score on held out documents...\n"
     ]
    },
    {
     "name": "stderr",
     "output_type": "stream",
     "text": [
      "100%|█████████████████████████████████████████████| 12/12 [00:00<00:00, 3866.01it/s]\n"
     ]
    },
    {
     "name": "stdout",
     "output_type": "stream",
     "text": [
      "Predictive likelihood: -10193.588282180961\n",
      "Computing predictive likelihood score on held out documents...\n"
     ]
    },
    {
     "name": "stderr",
     "output_type": "stream",
     "text": [
      "100%|█████████████████████████████████████████████| 12/12 [00:00<00:00, 3371.63it/s]\n"
     ]
    },
    {
     "name": "stdout",
     "output_type": "stream",
     "text": [
      "Predictive likelihood: -10273.696044370103\n",
      "Computing predictive likelihood score on held out documents...\n"
     ]
    },
    {
     "name": "stderr",
     "output_type": "stream",
     "text": [
      "100%|█████████████████████████████████████████████| 12/12 [00:00<00:00, 2991.12it/s]\n"
     ]
    },
    {
     "name": "stdout",
     "output_type": "stream",
     "text": [
      "Predictive likelihood: -10288.351104242076\n",
      "Computing predictive likelihood score on held out documents...\n"
     ]
    },
    {
     "name": "stderr",
     "output_type": "stream",
     "text": [
      "100%|█████████████████████████████████████████████| 12/12 [00:00<00:00, 3425.55it/s]"
     ]
    },
    {
     "name": "stdout",
     "output_type": "stream",
     "text": [
      "Predictive likelihood: -10287.607427437135\n"
     ]
    },
    {
     "name": "stderr",
     "output_type": "stream",
     "text": [
      "\n"
     ]
    }
   ],
   "source": [
    "score_his = []\n",
    "for p_list in His:\n",
    "    Out_score = []\n",
    "    for p in p_list:\n",
    "        LAMBDA, GAMMA, PHI = p\n",
    "        Out_score.append(compute_pred_score(LAMBDA, GAMMA, PHI, train_articles, train_nonzero_idxs, test_word_idxs))\n",
    "    score_his.append(copy.deepcopy(Out_score))"
   ]
  },
  {
   "cell_type": "code",
   "execution_count": 81,
   "metadata": {},
   "outputs": [
    {
     "data": {
      "image/png": "[encoded data removed]",
      "text/plain": [
       "<Figure size 640x480 with 1 Axes>"
      ]
     },
     "metadata": {},
     "output_type": "display_data"
    }
   ],
   "source": [
    "for i in range(len(score_his)):\n",
    "    if i % 10 == 0:\n",
    "        plt.plot(score_his[i], label = 'iteration{}'.format(i)) \n",
    "plt.plot(score_his[-1], label = 'final')\n",
    "\n",
    "plt.xlabel(\"MEP point\") \n",
    "plt.ylabel(\"score\")\n",
    "plt.title('predictive likelihood score')\n",
    "plt.legend()\n",
    "\n",
    "plt.savefig(PATH + '/Result/pred_score_train1', dpi=600, facecolor='w', transparent=True)"
   ]
  },
  {
   "cell_type": "code",
   "execution_count": null,
   "metadata": {},
   "outputs": [],
   "source": []
  }
 ],
 "metadata": {
  "colab": {
   "collapsed_sections": [
    "O8nR1MGJ80av",
    "rSpRi6VO-gDP"
   ],
   "provenance": []
  },
  "kernelspec": {
   "display_name": "Python 3 (ipykernel)",
   "language": "python",
   "name": "python3"
  },
  "language_info": {
   "codemirror_mode": {
    "name": "ipython",
    "version": 3
   },
   "file_extension": ".py",
   "mimetype": "text/x-python",
   "name": "python",
   "nbconvert_exporter": "python",
   "pygments_lexer": "ipython3",
   "version": "3.10.6"
  }
 },
 "nbformat": 4,
 "nbformat_minor": 1
}
