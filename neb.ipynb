{
 "cells": [
  {
   "cell_type": "code",
   "execution_count": 75,
   "metadata": {
    "id": "5ezErBs_WtU2",
    "scrolled": true
   },
   "outputs": [],
   "source": [
    "import numpy as np\n",
    "import copy\n",
    "import os\n",
    "np.seterr(all='raise') \n",
    "import argparse\n",
    "import csv\n",
    "import matplotlib\n",
    "import matplotlib.pyplot as plt\n",
    "from tqdm import tqdm\n",
    "import pickle\n",
    "from datetime import datetime\n",
    "import scipy\n",
    "from scipy import stats\n",
    "from scipy.special import gamma, digamma, loggamma"
   ]
  },
  {
   "cell_type": "code",
   "execution_count": 76,
   "metadata": {
    "scrolled": true
   },
   "outputs": [],
   "source": [
    "import os\n",
    "cwd = os.getcwd()\n",
    "BOW_PATH = cwd + \"/Data/ap.dat\" \n",
    "VOCAB_PATH = cwd + \"/Data/vocab.txt\""
   ]
  },
  {
   "cell_type": "code",
   "execution_count": 184,
   "metadata": {},
   "outputs": [],
   "source": [
    "PATH = os.getcwd()"
   ]
  },
  {
   "cell_type": "code",
   "execution_count": 77,
   "metadata": {
    "id": "kWpRHrPt1TzB",
    "scrolled": true
   },
   "outputs": [],
   "source": [
    "\n",
    "\n",
    "# Topic Exch. Dirichlet hyperparameter (mixture components)\n",
    "ETA = 0.01 # Set to 100/V\n",
    "\n",
    "# Topic Proportion Dirichlet hyperparameter (mixture proportions)\n",
    "ALPHA = 0.1 # Set to\n",
    "\n",
    "# Maximum number of iterations (Might not use)\n",
    "MAX_ITER = 100\n",
    "\n",
    "# Number of CAVI iterations\n",
    "N_TRIALS = 1\n",
    "\n",
    "# Test data size\n",
    "N_TEST = 10"
   ]
  },
  {
   "cell_type": "markdown",
   "metadata": {
    "id": "d_mjDK9okh7_"
   },
   "source": [
    "## Helper "
   ]
  },
  {
   "cell_type": "code",
   "execution_count": 78,
   "metadata": {
    "id": "HlESYOYNkkqf",
    "scrolled": true
   },
   "outputs": [],
   "source": [
    "def compute_logsumexp(scores):\n",
    "    # Take the max of the scores\n",
    "    max_score = np.max(scores, axis=0)\n",
    "\n",
    "    # Subtract scores by max and exponentiate\n",
    "    exp_scores = np.exp(scores - max_score)\n",
    "\n",
    "    # Compute denominator\n",
    "    sum_exp = np.sum(exp_scores)\n",
    "\n",
    "    # Compute log-sum-exp\n",
    "    log_sum_exp = np.log(sum_exp) + max_score\n",
    "\n",
    "    return log_sum_exp\n",
    "\n",
    "\n",
    "# Loads the AP article dataset\n",
    "def load_data():\n",
    "    # Load index-to-word mapping\n",
    "    print('Loading index-to-word mapping...')\n",
    "\n",
    "    with open(VOCAB_PATH, 'r') as fh:\n",
    "        raw_lines = fh.readlines()\n",
    "\n",
    "    idx_to_words = [word.strip() for word in raw_lines]\n",
    "    V = len(idx_to_words)\n",
    "\n",
    "    # Load article BoW representations\n",
    "    print('Loading article bag-of-word representations...')\n",
    "\n",
    "    with open(BOW_PATH, 'r') as fh:\n",
    "        raw_lines = fh.readlines()\n",
    "        N = len(raw_lines)\n",
    "        print('{} articles found.'.format(N))\n",
    "\n",
    "    articles = np.zeros((N,V))\n",
    "    nonzero_idxs = []\n",
    "\n",
    "    # Process each article\n",
    "    for i in tqdm(range(N)):\n",
    "        split = raw_lines[i].split(' ')\n",
    "        n_words = int(split[0]) # Number of words in the article\n",
    "        split = split[1:] # BoW representations\n",
    "\n",
    "        article = np.zeros((V,)) # Sparse V-vector\n",
    "        nonzero_idx = [] # List of indices that have non-zero counts\n",
    "\n",
    "        for bow in split:\n",
    "            bow = bow.strip()\n",
    "            word_idx, count = bow.split(':')\n",
    "\n",
    "            nonzero_idx.append(int(word_idx))\n",
    "            article[int(word_idx)] = count\n",
    "\n",
    "        # Check if article words parsed correctly\n",
    "        try:\n",
    "            assert(len(nonzero_idx) == n_words)\n",
    "        except:\n",
    "            raise AssertionError('{}, {}'.format(len(nonzero_idx), n_words))\n",
    "\n",
    "        articles[i] = article\n",
    "        nonzero_idxs.append(sorted(nonzero_idx))\n",
    "\n",
    "    return idx_to_words, articles, nonzero_idxs\n",
    "\n",
    "\n",
    "# Initializes the variational parameters for CAVI\n",
    "def init_var_param(train_articles, C):\n",
    "    print('Initializing variational parameters...')\n",
    "\n",
    "    # Number of articles, vocabulary size\n",
    "    N, V = train_articles.shape\n",
    "\n",
    "    # Topics (initializing LAMBDA for BETA)\n",
    "    LAMBDA = np.random.uniform(low=0.01, high=1.0, size=(C,V))\n",
    "\n",
    "    # Topic Proportions (initializing GAMMA for THETA)\n",
    "    GAMMA = np.ones((N,C)) # Uniform prior\n",
    "\n",
    "    # Topic Assignments (initializing PHI for Z)\n",
    "    # Shape: (N,n_words,C) (Note: n_words is vacriable)\n",
    "    PHI = []\n",
    "\n",
    "    for article in train_articles:\n",
    "        n_words = np.sum((article > 0).astype('int32'))\n",
    "        article_phi = np.ones((n_words,C))\n",
    "        article_phi = article_phi / C # Initialize to 1/C\n",
    "\n",
    "        PHI.append(article_phi)\n",
    "\n",
    "    return LAMBDA, GAMMA, PHI"
   ]
  },
  {
   "cell_type": "markdown",
   "metadata": {
    "id": "HDFGoyyjWJRL"
   },
   "source": [
    "# Energy Function"
   ]
  },
  {
   "cell_type": "code",
   "execution_count": 79,
   "metadata": {
    "id": "Puo4_e7iVwpE",
    "scrolled": true
   },
   "outputs": [],
   "source": [
    "def E(p_list,k):\n",
    "    E = 0\n",
    "    for i in range(len(p_list) -1):\n",
    "        E += L(p_list[i]) + 0.5 * k * np.linalg.norm(p_list[i+1] - p_list[i])\n",
    "    E += 0.5 * k * np.linalg.norm(p_list[-1] - p_list[-2])\n",
    "\n",
    "    return E"
   ]
  },
  {
   "cell_type": "code",
   "execution_count": 80,
   "metadata": {
    "id": "EilS_L3YkAD0",
    "scrolled": true
   },
   "outputs": [],
   "source": [
    "def L(LAMBDA, GAMMA, PHI, train_articles, train_nonzero_idxs, C):\n",
    "    #compute elbo\n",
    "    elbo = 0\n",
    "    \n",
    "    # Number of articles, vocabulary size\n",
    "    N, V = train_articles.shape\n",
    "    \n",
    "    # Add expected log joint\n",
    "    ## First term: \\sum_{k=1}^C E[log p(BETA_k)]\n",
    "    E_log_p_beta = 0\n",
    "    for k in range(C):\n",
    "        E_log_p_beta += (ETA-1) * np.sum(digamma(LAMBDA[k]) - digamma(np.sum(LAMBDA[k])))\n",
    "    \n",
    "    elbo += E_log_p_beta\n",
    "    \n",
    "    ## Second term: \\sum_{i=1}^N E[log p(THETA_i)]\n",
    "    E_log_p_theta = 0\n",
    "    for i in range(N):\n",
    "        E_log_p_theta += (ALPHA-1) * np.sum(digamma(GAMMA[i]) - digamma(np.sum(GAMMA[i])))\n",
    "\n",
    "    elbo += E_log_p_theta\n",
    "    \n",
    "    ## Third term:\n",
    "    ## \\sum_{i=1}^N \\sum_{j=1}^M \\sum_{k=1}^C\n",
    "    ## (E[log p(Z_ij|THETA_i)] + E[log p(X_ij)|BETA,Z_ij)])\n",
    "    E_log_p_xz = 0\n",
    "    for i in range(N):\n",
    "        article = train_articles[i]\n",
    "        nonzero_idx = train_nonzero_idxs[i]\n",
    "        \n",
    "        corr_idx = 0\n",
    "        for idx in nonzero_idx:\n",
    "            ### E[log p(Z_ij|THETA_i)]\n",
    "            E_log_p_xz += article[idx] * np.sum(PHI[i][corr_idx] * (digamma(GAMMA[i]) - digamma(np.sum(GAMMA[i]))))\n",
    "            \n",
    "            ### E[log p(X_ij|BETA,Z_ij)]\n",
    "            E_log_p_xz += article[idx] * np.sum(PHI[i][corr_idx] * (digamma(LAMBDA[:,idx]) - digamma(np.sum(LAMBDA, axis=1))))\n",
    "            \n",
    "            corr_idx += 1\n",
    "        # Check if number of updates match with number of words\n",
    "        assert(corr_idx == len(nonzero_idx))\n",
    "        \n",
    "    elbo += E_log_p_xz\n",
    "        \n",
    "    # Add entropy\n",
    "    ## Fourth term: -\\sum_{k=1}^C E[log q(BETA_k)]\n",
    "    E_log_q_beta = 0\n",
    "    for k in range(C):\n",
    "        E_log_q_beta += -loggamma(np.sum(LAMBDA[k])) + np.sum(loggamma(LAMBDA[k]))\n",
    "        E_log_q_beta += -np.sum((LAMBDA[k]-1) * (digamma(LAMBDA[k]) - digamma(np.sum(LAMBDA[k]))))\n",
    "    \n",
    "    elbo += E_log_q_beta\n",
    "    \n",
    "    ## Fifth term: -\\sum_{i=1}^N E[log q(THETA_i)]\n",
    "    E_log_q_theta = 0\n",
    "    for i in range(N):\n",
    "        E_log_q_theta += -loggamma(np.sum(GAMMA[i])) + np.sum(loggamma(GAMMA[i]))\n",
    "        E_log_q_theta += -np.sum((GAMMA[i]-1) * (digamma(GAMMA[i]) - digamma(np.sum(GAMMA[i]))))\n",
    "\n",
    "    elbo += E_log_q_theta\n",
    "    \n",
    "    \n",
    "    ## Sixth term: -\\sum_{i=1}^N \\sum_{j=1}^M (E[log q(Z_ij)])\n",
    "    E_log_q_z = 0\n",
    "    for i in range(N):\n",
    "        article = train_articles[i]\n",
    "        nonzero_idx = train_nonzero_idxs[i]\n",
    "\n",
    "        corr_idx = 0\n",
    "        for idx in nonzero_idx:\n",
    "            E_log_q_z += -article[idx] * np.sum(PHI[i][corr_idx] * np.log(PHI[i][corr_idx]))\n",
    "\n",
    "            corr_idx += 1\n",
    "\n",
    "        # Check if number of updates match with number of words\n",
    "        assert(corr_idx == len(nonzero_idx))\n",
    "\n",
    "    elbo += E_log_q_z\n",
    "\n",
    "    print('ELBO: {}'.format(elbo))\n",
    "\n",
    "    return elbo\n",
    "    \n",
    "\n",
    "def dLdp(LAMBDA, GAMMA, PHI, train_articles, train_nonzero_idxs, C): \n",
    "    predict_flag = False \n",
    "    LAMBDA_t = copy.deepcopy(LAMBDA) # Shape: (C,V)\n",
    "    GAMMA_t = copy.deepcopy(GAMMA) # Shape: (N,C)\n",
    "    PHI_t = copy.deepcopy(PHI) # Shape: (N,n_words,C)\n",
    "\n",
    "    N, V = train_articles.shape\n",
    "\n",
    "    for i in tqdm(range(N)):\n",
    "        article = train_articles[i]\n",
    "        nonzero_idx = train_nonzero_idxs[i]\n",
    "\n",
    "        # Fetch for PHI_ij update\n",
    "        GAMMA_i_t = copy.deepcopy(GAMMA_t[i]) # C-vector\n",
    "\n",
    "        # For each word in document\n",
    "        corr_idx = 0\n",
    "\n",
    "        # Iterate through each word with non-zero count on document\n",
    "        for idx in nonzero_idx:\n",
    "            log_PHI_ij = np.zeros((C,))\n",
    "\n",
    "            for k in range(C):\n",
    "                # Fetch for PHI_ij update\n",
    "                LAMBDA_k_t = copy.deepcopy(LAMBDA_t[k]) # V-vector\n",
    "\n",
    "                exponent = digamma(GAMMA_i_t[k]) - digamma(np.sum(GAMMA_i_t))\n",
    "                exponent += digamma(LAMBDA_k_t[idx]) - digamma(np.sum(LAMBDA_k_t))\n",
    "                log_PHI_ij[k] = exponent\n",
    "\n",
    "            # Normalize using log-sum-exp trick\n",
    "            PHI_ij = np.exp(log_PHI_ij - compute_logsumexp(log_PHI_ij))\n",
    "            try:\n",
    "                assert(np.abs(np.sum(PHI_ij) - 1) < 1e-6)\n",
    "            except:\n",
    "                raise AssertionError('phi_ij: {}, Sum: {}'.format(PHI_ij, np.sum(PHI_ij)))\n",
    "\n",
    "            PHI_t[i][corr_idx] = PHI_ij\n",
    "            corr_idx += 1\n",
    "\n",
    "        # Check if number of updates match with number of words\n",
    "        assert(corr_idx == len(nonzero_idx))\n",
    "\n",
    "        # Update GAMMA_i\n",
    "        GAMMA_i_t = np.zeros((C,)) + ALPHA\n",
    "\n",
    "        for k in range(C):\n",
    "            GAMMA_i_t[k] += np.sum(article[nonzero_idx] * PHI_t[i][:,k])\n",
    "\n",
    "        GAMMA_t[i] = GAMMA_i_t\n",
    "\n",
    "    if not predict_flag:\n",
    "        # For each topic\n",
    "        print('Updating LAMBDA')\n",
    "\n",
    "        for k in tqdm(range(C)):\n",
    "            LAMBDA_k_t = np.zeros((V,)) + ETA\n",
    "\n",
    "            # For each document\n",
    "            for i in range(N):\n",
    "                article = train_articles[i]\n",
    "                nonzero_idx = train_nonzero_idxs[i]\n",
    "\n",
    "                # For each word in document\n",
    "                corr_idx = 0\n",
    "\n",
    "                for idx in nonzero_idx:\n",
    "                    LAMBDA_k_t[idx] += article[idx] * PHI_t[i][corr_idx][k]\n",
    "                    corr_idx +=1\n",
    "\n",
    "                # Check if number of updates match with number of words\n",
    "                assert(corr_idx == len(nonzero_idx))\n",
    "\n",
    "            LAMBDA_t[k] = LAMBDA_k_t \n",
    "    grad_LAMBDA = LAMBDA_t - LAMBDA\n",
    "    grad_GAMMA = GAMMA_t - GAMMA \n",
    "    grad_PHI = [phi_t - phi for (phi_t,phi) in zip(PHI_t, PHI)]\n",
    "\n",
    "    return grad_LAMBDA, grad_GAMMA, grad_PHI"
   ]
  },
  {
   "cell_type": "code",
   "execution_count": 81,
   "metadata": {
    "id": "p4yLX4yAybi8",
    "scrolled": true
   },
   "outputs": [],
   "source": [
    "def tau(i, p_list, train_articles, train_nonzero_idxs, C):\n",
    "    #p_list is a list of lists of parameters in which a list is [LAMBDA, GAMMA, PHI] \n",
    "    LAMBDA_1, GAMMA_1, PHI_1 = p_list[i] \n",
    "    LAMBDA_0, GAMMA_0, PHI_0 = p_list[i-1] \n",
    "    LAMBDA_2, GAMMA_2, PHI_2 = p_list[i+1] \n",
    "\n",
    "    if compute_elbo( LAMBDA_2, GAMMA_2, PHI_2, train_articles, train_nonzero_idxs, C) > compute_elbo( LAMBDA_0, GAMMA_0, PHI_0 , train_articles, train_nonzero_idxs, C): \n",
    "        flat_Lam = np.reshape((LAMBDA_2-LAMBDA_1).flatten(),((LAMBDA_2-LAMBDA_1).flatten().shape[0],1))\n",
    "        #print(flat_Lam.shape)\n",
    "        flat_Gam = np.reshape((GAMMA_2 - GAMMA_1).flatten(),((GAMMA_2 - GAMMA_1).flatten().shape[0],1))\n",
    "        #print(flat_Gam.shape)\n",
    "        flat_vector = np.vstack((flat_Lam, flat_Gam))\n",
    "        #print(flat_vector.shape)\n",
    "\n",
    "        #flat_Phi = (PHI_2-PHI_1).flatten() \n",
    "        dif_PHI = [Phi_2-Phi_1 for (Phi_2,Phi_1) in zip(PHI_2,PHI_1)] \n",
    "        for dif in dif_PHI: \n",
    "            flat_dif = dif.flatten().reshape(dif.flatten().shape[0],1)\n",
    "            #print(flat_dif.shape)\n",
    "            flat_vector = np.vstack((flat_vector, flat_dif)) \n",
    "\n",
    "        norm = np.linalg.norm(flat_vector)+ 1e-30\n",
    "\n",
    "        lam_dif = (LAMBDA_2-LAMBDA_1)/norm\n",
    "        gam_dif = (GAMMA_2 - GAMMA_1)/norm \n",
    "        PHI_dif = [dif_phi/norm for dif_phi in dif_PHI]\n",
    "\n",
    "        return [lam_dif, gam_dif, PHI_dif]\n",
    "    #TODO: what is the right way to normalize \n",
    "    else: \n",
    "        flat_Lam = np.reshape((LAMBDA_1-LAMBDA_0).flatten(),((LAMBDA_1-LAMBDA_0).flatten().shape[0],1))\n",
    "        #print(flat_Lam.shape)\n",
    "        flat_Gam = np.reshape((GAMMA_1 - GAMMA_0).flatten(),((GAMMA_1 - GAMMA_0).flatten().shape[0],1))\n",
    "        #print(flat_Gam.shape)\n",
    "        flat_vector = np.vstack((flat_Lam, flat_Gam))\n",
    "\n",
    "        #flat_Phi = (PHI_1-PHI_0).flatten() \n",
    "        dif_PHI = [Phi_1-Phi_0 for (Phi_1,Phi_0) in zip(PHI_1,PHI_0)] \n",
    "        for dif in dif_PHI: \n",
    "            flat_dif = dif.flatten().reshape(dif.flatten().shape[0],1)\n",
    "            flat_vector = np.vstack((flat_vector, flat_dif)) \n",
    "\n",
    "        norm = np.linalg.norm(flat_vector)+ 1e-30\n",
    "        lam_dif = (LAMBDA_1-LAMBDA_0)/norm\n",
    "        gam_dif = (GAMMA_1 - GAMMA_0)/norm \n",
    "        PHI_dif = [dif_phi/norm for dif_phi in dif_PHI]\n",
    "\n",
    "        return [lam_dif, gam_dif, PHI_dif]\n",
    "        #return [(LAMBDA_1-LAMBDA_0)/norm, (GAMMA_1 - GAMMA_0)/norm, [dif_phi for dif_phi in dif_PHI/norm]]"
   ]
  },
  {
   "cell_type": "code",
   "execution_count": 82,
   "metadata": {
    "id": "Ab8VCXFoiWMH",
    "scrolled": true
   },
   "outputs": [],
   "source": [
    "def F_L(i, p_list, train_articles, train_nonzero_idxs, C):\n",
    "\n",
    "  LAMBDA, GAMMA, PHI = p_list[i]\n",
    "  tau_Lam, tau_Gam, tau_Phi = tau(i, p_list, train_articles, train_nonzero_idxs, C)\n",
    "  grad_LAMBDA, grad_GAMMA, grad_PHI = dLdp(LAMBDA, GAMMA, PHI, train_articles, train_nonzero_idxs, C)\n",
    "  grad_dot_tau_Lam = np.multiply(grad_LAMBDA , tau_Lam)\n",
    "  grad_dot_tau_Gam = np.multiply(grad_GAMMA , tau_Gam)\n",
    "  grad_dot_tau_Phi = [np.multiply(grad_p ,tau_p) for (grad_p, tau_p) in zip (grad_PHI, tau_Phi)]\n",
    "  F_L_Lam = -(grad_LAMBDA - grad_dot_tau_Lam*tau_Lam )\n",
    "  F_L_Gam = -(grad_GAMMA - grad_dot_tau_Gam*tau_Gam )\n",
    "  F_L_Phi = [-(grad_p - gdt_p*tau_p) for (grad_p, gdt_p, tau_p) in zip (grad_PHI, grad_dot_tau_Phi, tau_Phi) ]\n",
    "  return F_L_Lam, F_L_Gam, F_L_Phi\n",
    "  #return -(dLdp(p_list[i]) - np.dot(dLdp(p_list[i]), tau(i, p_list)) *  tau(i, p_list))\n",
    "\n",
    "def F_s(i, k, p_list):\n",
    "  LAMBDA_1, GAMMA_1, PHI_1 = p_list[i] \n",
    "  LAMBDA_2, GAMMA_2, PHI_2 = p_list[i+1]  \n",
    "  k_LAMBDA_Diff =  k * (LAMBDA_1 - LAMBDA_2)\n",
    "  k_GAMMA_Diff =  k * (GAMMA_1 - GAMMA_2)\n",
    "  k_PHI_Diff = [k*(curr - next) for (curr,next) in zip(PHI_1,PHI_2)]\n",
    "\n",
    "  return k_LAMBDA_Diff, k_GAMMA_Diff, k_PHI_Diff"
   ]
  },
  {
   "cell_type": "code",
   "execution_count": 83,
   "metadata": {
    "id": "0P0hj0ll4Bri",
    "scrolled": true
   },
   "outputs": [],
   "source": [
    "def init(theta_1, theta_2, N):\n",
    "    LAMBDA_1, GAMMA_1, PHI_1 = theta_1\n",
    "    LAMBDA_2, GAMMA_2, PHI_2 = theta_2\n",
    "\n",
    "    interval = np.linspace(0,1,N+1)\n",
    "  \n",
    "    p_list = []\n",
    "\n",
    "    for i in interval:\n",
    "        NEW_LAMBDA = (LAMBDA_2 - LAMBDA_1) * i + LAMBDA_1\n",
    "        NEW_GAMMA = (GAMMA_2 - GAMMA_1) * i + GAMMA_1\n",
    "        NEW_PHI = [(Phi_2 - Phi_1) * i + Phi_1 for (Phi_1,Phi_2) in zip(PHI_1,PHI_2)]\n",
    "        p_list.append([NEW_LAMBDA, NEW_GAMMA, NEW_PHI]) \n",
    "\n",
    "\n",
    "    return p_list"
   ]
  },
  {
   "cell_type": "code",
   "execution_count": 84,
   "metadata": {
    "scrolled": true
   },
   "outputs": [
    {
     "data": {
      "text/plain": [
       "array([0. , 0.5, 1. ])"
      ]
     },
     "execution_count": 84,
     "metadata": {},
     "output_type": "execute_result"
    }
   ],
   "source": [
    "np.linspace(0,1,3)"
   ]
  },
  {
   "cell_type": "markdown",
   "metadata": {
    "id": "VD98dHsTtHGn"
   },
   "source": [
    "##Load data and get parameters "
   ]
  },
  {
   "cell_type": "code",
   "execution_count": 85,
   "metadata": {
    "id": "7j8yNBC9thHM",
    "scrolled": true
   },
   "outputs": [],
   "source": [
    "cwd = os.getcwd()\n",
    "BOW_PATH = cwd + \"/Data/ap.dat\" \n",
    "VOCAB_PATH = cwd + \"/Data/vocab.txt\" \n",
    "\n",
    "# Topic Exch. Dirichlet hyperparameter (mixture components)\n",
    "ETA = 0.01 # Set to 100/V\n",
    "\n",
    "# Topic Proportion Dirichlet hyperparameter (mixture proportions)\n",
    "ALPHA = 0.1 # Set to\n",
    "\n",
    "# Maximum number of iterations (Might not use)\n",
    "MAX_ITER = 100\n",
    "\n",
    "# Number of CAVI iterations\n",
    "N_TRIALS = 1\n",
    "\n",
    "# Test data size\n",
    "N_TEST = 10\n",
    "\n",
    "# Computes the softmax for a given set of scores\n",
    "# Scores will be log probability of each assignment\n",
    "# Note: Uses log-sum-exp trick to avoid overflow/underflow\n",
    "def compute_logsumexp(scores):\n",
    "    # Take the max of the scores\n",
    "    max_score = np.max(scores, axis=0)\n",
    "\n",
    "    # Subtract scores by max and exponentiate\n",
    "    # result = \n",
    "    exp_scores = np.exp(scores - max_score)\n",
    "\n",
    "    # Compute denominator\n",
    "    sum_exp = np.sum(exp_scores)\n",
    "\n",
    "    # Compute log-sum-exp\n",
    "    log_sum_exp = np.log(sum_exp) + max_score\n",
    "\n",
    "    return log_sum_exp\n",
    "\n",
    "# Loads the AP article dataset\n",
    "def load_data():\n",
    "    # Load index-to-word mapping\n",
    "    print('Loading index-to-word mapping...')\n",
    "\n",
    "    with open(VOCAB_PATH, 'r') as fh:\n",
    "        raw_lines = fh.readlines()\n",
    "\n",
    "    idx_to_words = [word.strip() for word in raw_lines]\n",
    "    V = len(idx_to_words)\n",
    "\n",
    "    # Load article BoW representations\n",
    "    print('Loading article bag-of-word representations...')\n",
    "\n",
    "    with open(BOW_PATH, 'r') as fh:\n",
    "        raw_lines = fh.readlines()\n",
    "        N = len(raw_lines)\n",
    "        print('{} articles found.'.format(N))\n",
    "\n",
    "    articles = np.zeros((N,V))\n",
    "    nonzero_idxs = []\n",
    "\n",
    "    # Process each article\n",
    "    for i in tqdm(range(N)):\n",
    "        split = raw_lines[i].split(' ')\n",
    "        n_words = int(split[0]) # Number of words in the article\n",
    "        split = split[1:] # BoW representations\n",
    "\n",
    "        article = np.zeros((V,)) # Sparse V-vector\n",
    "        nonzero_idx = [] # List of indices that have non-zero counts\n",
    "\n",
    "        for bow in split:\n",
    "            bow = bow.strip()\n",
    "            word_idx, count = bow.split(':')\n",
    "\n",
    "            nonzero_idx.append(int(word_idx))\n",
    "            article[int(word_idx)] = count\n",
    "\n",
    "        # Check if article words parsed correctly\n",
    "        try:\n",
    "            assert(len(nonzero_idx) == n_words)\n",
    "        except:\n",
    "            raise AssertionError('{}, {}'.format(len(nonzero_idx), n_words))\n",
    "\n",
    "        articles[i] = article\n",
    "        nonzero_idxs.append(sorted(nonzero_idx))\n",
    "\n",
    "    return idx_to_words, articles, nonzero_idxs\n",
    "\n",
    "\n",
    "\n",
    "\n",
    "\n",
    "# Initializes the variational parameters for CAVI\n",
    "def init_var_param(train_articles, C):\n",
    "    print('Initializing variational parameters...')\n",
    "\n",
    "    # Number of articles, vocabulary size\n",
    "    N, V = train_articles.shape\n",
    "\n",
    "    # Topics (initializing LAMBDA for BETA)\n",
    "    LAMBDA = np.random.uniform(low=0.01, high=1.0, size=(C,V))\n",
    "\n",
    "    # Topic Proportions (initializing GAMMA for THETA)\n",
    "    GAMMA = np.ones((N,C)) # Uniform prior\n",
    "\n",
    "    # Topic Assignments (initializing PHI for Z)\n",
    "    # Shape: (N,n_words,C) (Note: n_words is vacriable)\n",
    "    PHI = []\n",
    "\n",
    "    for article in train_articles:\n",
    "        n_words = np.sum((article > 0).astype('int32'))\n",
    "        article_phi = np.ones((n_words,C))\n",
    "        article_phi = article_phi / C # Initialize to 1/C\n",
    "\n",
    "        PHI.append(article_phi)\n",
    "\n",
    "    return LAMBDA, GAMMA, PHI\n",
    "\n",
    "# Compute ELBO\n",
    "def compute_elbo(LAMBDA, GAMMA, PHI, train_articles, train_nonzero_idxs, C):\n",
    "    elbo = 0\n",
    "\n",
    "    # Number of articles, vocabulary size\n",
    "    N, V = train_articles.shape\n",
    "\n",
    "    # Add expected log joint\n",
    "    ## First term: \\sum_{k=1}^C E[log p(BETA_k)]\n",
    "    E_log_p_beta = 0\n",
    "    for k in range(C):\n",
    "        E_log_p_beta += (ETA-1) * np.sum(digamma(LAMBDA[k]) - digamma(np.sum(LAMBDA[k])))\n",
    "\n",
    "    elbo += E_log_p_beta\n",
    "\n",
    "    ## Second term: \\sum_{i=1}^N E[log p(THETA_i)]\n",
    "    E_log_p_theta = 0\n",
    "    for i in range(N):\n",
    "        E_log_p_theta += (ALPHA-1) * np.sum(digamma(GAMMA[i]) - digamma(np.sum(GAMMA[i])))\n",
    "\n",
    "    elbo += E_log_p_theta\n",
    "\n",
    "    ## Third term:\n",
    "    ## \\sum_{i=1}^N \\sum_{j=1}^M \\sum_{k=1}^C\n",
    "    ## (E[log p(Z_ij|THETA_i)] + E[log p(X_ij)|BETA,Z_ij)])\n",
    "    E_log_p_xz = 0\n",
    "    for i in range(N):\n",
    "        article = train_articles[i]\n",
    "        nonzero_idx = train_nonzero_idxs[i]\n",
    "\n",
    "        corr_idx = 0\n",
    "\n",
    "        for idx in nonzero_idx:\n",
    "            ### E[log p(Z_ij|THETA_i)]\n",
    "            E_log_p_xz += article[idx] * np.sum(PHI[i][corr_idx] * (digamma(GAMMA[i]) - digamma(np.sum(GAMMA[i]))))\n",
    "\n",
    "            ### E[log p(X_ij|BETA,Z_ij)]\n",
    "            E_log_p_xz += article[idx] * np.sum(PHI[i][corr_idx] * (digamma(LAMBDA[:,idx]) - digamma(np.sum(LAMBDA, axis=1))))\n",
    "\n",
    "            corr_idx += 1\n",
    "\n",
    "        # Check if number of updates match with number of words\n",
    "        assert(corr_idx == len(nonzero_idx))\n",
    "\n",
    "    elbo += E_log_p_xz\n",
    "\n",
    "    # Add entropy\n",
    "    ## Fourth term: -\\sum_{k=1}^C E[log q(BETA_k)]\n",
    "    E_log_q_beta = 0\n",
    "    for k in range(C):\n",
    "        E_log_q_beta += -loggamma(np.sum(LAMBDA[k])) + np.sum(loggamma(LAMBDA[k]))\n",
    "        E_log_q_beta += -np.sum((LAMBDA[k]-1) * (digamma(LAMBDA[k]) - digamma(np.sum(LAMBDA[k]))))\n",
    "\n",
    "    elbo += E_log_q_beta\n",
    "\n",
    "    ## Fifth term: -\\sum_{i=1}^N E[log q(THETA_i)]\n",
    "    E_log_q_theta = 0\n",
    "    for i in range(N):\n",
    "        E_log_q_theta += -loggamma(np.sum(GAMMA[i])) + np.sum(loggamma(GAMMA[i]))\n",
    "        E_log_q_theta += -np.sum((GAMMA[i]-1) * (digamma(GAMMA[i]) - digamma(np.sum(GAMMA[i]))))\n",
    "\n",
    "    elbo += E_log_q_theta\n",
    "\n",
    "    ## Sixth term: -\\sum_{i=1}^N \\sum_{j=1}^M (E[log q(Z_ij)])\n",
    "    E_log_q_z = 0\n",
    "    for i in range(N):\n",
    "        article = train_articles[i]\n",
    "        nonzero_idx = train_nonzero_idxs[i]\n",
    "\n",
    "        corr_idx = 0\n",
    "        for idx in nonzero_idx:\n",
    "            #print(PHI[i][corr_idx])\n",
    "            #print(type(PHI[i][corr_idx]))\n",
    "            #print(PHI[i][corr_idx]+1e-1)\n",
    "            E_log_q_z += -article[idx] * np.sum(PHI[i][corr_idx] * np.log(np.abs((PHI[i][corr_idx]+1e-6))/(np.linalg.norm(PHI[i][corr_idx]+1e-6)+1e-20)))\n",
    "            #E_log_q_z += -article[idx] * np.sum(PHI[i][corr_idx] * np.log(np.minimum(PHI[i][corr_idx],1e-9)))/(np.linalg.norm(PHI[i][corr_idx])+1e-20)\n",
    "            #E_log_q_z += -article[idx] * np.sum(PHI[i][corr_idx] * np.log(np.abs(PHI[i][corr_idx])))\n",
    "\n",
    "            corr_idx += 1\n",
    "\n",
    "        # Check if number of updates match with number of words\n",
    "        assert(corr_idx == len(nonzero_idx))\n",
    "\n",
    "    elbo += E_log_q_z\n",
    "\n",
    "    print('ELBO: {}'.format(elbo))\n",
    "\n",
    "    return elbo\n",
    "\n",
    "# Runs CAVI for LDA\n",
    "# TODO: Change max iteration to convergence criterion\n",
    "def run_cavi(LAMBDA, GAMMA, PHI, train_articles, train_nonzero_idxs, C, max_iter, predict_flag=False):\n",
    "    # Unpack initial variational parameters\n",
    "    LAMBDA_t = copy.deepcopy(LAMBDA) # Shape: (C,V)\n",
    "    GAMMA_t = copy.deepcopy(GAMMA) # Shape: (N,C)\n",
    "    PHI_t = copy.deepcopy(PHI) # Shape: (N,n_words,C)\n",
    "\n",
    "    # Number of articles, vocabulary size\n",
    "    N, V = train_articles.shape\n",
    "\n",
    "    elbos = []\n",
    "\n",
    "    print('Running CAVI for LDA (C: {}, Iter: {})...'.format(C, max_iter))\n",
    "    for t in range(max_iter):\n",
    "        print('Iteration {}'.format(t+1))\n",
    "        print('Updating PHI and GAMMA')\n",
    "\n",
    "        # For each document\n",
    "        for i in tqdm(range(N)):\n",
    "            article = train_articles[i]\n",
    "            nonzero_idx = train_nonzero_idxs[i]\n",
    "\n",
    "            # Fetch for PHI_ij update\n",
    "            GAMMA_i_t = copy.deepcopy(GAMMA_t[i]) # C-vector\n",
    "\n",
    "            # For each word in document\n",
    "            corr_idx = 0\n",
    "\n",
    "            # Iterate through each word with non-zero count on document\n",
    "            for idx in nonzero_idx:\n",
    "                log_PHI_ij = np.zeros((C,))\n",
    "\n",
    "                for k in range(C):\n",
    "                    # Fetch for PHI_ij update\n",
    "                    LAMBDA_k_t = copy.deepcopy(LAMBDA_t[k]) # V-vector\n",
    "\n",
    "                    exponent = digamma(GAMMA_i_t[k]) - digamma(np.sum(GAMMA_i_t))\n",
    "                    exponent += digamma(LAMBDA_k_t[idx]) - digamma(np.sum(LAMBDA_k_t))\n",
    "                    log_PHI_ij[k] = exponent\n",
    "\n",
    "                # Normalize using log-sum-exp trick\n",
    "                PHI_ij = np.exp(log_PHI_ij - compute_logsumexp(log_PHI_ij))\n",
    "                try:\n",
    "                    assert(np.abs(np.sum(PHI_ij) - 1) < 1e-6)\n",
    "                except:\n",
    "                    raise AssertionError('phi_ij: {}, Sum: {}'.format(PHI_ij, np.sum(PHI_ij)))\n",
    "\n",
    "                PHI_t[i][corr_idx] = PHI_ij\n",
    "                corr_idx += 1\n",
    "\n",
    "            # Check if number of updates match with number of words\n",
    "            assert(corr_idx == len(nonzero_idx))\n",
    "\n",
    "            # Update GAMMA_i\n",
    "            GAMMA_i_t = np.zeros((C,)) + ALPHA\n",
    "\n",
    "            for k in range(C):\n",
    "                GAMMA_i_t[k] += np.sum(article[nonzero_idx] * PHI_t[i][:,k])\n",
    "\n",
    "            GAMMA_t[i] = GAMMA_i_t\n",
    "\n",
    "        if not predict_flag:\n",
    "            # For each topic\n",
    "            print('Updating LAMBDA')\n",
    "\n",
    "            for k in tqdm(range(C)):\n",
    "                LAMBDA_k_t = np.zeros((V,)) + ETA\n",
    "\n",
    "                # For each document\n",
    "                for i in range(N):\n",
    "                    article = train_articles[i]\n",
    "                    nonzero_idx = train_nonzero_idxs[i]\n",
    "\n",
    "                    # For each word in document\n",
    "                    corr_idx = 0\n",
    "\n",
    "                    for idx in nonzero_idx:\n",
    "                        LAMBDA_k_t[idx] += article[idx] * PHI_t[i][corr_idx][k]\n",
    "                        corr_idx +=1\n",
    "\n",
    "                    # Check if number of updates match with number of words\n",
    "                    assert(corr_idx == len(nonzero_idx))\n",
    "\n",
    "                LAMBDA_t[k] = LAMBDA_k_t\n",
    "\n",
    "        # Compute ELBO\n",
    "        elbo = compute_elbo(LAMBDA_t, GAMMA_t, PHI_t, train_articles, train_nonzero_idxs, C)\n",
    "        elbos.append(elbo)\n",
    "\n",
    "    LAMBDA_final = copy.deepcopy(LAMBDA_t)\n",
    "    GAMMA_final = copy.deepcopy(GAMMA_t)\n",
    "    PHI_final = copy.deepcopy(PHI_t)\n",
    "\n",
    "    return LAMBDA_final, GAMMA_final, PHI_final, elbos\n",
    "\n",
    "def filter_train_words(idx_to_words, train_nonzero_idxs):\n",
    "    # Number of train articles, vocabulary size\n",
    "    N, V = train_articles.shape\n",
    "\n",
    "    train_word_idxs = []\n",
    "\n",
    "    for i in range(N):\n",
    "\n",
    "        nonzero_idx = train_nonzero_idxs[i]\n",
    "        train_word_idxs += nonzero_idx\n",
    "\n",
    "    train_word_idxs = set(train_word_idxs)\n",
    "    test_word_idxs = set(range(V)) - train_word_idxs\n",
    "\n",
    "    return test_word_idxs\n",
    "\n",
    "# Computes the predictive likelihood score on held out articles\n",
    "def compute_pred_score(LAMBDA, GAMMA, PHI, test_articles, test_nonzero_idxs, test_word_idxs):\n",
    "    # Number of test articles, vocabulary size\n",
    "    N,V = test_articles.shape\n",
    "\n",
    "    C = LAMBDA.shape[0]\n",
    "\n",
    "    # Expected BETA\n",
    "    BETA = np.zeros((C,V))\n",
    "\n",
    "    for k in range(C):\n",
    "        BETA[k] = LAMBDA[k] / np.sum(LAMBDA[k])\n",
    "\n",
    "    # Expected THETA\n",
    "    THETA = np.zeros((N,C))\n",
    "\n",
    "    for i in range(N):\n",
    "        THETA[i] = GAMMA[i] / np.sum(GAMMA[i])\n",
    "\n",
    "    # Compute predictive likelihood\n",
    "    print('Computing predictive likelihood score on held out documents...')\n",
    "\n",
    "    score = 0\n",
    "    for i in tqdm(range(N)):\n",
    "        article = test_articles[i]\n",
    "        nonzero_idx = test_nonzero_idxs[i]\n",
    "\n",
    "        for idx in nonzero_idx:\n",
    "            if not idx in test_word_idxs:\n",
    "                score += np.log(np.dot(THETA[i], BETA[:,idx]))\n",
    "\n",
    "    print('Predictive likelihood: {}'.format(score))\n",
    "\n",
    "    return score\n",
    "\n"
   ]
  },
  {
   "cell_type": "code",
   "execution_count": 197,
   "metadata": {
    "id": "6FqcONF2s4SW",
    "scrolled": true
   },
   "outputs": [],
   "source": [
    "cwd = os.getcwd()\n",
    "BOW_PATH = cwd + \"/Data/ap.dat\" \n",
    "VOCAB_PATH = cwd + \"/Data/vocab.txt\"\n",
    "\n",
    "#load_data \n",
    "\n",
    "def load_data(BOW_PATH,VOCAB_PATH, trim):\n",
    "    # Load index-to-word mapping\n",
    "    print('Loading index-to-word mapping...')\n",
    "\n",
    "    with open(VOCAB_PATH, 'r') as fh:\n",
    "        raw_lines = fh.readlines()\n",
    "\n",
    "    idx_to_words = [word.strip() for word in raw_lines]\n",
    "    V = len(idx_to_words)\n",
    "\n",
    "    # Load article BoW representations\n",
    "    print('Loading article bag-of-word representations...')\n",
    "\n",
    "    with open(BOW_PATH, 'r') as fh:\n",
    "        raw_lines = fh.readlines()\n",
    "        raw_lines = raw_lines[:np.int(trim*len(raw_lines))]\n",
    "        N = len(raw_lines)\n",
    "        print('{} articles found.'.format(N))\n",
    "\n",
    "    articles = np.zeros((N,V))\n",
    "    nonzero_idxs = []\n",
    "\n",
    "    # Process each article\n",
    "    for i in tqdm(range(N)):\n",
    "        split = raw_lines[i].split(' ')\n",
    "        n_words = int(split[0]) # Number of words in the article\n",
    "        split = split[1:] # BoW representations\n",
    "\n",
    "        article = np.zeros((V,)) # Sparse V-vector\n",
    "        nonzero_idx = [] # List of indices that have non-zero counts\n",
    "\n",
    "        for bow in split:\n",
    "            bow = bow.strip()\n",
    "            word_idx, count = bow.split(':')\n",
    "\n",
    "            nonzero_idx.append(int(word_idx))\n",
    "            article[int(word_idx)] = count\n",
    "\n",
    "        # Check if article words parsed correctly\n",
    "        try:\n",
    "            assert(len(nonzero_idx) == n_words)\n",
    "        except:\n",
    "            raise AssertionError('{}, {}'.format(len(nonzero_idx), n_words))\n",
    "\n",
    "        articles[i] = article\n",
    "        nonzero_idxs.append(sorted(nonzero_idx))\n",
    "\n",
    "    return idx_to_words, articles, nonzero_idxs"
   ]
  },
  {
   "cell_type": "code",
   "execution_count": 264,
   "metadata": {
    "id": "Qyv8HE6JuOZL",
    "scrolled": true
   },
   "outputs": [],
   "source": [
    "pred_score_list = []"
   ]
  },
  {
   "cell_type": "code",
   "execution_count": 436,
   "metadata": {
    "colab": {
     "base_uri": "https://localhost:8080/",
     "height": 1000
    },
    "id": "eaGcOe6CtOQz",
    "outputId": "60ab6337-bcae-49a0-a5f1-63952eb392de",
    "scrolled": true
   },
   "outputs": [
    {
     "name": "stderr",
     "output_type": "stream",
     "text": [
      "/var/folders/mw/9bfg1rf52g57tm0mgxqjy4gm0000gn/T/ipykernel_55007/2775555696.py:22: DeprecationWarning:\n",
      "\n",
      "`np.int` is a deprecated alias for the builtin `int`. To silence this warning, use `int` by itself. Doing this will not modify any behavior and is safe. When replacing `np.int`, you may wish to use e.g. `np.int64` or `np.int32` to specify the precision. If you wish to review your current use, check the release note link for additional information.\n",
      "Deprecated in NumPy 1.20; for more details and guidance: https://numpy.org/devdocs/release/1.20.0-notes.html#deprecations\n",
      "\n"
     ]
    },
    {
     "name": "stdout",
     "output_type": "stream",
     "text": [
      "Loading AP article data...\n",
      "Loading index-to-word mapping...\n",
      "Loading article bag-of-word representations...\n",
      "112 articles found.\n"
     ]
    },
    {
     "name": "stderr",
     "output_type": "stream",
     "text": [
      "100%|██████████████████████████████████████| 112/112 [00:00<00:00, 12386.93it/s]\n"
     ]
    },
    {
     "name": "stdout",
     "output_type": "stream",
     "text": [
      "Running LDA CAVI 1/1...\n",
      "Initializing variational parameters...\n",
      "Running CAVI for LDA (C: 10, Iter: 20)...\n",
      "Iteration 1\n",
      "Updating PHI and GAMMA\n"
     ]
    },
    {
     "name": "stderr",
     "output_type": "stream",
     "text": [
      "100%|█████████████████████████████████████████| 102/102 [00:01<00:00, 65.67it/s]\n"
     ]
    },
    {
     "name": "stdout",
     "output_type": "stream",
     "text": [
      "Updating LAMBDA\n"
     ]
    },
    {
     "name": "stderr",
     "output_type": "stream",
     "text": [
      "100%|██████████████████████████████████████████| 10/10 [00:00<00:00, 231.20it/s]\n"
     ]
    },
    {
     "name": "stdout",
     "output_type": "stream",
     "text": [
      "ELBO: 190743.8428323853\n",
      "Iteration 2\n",
      "Updating PHI and GAMMA\n"
     ]
    },
    {
     "name": "stderr",
     "output_type": "stream",
     "text": [
      "100%|█████████████████████████████████████████| 102/102 [00:01<00:00, 62.11it/s]\n"
     ]
    },
    {
     "name": "stdout",
     "output_type": "stream",
     "text": [
      "Updating LAMBDA\n"
     ]
    },
    {
     "name": "stderr",
     "output_type": "stream",
     "text": [
      "100%|██████████████████████████████████████████| 10/10 [00:00<00:00, 242.58it/s]\n"
     ]
    },
    {
     "name": "stdout",
     "output_type": "stream",
     "text": [
      "ELBO: 224621.56759740593\n",
      "Iteration 3\n",
      "Updating PHI and GAMMA\n"
     ]
    },
    {
     "name": "stderr",
     "output_type": "stream",
     "text": [
      "100%|█████████████████████████████████████████| 102/102 [00:01<00:00, 64.84it/s]\n"
     ]
    },
    {
     "name": "stdout",
     "output_type": "stream",
     "text": [
      "Updating LAMBDA\n"
     ]
    },
    {
     "name": "stderr",
     "output_type": "stream",
     "text": [
      "100%|██████████████████████████████████████████| 10/10 [00:00<00:00, 238.48it/s]\n"
     ]
    },
    {
     "name": "stdout",
     "output_type": "stream",
     "text": [
      "ELBO: 246557.3616926157\n",
      "Iteration 4\n",
      "Updating PHI and GAMMA\n"
     ]
    },
    {
     "name": "stderr",
     "output_type": "stream",
     "text": [
      "100%|█████████████████████████████████████████| 102/102 [00:01<00:00, 66.53it/s]\n"
     ]
    },
    {
     "name": "stdout",
     "output_type": "stream",
     "text": [
      "Updating LAMBDA\n"
     ]
    },
    {
     "name": "stderr",
     "output_type": "stream",
     "text": [
      "100%|██████████████████████████████████████████| 10/10 [00:00<00:00, 239.46it/s]\n"
     ]
    },
    {
     "name": "stdout",
     "output_type": "stream",
     "text": [
      "ELBO: 260490.4333992779\n",
      "Iteration 5\n",
      "Updating PHI and GAMMA\n"
     ]
    },
    {
     "name": "stderr",
     "output_type": "stream",
     "text": [
      "100%|█████████████████████████████████████████| 102/102 [00:01<00:00, 66.85it/s]\n"
     ]
    },
    {
     "name": "stdout",
     "output_type": "stream",
     "text": [
      "Updating LAMBDA\n"
     ]
    },
    {
     "name": "stderr",
     "output_type": "stream",
     "text": [
      "100%|██████████████████████████████████████████| 10/10 [00:00<00:00, 242.77it/s]\n"
     ]
    },
    {
     "name": "stdout",
     "output_type": "stream",
     "text": [
      "ELBO: 270099.65547781443\n",
      "Iteration 6\n",
      "Updating PHI and GAMMA\n"
     ]
    },
    {
     "name": "stderr",
     "output_type": "stream",
     "text": [
      "100%|█████████████████████████████████████████| 102/102 [00:01<00:00, 66.65it/s]\n"
     ]
    },
    {
     "name": "stdout",
     "output_type": "stream",
     "text": [
      "Updating LAMBDA\n"
     ]
    },
    {
     "name": "stderr",
     "output_type": "stream",
     "text": [
      "100%|██████████████████████████████████████████| 10/10 [00:00<00:00, 244.26it/s]\n"
     ]
    },
    {
     "name": "stdout",
     "output_type": "stream",
     "text": [
      "ELBO: 277132.3384994109\n",
      "Iteration 7\n",
      "Updating PHI and GAMMA\n"
     ]
    },
    {
     "name": "stderr",
     "output_type": "stream",
     "text": [
      "100%|█████████████████████████████████████████| 102/102 [00:01<00:00, 67.16it/s]\n"
     ]
    },
    {
     "name": "stdout",
     "output_type": "stream",
     "text": [
      "Updating LAMBDA\n"
     ]
    },
    {
     "name": "stderr",
     "output_type": "stream",
     "text": [
      "100%|██████████████████████████████████████████| 10/10 [00:00<00:00, 244.86it/s]\n"
     ]
    },
    {
     "name": "stdout",
     "output_type": "stream",
     "text": [
      "ELBO: 282161.1938998254\n",
      "Iteration 8\n",
      "Updating PHI and GAMMA\n"
     ]
    },
    {
     "name": "stderr",
     "output_type": "stream",
     "text": [
      "100%|█████████████████████████████████████████| 102/102 [00:01<00:00, 66.91it/s]\n"
     ]
    },
    {
     "name": "stdout",
     "output_type": "stream",
     "text": [
      "Updating LAMBDA\n"
     ]
    },
    {
     "name": "stderr",
     "output_type": "stream",
     "text": [
      "100%|██████████████████████████████████████████| 10/10 [00:00<00:00, 240.30it/s]\n"
     ]
    },
    {
     "name": "stdout",
     "output_type": "stream",
     "text": [
      "ELBO: 285682.3914911684\n",
      "Iteration 9\n",
      "Updating PHI and GAMMA\n"
     ]
    },
    {
     "name": "stderr",
     "output_type": "stream",
     "text": [
      "100%|█████████████████████████████████████████| 102/102 [00:01<00:00, 66.90it/s]\n"
     ]
    },
    {
     "name": "stdout",
     "output_type": "stream",
     "text": [
      "Updating LAMBDA\n"
     ]
    },
    {
     "name": "stderr",
     "output_type": "stream",
     "text": [
      "100%|██████████████████████████████████████████| 10/10 [00:00<00:00, 240.04it/s]\n"
     ]
    },
    {
     "name": "stdout",
     "output_type": "stream",
     "text": [
      "ELBO: 288146.9133290137\n",
      "Iteration 10\n",
      "Updating PHI and GAMMA\n"
     ]
    },
    {
     "name": "stderr",
     "output_type": "stream",
     "text": [
      "100%|█████████████████████████████████████████| 102/102 [00:01<00:00, 66.83it/s]\n"
     ]
    },
    {
     "name": "stdout",
     "output_type": "stream",
     "text": [
      "Updating LAMBDA\n"
     ]
    },
    {
     "name": "stderr",
     "output_type": "stream",
     "text": [
      "100%|██████████████████████████████████████████| 10/10 [00:00<00:00, 240.33it/s]\n"
     ]
    },
    {
     "name": "stdout",
     "output_type": "stream",
     "text": [
      "ELBO: 289832.0686389417\n",
      "Iteration 11\n",
      "Updating PHI and GAMMA\n"
     ]
    },
    {
     "name": "stderr",
     "output_type": "stream",
     "text": [
      "100%|█████████████████████████████████████████| 102/102 [00:01<00:00, 67.00it/s]\n"
     ]
    },
    {
     "name": "stdout",
     "output_type": "stream",
     "text": [
      "Updating LAMBDA\n"
     ]
    },
    {
     "name": "stderr",
     "output_type": "stream",
     "text": [
      "100%|██████████████████████████████████████████| 10/10 [00:00<00:00, 246.41it/s]\n"
     ]
    },
    {
     "name": "stdout",
     "output_type": "stream",
     "text": [
      "ELBO: 291066.7129189073\n",
      "Iteration 12\n",
      "Updating PHI and GAMMA\n"
     ]
    },
    {
     "name": "stderr",
     "output_type": "stream",
     "text": [
      "100%|█████████████████████████████████████████| 102/102 [00:01<00:00, 66.70it/s]\n"
     ]
    },
    {
     "name": "stdout",
     "output_type": "stream",
     "text": [
      "Updating LAMBDA\n"
     ]
    },
    {
     "name": "stderr",
     "output_type": "stream",
     "text": [
      "100%|██████████████████████████████████████████| 10/10 [00:00<00:00, 238.19it/s]\n"
     ]
    },
    {
     "name": "stdout",
     "output_type": "stream",
     "text": [
      "ELBO: 292006.2776933267\n",
      "Iteration 13\n",
      "Updating PHI and GAMMA\n"
     ]
    },
    {
     "name": "stderr",
     "output_type": "stream",
     "text": [
      "100%|█████████████████████████████████████████| 102/102 [00:01<00:00, 66.91it/s]\n"
     ]
    },
    {
     "name": "stdout",
     "output_type": "stream",
     "text": [
      "Updating LAMBDA\n"
     ]
    },
    {
     "name": "stderr",
     "output_type": "stream",
     "text": [
      "100%|██████████████████████████████████████████| 10/10 [00:00<00:00, 243.48it/s]\n"
     ]
    },
    {
     "name": "stdout",
     "output_type": "stream",
     "text": [
      "ELBO: 292701.91819717945\n",
      "Iteration 14\n",
      "Updating PHI and GAMMA\n"
     ]
    },
    {
     "name": "stderr",
     "output_type": "stream",
     "text": [
      "100%|█████████████████████████████████████████| 102/102 [00:01<00:00, 66.88it/s]\n"
     ]
    },
    {
     "name": "stdout",
     "output_type": "stream",
     "text": [
      "Updating LAMBDA\n"
     ]
    },
    {
     "name": "stderr",
     "output_type": "stream",
     "text": [
      "100%|██████████████████████████████████████████| 10/10 [00:00<00:00, 243.31it/s]\n"
     ]
    },
    {
     "name": "stdout",
     "output_type": "stream",
     "text": [
      "ELBO: 293257.0996604176\n",
      "Iteration 15\n",
      "Updating PHI and GAMMA\n"
     ]
    },
    {
     "name": "stderr",
     "output_type": "stream",
     "text": [
      "100%|█████████████████████████████████████████| 102/102 [00:01<00:00, 66.99it/s]\n"
     ]
    },
    {
     "name": "stdout",
     "output_type": "stream",
     "text": [
      "Updating LAMBDA\n"
     ]
    },
    {
     "name": "stderr",
     "output_type": "stream",
     "text": [
      "100%|██████████████████████████████████████████| 10/10 [00:00<00:00, 240.12it/s]\n"
     ]
    },
    {
     "name": "stdout",
     "output_type": "stream",
     "text": [
      "ELBO: 293711.8481563879\n",
      "Iteration 16\n",
      "Updating PHI and GAMMA\n"
     ]
    },
    {
     "name": "stderr",
     "output_type": "stream",
     "text": [
      "100%|█████████████████████████████████████████| 102/102 [00:01<00:00, 66.96it/s]\n"
     ]
    },
    {
     "name": "stdout",
     "output_type": "stream",
     "text": [
      "Updating LAMBDA\n"
     ]
    },
    {
     "name": "stderr",
     "output_type": "stream",
     "text": [
      "100%|██████████████████████████████████████████| 10/10 [00:00<00:00, 240.89it/s]\n"
     ]
    },
    {
     "name": "stdout",
     "output_type": "stream",
     "text": [
      "ELBO: 294083.04380896484\n",
      "Iteration 17\n",
      "Updating PHI and GAMMA\n"
     ]
    },
    {
     "name": "stderr",
     "output_type": "stream",
     "text": [
      "100%|█████████████████████████████████████████| 102/102 [00:01<00:00, 66.81it/s]\n"
     ]
    },
    {
     "name": "stdout",
     "output_type": "stream",
     "text": [
      "Updating LAMBDA\n"
     ]
    },
    {
     "name": "stderr",
     "output_type": "stream",
     "text": [
      "100%|██████████████████████████████████████████| 10/10 [00:00<00:00, 237.15it/s]\n"
     ]
    },
    {
     "name": "stdout",
     "output_type": "stream",
     "text": [
      "ELBO: 294386.61206175515\n",
      "Iteration 18\n",
      "Updating PHI and GAMMA\n"
     ]
    },
    {
     "name": "stderr",
     "output_type": "stream",
     "text": [
      "100%|█████████████████████████████████████████| 102/102 [00:01<00:00, 66.87it/s]\n"
     ]
    },
    {
     "name": "stdout",
     "output_type": "stream",
     "text": [
      "Updating LAMBDA\n"
     ]
    },
    {
     "name": "stderr",
     "output_type": "stream",
     "text": [
      "100%|██████████████████████████████████████████| 10/10 [00:00<00:00, 239.38it/s]\n"
     ]
    },
    {
     "name": "stdout",
     "output_type": "stream",
     "text": [
      "ELBO: 294635.0008297746\n",
      "Iteration 19\n",
      "Updating PHI and GAMMA\n"
     ]
    },
    {
     "name": "stderr",
     "output_type": "stream",
     "text": [
      "100%|█████████████████████████████████████████| 102/102 [00:01<00:00, 66.57it/s]\n"
     ]
    },
    {
     "name": "stdout",
     "output_type": "stream",
     "text": [
      "Updating LAMBDA\n"
     ]
    },
    {
     "name": "stderr",
     "output_type": "stream",
     "text": [
      "100%|██████████████████████████████████████████| 10/10 [00:00<00:00, 231.27it/s]\n"
     ]
    },
    {
     "name": "stdout",
     "output_type": "stream",
     "text": [
      "ELBO: 294848.2876164357\n",
      "Iteration 20\n",
      "Updating PHI and GAMMA\n"
     ]
    },
    {
     "name": "stderr",
     "output_type": "stream",
     "text": [
      "100%|█████████████████████████████████████████| 102/102 [00:01<00:00, 62.11it/s]\n"
     ]
    },
    {
     "name": "stdout",
     "output_type": "stream",
     "text": [
      "Updating LAMBDA\n"
     ]
    },
    {
     "name": "stderr",
     "output_type": "stream",
     "text": [
      "100%|██████████████████████████████████████████| 10/10 [00:00<00:00, 221.20it/s]\n"
     ]
    },
    {
     "name": "stdout",
     "output_type": "stream",
     "text": [
      "ELBO: 295023.08405143884\n"
     ]
    },
    {
     "data": {
      "image/png": "[encoded data removed]",
      "text/plain": [
       "<Figure size 640x480 with 1 Axes>"
      ]
     },
     "metadata": {},
     "output_type": "display_data"
    },
    {
     "name": "stdout",
     "output_type": "stream",
     "text": [
      "ELBO plot saved.\n",
      "Initializing variational parameters...\n",
      "Running CAVI for LDA (C: 10, Iter: 20)...\n",
      "Iteration 1\n",
      "Updating PHI and GAMMA\n"
     ]
    },
    {
     "name": "stderr",
     "output_type": "stream",
     "text": [
      "100%|███████████████████████████████████████████| 10/10 [00:00<00:00, 74.92it/s]\n"
     ]
    },
    {
     "name": "stdout",
     "output_type": "stream",
     "text": [
      "ELBO: 412329.3533364112\n",
      "Iteration 2\n",
      "Updating PHI and GAMMA\n"
     ]
    },
    {
     "name": "stderr",
     "output_type": "stream",
     "text": [
      "100%|███████████████████████████████████████████| 10/10 [00:00<00:00, 77.47it/s]\n"
     ]
    },
    {
     "name": "stdout",
     "output_type": "stream",
     "text": [
      "ELBO: 412390.47750288795\n",
      "Iteration 3\n",
      "Updating PHI and GAMMA\n"
     ]
    },
    {
     "name": "stderr",
     "output_type": "stream",
     "text": [
      "100%|███████████████████████████████████████████| 10/10 [00:00<00:00, 78.46it/s]\n"
     ]
    },
    {
     "name": "stdout",
     "output_type": "stream",
     "text": [
      "ELBO: 412408.8527154081\n",
      "Iteration 4\n",
      "Updating PHI and GAMMA\n"
     ]
    },
    {
     "name": "stderr",
     "output_type": "stream",
     "text": [
      "100%|███████████████████████████████████████████| 10/10 [00:00<00:00, 79.42it/s]\n"
     ]
    },
    {
     "name": "stdout",
     "output_type": "stream",
     "text": [
      "ELBO: 412414.6864055165\n",
      "Iteration 5\n",
      "Updating PHI and GAMMA\n"
     ]
    },
    {
     "name": "stderr",
     "output_type": "stream",
     "text": [
      "100%|███████████████████████████████████████████| 10/10 [00:00<00:00, 75.06it/s]\n"
     ]
    },
    {
     "name": "stdout",
     "output_type": "stream",
     "text": [
      "ELBO: 412416.5943268953\n",
      "Iteration 6\n",
      "Updating PHI and GAMMA\n"
     ]
    },
    {
     "name": "stderr",
     "output_type": "stream",
     "text": [
      "100%|███████████████████████████████████████████| 10/10 [00:00<00:00, 72.93it/s]\n"
     ]
    },
    {
     "name": "stdout",
     "output_type": "stream",
     "text": [
      "ELBO: 412417.1670011046\n",
      "Iteration 7\n",
      "Updating PHI and GAMMA\n"
     ]
    },
    {
     "name": "stderr",
     "output_type": "stream",
     "text": [
      "100%|███████████████████████████████████████████| 10/10 [00:00<00:00, 76.90it/s]\n"
     ]
    },
    {
     "name": "stdout",
     "output_type": "stream",
     "text": [
      "ELBO: 412417.38190120907\n",
      "Iteration 8\n",
      "Updating PHI and GAMMA\n"
     ]
    },
    {
     "name": "stderr",
     "output_type": "stream",
     "text": [
      "100%|███████████████████████████████████████████| 10/10 [00:00<00:00, 75.54it/s]\n"
     ]
    },
    {
     "name": "stdout",
     "output_type": "stream",
     "text": [
      "ELBO: 412417.46583273174\n",
      "Iteration 9\n",
      "Updating PHI and GAMMA\n"
     ]
    },
    {
     "name": "stderr",
     "output_type": "stream",
     "text": [
      "100%|███████████████████████████████████████████| 10/10 [00:00<00:00, 74.25it/s]\n"
     ]
    },
    {
     "name": "stdout",
     "output_type": "stream",
     "text": [
      "ELBO: 412417.4995190774\n",
      "Iteration 10\n",
      "Updating PHI and GAMMA\n"
     ]
    },
    {
     "name": "stderr",
     "output_type": "stream",
     "text": [
      "100%|███████████████████████████████████████████| 10/10 [00:00<00:00, 75.15it/s]\n"
     ]
    },
    {
     "name": "stdout",
     "output_type": "stream",
     "text": [
      "ELBO: 412417.513365401\n",
      "Iteration 11\n",
      "Updating PHI and GAMMA\n"
     ]
    },
    {
     "name": "stderr",
     "output_type": "stream",
     "text": [
      "100%|███████████████████████████████████████████| 10/10 [00:00<00:00, 75.55it/s]\n"
     ]
    },
    {
     "name": "stdout",
     "output_type": "stream",
     "text": [
      "ELBO: 412417.5191802529\n",
      "Iteration 12\n",
      "Updating PHI and GAMMA\n"
     ]
    },
    {
     "name": "stderr",
     "output_type": "stream",
     "text": [
      "100%|███████████████████████████████████████████| 10/10 [00:00<00:00, 77.16it/s]\n"
     ]
    },
    {
     "name": "stdout",
     "output_type": "stream",
     "text": [
      "ELBO: 412417.52167074673\n",
      "Iteration 13\n",
      "Updating PHI and GAMMA\n"
     ]
    },
    {
     "name": "stderr",
     "output_type": "stream",
     "text": [
      "100%|███████████████████████████████████████████| 10/10 [00:00<00:00, 76.55it/s]\n"
     ]
    },
    {
     "name": "stdout",
     "output_type": "stream",
     "text": [
      "ELBO: 412417.52275700244\n",
      "Iteration 14\n",
      "Updating PHI and GAMMA\n"
     ]
    },
    {
     "name": "stderr",
     "output_type": "stream",
     "text": [
      "100%|███████████████████████████████████████████| 10/10 [00:00<00:00, 78.86it/s]\n"
     ]
    },
    {
     "name": "stdout",
     "output_type": "stream",
     "text": [
      "ELBO: 412417.5232388508\n",
      "Iteration 15\n",
      "Updating PHI and GAMMA\n"
     ]
    },
    {
     "name": "stderr",
     "output_type": "stream",
     "text": [
      "100%|███████████████████████████████████████████| 10/10 [00:00<00:00, 70.97it/s]\n"
     ]
    },
    {
     "name": "stdout",
     "output_type": "stream",
     "text": [
      "ELBO: 412417.52345596236\n",
      "Iteration 16\n",
      "Updating PHI and GAMMA\n"
     ]
    },
    {
     "name": "stderr",
     "output_type": "stream",
     "text": [
      "100%|███████████████████████████████████████████| 10/10 [00:00<00:00, 71.57it/s]\n"
     ]
    },
    {
     "name": "stdout",
     "output_type": "stream",
     "text": [
      "ELBO: 412417.52355521783\n",
      "Iteration 17\n",
      "Updating PHI and GAMMA\n"
     ]
    },
    {
     "name": "stderr",
     "output_type": "stream",
     "text": [
      "100%|███████████████████████████████████████████| 10/10 [00:00<00:00, 72.16it/s]\n"
     ]
    },
    {
     "name": "stdout",
     "output_type": "stream",
     "text": [
      "ELBO: 412417.5236011984\n",
      "Iteration 18\n",
      "Updating PHI and GAMMA\n"
     ]
    },
    {
     "name": "stderr",
     "output_type": "stream",
     "text": [
      "100%|███████████████████████████████████████████| 10/10 [00:00<00:00, 73.12it/s]\n"
     ]
    },
    {
     "name": "stdout",
     "output_type": "stream",
     "text": [
      "ELBO: 412417.5236227598\n",
      "Iteration 19\n",
      "Updating PHI and GAMMA\n"
     ]
    },
    {
     "name": "stderr",
     "output_type": "stream",
     "text": [
      "100%|███████████████████████████████████████████| 10/10 [00:00<00:00, 76.43it/s]\n"
     ]
    },
    {
     "name": "stdout",
     "output_type": "stream",
     "text": [
      "ELBO: 412417.5236329845\n",
      "Iteration 20\n",
      "Updating PHI and GAMMA\n"
     ]
    },
    {
     "name": "stderr",
     "output_type": "stream",
     "text": [
      "100%|███████████████████████████████████████████| 10/10 [00:00<00:00, 73.40it/s]\n"
     ]
    },
    {
     "name": "stdout",
     "output_type": "stream",
     "text": [
      "ELBO: 412417.52363787807\n",
      "Computing predictive likelihood score on held out documents...\n"
     ]
    },
    {
     "name": "stderr",
     "output_type": "stream",
     "text": [
      "100%|█████████████████████████████████████████| 10/10 [00:00<00:00, 4970.14it/s]"
     ]
    },
    {
     "name": "stdout",
     "output_type": "stream",
     "text": [
      "Predictive likelihood: -7523.252314482869\n",
      "Total run-time: 0:0:45\n"
     ]
    },
    {
     "name": "stderr",
     "output_type": "stream",
     "text": [
      "\n"
     ]
    },
    {
     "data": {
      "text/plain": [
       "<Figure size 640x480 with 0 Axes>"
      ]
     },
     "metadata": {},
     "output_type": "display_data"
    }
   ],
   "source": [
    "C = 10 #num of topics \n",
    "#use_cached = kwargs['use_cached']\n",
    "predict_flag = True\n",
    "max_iter = 20\n",
    "n_trials = 1\n",
    "trim = 0.05\n",
    "\n",
    "start_time = datetime.now()\n",
    "\n",
    "global ALPHA\n",
    "ALPHA = 1 / C\n",
    "\n",
    "# Load data\n",
    "print('Loading AP article data...')\n",
    "idx_to_words, articles, nonzero_idxs = load_data(BOW_PATH,VOCAB_PATH, trim)\n",
    "\n",
    "# Split data into train/test\n",
    "\n",
    "train_articles = articles[:-N_TEST]\n",
    "train_nonzero_idxs = nonzero_idxs[:-N_TEST]\n",
    "test_articles = articles[-N_TEST:]\n",
    "test_nonzero_idxs = nonzero_idxs[-N_TEST:]\n",
    "\n",
    "#var_param_dict = {}\n",
    "colors = matplotlib.cm.tab10(np.linspace(0,1,n_trials))\n",
    "best_trial = 0\n",
    "best_elbo = -np.inf\n",
    "\n",
    "for trial in range(n_trials):\n",
    "    print('Running LDA CAVI {}/{}...'.format(trial+1, n_trials))\n",
    "\n",
    "    # Initialize variational parameters\n",
    "    LAMBDA, GAMMA, PHI = init_var_param(train_articles, C)\n",
    "\n",
    "    # Run CAVI\n",
    "    LAMBDA_final, GAMMA_final, PHI_final, elbos = run_cavi(LAMBDA, GAMMA, PHI, train_articles,\n",
    "                                                            train_nonzero_idxs, C, max_iter)\n",
    "\n",
    "    elbo_final = elbos[-1]\n",
    "\n",
    "    if elbo_final > best_elbo:\n",
    "        best_trial = trial\n",
    "        best_elbo = elbo_final\n",
    "        \n",
    "    '''\n",
    "    var_param_dict[trial] = {'LAMBDA': LAMBDA_final,\n",
    "                              'GAMMA': GAMMA_final,\n",
    "                              'PHI': PHI_final,\n",
    "                              'elbos': elbos}\n",
    "    '''\n",
    "    # Plot ELBO\n",
    "    plt.plot(np.arange(0, max_iter), elbos, label=trial+1, color=colors[trial])\n",
    "\n",
    "#plt.legend()\n",
    "plt.xlabel('Iteration')\n",
    "plt.ylabel('ELBO')\n",
    "plt.show()\n",
    "plt.savefig('./elbo_plot_{}_{}.png'.format(C, max_iter))\n",
    "print('ELBO plot saved.')\n",
    "\n",
    "# Compute predictive likelihood score on held out test articles\n",
    "if predict_flag:\n",
    "    \n",
    "    #LAMBDA_fixed = var_param_dict[best_trial]['LAMBDA']\n",
    "    LAMBDA_fixed = LAMBDA_final\n",
    "\n",
    "    # Initialize variational parameters\n",
    "    _, GAMMA, PHI = init_var_param(test_articles, C)\n",
    "\n",
    "    # Run CAVI\n",
    "    LAMBDA_pred, GAMMA_pred, PHI_pred, elbos = run_cavi(LAMBDA_fixed, GAMMA, PHI, test_articles,\n",
    "                                                        test_nonzero_idxs, C, max_iter, predict_flag=True)\n",
    "    test_word_idxs = []\n",
    "    # Compute predictive likelihood\n",
    "    test_word_idxs = filter_train_words(idx_to_words, train_nonzero_idxs)\n",
    "    pred_score = compute_pred_score(LAMBDA_pred, GAMMA_pred, PHI_pred, test_articles,\n",
    "                                    test_nonzero_idxs, test_word_idxs)\n",
    "    #var_param_dict['score'] = pred_score\n",
    "    pred_score_list.append(pred_score)\n",
    "\n",
    "# Save inferred variational parameters\n",
    "'''\n",
    "with open('var_params_{}_{}.pkl'.format(C, max_iter), 'wb') as fh:\n",
    "    pickle.dump(var_param_dict, fh)\n",
    "    print('Inferred variational parameters saved.')\n",
    "'''\n",
    "\n",
    "end_time = datetime.now()\n",
    "elapsed_time = end_time - start_time\n",
    "hours, rem = divmod(elapsed_time.seconds, 3600)\n",
    "minutes, seconds = divmod(rem, 60)\n",
    "print('Total run-time: {}:{}:{}'.format(hours, minutes, seconds))\n"
   ]
  },
  {
   "cell_type": "code",
   "execution_count": 437,
   "metadata": {
    "id": "bJJzq6dmuRll",
    "scrolled": true
   },
   "outputs": [],
   "source": [
    "theta1 = [LAMBDA_final, GAMMA_final, PHI_final] "
   ]
  },
  {
   "cell_type": "code",
   "execution_count": 438,
   "metadata": {
    "colab": {
     "base_uri": "https://localhost:8080/",
     "height": 1000
    },
    "id": "8nEMKohluenX",
    "outputId": "066c74b8-da6e-4227-89ed-f003369159e6",
    "scrolled": true
   },
   "outputs": [
    {
     "name": "stdout",
     "output_type": "stream",
     "text": [
      "Running LDA CAVI 1/1...\n",
      "Initializing variational parameters...\n",
      "Running CAVI for LDA (C: 10, Iter: 20)...\n",
      "Iteration 1\n",
      "Updating PHI and GAMMA\n"
     ]
    },
    {
     "name": "stderr",
     "output_type": "stream",
     "text": [
      "100%|█████████████████████████████████████████| 102/102 [00:01<00:00, 63.27it/s]\n"
     ]
    },
    {
     "name": "stdout",
     "output_type": "stream",
     "text": [
      "Updating LAMBDA\n"
     ]
    },
    {
     "name": "stderr",
     "output_type": "stream",
     "text": [
      "100%|██████████████████████████████████████████| 10/10 [00:00<00:00, 221.37it/s]\n"
     ]
    },
    {
     "name": "stdout",
     "output_type": "stream",
     "text": [
      "ELBO: 190237.30741173364\n",
      "Iteration 2\n",
      "Updating PHI and GAMMA\n"
     ]
    },
    {
     "name": "stderr",
     "output_type": "stream",
     "text": [
      "100%|█████████████████████████████████████████| 102/102 [00:01<00:00, 61.95it/s]\n"
     ]
    },
    {
     "name": "stdout",
     "output_type": "stream",
     "text": [
      "Updating LAMBDA\n"
     ]
    },
    {
     "name": "stderr",
     "output_type": "stream",
     "text": [
      "100%|██████████████████████████████████████████| 10/10 [00:00<00:00, 234.78it/s]\n"
     ]
    },
    {
     "name": "stdout",
     "output_type": "stream",
     "text": [
      "ELBO: 224274.8924424391\n",
      "Iteration 3\n",
      "Updating PHI and GAMMA\n"
     ]
    },
    {
     "name": "stderr",
     "output_type": "stream",
     "text": [
      "100%|█████████████████████████████████████████| 102/102 [00:01<00:00, 63.23it/s]\n"
     ]
    },
    {
     "name": "stdout",
     "output_type": "stream",
     "text": [
      "Updating LAMBDA\n"
     ]
    },
    {
     "name": "stderr",
     "output_type": "stream",
     "text": [
      "100%|██████████████████████████████████████████| 10/10 [00:00<00:00, 234.75it/s]\n"
     ]
    },
    {
     "name": "stdout",
     "output_type": "stream",
     "text": [
      "ELBO: 246620.0926130829\n",
      "Iteration 4\n",
      "Updating PHI and GAMMA\n"
     ]
    },
    {
     "name": "stderr",
     "output_type": "stream",
     "text": [
      "100%|█████████████████████████████████████████| 102/102 [00:01<00:00, 65.55it/s]\n"
     ]
    },
    {
     "name": "stdout",
     "output_type": "stream",
     "text": [
      "Updating LAMBDA\n"
     ]
    },
    {
     "name": "stderr",
     "output_type": "stream",
     "text": [
      "100%|██████████████████████████████████████████| 10/10 [00:00<00:00, 248.17it/s]\n"
     ]
    },
    {
     "name": "stdout",
     "output_type": "stream",
     "text": [
      "ELBO: 260589.3611195274\n",
      "Iteration 5\n",
      "Updating PHI and GAMMA\n"
     ]
    },
    {
     "name": "stderr",
     "output_type": "stream",
     "text": [
      "100%|█████████████████████████████████████████| 102/102 [00:01<00:00, 65.76it/s]\n"
     ]
    },
    {
     "name": "stdout",
     "output_type": "stream",
     "text": [
      "Updating LAMBDA\n"
     ]
    },
    {
     "name": "stderr",
     "output_type": "stream",
     "text": [
      "100%|██████████████████████████████████████████| 10/10 [00:00<00:00, 248.04it/s]\n"
     ]
    },
    {
     "name": "stdout",
     "output_type": "stream",
     "text": [
      "ELBO: 270280.49868342816\n",
      "Iteration 6\n",
      "Updating PHI and GAMMA\n"
     ]
    },
    {
     "name": "stderr",
     "output_type": "stream",
     "text": [
      "100%|█████████████████████████████████████████| 102/102 [00:01<00:00, 64.17it/s]\n"
     ]
    },
    {
     "name": "stdout",
     "output_type": "stream",
     "text": [
      "Updating LAMBDA\n"
     ]
    },
    {
     "name": "stderr",
     "output_type": "stream",
     "text": [
      "100%|██████████████████████████████████████████| 10/10 [00:00<00:00, 242.58it/s]\n"
     ]
    },
    {
     "name": "stdout",
     "output_type": "stream",
     "text": [
      "ELBO: 277334.63892278087\n",
      "Iteration 7\n",
      "Updating PHI and GAMMA\n"
     ]
    },
    {
     "name": "stderr",
     "output_type": "stream",
     "text": [
      "100%|█████████████████████████████████████████| 102/102 [00:01<00:00, 63.47it/s]\n"
     ]
    },
    {
     "name": "stdout",
     "output_type": "stream",
     "text": [
      "Updating LAMBDA\n"
     ]
    },
    {
     "name": "stderr",
     "output_type": "stream",
     "text": [
      "100%|██████████████████████████████████████████| 10/10 [00:00<00:00, 248.29it/s]\n"
     ]
    },
    {
     "name": "stdout",
     "output_type": "stream",
     "text": [
      "ELBO: 282363.09187826765\n",
      "Iteration 8\n",
      "Updating PHI and GAMMA\n"
     ]
    },
    {
     "name": "stderr",
     "output_type": "stream",
     "text": [
      "100%|█████████████████████████████████████████| 102/102 [00:01<00:00, 63.14it/s]\n"
     ]
    },
    {
     "name": "stdout",
     "output_type": "stream",
     "text": [
      "Updating LAMBDA\n"
     ]
    },
    {
     "name": "stderr",
     "output_type": "stream",
     "text": [
      "100%|██████████████████████████████████████████| 10/10 [00:00<00:00, 243.02it/s]\n"
     ]
    },
    {
     "name": "stdout",
     "output_type": "stream",
     "text": [
      "ELBO: 285857.84363307693\n",
      "Iteration 9\n",
      "Updating PHI and GAMMA\n"
     ]
    },
    {
     "name": "stderr",
     "output_type": "stream",
     "text": [
      "100%|█████████████████████████████████████████| 102/102 [00:01<00:00, 62.88it/s]\n"
     ]
    },
    {
     "name": "stdout",
     "output_type": "stream",
     "text": [
      "Updating LAMBDA\n"
     ]
    },
    {
     "name": "stderr",
     "output_type": "stream",
     "text": [
      "100%|██████████████████████████████████████████| 10/10 [00:00<00:00, 229.54it/s]\n"
     ]
    },
    {
     "name": "stdout",
     "output_type": "stream",
     "text": [
      "ELBO: 288308.38194804743\n",
      "Iteration 10\n",
      "Updating PHI and GAMMA\n"
     ]
    },
    {
     "name": "stderr",
     "output_type": "stream",
     "text": [
      "100%|█████████████████████████████████████████| 102/102 [00:01<00:00, 64.24it/s]\n"
     ]
    },
    {
     "name": "stdout",
     "output_type": "stream",
     "text": [
      "Updating LAMBDA\n"
     ]
    },
    {
     "name": "stderr",
     "output_type": "stream",
     "text": [
      "100%|██████████████████████████████████████████| 10/10 [00:00<00:00, 219.99it/s]\n"
     ]
    },
    {
     "name": "stdout",
     "output_type": "stream",
     "text": [
      "ELBO: 290041.7678401544\n",
      "Iteration 11\n",
      "Updating PHI and GAMMA\n"
     ]
    },
    {
     "name": "stderr",
     "output_type": "stream",
     "text": [
      "100%|█████████████████████████████████████████| 102/102 [00:01<00:00, 66.20it/s]\n"
     ]
    },
    {
     "name": "stdout",
     "output_type": "stream",
     "text": [
      "Updating LAMBDA\n"
     ]
    },
    {
     "name": "stderr",
     "output_type": "stream",
     "text": [
      "100%|██████████████████████████████████████████| 10/10 [00:00<00:00, 240.81it/s]\n"
     ]
    },
    {
     "name": "stdout",
     "output_type": "stream",
     "text": [
      "ELBO: 291296.26406185154\n",
      "Iteration 12\n",
      "Updating PHI and GAMMA\n"
     ]
    },
    {
     "name": "stderr",
     "output_type": "stream",
     "text": [
      "100%|█████████████████████████████████████████| 102/102 [00:01<00:00, 64.90it/s]\n"
     ]
    },
    {
     "name": "stdout",
     "output_type": "stream",
     "text": [
      "Updating LAMBDA\n"
     ]
    },
    {
     "name": "stderr",
     "output_type": "stream",
     "text": [
      "100%|██████████████████████████████████████████| 10/10 [00:00<00:00, 239.33it/s]\n"
     ]
    },
    {
     "name": "stdout",
     "output_type": "stream",
     "text": [
      "ELBO: 292267.5850805671\n",
      "Iteration 13\n",
      "Updating PHI and GAMMA\n"
     ]
    },
    {
     "name": "stderr",
     "output_type": "stream",
     "text": [
      "100%|█████████████████████████████████████████| 102/102 [00:01<00:00, 66.52it/s]\n"
     ]
    },
    {
     "name": "stdout",
     "output_type": "stream",
     "text": [
      "Updating LAMBDA\n"
     ]
    },
    {
     "name": "stderr",
     "output_type": "stream",
     "text": [
      "100%|██████████████████████████████████████████| 10/10 [00:00<00:00, 242.15it/s]\n"
     ]
    },
    {
     "name": "stdout",
     "output_type": "stream",
     "text": [
      "ELBO: 292941.4144833076\n",
      "Iteration 14\n",
      "Updating PHI and GAMMA\n"
     ]
    },
    {
     "name": "stderr",
     "output_type": "stream",
     "text": [
      "100%|█████████████████████████████████████████| 102/102 [00:01<00:00, 66.39it/s]\n"
     ]
    },
    {
     "name": "stdout",
     "output_type": "stream",
     "text": [
      "Updating LAMBDA\n"
     ]
    },
    {
     "name": "stderr",
     "output_type": "stream",
     "text": [
      "100%|██████████████████████████████████████████| 10/10 [00:00<00:00, 243.10it/s]\n"
     ]
    },
    {
     "name": "stdout",
     "output_type": "stream",
     "text": [
      "ELBO: 293487.462714558\n",
      "Iteration 15\n",
      "Updating PHI and GAMMA\n"
     ]
    },
    {
     "name": "stderr",
     "output_type": "stream",
     "text": [
      "100%|█████████████████████████████████████████| 102/102 [00:01<00:00, 66.22it/s]\n"
     ]
    },
    {
     "name": "stdout",
     "output_type": "stream",
     "text": [
      "Updating LAMBDA\n"
     ]
    },
    {
     "name": "stderr",
     "output_type": "stream",
     "text": [
      "100%|██████████████████████████████████████████| 10/10 [00:00<00:00, 244.79it/s]\n"
     ]
    },
    {
     "name": "stdout",
     "output_type": "stream",
     "text": [
      "ELBO: 293908.3803038925\n",
      "Iteration 16\n",
      "Updating PHI and GAMMA\n"
     ]
    },
    {
     "name": "stderr",
     "output_type": "stream",
     "text": [
      "100%|█████████████████████████████████████████| 102/102 [00:01<00:00, 66.61it/s]\n"
     ]
    },
    {
     "name": "stdout",
     "output_type": "stream",
     "text": [
      "Updating LAMBDA\n"
     ]
    },
    {
     "name": "stderr",
     "output_type": "stream",
     "text": [
      "100%|██████████████████████████████████████████| 10/10 [00:00<00:00, 247.51it/s]\n"
     ]
    },
    {
     "name": "stdout",
     "output_type": "stream",
     "text": [
      "ELBO: 294261.7942008053\n",
      "Iteration 17\n",
      "Updating PHI and GAMMA\n"
     ]
    },
    {
     "name": "stderr",
     "output_type": "stream",
     "text": [
      "100%|█████████████████████████████████████████| 102/102 [00:01<00:00, 65.98it/s]\n"
     ]
    },
    {
     "name": "stdout",
     "output_type": "stream",
     "text": [
      "Updating LAMBDA\n"
     ]
    },
    {
     "name": "stderr",
     "output_type": "stream",
     "text": [
      "100%|██████████████████████████████████████████| 10/10 [00:00<00:00, 246.42it/s]\n"
     ]
    },
    {
     "name": "stdout",
     "output_type": "stream",
     "text": [
      "ELBO: 294541.94386638835\n",
      "Iteration 18\n",
      "Updating PHI and GAMMA\n"
     ]
    },
    {
     "name": "stderr",
     "output_type": "stream",
     "text": [
      "100%|█████████████████████████████████████████| 102/102 [00:01<00:00, 66.19it/s]\n"
     ]
    },
    {
     "name": "stdout",
     "output_type": "stream",
     "text": [
      "Updating LAMBDA\n"
     ]
    },
    {
     "name": "stderr",
     "output_type": "stream",
     "text": [
      "100%|██████████████████████████████████████████| 10/10 [00:00<00:00, 230.01it/s]\n"
     ]
    },
    {
     "name": "stdout",
     "output_type": "stream",
     "text": [
      "ELBO: 294767.6093015858\n",
      "Iteration 19\n",
      "Updating PHI and GAMMA\n"
     ]
    },
    {
     "name": "stderr",
     "output_type": "stream",
     "text": [
      "100%|█████████████████████████████████████████| 102/102 [00:01<00:00, 65.07it/s]\n"
     ]
    },
    {
     "name": "stdout",
     "output_type": "stream",
     "text": [
      "Updating LAMBDA\n"
     ]
    },
    {
     "name": "stderr",
     "output_type": "stream",
     "text": [
      "100%|██████████████████████████████████████████| 10/10 [00:00<00:00, 243.19it/s]\n"
     ]
    },
    {
     "name": "stdout",
     "output_type": "stream",
     "text": [
      "ELBO: 294964.99131317413\n",
      "Iteration 20\n",
      "Updating PHI and GAMMA\n"
     ]
    },
    {
     "name": "stderr",
     "output_type": "stream",
     "text": [
      "100%|█████████████████████████████████████████| 102/102 [00:01<00:00, 66.21it/s]\n"
     ]
    },
    {
     "name": "stdout",
     "output_type": "stream",
     "text": [
      "Updating LAMBDA\n"
     ]
    },
    {
     "name": "stderr",
     "output_type": "stream",
     "text": [
      "100%|██████████████████████████████████████████| 10/10 [00:00<00:00, 240.88it/s]\n"
     ]
    },
    {
     "name": "stdout",
     "output_type": "stream",
     "text": [
      "ELBO: 295142.4218413101\n"
     ]
    },
    {
     "data": {
      "image/png": "[encoded data removed]",
      "text/plain": [
       "<Figure size 640x480 with 1 Axes>"
      ]
     },
     "metadata": {},
     "output_type": "display_data"
    },
    {
     "name": "stdout",
     "output_type": "stream",
     "text": [
      "ELBO plot saved.\n",
      "Initializing variational parameters...\n",
      "Running CAVI for LDA (C: 10, Iter: 20)...\n",
      "Iteration 1\n",
      "Updating PHI and GAMMA\n"
     ]
    },
    {
     "name": "stderr",
     "output_type": "stream",
     "text": [
      "100%|███████████████████████████████████████████| 10/10 [00:00<00:00, 76.73it/s]\n"
     ]
    },
    {
     "name": "stdout",
     "output_type": "stream",
     "text": [
      "ELBO: 412332.2423370488\n",
      "Iteration 2\n",
      "Updating PHI and GAMMA\n"
     ]
    },
    {
     "name": "stderr",
     "output_type": "stream",
     "text": [
      "100%|███████████████████████████████████████████| 10/10 [00:00<00:00, 79.15it/s]\n"
     ]
    },
    {
     "name": "stdout",
     "output_type": "stream",
     "text": [
      "ELBO: 412395.8595332113\n",
      "Iteration 3\n",
      "Updating PHI and GAMMA\n"
     ]
    },
    {
     "name": "stderr",
     "output_type": "stream",
     "text": [
      "100%|███████████████████████████████████████████| 10/10 [00:00<00:00, 77.74it/s]\n"
     ]
    },
    {
     "name": "stdout",
     "output_type": "stream",
     "text": [
      "ELBO: 412416.71630691824\n",
      "Iteration 4\n",
      "Updating PHI and GAMMA\n"
     ]
    },
    {
     "name": "stderr",
     "output_type": "stream",
     "text": [
      "100%|███████████████████████████████████████████| 10/10 [00:00<00:00, 78.62it/s]\n"
     ]
    },
    {
     "name": "stdout",
     "output_type": "stream",
     "text": [
      "ELBO: 412423.7650723413\n",
      "Iteration 5\n",
      "Updating PHI and GAMMA\n"
     ]
    },
    {
     "name": "stderr",
     "output_type": "stream",
     "text": [
      "100%|███████████████████████████████████████████| 10/10 [00:00<00:00, 79.10it/s]\n"
     ]
    },
    {
     "name": "stdout",
     "output_type": "stream",
     "text": [
      "ELBO: 412426.22946960735\n",
      "Iteration 6\n",
      "Updating PHI and GAMMA\n"
     ]
    },
    {
     "name": "stderr",
     "output_type": "stream",
     "text": [
      "100%|███████████████████████████████████████████| 10/10 [00:00<00:00, 78.66it/s]\n"
     ]
    },
    {
     "name": "stdout",
     "output_type": "stream",
     "text": [
      "ELBO: 412427.37975474907\n",
      "Iteration 7\n",
      "Updating PHI and GAMMA\n"
     ]
    },
    {
     "name": "stderr",
     "output_type": "stream",
     "text": [
      "100%|███████████████████████████████████████████| 10/10 [00:00<00:00, 78.73it/s]\n"
     ]
    },
    {
     "name": "stdout",
     "output_type": "stream",
     "text": [
      "ELBO: 412428.2030902159\n",
      "Iteration 8\n",
      "Updating PHI and GAMMA\n"
     ]
    },
    {
     "name": "stderr",
     "output_type": "stream",
     "text": [
      "100%|███████████████████████████████████████████| 10/10 [00:00<00:00, 78.34it/s]\n"
     ]
    },
    {
     "name": "stdout",
     "output_type": "stream",
     "text": [
      "ELBO: 412428.8996283931\n",
      "Iteration 9\n",
      "Updating PHI and GAMMA\n"
     ]
    },
    {
     "name": "stderr",
     "output_type": "stream",
     "text": [
      "100%|███████████████████████████████████████████| 10/10 [00:00<00:00, 78.46it/s]\n"
     ]
    },
    {
     "name": "stdout",
     "output_type": "stream",
     "text": [
      "ELBO: 412429.11076480837\n",
      "Iteration 10\n",
      "Updating PHI and GAMMA\n"
     ]
    },
    {
     "name": "stderr",
     "output_type": "stream",
     "text": [
      "100%|███████████████████████████████████████████| 10/10 [00:00<00:00, 78.12it/s]\n"
     ]
    },
    {
     "name": "stdout",
     "output_type": "stream",
     "text": [
      "ELBO: 412429.18479715666\n",
      "Iteration 11\n",
      "Updating PHI and GAMMA\n"
     ]
    },
    {
     "name": "stderr",
     "output_type": "stream",
     "text": [
      "100%|███████████████████████████████████████████| 10/10 [00:00<00:00, 78.81it/s]\n"
     ]
    },
    {
     "name": "stdout",
     "output_type": "stream",
     "text": [
      "ELBO: 412429.2414264843\n",
      "Iteration 12\n",
      "Updating PHI and GAMMA\n"
     ]
    },
    {
     "name": "stderr",
     "output_type": "stream",
     "text": [
      "100%|███████████████████████████████████████████| 10/10 [00:00<00:00, 78.37it/s]\n"
     ]
    },
    {
     "name": "stdout",
     "output_type": "stream",
     "text": [
      "ELBO: 412429.29267204535\n",
      "Iteration 13\n",
      "Updating PHI and GAMMA\n"
     ]
    },
    {
     "name": "stderr",
     "output_type": "stream",
     "text": [
      "100%|███████████████████████████████████████████| 10/10 [00:00<00:00, 77.98it/s]\n"
     ]
    },
    {
     "name": "stdout",
     "output_type": "stream",
     "text": [
      "ELBO: 412429.34602486965\n",
      "Iteration 14\n",
      "Updating PHI and GAMMA\n"
     ]
    },
    {
     "name": "stderr",
     "output_type": "stream",
     "text": [
      "100%|███████████████████████████████████████████| 10/10 [00:00<00:00, 78.41it/s]\n"
     ]
    },
    {
     "name": "stdout",
     "output_type": "stream",
     "text": [
      "ELBO: 412429.4087659653\n",
      "Iteration 15\n",
      "Updating PHI and GAMMA\n"
     ]
    },
    {
     "name": "stderr",
     "output_type": "stream",
     "text": [
      "100%|███████████████████████████████████████████| 10/10 [00:00<00:00, 78.54it/s]\n"
     ]
    },
    {
     "name": "stdout",
     "output_type": "stream",
     "text": [
      "ELBO: 412429.49123297975\n",
      "Iteration 16\n",
      "Updating PHI and GAMMA\n"
     ]
    },
    {
     "name": "stderr",
     "output_type": "stream",
     "text": [
      "100%|███████████████████████████████████████████| 10/10 [00:00<00:00, 74.12it/s]\n"
     ]
    },
    {
     "name": "stdout",
     "output_type": "stream",
     "text": [
      "ELBO: 412429.6116136825\n",
      "Iteration 17\n",
      "Updating PHI and GAMMA\n"
     ]
    },
    {
     "name": "stderr",
     "output_type": "stream",
     "text": [
      "100%|███████████████████████████████████████████| 10/10 [00:00<00:00, 73.49it/s]\n"
     ]
    },
    {
     "name": "stdout",
     "output_type": "stream",
     "text": [
      "ELBO: 412429.8048171568\n",
      "Iteration 18\n",
      "Updating PHI and GAMMA\n"
     ]
    },
    {
     "name": "stderr",
     "output_type": "stream",
     "text": [
      "100%|███████████████████████████████████████████| 10/10 [00:00<00:00, 71.56it/s]\n"
     ]
    },
    {
     "name": "stdout",
     "output_type": "stream",
     "text": [
      "ELBO: 412430.1323874054\n",
      "Iteration 19\n",
      "Updating PHI and GAMMA\n"
     ]
    },
    {
     "name": "stderr",
     "output_type": "stream",
     "text": [
      "100%|███████████████████████████████████████████| 10/10 [00:00<00:00, 74.52it/s]\n"
     ]
    },
    {
     "name": "stdout",
     "output_type": "stream",
     "text": [
      "ELBO: 412430.56544300844\n",
      "Iteration 20\n",
      "Updating PHI and GAMMA\n"
     ]
    },
    {
     "name": "stderr",
     "output_type": "stream",
     "text": [
      "100%|███████████████████████████████████████████| 10/10 [00:00<00:00, 76.13it/s]\n"
     ]
    },
    {
     "name": "stdout",
     "output_type": "stream",
     "text": [
      "ELBO: 412430.67180892034\n",
      "Computing predictive likelihood score on held out documents...\n"
     ]
    },
    {
     "name": "stderr",
     "output_type": "stream",
     "text": [
      "100%|█████████████████████████████████████████| 10/10 [00:00<00:00, 5537.77it/s]"
     ]
    },
    {
     "name": "stdout",
     "output_type": "stream",
     "text": [
      "Predictive likelihood: -7511.532917195805\n",
      "Total run-time: 0:1:33\n"
     ]
    },
    {
     "name": "stderr",
     "output_type": "stream",
     "text": [
      "\n"
     ]
    },
    {
     "data": {
      "text/plain": [
       "<Figure size 640x480 with 0 Axes>"
      ]
     },
     "metadata": {},
     "output_type": "display_data"
    }
   ],
   "source": [
    "'''\n",
    "C = 10 #num of topics \n",
    "#use_cached = kwargs['use_cached']\n",
    "predict_flag = True\n",
    "max_iter = 20\n",
    "n_trials = 1\n",
    "trim = 0.01\n",
    "\n",
    "start_time = datetime.now()\n",
    "\n",
    "global ALPHA\n",
    "ALPHA = 1 / C\n",
    "\n",
    "# Load data\n",
    "print('Loading AP article data...')\n",
    "idx_to_words, articles, nonzero_idxs = load_data(BOW_PATH,VOCAB_PATH, trim)\n",
    "\n",
    "# Split data into train/test\n",
    "\n",
    "train_articles = articles[:-N_TEST]\n",
    "train_nonzero_idxs = nonzero_idxs[:-N_TEST]\n",
    "test_articles = articles[-N_TEST:]\n",
    "test_nonzero_idxs = nonzero_idxs[-N_TEST:]\n",
    "'''\n",
    "\n",
    "#var_param_dict = {}\n",
    "colors = matplotlib.cm.tab10(np.linspace(0,1,n_trials))\n",
    "best_trial = 0\n",
    "best_elbo = -np.inf\n",
    "\n",
    "for trial in range(n_trials):\n",
    "    print('Running LDA CAVI {}/{}...'.format(trial+1, n_trials))\n",
    "\n",
    "    # Initialize variational parameters\n",
    "    LAMBDA, GAMMA, PHI = init_var_param(train_articles, C)\n",
    "\n",
    "    # Run CAVI\n",
    "    LAMBDA_final, GAMMA_final, PHI_final, elbos = run_cavi(LAMBDA, GAMMA, PHI, train_articles,\n",
    "                                                            train_nonzero_idxs, C, max_iter)\n",
    "\n",
    "    elbo_final = elbos[-1]\n",
    "\n",
    "    if elbo_final > best_elbo:\n",
    "        best_trial = trial\n",
    "        best_elbo = elbo_final\n",
    "        \n",
    "    '''\n",
    "    var_param_dict[trial] = {'LAMBDA': LAMBDA_final,\n",
    "                              'GAMMA': GAMMA_final,\n",
    "                              'PHI': PHI_final,\n",
    "                              'elbos': elbos}\n",
    "    '''\n",
    "    # Plot ELBO\n",
    "    plt.plot(np.arange(0, max_iter), elbos, label=trial+1, color=colors[trial])\n",
    "\n",
    "#plt.legend()\n",
    "plt.xlabel('Iteration')\n",
    "plt.ylabel('ELBO')\n",
    "plt.show()\n",
    "plt.savefig('./elbo_plot_{}_{}.png'.format(C, max_iter))\n",
    "print('ELBO plot saved.')\n",
    "\n",
    "# Compute predictive likelihood score on held out test articles\n",
    "if predict_flag:\n",
    "    \n",
    "    #LAMBDA_fixed = var_param_dict[best_trial]['LAMBDA']\n",
    "    LAMBDA_fixed = LAMBDA_final\n",
    "\n",
    "    # Initialize variational parameters\n",
    "    _, GAMMA, PHI = init_var_param(test_articles, C)\n",
    "\n",
    "    # Run CAVI\n",
    "    LAMBDA_pred, GAMMA_pred, PHI_pred, elbos = run_cavi(LAMBDA_fixed, GAMMA, PHI, test_articles,\n",
    "                                                        test_nonzero_idxs, C, max_iter, predict_flag=True)\n",
    "    test_word_idxs = []\n",
    "    # Compute predictive likelihood\n",
    "    test_word_idxs = filter_train_words(idx_to_words, train_nonzero_idxs)\n",
    "    pred_score = compute_pred_score(LAMBDA_pred, GAMMA_pred, PHI_pred, test_articles,\n",
    "                                    test_nonzero_idxs, test_word_idxs)\n",
    "    #var_param_dict['score'] = pred_score\n",
    "    pred_score_list.append(pred_score)\n",
    "\n",
    "# Save inferred variational parameters\n",
    "'''\n",
    "with open('var_params_{}_{}.pkl'.format(C, max_iter), 'wb') as fh:\n",
    "    pickle.dump(var_param_dict, fh)\n",
    "    print('Inferred variational parameters saved.')\n",
    "'''\n",
    "\n",
    "end_time = datetime.now()\n",
    "elapsed_time = end_time - start_time\n",
    "hours, rem = divmod(elapsed_time.seconds, 3600)\n",
    "minutes, seconds = divmod(rem, 60)\n",
    "print('Total run-time: {}:{}:{}'.format(hours, minutes, seconds))\n"
   ]
  },
  {
   "cell_type": "code",
   "execution_count": 439,
   "metadata": {
    "id": "9swHLmf_uf3s",
    "scrolled": true
   },
   "outputs": [],
   "source": [
    "theta2 = [LAMBDA_final, GAMMA_final, PHI_final] "
   ]
  },
  {
   "cell_type": "markdown",
   "metadata": {
    "id": "bFO39nyB-FQw"
   },
   "source": [
    "### what are the most probable words? "
   ]
  },
  {
   "cell_type": "markdown",
   "metadata": {
    "id": "OPImwG9E-RCl"
   },
   "source": [
    "theta1"
   ]
  },
  {
   "cell_type": "code",
   "execution_count": 440,
   "metadata": {
    "id": "3Ccea6Vq-JR4",
    "scrolled": true
   },
   "outputs": [],
   "source": [
    "most_freq_words_1 = [] \n",
    "\n",
    "for k in range(C): \n",
    "  row = theta1[0][k] \n",
    "  ind = np.argpartition(row, -10)[-10:] \n",
    "  words = []\n",
    "  for i in ind: \n",
    "    words.append(idx_to_words[i])\n",
    "  most_freq_words_1.append(words)"
   ]
  },
  {
   "cell_type": "code",
   "execution_count": 441,
   "metadata": {
    "colab": {
     "base_uri": "https://localhost:8080/"
    },
    "id": "Fte2L1jV_JMV",
    "outputId": "b5550b1e-16a9-4c2b-a4a0-2f16bbb4f6cf",
    "scrolled": true
   },
   "outputs": [
    {
     "name": "stdout",
     "output_type": "stream",
     "text": [
      "['six', 'country', 'go', 'world', 'believe', 'dukakis', 'states', 'united', 'saturday', 'state']\n",
      "['time', 'military', 'two', 'first', 'officials', 'year', 'soviet', 'last', 'leaders', 'bank']\n",
      "['statement', 'duracell', 'children', 'american', 'agreement', 'company', 'york', 'embassy', 'like', 'barry']\n",
      "['end', 'died', 'fire', 'monday', 'friday', 'price', 'year', 'people', 'three', 'tuesday']\n",
      "['take', 'meeting', 'congress', 'defense', 'union', 'asked', 'northwest', 'head', 'earlier', 'today']\n",
      "['area', 'work', 'man', 'police', 'billion', 'two', 'week', 'officers', 'new', 'california']\n",
      "['campaign', 'administration', 'made', 'thats', 'bush', 'told', 'group', 'people', 'official', 'i']\n",
      "['economy', 'news', 'prices', 'rose', 'federal', 'oil', 'report', 'government', 'percent', 'new']\n",
      "['noriega', 'mrs', 'security', 'wednesday', 'high', 'government', 'city', 'states', 'central', 'president']\n",
      "['president', 'economic', 'national', 'new', 'business', 'year', 'rate', 'years', 'percent', 'i']\n"
     ]
    }
   ],
   "source": [
    "for words in most_freq_words_1:\n",
    "    print(words)"
   ]
  },
  {
   "cell_type": "code",
   "execution_count": 447,
   "metadata": {
    "scrolled": true
   },
   "outputs": [
    {
     "data": {
      "text/html": [
       "<div>\n",
       "<style scoped>\n",
       "    .dataframe tbody tr th:only-of-type {\n",
       "        vertical-align: middle;\n",
       "    }\n",
       "\n",
       "    .dataframe tbody tr th {\n",
       "        vertical-align: top;\n",
       "    }\n",
       "\n",
       "    .dataframe thead th {\n",
       "        text-align: right;\n",
       "    }\n",
       "</style>\n",
       "<table border=\"1\" class=\"dataframe\">\n",
       "  <thead>\n",
       "    <tr style=\"text-align: right;\">\n",
       "      <th></th>\n",
       "      <th>0</th>\n",
       "      <th>1</th>\n",
       "      <th>2</th>\n",
       "      <th>3</th>\n",
       "      <th>4</th>\n",
       "      <th>5</th>\n",
       "      <th>6</th>\n",
       "      <th>7</th>\n",
       "      <th>8</th>\n",
       "      <th>9</th>\n",
       "    </tr>\n",
       "  </thead>\n",
       "  <tbody>\n",
       "    <tr>\n",
       "      <th>0</th>\n",
       "      <td>six</td>\n",
       "      <td>country</td>\n",
       "      <td>go</td>\n",
       "      <td>world</td>\n",
       "      <td>believe</td>\n",
       "      <td>dukakis</td>\n",
       "      <td>states</td>\n",
       "      <td>united</td>\n",
       "      <td>saturday</td>\n",
       "      <td>state</td>\n",
       "    </tr>\n",
       "    <tr>\n",
       "      <th>1</th>\n",
       "      <td>time</td>\n",
       "      <td>military</td>\n",
       "      <td>two</td>\n",
       "      <td>first</td>\n",
       "      <td>officials</td>\n",
       "      <td>year</td>\n",
       "      <td>soviet</td>\n",
       "      <td>last</td>\n",
       "      <td>leaders</td>\n",
       "      <td>bank</td>\n",
       "    </tr>\n",
       "    <tr>\n",
       "      <th>2</th>\n",
       "      <td>statement</td>\n",
       "      <td>duracell</td>\n",
       "      <td>children</td>\n",
       "      <td>american</td>\n",
       "      <td>agreement</td>\n",
       "      <td>company</td>\n",
       "      <td>york</td>\n",
       "      <td>embassy</td>\n",
       "      <td>like</td>\n",
       "      <td>barry</td>\n",
       "    </tr>\n",
       "    <tr>\n",
       "      <th>3</th>\n",
       "      <td>end</td>\n",
       "      <td>died</td>\n",
       "      <td>fire</td>\n",
       "      <td>monday</td>\n",
       "      <td>friday</td>\n",
       "      <td>price</td>\n",
       "      <td>year</td>\n",
       "      <td>people</td>\n",
       "      <td>three</td>\n",
       "      <td>tuesday</td>\n",
       "    </tr>\n",
       "    <tr>\n",
       "      <th>4</th>\n",
       "      <td>take</td>\n",
       "      <td>meeting</td>\n",
       "      <td>congress</td>\n",
       "      <td>defense</td>\n",
       "      <td>union</td>\n",
       "      <td>asked</td>\n",
       "      <td>northwest</td>\n",
       "      <td>head</td>\n",
       "      <td>earlier</td>\n",
       "      <td>today</td>\n",
       "    </tr>\n",
       "    <tr>\n",
       "      <th>5</th>\n",
       "      <td>area</td>\n",
       "      <td>work</td>\n",
       "      <td>man</td>\n",
       "      <td>police</td>\n",
       "      <td>billion</td>\n",
       "      <td>two</td>\n",
       "      <td>week</td>\n",
       "      <td>officers</td>\n",
       "      <td>new</td>\n",
       "      <td>california</td>\n",
       "    </tr>\n",
       "    <tr>\n",
       "      <th>6</th>\n",
       "      <td>campaign</td>\n",
       "      <td>administration</td>\n",
       "      <td>made</td>\n",
       "      <td>thats</td>\n",
       "      <td>bush</td>\n",
       "      <td>told</td>\n",
       "      <td>group</td>\n",
       "      <td>people</td>\n",
       "      <td>official</td>\n",
       "      <td>i</td>\n",
       "    </tr>\n",
       "    <tr>\n",
       "      <th>7</th>\n",
       "      <td>economy</td>\n",
       "      <td>news</td>\n",
       "      <td>prices</td>\n",
       "      <td>rose</td>\n",
       "      <td>federal</td>\n",
       "      <td>oil</td>\n",
       "      <td>report</td>\n",
       "      <td>government</td>\n",
       "      <td>percent</td>\n",
       "      <td>new</td>\n",
       "    </tr>\n",
       "    <tr>\n",
       "      <th>8</th>\n",
       "      <td>noriega</td>\n",
       "      <td>mrs</td>\n",
       "      <td>security</td>\n",
       "      <td>wednesday</td>\n",
       "      <td>high</td>\n",
       "      <td>government</td>\n",
       "      <td>city</td>\n",
       "      <td>states</td>\n",
       "      <td>central</td>\n",
       "      <td>president</td>\n",
       "    </tr>\n",
       "    <tr>\n",
       "      <th>9</th>\n",
       "      <td>president</td>\n",
       "      <td>economic</td>\n",
       "      <td>national</td>\n",
       "      <td>new</td>\n",
       "      <td>business</td>\n",
       "      <td>year</td>\n",
       "      <td>rate</td>\n",
       "      <td>years</td>\n",
       "      <td>percent</td>\n",
       "      <td>i</td>\n",
       "    </tr>\n",
       "  </tbody>\n",
       "</table>\n",
       "</div>"
      ],
      "text/plain": [
       "           0               1         2          3          4           5  \\\n",
       "0        six         country        go      world    believe     dukakis   \n",
       "1       time        military       two      first  officials        year   \n",
       "2  statement        duracell  children   american  agreement     company   \n",
       "3        end            died      fire     monday     friday       price   \n",
       "4       take         meeting  congress    defense      union       asked   \n",
       "5       area            work       man     police    billion         two   \n",
       "6   campaign  administration      made      thats       bush        told   \n",
       "7    economy            news    prices       rose    federal         oil   \n",
       "8    noriega             mrs  security  wednesday       high  government   \n",
       "9  president        economic  national        new   business        year   \n",
       "\n",
       "           6           7         8           9  \n",
       "0     states      united  saturday       state  \n",
       "1     soviet        last   leaders        bank  \n",
       "2       york     embassy      like       barry  \n",
       "3       year      people     three     tuesday  \n",
       "4  northwest        head   earlier       today  \n",
       "5       week    officers       new  california  \n",
       "6      group      people  official           i  \n",
       "7     report  government   percent         new  \n",
       "8       city      states   central   president  \n",
       "9       rate       years   percent           i  "
      ]
     },
     "execution_count": 447,
     "metadata": {},
     "output_type": "execute_result"
    }
   ],
   "source": [
    "pd.DataFrame(most_freq_words_1)"
   ]
  },
  {
   "cell_type": "code",
   "execution_count": 461,
   "metadata": {},
   "outputs": [
    {
     "data": {
      "text/html": [
       "<div>\n",
       "<style scoped>\n",
       "    .dataframe tbody tr th:only-of-type {\n",
       "        vertical-align: middle;\n",
       "    }\n",
       "\n",
       "    .dataframe tbody tr th {\n",
       "        vertical-align: top;\n",
       "    }\n",
       "\n",
       "    .dataframe thead th {\n",
       "        text-align: right;\n",
       "    }\n",
       "</style>\n",
       "<table border=\"1\" class=\"dataframe\">\n",
       "  <thead>\n",
       "    <tr style=\"text-align: right;\">\n",
       "      <th></th>\n",
       "      <th>0</th>\n",
       "      <th>1</th>\n",
       "      <th>2</th>\n",
       "      <th>3</th>\n",
       "      <th>4</th>\n",
       "      <th>5</th>\n",
       "      <th>6</th>\n",
       "      <th>7</th>\n",
       "      <th>8</th>\n",
       "      <th>9</th>\n",
       "    </tr>\n",
       "  </thead>\n",
       "  <tbody>\n",
       "    <tr>\n",
       "      <th>0</th>\n",
       "      <td>businesses</td>\n",
       "      <td>saudi</td>\n",
       "      <td>today</td>\n",
       "      <td>defense</td>\n",
       "      <td>made</td>\n",
       "      <td>top</td>\n",
       "      <td>group</td>\n",
       "      <td>officials</td>\n",
       "      <td>company</td>\n",
       "      <td>union</td>\n",
       "    </tr>\n",
       "    <tr>\n",
       "      <th>1</th>\n",
       "      <td>died</td>\n",
       "      <td>years</td>\n",
       "      <td>last</td>\n",
       "      <td>police</td>\n",
       "      <td>new</td>\n",
       "      <td>two</td>\n",
       "      <td>first</td>\n",
       "      <td>office</td>\n",
       "      <td>school</td>\n",
       "      <td>soviet</td>\n",
       "    </tr>\n",
       "    <tr>\n",
       "      <th>2</th>\n",
       "      <td>west</td>\n",
       "      <td>mrs</td>\n",
       "      <td>jackson</td>\n",
       "      <td>police</td>\n",
       "      <td>meeting</td>\n",
       "      <td>monday</td>\n",
       "      <td>southern</td>\n",
       "      <td>people</td>\n",
       "      <td>told</td>\n",
       "      <td>united</td>\n",
       "    </tr>\n",
       "    <tr>\n",
       "      <th>3</th>\n",
       "      <td>million</td>\n",
       "      <td>months</td>\n",
       "      <td>economy</td>\n",
       "      <td>going</td>\n",
       "      <td>get</td>\n",
       "      <td>last</td>\n",
       "      <td>year</td>\n",
       "      <td>billion</td>\n",
       "      <td>prices</td>\n",
       "      <td>i</td>\n",
       "    </tr>\n",
       "    <tr>\n",
       "      <th>4</th>\n",
       "      <td>record</td>\n",
       "      <td>increased</td>\n",
       "      <td>california</td>\n",
       "      <td>federal</td>\n",
       "      <td>month</td>\n",
       "      <td>national</td>\n",
       "      <td>think</td>\n",
       "      <td>percent</td>\n",
       "      <td>rate</td>\n",
       "      <td>business</td>\n",
       "    </tr>\n",
       "    <tr>\n",
       "      <th>5</th>\n",
       "      <td>animals</td>\n",
       "      <td>county</td>\n",
       "      <td>service</td>\n",
       "      <td>world</td>\n",
       "      <td>friday</td>\n",
       "      <td>price</td>\n",
       "      <td>leaders</td>\n",
       "      <td>fire</td>\n",
       "      <td>make</td>\n",
       "      <td>war</td>\n",
       "    </tr>\n",
       "    <tr>\n",
       "      <th>6</th>\n",
       "      <td>officers</td>\n",
       "      <td>countries</td>\n",
       "      <td>news</td>\n",
       "      <td>saying</td>\n",
       "      <td>campaign</td>\n",
       "      <td>states</td>\n",
       "      <td>washington</td>\n",
       "      <td>official</td>\n",
       "      <td>president</td>\n",
       "      <td>state</td>\n",
       "    </tr>\n",
       "    <tr>\n",
       "      <th>7</th>\n",
       "      <td>money</td>\n",
       "      <td>military</td>\n",
       "      <td>million</td>\n",
       "      <td>oil</td>\n",
       "      <td>wednesday</td>\n",
       "      <td>program</td>\n",
       "      <td>soviet</td>\n",
       "      <td>people</td>\n",
       "      <td>city</td>\n",
       "      <td>government</td>\n",
       "    </tr>\n",
       "    <tr>\n",
       "      <th>8</th>\n",
       "      <td>time</td>\n",
       "      <td>northwest</td>\n",
       "      <td>week</td>\n",
       "      <td>plan</td>\n",
       "      <td>back</td>\n",
       "      <td>head</td>\n",
       "      <td>man</td>\n",
       "      <td>talks</td>\n",
       "      <td>bank</td>\n",
       "      <td>new</td>\n",
       "    </tr>\n",
       "    <tr>\n",
       "      <th>9</th>\n",
       "      <td>noriega</td>\n",
       "      <td>asked</td>\n",
       "      <td>economic</td>\n",
       "      <td>dukakis</td>\n",
       "      <td>roberts</td>\n",
       "      <td>two</td>\n",
       "      <td>good</td>\n",
       "      <td>american</td>\n",
       "      <td>bush</td>\n",
       "      <td>i</td>\n",
       "    </tr>\n",
       "  </tbody>\n",
       "</table>\n",
       "</div>"
      ],
      "text/plain": [
       "            0          1           2        3          4         5  \\\n",
       "0  businesses      saudi       today  defense       made       top   \n",
       "1        died      years        last   police        new       two   \n",
       "2        west        mrs     jackson   police    meeting    monday   \n",
       "3     million     months     economy    going        get      last   \n",
       "4      record  increased  california  federal      month  national   \n",
       "5     animals     county     service    world     friday     price   \n",
       "6    officers  countries        news   saying   campaign    states   \n",
       "7       money   military     million      oil  wednesday   program   \n",
       "8        time  northwest        week     plan       back      head   \n",
       "9     noriega      asked    economic  dukakis    roberts       two   \n",
       "\n",
       "            6          7          8           9  \n",
       "0       group  officials    company       union  \n",
       "1       first     office     school      soviet  \n",
       "2    southern     people       told      united  \n",
       "3        year    billion     prices           i  \n",
       "4       think    percent       rate    business  \n",
       "5     leaders       fire       make         war  \n",
       "6  washington   official  president       state  \n",
       "7      soviet     people       city  government  \n",
       "8         man      talks       bank         new  \n",
       "9        good   american       bush           i  "
      ]
     },
     "execution_count": 461,
     "metadata": {},
     "output_type": "execute_result"
    }
   ],
   "source": [
    "pd.DataFrame(most_freq_words_2)"
   ]
  },
  {
   "cell_type": "code",
   "execution_count": 463,
   "metadata": {},
   "outputs": [],
   "source": [
    "most_freq_words_p = [] \n",
    "pivot = His[-1][2]\n",
    "for k in range(C): \n",
    "    row = pivot[0][k] \n",
    "    ind = np.argpartition(row, -10)[-10:] \n",
    "    word = []\n",
    "    for i in ind: \n",
    "        word.append(idx_to_words[i])\n",
    "    most_freq_words_p.append(word)"
   ]
  },
  {
   "cell_type": "code",
   "execution_count": 464,
   "metadata": {},
   "outputs": [
    {
     "data": {
      "text/html": [
       "<div>\n",
       "<style scoped>\n",
       "    .dataframe tbody tr th:only-of-type {\n",
       "        vertical-align: middle;\n",
       "    }\n",
       "\n",
       "    .dataframe tbody tr th {\n",
       "        vertical-align: top;\n",
       "    }\n",
       "\n",
       "    .dataframe thead th {\n",
       "        text-align: right;\n",
       "    }\n",
       "</style>\n",
       "<table border=\"1\" class=\"dataframe\">\n",
       "  <thead>\n",
       "    <tr style=\"text-align: right;\">\n",
       "      <th></th>\n",
       "      <th>0</th>\n",
       "      <th>1</th>\n",
       "      <th>2</th>\n",
       "      <th>3</th>\n",
       "      <th>4</th>\n",
       "      <th>5</th>\n",
       "      <th>6</th>\n",
       "      <th>7</th>\n",
       "      <th>8</th>\n",
       "      <th>9</th>\n",
       "    </tr>\n",
       "  </thead>\n",
       "  <tbody>\n",
       "    <tr>\n",
       "      <th>0</th>\n",
       "      <td>group</td>\n",
       "      <td>made</td>\n",
       "      <td>today</td>\n",
       "      <td>top</td>\n",
       "      <td>saudi</td>\n",
       "      <td>defense</td>\n",
       "      <td>union</td>\n",
       "      <td>company</td>\n",
       "      <td>officials</td>\n",
       "      <td>state</td>\n",
       "    </tr>\n",
       "    <tr>\n",
       "      <th>1</th>\n",
       "      <td>new</td>\n",
       "      <td>officials</td>\n",
       "      <td>year</td>\n",
       "      <td>school</td>\n",
       "      <td>last</td>\n",
       "      <td>years</td>\n",
       "      <td>first</td>\n",
       "      <td>soviet</td>\n",
       "      <td>police</td>\n",
       "      <td>two</td>\n",
       "    </tr>\n",
       "    <tr>\n",
       "      <th>2</th>\n",
       "      <td>united</td>\n",
       "      <td>police</td>\n",
       "      <td>west</td>\n",
       "      <td>told</td>\n",
       "      <td>mexico</td>\n",
       "      <td>meeting</td>\n",
       "      <td>monday</td>\n",
       "      <td>people</td>\n",
       "      <td>central</td>\n",
       "      <td>southern</td>\n",
       "    </tr>\n",
       "    <tr>\n",
       "      <th>3</th>\n",
       "      <td>million</td>\n",
       "      <td>people</td>\n",
       "      <td>economy</td>\n",
       "      <td>get</td>\n",
       "      <td>prices</td>\n",
       "      <td>billion</td>\n",
       "      <td>months</td>\n",
       "      <td>i</td>\n",
       "      <td>year</td>\n",
       "      <td>last</td>\n",
       "    </tr>\n",
       "    <tr>\n",
       "      <th>4</th>\n",
       "      <td>national</td>\n",
       "      <td>record</td>\n",
       "      <td>think</td>\n",
       "      <td>federal</td>\n",
       "      <td>increased</td>\n",
       "      <td>business</td>\n",
       "      <td>month</td>\n",
       "      <td>percent</td>\n",
       "      <td>rate</td>\n",
       "      <td>california</td>\n",
       "    </tr>\n",
       "    <tr>\n",
       "      <th>5</th>\n",
       "      <td>global</td>\n",
       "      <td>world</td>\n",
       "      <td>man</td>\n",
       "      <td>service</td>\n",
       "      <td>county</td>\n",
       "      <td>war</td>\n",
       "      <td>waste</td>\n",
       "      <td>fire</td>\n",
       "      <td>make</td>\n",
       "      <td>leaders</td>\n",
       "    </tr>\n",
       "    <tr>\n",
       "      <th>6</th>\n",
       "      <td>news</td>\n",
       "      <td>people</td>\n",
       "      <td>party</td>\n",
       "      <td>states</td>\n",
       "      <td>saying</td>\n",
       "      <td>official</td>\n",
       "      <td>campaign</td>\n",
       "      <td>bush</td>\n",
       "      <td>president</td>\n",
       "      <td>state</td>\n",
       "    </tr>\n",
       "    <tr>\n",
       "      <th>7</th>\n",
       "      <td>forces</td>\n",
       "      <td>people</td>\n",
       "      <td>report</td>\n",
       "      <td>money</td>\n",
       "      <td>new</td>\n",
       "      <td>government</td>\n",
       "      <td>million</td>\n",
       "      <td>program</td>\n",
       "      <td>city</td>\n",
       "      <td>oil</td>\n",
       "    </tr>\n",
       "    <tr>\n",
       "      <th>8</th>\n",
       "      <td>rating</td>\n",
       "      <td>new</td>\n",
       "      <td>president</td>\n",
       "      <td>head</td>\n",
       "      <td>talks</td>\n",
       "      <td>bank</td>\n",
       "      <td>plan</td>\n",
       "      <td>week</td>\n",
       "      <td>northwest</td>\n",
       "      <td>back</td>\n",
       "    </tr>\n",
       "    <tr>\n",
       "      <th>9</th>\n",
       "      <td>good</td>\n",
       "      <td>believe</td>\n",
       "      <td>times</td>\n",
       "      <td>dont</td>\n",
       "      <td>roberts</td>\n",
       "      <td>two</td>\n",
       "      <td>american</td>\n",
       "      <td>economic</td>\n",
       "      <td>dukakis</td>\n",
       "      <td>i</td>\n",
       "    </tr>\n",
       "  </tbody>\n",
       "</table>\n",
       "</div>"
      ],
      "text/plain": [
       "          0          1          2        3          4           5         6  \\\n",
       "0     group       made      today      top      saudi     defense     union   \n",
       "1       new  officials       year   school       last       years     first   \n",
       "2    united     police       west     told     mexico     meeting    monday   \n",
       "3   million     people    economy      get     prices     billion    months   \n",
       "4  national     record      think  federal  increased    business     month   \n",
       "5    global      world        man  service     county         war     waste   \n",
       "6      news     people      party   states     saying    official  campaign   \n",
       "7    forces     people     report    money        new  government   million   \n",
       "8    rating        new  president     head      talks        bank      plan   \n",
       "9      good    believe      times     dont    roberts         two  american   \n",
       "\n",
       "          7          8           9  \n",
       "0   company  officials       state  \n",
       "1    soviet     police         two  \n",
       "2    people    central    southern  \n",
       "3         i       year        last  \n",
       "4   percent       rate  california  \n",
       "5      fire       make     leaders  \n",
       "6      bush  president       state  \n",
       "7   program       city         oil  \n",
       "8      week  northwest        back  \n",
       "9  economic    dukakis           i  "
      ]
     },
     "execution_count": 464,
     "metadata": {},
     "output_type": "execute_result"
    }
   ],
   "source": [
    "pd.DataFrame(most_freq_words_p)"
   ]
  },
  {
   "cell_type": "markdown",
   "metadata": {
    "id": "j4cy6chC_Di2"
   },
   "source": [
    "theta2 "
   ]
  },
  {
   "cell_type": "code",
   "execution_count": 459,
   "metadata": {
    "id": "yhdzSCGx_EXe",
    "scrolled": true
   },
   "outputs": [],
   "source": [
    "most_freq_words_2 = [] \n",
    "\n",
    "for k in range(C): \n",
    "  row = theta2[0][k] \n",
    "  ind = np.argpartition(row, -10)[-10:] \n",
    "  words = []\n",
    "  for i in ind: \n",
    "    words.append(idx_to_words[i])\n",
    "  most_freq_words_2.append(words)"
   ]
  },
  {
   "cell_type": "code",
   "execution_count": 460,
   "metadata": {
    "colab": {
     "base_uri": "https://localhost:8080/"
    },
    "id": "JquYL53n_OxB",
    "outputId": "ea931a48-1d35-4c3d-e87a-0bcd2e5967b4",
    "scrolled": true
   },
   "outputs": [
    {
     "data": {
      "text/plain": [
       "[['businesses',\n",
       "  'saudi',\n",
       "  'today',\n",
       "  'defense',\n",
       "  'made',\n",
       "  'top',\n",
       "  'group',\n",
       "  'officials',\n",
       "  'company',\n",
       "  'union'],\n",
       " ['died',\n",
       "  'years',\n",
       "  'last',\n",
       "  'police',\n",
       "  'new',\n",
       "  'two',\n",
       "  'first',\n",
       "  'office',\n",
       "  'school',\n",
       "  'soviet'],\n",
       " ['west',\n",
       "  'mrs',\n",
       "  'jackson',\n",
       "  'police',\n",
       "  'meeting',\n",
       "  'monday',\n",
       "  'southern',\n",
       "  'people',\n",
       "  'told',\n",
       "  'united'],\n",
       " ['million',\n",
       "  'months',\n",
       "  'economy',\n",
       "  'going',\n",
       "  'get',\n",
       "  'last',\n",
       "  'year',\n",
       "  'billion',\n",
       "  'prices',\n",
       "  'i'],\n",
       " ['record',\n",
       "  'increased',\n",
       "  'california',\n",
       "  'federal',\n",
       "  'month',\n",
       "  'national',\n",
       "  'think',\n",
       "  'percent',\n",
       "  'rate',\n",
       "  'business'],\n",
       " ['animals',\n",
       "  'county',\n",
       "  'service',\n",
       "  'world',\n",
       "  'friday',\n",
       "  'price',\n",
       "  'leaders',\n",
       "  'fire',\n",
       "  'make',\n",
       "  'war'],\n",
       " ['officers',\n",
       "  'countries',\n",
       "  'news',\n",
       "  'saying',\n",
       "  'campaign',\n",
       "  'states',\n",
       "  'washington',\n",
       "  'official',\n",
       "  'president',\n",
       "  'state'],\n",
       " ['money',\n",
       "  'military',\n",
       "  'million',\n",
       "  'oil',\n",
       "  'wednesday',\n",
       "  'program',\n",
       "  'soviet',\n",
       "  'people',\n",
       "  'city',\n",
       "  'government'],\n",
       " ['time',\n",
       "  'northwest',\n",
       "  'week',\n",
       "  'plan',\n",
       "  'back',\n",
       "  'head',\n",
       "  'man',\n",
       "  'talks',\n",
       "  'bank',\n",
       "  'new'],\n",
       " ['noriega',\n",
       "  'asked',\n",
       "  'economic',\n",
       "  'dukakis',\n",
       "  'roberts',\n",
       "  'two',\n",
       "  'good',\n",
       "  'american',\n",
       "  'bush',\n",
       "  'i']]"
      ]
     },
     "execution_count": 460,
     "metadata": {},
     "output_type": "execute_result"
    }
   ],
   "source": [
    "most_freq_words_2"
   ]
  },
  {
   "cell_type": "markdown",
   "metadata": {
    "id": "XPW38S13ktLq"
   },
   "source": [
    "## CHONG"
   ]
  },
  {
   "cell_type": "code",
   "execution_count": 449,
   "metadata": {
    "id": "8L0kcz5DkyxN",
    "scrolled": true
   },
   "outputs": [],
   "source": [
    "T = 100\n",
    "N = 3\n",
    "p_list = init(theta1, theta2, N)\n",
    "k = 0.01\n",
    "lr = 0.1"
   ]
  },
  {
   "cell_type": "code",
   "execution_count": 450,
   "metadata": {},
   "outputs": [],
   "source": [
    "import copy\n",
    "His = []"
   ]
  },
  {
   "cell_type": "code",
   "execution_count": 451,
   "metadata": {
    "colab": {
     "base_uri": "https://localhost:8080/"
    },
    "id": "lVQ8S-fW-1UV",
    "outputId": "f79b8b3a-3408-49fc-e4dc-2667d1bcadc2",
    "scrolled": true
   },
   "outputs": [
    {
     "name": "stdout",
     "output_type": "stream",
     "text": [
      "iter  0\n",
      "1\n",
      "ELBO: 271038.62793220824\n",
      "ELBO: 295023.08405143884\n"
     ]
    },
    {
     "name": "stderr",
     "output_type": "stream",
     "text": [
      "100%|█████████████████████████████████████████| 102/102 [00:01<00:00, 66.57it/s]\n"
     ]
    },
    {
     "name": "stdout",
     "output_type": "stream",
     "text": [
      "Updating LAMBDA\n"
     ]
    },
    {
     "name": "stderr",
     "output_type": "stream",
     "text": [
      "100%|██████████████████████████████████████████| 10/10 [00:00<00:00, 252.34it/s]\n"
     ]
    },
    {
     "name": "stdout",
     "output_type": "stream",
     "text": [
      "2\n",
      "ELBO: 295142.4218413101\n",
      "ELBO: 271396.3874786595\n"
     ]
    },
    {
     "name": "stderr",
     "output_type": "stream",
     "text": [
      "100%|█████████████████████████████████████████| 102/102 [00:01<00:00, 66.35it/s]\n"
     ]
    },
    {
     "name": "stdout",
     "output_type": "stream",
     "text": [
      "Updating LAMBDA\n"
     ]
    },
    {
     "name": "stderr",
     "output_type": "stream",
     "text": [
      "100%|██████████████████████████████████████████| 10/10 [00:00<00:00, 251.02it/s]\n"
     ]
    },
    {
     "name": "stdout",
     "output_type": "stream",
     "text": [
      "iter  1\n",
      "1\n",
      "ELBO: 271426.83457095525\n",
      "ELBO: 295023.08405143884\n"
     ]
    },
    {
     "name": "stderr",
     "output_type": "stream",
     "text": [
      "100%|█████████████████████████████████████████| 102/102 [00:01<00:00, 65.95it/s]\n"
     ]
    },
    {
     "name": "stdout",
     "output_type": "stream",
     "text": [
      "Updating LAMBDA\n"
     ]
    },
    {
     "name": "stderr",
     "output_type": "stream",
     "text": [
      "100%|██████████████████████████████████████████| 10/10 [00:00<00:00, 249.97it/s]\n"
     ]
    },
    {
     "name": "stdout",
     "output_type": "stream",
     "text": [
      "2\n",
      "ELBO: 295142.4218413101\n",
      "ELBO: 271798.4151155585\n"
     ]
    },
    {
     "name": "stderr",
     "output_type": "stream",
     "text": [
      "100%|█████████████████████████████████████████| 102/102 [00:01<00:00, 67.01it/s]\n"
     ]
    },
    {
     "name": "stdout",
     "output_type": "stream",
     "text": [
      "Updating LAMBDA\n"
     ]
    },
    {
     "name": "stderr",
     "output_type": "stream",
     "text": [
      "100%|██████████████████████████████████████████| 10/10 [00:00<00:00, 253.20it/s]\n"
     ]
    },
    {
     "name": "stdout",
     "output_type": "stream",
     "text": [
      "iter  2\n",
      "1\n",
      "ELBO: 271813.98066409794\n",
      "ELBO: 295023.08405143884\n"
     ]
    },
    {
     "name": "stderr",
     "output_type": "stream",
     "text": [
      "100%|█████████████████████████████████████████| 102/102 [00:01<00:00, 66.55it/s]\n"
     ]
    },
    {
     "name": "stdout",
     "output_type": "stream",
     "text": [
      "Updating LAMBDA\n"
     ]
    },
    {
     "name": "stderr",
     "output_type": "stream",
     "text": [
      "100%|██████████████████████████████████████████| 10/10 [00:00<00:00, 256.31it/s]\n"
     ]
    },
    {
     "name": "stdout",
     "output_type": "stream",
     "text": [
      "2\n",
      "ELBO: 295142.4218413101\n",
      "ELBO: 272208.14311047894\n"
     ]
    },
    {
     "name": "stderr",
     "output_type": "stream",
     "text": [
      "100%|█████████████████████████████████████████| 102/102 [00:01<00:00, 65.46it/s]\n"
     ]
    },
    {
     "name": "stdout",
     "output_type": "stream",
     "text": [
      "Updating LAMBDA\n"
     ]
    },
    {
     "name": "stderr",
     "output_type": "stream",
     "text": [
      "100%|██████████████████████████████████████████| 10/10 [00:00<00:00, 251.26it/s]\n"
     ]
    },
    {
     "name": "stdout",
     "output_type": "stream",
     "text": [
      "iter  3\n",
      "1\n",
      "ELBO: 272207.14265931613\n",
      "ELBO: 295023.08405143884\n"
     ]
    },
    {
     "name": "stderr",
     "output_type": "stream",
     "text": [
      "100%|█████████████████████████████████████████| 102/102 [00:01<00:00, 66.72it/s]\n"
     ]
    },
    {
     "name": "stdout",
     "output_type": "stream",
     "text": [
      "Updating LAMBDA\n"
     ]
    },
    {
     "name": "stderr",
     "output_type": "stream",
     "text": [
      "100%|██████████████████████████████████████████| 10/10 [00:00<00:00, 257.14it/s]\n"
     ]
    },
    {
     "name": "stdout",
     "output_type": "stream",
     "text": [
      "2\n",
      "ELBO: 295142.4218413101\n",
      "ELBO: 272627.4110621689\n"
     ]
    },
    {
     "name": "stderr",
     "output_type": "stream",
     "text": [
      "100%|█████████████████████████████████████████| 102/102 [00:01<00:00, 66.11it/s]\n"
     ]
    },
    {
     "name": "stdout",
     "output_type": "stream",
     "text": [
      "Updating LAMBDA\n"
     ]
    },
    {
     "name": "stderr",
     "output_type": "stream",
     "text": [
      "100%|██████████████████████████████████████████| 10/10 [00:00<00:00, 259.82it/s]\n"
     ]
    },
    {
     "name": "stdout",
     "output_type": "stream",
     "text": [
      "iter  4\n",
      "1\n",
      "ELBO: 272608.1396766485\n",
      "ELBO: 295023.08405143884\n"
     ]
    },
    {
     "name": "stderr",
     "output_type": "stream",
     "text": [
      "100%|█████████████████████████████████████████| 102/102 [00:01<00:00, 66.14it/s]\n"
     ]
    },
    {
     "name": "stdout",
     "output_type": "stream",
     "text": [
      "Updating LAMBDA\n"
     ]
    },
    {
     "name": "stderr",
     "output_type": "stream",
     "text": [
      "100%|██████████████████████████████████████████| 10/10 [00:00<00:00, 248.15it/s]\n"
     ]
    },
    {
     "name": "stdout",
     "output_type": "stream",
     "text": [
      "2\n",
      "ELBO: 295142.4218413101\n",
      "ELBO: 273056.74055856327\n"
     ]
    },
    {
     "name": "stderr",
     "output_type": "stream",
     "text": [
      "100%|█████████████████████████████████████████| 102/102 [00:01<00:00, 66.70it/s]\n"
     ]
    },
    {
     "name": "stdout",
     "output_type": "stream",
     "text": [
      "Updating LAMBDA\n"
     ]
    },
    {
     "name": "stderr",
     "output_type": "stream",
     "text": [
      "100%|██████████████████████████████████████████| 10/10 [00:00<00:00, 246.23it/s]\n"
     ]
    },
    {
     "name": "stdout",
     "output_type": "stream",
     "text": [
      "iter  5\n",
      "1\n",
      "ELBO: 273017.5229346308\n",
      "ELBO: 295023.08405143884\n"
     ]
    },
    {
     "name": "stderr",
     "output_type": "stream",
     "text": [
      "100%|█████████████████████████████████████████| 102/102 [00:01<00:00, 67.20it/s]\n"
     ]
    },
    {
     "name": "stdout",
     "output_type": "stream",
     "text": [
      "Updating LAMBDA\n"
     ]
    },
    {
     "name": "stderr",
     "output_type": "stream",
     "text": [
      "100%|██████████████████████████████████████████| 10/10 [00:00<00:00, 257.64it/s]\n"
     ]
    },
    {
     "name": "stdout",
     "output_type": "stream",
     "text": [
      "2\n",
      "ELBO: 295142.4218413101\n",
      "ELBO: 273495.9585462511\n"
     ]
    },
    {
     "name": "stderr",
     "output_type": "stream",
     "text": [
      "100%|█████████████████████████████████████████| 102/102 [00:01<00:00, 66.56it/s]\n"
     ]
    },
    {
     "name": "stdout",
     "output_type": "stream",
     "text": [
      "Updating LAMBDA\n"
     ]
    },
    {
     "name": "stderr",
     "output_type": "stream",
     "text": [
      "100%|██████████████████████████████████████████| 10/10 [00:00<00:00, 248.62it/s]\n"
     ]
    },
    {
     "name": "stdout",
     "output_type": "stream",
     "text": [
      "iter  6\n",
      "1\n",
      "ELBO: 273435.19595350476\n",
      "ELBO: 295023.08405143884\n"
     ]
    },
    {
     "name": "stderr",
     "output_type": "stream",
     "text": [
      "100%|█████████████████████████████████████████| 102/102 [00:01<00:00, 66.32it/s]\n"
     ]
    },
    {
     "name": "stdout",
     "output_type": "stream",
     "text": [
      "Updating LAMBDA\n"
     ]
    },
    {
     "name": "stderr",
     "output_type": "stream",
     "text": [
      "100%|██████████████████████████████████████████| 10/10 [00:00<00:00, 261.91it/s]\n"
     ]
    },
    {
     "name": "stdout",
     "output_type": "stream",
     "text": [
      "2\n",
      "ELBO: 295142.4218413101\n",
      "ELBO: 273944.48265970056\n"
     ]
    },
    {
     "name": "stderr",
     "output_type": "stream",
     "text": [
      "100%|█████████████████████████████████████████| 102/102 [00:01<00:00, 67.02it/s]\n"
     ]
    },
    {
     "name": "stdout",
     "output_type": "stream",
     "text": [
      "Updating LAMBDA\n"
     ]
    },
    {
     "name": "stderr",
     "output_type": "stream",
     "text": [
      "100%|██████████████████████████████████████████| 10/10 [00:00<00:00, 249.18it/s]\n"
     ]
    },
    {
     "name": "stdout",
     "output_type": "stream",
     "text": [
      "iter  7\n",
      "1\n",
      "ELBO: 273860.68162364286\n",
      "ELBO: 295023.08405143884\n"
     ]
    },
    {
     "name": "stderr",
     "output_type": "stream",
     "text": [
      "100%|█████████████████████████████████████████| 102/102 [00:01<00:00, 66.75it/s]\n"
     ]
    },
    {
     "name": "stdout",
     "output_type": "stream",
     "text": [
      "Updating LAMBDA\n"
     ]
    },
    {
     "name": "stderr",
     "output_type": "stream",
     "text": [
      "100%|██████████████████████████████████████████| 10/10 [00:00<00:00, 260.47it/s]\n"
     ]
    },
    {
     "name": "stdout",
     "output_type": "stream",
     "text": [
      "2\n",
      "ELBO: 295142.4218413101\n",
      "ELBO: 274401.49423419125\n"
     ]
    },
    {
     "name": "stderr",
     "output_type": "stream",
     "text": [
      "100%|█████████████████████████████████████████| 102/102 [00:01<00:00, 65.58it/s]\n"
     ]
    },
    {
     "name": "stdout",
     "output_type": "stream",
     "text": [
      "Updating LAMBDA\n"
     ]
    },
    {
     "name": "stderr",
     "output_type": "stream",
     "text": [
      "100%|██████████████████████████████████████████| 10/10 [00:00<00:00, 255.93it/s]\n"
     ]
    },
    {
     "name": "stdout",
     "output_type": "stream",
     "text": [
      "iter  8\n",
      "1\n",
      "ELBO: 274293.2774647692\n",
      "ELBO: 295023.08405143884\n"
     ]
    },
    {
     "name": "stderr",
     "output_type": "stream",
     "text": [
      "100%|█████████████████████████████████████████| 102/102 [00:01<00:00, 66.32it/s]\n"
     ]
    },
    {
     "name": "stdout",
     "output_type": "stream",
     "text": [
      "Updating LAMBDA\n"
     ]
    },
    {
     "name": "stderr",
     "output_type": "stream",
     "text": [
      "100%|██████████████████████████████████████████| 10/10 [00:00<00:00, 252.23it/s]\n"
     ]
    },
    {
     "name": "stdout",
     "output_type": "stream",
     "text": [
      "2\n",
      "ELBO: 295142.4218413101\n",
      "ELBO: 274866.0538257573\n"
     ]
    },
    {
     "name": "stderr",
     "output_type": "stream",
     "text": [
      "100%|█████████████████████████████████████████| 102/102 [00:01<00:00, 66.15it/s]\n"
     ]
    },
    {
     "name": "stdout",
     "output_type": "stream",
     "text": [
      "Updating LAMBDA\n"
     ]
    },
    {
     "name": "stderr",
     "output_type": "stream",
     "text": [
      "100%|██████████████████████████████████████████| 10/10 [00:00<00:00, 236.62it/s]\n"
     ]
    },
    {
     "name": "stdout",
     "output_type": "stream",
     "text": [
      "iter  9\n",
      "1\n",
      "ELBO: 274732.15882935433\n",
      "ELBO: 295023.08405143884\n"
     ]
    },
    {
     "name": "stderr",
     "output_type": "stream",
     "text": [
      "100%|█████████████████████████████████████████| 102/102 [00:01<00:00, 65.35it/s]\n"
     ]
    },
    {
     "name": "stdout",
     "output_type": "stream",
     "text": [
      "Updating LAMBDA\n"
     ]
    },
    {
     "name": "stderr",
     "output_type": "stream",
     "text": [
      "100%|██████████████████████████████████████████| 10/10 [00:00<00:00, 239.38it/s]\n"
     ]
    },
    {
     "name": "stdout",
     "output_type": "stream",
     "text": [
      "2\n",
      "ELBO: 295142.4218413101\n",
      "ELBO: 275337.17900504475\n"
     ]
    },
    {
     "name": "stderr",
     "output_type": "stream",
     "text": [
      "100%|█████████████████████████████████████████| 102/102 [00:01<00:00, 66.04it/s]\n"
     ]
    },
    {
     "name": "stdout",
     "output_type": "stream",
     "text": [
      "Updating LAMBDA\n"
     ]
    },
    {
     "name": "stderr",
     "output_type": "stream",
     "text": [
      "100%|██████████████████████████████████████████| 10/10 [00:00<00:00, 233.27it/s]\n"
     ]
    },
    {
     "name": "stdout",
     "output_type": "stream",
     "text": [
      "iter  10\n",
      "1\n",
      "ELBO: 275176.44929727615\n",
      "ELBO: 295023.08405143884\n"
     ]
    },
    {
     "name": "stderr",
     "output_type": "stream",
     "text": [
      "100%|█████████████████████████████████████████| 102/102 [00:01<00:00, 65.58it/s]\n"
     ]
    },
    {
     "name": "stdout",
     "output_type": "stream",
     "text": [
      "Updating LAMBDA\n"
     ]
    },
    {
     "name": "stderr",
     "output_type": "stream",
     "text": [
      "100%|██████████████████████████████████████████| 10/10 [00:00<00:00, 237.75it/s]\n"
     ]
    },
    {
     "name": "stdout",
     "output_type": "stream",
     "text": [
      "2\n",
      "ELBO: 295142.4218413101\n",
      "ELBO: 275813.89481793036\n"
     ]
    },
    {
     "name": "stderr",
     "output_type": "stream",
     "text": [
      "100%|█████████████████████████████████████████| 102/102 [00:01<00:00, 65.69it/s]\n"
     ]
    },
    {
     "name": "stdout",
     "output_type": "stream",
     "text": [
      "Updating LAMBDA\n"
     ]
    },
    {
     "name": "stderr",
     "output_type": "stream",
     "text": [
      "100%|██████████████████████████████████████████| 10/10 [00:00<00:00, 229.96it/s]\n"
     ]
    },
    {
     "name": "stdout",
     "output_type": "stream",
     "text": [
      "iter  11\n",
      "1\n",
      "ELBO: 275625.2656912477\n",
      "ELBO: 295023.08405143884\n"
     ]
    },
    {
     "name": "stderr",
     "output_type": "stream",
     "text": [
      "100%|█████████████████████████████████████████| 102/102 [00:01<00:00, 66.94it/s]\n"
     ]
    },
    {
     "name": "stdout",
     "output_type": "stream",
     "text": [
      "Updating LAMBDA\n"
     ]
    },
    {
     "name": "stderr",
     "output_type": "stream",
     "text": [
      "100%|██████████████████████████████████████████| 10/10 [00:00<00:00, 255.75it/s]\n"
     ]
    },
    {
     "name": "stdout",
     "output_type": "stream",
     "text": [
      "2\n",
      "ELBO: 295142.4218413101\n",
      "ELBO: 276295.2652927127\n"
     ]
    },
    {
     "name": "stderr",
     "output_type": "stream",
     "text": [
      "100%|█████████████████████████████████████████| 102/102 [00:01<00:00, 66.67it/s]\n"
     ]
    },
    {
     "name": "stdout",
     "output_type": "stream",
     "text": [
      "Updating LAMBDA\n"
     ]
    },
    {
     "name": "stderr",
     "output_type": "stream",
     "text": [
      "100%|██████████████████████████████████████████| 10/10 [00:00<00:00, 259.34it/s]\n"
     ]
    },
    {
     "name": "stdout",
     "output_type": "stream",
     "text": [
      "iter  12\n",
      "1\n",
      "ELBO: 276077.74280947173\n",
      "ELBO: 295023.08405143884\n"
     ]
    },
    {
     "name": "stderr",
     "output_type": "stream",
     "text": [
      "100%|█████████████████████████████████████████| 102/102 [00:01<00:00, 65.54it/s]\n"
     ]
    },
    {
     "name": "stdout",
     "output_type": "stream",
     "text": [
      "Updating LAMBDA\n"
     ]
    },
    {
     "name": "stderr",
     "output_type": "stream",
     "text": [
      "100%|██████████████████████████████████████████| 10/10 [00:00<00:00, 245.97it/s]\n"
     ]
    },
    {
     "name": "stdout",
     "output_type": "stream",
     "text": [
      "2\n",
      "ELBO: 295142.4218413101\n",
      "ELBO: 276780.4135876496\n"
     ]
    },
    {
     "name": "stderr",
     "output_type": "stream",
     "text": [
      "100%|█████████████████████████████████████████| 102/102 [00:01<00:00, 66.00it/s]\n"
     ]
    },
    {
     "name": "stdout",
     "output_type": "stream",
     "text": [
      "Updating LAMBDA\n"
     ]
    },
    {
     "name": "stderr",
     "output_type": "stream",
     "text": [
      "100%|██████████████████████████████████████████| 10/10 [00:00<00:00, 238.18it/s]\n"
     ]
    },
    {
     "name": "stdout",
     "output_type": "stream",
     "text": [
      "iter  13\n",
      "1\n",
      "ELBO: 276533.04457954393\n",
      "ELBO: 295023.08405143884\n"
     ]
    },
    {
     "name": "stderr",
     "output_type": "stream",
     "text": [
      "100%|█████████████████████████████████████████| 102/102 [00:01<00:00, 65.14it/s]\n"
     ]
    },
    {
     "name": "stdout",
     "output_type": "stream",
     "text": [
      "Updating LAMBDA\n"
     ]
    },
    {
     "name": "stderr",
     "output_type": "stream",
     "text": [
      "100%|██████████████████████████████████████████| 10/10 [00:00<00:00, 237.57it/s]\n"
     ]
    },
    {
     "name": "stdout",
     "output_type": "stream",
     "text": [
      "2\n",
      "ELBO: 295142.4218413101\n",
      "ELBO: 277268.5360949489\n"
     ]
    },
    {
     "name": "stderr",
     "output_type": "stream",
     "text": [
      "100%|█████████████████████████████████████████| 102/102 [00:01<00:00, 66.46it/s]\n"
     ]
    },
    {
     "name": "stdout",
     "output_type": "stream",
     "text": [
      "Updating LAMBDA\n"
     ]
    },
    {
     "name": "stderr",
     "output_type": "stream",
     "text": [
      "100%|██████████████████████████████████████████| 10/10 [00:00<00:00, 230.20it/s]\n"
     ]
    },
    {
     "name": "stdout",
     "output_type": "stream",
     "text": [
      "iter  14\n",
      "1\n",
      "ELBO: 276990.3690234299\n",
      "ELBO: 295023.08405143884\n"
     ]
    },
    {
     "name": "stderr",
     "output_type": "stream",
     "text": [
      "100%|█████████████████████████████████████████| 102/102 [00:01<00:00, 65.93it/s]\n"
     ]
    },
    {
     "name": "stdout",
     "output_type": "stream",
     "text": [
      "Updating LAMBDA\n"
     ]
    },
    {
     "name": "stderr",
     "output_type": "stream",
     "text": [
      "100%|██████████████████████████████████████████| 10/10 [00:00<00:00, 243.67it/s]\n"
     ]
    },
    {
     "name": "stdout",
     "output_type": "stream",
     "text": [
      "2\n",
      "ELBO: 295142.4218413101\n",
      "ELBO: 277758.9124851375\n"
     ]
    },
    {
     "name": "stderr",
     "output_type": "stream",
     "text": [
      "100%|█████████████████████████████████████████| 102/102 [00:01<00:00, 64.58it/s]\n"
     ]
    },
    {
     "name": "stdout",
     "output_type": "stream",
     "text": [
      "Updating LAMBDA\n"
     ]
    },
    {
     "name": "stderr",
     "output_type": "stream",
     "text": [
      "100%|██████████████████████████████████████████| 10/10 [00:00<00:00, 247.29it/s]\n"
     ]
    },
    {
     "name": "stdout",
     "output_type": "stream",
     "text": [
      "iter  15\n",
      "1\n",
      "ELBO: 277448.9517956088\n",
      "ELBO: 295023.08405143884\n"
     ]
    },
    {
     "name": "stderr",
     "output_type": "stream",
     "text": [
      "100%|█████████████████████████████████████████| 102/102 [00:01<00:00, 65.48it/s]\n"
     ]
    },
    {
     "name": "stdout",
     "output_type": "stream",
     "text": [
      "Updating LAMBDA\n"
     ]
    },
    {
     "name": "stderr",
     "output_type": "stream",
     "text": [
      "100%|██████████████████████████████████████████| 10/10 [00:00<00:00, 256.55it/s]\n"
     ]
    },
    {
     "name": "stdout",
     "output_type": "stream",
     "text": [
      "2\n",
      "ELBO: 295142.4218413101\n",
      "ELBO: 278250.9112439487\n"
     ]
    },
    {
     "name": "stderr",
     "output_type": "stream",
     "text": [
      "100%|█████████████████████████████████████████| 102/102 [00:01<00:00, 65.00it/s]\n"
     ]
    },
    {
     "name": "stdout",
     "output_type": "stream",
     "text": [
      "Updating LAMBDA\n"
     ]
    },
    {
     "name": "stderr",
     "output_type": "stream",
     "text": [
      "100%|██████████████████████████████████████████| 10/10 [00:00<00:00, 249.25it/s]\n"
     ]
    },
    {
     "name": "stdout",
     "output_type": "stream",
     "text": [
      "iter  16\n",
      "1\n",
      "ELBO: 277908.06931577454\n",
      "ELBO: 295023.08405143884\n"
     ]
    },
    {
     "name": "stderr",
     "output_type": "stream",
     "text": [
      "100%|█████████████████████████████████████████| 102/102 [00:01<00:00, 65.32it/s]\n"
     ]
    },
    {
     "name": "stdout",
     "output_type": "stream",
     "text": [
      "Updating LAMBDA\n"
     ]
    },
    {
     "name": "stderr",
     "output_type": "stream",
     "text": [
      "100%|██████████████████████████████████████████| 10/10 [00:00<00:00, 228.80it/s]\n"
     ]
    },
    {
     "name": "stdout",
     "output_type": "stream",
     "text": [
      "2\n",
      "ELBO: 295142.4218413101\n",
      "ELBO: 278743.9899297035\n"
     ]
    },
    {
     "name": "stderr",
     "output_type": "stream",
     "text": [
      "100%|█████████████████████████████████████████| 102/102 [00:01<00:00, 64.85it/s]\n"
     ]
    },
    {
     "name": "stdout",
     "output_type": "stream",
     "text": [
      "Updating LAMBDA\n"
     ]
    },
    {
     "name": "stderr",
     "output_type": "stream",
     "text": [
      "100%|██████████████████████████████████████████| 10/10 [00:00<00:00, 232.81it/s]\n"
     ]
    },
    {
     "name": "stdout",
     "output_type": "stream",
     "text": [
      "iter  17\n",
      "1\n",
      "ELBO: 278367.04057931295\n",
      "ELBO: 295023.08405143884\n"
     ]
    },
    {
     "name": "stderr",
     "output_type": "stream",
     "text": [
      "100%|█████████████████████████████████████████| 102/102 [00:01<00:00, 65.93it/s]\n"
     ]
    },
    {
     "name": "stdout",
     "output_type": "stream",
     "text": [
      "Updating LAMBDA\n"
     ]
    },
    {
     "name": "stderr",
     "output_type": "stream",
     "text": [
      "100%|██████████████████████████████████████████| 10/10 [00:00<00:00, 244.52it/s]\n"
     ]
    },
    {
     "name": "stdout",
     "output_type": "stream",
     "text": [
      "2\n",
      "ELBO: 295142.4218413101\n",
      "ELBO: 279237.69057419547\n"
     ]
    },
    {
     "name": "stderr",
     "output_type": "stream",
     "text": [
      "100%|█████████████████████████████████████████| 102/102 [00:01<00:00, 66.11it/s]\n"
     ]
    },
    {
     "name": "stdout",
     "output_type": "stream",
     "text": [
      "Updating LAMBDA\n"
     ]
    },
    {
     "name": "stderr",
     "output_type": "stream",
     "text": [
      "100%|██████████████████████████████████████████| 10/10 [00:00<00:00, 242.15it/s]\n"
     ]
    },
    {
     "name": "stdout",
     "output_type": "stream",
     "text": [
      "iter  18\n",
      "1\n",
      "ELBO: 278825.22686022153\n",
      "ELBO: 295023.08405143884\n"
     ]
    },
    {
     "name": "stderr",
     "output_type": "stream",
     "text": [
      "100%|█████████████████████████████████████████| 102/102 [00:01<00:00, 65.75it/s]\n"
     ]
    },
    {
     "name": "stdout",
     "output_type": "stream",
     "text": [
      "Updating LAMBDA\n"
     ]
    },
    {
     "name": "stderr",
     "output_type": "stream",
     "text": [
      "100%|██████████████████████████████████████████| 10/10 [00:00<00:00, 241.43it/s]\n"
     ]
    },
    {
     "name": "stdout",
     "output_type": "stream",
     "text": [
      "2\n",
      "ELBO: 295142.4218413101\n",
      "ELBO: 279731.63184448786\n"
     ]
    },
    {
     "name": "stderr",
     "output_type": "stream",
     "text": [
      "100%|█████████████████████████████████████████| 102/102 [00:01<00:00, 64.57it/s]\n"
     ]
    },
    {
     "name": "stdout",
     "output_type": "stream",
     "text": [
      "Updating LAMBDA\n"
     ]
    },
    {
     "name": "stderr",
     "output_type": "stream",
     "text": [
      "100%|██████████████████████████████████████████| 10/10 [00:00<00:00, 259.43it/s]\n"
     ]
    },
    {
     "name": "stdout",
     "output_type": "stream",
     "text": [
      "iter  19\n",
      "1\n",
      "ELBO: 279282.02946936124\n",
      "ELBO: 295023.08405143884\n"
     ]
    },
    {
     "name": "stderr",
     "output_type": "stream",
     "text": [
      "100%|█████████████████████████████████████████| 102/102 [00:01<00:00, 65.95it/s]\n"
     ]
    },
    {
     "name": "stdout",
     "output_type": "stream",
     "text": [
      "Updating LAMBDA\n"
     ]
    },
    {
     "name": "stderr",
     "output_type": "stream",
     "text": [
      "100%|██████████████████████████████████████████| 10/10 [00:00<00:00, 244.08it/s]\n"
     ]
    },
    {
     "name": "stdout",
     "output_type": "stream",
     "text": [
      "2\n",
      "ELBO: 295142.4218413101\n",
      "ELBO: 280225.5000707657\n"
     ]
    },
    {
     "name": "stderr",
     "output_type": "stream",
     "text": [
      "100%|█████████████████████████████████████████| 102/102 [00:01<00:00, 66.22it/s]\n"
     ]
    },
    {
     "name": "stdout",
     "output_type": "stream",
     "text": [
      "Updating LAMBDA\n"
     ]
    },
    {
     "name": "stderr",
     "output_type": "stream",
     "text": [
      "100%|██████████████████████████████████████████| 10/10 [00:00<00:00, 234.12it/s]\n"
     ]
    },
    {
     "name": "stdout",
     "output_type": "stream",
     "text": [
      "iter  20\n",
      "1\n",
      "ELBO: 279736.8865280518\n",
      "ELBO: 295023.08405143884\n"
     ]
    },
    {
     "name": "stderr",
     "output_type": "stream",
     "text": [
      "100%|█████████████████████████████████████████| 102/102 [00:01<00:00, 66.23it/s]\n"
     ]
    },
    {
     "name": "stdout",
     "output_type": "stream",
     "text": [
      "Updating LAMBDA\n"
     ]
    },
    {
     "name": "stderr",
     "output_type": "stream",
     "text": [
      "100%|██████████████████████████████████████████| 10/10 [00:00<00:00, 242.11it/s]\n"
     ]
    },
    {
     "name": "stdout",
     "output_type": "stream",
     "text": [
      "2\n",
      "ELBO: 295142.4218413101\n",
      "ELBO: 280719.0411734581\n"
     ]
    },
    {
     "name": "stderr",
     "output_type": "stream",
     "text": [
      "100%|█████████████████████████████████████████| 102/102 [00:01<00:00, 65.25it/s]\n"
     ]
    },
    {
     "name": "stdout",
     "output_type": "stream",
     "text": [
      "Updating LAMBDA\n"
     ]
    },
    {
     "name": "stderr",
     "output_type": "stream",
     "text": [
      "100%|██████████████████████████████████████████| 10/10 [00:00<00:00, 235.29it/s]\n"
     ]
    },
    {
     "name": "stdout",
     "output_type": "stream",
     "text": [
      "iter  21\n",
      "1\n",
      "ELBO: 280189.2698509921\n",
      "ELBO: 295023.08405143884\n"
     ]
    },
    {
     "name": "stderr",
     "output_type": "stream",
     "text": [
      "100%|█████████████████████████████████████████| 102/102 [00:01<00:00, 65.01it/s]\n"
     ]
    },
    {
     "name": "stdout",
     "output_type": "stream",
     "text": [
      "Updating LAMBDA\n"
     ]
    },
    {
     "name": "stderr",
     "output_type": "stream",
     "text": [
      "100%|██████████████████████████████████████████| 10/10 [00:00<00:00, 247.47it/s]\n"
     ]
    },
    {
     "name": "stdout",
     "output_type": "stream",
     "text": [
      "2\n",
      "ELBO: 295142.4218413101\n",
      "ELBO: 281212.0548420172\n"
     ]
    },
    {
     "name": "stderr",
     "output_type": "stream",
     "text": [
      "100%|█████████████████████████████████████████| 102/102 [00:01<00:00, 65.77it/s]\n"
     ]
    },
    {
     "name": "stdout",
     "output_type": "stream",
     "text": [
      "Updating LAMBDA\n"
     ]
    },
    {
     "name": "stderr",
     "output_type": "stream",
     "text": [
      "100%|██████████████████████████████████████████| 10/10 [00:00<00:00, 236.67it/s]\n"
     ]
    },
    {
     "name": "stdout",
     "output_type": "stream",
     "text": [
      "iter  22\n",
      "1\n",
      "ELBO: 280638.6825338772\n",
      "ELBO: 295023.08405143884\n"
     ]
    },
    {
     "name": "stderr",
     "output_type": "stream",
     "text": [
      "100%|█████████████████████████████████████████| 102/102 [00:01<00:00, 65.80it/s]\n"
     ]
    },
    {
     "name": "stdout",
     "output_type": "stream",
     "text": [
      "Updating LAMBDA\n"
     ]
    },
    {
     "name": "stderr",
     "output_type": "stream",
     "text": [
      "100%|██████████████████████████████████████████| 10/10 [00:00<00:00, 239.94it/s]\n"
     ]
    },
    {
     "name": "stdout",
     "output_type": "stream",
     "text": [
      "2\n",
      "ELBO: 295142.4218413101\n",
      "ELBO: 281704.39140799566\n"
     ]
    },
    {
     "name": "stderr",
     "output_type": "stream",
     "text": [
      "100%|█████████████████████████████████████████| 102/102 [00:01<00:00, 65.26it/s]\n"
     ]
    },
    {
     "name": "stdout",
     "output_type": "stream",
     "text": [
      "Updating LAMBDA\n"
     ]
    },
    {
     "name": "stderr",
     "output_type": "stream",
     "text": [
      "100%|██████████████████████████████████████████| 10/10 [00:00<00:00, 240.10it/s]\n"
     ]
    },
    {
     "name": "stdout",
     "output_type": "stream",
     "text": [
      "iter  23\n",
      "1\n",
      "ELBO: 281084.6572695242\n",
      "ELBO: 295023.08405143884\n"
     ]
    },
    {
     "name": "stderr",
     "output_type": "stream",
     "text": [
      "100%|█████████████████████████████████████████| 102/102 [00:01<00:00, 65.50it/s]\n"
     ]
    },
    {
     "name": "stdout",
     "output_type": "stream",
     "text": [
      "Updating LAMBDA\n"
     ]
    },
    {
     "name": "stderr",
     "output_type": "stream",
     "text": [
      "100%|██████████████████████████████████████████| 10/10 [00:00<00:00, 245.11it/s]\n"
     ]
    },
    {
     "name": "stdout",
     "output_type": "stream",
     "text": [
      "2\n",
      "ELBO: 295142.4218413101\n",
      "ELBO: 282195.95013143553\n"
     ]
    },
    {
     "name": "stderr",
     "output_type": "stream",
     "text": [
      "100%|█████████████████████████████████████████| 102/102 [00:01<00:00, 65.29it/s]\n"
     ]
    },
    {
     "name": "stdout",
     "output_type": "stream",
     "text": [
      "Updating LAMBDA\n"
     ]
    },
    {
     "name": "stderr",
     "output_type": "stream",
     "text": [
      "100%|██████████████████████████████████████████| 10/10 [00:00<00:00, 249.86it/s]\n"
     ]
    },
    {
     "name": "stdout",
     "output_type": "stream",
     "text": [
      "iter  24\n",
      "1\n",
      "ELBO: 281526.75514522765\n",
      "ELBO: 295023.08405143884\n"
     ]
    },
    {
     "name": "stderr",
     "output_type": "stream",
     "text": [
      "100%|█████████████████████████████████████████| 102/102 [00:01<00:00, 65.37it/s]\n"
     ]
    },
    {
     "name": "stdout",
     "output_type": "stream",
     "text": [
      "Updating LAMBDA\n"
     ]
    },
    {
     "name": "stderr",
     "output_type": "stream",
     "text": [
      "100%|██████████████████████████████████████████| 10/10 [00:00<00:00, 245.82it/s]\n"
     ]
    },
    {
     "name": "stdout",
     "output_type": "stream",
     "text": [
      "2\n",
      "ELBO: 295142.4218413101\n",
      "ELBO: 282686.67900343466\n"
     ]
    },
    {
     "name": "stderr",
     "output_type": "stream",
     "text": [
      "100%|█████████████████████████████████████████| 102/102 [00:01<00:00, 64.83it/s]\n"
     ]
    },
    {
     "name": "stdout",
     "output_type": "stream",
     "text": [
      "Updating LAMBDA\n"
     ]
    },
    {
     "name": "stderr",
     "output_type": "stream",
     "text": [
      "100%|██████████████████████████████████████████| 10/10 [00:00<00:00, 242.81it/s]\n"
     ]
    },
    {
     "name": "stdout",
     "output_type": "stream",
     "text": [
      "iter  25\n",
      "1\n",
      "ELBO: 281964.56465576414\n",
      "ELBO: 295023.08405143884\n"
     ]
    },
    {
     "name": "stderr",
     "output_type": "stream",
     "text": [
      "100%|█████████████████████████████████████████| 102/102 [00:01<00:00, 65.62it/s]\n"
     ]
    },
    {
     "name": "stdout",
     "output_type": "stream",
     "text": [
      "Updating LAMBDA\n"
     ]
    },
    {
     "name": "stderr",
     "output_type": "stream",
     "text": [
      "100%|██████████████████████████████████████████| 10/10 [00:00<00:00, 244.70it/s]\n"
     ]
    },
    {
     "name": "stdout",
     "output_type": "stream",
     "text": [
      "2\n",
      "ELBO: 295142.4218413101\n",
      "ELBO: 283176.5749960872\n"
     ]
    },
    {
     "name": "stderr",
     "output_type": "stream",
     "text": [
      "100%|█████████████████████████████████████████| 102/102 [00:01<00:00, 65.00it/s]\n"
     ]
    },
    {
     "name": "stdout",
     "output_type": "stream",
     "text": [
      "Updating LAMBDA\n"
     ]
    },
    {
     "name": "stderr",
     "output_type": "stream",
     "text": [
      "100%|██████████████████████████████████████████| 10/10 [00:00<00:00, 241.67it/s]\n"
     ]
    },
    {
     "name": "stdout",
     "output_type": "stream",
     "text": [
      "iter  26\n",
      "1\n",
      "ELBO: 282397.7007934208\n",
      "ELBO: 295023.08405143884\n"
     ]
    },
    {
     "name": "stderr",
     "output_type": "stream",
     "text": [
      "100%|█████████████████████████████████████████| 102/102 [00:01<00:00, 64.92it/s]\n"
     ]
    },
    {
     "name": "stdout",
     "output_type": "stream",
     "text": [
      "Updating LAMBDA\n"
     ]
    },
    {
     "name": "stderr",
     "output_type": "stream",
     "text": [
      "100%|██████████████████████████████████████████| 10/10 [00:00<00:00, 241.28it/s]\n"
     ]
    },
    {
     "name": "stdout",
     "output_type": "stream",
     "text": [
      "2\n",
      "ELBO: 295142.4218413101\n",
      "ELBO: 283665.68509208766\n"
     ]
    },
    {
     "name": "stderr",
     "output_type": "stream",
     "text": [
      "100%|█████████████████████████████████████████| 102/102 [00:01<00:00, 65.96it/s]\n"
     ]
    },
    {
     "name": "stdout",
     "output_type": "stream",
     "text": [
      "Updating LAMBDA\n"
     ]
    },
    {
     "name": "stderr",
     "output_type": "stream",
     "text": [
      "100%|██████████████████████████████████████████| 10/10 [00:00<00:00, 242.51it/s]\n"
     ]
    },
    {
     "name": "stdout",
     "output_type": "stream",
     "text": [
      "iter  27\n",
      "1\n",
      "ELBO: 282825.80427376926\n",
      "ELBO: 295023.08405143884\n"
     ]
    },
    {
     "name": "stderr",
     "output_type": "stream",
     "text": [
      "100%|█████████████████████████████████████████| 102/102 [00:01<00:00, 66.78it/s]\n"
     ]
    },
    {
     "name": "stdout",
     "output_type": "stream",
     "text": [
      "Updating LAMBDA\n"
     ]
    },
    {
     "name": "stderr",
     "output_type": "stream",
     "text": [
      "100%|██████████████████████████████████████████| 10/10 [00:00<00:00, 242.26it/s]\n"
     ]
    },
    {
     "name": "stdout",
     "output_type": "stream",
     "text": [
      "2\n",
      "ELBO: 295142.4218413101\n",
      "ELBO: 284154.1086938182\n"
     ]
    },
    {
     "name": "stderr",
     "output_type": "stream",
     "text": [
      "100%|█████████████████████████████████████████| 102/102 [00:01<00:00, 65.55it/s]\n"
     ]
    },
    {
     "name": "stdout",
     "output_type": "stream",
     "text": [
      "Updating LAMBDA\n"
     ]
    },
    {
     "name": "stderr",
     "output_type": "stream",
     "text": [
      "100%|██████████████████████████████████████████| 10/10 [00:00<00:00, 246.15it/s]\n"
     ]
    },
    {
     "name": "stdout",
     "output_type": "stream",
     "text": [
      "iter  28\n",
      "1\n",
      "ELBO: 283248.5410844058\n",
      "ELBO: 295023.08405143884\n"
     ]
    },
    {
     "name": "stderr",
     "output_type": "stream",
     "text": [
      "100%|█████████████████████████████████████████| 102/102 [00:01<00:00, 65.65it/s]\n"
     ]
    },
    {
     "name": "stdout",
     "output_type": "stream",
     "text": [
      "Updating LAMBDA\n"
     ]
    },
    {
     "name": "stderr",
     "output_type": "stream",
     "text": [
      "100%|██████████████████████████████████████████| 10/10 [00:00<00:00, 242.71it/s]\n"
     ]
    },
    {
     "name": "stdout",
     "output_type": "stream",
     "text": [
      "2\n",
      "ELBO: 295142.4218413101\n",
      "ELBO: 284642.00197001465\n"
     ]
    },
    {
     "name": "stderr",
     "output_type": "stream",
     "text": [
      "100%|█████████████████████████████████████████| 102/102 [00:01<00:00, 65.94it/s]\n"
     ]
    },
    {
     "name": "stdout",
     "output_type": "stream",
     "text": [
      "Updating LAMBDA\n"
     ]
    },
    {
     "name": "stderr",
     "output_type": "stream",
     "text": [
      "100%|██████████████████████████████████████████| 10/10 [00:00<00:00, 239.98it/s]\n"
     ]
    },
    {
     "name": "stdout",
     "output_type": "stream",
     "text": [
      "iter  29\n",
      "1\n",
      "ELBO: 283665.60249430675\n",
      "ELBO: 295023.08405143884\n"
     ]
    },
    {
     "name": "stderr",
     "output_type": "stream",
     "text": [
      "100%|█████████████████████████████████████████| 102/102 [00:01<00:00, 66.15it/s]\n"
     ]
    },
    {
     "name": "stdout",
     "output_type": "stream",
     "text": [
      "Updating LAMBDA\n"
     ]
    },
    {
     "name": "stderr",
     "output_type": "stream",
     "text": [
      "100%|██████████████████████████████████████████| 10/10 [00:00<00:00, 241.00it/s]\n"
     ]
    },
    {
     "name": "stdout",
     "output_type": "stream",
     "text": [
      "2\n",
      "ELBO: 295142.4218413101\n",
      "ELBO: 285129.5844687784\n"
     ]
    },
    {
     "name": "stderr",
     "output_type": "stream",
     "text": [
      "100%|█████████████████████████████████████████| 102/102 [00:01<00:00, 65.45it/s]\n"
     ]
    },
    {
     "name": "stdout",
     "output_type": "stream",
     "text": [
      "Updating LAMBDA\n"
     ]
    },
    {
     "name": "stderr",
     "output_type": "stream",
     "text": [
      "100%|██████████████████████████████████████████| 10/10 [00:00<00:00, 242.63it/s]\n"
     ]
    },
    {
     "name": "stdout",
     "output_type": "stream",
     "text": [
      "iter  30\n",
      "1\n",
      "ELBO: 284076.705497552\n",
      "ELBO: 295023.08405143884\n"
     ]
    },
    {
     "name": "stderr",
     "output_type": "stream",
     "text": [
      "100%|█████████████████████████████████████████| 102/102 [00:01<00:00, 65.65it/s]\n"
     ]
    },
    {
     "name": "stdout",
     "output_type": "stream",
     "text": [
      "Updating LAMBDA\n"
     ]
    },
    {
     "name": "stderr",
     "output_type": "stream",
     "text": [
      "100%|██████████████████████████████████████████| 10/10 [00:00<00:00, 245.49it/s]\n"
     ]
    },
    {
     "name": "stdout",
     "output_type": "stream",
     "text": [
      "2\n",
      "ELBO: 295142.4218413101\n",
      "ELBO: 285617.14834778005\n"
     ]
    },
    {
     "name": "stderr",
     "output_type": "stream",
     "text": [
      "100%|█████████████████████████████████████████| 102/102 [00:01<00:00, 64.88it/s]\n"
     ]
    },
    {
     "name": "stdout",
     "output_type": "stream",
     "text": [
      "Updating LAMBDA\n"
     ]
    },
    {
     "name": "stderr",
     "output_type": "stream",
     "text": [
      "100%|██████████████████████████████████████████| 10/10 [00:00<00:00, 240.69it/s]\n"
     ]
    },
    {
     "name": "stdout",
     "output_type": "stream",
     "text": [
      "iter  31\n",
      "1\n",
      "ELBO: 284481.5935728086\n",
      "ELBO: 295023.08405143884\n"
     ]
    },
    {
     "name": "stderr",
     "output_type": "stream",
     "text": [
      "100%|█████████████████████████████████████████| 102/102 [00:01<00:00, 65.79it/s]\n"
     ]
    },
    {
     "name": "stdout",
     "output_type": "stream",
     "text": [
      "Updating LAMBDA\n"
     ]
    },
    {
     "name": "stderr",
     "output_type": "stream",
     "text": [
      "100%|██████████████████████████████████████████| 10/10 [00:00<00:00, 242.97it/s]\n"
     ]
    },
    {
     "name": "stdout",
     "output_type": "stream",
     "text": [
      "2\n",
      "ELBO: 295142.4218413101\n",
      "ELBO: 286105.0704964886\n"
     ]
    },
    {
     "name": "stderr",
     "output_type": "stream",
     "text": [
      "100%|█████████████████████████████████████████| 102/102 [00:01<00:00, 66.63it/s]\n"
     ]
    },
    {
     "name": "stdout",
     "output_type": "stream",
     "text": [
      "Updating LAMBDA\n"
     ]
    },
    {
     "name": "stderr",
     "output_type": "stream",
     "text": [
      "100%|██████████████████████████████████████████| 10/10 [00:00<00:00, 249.87it/s]\n"
     ]
    },
    {
     "name": "stdout",
     "output_type": "stream",
     "text": [
      "iter  32\n",
      "1\n",
      "ELBO: 284880.0377020037\n",
      "ELBO: 295023.08405143884\n"
     ]
    },
    {
     "name": "stderr",
     "output_type": "stream",
     "text": [
      "100%|█████████████████████████████████████████| 102/102 [00:01<00:00, 65.94it/s]\n"
     ]
    },
    {
     "name": "stdout",
     "output_type": "stream",
     "text": [
      "Updating LAMBDA\n"
     ]
    },
    {
     "name": "stderr",
     "output_type": "stream",
     "text": [
      "100%|██████████████████████████████████████████| 10/10 [00:00<00:00, 249.76it/s]\n"
     ]
    },
    {
     "name": "stdout",
     "output_type": "stream",
     "text": [
      "2\n",
      "ELBO: 295142.4218413101\n",
      "ELBO: 286593.8280865782\n"
     ]
    },
    {
     "name": "stderr",
     "output_type": "stream",
     "text": [
      "100%|█████████████████████████████████████████| 102/102 [00:01<00:00, 66.05it/s]\n"
     ]
    },
    {
     "name": "stdout",
     "output_type": "stream",
     "text": [
      "Updating LAMBDA\n"
     ]
    },
    {
     "name": "stderr",
     "output_type": "stream",
     "text": [
      "100%|██████████████████████████████████████████| 10/10 [00:00<00:00, 240.57it/s]\n"
     ]
    },
    {
     "name": "stdout",
     "output_type": "stream",
     "text": [
      "iter  33\n",
      "1\n",
      "ELBO: 285271.837683035\n",
      "ELBO: 295023.08405143884\n"
     ]
    },
    {
     "name": "stderr",
     "output_type": "stream",
     "text": [
      "100%|█████████████████████████████████████████| 102/102 [00:01<00:00, 65.65it/s]\n"
     ]
    },
    {
     "name": "stdout",
     "output_type": "stream",
     "text": [
      "Updating LAMBDA\n"
     ]
    },
    {
     "name": "stderr",
     "output_type": "stream",
     "text": [
      "100%|██████████████████████████████████████████| 10/10 [00:00<00:00, 241.07it/s]\n"
     ]
    },
    {
     "name": "stdout",
     "output_type": "stream",
     "text": [
      "2\n",
      "ELBO: 295142.4218413101\n",
      "ELBO: 287084.0010923711\n"
     ]
    },
    {
     "name": "stderr",
     "output_type": "stream",
     "text": [
      "100%|█████████████████████████████████████████| 102/102 [00:01<00:00, 66.50it/s]\n"
     ]
    },
    {
     "name": "stdout",
     "output_type": "stream",
     "text": [
      "Updating LAMBDA\n"
     ]
    },
    {
     "name": "stderr",
     "output_type": "stream",
     "text": [
      "100%|██████████████████████████████████████████| 10/10 [00:00<00:00, 246.99it/s]\n"
     ]
    },
    {
     "name": "stdout",
     "output_type": "stream",
     "text": [
      "iter  34\n",
      "1\n",
      "ELBO: 285656.823730018\n",
      "ELBO: 295023.08405143884\n"
     ]
    },
    {
     "name": "stderr",
     "output_type": "stream",
     "text": [
      "100%|█████████████████████████████████████████| 102/102 [00:01<00:00, 66.23it/s]\n"
     ]
    },
    {
     "name": "stdout",
     "output_type": "stream",
     "text": [
      "Updating LAMBDA\n"
     ]
    },
    {
     "name": "stderr",
     "output_type": "stream",
     "text": [
      "100%|██████████████████████████████████████████| 10/10 [00:00<00:00, 235.70it/s]\n"
     ]
    },
    {
     "name": "stdout",
     "output_type": "stream",
     "text": [
      "2\n",
      "ELBO: 295142.4218413101\n",
      "ELBO: 287576.1305079604\n"
     ]
    },
    {
     "name": "stderr",
     "output_type": "stream",
     "text": [
      "100%|█████████████████████████████████████████| 102/102 [00:01<00:00, 66.69it/s]\n"
     ]
    },
    {
     "name": "stdout",
     "output_type": "stream",
     "text": [
      "Updating LAMBDA\n"
     ]
    },
    {
     "name": "stderr",
     "output_type": "stream",
     "text": [
      "100%|██████████████████████████████████████████| 10/10 [00:00<00:00, 241.92it/s]\n"
     ]
    },
    {
     "name": "stdout",
     "output_type": "stream",
     "text": [
      "iter  35\n",
      "1\n",
      "ELBO: 286034.8582287159\n",
      "ELBO: 295023.08405143884\n"
     ]
    },
    {
     "name": "stderr",
     "output_type": "stream",
     "text": [
      "100%|█████████████████████████████████████████| 102/102 [00:01<00:00, 65.22it/s]\n"
     ]
    },
    {
     "name": "stdout",
     "output_type": "stream",
     "text": [
      "Updating LAMBDA\n"
     ]
    },
    {
     "name": "stderr",
     "output_type": "stream",
     "text": [
      "100%|██████████████████████████████████████████| 10/10 [00:00<00:00, 257.28it/s]\n"
     ]
    },
    {
     "name": "stdout",
     "output_type": "stream",
     "text": [
      "2\n",
      "ELBO: 295142.4218413101\n",
      "ELBO: 288071.3193350582\n"
     ]
    },
    {
     "name": "stderr",
     "output_type": "stream",
     "text": [
      "100%|█████████████████████████████████████████| 102/102 [00:01<00:00, 65.97it/s]\n"
     ]
    },
    {
     "name": "stdout",
     "output_type": "stream",
     "text": [
      "Updating LAMBDA\n"
     ]
    },
    {
     "name": "stderr",
     "output_type": "stream",
     "text": [
      "100%|██████████████████████████████████████████| 10/10 [00:00<00:00, 246.24it/s]\n"
     ]
    },
    {
     "name": "stdout",
     "output_type": "stream",
     "text": [
      "iter  36\n",
      "1\n",
      "ELBO: 286405.83750819037\n",
      "ELBO: 295023.08405143884\n"
     ]
    },
    {
     "name": "stderr",
     "output_type": "stream",
     "text": [
      "100%|█████████████████████████████████████████| 102/102 [00:01<00:00, 66.49it/s]\n"
     ]
    },
    {
     "name": "stdout",
     "output_type": "stream",
     "text": [
      "Updating LAMBDA\n"
     ]
    },
    {
     "name": "stderr",
     "output_type": "stream",
     "text": [
      "100%|██████████████████████████████████████████| 10/10 [00:00<00:00, 255.82it/s]\n"
     ]
    },
    {
     "name": "stdout",
     "output_type": "stream",
     "text": [
      "2\n",
      "ELBO: 295142.4218413101\n",
      "ELBO: 288572.77066627354\n"
     ]
    },
    {
     "name": "stderr",
     "output_type": "stream",
     "text": [
      "100%|█████████████████████████████████████████| 102/102 [00:01<00:00, 65.92it/s]\n"
     ]
    },
    {
     "name": "stdout",
     "output_type": "stream",
     "text": [
      "Updating LAMBDA\n"
     ]
    },
    {
     "name": "stderr",
     "output_type": "stream",
     "text": [
      "100%|██████████████████████████████████████████| 10/10 [00:00<00:00, 236.53it/s]\n"
     ]
    },
    {
     "name": "stdout",
     "output_type": "stream",
     "text": [
      "iter  37\n",
      "1\n",
      "ELBO: 286769.6936540074\n",
      "ELBO: 295023.08405143884\n"
     ]
    },
    {
     "name": "stderr",
     "output_type": "stream",
     "text": [
      "100%|█████████████████████████████████████████| 102/102 [00:01<00:00, 65.63it/s]\n"
     ]
    },
    {
     "name": "stdout",
     "output_type": "stream",
     "text": [
      "Updating LAMBDA\n"
     ]
    },
    {
     "name": "stderr",
     "output_type": "stream",
     "text": [
      "100%|██████████████████████████████████████████| 10/10 [00:00<00:00, 246.20it/s]\n"
     ]
    },
    {
     "name": "stdout",
     "output_type": "stream",
     "text": [
      "2\n",
      "ELBO: 295142.4218413101\n",
      "ELBO: 289083.70544488897\n"
     ]
    },
    {
     "name": "stderr",
     "output_type": "stream",
     "text": [
      "100%|█████████████████████████████████████████| 102/102 [00:01<00:00, 66.23it/s]\n"
     ]
    },
    {
     "name": "stdout",
     "output_type": "stream",
     "text": [
      "Updating LAMBDA\n"
     ]
    },
    {
     "name": "stderr",
     "output_type": "stream",
     "text": [
      "100%|██████████████████████████████████████████| 10/10 [00:00<00:00, 254.49it/s]\n"
     ]
    },
    {
     "name": "stdout",
     "output_type": "stream",
     "text": [
      "iter  38\n",
      "1\n",
      "ELBO: 287126.39653472387\n",
      "ELBO: 295023.08405143884\n"
     ]
    },
    {
     "name": "stderr",
     "output_type": "stream",
     "text": [
      "100%|█████████████████████████████████████████| 102/102 [00:01<00:00, 65.52it/s]\n"
     ]
    },
    {
     "name": "stdout",
     "output_type": "stream",
     "text": [
      "Updating LAMBDA\n"
     ]
    },
    {
     "name": "stderr",
     "output_type": "stream",
     "text": [
      "100%|██████████████████████████████████████████| 10/10 [00:00<00:00, 251.77it/s]\n"
     ]
    },
    {
     "name": "stdout",
     "output_type": "stream",
     "text": [
      "2\n",
      "ELBO: 295142.4218413101\n",
      "ELBO: 289609.401585525\n"
     ]
    },
    {
     "name": "stderr",
     "output_type": "stream",
     "text": [
      "100%|█████████████████████████████████████████| 102/102 [00:01<00:00, 65.30it/s]\n"
     ]
    },
    {
     "name": "stdout",
     "output_type": "stream",
     "text": [
      "Updating LAMBDA\n"
     ]
    },
    {
     "name": "stderr",
     "output_type": "stream",
     "text": [
      "100%|██████████████████████████████████████████| 10/10 [00:00<00:00, 244.04it/s]\n"
     ]
    },
    {
     "name": "stdout",
     "output_type": "stream",
     "text": [
      "iter  39\n",
      "1\n",
      "ELBO: 287475.9561101235\n",
      "ELBO: 295023.08405143884\n"
     ]
    },
    {
     "name": "stderr",
     "output_type": "stream",
     "text": [
      "100%|█████████████████████████████████████████| 102/102 [00:01<00:00, 65.13it/s]\n"
     ]
    },
    {
     "name": "stdout",
     "output_type": "stream",
     "text": [
      "Updating LAMBDA\n"
     ]
    },
    {
     "name": "stderr",
     "output_type": "stream",
     "text": [
      "100%|██████████████████████████████████████████| 10/10 [00:00<00:00, 253.22it/s]\n"
     ]
    },
    {
     "name": "stdout",
     "output_type": "stream",
     "text": [
      "2\n",
      "ELBO: 295142.4218413101\n",
      "ELBO: nan\n"
     ]
    },
    {
     "name": "stderr",
     "output_type": "stream",
     "text": [
      "100%|█████████████████████████████████████████| 102/102 [00:01<00:00, 65.76it/s]\n"
     ]
    },
    {
     "name": "stdout",
     "output_type": "stream",
     "text": [
      "Updating LAMBDA\n"
     ]
    },
    {
     "name": "stderr",
     "output_type": "stream",
     "text": [
      "100%|██████████████████████████████████████████| 10/10 [00:00<00:00, 258.29it/s]\n"
     ]
    },
    {
     "name": "stdout",
     "output_type": "stream",
     "text": [
      "iter  40\n",
      "1\n",
      "ELBO: 287818.4242341108\n",
      "ELBO: 295023.08405143884\n"
     ]
    },
    {
     "name": "stderr",
     "output_type": "stream",
     "text": [
      "  1%|▍                                          | 1/102 [00:00<00:03, 29.37it/s]\n"
     ]
    },
    {
     "ename": "FloatingPointError",
     "evalue": "underflow encountered in exp",
     "output_type": "error",
     "traceback": [
      "\u001b[0;31m---------------------------------------------------------------------------\u001b[0m",
      "\u001b[0;31mFloatingPointError\u001b[0m                        Traceback (most recent call last)",
      "Cell \u001b[0;32mIn [451], line 5\u001b[0m\n\u001b[1;32m      3\u001b[0m \u001b[38;5;28;01mfor\u001b[39;00m i \u001b[38;5;129;01min\u001b[39;00m \u001b[38;5;28mrange\u001b[39m (\u001b[38;5;241m1\u001b[39m,N):\n\u001b[1;32m      4\u001b[0m     \u001b[38;5;28mprint\u001b[39m(i)\n\u001b[0;32m----> 5\u001b[0m     F_L_lmbda, F_L_gamma, F_L_phi \u001b[38;5;241m=\u001b[39m F_L(i, p_list,train_articles, train_nonzero_idxs, C) \n\u001b[1;32m      6\u001b[0m     F_s_lmbda, F_s_gamma, F_s_phi \u001b[38;5;241m=\u001b[39m F_s(i, k, p_list)\n\u001b[1;32m      7\u001b[0m     LAMBDA, GAMMA, PHI \u001b[38;5;241m=\u001b[39m p_list[i] \n",
      "Cell \u001b[0;32mIn [82], line 5\u001b[0m, in \u001b[0;36mF_L\u001b[0;34m(i, p_list, train_articles, train_nonzero_idxs, C)\u001b[0m\n\u001b[1;32m      3\u001b[0m LAMBDA, GAMMA, PHI \u001b[38;5;241m=\u001b[39m p_list[i]\n\u001b[1;32m      4\u001b[0m tau_Lam, tau_Gam, tau_Phi \u001b[38;5;241m=\u001b[39m tau(i, p_list, train_articles, train_nonzero_idxs, C)\n\u001b[0;32m----> 5\u001b[0m grad_LAMBDA, grad_GAMMA, grad_PHI \u001b[38;5;241m=\u001b[39m \u001b[43mdLdp\u001b[49m\u001b[43m(\u001b[49m\u001b[43mLAMBDA\u001b[49m\u001b[43m,\u001b[49m\u001b[43m \u001b[49m\u001b[43mGAMMA\u001b[49m\u001b[43m,\u001b[49m\u001b[43m \u001b[49m\u001b[43mPHI\u001b[49m\u001b[43m,\u001b[49m\u001b[43m \u001b[49m\u001b[43mtrain_articles\u001b[49m\u001b[43m,\u001b[49m\u001b[43m \u001b[49m\u001b[43mtrain_nonzero_idxs\u001b[49m\u001b[43m,\u001b[49m\u001b[43m \u001b[49m\u001b[43mC\u001b[49m\u001b[43m)\u001b[49m\n\u001b[1;32m      6\u001b[0m grad_dot_tau_Lam \u001b[38;5;241m=\u001b[39m np\u001b[38;5;241m.\u001b[39mmultiply(grad_LAMBDA , tau_Lam)\n\u001b[1;32m      7\u001b[0m grad_dot_tau_Gam \u001b[38;5;241m=\u001b[39m np\u001b[38;5;241m.\u001b[39mmultiply(grad_GAMMA , tau_Gam)\n",
      "Cell \u001b[0;32mIn [80], line 116\u001b[0m, in \u001b[0;36mdLdp\u001b[0;34m(LAMBDA, GAMMA, PHI, train_articles, train_nonzero_idxs, C)\u001b[0m\n\u001b[1;32m    113\u001b[0m     log_PHI_ij[k] \u001b[38;5;241m=\u001b[39m exponent\n\u001b[1;32m    115\u001b[0m \u001b[38;5;66;03m# Normalize using log-sum-exp trick\u001b[39;00m\n\u001b[0;32m--> 116\u001b[0m PHI_ij \u001b[38;5;241m=\u001b[39m np\u001b[38;5;241m.\u001b[39mexp(log_PHI_ij \u001b[38;5;241m-\u001b[39m \u001b[43mcompute_logsumexp\u001b[49m\u001b[43m(\u001b[49m\u001b[43mlog_PHI_ij\u001b[49m\u001b[43m)\u001b[49m)\n\u001b[1;32m    117\u001b[0m \u001b[38;5;28;01mtry\u001b[39;00m:\n\u001b[1;32m    118\u001b[0m     \u001b[38;5;28;01massert\u001b[39;00m(np\u001b[38;5;241m.\u001b[39mabs(np\u001b[38;5;241m.\u001b[39msum(PHI_ij) \u001b[38;5;241m-\u001b[39m \u001b[38;5;241m1\u001b[39m) \u001b[38;5;241m<\u001b[39m \u001b[38;5;241m1e-6\u001b[39m)\n",
      "Cell \u001b[0;32mIn [85], line 29\u001b[0m, in \u001b[0;36mcompute_logsumexp\u001b[0;34m(scores)\u001b[0m\n\u001b[1;32m     25\u001b[0m max_score \u001b[38;5;241m=\u001b[39m np\u001b[38;5;241m.\u001b[39mmax(scores, axis\u001b[38;5;241m=\u001b[39m\u001b[38;5;241m0\u001b[39m)\n\u001b[1;32m     27\u001b[0m \u001b[38;5;66;03m# Subtract scores by max and exponentiate\u001b[39;00m\n\u001b[1;32m     28\u001b[0m \u001b[38;5;66;03m# result = \u001b[39;00m\n\u001b[0;32m---> 29\u001b[0m exp_scores \u001b[38;5;241m=\u001b[39m \u001b[43mnp\u001b[49m\u001b[38;5;241;43m.\u001b[39;49m\u001b[43mexp\u001b[49m\u001b[43m(\u001b[49m\u001b[43mscores\u001b[49m\u001b[43m \u001b[49m\u001b[38;5;241;43m-\u001b[39;49m\u001b[43m \u001b[49m\u001b[43mmax_score\u001b[49m\u001b[43m)\u001b[49m\n\u001b[1;32m     31\u001b[0m \u001b[38;5;66;03m# Compute denominator\u001b[39;00m\n\u001b[1;32m     32\u001b[0m sum_exp \u001b[38;5;241m=\u001b[39m np\u001b[38;5;241m.\u001b[39msum(exp_scores)\n",
      "\u001b[0;31mFloatingPointError\u001b[0m: underflow encountered in exp"
     ]
    }
   ],
   "source": [
    "for t in range (T):\n",
    "    print(\"iter \", t) \n",
    "    for i in range (1,N):\n",
    "        print(i)\n",
    "        F_L_lmbda, F_L_gamma, F_L_phi = F_L(i, p_list,train_articles, train_nonzero_idxs, C) \n",
    "        F_s_lmbda, F_s_gamma, F_s_phi = F_s(i, k, p_list)\n",
    "        LAMBDA, GAMMA, PHI = p_list[i] \n",
    "\n",
    "        LAMBDA = LAMBDA + lr * (-F_L_lmbda + F_s_lmbda)\n",
    "        GAMMA = GAMMA + lr * (-F_L_gamma + F_s_gamma)\n",
    "        PHI = [phi + lr * (-f_l_phi + f_s_phi) for (phi, f_l_phi, f_s_phi) in zip(PHI, F_L_phi, F_s_phi)]\n",
    "        p_list[i] = [LAMBDA, GAMMA, PHI ]\n",
    "    His.append(copy.deepcopy(p_list))"
   ]
  },
  {
   "cell_type": "code",
   "execution_count": 452,
   "metadata": {
    "scrolled": true
   },
   "outputs": [
    {
     "name": "stdout",
     "output_type": "stream",
     "text": [
      "ELBO: 295023.08405143884\n",
      "ELBO: 271396.3874786595\n",
      "ELBO: 271426.83457095525\n",
      "ELBO: 295142.4218413101\n",
      "ELBO: 295023.08405143884\n",
      "ELBO: 271798.4151155585\n",
      "ELBO: 271813.98066409794\n",
      "ELBO: 295142.4218413101\n",
      "ELBO: 295023.08405143884\n",
      "ELBO: 272208.14311047894\n",
      "ELBO: 272207.14265931613\n",
      "ELBO: 295142.4218413101\n",
      "ELBO: 295023.08405143884\n",
      "ELBO: 272627.4110621689\n",
      "ELBO: 272608.1396766485\n",
      "ELBO: 295142.4218413101\n",
      "ELBO: 295023.08405143884\n",
      "ELBO: 273056.74055856327\n",
      "ELBO: 273017.5229346308\n",
      "ELBO: 295142.4218413101\n",
      "ELBO: 295023.08405143884\n",
      "ELBO: 273495.9585462511\n",
      "ELBO: 273435.19595350476\n",
      "ELBO: 295142.4218413101\n",
      "ELBO: 295023.08405143884\n",
      "ELBO: 273944.48265970056\n",
      "ELBO: 273860.68162364286\n",
      "ELBO: 295142.4218413101\n",
      "ELBO: 295023.08405143884\n",
      "ELBO: 274401.49423419125\n",
      "ELBO: 274293.2774647692\n",
      "ELBO: 295142.4218413101\n",
      "ELBO: 295023.08405143884\n",
      "ELBO: 274866.0538257573\n",
      "ELBO: 274732.15882935433\n",
      "ELBO: 295142.4218413101\n",
      "ELBO: 295023.08405143884\n",
      "ELBO: 275337.17900504475\n",
      "ELBO: 275176.44929727615\n",
      "ELBO: 295142.4218413101\n",
      "ELBO: 295023.08405143884\n",
      "ELBO: 275813.89481793036\n",
      "ELBO: 275625.2656912477\n",
      "ELBO: 295142.4218413101\n",
      "ELBO: 295023.08405143884\n",
      "ELBO: 276295.2652927127\n",
      "ELBO: 276077.74280947173\n",
      "ELBO: 295142.4218413101\n",
      "ELBO: 295023.08405143884\n",
      "ELBO: 276780.4135876496\n",
      "ELBO: 276533.04457954393\n",
      "ELBO: 295142.4218413101\n",
      "ELBO: 295023.08405143884\n",
      "ELBO: 277268.5360949489\n",
      "ELBO: 276990.3690234299\n",
      "ELBO: 295142.4218413101\n",
      "ELBO: 295023.08405143884\n",
      "ELBO: 277758.9124851375\n",
      "ELBO: 277448.9517956088\n",
      "ELBO: 295142.4218413101\n",
      "ELBO: 295023.08405143884\n",
      "ELBO: 278250.9112439487\n",
      "ELBO: 277908.06931577454\n",
      "ELBO: 295142.4218413101\n",
      "ELBO: 295023.08405143884\n",
      "ELBO: 278743.9899297035\n",
      "ELBO: 278367.04057931295\n",
      "ELBO: 295142.4218413101\n",
      "ELBO: 295023.08405143884\n",
      "ELBO: 279237.69057419547\n",
      "ELBO: 278825.22686022153\n",
      "ELBO: 295142.4218413101\n",
      "ELBO: 295023.08405143884\n",
      "ELBO: 279731.63184448786\n",
      "ELBO: 279282.02946936124\n",
      "ELBO: 295142.4218413101\n",
      "ELBO: 295023.08405143884\n",
      "ELBO: 280225.5000707657\n",
      "ELBO: 279736.8865280518\n",
      "ELBO: 295142.4218413101\n",
      "ELBO: 295023.08405143884\n",
      "ELBO: 280719.0411734581\n",
      "ELBO: 280189.2698509921\n",
      "ELBO: 295142.4218413101\n",
      "ELBO: 295023.08405143884\n",
      "ELBO: 281212.0548420172\n",
      "ELBO: 280638.6825338772\n",
      "ELBO: 295142.4218413101\n",
      "ELBO: 295023.08405143884\n",
      "ELBO: 281704.39140799566\n",
      "ELBO: 281084.6572695242\n",
      "ELBO: 295142.4218413101\n",
      "ELBO: 295023.08405143884\n",
      "ELBO: 282195.95013143553\n",
      "ELBO: 281526.75514522765\n",
      "ELBO: 295142.4218413101\n",
      "ELBO: 295023.08405143884\n",
      "ELBO: 282686.67900343466\n",
      "ELBO: 281964.56465576414\n",
      "ELBO: 295142.4218413101\n",
      "ELBO: 295023.08405143884\n",
      "ELBO: 283176.5749960872\n",
      "ELBO: 282397.7007934208\n",
      "ELBO: 295142.4218413101\n",
      "ELBO: 295023.08405143884\n",
      "ELBO: 283665.68509208766\n",
      "ELBO: 282825.80427376926\n",
      "ELBO: 295142.4218413101\n",
      "ELBO: 295023.08405143884\n",
      "ELBO: 284154.1086938182\n",
      "ELBO: 283248.5410844058\n",
      "ELBO: 295142.4218413101\n",
      "ELBO: 295023.08405143884\n",
      "ELBO: 284642.00197001465\n",
      "ELBO: 283665.60249430675\n",
      "ELBO: 295142.4218413101\n",
      "ELBO: 295023.08405143884\n",
      "ELBO: 285129.5844687784\n",
      "ELBO: 284076.705497552\n",
      "ELBO: 295142.4218413101\n",
      "ELBO: 295023.08405143884\n",
      "ELBO: 285617.14834778005\n",
      "ELBO: 284481.5935728086\n",
      "ELBO: 295142.4218413101\n",
      "ELBO: 295023.08405143884\n",
      "ELBO: 286105.0704964886\n",
      "ELBO: 284880.0377020037\n",
      "ELBO: 295142.4218413101\n",
      "ELBO: 295023.08405143884\n",
      "ELBO: 286593.8280865782\n",
      "ELBO: 285271.837683035\n",
      "ELBO: 295142.4218413101\n",
      "ELBO: 295023.08405143884\n",
      "ELBO: 287084.0010923711\n",
      "ELBO: 285656.823730018\n",
      "ELBO: 295142.4218413101\n",
      "ELBO: 295023.08405143884\n",
      "ELBO: 287576.1305079604\n",
      "ELBO: 286034.8582287159\n",
      "ELBO: 295142.4218413101\n",
      "ELBO: 295023.08405143884\n",
      "ELBO: 288071.3193350582\n",
      "ELBO: 286405.83750819037\n",
      "ELBO: 295142.4218413101\n",
      "ELBO: 295023.08405143884\n",
      "ELBO: 288572.77066627354\n",
      "ELBO: 286769.6936540074\n",
      "ELBO: 295142.4218413101\n",
      "ELBO: 295023.08405143884\n",
      "ELBO: 289083.70544488897\n",
      "ELBO: 287126.39653472387\n",
      "ELBO: 295142.4218413101\n",
      "ELBO: 295023.08405143884\n",
      "ELBO: 289609.401585525\n",
      "ELBO: 287475.9561101235\n",
      "ELBO: 295142.4218413101\n",
      "ELBO: 295023.08405143884\n",
      "ELBO: nan\n",
      "ELBO: 287818.4242341108\n",
      "ELBO: 295142.4218413101\n"
     ]
    }
   ],
   "source": [
    "total_ELBO_list = []\n",
    "for his in His:\n",
    "    ELBO_list = []\n",
    "    for p in his: \n",
    "        LAMBDA, GAMMA, PHI = p \n",
    "        elbo = compute_elbo(LAMBDA, GAMMA, PHI, train_articles, train_nonzero_idxs, C)\n",
    "        ELBO_list.append(elbo) \n",
    "    total_ELBO_list.append(ELBO_list)"
   ]
  },
  {
   "cell_type": "code",
   "execution_count": 454,
   "metadata": {
    "colab": {
     "base_uri": "https://localhost:8080/",
     "height": 497
    },
    "id": "zAyBCMro5IIE",
    "outputId": "e54bb5f0-27f9-497e-8ef5-774634c76ca0"
   },
   "outputs": [
    {
     "name": "stdout",
     "output_type": "stream",
     "text": [
      "ELBO: 295023.08405143884\n",
      "ELBO: 270995.0012991857\n",
      "ELBO: 271038.62793220824\n",
      "ELBO: 295142.4218413101\n"
     ]
    },
    {
     "data": {
      "text/plain": [
       "<matplotlib.legend.Legend at 0x2e3ff3430>"
      ]
     },
     "execution_count": 454,
     "metadata": {},
     "output_type": "execute_result"
    },
    {
     "data": {
      "image/png": "[encoded data removed]",
      "text/plain": [
       "<Figure size 640x480 with 1 Axes>"
      ]
     },
     "metadata": {},
     "output_type": "display_data"
    }
   ],
   "source": [
    "for i in range(len(total_ELBO_list)):\n",
    "    if i % 10 == 0:\n",
    "        plt.plot(total_ELBO_list[i], label = 'iteration{}'.format(i))\n",
    "        \n",
    "plt.plot(total_ELBO_list[-2], label = 'final')\n",
    "p_list_init = init(theta1, theta2, N)\n",
    "ELBO_list_init = []\n",
    "for p in p_list_init: \n",
    "    LAMBDA, GAMMA, PHI = p \n",
    "    elbo = compute_elbo(LAMBDA, GAMMA, PHI, train_articles, train_nonzero_idxs, C)\n",
    "    ELBO_list_init.append(elbo) \n",
    "plt.plot(ELBO_list_init ,label = 'init')\n",
    "plt.xlabel(\"MEP point\") \n",
    "plt.ylabel(\"ELBO\")\n",
    "plt.title(\"Pivot = 10\")\n",
    "plt.legend()"
   ]
  },
  {
   "cell_type": "markdown",
   "metadata": {
    "id": "zoBNmIoPBPk4"
   },
   "source": [
    "### contour plot "
   ]
  },
  {
   "cell_type": "markdown",
   "metadata": {
    "id": "F3QEhml_BWSu"
   },
   "source": [
    "Dimensionality reduction of parameters into 2d \n",
    "- choose two orthogonal random directions in high dimension and project onto these two dimensions to obtain a 2d embedding"
   ]
  },
  {
   "cell_type": "code",
   "execution_count": 363,
   "metadata": {
    "id": "sNys2s3h5qTQ",
    "scrolled": true
   },
   "outputs": [],
   "source": [
    "p_list = His[-1]"
   ]
  },
  {
   "cell_type": "markdown",
   "metadata": {},
   "source": [
    "## Normal"
   ]
  },
  {
   "cell_type": "code",
   "execution_count": 364,
   "metadata": {},
   "outputs": [],
   "source": [
    "LAMBDA, GAMMA, PHI = theta1\n",
    "\n",
    "norm_1 = 0\n",
    "d1_LAMBDA = np.random.normal(0, 1, LAMBDA.shape)\n",
    "norm_1 += np.square(np.linalg.norm(d1_LAMBDA)) \n",
    "d1_GAMMA = np.random.normal(0, 1, GAMMA.shape)\n",
    "norm_1 += np.square(np.linalg.norm(d1_GAMMA)) \n",
    "d1_PHI = [np.random.normal(0, 1, i.shape) for i in PHI]\n",
    "\n",
    "for d1_phi in d1_PHI:\n",
    "    norm_1 += np.square(np.linalg.norm(d1_phi)) \n",
    "\n",
    "norm_1 = np.sqrt(norm_1)\n",
    "d1_LAMBDA /= norm_1 \n",
    "d1_GAMMA /= norm_1 \n",
    "d1_PHI = [d1_phi/norm_1 for d1_phi in d1_PHI]\n",
    "\n",
    "norm_2 = 0\n",
    "\n",
    "d2_LAMBDA = np.random.normal(0, 1, LAMBDA.shape)\n",
    "norm_2 += np.square(np.linalg.norm(d2_LAMBDA)) \n",
    "d2_GAMMA = np.random.normal(0, 1, GAMMA.shape)\n",
    "norm_2 += np.square(np.linalg.norm(d2_GAMMA)) \n",
    "d2_PHI = [np.random.normal(0, 1, i.shape) for i in PHI]\n",
    "\n",
    "for d2_phi in d1_PHI:\n",
    "    norm_2 += np.square(np.linalg.norm(d2_phi)) \n",
    "\n",
    "norm_2 = np.sqrt(norm_2)\n",
    "d2_LAMBDA /= norm_2 \n",
    "d2_GAMMA /= norm_2\n",
    "d2_PHI = [d2_phi / norm_2 for d2_phi in d2_PHI]  \n",
    "\n",
    "center = init(theta1, theta2, N = 2)[1]\n",
    "center_LAMBDA, center_GAMMA, center_PHI = center\n",
    "\n",
    "    \n",
    "def projection(pp_list, center):\n",
    "    x_list = np.zeros(len(pp_list))\n",
    "    y_list = np.zeros(len(pp_list))\n",
    "\n",
    "    center_LAMBDA, center_GAMMA, center_PHI = center\n",
    "\n",
    "    for i in range(len(pp_list)):\n",
    "        LAMBDA, GAMMA, PHI = pp_list[i]\n",
    "        LAMBDA_P = LAMBDA - center_LAMBDA\n",
    "        x_list[i] += np.sum(d1_LAMBDA * LAMBDA_P)\n",
    "        GAMMA_P = GAMMA - center_GAMMA\n",
    "        x_list[i] += np.sum(d1_GAMMA * GAMMA_P)\n",
    "        PHI_P = [phi - center_phi for (center_phi, phi) in zip(center_PHI, PHI)]\n",
    "        x_list[i] += np.sum(np.array([np.sum(d1_phi * phi_p) for (d1_phi, phi_p) in zip(d1_PHI, PHI_P)]))\n",
    "\n",
    "        y_list[i] += np.sum(d2_LAMBDA * LAMBDA_P)\n",
    "        y_list[i] += np.sum(d2_GAMMA * GAMMA_P)\n",
    "        y_list[i] += np.sum(np.array([np.sum(d2_phi * phi_p) for (d2_phi, phi_p) in zip(d2_PHI, PHI_P)]))\n",
    "        \n",
    "    return x_list, y_list\n",
    "\n"
   ]
  },
  {
   "cell_type": "markdown",
   "metadata": {},
   "source": [
    "## Bern"
   ]
  },
  {
   "cell_type": "code",
   "execution_count": 297,
   "metadata": {},
   "outputs": [],
   "source": [
    "LAMBDA, GAMMA, PHI = theta1\n",
    "\n",
    "norm_1 = 0\n",
    "d1_LAMBDA = np.random.binomial(1, 0.5, LAMBDA.shape).astype(float)\n",
    "d2_LAMBDA = np.ones(LAMBDA.shape) - d1_LAMBDA\n",
    "\n",
    "d1_GAMMA = np.random.binomial(1, 0.5, GAMMA.shape).astype(float)\n",
    "d2_GAMMA = np.ones(GAMMA.shape) - d1_GAMMA\n",
    "\n",
    "d1_PHI = [np.random.binomial(1, 0.5, i.shape).astype(float) for i in PHI]\n",
    "d2_PHI = [np.ones(i.shape) - i for i in d1_PHI]\n",
    "\n",
    "\n",
    "\n",
    "norm_1 += np.square(np.linalg.norm(d1_LAMBDA))\n",
    "norm_1 += np.square(np.linalg.norm(d1_GAMMA)) \n",
    "\n",
    "\n",
    "for d1_phi in d1_PHI:\n",
    "    norm_1 += np.square(np.linalg.norm(d1_phi)) \n",
    "\n",
    "norm_1 = np.sqrt(norm_1)\n",
    "d1_LAMBDA /= norm_1 \n",
    "d1_GAMMA /= norm_1 \n",
    "d1_PHI = [d1_phi/norm_1 for d1_phi in d1_PHI]\n",
    "\n",
    "norm_2 = 0\n",
    "\n",
    "norm_2 += np.square(np.linalg.norm(d2_LAMBDA)) \n",
    "norm_2 += np.square(np.linalg.norm(d2_GAMMA)) \n",
    "\n",
    "for d2_phi in d1_PHI:\n",
    "    norm_2 += np.square(np.linalg.norm(d2_phi)) \n",
    "\n",
    "norm_2 = np.sqrt(norm_2)\n",
    "d2_LAMBDA /= norm_2 \n",
    "d2_GAMMA /= norm_2\n",
    "d2_PHI = [d2_phi / norm_2 for d2_phi in d2_PHI]  \n",
    "\n",
    "center = init(theta1, theta2, N = 2)[1]\n",
    "center_LAMBDA, center_GAMMA, center_PHI = center\n",
    "\n",
    "    \n",
    "def projection(pp_list, center):\n",
    "    x_list = np.zeros(len(pp_list))\n",
    "    y_list = np.zeros(len(pp_list))\n",
    "\n",
    "    center_LAMBDA, center_GAMMA, center_PHI = center\n",
    "\n",
    "    for i in range(len(pp_list)):\n",
    "        LAMBDA, GAMMA, PHI = pp_list[i]\n",
    "        LAMBDA_P = LAMBDA - center_LAMBDA\n",
    "        x_list[i] += np.sum(d1_LAMBDA * LAMBDA_P)\n",
    "        GAMMA_P = GAMMA - center_GAMMA\n",
    "        x_list[i] += np.sum(d1_GAMMA * GAMMA_P)\n",
    "        PHI_P = [phi - center_phi for (center_phi, phi) in zip(center_PHI, PHI)]\n",
    "        x_list[i] += np.sum(np.array([np.sum(d1_phi * phi_p) for (d1_phi, phi_p) in zip(d1_PHI, PHI_P)]))\n",
    "\n",
    "        y_list[i] += np.sum(d2_LAMBDA * LAMBDA_P)\n",
    "        y_list[i] += np.sum(d2_GAMMA * GAMMA_P)\n",
    "        y_list[i] += np.sum(np.array([np.sum(d2_phi * phi_p) for (d2_phi, phi_p) in zip(d2_PHI, PHI_P)]))\n",
    "        \n",
    "    return x_list, y_list\n",
    "\n",
    "def point_projection(point):\n",
    "\n",
    "    LAMBDA_P, GAMMA_P, PHI_P = point\n",
    "    x = 0\n",
    "    y = 0\n",
    "\n",
    "    x += np.sum(d1_LAMBDA * LAMBDA_P)\n",
    "    x += np.sum(d1_GAMMA * GAMMA_P)\n",
    "    x += np.sum(np.array([np.sum(d1_phi * phi_p) for (d1_phi, phi_p) in zip(d1_PHI, PHI_P)]))\n",
    "\n",
    "    y += np.sum(d2_LAMBDA * LAMBDA_P)\n",
    "    y += np.sum(d2_GAMMA * GAMMA_P)\n",
    "    y += np.sum(np.array([np.sum(d2_phi * phi_p) for (d2_phi, phi_p) in zip(d2_PHI, PHI_P)]))\n",
    "        \n",
    "    return x, y\n",
    "\n",
    "def line_projection(pp_list):\n",
    "    x_list = np.zeros(len(pp_list))\n",
    "    y_list = np.zeros(len(pp_list))\n",
    "    \n",
    "    for i in range(len(pp_list)):\n",
    "        x_list[i],y_list[i] = point_projection(pp_list[i])\n",
    "        \n",
    "    return x_list, y_list"
   ]
  },
  {
   "cell_type": "code",
   "execution_count": 365,
   "metadata": {
    "id": "PBxHR_pmBbjB",
    "scrolled": true
   },
   "outputs": [
    {
     "name": "stdout",
     "output_type": "stream",
     "text": [
      "i:  0\n",
      "j:  0\n",
      "ELBO: 451875.11847957777\n",
      "i:  0\n",
      "j:  1\n",
      "ELBO: 452581.70150026056\n",
      "i:  0\n",
      "j:  2\n",
      "ELBO: 453079.94931640796\n",
      "i:  0\n",
      "j:  3\n",
      "ELBO: 453416.72613271466\n",
      "i:  0\n",
      "j:  4\n",
      "ELBO: 453616.4658901354\n",
      "i:  0\n",
      "j:  5\n",
      "ELBO: 453691.5583229924\n",
      "i:  0\n",
      "j:  6\n",
      "ELBO: 453645.8202566358\n",
      "i:  0\n",
      "j:  7\n",
      "ELBO: 453475.15478827973\n",
      "i:  0\n",
      "j:  8\n",
      "ELBO: 453166.6341638883\n",
      "i:  0\n",
      "j:  9\n",
      "ELBO: 452694.55047968973\n",
      "i:  0\n",
      "j:  10\n",
      "ELBO: 452007.8840609394\n",
      "i:  1\n",
      "j:  0\n",
      "ELBO: 452485.3809507992\n",
      "i:  1\n",
      "j:  1\n",
      "ELBO: 453122.9654751542\n",
      "i:  1\n",
      "j:  2\n",
      "ELBO: 453579.35590001603\n",
      "i:  1\n",
      "j:  3\n",
      "ELBO: 453890.530359753\n",
      "i:  1\n",
      "j:  4\n",
      "ELBO: 454076.4383776935\n",
      "i:  1\n",
      "j:  5\n",
      "ELBO: 454147.5039204971\n",
      "i:  1\n",
      "j:  6\n",
      "ELBO: 454106.9901690028\n",
      "i:  1\n",
      "j:  7\n",
      "ELBO: 453951.43766775733\n",
      "i:  1\n",
      "j:  8\n",
      "ELBO: 453670.1015544602\n",
      "i:  1\n",
      "j:  9\n",
      "ELBO: 453242.3129958638\n",
      "i:  1\n",
      "j:  10\n",
      "ELBO: 452630.5390847259\n",
      "i:  2\n",
      "j:  0\n",
      "ELBO: 452916.40647540905\n",
      "i:  2\n",
      "j:  1\n",
      "ELBO: 453510.8479205278\n",
      "i:  2\n",
      "j:  2\n",
      "ELBO: 453940.00006841397\n",
      "i:  2\n",
      "j:  3\n",
      "ELBO: 454234.1544250138\n",
      "i:  2\n",
      "j:  4\n",
      "ELBO: 454410.8428458419\n",
      "i:  2\n",
      "j:  5\n",
      "ELBO: 454479.2626897123\n",
      "i:  2\n",
      "j:  6\n",
      "ELBO: 454442.38374730333\n",
      "i:  2\n",
      "j:  7\n",
      "ELBO: 454297.142344459\n",
      "i:  2\n",
      "j:  8\n",
      "ELBO: 454034.11732816405\n",
      "i:  2\n",
      "j:  9\n",
      "ELBO: 453635.3416284427\n",
      "i:  2\n",
      "j:  10\n",
      "ELBO: 453069.53678578645\n",
      "i:  3\n",
      "j:  0\n",
      "ELBO: 453204.74292266445\n",
      "i:  3\n",
      "j:  1\n",
      "ELBO: 453772.41469981713\n",
      "i:  3\n",
      "j:  2\n",
      "ELBO: 454184.31750163937\n",
      "i:  3\n",
      "j:  3\n",
      "ELBO: 454467.695186132\n",
      "i:  3\n",
      "j:  4\n",
      "ELBO: 454638.5219107782\n",
      "i:  3\n",
      "j:  5\n",
      "ELBO: 454705.3438368861\n",
      "i:  3\n",
      "j:  6\n",
      "ELBO: 454670.9383558772\n",
      "i:  3\n",
      "j:  7\n",
      "ELBO: 454532.5439101726\n",
      "i:  3\n",
      "j:  8\n",
      "ELBO: 454281.48159079644\n",
      "i:  3\n",
      "j:  9\n",
      "ELBO: 453901.35970316926\n",
      "i:  3\n",
      "j:  10\n",
      "ELBO: 453364.271368569\n",
      "i:  4\n",
      "j:  0\n",
      "ELBO: 453370.08511708013\n",
      "i:  4\n",
      "j:  1\n",
      "ELBO: 453923.1670800957\n",
      "i:  4\n",
      "j:  2\n",
      "ELBO: 454325.65609578474\n",
      "i:  4\n",
      "j:  3\n",
      "ELBO: 454603.18182060827\n",
      "i:  4\n",
      "j:  4\n",
      "ELBO: 454770.94311367034\n",
      "i:  4\n",
      "j:  5\n",
      "ELBO: 454837.03608942876\n",
      "i:  4\n",
      "j:  6\n",
      "ELBO: 454804.1983519141\n",
      "i:  4\n",
      "j:  7\n",
      "ELBO: 454669.904154192\n",
      "i:  4\n",
      "j:  8\n",
      "ELBO: 454425.84214329434\n",
      "i:  4\n",
      "j:  9\n",
      "ELBO: 454056.4695833797\n",
      "i:  4\n",
      "j:  10\n",
      "ELBO: 453535.57926712226\n",
      "i:  5\n",
      "j:  0\n",
      "ELBO: 453422.37833210366\n",
      "i:  5\n",
      "j:  1\n",
      "ELBO: 453971.1276576517\n",
      "i:  5\n",
      "j:  2\n",
      "ELBO: 454370.9899045535\n",
      "i:  5\n",
      "j:  3\n",
      "ELBO: 454647.04353050777\n",
      "i:  5\n",
      "j:  4\n",
      "ELBO: 454814.2280841965\n",
      "i:  5\n",
      "j:  5\n",
      "ELBO: 454880.4584499661\n",
      "i:  5\n",
      "j:  6\n",
      "ELBO: 454848.4576305952\n",
      "i:  5\n",
      "j:  7\n",
      "ELBO: 454715.9331615079\n",
      "i:  5\n",
      "j:  8\n",
      "ELBO: 454474.5803494322\n",
      "i:  5\n",
      "j:  9\n",
      "ELBO: 454109.1572873382\n",
      "i:  5\n",
      "j:  10\n",
      "ELBO: 453594.0661757455\n",
      "i:  6\n",
      "j:  0\n",
      "ELBO: 453364.57833001856\n",
      "i:  6\n",
      "j:  1\n",
      "ELBO: 453918.7473298431\n",
      "i:  6\n",
      "j:  2\n",
      "ELBO: 454322.4606317172\n",
      "i:  6\n",
      "j:  3\n",
      "ELBO: 454601.19811127754\n",
      "i:  6\n",
      "j:  4\n",
      "ELBO: 454770.131958609\n",
      "i:  6\n",
      "j:  5\n",
      "ELBO: 454837.4143108283\n",
      "i:  6\n",
      "j:  6\n",
      "ELBO: 454805.734642747\n",
      "i:  6\n",
      "j:  7\n",
      "ELBO: 454672.6731304628\n",
      "i:  6\n",
      "j:  8\n",
      "ELBO: 454429.9301201781\n",
      "i:  6\n",
      "j:  9\n",
      "ELBO: 454062.07077131927\n",
      "i:  6\n",
      "j:  10\n",
      "ELBO: 453543.11931892054\n",
      "i:  7\n",
      "j:  0\n",
      "ELBO: 453192.92021006113\n",
      "i:  7\n",
      "j:  1\n",
      "ELBO: 453762.91173764167\n",
      "i:  7\n",
      "j:  2\n",
      "ELBO: 454177.3564552686\n",
      "i:  7\n",
      "j:  3\n",
      "ELBO: 454463.2442997642\n",
      "i:  7\n",
      "j:  4\n",
      "ELBO: 454636.53338935087\n",
      "i:  7\n",
      "j:  5\n",
      "ELBO: 454705.81760473776\n",
      "i:  7\n",
      "j:  6\n",
      "ELBO: 454673.8185035388\n",
      "i:  7\n",
      "j:  7\n",
      "ELBO: 454537.96135729906\n",
      "i:  7\n",
      "j:  8\n",
      "ELBO: 454289.6721224839\n",
      "i:  7\n",
      "j:  9\n",
      "ELBO: 453912.7739165659\n",
      "i:  7\n",
      "j:  10\n",
      "ELBO: 453379.83342080325\n",
      "i:  8\n",
      "j:  0\n",
      "ELBO: 452896.0349846612\n",
      "i:  8\n",
      "j:  1\n",
      "ELBO: 453494.5315387118\n",
      "i:  8\n",
      "j:  2\n",
      "ELBO: 453927.9358362287\n",
      "i:  8\n",
      "j:  3\n",
      "ELBO: 454226.2147261102\n",
      "i:  8\n",
      "j:  4\n",
      "ELBO: 454406.8511834062\n",
      "i:  8\n",
      "j:  5\n",
      "ELBO: 454479.2010651884\n",
      "i:  8\n",
      "j:  6\n",
      "ELBO: 454446.17079701246\n",
      "i:  8\n",
      "j:  7\n",
      "ELBO: 454305.00291863456\n",
      "i:  8\n",
      "j:  8\n",
      "ELBO: 454046.40788830625\n",
      "i:  8\n",
      "j:  9\n",
      "ELBO: 453652.8684594608\n",
      "i:  8\n",
      "j:  10\n",
      "ELBO: 453093.9550602101\n",
      "i:  9\n",
      "j:  0\n",
      "ELBO: 452451.2107392767\n",
      "i:  9\n",
      "j:  1\n",
      "ELBO: 453096.3218698686\n",
      "i:  9\n",
      "j:  2\n",
      "ELBO: 453559.64930335\n",
      "i:  9\n",
      "j:  3\n",
      "ELBO: 453877.0877924093\n",
      "i:  9\n",
      "j:  4\n",
      "ELBO: 454068.9141255141\n",
      "i:  9\n",
      "j:  5\n",
      "ELBO: 454145.7322266798\n",
      "i:  9\n",
      "j:  6\n",
      "ELBO: 454110.874612233\n",
      "i:  9\n",
      "j:  7\n",
      "ELBO: 453961.257114565\n",
      "i:  9\n",
      "j:  8\n",
      "ELBO: 453686.51106412354\n",
      "i:  9\n",
      "j:  9\n",
      "ELBO: 453266.4821956108\n",
      "i:  9\n",
      "j:  10\n",
      "ELBO: 452664.9120512471\n",
      "i:  10\n",
      "j:  0\n",
      "ELBO: 451798.9449034328\n",
      "i:  10\n",
      "j:  1\n",
      "ELBO: 452535.65339123225\n",
      "i:  10\n",
      "j:  2\n",
      "ELBO: 453047.1152345033\n",
      "i:  10\n",
      "j:  3\n",
      "ELBO: 453393.95492514933\n",
      "i:  10\n",
      "j:  4\n",
      "ELBO: 453602.5280828437\n",
      "i:  10\n",
      "j:  5\n",
      "ELBO: 453685.9155733607\n",
      "i:  10\n",
      "j:  6\n",
      "ELBO: 453648.27267829486\n",
      "i:  10\n",
      "j:  7\n",
      "ELBO: 453486.06979687914\n",
      "i:  10\n",
      "j:  8\n",
      "ELBO: 453186.9640851894\n",
      "i:  10\n",
      "j:  9\n",
      "ELBO: 452725.86134327\n",
      "i:  10\n",
      "j:  10\n",
      "ELBO: 452040.98420801375\n"
     ]
    }
   ],
   "source": [
    "precision = 10\n",
    "extend = precision / 2\n",
    "loss_surface = np.zeros((precision+1,precision+1))\n",
    "h_list = np.arange(-extend,extend+1,1) / 10\n",
    "v_list = np.arange(-extend,extend+1,1) / 10\n",
    "\n",
    "for i in range(precision+1):\n",
    "    for j in range(precision+1): \n",
    "        print('i: ',i)\n",
    "        print('j: ',j)\n",
    "        d1 = h_list[i]\n",
    "        d2 = v_list[j]\n",
    "        NEW_LAMBDA = center_LAMBDA + d1 * d1_LAMBDA + d2 * d2_LAMBDA\n",
    "        NEW_GAMMA = center_GAMMA + d1 * d1_GAMMA + d2 * d2_GAMMA\n",
    "        NEW_PHI = [center_phi + d1 * d1_phi + d2 * d2_phi for (center_phi, d1_phi,d2_phi) in zip(center_PHI, d1_PHI , d2_PHI)]\n",
    "        loss_surface[i,j] = compute_elbo(NEW_LAMBDA, NEW_GAMMA, NEW_PHI,train_articles, train_nonzero_idxs, C)\n",
    "\n",
    "#TODO \n",
    "#plot loss_surface \n",
    "\n",
    "\n",
    "#TODO \n",
    "#plots points (p_list) on the loss surface by first centering the points and then projecting them onto d1 and d2 "
   ]
  },
  {
   "cell_type": "code",
   "execution_count": 381,
   "metadata": {},
   "outputs": [],
   "source": [
    "center_x, center_y = point_projection(center)\n",
    "v_list += center_y\n",
    "h_list += center_x\n",
    "\n",
    "p_list_init = init(theta1, theta2, N)\n",
    "init_x,init_y = line_projection(p_list_init)\n",
    "x_list, y_list = line_projection(p_list)"
   ]
  },
  {
   "cell_type": "code",
   "execution_count": 382,
   "metadata": {},
   "outputs": [
    {
     "name": "stdout",
     "output_type": "stream",
     "text": [
      "ELBO: 458804.3358301647\n",
      "ELBO: 455082.2664616831\n",
      "ELBO: 455071.88631429255\n",
      "ELBO: 458780.8891626676\n"
     ]
    }
   ],
   "source": [
    "elbo_init = []\n",
    "for p in p_list_init: \n",
    "    LAMBDA, GAMMA, PHI = p \n",
    "    elbo_init.append(compute_elbo(LAMBDA, GAMMA, PHI, train_articles, train_nonzero_idxs, C))"
   ]
  },
  {
   "cell_type": "code",
   "execution_count": 383,
   "metadata": {
    "scrolled": false
   },
   "outputs": [
    {
     "data": {
      "application/vnd.plotly.v1+json": {
       "config": {
        "plotlyServerURL": "https://plot.ly"
       },
       "data": [
        {
         "hovertemplate": "color=b<br>x=%{x}<br>y=%{y}<br>z=%{z}<extra></extra>",
         "legendgroup": "b",
         "line": {
          "color": "#EF553B",
          "dash": "solid"
         },
         "marker": {
          "symbol": "circle"
         },
         "mode": "lines",
         "name": "b",
         "scene": "scene",
         "showlegend": true,
         "type": "scatter3d",
         "x": [
          0.8538785674370601,
          1.0694094534577345,
          1.4367647435483384,
          1.0007887647435807
         ],
         "y": [
          -1.3253852984766619,
          -1.493676655813857,
          -1.94167918189387,
          -1.6764702315446627
         ],
         "z": [
          458804.3358301647,
          458812.7722047355,
          457978.1943606451,
          458780.8891626676
         ]
        },
        {
         "hovertemplate": "x=%{x}<br>y=%{y}<br>z=%{z}<extra></extra>",
         "legendgroup": "",
         "line": {
          "color": "#636efa",
          "dash": "solid"
         },
         "marker": {
          "symbol": "circle"
         },
         "mode": "lines",
         "name": "",
         "scene": "scene",
         "showlegend": false,
         "type": "scatter3d",
         "x": [
          0.8538785674370601,
          0.9028486332059007,
          0.9518186989747407,
          1.0007887647435807
         ],
         "y": [
          -1.3253852984766619,
          -1.4424136094993283,
          -1.559441920521996,
          -1.6764702315446627
         ],
         "z": [
          458804.3358301647,
          455082.2664616831,
          455071.88631429255,
          458780.8891626676
         ]
        },
        {
         "type": "surface",
         "x": [
          2.2820009982709624,
          2.382000998270962,
          2.482000998270962,
          2.582000998270962,
          2.6820009982709623,
          2.7820009982709624,
          2.882000998270962,
          2.982000998270962,
          3.082000998270962,
          3.1820009982709623,
          3.282000998270962
         ],
         "y": [
          -5.0027832950319855,
          -4.902783295031986,
          -4.802783295031986,
          -4.702783295031986,
          -4.602783295031986,
          -4.502783295031986,
          -4.402783295031986,
          -4.302783295031986,
          -4.202783295031986,
          -4.102783295031986,
          -4.002783295031986
         ],
         "z": [
          [
           451875.11847957777,
           452581.70150026056,
           453079.94931640796,
           453416.72613271466,
           453616.4658901354,
           453691.5583229924,
           453645.8202566358,
           453475.15478827973,
           453166.6341638883,
           452694.55047968973,
           452007.8840609394
          ],
          [
           452485.3809507992,
           453122.9654751542,
           453579.35590001603,
           453890.530359753,
           454076.4383776935,
           454147.5039204971,
           454106.9901690028,
           453951.43766775733,
           453670.1015544602,
           453242.3129958638,
           452630.5390847259
          ],
          [
           452916.40647540905,
           453510.8479205278,
           453940.00006841397,
           454234.1544250138,
           454410.8428458419,
           454479.2626897123,
           454442.38374730333,
           454297.142344459,
           454034.11732816405,
           453635.3416284427,
           453069.53678578645
          ],
          [
           453204.74292266445,
           453772.41469981713,
           454184.31750163937,
           454467.695186132,
           454638.5219107782,
           454705.3438368861,
           454670.9383558772,
           454532.5439101726,
           454281.48159079644,
           453901.35970316926,
           453364.271368569
          ],
          [
           453370.08511708013,
           453923.1670800957,
           454325.65609578474,
           454603.18182060827,
           454770.94311367034,
           454837.03608942876,
           454804.1983519141,
           454669.904154192,
           454425.84214329434,
           454056.4695833797,
           453535.57926712226
          ],
          [
           453422.37833210366,
           453971.1276576517,
           454370.9899045535,
           454647.04353050777,
           454814.2280841965,
           454880.4584499661,
           454848.4576305952,
           454715.9331615079,
           454474.5803494322,
           454109.1572873382,
           453594.0661757455
          ],
          [
           453364.57833001856,
           453918.7473298431,
           454322.4606317172,
           454601.19811127754,
           454770.131958609,
           454837.4143108283,
           454805.734642747,
           454672.6731304628,
           454429.9301201781,
           454062.07077131927,
           453543.11931892054
          ],
          [
           453192.92021006113,
           453762.91173764167,
           454177.3564552686,
           454463.2442997642,
           454636.53338935087,
           454705.81760473776,
           454673.8185035388,
           454537.96135729906,
           454289.6721224839,
           453912.7739165659,
           453379.83342080325
          ],
          [
           452896.0349846612,
           453494.5315387118,
           453927.9358362287,
           454226.2147261102,
           454406.8511834062,
           454479.2010651884,
           454446.17079701246,
           454305.00291863456,
           454046.40788830625,
           453652.8684594608,
           453093.9550602101
          ],
          [
           452451.2107392767,
           453096.3218698686,
           453559.64930335,
           453877.0877924093,
           454068.9141255141,
           454145.7322266798,
           454110.874612233,
           453961.257114565,
           453686.51106412354,
           453266.4821956108,
           452664.9120512471
          ],
          [
           451798.9449034328,
           452535.65339123225,
           453047.1152345033,
           453393.95492514933,
           453602.5280828437,
           453685.9155733607,
           453648.27267829486,
           453486.06979687914,
           453186.9640851894,
           452725.86134327,
           452040.98420801375
          ]
         ]
        }
       ],
       "layout": {
        "template": {
         "data": {
          "bar": [
           {
            "error_x": {
             "color": "#2a3f5f"
            },
            "error_y": {
             "color": "#2a3f5f"
            },
            "marker": {
             "line": {
              "color": "#E5ECF6",
              "width": 0.5
             },
             "pattern": {
              "fillmode": "overlay",
              "size": 10,
              "solidity": 0.2
             }
            },
            "type": "bar"
           }
          ],
          "barpolar": [
           {
            "marker": {
             "line": {
              "color": "#E5ECF6",
              "width": 0.5
             },
             "pattern": {
              "fillmode": "overlay",
              "size": 10,
              "solidity": 0.2
             }
            },
            "type": "barpolar"
           }
          ],
          "carpet": [
           {
            "aaxis": {
             "endlinecolor": "#2a3f5f",
             "gridcolor": "white",
             "linecolor": "white",
             "minorgridcolor": "white",
             "startlinecolor": "#2a3f5f"
            },
            "baxis": {
             "endlinecolor": "#2a3f5f",
             "gridcolor": "white",
             "linecolor": "white",
             "minorgridcolor": "white",
             "startlinecolor": "#2a3f5f"
            },
            "type": "carpet"
           }
          ],
          "choropleth": [
           {
            "colorbar": {
             "outlinewidth": 0,
             "ticks": ""
            },
            "type": "choropleth"
           }
          ],
          "contour": [
           {
            "colorbar": {
             "outlinewidth": 0,
             "ticks": ""
            },
            "colorscale": [
             [
              0,
              "#0d0887"
             ],
             [
              0.1111111111111111,
              "#46039f"
             ],
             [
              0.2222222222222222,
              "#7201a8"
             ],
             [
              0.3333333333333333,
              "#9c179e"
             ],
             [
              0.4444444444444444,
              "#bd3786"
             ],
             [
              0.5555555555555556,
              "#d8576b"
             ],
             [
              0.6666666666666666,
              "#ed7953"
             ],
             [
              0.7777777777777778,
              "#fb9f3a"
             ],
             [
              0.8888888888888888,
              "#fdca26"
             ],
             [
              1,
              "#f0f921"
             ]
            ],
            "type": "contour"
           }
          ],
          "contourcarpet": [
           {
            "colorbar": {
             "outlinewidth": 0,
             "ticks": ""
            },
            "type": "contourcarpet"
           }
          ],
          "heatmap": [
           {
            "colorbar": {
             "outlinewidth": 0,
             "ticks": ""
            },
            "colorscale": [
             [
              0,
              "#0d0887"
             ],
             [
              0.1111111111111111,
              "#46039f"
             ],
             [
              0.2222222222222222,
              "#7201a8"
             ],
             [
              0.3333333333333333,
              "#9c179e"
             ],
             [
              0.4444444444444444,
              "#bd3786"
             ],
             [
              0.5555555555555556,
              "#d8576b"
             ],
             [
              0.6666666666666666,
              "#ed7953"
             ],
             [
              0.7777777777777778,
              "#fb9f3a"
             ],
             [
              0.8888888888888888,
              "#fdca26"
             ],
             [
              1,
              "#f0f921"
             ]
            ],
            "type": "heatmap"
           }
          ],
          "heatmapgl": [
           {
            "colorbar": {
             "outlinewidth": 0,
             "ticks": ""
            },
            "colorscale": [
             [
              0,
              "#0d0887"
             ],
             [
              0.1111111111111111,
              "#46039f"
             ],
             [
              0.2222222222222222,
              "#7201a8"
             ],
             [
              0.3333333333333333,
              "#9c179e"
             ],
             [
              0.4444444444444444,
              "#bd3786"
             ],
             [
              0.5555555555555556,
              "#d8576b"
             ],
             [
              0.6666666666666666,
              "#ed7953"
             ],
             [
              0.7777777777777778,
              "#fb9f3a"
             ],
             [
              0.8888888888888888,
              "#fdca26"
             ],
             [
              1,
              "#f0f921"
             ]
            ],
            "type": "heatmapgl"
           }
          ],
          "histogram": [
           {
            "marker": {
             "pattern": {
              "fillmode": "overlay",
              "size": 10,
              "solidity": 0.2
             }
            },
            "type": "histogram"
           }
          ],
          "histogram2d": [
           {
            "colorbar": {
             "outlinewidth": 0,
             "ticks": ""
            },
            "colorscale": [
             [
              0,
              "#0d0887"
             ],
             [
              0.1111111111111111,
              "#46039f"
             ],
             [
              0.2222222222222222,
              "#7201a8"
             ],
             [
              0.3333333333333333,
              "#9c179e"
             ],
             [
              0.4444444444444444,
              "#bd3786"
             ],
             [
              0.5555555555555556,
              "#d8576b"
             ],
             [
              0.6666666666666666,
              "#ed7953"
             ],
             [
              0.7777777777777778,
              "#fb9f3a"
             ],
             [
              0.8888888888888888,
              "#fdca26"
             ],
             [
              1,
              "#f0f921"
             ]
            ],
            "type": "histogram2d"
           }
          ],
          "histogram2dcontour": [
           {
            "colorbar": {
             "outlinewidth": 0,
             "ticks": ""
            },
            "colorscale": [
             [
              0,
              "#0d0887"
             ],
             [
              0.1111111111111111,
              "#46039f"
             ],
             [
              0.2222222222222222,
              "#7201a8"
             ],
             [
              0.3333333333333333,
              "#9c179e"
             ],
             [
              0.4444444444444444,
              "#bd3786"
             ],
             [
              0.5555555555555556,
              "#d8576b"
             ],
             [
              0.6666666666666666,
              "#ed7953"
             ],
             [
              0.7777777777777778,
              "#fb9f3a"
             ],
             [
              0.8888888888888888,
              "#fdca26"
             ],
             [
              1,
              "#f0f921"
             ]
            ],
            "type": "histogram2dcontour"
           }
          ],
          "mesh3d": [
           {
            "colorbar": {
             "outlinewidth": 0,
             "ticks": ""
            },
            "type": "mesh3d"
           }
          ],
          "parcoords": [
           {
            "line": {
             "colorbar": {
              "outlinewidth": 0,
              "ticks": ""
             }
            },
            "type": "parcoords"
           }
          ],
          "pie": [
           {
            "automargin": true,
            "type": "pie"
           }
          ],
          "scatter": [
           {
            "fillpattern": {
             "fillmode": "overlay",
             "size": 10,
             "solidity": 0.2
            },
            "type": "scatter"
           }
          ],
          "scatter3d": [
           {
            "line": {
             "colorbar": {
              "outlinewidth": 0,
              "ticks": ""
             }
            },
            "marker": {
             "colorbar": {
              "outlinewidth": 0,
              "ticks": ""
             }
            },
            "type": "scatter3d"
           }
          ],
          "scattercarpet": [
           {
            "marker": {
             "colorbar": {
              "outlinewidth": 0,
              "ticks": ""
             }
            },
            "type": "scattercarpet"
           }
          ],
          "scattergeo": [
           {
            "marker": {
             "colorbar": {
              "outlinewidth": 0,
              "ticks": ""
             }
            },
            "type": "scattergeo"
           }
          ],
          "scattergl": [
           {
            "marker": {
             "colorbar": {
              "outlinewidth": 0,
              "ticks": ""
             }
            },
            "type": "scattergl"
           }
          ],
          "scattermapbox": [
           {
            "marker": {
             "colorbar": {
              "outlinewidth": 0,
              "ticks": ""
             }
            },
            "type": "scattermapbox"
           }
          ],
          "scatterpolar": [
           {
            "marker": {
             "colorbar": {
              "outlinewidth": 0,
              "ticks": ""
             }
            },
            "type": "scatterpolar"
           }
          ],
          "scatterpolargl": [
           {
            "marker": {
             "colorbar": {
              "outlinewidth": 0,
              "ticks": ""
             }
            },
            "type": "scatterpolargl"
           }
          ],
          "scatterternary": [
           {
            "marker": {
             "colorbar": {
              "outlinewidth": 0,
              "ticks": ""
             }
            },
            "type": "scatterternary"
           }
          ],
          "surface": [
           {
            "colorbar": {
             "outlinewidth": 0,
             "ticks": ""
            },
            "colorscale": [
             [
              0,
              "#0d0887"
             ],
             [
              0.1111111111111111,
              "#46039f"
             ],
             [
              0.2222222222222222,
              "#7201a8"
             ],
             [
              0.3333333333333333,
              "#9c179e"
             ],
             [
              0.4444444444444444,
              "#bd3786"
             ],
             [
              0.5555555555555556,
              "#d8576b"
             ],
             [
              0.6666666666666666,
              "#ed7953"
             ],
             [
              0.7777777777777778,
              "#fb9f3a"
             ],
             [
              0.8888888888888888,
              "#fdca26"
             ],
             [
              1,
              "#f0f921"
             ]
            ],
            "type": "surface"
           }
          ],
          "table": [
           {
            "cells": {
             "fill": {
              "color": "#EBF0F8"
             },
             "line": {
              "color": "white"
             }
            },
            "header": {
             "fill": {
              "color": "#C8D4E3"
             },
             "line": {
              "color": "white"
             }
            },
            "type": "table"
           }
          ]
         },
         "layout": {
          "annotationdefaults": {
           "arrowcolor": "#2a3f5f",
           "arrowhead": 0,
           "arrowwidth": 1
          },
          "autotypenumbers": "strict",
          "coloraxis": {
           "colorbar": {
            "outlinewidth": 0,
            "ticks": ""
           }
          },
          "colorscale": {
           "diverging": [
            [
             0,
             "#8e0152"
            ],
            [
             0.1,
             "#c51b7d"
            ],
            [
             0.2,
             "#de77ae"
            ],
            [
             0.3,
             "#f1b6da"
            ],
            [
             0.4,
             "#fde0ef"
            ],
            [
             0.5,
             "#f7f7f7"
            ],
            [
             0.6,
             "#e6f5d0"
            ],
            [
             0.7,
             "#b8e186"
            ],
            [
             0.8,
             "#7fbc41"
            ],
            [
             0.9,
             "#4d9221"
            ],
            [
             1,
             "#276419"
            ]
           ],
           "sequential": [
            [
             0,
             "#0d0887"
            ],
            [
             0.1111111111111111,
             "#46039f"
            ],
            [
             0.2222222222222222,
             "#7201a8"
            ],
            [
             0.3333333333333333,
             "#9c179e"
            ],
            [
             0.4444444444444444,
             "#bd3786"
            ],
            [
             0.5555555555555556,
             "#d8576b"
            ],
            [
             0.6666666666666666,
             "#ed7953"
            ],
            [
             0.7777777777777778,
             "#fb9f3a"
            ],
            [
             0.8888888888888888,
             "#fdca26"
            ],
            [
             1,
             "#f0f921"
            ]
           ],
           "sequentialminus": [
            [
             0,
             "#0d0887"
            ],
            [
             0.1111111111111111,
             "#46039f"
            ],
            [
             0.2222222222222222,
             "#7201a8"
            ],
            [
             0.3333333333333333,
             "#9c179e"
            ],
            [
             0.4444444444444444,
             "#bd3786"
            ],
            [
             0.5555555555555556,
             "#d8576b"
            ],
            [
             0.6666666666666666,
             "#ed7953"
            ],
            [
             0.7777777777777778,
             "#fb9f3a"
            ],
            [
             0.8888888888888888,
             "#fdca26"
            ],
            [
             1,
             "#f0f921"
            ]
           ]
          },
          "colorway": [
           "#636efa",
           "#EF553B",
           "#00cc96",
           "#ab63fa",
           "#FFA15A",
           "#19d3f3",
           "#FF6692",
           "#B6E880",
           "#FF97FF",
           "#FECB52"
          ],
          "font": {
           "color": "#2a3f5f"
          },
          "geo": {
           "bgcolor": "white",
           "lakecolor": "white",
           "landcolor": "#E5ECF6",
           "showlakes": true,
           "showland": true,
           "subunitcolor": "white"
          },
          "hoverlabel": {
           "align": "left"
          },
          "hovermode": "closest",
          "mapbox": {
           "style": "light"
          },
          "paper_bgcolor": "white",
          "plot_bgcolor": "#E5ECF6",
          "polar": {
           "angularaxis": {
            "gridcolor": "white",
            "linecolor": "white",
            "ticks": ""
           },
           "bgcolor": "#E5ECF6",
           "radialaxis": {
            "gridcolor": "white",
            "linecolor": "white",
            "ticks": ""
           }
          },
          "scene": {
           "xaxis": {
            "backgroundcolor": "#E5ECF6",
            "gridcolor": "white",
            "gridwidth": 2,
            "linecolor": "white",
            "showbackground": true,
            "ticks": "",
            "zerolinecolor": "white"
           },
           "yaxis": {
            "backgroundcolor": "#E5ECF6",
            "gridcolor": "white",
            "gridwidth": 2,
            "linecolor": "white",
            "showbackground": true,
            "ticks": "",
            "zerolinecolor": "white"
           },
           "zaxis": {
            "backgroundcolor": "#E5ECF6",
            "gridcolor": "white",
            "gridwidth": 2,
            "linecolor": "white",
            "showbackground": true,
            "ticks": "",
            "zerolinecolor": "white"
           }
          },
          "shapedefaults": {
           "line": {
            "color": "#2a3f5f"
           }
          },
          "ternary": {
           "aaxis": {
            "gridcolor": "white",
            "linecolor": "white",
            "ticks": ""
           },
           "baxis": {
            "gridcolor": "white",
            "linecolor": "white",
            "ticks": ""
           },
           "bgcolor": "#E5ECF6",
           "caxis": {
            "gridcolor": "white",
            "linecolor": "white",
            "ticks": ""
           }
          },
          "title": {
           "x": 0.05
          },
          "xaxis": {
           "automargin": true,
           "gridcolor": "white",
           "linecolor": "white",
           "ticks": "",
           "title": {
            "standoff": 15
           },
           "zerolinecolor": "white",
           "zerolinewidth": 2
          },
          "yaxis": {
           "automargin": true,
           "gridcolor": "white",
           "linecolor": "white",
           "ticks": "",
           "title": {
            "standoff": 15
           },
           "zerolinecolor": "white",
           "zerolinewidth": 2
          }
         }
        }
       }
      },
      "text/html": [
       "<div>                            <div id=\"eea0cc8c-26ec-4d85-b9d5-7584d421914c\" class=\"plotly-graph-div\" style=\"height:525px; width:100%;\"></div>            <script type=\"text/javascript\">                require([\"plotly\"], function(Plotly) {                    window.PLOTLYENV=window.PLOTLYENV || {};                                    if (document.getElementById(\"eea0cc8c-26ec-4d85-b9d5-7584d421914c\")) {                    Plotly.newPlot(                        \"eea0cc8c-26ec-4d85-b9d5-7584d421914c\",                        [{\"hovertemplate\":\"color=b<br>x=%{x}<br>y=%{y}<br>z=%{z}<extra></extra>\",\"legendgroup\":\"b\",\"line\":{\"color\":\"#EF553B\",\"dash\":\"solid\"},\"marker\":{\"symbol\":\"circle\"},\"mode\":\"lines\",\"name\":\"b\",\"scene\":\"scene\",\"showlegend\":true,\"x\":[0.8538785674370601,1.0694094534577345,1.4367647435483384,1.0007887647435807],\"y\":[-1.3253852984766619,-1.493676655813857,-1.94167918189387,-1.6764702315446627],\"z\":[458804.3358301647,458812.7722047355,457978.1943606451,458780.8891626676],\"type\":\"scatter3d\"},{\"hovertemplate\":\"x=%{x}<br>y=%{y}<br>z=%{z}<extra></extra>\",\"legendgroup\":\"\",\"line\":{\"color\":\"#636efa\",\"dash\":\"solid\"},\"marker\":{\"symbol\":\"circle\"},\"mode\":\"lines\",\"name\":\"\",\"scene\":\"scene\",\"showlegend\":false,\"x\":[0.8538785674370601,0.9028486332059007,0.9518186989747407,1.0007887647435807],\"y\":[-1.3253852984766619,-1.4424136094993283,-1.559441920521996,-1.6764702315446627],\"z\":[458804.3358301647,455082.2664616831,455071.88631429255,458780.8891626676],\"type\":\"scatter3d\"},{\"x\":[2.2820009982709624,2.382000998270962,2.482000998270962,2.582000998270962,2.6820009982709623,2.7820009982709624,2.882000998270962,2.982000998270962,3.082000998270962,3.1820009982709623,3.282000998270962],\"y\":[-5.0027832950319855,-4.902783295031986,-4.802783295031986,-4.702783295031986,-4.602783295031986,-4.502783295031986,-4.402783295031986,-4.302783295031986,-4.202783295031986,-4.102783295031986,-4.002783295031986],\"z\":[[451875.11847957777,452581.70150026056,453079.94931640796,453416.72613271466,453616.4658901354,453691.5583229924,453645.8202566358,453475.15478827973,453166.6341638883,452694.55047968973,452007.8840609394],[452485.3809507992,453122.9654751542,453579.35590001603,453890.530359753,454076.4383776935,454147.5039204971,454106.9901690028,453951.43766775733,453670.1015544602,453242.3129958638,452630.5390847259],[452916.40647540905,453510.8479205278,453940.00006841397,454234.1544250138,454410.8428458419,454479.2626897123,454442.38374730333,454297.142344459,454034.11732816405,453635.3416284427,453069.53678578645],[453204.74292266445,453772.41469981713,454184.31750163937,454467.695186132,454638.5219107782,454705.3438368861,454670.9383558772,454532.5439101726,454281.48159079644,453901.35970316926,453364.271368569],[453370.08511708013,453923.1670800957,454325.65609578474,454603.18182060827,454770.94311367034,454837.03608942876,454804.1983519141,454669.904154192,454425.84214329434,454056.4695833797,453535.57926712226],[453422.37833210366,453971.1276576517,454370.9899045535,454647.04353050777,454814.2280841965,454880.4584499661,454848.4576305952,454715.9331615079,454474.5803494322,454109.1572873382,453594.0661757455],[453364.57833001856,453918.7473298431,454322.4606317172,454601.19811127754,454770.131958609,454837.4143108283,454805.734642747,454672.6731304628,454429.9301201781,454062.07077131927,453543.11931892054],[453192.92021006113,453762.91173764167,454177.3564552686,454463.2442997642,454636.53338935087,454705.81760473776,454673.8185035388,454537.96135729906,454289.6721224839,453912.7739165659,453379.83342080325],[452896.0349846612,453494.5315387118,453927.9358362287,454226.2147261102,454406.8511834062,454479.2010651884,454446.17079701246,454305.00291863456,454046.40788830625,453652.8684594608,453093.9550602101],[452451.2107392767,453096.3218698686,453559.64930335,453877.0877924093,454068.9141255141,454145.7322266798,454110.874612233,453961.257114565,453686.51106412354,453266.4821956108,452664.9120512471],[451798.9449034328,452535.65339123225,453047.1152345033,453393.95492514933,453602.5280828437,453685.9155733607,453648.27267829486,453486.06979687914,453186.9640851894,452725.86134327,452040.98420801375]],\"type\":\"surface\"}],                        {\"template\":{\"data\":{\"histogram2dcontour\":[{\"type\":\"histogram2dcontour\",\"colorbar\":{\"outlinewidth\":0,\"ticks\":\"\"},\"colorscale\":[[0.0,\"#0d0887\"],[0.1111111111111111,\"#46039f\"],[0.2222222222222222,\"#7201a8\"],[0.3333333333333333,\"#9c179e\"],[0.4444444444444444,\"#bd3786\"],[0.5555555555555556,\"#d8576b\"],[0.6666666666666666,\"#ed7953\"],[0.7777777777777778,\"#fb9f3a\"],[0.8888888888888888,\"#fdca26\"],[1.0,\"#f0f921\"]]}],\"choropleth\":[{\"type\":\"choropleth\",\"colorbar\":{\"outlinewidth\":0,\"ticks\":\"\"}}],\"histogram2d\":[{\"type\":\"histogram2d\",\"colorbar\":{\"outlinewidth\":0,\"ticks\":\"\"},\"colorscale\":[[0.0,\"#0d0887\"],[0.1111111111111111,\"#46039f\"],[0.2222222222222222,\"#7201a8\"],[0.3333333333333333,\"#9c179e\"],[0.4444444444444444,\"#bd3786\"],[0.5555555555555556,\"#d8576b\"],[0.6666666666666666,\"#ed7953\"],[0.7777777777777778,\"#fb9f3a\"],[0.8888888888888888,\"#fdca26\"],[1.0,\"#f0f921\"]]}],\"heatmap\":[{\"type\":\"heatmap\",\"colorbar\":{\"outlinewidth\":0,\"ticks\":\"\"},\"colorscale\":[[0.0,\"#0d0887\"],[0.1111111111111111,\"#46039f\"],[0.2222222222222222,\"#7201a8\"],[0.3333333333333333,\"#9c179e\"],[0.4444444444444444,\"#bd3786\"],[0.5555555555555556,\"#d8576b\"],[0.6666666666666666,\"#ed7953\"],[0.7777777777777778,\"#fb9f3a\"],[0.8888888888888888,\"#fdca26\"],[1.0,\"#f0f921\"]]}],\"heatmapgl\":[{\"type\":\"heatmapgl\",\"colorbar\":{\"outlinewidth\":0,\"ticks\":\"\"},\"colorscale\":[[0.0,\"#0d0887\"],[0.1111111111111111,\"#46039f\"],[0.2222222222222222,\"#7201a8\"],[0.3333333333333333,\"#9c179e\"],[0.4444444444444444,\"#bd3786\"],[0.5555555555555556,\"#d8576b\"],[0.6666666666666666,\"#ed7953\"],[0.7777777777777778,\"#fb9f3a\"],[0.8888888888888888,\"#fdca26\"],[1.0,\"#f0f921\"]]}],\"contourcarpet\":[{\"type\":\"contourcarpet\",\"colorbar\":{\"outlinewidth\":0,\"ticks\":\"\"}}],\"contour\":[{\"type\":\"contour\",\"colorbar\":{\"outlinewidth\":0,\"ticks\":\"\"},\"colorscale\":[[0.0,\"#0d0887\"],[0.1111111111111111,\"#46039f\"],[0.2222222222222222,\"#7201a8\"],[0.3333333333333333,\"#9c179e\"],[0.4444444444444444,\"#bd3786\"],[0.5555555555555556,\"#d8576b\"],[0.6666666666666666,\"#ed7953\"],[0.7777777777777778,\"#fb9f3a\"],[0.8888888888888888,\"#fdca26\"],[1.0,\"#f0f921\"]]}],\"surface\":[{\"type\":\"surface\",\"colorbar\":{\"outlinewidth\":0,\"ticks\":\"\"},\"colorscale\":[[0.0,\"#0d0887\"],[0.1111111111111111,\"#46039f\"],[0.2222222222222222,\"#7201a8\"],[0.3333333333333333,\"#9c179e\"],[0.4444444444444444,\"#bd3786\"],[0.5555555555555556,\"#d8576b\"],[0.6666666666666666,\"#ed7953\"],[0.7777777777777778,\"#fb9f3a\"],[0.8888888888888888,\"#fdca26\"],[1.0,\"#f0f921\"]]}],\"mesh3d\":[{\"type\":\"mesh3d\",\"colorbar\":{\"outlinewidth\":0,\"ticks\":\"\"}}],\"scatter\":[{\"fillpattern\":{\"fillmode\":\"overlay\",\"size\":10,\"solidity\":0.2},\"type\":\"scatter\"}],\"parcoords\":[{\"type\":\"parcoords\",\"line\":{\"colorbar\":{\"outlinewidth\":0,\"ticks\":\"\"}}}],\"scatterpolargl\":[{\"type\":\"scatterpolargl\",\"marker\":{\"colorbar\":{\"outlinewidth\":0,\"ticks\":\"\"}}}],\"bar\":[{\"error_x\":{\"color\":\"#2a3f5f\"},\"error_y\":{\"color\":\"#2a3f5f\"},\"marker\":{\"line\":{\"color\":\"#E5ECF6\",\"width\":0.5},\"pattern\":{\"fillmode\":\"overlay\",\"size\":10,\"solidity\":0.2}},\"type\":\"bar\"}],\"scattergeo\":[{\"type\":\"scattergeo\",\"marker\":{\"colorbar\":{\"outlinewidth\":0,\"ticks\":\"\"}}}],\"scatterpolar\":[{\"type\":\"scatterpolar\",\"marker\":{\"colorbar\":{\"outlinewidth\":0,\"ticks\":\"\"}}}],\"histogram\":[{\"marker\":{\"pattern\":{\"fillmode\":\"overlay\",\"size\":10,\"solidity\":0.2}},\"type\":\"histogram\"}],\"scattergl\":[{\"type\":\"scattergl\",\"marker\":{\"colorbar\":{\"outlinewidth\":0,\"ticks\":\"\"}}}],\"scatter3d\":[{\"type\":\"scatter3d\",\"line\":{\"colorbar\":{\"outlinewidth\":0,\"ticks\":\"\"}},\"marker\":{\"colorbar\":{\"outlinewidth\":0,\"ticks\":\"\"}}}],\"scattermapbox\":[{\"type\":\"scattermapbox\",\"marker\":{\"colorbar\":{\"outlinewidth\":0,\"ticks\":\"\"}}}],\"scatterternary\":[{\"type\":\"scatterternary\",\"marker\":{\"colorbar\":{\"outlinewidth\":0,\"ticks\":\"\"}}}],\"scattercarpet\":[{\"type\":\"scattercarpet\",\"marker\":{\"colorbar\":{\"outlinewidth\":0,\"ticks\":\"\"}}}],\"carpet\":[{\"aaxis\":{\"endlinecolor\":\"#2a3f5f\",\"gridcolor\":\"white\",\"linecolor\":\"white\",\"minorgridcolor\":\"white\",\"startlinecolor\":\"#2a3f5f\"},\"baxis\":{\"endlinecolor\":\"#2a3f5f\",\"gridcolor\":\"white\",\"linecolor\":\"white\",\"minorgridcolor\":\"white\",\"startlinecolor\":\"#2a3f5f\"},\"type\":\"carpet\"}],\"table\":[{\"cells\":{\"fill\":{\"color\":\"#EBF0F8\"},\"line\":{\"color\":\"white\"}},\"header\":{\"fill\":{\"color\":\"#C8D4E3\"},\"line\":{\"color\":\"white\"}},\"type\":\"table\"}],\"barpolar\":[{\"marker\":{\"line\":{\"color\":\"#E5ECF6\",\"width\":0.5},\"pattern\":{\"fillmode\":\"overlay\",\"size\":10,\"solidity\":0.2}},\"type\":\"barpolar\"}],\"pie\":[{\"automargin\":true,\"type\":\"pie\"}]},\"layout\":{\"autotypenumbers\":\"strict\",\"colorway\":[\"#636efa\",\"#EF553B\",\"#00cc96\",\"#ab63fa\",\"#FFA15A\",\"#19d3f3\",\"#FF6692\",\"#B6E880\",\"#FF97FF\",\"#FECB52\"],\"font\":{\"color\":\"#2a3f5f\"},\"hovermode\":\"closest\",\"hoverlabel\":{\"align\":\"left\"},\"paper_bgcolor\":\"white\",\"plot_bgcolor\":\"#E5ECF6\",\"polar\":{\"bgcolor\":\"#E5ECF6\",\"angularaxis\":{\"gridcolor\":\"white\",\"linecolor\":\"white\",\"ticks\":\"\"},\"radialaxis\":{\"gridcolor\":\"white\",\"linecolor\":\"white\",\"ticks\":\"\"}},\"ternary\":{\"bgcolor\":\"#E5ECF6\",\"aaxis\":{\"gridcolor\":\"white\",\"linecolor\":\"white\",\"ticks\":\"\"},\"baxis\":{\"gridcolor\":\"white\",\"linecolor\":\"white\",\"ticks\":\"\"},\"caxis\":{\"gridcolor\":\"white\",\"linecolor\":\"white\",\"ticks\":\"\"}},\"coloraxis\":{\"colorbar\":{\"outlinewidth\":0,\"ticks\":\"\"}},\"colorscale\":{\"sequential\":[[0.0,\"#0d0887\"],[0.1111111111111111,\"#46039f\"],[0.2222222222222222,\"#7201a8\"],[0.3333333333333333,\"#9c179e\"],[0.4444444444444444,\"#bd3786\"],[0.5555555555555556,\"#d8576b\"],[0.6666666666666666,\"#ed7953\"],[0.7777777777777778,\"#fb9f3a\"],[0.8888888888888888,\"#fdca26\"],[1.0,\"#f0f921\"]],\"sequentialminus\":[[0.0,\"#0d0887\"],[0.1111111111111111,\"#46039f\"],[0.2222222222222222,\"#7201a8\"],[0.3333333333333333,\"#9c179e\"],[0.4444444444444444,\"#bd3786\"],[0.5555555555555556,\"#d8576b\"],[0.6666666666666666,\"#ed7953\"],[0.7777777777777778,\"#fb9f3a\"],[0.8888888888888888,\"#fdca26\"],[1.0,\"#f0f921\"]],\"diverging\":[[0,\"#8e0152\"],[0.1,\"#c51b7d\"],[0.2,\"#de77ae\"],[0.3,\"#f1b6da\"],[0.4,\"#fde0ef\"],[0.5,\"#f7f7f7\"],[0.6,\"#e6f5d0\"],[0.7,\"#b8e186\"],[0.8,\"#7fbc41\"],[0.9,\"#4d9221\"],[1,\"#276419\"]]},\"xaxis\":{\"gridcolor\":\"white\",\"linecolor\":\"white\",\"ticks\":\"\",\"title\":{\"standoff\":15},\"zerolinecolor\":\"white\",\"automargin\":true,\"zerolinewidth\":2},\"yaxis\":{\"gridcolor\":\"white\",\"linecolor\":\"white\",\"ticks\":\"\",\"title\":{\"standoff\":15},\"zerolinecolor\":\"white\",\"automargin\":true,\"zerolinewidth\":2},\"scene\":{\"xaxis\":{\"backgroundcolor\":\"#E5ECF6\",\"gridcolor\":\"white\",\"linecolor\":\"white\",\"showbackground\":true,\"ticks\":\"\",\"zerolinecolor\":\"white\",\"gridwidth\":2},\"yaxis\":{\"backgroundcolor\":\"#E5ECF6\",\"gridcolor\":\"white\",\"linecolor\":\"white\",\"showbackground\":true,\"ticks\":\"\",\"zerolinecolor\":\"white\",\"gridwidth\":2},\"zaxis\":{\"backgroundcolor\":\"#E5ECF6\",\"gridcolor\":\"white\",\"linecolor\":\"white\",\"showbackground\":true,\"ticks\":\"\",\"zerolinecolor\":\"white\",\"gridwidth\":2}},\"shapedefaults\":{\"line\":{\"color\":\"#2a3f5f\"}},\"annotationdefaults\":{\"arrowcolor\":\"#2a3f5f\",\"arrowhead\":0,\"arrowwidth\":1},\"geo\":{\"bgcolor\":\"white\",\"landcolor\":\"#E5ECF6\",\"subunitcolor\":\"white\",\"showland\":true,\"showlakes\":true,\"lakecolor\":\"white\"},\"title\":{\"x\":0.05},\"mapbox\":{\"style\":\"light\"}}}},                        {\"responsive\": true}                    ).then(function(){\n",
       "                            \n",
       "var gd = document.getElementById('eea0cc8c-26ec-4d85-b9d5-7584d421914c');\n",
       "var x = new MutationObserver(function (mutations, observer) {{\n",
       "        var display = window.getComputedStyle(gd).display;\n",
       "        if (!display || display === 'none') {{\n",
       "            console.log([gd, 'removed!']);\n",
       "            Plotly.purge(gd);\n",
       "            observer.disconnect();\n",
       "        }}\n",
       "}});\n",
       "\n",
       "// Listen for the removal of the full notebook cells\n",
       "var notebookContainer = gd.closest('#notebook-container');\n",
       "if (notebookContainer) {{\n",
       "    x.observe(notebookContainer, {childList: true});\n",
       "}}\n",
       "\n",
       "// Listen for the clearing of the current output cell\n",
       "var outputEl = gd.closest('.output');\n",
       "if (outputEl) {{\n",
       "    x.observe(outputEl, {childList: true});\n",
       "}}\n",
       "\n",
       "                        })                };                });            </script>        </div>"
      ]
     },
     "metadata": {},
     "output_type": "display_data"
    }
   ],
   "source": [
    "import plotly.express as px\n",
    "import pandas as pd\n",
    "import plotly.graph_objects as go\n",
    "\n",
    "x = x_list\n",
    "y = y_list\n",
    "z = total_ELBO_list[-1]\n",
    "color1=[\"b\" for i in range(len(x_list))]\n",
    "df = pd.DataFrame({\"x\": x, \"y\":y, \"z\":z, \"color\":color1})\n",
    "\n",
    "fig1 = px.line_3d(df, x=\"x\", y=\"y\", z=\"z\", color=\"color\" ,color_discrete_map={ \"a\": \"RebeccaPurple\"})\n",
    "\n",
    "x2 = init_x\n",
    "y2 = init_y\n",
    "z2 = elbo_init\n",
    "df = pd.DataFrame({\"x\": x2, \"y\":y2, \"z\":z2})\n",
    "\n",
    "fig2 = px.line_3d(df, x=\"x\", y=\"y\", z=\"z\")\n",
    "\n",
    "fig3 = go.Figure(data=[go.Surface(x=h_list, y=v_list, z=loss_surface)])\n",
    "\n",
    "fig = go.Figure(data = fig1.data + fig2.data +fig3.data)\n",
    "fig.show()"
   ]
  },
  {
   "cell_type": "code",
   "execution_count": 379,
   "metadata": {},
   "outputs": [
    {
     "data": {
      "text/plain": [
       "array([-1.3253853 , -1.44241361, -1.55944192, -1.67647023])"
      ]
     },
     "execution_count": 379,
     "metadata": {},
     "output_type": "execute_result"
    }
   ],
   "source": [
    "init_y"
   ]
  },
  {
   "cell_type": "markdown",
   "metadata": {
    "id": "BdVPyys37bn-"
   },
   "source": [
    "### out of sample performance\n"
   ]
  },
  {
   "cell_type": "code",
   "execution_count": 360,
   "metadata": {},
   "outputs": [
    {
     "name": "stderr",
     "output_type": "stream",
     "text": [
      "/var/folders/mw/9bfg1rf52g57tm0mgxqjy4gm0000gn/T/ipykernel_55007/2775555696.py:22: DeprecationWarning:\n",
      "\n",
      "`np.int` is a deprecated alias for the builtin `int`. To silence this warning, use `int` by itself. Doing this will not modify any behavior and is safe. When replacing `np.int`, you may wish to use e.g. `np.int64` or `np.int32` to specify the precision. If you wish to review your current use, check the release note link for additional information.\n",
      "Deprecated in NumPy 1.20; for more details and guidance: https://numpy.org/devdocs/release/1.20.0-notes.html#deprecations\n",
      "\n"
     ]
    },
    {
     "name": "stdout",
     "output_type": "stream",
     "text": [
      "Loading index-to-word mapping...\n",
      "Loading article bag-of-word representations...\n",
      "2246 articles found.\n"
     ]
    },
    {
     "name": "stderr",
     "output_type": "stream",
     "text": [
      "100%|████████████████████████████████████| 2246/2246 [00:00<00:00, 15944.23it/s]\n"
     ]
    }
   ],
   "source": [
    "idx_to_words, articles, nonzero_idxs = load_data(BOW_PATH,VOCAB_PATH, trim = 1)\n",
    "test_articles = articles[-100:]\n",
    "test_nonzero_idxs = nonzero_idxs[-100:]"
   ]
  },
  {
   "cell_type": "code",
   "execution_count": 362,
   "metadata": {
    "scrolled": true
   },
   "outputs": [
    {
     "ename": "IndexError",
     "evalue": "index 12 is out of bounds for axis 0 with size 12",
     "output_type": "error",
     "traceback": [
      "\u001b[0;31m---------------------------------------------------------------------------\u001b[0m",
      "\u001b[0;31mIndexError\u001b[0m                                Traceback (most recent call last)",
      "Cell \u001b[0;32mIn [362], line 6\u001b[0m\n\u001b[1;32m      4\u001b[0m \u001b[38;5;28;01mfor\u001b[39;00m p \u001b[38;5;129;01min\u001b[39;00m p_list:\n\u001b[1;32m      5\u001b[0m     LAMBDA, GAMMA, PHI \u001b[38;5;241m=\u001b[39m p\n\u001b[0;32m----> 6\u001b[0m     Out_score\u001b[38;5;241m.\u001b[39mappend(compute_pred_score(LAMBDA, GAMMA, PHI, test_articles, test_nonzero_idxs, test_word_idxs))\n\u001b[1;32m      7\u001b[0m score_his\u001b[38;5;241m.\u001b[39mappend(copy\u001b[38;5;241m.\u001b[39mdeepcopy(Out_score))\n",
      "Cell \u001b[0;32mIn [85], line 336\u001b[0m, in \u001b[0;36mcompute_pred_score\u001b[0;34m(LAMBDA, GAMMA, PHI, test_articles, test_nonzero_idxs, test_word_idxs)\u001b[0m\n\u001b[1;32m    333\u001b[0m THETA \u001b[38;5;241m=\u001b[39m np\u001b[38;5;241m.\u001b[39mzeros((N,C))\n\u001b[1;32m    335\u001b[0m \u001b[38;5;28;01mfor\u001b[39;00m i \u001b[38;5;129;01min\u001b[39;00m \u001b[38;5;28mrange\u001b[39m(N):\n\u001b[0;32m--> 336\u001b[0m     THETA[i] \u001b[38;5;241m=\u001b[39m \u001b[43mGAMMA\u001b[49m\u001b[43m[\u001b[49m\u001b[43mi\u001b[49m\u001b[43m]\u001b[49m \u001b[38;5;241m/\u001b[39m np\u001b[38;5;241m.\u001b[39msum(GAMMA[i])\n\u001b[1;32m    338\u001b[0m \u001b[38;5;66;03m# Compute predictive likelihood\u001b[39;00m\n\u001b[1;32m    339\u001b[0m \u001b[38;5;28mprint\u001b[39m(\u001b[38;5;124m'\u001b[39m\u001b[38;5;124mComputing predictive likelihood score on held out documents...\u001b[39m\u001b[38;5;124m'\u001b[39m)\n",
      "\u001b[0;31mIndexError\u001b[0m: index 12 is out of bounds for axis 0 with size 12"
     ]
    }
   ],
   "source": [
    "score_his = []\n",
    "for p_list in His:\n",
    "    Out_score = []\n",
    "    for p in p_list:\n",
    "        LAMBDA, GAMMA, PHI = p\n",
    "        Out_score.append(compute_pred_score(LAMBDA, GAMMA, PHI, test_articles, test_nonzero_idxs, test_word_idxs))\n",
    "    score_his.append(copy.deepcopy(Out_score))"
   ]
  },
  {
   "cell_type": "code",
   "execution_count": 257,
   "metadata": {},
   "outputs": [
    {
     "data": {
      "image/png": "[encoded data removed]",
      "text/plain": [
       "<Figure size 640x480 with 1 Axes>"
      ]
     },
     "metadata": {},
     "output_type": "display_data"
    }
   ],
   "source": [
    "for i in range(len(score_his)):\n",
    "    if i % 10 == 0:\n",
    "        plt.plot(score_his[i], label = 'iteration{}'.format(i)) \n",
    "plt.plot(score_his[-1], label = 'final')\n",
    "\n",
    "plt.xlabel(\"MEP point\") \n",
    "plt.ylabel(\"score\")\n",
    "plt.title('predictive likelihood score')\n",
    "plt.legend()\n",
    "\n",
    "plt.savefig(PATH + '/Result/pred_score_test1', dpi=600, facecolor='w', transparent=True)"
   ]
  },
  {
   "cell_type": "code",
   "execution_count": null,
   "metadata": {},
   "outputs": [],
   "source": []
  }
 ],
 "metadata": {
  "colab": {
   "collapsed_sections": [
    "O8nR1MGJ80av",
    "rSpRi6VO-gDP"
   ],
   "provenance": []
  },
  "kernelspec": {
   "display_name": "Python 3 (ipykernel)",
   "language": "python",
   "name": "python3"
  },
  "language_info": {
   "codemirror_mode": {
    "name": "ipython",
    "version": 3
   },
   "file_extension": ".py",
   "mimetype": "text/x-python",
   "name": "python",
   "nbconvert_exporter": "python",
   "pygments_lexer": "ipython3",
   "version": "3.10.6"
  }
 },
 "nbformat": 4,
 "nbformat_minor": 1
}
